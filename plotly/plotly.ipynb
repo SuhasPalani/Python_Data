{
 "cells": [
  {
   "cell_type": "code",
   "execution_count": 46,
   "id": "9f2dd134",
   "metadata": {},
   "outputs": [],
   "source": [
    "import numpy as np\n",
    "import pandas as pd\n",
    "from plotly import __version__\n",
    "import chart_studio.plotly as py\n",
    "%matplotlib inline"
   ]
  },
  {
   "cell_type": "code",
   "execution_count": 47,
   "id": "188725f3",
   "metadata": {},
   "outputs": [
    {
     "name": "stdout",
     "output_type": "stream",
     "text": [
      "5.9.0\n"
     ]
    }
   ],
   "source": [
    "print(__version__)"
   ]
  },
  {
   "cell_type": "code",
   "execution_count": 48,
   "id": "20a9192e",
   "metadata": {},
   "outputs": [],
   "source": [
    "import cufflinks as cf"
   ]
  },
  {
   "cell_type": "code",
   "execution_count": 49,
   "id": "ba86536e",
   "metadata": {},
   "outputs": [],
   "source": [
    "from plotly.offline import download_plotlyjs,init_notebook_mode,iplot"
   ]
  },
  {
   "cell_type": "code",
   "execution_count": 50,
   "id": "60c40bec",
   "metadata": {},
   "outputs": [
    {
     "data": {
      "text/html": [
       "        <script type=\"text/javascript\">\n",
       "        window.PlotlyConfig = {MathJaxConfig: 'local'};\n",
       "        if (window.MathJax && window.MathJax.Hub && window.MathJax.Hub.Config) {window.MathJax.Hub.Config({SVG: {font: \"STIX-Web\"}});}\n",
       "        if (typeof require !== 'undefined') {\n",
       "        require.undef(\"plotly\");\n",
       "        requirejs.config({\n",
       "            paths: {\n",
       "                'plotly': ['https://cdn.plot.ly/plotly-2.12.1.min']\n",
       "            }\n",
       "        });\n",
       "        require(['plotly'], function(Plotly) {\n",
       "            window._Plotly = Plotly;\n",
       "        });\n",
       "        }\n",
       "        </script>\n",
       "        "
      ]
     },
     "metadata": {},
     "output_type": "display_data"
    }
   ],
   "source": [
    "init_notebook_mode(connected=True)"
   ]
  },
  {
   "cell_type": "code",
   "execution_count": 51,
   "id": "89fe64c3",
   "metadata": {},
   "outputs": [
    {
     "data": {
      "text/html": [
       "        <script type=\"text/javascript\">\n",
       "        window.PlotlyConfig = {MathJaxConfig: 'local'};\n",
       "        if (window.MathJax && window.MathJax.Hub && window.MathJax.Hub.Config) {window.MathJax.Hub.Config({SVG: {font: \"STIX-Web\"}});}\n",
       "        if (typeof require !== 'undefined') {\n",
       "        require.undef(\"plotly\");\n",
       "        requirejs.config({\n",
       "            paths: {\n",
       "                'plotly': ['https://cdn.plot.ly/plotly-2.12.1.min']\n",
       "            }\n",
       "        });\n",
       "        require(['plotly'], function(Plotly) {\n",
       "            window._Plotly = Plotly;\n",
       "        });\n",
       "        }\n",
       "        </script>\n",
       "        "
      ]
     },
     "metadata": {},
     "output_type": "display_data"
    }
   ],
   "source": [
    "cf.go_offline()"
   ]
  },
  {
   "cell_type": "code",
   "execution_count": 52,
   "id": "a9f08dbd",
   "metadata": {},
   "outputs": [],
   "source": [
    "# data\n",
    "\n",
    "df=pd.DataFrame(np.random.randn(100,4),columns='A B C D'.split())"
   ]
  },
  {
   "cell_type": "code",
   "execution_count": 53,
   "id": "18f2d2fe",
   "metadata": {},
   "outputs": [
    {
     "data": {
      "text/html": [
       "<div>\n",
       "<style scoped>\n",
       "    .dataframe tbody tr th:only-of-type {\n",
       "        vertical-align: middle;\n",
       "    }\n",
       "\n",
       "    .dataframe tbody tr th {\n",
       "        vertical-align: top;\n",
       "    }\n",
       "\n",
       "    .dataframe thead th {\n",
       "        text-align: right;\n",
       "    }\n",
       "</style>\n",
       "<table border=\"1\" class=\"dataframe\">\n",
       "  <thead>\n",
       "    <tr style=\"text-align: right;\">\n",
       "      <th></th>\n",
       "      <th>A</th>\n",
       "      <th>B</th>\n",
       "      <th>C</th>\n",
       "      <th>D</th>\n",
       "    </tr>\n",
       "  </thead>\n",
       "  <tbody>\n",
       "    <tr>\n",
       "      <th>0</th>\n",
       "      <td>1.618534</td>\n",
       "      <td>0.245557</td>\n",
       "      <td>-0.764482</td>\n",
       "      <td>0.274465</td>\n",
       "    </tr>\n",
       "    <tr>\n",
       "      <th>1</th>\n",
       "      <td>1.184836</td>\n",
       "      <td>-0.563813</td>\n",
       "      <td>-0.166278</td>\n",
       "      <td>0.305052</td>\n",
       "    </tr>\n",
       "    <tr>\n",
       "      <th>2</th>\n",
       "      <td>1.067627</td>\n",
       "      <td>0.158380</td>\n",
       "      <td>0.476738</td>\n",
       "      <td>0.955284</td>\n",
       "    </tr>\n",
       "    <tr>\n",
       "      <th>3</th>\n",
       "      <td>0.628958</td>\n",
       "      <td>0.025965</td>\n",
       "      <td>1.493643</td>\n",
       "      <td>-1.587736</td>\n",
       "    </tr>\n",
       "    <tr>\n",
       "      <th>4</th>\n",
       "      <td>-0.073172</td>\n",
       "      <td>1.026169</td>\n",
       "      <td>-0.225431</td>\n",
       "      <td>-1.982967</td>\n",
       "    </tr>\n",
       "    <tr>\n",
       "      <th>...</th>\n",
       "      <td>...</td>\n",
       "      <td>...</td>\n",
       "      <td>...</td>\n",
       "      <td>...</td>\n",
       "    </tr>\n",
       "    <tr>\n",
       "      <th>95</th>\n",
       "      <td>2.391248</td>\n",
       "      <td>-0.036919</td>\n",
       "      <td>-0.641119</td>\n",
       "      <td>0.095864</td>\n",
       "    </tr>\n",
       "    <tr>\n",
       "      <th>96</th>\n",
       "      <td>-0.035926</td>\n",
       "      <td>0.487317</td>\n",
       "      <td>0.112251</td>\n",
       "      <td>0.574974</td>\n",
       "    </tr>\n",
       "    <tr>\n",
       "      <th>97</th>\n",
       "      <td>0.399335</td>\n",
       "      <td>0.202822</td>\n",
       "      <td>-0.316104</td>\n",
       "      <td>0.262977</td>\n",
       "    </tr>\n",
       "    <tr>\n",
       "      <th>98</th>\n",
       "      <td>0.504155</td>\n",
       "      <td>-0.092454</td>\n",
       "      <td>0.361343</td>\n",
       "      <td>1.459671</td>\n",
       "    </tr>\n",
       "    <tr>\n",
       "      <th>99</th>\n",
       "      <td>-2.453179</td>\n",
       "      <td>-1.719684</td>\n",
       "      <td>1.064898</td>\n",
       "      <td>0.563817</td>\n",
       "    </tr>\n",
       "  </tbody>\n",
       "</table>\n",
       "<p>100 rows × 4 columns</p>\n",
       "</div>"
      ],
      "text/plain": [
       "           A         B         C         D\n",
       "0   1.618534  0.245557 -0.764482  0.274465\n",
       "1   1.184836 -0.563813 -0.166278  0.305052\n",
       "2   1.067627  0.158380  0.476738  0.955284\n",
       "3   0.628958  0.025965  1.493643 -1.587736\n",
       "4  -0.073172  1.026169 -0.225431 -1.982967\n",
       "..       ...       ...       ...       ...\n",
       "95  2.391248 -0.036919 -0.641119  0.095864\n",
       "96 -0.035926  0.487317  0.112251  0.574974\n",
       "97  0.399335  0.202822 -0.316104  0.262977\n",
       "98  0.504155 -0.092454  0.361343  1.459671\n",
       "99 -2.453179 -1.719684  1.064898  0.563817\n",
       "\n",
       "[100 rows x 4 columns]"
      ]
     },
     "execution_count": 53,
     "metadata": {},
     "output_type": "execute_result"
    }
   ],
   "source": [
    "df"
   ]
  },
  {
   "cell_type": "code",
   "execution_count": 54,
   "id": "b2d2dc70",
   "metadata": {},
   "outputs": [],
   "source": [
    "df2=pd.DataFrame({'Category':['A','B','C'],'Values':[32,43,50]})"
   ]
  },
  {
   "cell_type": "code",
   "execution_count": 55,
   "id": "9603d09f",
   "metadata": {},
   "outputs": [
    {
     "data": {
      "text/html": [
       "<div>\n",
       "<style scoped>\n",
       "    .dataframe tbody tr th:only-of-type {\n",
       "        vertical-align: middle;\n",
       "    }\n",
       "\n",
       "    .dataframe tbody tr th {\n",
       "        vertical-align: top;\n",
       "    }\n",
       "\n",
       "    .dataframe thead th {\n",
       "        text-align: right;\n",
       "    }\n",
       "</style>\n",
       "<table border=\"1\" class=\"dataframe\">\n",
       "  <thead>\n",
       "    <tr style=\"text-align: right;\">\n",
       "      <th></th>\n",
       "      <th>Category</th>\n",
       "      <th>Values</th>\n",
       "    </tr>\n",
       "  </thead>\n",
       "  <tbody>\n",
       "    <tr>\n",
       "      <th>0</th>\n",
       "      <td>A</td>\n",
       "      <td>32</td>\n",
       "    </tr>\n",
       "    <tr>\n",
       "      <th>1</th>\n",
       "      <td>B</td>\n",
       "      <td>43</td>\n",
       "    </tr>\n",
       "    <tr>\n",
       "      <th>2</th>\n",
       "      <td>C</td>\n",
       "      <td>50</td>\n",
       "    </tr>\n",
       "  </tbody>\n",
       "</table>\n",
       "</div>"
      ],
      "text/plain": [
       "  Category  Values\n",
       "0        A      32\n",
       "1        B      43\n",
       "2        C      50"
      ]
     },
     "execution_count": 55,
     "metadata": {},
     "output_type": "execute_result"
    }
   ],
   "source": [
    "df2"
   ]
  },
  {
   "cell_type": "code",
   "execution_count": 56,
   "id": "4c8c06f0",
   "metadata": {},
   "outputs": [
    {
     "data": {
      "text/plain": [
       "<Axes: >"
      ]
     },
     "execution_count": 56,
     "metadata": {},
     "output_type": "execute_result"
    },
    {
     "data": {
      "image/png": "[encoded data removed]",
      "text/plain": [
       "<Figure size 640x480 with 1 Axes>"
      ]
     },
     "metadata": {},
     "output_type": "display_data"
    }
   ],
   "source": [
    "df.plot()"
   ]
  },
  {
   "cell_type": "code",
   "execution_count": 57,
   "id": "cb547a3f",
   "metadata": {},
   "outputs": [
    {
     "data": {
      "application/vnd.plotly.v1+json": {
       "config": {
        "linkText": "Export to plot.ly",
        "plotlyServerURL": "https://plot.ly",
        "showLink": true
       },
       "data": [
        {
         "line": {
          "color": "rgba(255, 153, 51, 1.0)",
          "dash": "solid",
          "shape": "linear",
          "width": 1.3
         },
         "mode": "lines",
         "name": "A",
         "text": "",
         "type": "scatter",
         "x": [
          0,
          1,
          2,
          3,
          4,
          5,
          6,
          7,
          8,
          9,
          10,
          11,
          12,
          13,
          14,
          15,
          16,
          17,
          18,
          19,
          20,
          21,
          22,
          23,
          24,
          25,
          26,
          27,
          28,
          29,
          30,
          31,
          32,
          33,
          34,
          35,
          36,
          37,
          38,
          39,
          40,
          41,
          42,
          43,
          44,
          45,
          46,
          47,
          48,
          49,
          50,
          51,
          52,
          53,
          54,
          55,
          56,
          57,
          58,
          59,
          60,
          61,
          62,
          63,
          64,
          65,
          66,
          67,
          68,
          69,
          70,
          71,
          72,
          73,
          74,
          75,
          76,
          77,
          78,
          79,
          80,
          81,
          82,
          83,
          84,
          85,
          86,
          87,
          88,
          89,
          90,
          91,
          92,
          93,
          94,
          95,
          96,
          97,
          98,
          99
         ],
         "y": [
          1.6185342153503897,
          1.1848362441609444,
          1.0676265789711767,
          0.6289578176999444,
          -0.0731723746557524,
          -0.10349025747306093,
          -0.13828150425216726,
          0.8810902574734345,
          -0.5542620086053726,
          1.367655392604224,
          0.42159233908657434,
          -1.6600131400907159,
          -2.321880943758504,
          -0.14525715490075852,
          -1.4150329423246357,
          1.1902193781513097,
          0.032605182130966644,
          -1.1068654931550255,
          -0.4881710870419417,
          -1.0064654004665394,
          -1.4861349648044178,
          0.42126197939457344,
          0.2033513437481144,
          0.6780192171590568,
          2.2695601885039856,
          -1.0530794893148434,
          -0.7599582936020849,
          0.07479649981688027,
          -0.5004585006618902,
          -0.7069045792139065,
          -0.7490649048467005,
          -0.9573833622535074,
          0.3184903662704784,
          0.5232510497782804,
          -0.292920914056626,
          0.5526442907323154,
          0.28927758198705866,
          -0.9595308675629673,
          0.6624074725052688,
          -1.2675470861916667,
          -1.298518317282184,
          1.6505714308200703,
          0.7711743870399246,
          -0.10350465261086673,
          -0.9890595965375653,
          0.09060720967289916,
          -0.9664272965492815,
          1.7520110562695306,
          2.0598160276614736,
          -1.5398792263792436,
          0.14913323679684518,
          0.995048297495277,
          -0.8178015437731536,
          -1.1488188276104512,
          -1.2553879715068992,
          0.702144807401087,
          -0.14721370696443659,
          0.9849700972122788,
          -1.6159928381795001,
          2.8876664099211764,
          1.1792610841498818,
          1.137534866296284,
          0.36529841743489505,
          0.6837628681037843,
          0.3857655623229011,
          -1.4277493996033706,
          1.9387091111049926,
          -0.8799227856643209,
          0.17157935956524548,
          1.2164326922302917,
          0.004829280486984333,
          -0.7305142209733924,
          0.8090950392810067,
          -2.7632429506224883,
          0.9238654843844363,
          0.13909084142958214,
          0.06932779342792991,
          0.10316445888209945,
          -1.4408925516222189,
          -1.5014989504920706,
          1.3164328202880184,
          0.20632089660007252,
          -0.4332798600838577,
          0.5100226609573209,
          -0.5583994791359564,
          0.4825916998568048,
          -0.15873725230421742,
          -2.033833509570888,
          -0.56776873608412,
          -1.3983642700361827,
          -0.17721085755554614,
          -0.4777864854606395,
          -0.7084571357637636,
          0.14725150781339041,
          0.5160571944585837,
          2.391248105092854,
          -0.035925646760449015,
          0.3993352653098139,
          0.5041548045378224,
          -2.4531789724121182
         ]
        },
        {
         "line": {
          "color": "rgba(55, 128, 191, 1.0)",
          "dash": "solid",
          "shape": "linear",
          "width": 1.3
         },
         "mode": "lines",
         "name": "B",
         "text": "",
         "type": "scatter",
         "x": [
          0,
          1,
          2,
          3,
          4,
          5,
          6,
          7,
          8,
          9,
          10,
          11,
          12,
          13,
          14,
          15,
          16,
          17,
          18,
          19,
          20,
          21,
          22,
          23,
          24,
          25,
          26,
          27,
          28,
          29,
          30,
          31,
          32,
          33,
          34,
          35,
          36,
          37,
          38,
          39,
          40,
          41,
          42,
          43,
          44,
          45,
          46,
          47,
          48,
          49,
          50,
          51,
          52,
          53,
          54,
          55,
          56,
          57,
          58,
          59,
          60,
          61,
          62,
          63,
          64,
          65,
          66,
          67,
          68,
          69,
          70,
          71,
          72,
          73,
          74,
          75,
          76,
          77,
          78,
          79,
          80,
          81,
          82,
          83,
          84,
          85,
          86,
          87,
          88,
          89,
          90,
          91,
          92,
          93,
          94,
          95,
          96,
          97,
          98,
          99
         ],
         "y": [
          0.24555663252945903,
          -0.5638129038214954,
          0.15838017982758465,
          0.025965138727300052,
          1.0261693833091186,
          -1.8117251738858402,
          1.2824990052649607,
          0.9227163869758231,
          -0.32928491407238214,
          0.3366044693090377,
          0.16065191024800432,
          0.8082078977266477,
          -0.37421382646895285,
          0.4443612006818534,
          1.2591791755585575,
          -0.272577764440088,
          0.05397960093059676,
          0.9925302761246275,
          0.8240201250613609,
          0.03421864511183541,
          1.7687225019146364,
          0.9401432164859415,
          1.294385534196133,
          0.6944745568559109,
          0.4364763563018746,
          0.19932268382576923,
          -0.27934197237725056,
          -1.5844482409973324,
          0.8691582357782162,
          0.7968557938544397,
          1.227966360927478,
          0.32626552917603463,
          -0.5268174005804046,
          0.16189388577452204,
          0.47272456823309345,
          0.08452053298458287,
          -0.8350294005227219,
          0.8340070844504154,
          -1.2518433951160093,
          -0.5889093096430914,
          -1.5761297357175614,
          0.7025218259235306,
          0.9816624927802996,
          -1.3176098140720194,
          1.0192498512213706,
          -0.06384003639023407,
          -0.6499138608042271,
          1.779442553151568,
          0.9457660017435001,
          1.307783424473417,
          -0.22117084156221578,
          1.7868932790407142,
          -1.0844140449242934,
          0.35024847218493776,
          0.884244535300552,
          0.6614379919438789,
          -1.3080451104956212,
          -0.19203618050731222,
          1.400879527302598,
          -1.9204936660131982,
          0.0733528470981566,
          -2.7096374996506603,
          1.2516569643880509,
          1.375309163239427,
          0.6338916751026681,
          -0.44015753737571284,
          -0.47999473391612174,
          -0.5470196774727828,
          -0.6448957474033917,
          -1.2312387282637907,
          -0.7882654917165696,
          0.6992660805993933,
          1.343159728014624,
          0.006554386717324803,
          1.1839666350547748,
          0.7852962090064953,
          1.090853039440043,
          -0.9191197192317047,
          -0.584937510658358,
          0.09935280627146068,
          -1.0597550817994716,
          0.6327940167393934,
          -0.26286404024615473,
          1.3291756615688792,
          -1.082743328643993,
          -0.2925693546759645,
          0.5283895907770542,
          1.7397374477560037,
          -0.34785501448501577,
          -1.1370577316276549,
          -1.116757259654754,
          -0.18340610752183722,
          -0.5649610550472014,
          -0.6529937313804469,
          1.1892675399002437,
          -0.036918623731211,
          0.4873170568674592,
          0.20282226504473866,
          -0.09245437072411745,
          -1.719683555373446
         ]
        },
        {
         "line": {
          "color": "rgba(50, 171, 96, 1.0)",
          "dash": "solid",
          "shape": "linear",
          "width": 1.3
         },
         "mode": "lines",
         "name": "C",
         "text": "",
         "type": "scatter",
         "x": [
          0,
          1,
          2,
          3,
          4,
          5,
          6,
          7,
          8,
          9,
          10,
          11,
          12,
          13,
          14,
          15,
          16,
          17,
          18,
          19,
          20,
          21,
          22,
          23,
          24,
          25,
          26,
          27,
          28,
          29,
          30,
          31,
          32,
          33,
          34,
          35,
          36,
          37,
          38,
          39,
          40,
          41,
          42,
          43,
          44,
          45,
          46,
          47,
          48,
          49,
          50,
          51,
          52,
          53,
          54,
          55,
          56,
          57,
          58,
          59,
          60,
          61,
          62,
          63,
          64,
          65,
          66,
          67,
          68,
          69,
          70,
          71,
          72,
          73,
          74,
          75,
          76,
          77,
          78,
          79,
          80,
          81,
          82,
          83,
          84,
          85,
          86,
          87,
          88,
          89,
          90,
          91,
          92,
          93,
          94,
          95,
          96,
          97,
          98,
          99
         ],
         "y": [
          -0.7644822413693503,
          -0.1662780085710339,
          0.476737776512657,
          1.4936427419112215,
          -0.22543083544286424,
          -1.1528789834282267,
          -0.9145599054270486,
          0.6926928442784844,
          -0.7846538929797743,
          3.261286499391137,
          -0.3196878208660037,
          -0.5580597341869193,
          -0.07611352643623193,
          -0.8898316509425989,
          -0.060257606747032635,
          -1.3668359664811756,
          -0.3919686336500909,
          1.5773911905104674,
          -3.672083633498876,
          0.9592072279269754,
          -0.36728173072607145,
          -0.06592633986444874,
          0.5195147403283626,
          1.4367648709473158,
          0.588393385748988,
          0.5010464120146308,
          1.458197359722872,
          1.4033408998176609,
          0.5882306906786982,
          -0.01330942267740433,
          1.2204185193567985,
          -0.10351237409761757,
          0.9706776034627427,
          -0.40920892348266236,
          -0.4866247360048921,
          0.7447191006627771,
          1.1753784285764202,
          -0.5412944791445348,
          -0.4027018764364136,
          1.8452248769505646,
          0.7341576819387037,
          -0.3051854810248275,
          -0.455162147955806,
          -2.0936535067897633,
          -0.40803538659550626,
          -0.557237147596639,
          0.41033157396129283,
          1.8103444417304027,
          1.2729115835710718,
          -0.365619533164616,
          0.4045133583442117,
          0.878458817843963,
          1.1716116786672737,
          -0.327185943945804,
          -1.4642372365515886,
          0.7479040937945937,
          -0.21232086450058058,
          0.30441721368609154,
          -0.17838098345618944,
          0.048893538909246685,
          0.5431229851756696,
          -1.5511865083904635,
          0.748135895567872,
          -0.8027523221376446,
          0.05413105733115739,
          -0.7552986349452647,
          1.6925935305078619,
          2.7731199599523024,
          0.3976042964293238,
          0.16069785582660906,
          1.8582639023881855,
          -2.8071351426453006,
          -0.39275983410029053,
          -1.7962738629907888,
          -2.8846404770038054,
          1.1236777466184569,
          0.12690159251538763,
          -1.1528007942449985,
          1.5470584624794035,
          -1.0005599812456638,
          -1.0361221173839588,
          -0.27961960165187155,
          1.4052368799060402,
          -0.08589290136502413,
          -1.0523067336538345,
          -0.7823991345386283,
          -1.0782677441716935,
          0.4118484560269983,
          -0.1341138205847123,
          0.88217168473262,
          -1.0530760579886873,
          -1.11470542274002,
          -0.3639578541068347,
          0.7090787748642308,
          -0.05043629087056435,
          -0.6411187072517381,
          0.11225083761789163,
          -0.3161044723542811,
          0.36134256890035965,
          1.064898007641068
         ]
        },
        {
         "line": {
          "color": "rgba(128, 0, 128, 1.0)",
          "dash": "solid",
          "shape": "linear",
          "width": 1.3
         },
         "mode": "lines",
         "name": "D",
         "text": "",
         "type": "scatter",
         "x": [
          0,
          1,
          2,
          3,
          4,
          5,
          6,
          7,
          8,
          9,
          10,
          11,
          12,
          13,
          14,
          15,
          16,
          17,
          18,
          19,
          20,
          21,
          22,
          23,
          24,
          25,
          26,
          27,
          28,
          29,
          30,
          31,
          32,
          33,
          34,
          35,
          36,
          37,
          38,
          39,
          40,
          41,
          42,
          43,
          44,
          45,
          46,
          47,
          48,
          49,
          50,
          51,
          52,
          53,
          54,
          55,
          56,
          57,
          58,
          59,
          60,
          61,
          62,
          63,
          64,
          65,
          66,
          67,
          68,
          69,
          70,
          71,
          72,
          73,
          74,
          75,
          76,
          77,
          78,
          79,
          80,
          81,
          82,
          83,
          84,
          85,
          86,
          87,
          88,
          89,
          90,
          91,
          92,
          93,
          94,
          95,
          96,
          97,
          98,
          99
         ],
         "y": [
          0.2744649834576402,
          0.30505186749072055,
          0.9552842712056142,
          -1.5877356412380441,
          -1.9829666534938248,
          0.7281059616081297,
          -0.24866605176086806,
          1.6867746489714364,
          -0.47433186805037475,
          1.3309093841279975,
          0.7826651601189504,
          0.06633303853784404,
          0.13517470911895196,
          0.16004480263028875,
          -0.7547005701421727,
          -0.5769737391550736,
          0.7292426011402716,
          -0.9013427172451478,
          0.7638875771702128,
          0.502849277241576,
          -0.14986686819522207,
          -0.15154766185481316,
          1.7835126345197732,
          0.9250576775717128,
          -0.8267734506854625,
          -1.0524333267491204,
          0.7771261928019507,
          1.3323368419066017,
          -0.3902289572716338,
          -2.165987786738288,
          1.2471730706066182,
          -0.7239374669366284,
          0.5845519354093854,
          0.8242761695515141,
          -0.20143211884371268,
          0.7747345462600389,
          1.301164749130198,
          1.7334250664323112,
          -1.4953144105740297,
          0.04132449477715334,
          -1.538077537986922,
          0.04651870366323089,
          0.24043595492857256,
          0.35729055466919657,
          0.023400722584806403,
          -0.18712386683292365,
          -1.3061229116767614,
          0.04778365721760829,
          0.3123497007713095,
          1.8398002507776399,
          -0.9607476319391202,
          -0.1666046527207271,
          0.7242861439665697,
          0.20125182850242238,
          0.905483293506512,
          0.9752938038603591,
          0.35425824862340866,
          -0.27586685231942104,
          0.11976282465338085,
          3.2243782304736053,
          2.0931416280461344,
          -0.9511333098681802,
          -0.3984245245883266,
          -0.22451354667979806,
          1.2338333260992367,
          1.2579236097499082,
          0.7002378085384303,
          -0.3461053591931336,
          -0.03964551470745989,
          -0.3068339828473522,
          -0.49375752698330977,
          0.4023347882608713,
          -2.669455923852125,
          0.3792523857491676,
          -0.8900751524116217,
          -1.408124367597601,
          0.2454881123818337,
          -1.1621401975664536,
          -0.9665745540254186,
          -1.0932691246330395,
          0.5901274307875186,
          -2.380602599864061,
          1.9806669427320818,
          -0.7185877181308681,
          -0.3151174946912165,
          0.6371137482940696,
          -0.580782043392684,
          0.6866161863110284,
          1.7016331319215445,
          0.17366797709539758,
          0.80654107694807,
          1.0748291936624732,
          1.2247102877434826,
          1.4856703181119582,
          0.7572276084962513,
          0.09586379779127335,
          0.5749735657711563,
          0.26297684223876916,
          1.4596711124358221,
          0.5638167296469515
         ]
        }
       ],
       "layout": {
        "legend": {
         "bgcolor": "#F5F6F9",
         "font": {
          "color": "#4D5663"
         }
        },
        "paper_bgcolor": "#F5F6F9",
        "plot_bgcolor": "#F5F6F9",
        "template": {
         "data": {
          "bar": [
           {
            "error_x": {
             "color": "#2a3f5f"
            },
            "error_y": {
             "color": "#2a3f5f"
            },
            "marker": {
             "line": {
              "color": "#E5ECF6",
              "width": 0.5
             },
             "pattern": {
              "fillmode": "overlay",
              "size": 10,
              "solidity": 0.2
             }
            },
            "type": "bar"
           }
          ],
          "barpolar": [
           {
            "marker": {
             "line": {
              "color": "#E5ECF6",
              "width": 0.5
             },
             "pattern": {
              "fillmode": "overlay",
              "size": 10,
              "solidity": 0.2
             }
            },
            "type": "barpolar"
           }
          ],
          "carpet": [
           {
            "aaxis": {
             "endlinecolor": "#2a3f5f",
             "gridcolor": "white",
             "linecolor": "white",
             "minorgridcolor": "white",
             "startlinecolor": "#2a3f5f"
            },
            "baxis": {
             "endlinecolor": "#2a3f5f",
             "gridcolor": "white",
             "linecolor": "white",
             "minorgridcolor": "white",
             "startlinecolor": "#2a3f5f"
            },
            "type": "carpet"
           }
          ],
          "choropleth": [
           {
            "colorbar": {
             "outlinewidth": 0,
             "ticks": ""
            },
            "type": "choropleth"
           }
          ],
          "contour": [
           {
            "colorbar": {
             "outlinewidth": 0,
             "ticks": ""
            },
            "colorscale": [
             [
              0,
              "#0d0887"
             ],
             [
              0.1111111111111111,
              "#46039f"
             ],
             [
              0.2222222222222222,
              "#7201a8"
             ],
             [
              0.3333333333333333,
              "#9c179e"
             ],
             [
              0.4444444444444444,
              "#bd3786"
             ],
             [
              0.5555555555555556,
              "#d8576b"
             ],
             [
              0.6666666666666666,
              "#ed7953"
             ],
             [
              0.7777777777777778,
              "#fb9f3a"
             ],
             [
              0.8888888888888888,
              "#fdca26"
             ],
             [
              1,
              "#f0f921"
             ]
            ],
            "type": "contour"
           }
          ],
          "contourcarpet": [
           {
            "colorbar": {
             "outlinewidth": 0,
             "ticks": ""
            },
            "type": "contourcarpet"
           }
          ],
          "heatmap": [
           {
            "colorbar": {
             "outlinewidth": 0,
             "ticks": ""
            },
            "colorscale": [
             [
              0,
              "#0d0887"
             ],
             [
              0.1111111111111111,
              "#46039f"
             ],
             [
              0.2222222222222222,
              "#7201a8"
             ],
             [
              0.3333333333333333,
              "#9c179e"
             ],
             [
              0.4444444444444444,
              "#bd3786"
             ],
             [
              0.5555555555555556,
              "#d8576b"
             ],
             [
              0.6666666666666666,
              "#ed7953"
             ],
             [
              0.7777777777777778,
              "#fb9f3a"
             ],
             [
              0.8888888888888888,
              "#fdca26"
             ],
             [
              1,
              "#f0f921"
             ]
            ],
            "type": "heatmap"
           }
          ],
          "heatmapgl": [
           {
            "colorbar": {
             "outlinewidth": 0,
             "ticks": ""
            },
            "colorscale": [
             [
              0,
              "#0d0887"
             ],
             [
              0.1111111111111111,
              "#46039f"
             ],
             [
              0.2222222222222222,
              "#7201a8"
             ],
             [
              0.3333333333333333,
              "#9c179e"
             ],
             [
              0.4444444444444444,
              "#bd3786"
             ],
             [
              0.5555555555555556,
              "#d8576b"
             ],
             [
              0.6666666666666666,
              "#ed7953"
             ],
             [
              0.7777777777777778,
              "#fb9f3a"
             ],
             [
              0.8888888888888888,
              "#fdca26"
             ],
             [
              1,
              "#f0f921"
             ]
            ],
            "type": "heatmapgl"
           }
          ],
          "histogram": [
           {
            "marker": {
             "pattern": {
              "fillmode": "overlay",
              "size": 10,
              "solidity": 0.2
             }
            },
            "type": "histogram"
           }
          ],
          "histogram2d": [
           {
            "colorbar": {
             "outlinewidth": 0,
             "ticks": ""
            },
            "colorscale": [
             [
              0,
              "#0d0887"
             ],
             [
              0.1111111111111111,
              "#46039f"
             ],
             [
              0.2222222222222222,
              "#7201a8"
             ],
             [
              0.3333333333333333,
              "#9c179e"
             ],
             [
              0.4444444444444444,
              "#bd3786"
             ],
             [
              0.5555555555555556,
              "#d8576b"
             ],
             [
              0.6666666666666666,
              "#ed7953"
             ],
             [
              0.7777777777777778,
              "#fb9f3a"
             ],
             [
              0.8888888888888888,
              "#fdca26"
             ],
             [
              1,
              "#f0f921"
             ]
            ],
            "type": "histogram2d"
           }
          ],
          "histogram2dcontour": [
           {
            "colorbar": {
             "outlinewidth": 0,
             "ticks": ""
            },
            "colorscale": [
             [
              0,
              "#0d0887"
             ],
             [
              0.1111111111111111,
              "#46039f"
             ],
             [
              0.2222222222222222,
              "#7201a8"
             ],
             [
              0.3333333333333333,
              "#9c179e"
             ],
             [
              0.4444444444444444,
              "#bd3786"
             ],
             [
              0.5555555555555556,
              "#d8576b"
             ],
             [
              0.6666666666666666,
              "#ed7953"
             ],
             [
              0.7777777777777778,
              "#fb9f3a"
             ],
             [
              0.8888888888888888,
              "#fdca26"
             ],
             [
              1,
              "#f0f921"
             ]
            ],
            "type": "histogram2dcontour"
           }
          ],
          "mesh3d": [
           {
            "colorbar": {
             "outlinewidth": 0,
             "ticks": ""
            },
            "type": "mesh3d"
           }
          ],
          "parcoords": [
           {
            "line": {
             "colorbar": {
              "outlinewidth": 0,
              "ticks": ""
             }
            },
            "type": "parcoords"
           }
          ],
          "pie": [
           {
            "automargin": true,
            "type": "pie"
           }
          ],
          "scatter": [
           {
            "fillpattern": {
             "fillmode": "overlay",
             "size": 10,
             "solidity": 0.2
            },
            "type": "scatter"
           }
          ],
          "scatter3d": [
           {
            "line": {
             "colorbar": {
              "outlinewidth": 0,
              "ticks": ""
             }
            },
            "marker": {
             "colorbar": {
              "outlinewidth": 0,
              "ticks": ""
             }
            },
            "type": "scatter3d"
           }
          ],
          "scattercarpet": [
           {
            "marker": {
             "colorbar": {
              "outlinewidth": 0,
              "ticks": ""
             }
            },
            "type": "scattercarpet"
           }
          ],
          "scattergeo": [
           {
            "marker": {
             "colorbar": {
              "outlinewidth": 0,
              "ticks": ""
             }
            },
            "type": "scattergeo"
           }
          ],
          "scattergl": [
           {
            "marker": {
             "colorbar": {
              "outlinewidth": 0,
              "ticks": ""
             }
            },
            "type": "scattergl"
           }
          ],
          "scattermapbox": [
           {
            "marker": {
             "colorbar": {
              "outlinewidth": 0,
              "ticks": ""
             }
            },
            "type": "scattermapbox"
           }
          ],
          "scatterpolar": [
           {
            "marker": {
             "colorbar": {
              "outlinewidth": 0,
              "ticks": ""
             }
            },
            "type": "scatterpolar"
           }
          ],
          "scatterpolargl": [
           {
            "marker": {
             "colorbar": {
              "outlinewidth": 0,
              "ticks": ""
             }
            },
            "type": "scatterpolargl"
           }
          ],
          "scatterternary": [
           {
            "marker": {
             "colorbar": {
              "outlinewidth": 0,
              "ticks": ""
             }
            },
            "type": "scatterternary"
           }
          ],
          "surface": [
           {
            "colorbar": {
             "outlinewidth": 0,
             "ticks": ""
            },
            "colorscale": [
             [
              0,
              "#0d0887"
             ],
             [
              0.1111111111111111,
              "#46039f"
             ],
             [
              0.2222222222222222,
              "#7201a8"
             ],
             [
              0.3333333333333333,
              "#9c179e"
             ],
             [
              0.4444444444444444,
              "#bd3786"
             ],
             [
              0.5555555555555556,
              "#d8576b"
             ],
             [
              0.6666666666666666,
              "#ed7953"
             ],
             [
              0.7777777777777778,
              "#fb9f3a"
             ],
             [
              0.8888888888888888,
              "#fdca26"
             ],
             [
              1,
              "#f0f921"
             ]
            ],
            "type": "surface"
           }
          ],
          "table": [
           {
            "cells": {
             "fill": {
              "color": "#EBF0F8"
             },
             "line": {
              "color": "white"
             }
            },
            "header": {
             "fill": {
              "color": "#C8D4E3"
             },
             "line": {
              "color": "white"
             }
            },
            "type": "table"
           }
          ]
         },
         "layout": {
          "annotationdefaults": {
           "arrowcolor": "#2a3f5f",
           "arrowhead": 0,
           "arrowwidth": 1
          },
          "autotypenumbers": "strict",
          "coloraxis": {
           "colorbar": {
            "outlinewidth": 0,
            "ticks": ""
           }
          },
          "colorscale": {
           "diverging": [
            [
             0,
             "#8e0152"
            ],
            [
             0.1,
             "#c51b7d"
            ],
            [
             0.2,
             "#de77ae"
            ],
            [
             0.3,
             "#f1b6da"
            ],
            [
             0.4,
             "#fde0ef"
            ],
            [
             0.5,
             "#f7f7f7"
            ],
            [
             0.6,
             "#e6f5d0"
            ],
            [
             0.7,
             "#b8e186"
            ],
            [
             0.8,
             "#7fbc41"
            ],
            [
             0.9,
             "#4d9221"
            ],
            [
             1,
             "#276419"
            ]
           ],
           "sequential": [
            [
             0,
             "#0d0887"
            ],
            [
             0.1111111111111111,
             "#46039f"
            ],
            [
             0.2222222222222222,
             "#7201a8"
            ],
            [
             0.3333333333333333,
             "#9c179e"
            ],
            [
             0.4444444444444444,
             "#bd3786"
            ],
            [
             0.5555555555555556,
             "#d8576b"
            ],
            [
             0.6666666666666666,
             "#ed7953"
            ],
            [
             0.7777777777777778,
             "#fb9f3a"
            ],
            [
             0.8888888888888888,
             "#fdca26"
            ],
            [
             1,
             "#f0f921"
            ]
           ],
           "sequentialminus": [
            [
             0,
             "#0d0887"
            ],
            [
             0.1111111111111111,
             "#46039f"
            ],
            [
             0.2222222222222222,
             "#7201a8"
            ],
            [
             0.3333333333333333,
             "#9c179e"
            ],
            [
             0.4444444444444444,
             "#bd3786"
            ],
            [
             0.5555555555555556,
             "#d8576b"
            ],
            [
             0.6666666666666666,
             "#ed7953"
            ],
            [
             0.7777777777777778,
             "#fb9f3a"
            ],
            [
             0.8888888888888888,
             "#fdca26"
            ],
            [
             1,
             "#f0f921"
            ]
           ]
          },
          "colorway": [
           "#636efa",
           "#EF553B",
           "#00cc96",
           "#ab63fa",
           "#FFA15A",
           "#19d3f3",
           "#FF6692",
           "#B6E880",
           "#FF97FF",
           "#FECB52"
          ],
          "font": {
           "color": "#2a3f5f"
          },
          "geo": {
           "bgcolor": "white",
           "lakecolor": "white",
           "landcolor": "#E5ECF6",
           "showlakes": true,
           "showland": true,
           "subunitcolor": "white"
          },
          "hoverlabel": {
           "align": "left"
          },
          "hovermode": "closest",
          "mapbox": {
           "style": "light"
          },
          "paper_bgcolor": "white",
          "plot_bgcolor": "#E5ECF6",
          "polar": {
           "angularaxis": {
            "gridcolor": "white",
            "linecolor": "white",
            "ticks": ""
           },
           "bgcolor": "#E5ECF6",
           "radialaxis": {
            "gridcolor": "white",
            "linecolor": "white",
            "ticks": ""
           }
          },
          "scene": {
           "xaxis": {
            "backgroundcolor": "#E5ECF6",
            "gridcolor": "white",
            "gridwidth": 2,
            "linecolor": "white",
            "showbackground": true,
            "ticks": "",
            "zerolinecolor": "white"
           },
           "yaxis": {
            "backgroundcolor": "#E5ECF6",
            "gridcolor": "white",
            "gridwidth": 2,
            "linecolor": "white",
            "showbackground": true,
            "ticks": "",
            "zerolinecolor": "white"
           },
           "zaxis": {
            "backgroundcolor": "#E5ECF6",
            "gridcolor": "white",
            "gridwidth": 2,
            "linecolor": "white",
            "showbackground": true,
            "ticks": "",
            "zerolinecolor": "white"
           }
          },
          "shapedefaults": {
           "line": {
            "color": "#2a3f5f"
           }
          },
          "ternary": {
           "aaxis": {
            "gridcolor": "white",
            "linecolor": "white",
            "ticks": ""
           },
           "baxis": {
            "gridcolor": "white",
            "linecolor": "white",
            "ticks": ""
           },
           "bgcolor": "#E5ECF6",
           "caxis": {
            "gridcolor": "white",
            "linecolor": "white",
            "ticks": ""
           }
          },
          "title": {
           "x": 0.05
          },
          "xaxis": {
           "automargin": true,
           "gridcolor": "white",
           "linecolor": "white",
           "ticks": "",
           "title": {
            "standoff": 15
           },
           "zerolinecolor": "white",
           "zerolinewidth": 2
          },
          "yaxis": {
           "automargin": true,
           "gridcolor": "white",
           "linecolor": "white",
           "ticks": "",
           "title": {
            "standoff": 15
           },
           "zerolinecolor": "white",
           "zerolinewidth": 2
          }
         }
        },
        "title": {
         "font": {
          "color": "#4D5663"
         }
        },
        "xaxis": {
         "gridcolor": "#E1E5ED",
         "showgrid": true,
         "tickfont": {
          "color": "#4D5663"
         },
         "title": {
          "font": {
           "color": "#4D5663"
          },
          "text": ""
         },
         "zerolinecolor": "#E1E5ED"
        },
        "yaxis": {
         "gridcolor": "#E1E5ED",
         "showgrid": true,
         "tickfont": {
          "color": "#4D5663"
         },
         "title": {
          "font": {
           "color": "#4D5663"
          },
          "text": ""
         },
         "zerolinecolor": "#E1E5ED"
        }
       }
      },
      "text/html": [
       "<div>                            <div id=\"ce8b6364-2f1d-4c0a-824d-69bbe147f848\" class=\"plotly-graph-div\" style=\"height:525px; width:100%;\"></div>            <script type=\"text/javascript\">                require([\"plotly\"], function(Plotly) {                    window.PLOTLYENV=window.PLOTLYENV || {};\n",
       "                    window.PLOTLYENV.BASE_URL='https://plot.ly';                                    if (document.getElementById(\"ce8b6364-2f1d-4c0a-824d-69bbe147f848\")) {                    Plotly.newPlot(                        \"ce8b6364-2f1d-4c0a-824d-69bbe147f848\",                        [{\"line\":{\"color\":\"rgba(255, 153, 51, 1.0)\",\"dash\":\"solid\",\"shape\":\"linear\",\"width\":1.3},\"mode\":\"lines\",\"name\":\"A\",\"text\":\"\",\"x\":[0,1,2,3,4,5,6,7,8,9,10,11,12,13,14,15,16,17,18,19,20,21,22,23,24,25,26,27,28,29,30,31,32,33,34,35,36,37,38,39,40,41,42,43,44,45,46,47,48,49,50,51,52,53,54,55,56,57,58,59,60,61,62,63,64,65,66,67,68,69,70,71,72,73,74,75,76,77,78,79,80,81,82,83,84,85,86,87,88,89,90,91,92,93,94,95,96,97,98,99],\"y\":[1.6185342153503897,1.1848362441609444,1.0676265789711767,0.6289578176999444,-0.0731723746557524,-0.10349025747306093,-0.13828150425216726,0.8810902574734345,-0.5542620086053726,1.367655392604224,0.42159233908657434,-1.6600131400907159,-2.321880943758504,-0.14525715490075852,-1.4150329423246357,1.1902193781513097,0.032605182130966644,-1.1068654931550255,-0.4881710870419417,-1.0064654004665394,-1.4861349648044178,0.42126197939457344,0.2033513437481144,0.6780192171590568,2.2695601885039856,-1.0530794893148434,-0.7599582936020849,0.07479649981688027,-0.5004585006618902,-0.7069045792139065,-0.7490649048467005,-0.9573833622535074,0.3184903662704784,0.5232510497782804,-0.292920914056626,0.5526442907323154,0.28927758198705866,-0.9595308675629673,0.6624074725052688,-1.2675470861916667,-1.298518317282184,1.6505714308200703,0.7711743870399246,-0.10350465261086673,-0.9890595965375653,0.09060720967289916,-0.9664272965492815,1.7520110562695306,2.0598160276614736,-1.5398792263792436,0.14913323679684518,0.995048297495277,-0.8178015437731536,-1.1488188276104512,-1.2553879715068992,0.702144807401087,-0.14721370696443659,0.9849700972122788,-1.6159928381795001,2.8876664099211764,1.1792610841498818,1.137534866296284,0.36529841743489505,0.6837628681037843,0.3857655623229011,-1.4277493996033706,1.9387091111049926,-0.8799227856643209,0.17157935956524548,1.2164326922302917,0.004829280486984333,-0.7305142209733924,0.8090950392810067,-2.7632429506224883,0.9238654843844363,0.13909084142958214,0.06932779342792991,0.10316445888209945,-1.4408925516222189,-1.5014989504920706,1.3164328202880184,0.20632089660007252,-0.4332798600838577,0.5100226609573209,-0.5583994791359564,0.4825916998568048,-0.15873725230421742,-2.033833509570888,-0.56776873608412,-1.3983642700361827,-0.17721085755554614,-0.4777864854606395,-0.7084571357637636,0.14725150781339041,0.5160571944585837,2.391248105092854,-0.035925646760449015,0.3993352653098139,0.5041548045378224,-2.4531789724121182],\"type\":\"scatter\"},{\"line\":{\"color\":\"rgba(55, 128, 191, 1.0)\",\"dash\":\"solid\",\"shape\":\"linear\",\"width\":1.3},\"mode\":\"lines\",\"name\":\"B\",\"text\":\"\",\"x\":[0,1,2,3,4,5,6,7,8,9,10,11,12,13,14,15,16,17,18,19,20,21,22,23,24,25,26,27,28,29,30,31,32,33,34,35,36,37,38,39,40,41,42,43,44,45,46,47,48,49,50,51,52,53,54,55,56,57,58,59,60,61,62,63,64,65,66,67,68,69,70,71,72,73,74,75,76,77,78,79,80,81,82,83,84,85,86,87,88,89,90,91,92,93,94,95,96,97,98,99],\"y\":[0.24555663252945903,-0.5638129038214954,0.15838017982758465,0.025965138727300052,1.0261693833091186,-1.8117251738858402,1.2824990052649607,0.9227163869758231,-0.32928491407238214,0.3366044693090377,0.16065191024800432,0.8082078977266477,-0.37421382646895285,0.4443612006818534,1.2591791755585575,-0.272577764440088,0.05397960093059676,0.9925302761246275,0.8240201250613609,0.03421864511183541,1.7687225019146364,0.9401432164859415,1.294385534196133,0.6944745568559109,0.4364763563018746,0.19932268382576923,-0.27934197237725056,-1.5844482409973324,0.8691582357782162,0.7968557938544397,1.227966360927478,0.32626552917603463,-0.5268174005804046,0.16189388577452204,0.47272456823309345,0.08452053298458287,-0.8350294005227219,0.8340070844504154,-1.2518433951160093,-0.5889093096430914,-1.5761297357175614,0.7025218259235306,0.9816624927802996,-1.3176098140720194,1.0192498512213706,-0.06384003639023407,-0.6499138608042271,1.779442553151568,0.9457660017435001,1.307783424473417,-0.22117084156221578,1.7868932790407142,-1.0844140449242934,0.35024847218493776,0.884244535300552,0.6614379919438789,-1.3080451104956212,-0.19203618050731222,1.400879527302598,-1.9204936660131982,0.0733528470981566,-2.7096374996506603,1.2516569643880509,1.375309163239427,0.6338916751026681,-0.44015753737571284,-0.47999473391612174,-0.5470196774727828,-0.6448957474033917,-1.2312387282637907,-0.7882654917165696,0.6992660805993933,1.343159728014624,0.006554386717324803,1.1839666350547748,0.7852962090064953,1.090853039440043,-0.9191197192317047,-0.584937510658358,0.09935280627146068,-1.0597550817994716,0.6327940167393934,-0.26286404024615473,1.3291756615688792,-1.082743328643993,-0.2925693546759645,0.5283895907770542,1.7397374477560037,-0.34785501448501577,-1.1370577316276549,-1.116757259654754,-0.18340610752183722,-0.5649610550472014,-0.6529937313804469,1.1892675399002437,-0.036918623731211,0.4873170568674592,0.20282226504473866,-0.09245437072411745,-1.719683555373446],\"type\":\"scatter\"},{\"line\":{\"color\":\"rgba(50, 171, 96, 1.0)\",\"dash\":\"solid\",\"shape\":\"linear\",\"width\":1.3},\"mode\":\"lines\",\"name\":\"C\",\"text\":\"\",\"x\":[0,1,2,3,4,5,6,7,8,9,10,11,12,13,14,15,16,17,18,19,20,21,22,23,24,25,26,27,28,29,30,31,32,33,34,35,36,37,38,39,40,41,42,43,44,45,46,47,48,49,50,51,52,53,54,55,56,57,58,59,60,61,62,63,64,65,66,67,68,69,70,71,72,73,74,75,76,77,78,79,80,81,82,83,84,85,86,87,88,89,90,91,92,93,94,95,96,97,98,99],\"y\":[-0.7644822413693503,-0.1662780085710339,0.476737776512657,1.4936427419112215,-0.22543083544286424,-1.1528789834282267,-0.9145599054270486,0.6926928442784844,-0.7846538929797743,3.261286499391137,-0.3196878208660037,-0.5580597341869193,-0.07611352643623193,-0.8898316509425989,-0.060257606747032635,-1.3668359664811756,-0.3919686336500909,1.5773911905104674,-3.672083633498876,0.9592072279269754,-0.36728173072607145,-0.06592633986444874,0.5195147403283626,1.4367648709473158,0.588393385748988,0.5010464120146308,1.458197359722872,1.4033408998176609,0.5882306906786982,-0.01330942267740433,1.2204185193567985,-0.10351237409761757,0.9706776034627427,-0.40920892348266236,-0.4866247360048921,0.7447191006627771,1.1753784285764202,-0.5412944791445348,-0.4027018764364136,1.8452248769505646,0.7341576819387037,-0.3051854810248275,-0.455162147955806,-2.0936535067897633,-0.40803538659550626,-0.557237147596639,0.41033157396129283,1.8103444417304027,1.2729115835710718,-0.365619533164616,0.4045133583442117,0.878458817843963,1.1716116786672737,-0.327185943945804,-1.4642372365515886,0.7479040937945937,-0.21232086450058058,0.30441721368609154,-0.17838098345618944,0.048893538909246685,0.5431229851756696,-1.5511865083904635,0.748135895567872,-0.8027523221376446,0.05413105733115739,-0.7552986349452647,1.6925935305078619,2.7731199599523024,0.3976042964293238,0.16069785582660906,1.8582639023881855,-2.8071351426453006,-0.39275983410029053,-1.7962738629907888,-2.8846404770038054,1.1236777466184569,0.12690159251538763,-1.1528007942449985,1.5470584624794035,-1.0005599812456638,-1.0361221173839588,-0.27961960165187155,1.4052368799060402,-0.08589290136502413,-1.0523067336538345,-0.7823991345386283,-1.0782677441716935,0.4118484560269983,-0.1341138205847123,0.88217168473262,-1.0530760579886873,-1.11470542274002,-0.3639578541068347,0.7090787748642308,-0.05043629087056435,-0.6411187072517381,0.11225083761789163,-0.3161044723542811,0.36134256890035965,1.064898007641068],\"type\":\"scatter\"},{\"line\":{\"color\":\"rgba(128, 0, 128, 1.0)\",\"dash\":\"solid\",\"shape\":\"linear\",\"width\":1.3},\"mode\":\"lines\",\"name\":\"D\",\"text\":\"\",\"x\":[0,1,2,3,4,5,6,7,8,9,10,11,12,13,14,15,16,17,18,19,20,21,22,23,24,25,26,27,28,29,30,31,32,33,34,35,36,37,38,39,40,41,42,43,44,45,46,47,48,49,50,51,52,53,54,55,56,57,58,59,60,61,62,63,64,65,66,67,68,69,70,71,72,73,74,75,76,77,78,79,80,81,82,83,84,85,86,87,88,89,90,91,92,93,94,95,96,97,98,99],\"y\":[0.2744649834576402,0.30505186749072055,0.9552842712056142,-1.5877356412380441,-1.9829666534938248,0.7281059616081297,-0.24866605176086806,1.6867746489714364,-0.47433186805037475,1.3309093841279975,0.7826651601189504,0.06633303853784404,0.13517470911895196,0.16004480263028875,-0.7547005701421727,-0.5769737391550736,0.7292426011402716,-0.9013427172451478,0.7638875771702128,0.502849277241576,-0.14986686819522207,-0.15154766185481316,1.7835126345197732,0.9250576775717128,-0.8267734506854625,-1.0524333267491204,0.7771261928019507,1.3323368419066017,-0.3902289572716338,-2.165987786738288,1.2471730706066182,-0.7239374669366284,0.5845519354093854,0.8242761695515141,-0.20143211884371268,0.7747345462600389,1.301164749130198,1.7334250664323112,-1.4953144105740297,0.04132449477715334,-1.538077537986922,0.04651870366323089,0.24043595492857256,0.35729055466919657,0.023400722584806403,-0.18712386683292365,-1.3061229116767614,0.04778365721760829,0.3123497007713095,1.8398002507776399,-0.9607476319391202,-0.1666046527207271,0.7242861439665697,0.20125182850242238,0.905483293506512,0.9752938038603591,0.35425824862340866,-0.27586685231942104,0.11976282465338085,3.2243782304736053,2.0931416280461344,-0.9511333098681802,-0.3984245245883266,-0.22451354667979806,1.2338333260992367,1.2579236097499082,0.7002378085384303,-0.3461053591931336,-0.03964551470745989,-0.3068339828473522,-0.49375752698330977,0.4023347882608713,-2.669455923852125,0.3792523857491676,-0.8900751524116217,-1.408124367597601,0.2454881123818337,-1.1621401975664536,-0.9665745540254186,-1.0932691246330395,0.5901274307875186,-2.380602599864061,1.9806669427320818,-0.7185877181308681,-0.3151174946912165,0.6371137482940696,-0.580782043392684,0.6866161863110284,1.7016331319215445,0.17366797709539758,0.80654107694807,1.0748291936624732,1.2247102877434826,1.4856703181119582,0.7572276084962513,0.09586379779127335,0.5749735657711563,0.26297684223876916,1.4596711124358221,0.5638167296469515],\"type\":\"scatter\"}],                        {\"legend\":{\"bgcolor\":\"#F5F6F9\",\"font\":{\"color\":\"#4D5663\"}},\"paper_bgcolor\":\"#F5F6F9\",\"plot_bgcolor\":\"#F5F6F9\",\"template\":{\"data\":{\"barpolar\":[{\"marker\":{\"line\":{\"color\":\"#E5ECF6\",\"width\":0.5},\"pattern\":{\"fillmode\":\"overlay\",\"size\":10,\"solidity\":0.2}},\"type\":\"barpolar\"}],\"bar\":[{\"error_x\":{\"color\":\"#2a3f5f\"},\"error_y\":{\"color\":\"#2a3f5f\"},\"marker\":{\"line\":{\"color\":\"#E5ECF6\",\"width\":0.5},\"pattern\":{\"fillmode\":\"overlay\",\"size\":10,\"solidity\":0.2}},\"type\":\"bar\"}],\"carpet\":[{\"aaxis\":{\"endlinecolor\":\"#2a3f5f\",\"gridcolor\":\"white\",\"linecolor\":\"white\",\"minorgridcolor\":\"white\",\"startlinecolor\":\"#2a3f5f\"},\"baxis\":{\"endlinecolor\":\"#2a3f5f\",\"gridcolor\":\"white\",\"linecolor\":\"white\",\"minorgridcolor\":\"white\",\"startlinecolor\":\"#2a3f5f\"},\"type\":\"carpet\"}],\"choropleth\":[{\"colorbar\":{\"outlinewidth\":0,\"ticks\":\"\"},\"type\":\"choropleth\"}],\"contourcarpet\":[{\"colorbar\":{\"outlinewidth\":0,\"ticks\":\"\"},\"type\":\"contourcarpet\"}],\"contour\":[{\"colorbar\":{\"outlinewidth\":0,\"ticks\":\"\"},\"colorscale\":[[0.0,\"#0d0887\"],[0.1111111111111111,\"#46039f\"],[0.2222222222222222,\"#7201a8\"],[0.3333333333333333,\"#9c179e\"],[0.4444444444444444,\"#bd3786\"],[0.5555555555555556,\"#d8576b\"],[0.6666666666666666,\"#ed7953\"],[0.7777777777777778,\"#fb9f3a\"],[0.8888888888888888,\"#fdca26\"],[1.0,\"#f0f921\"]],\"type\":\"contour\"}],\"heatmapgl\":[{\"colorbar\":{\"outlinewidth\":0,\"ticks\":\"\"},\"colorscale\":[[0.0,\"#0d0887\"],[0.1111111111111111,\"#46039f\"],[0.2222222222222222,\"#7201a8\"],[0.3333333333333333,\"#9c179e\"],[0.4444444444444444,\"#bd3786\"],[0.5555555555555556,\"#d8576b\"],[0.6666666666666666,\"#ed7953\"],[0.7777777777777778,\"#fb9f3a\"],[0.8888888888888888,\"#fdca26\"],[1.0,\"#f0f921\"]],\"type\":\"heatmapgl\"}],\"heatmap\":[{\"colorbar\":{\"outlinewidth\":0,\"ticks\":\"\"},\"colorscale\":[[0.0,\"#0d0887\"],[0.1111111111111111,\"#46039f\"],[0.2222222222222222,\"#7201a8\"],[0.3333333333333333,\"#9c179e\"],[0.4444444444444444,\"#bd3786\"],[0.5555555555555556,\"#d8576b\"],[0.6666666666666666,\"#ed7953\"],[0.7777777777777778,\"#fb9f3a\"],[0.8888888888888888,\"#fdca26\"],[1.0,\"#f0f921\"]],\"type\":\"heatmap\"}],\"histogram2dcontour\":[{\"colorbar\":{\"outlinewidth\":0,\"ticks\":\"\"},\"colorscale\":[[0.0,\"#0d0887\"],[0.1111111111111111,\"#46039f\"],[0.2222222222222222,\"#7201a8\"],[0.3333333333333333,\"#9c179e\"],[0.4444444444444444,\"#bd3786\"],[0.5555555555555556,\"#d8576b\"],[0.6666666666666666,\"#ed7953\"],[0.7777777777777778,\"#fb9f3a\"],[0.8888888888888888,\"#fdca26\"],[1.0,\"#f0f921\"]],\"type\":\"histogram2dcontour\"}],\"histogram2d\":[{\"colorbar\":{\"outlinewidth\":0,\"ticks\":\"\"},\"colorscale\":[[0.0,\"#0d0887\"],[0.1111111111111111,\"#46039f\"],[0.2222222222222222,\"#7201a8\"],[0.3333333333333333,\"#9c179e\"],[0.4444444444444444,\"#bd3786\"],[0.5555555555555556,\"#d8576b\"],[0.6666666666666666,\"#ed7953\"],[0.7777777777777778,\"#fb9f3a\"],[0.8888888888888888,\"#fdca26\"],[1.0,\"#f0f921\"]],\"type\":\"histogram2d\"}],\"histogram\":[{\"marker\":{\"pattern\":{\"fillmode\":\"overlay\",\"size\":10,\"solidity\":0.2}},\"type\":\"histogram\"}],\"mesh3d\":[{\"colorbar\":{\"outlinewidth\":0,\"ticks\":\"\"},\"type\":\"mesh3d\"}],\"parcoords\":[{\"line\":{\"colorbar\":{\"outlinewidth\":0,\"ticks\":\"\"}},\"type\":\"parcoords\"}],\"pie\":[{\"automargin\":true,\"type\":\"pie\"}],\"scatter3d\":[{\"line\":{\"colorbar\":{\"outlinewidth\":0,\"ticks\":\"\"}},\"marker\":{\"colorbar\":{\"outlinewidth\":0,\"ticks\":\"\"}},\"type\":\"scatter3d\"}],\"scattercarpet\":[{\"marker\":{\"colorbar\":{\"outlinewidth\":0,\"ticks\":\"\"}},\"type\":\"scattercarpet\"}],\"scattergeo\":[{\"marker\":{\"colorbar\":{\"outlinewidth\":0,\"ticks\":\"\"}},\"type\":\"scattergeo\"}],\"scattergl\":[{\"marker\":{\"colorbar\":{\"outlinewidth\":0,\"ticks\":\"\"}},\"type\":\"scattergl\"}],\"scattermapbox\":[{\"marker\":{\"colorbar\":{\"outlinewidth\":0,\"ticks\":\"\"}},\"type\":\"scattermapbox\"}],\"scatterpolargl\":[{\"marker\":{\"colorbar\":{\"outlinewidth\":0,\"ticks\":\"\"}},\"type\":\"scatterpolargl\"}],\"scatterpolar\":[{\"marker\":{\"colorbar\":{\"outlinewidth\":0,\"ticks\":\"\"}},\"type\":\"scatterpolar\"}],\"scatter\":[{\"fillpattern\":{\"fillmode\":\"overlay\",\"size\":10,\"solidity\":0.2},\"type\":\"scatter\"}],\"scatterternary\":[{\"marker\":{\"colorbar\":{\"outlinewidth\":0,\"ticks\":\"\"}},\"type\":\"scatterternary\"}],\"surface\":[{\"colorbar\":{\"outlinewidth\":0,\"ticks\":\"\"},\"colorscale\":[[0.0,\"#0d0887\"],[0.1111111111111111,\"#46039f\"],[0.2222222222222222,\"#7201a8\"],[0.3333333333333333,\"#9c179e\"],[0.4444444444444444,\"#bd3786\"],[0.5555555555555556,\"#d8576b\"],[0.6666666666666666,\"#ed7953\"],[0.7777777777777778,\"#fb9f3a\"],[0.8888888888888888,\"#fdca26\"],[1.0,\"#f0f921\"]],\"type\":\"surface\"}],\"table\":[{\"cells\":{\"fill\":{\"color\":\"#EBF0F8\"},\"line\":{\"color\":\"white\"}},\"header\":{\"fill\":{\"color\":\"#C8D4E3\"},\"line\":{\"color\":\"white\"}},\"type\":\"table\"}]},\"layout\":{\"annotationdefaults\":{\"arrowcolor\":\"#2a3f5f\",\"arrowhead\":0,\"arrowwidth\":1},\"autotypenumbers\":\"strict\",\"coloraxis\":{\"colorbar\":{\"outlinewidth\":0,\"ticks\":\"\"}},\"colorscale\":{\"diverging\":[[0,\"#8e0152\"],[0.1,\"#c51b7d\"],[0.2,\"#de77ae\"],[0.3,\"#f1b6da\"],[0.4,\"#fde0ef\"],[0.5,\"#f7f7f7\"],[0.6,\"#e6f5d0\"],[0.7,\"#b8e186\"],[0.8,\"#7fbc41\"],[0.9,\"#4d9221\"],[1,\"#276419\"]],\"sequential\":[[0.0,\"#0d0887\"],[0.1111111111111111,\"#46039f\"],[0.2222222222222222,\"#7201a8\"],[0.3333333333333333,\"#9c179e\"],[0.4444444444444444,\"#bd3786\"],[0.5555555555555556,\"#d8576b\"],[0.6666666666666666,\"#ed7953\"],[0.7777777777777778,\"#fb9f3a\"],[0.8888888888888888,\"#fdca26\"],[1.0,\"#f0f921\"]],\"sequentialminus\":[[0.0,\"#0d0887\"],[0.1111111111111111,\"#46039f\"],[0.2222222222222222,\"#7201a8\"],[0.3333333333333333,\"#9c179e\"],[0.4444444444444444,\"#bd3786\"],[0.5555555555555556,\"#d8576b\"],[0.6666666666666666,\"#ed7953\"],[0.7777777777777778,\"#fb9f3a\"],[0.8888888888888888,\"#fdca26\"],[1.0,\"#f0f921\"]]},\"colorway\":[\"#636efa\",\"#EF553B\",\"#00cc96\",\"#ab63fa\",\"#FFA15A\",\"#19d3f3\",\"#FF6692\",\"#B6E880\",\"#FF97FF\",\"#FECB52\"],\"font\":{\"color\":\"#2a3f5f\"},\"geo\":{\"bgcolor\":\"white\",\"lakecolor\":\"white\",\"landcolor\":\"#E5ECF6\",\"showlakes\":true,\"showland\":true,\"subunitcolor\":\"white\"},\"hoverlabel\":{\"align\":\"left\"},\"hovermode\":\"closest\",\"mapbox\":{\"style\":\"light\"},\"paper_bgcolor\":\"white\",\"plot_bgcolor\":\"#E5ECF6\",\"polar\":{\"angularaxis\":{\"gridcolor\":\"white\",\"linecolor\":\"white\",\"ticks\":\"\"},\"bgcolor\":\"#E5ECF6\",\"radialaxis\":{\"gridcolor\":\"white\",\"linecolor\":\"white\",\"ticks\":\"\"}},\"scene\":{\"xaxis\":{\"backgroundcolor\":\"#E5ECF6\",\"gridcolor\":\"white\",\"gridwidth\":2,\"linecolor\":\"white\",\"showbackground\":true,\"ticks\":\"\",\"zerolinecolor\":\"white\"},\"yaxis\":{\"backgroundcolor\":\"#E5ECF6\",\"gridcolor\":\"white\",\"gridwidth\":2,\"linecolor\":\"white\",\"showbackground\":true,\"ticks\":\"\",\"zerolinecolor\":\"white\"},\"zaxis\":{\"backgroundcolor\":\"#E5ECF6\",\"gridcolor\":\"white\",\"gridwidth\":2,\"linecolor\":\"white\",\"showbackground\":true,\"ticks\":\"\",\"zerolinecolor\":\"white\"}},\"shapedefaults\":{\"line\":{\"color\":\"#2a3f5f\"}},\"ternary\":{\"aaxis\":{\"gridcolor\":\"white\",\"linecolor\":\"white\",\"ticks\":\"\"},\"baxis\":{\"gridcolor\":\"white\",\"linecolor\":\"white\",\"ticks\":\"\"},\"bgcolor\":\"#E5ECF6\",\"caxis\":{\"gridcolor\":\"white\",\"linecolor\":\"white\",\"ticks\":\"\"}},\"title\":{\"x\":0.05},\"xaxis\":{\"automargin\":true,\"gridcolor\":\"white\",\"linecolor\":\"white\",\"ticks\":\"\",\"title\":{\"standoff\":15},\"zerolinecolor\":\"white\",\"zerolinewidth\":2},\"yaxis\":{\"automargin\":true,\"gridcolor\":\"white\",\"linecolor\":\"white\",\"ticks\":\"\",\"title\":{\"standoff\":15},\"zerolinecolor\":\"white\",\"zerolinewidth\":2}}},\"title\":{\"font\":{\"color\":\"#4D5663\"}},\"xaxis\":{\"gridcolor\":\"#E1E5ED\",\"showgrid\":true,\"tickfont\":{\"color\":\"#4D5663\"},\"title\":{\"font\":{\"color\":\"#4D5663\"},\"text\":\"\"},\"zerolinecolor\":\"#E1E5ED\"},\"yaxis\":{\"gridcolor\":\"#E1E5ED\",\"showgrid\":true,\"tickfont\":{\"color\":\"#4D5663\"},\"title\":{\"font\":{\"color\":\"#4D5663\"},\"text\":\"\"},\"zerolinecolor\":\"#E1E5ED\"}},                        {\"showLink\": true, \"linkText\": \"Export to plot.ly\", \"plotlyServerURL\": \"https://plot.ly\", \"responsive\": true}                    ).then(function(){\n",
       "                            \n",
       "var gd = document.getElementById('ce8b6364-2f1d-4c0a-824d-69bbe147f848');\n",
       "var x = new MutationObserver(function (mutations, observer) {{\n",
       "        var display = window.getComputedStyle(gd).display;\n",
       "        if (!display || display === 'none') {{\n",
       "            console.log([gd, 'removed!']);\n",
       "            Plotly.purge(gd);\n",
       "            observer.disconnect();\n",
       "        }}\n",
       "}});\n",
       "\n",
       "// Listen for the removal of the full notebook cells\n",
       "var notebookContainer = gd.closest('#notebook-container');\n",
       "if (notebookContainer) {{\n",
       "    x.observe(notebookContainer, {childList: true});\n",
       "}}\n",
       "\n",
       "// Listen for the clearing of the current output cell\n",
       "var outputEl = gd.closest('.output');\n",
       "if (outputEl) {{\n",
       "    x.observe(outputEl, {childList: true});\n",
       "}}\n",
       "\n",
       "                        })                };                });            </script>        </div>"
      ]
     },
     "metadata": {},
     "output_type": "display_data"
    }
   ],
   "source": [
    "df.iplot() #interactive plot"
   ]
  },
  {
   "cell_type": "code",
   "execution_count": 58,
   "id": "b23d180d",
   "metadata": {},
   "outputs": [
    {
     "data": {
      "application/vnd.plotly.v1+json": {
       "config": {
        "linkText": "Export to plot.ly",
        "plotlyServerURL": "https://plot.ly",
        "showLink": true
       },
       "data": [
        {
         "line": {
          "color": "rgba(255, 153, 51, 1.0)",
          "dash": "solid",
          "shape": "linear",
          "width": 1.3
         },
         "mode": "lines",
         "name": "A",
         "text": "",
         "type": "scatter",
         "x": [
          0,
          1,
          2,
          3,
          4,
          5,
          6,
          7,
          8,
          9,
          10,
          11,
          12,
          13,
          14,
          15,
          16,
          17,
          18,
          19,
          20,
          21,
          22,
          23,
          24,
          25,
          26,
          27,
          28,
          29,
          30,
          31,
          32,
          33,
          34,
          35,
          36,
          37,
          38,
          39,
          40,
          41,
          42,
          43,
          44,
          45,
          46,
          47,
          48,
          49,
          50,
          51,
          52,
          53,
          54,
          55,
          56,
          57,
          58,
          59,
          60,
          61,
          62,
          63,
          64,
          65,
          66,
          67,
          68,
          69,
          70,
          71,
          72,
          73,
          74,
          75,
          76,
          77,
          78,
          79,
          80,
          81,
          82,
          83,
          84,
          85,
          86,
          87,
          88,
          89,
          90,
          91,
          92,
          93,
          94,
          95,
          96,
          97,
          98,
          99
         ],
         "y": [
          1.6185342153503897,
          1.1848362441609444,
          1.0676265789711767,
          0.6289578176999444,
          -0.0731723746557524,
          -0.10349025747306093,
          -0.13828150425216726,
          0.8810902574734345,
          -0.5542620086053726,
          1.367655392604224,
          0.42159233908657434,
          -1.6600131400907159,
          -2.321880943758504,
          -0.14525715490075852,
          -1.4150329423246357,
          1.1902193781513097,
          0.032605182130966644,
          -1.1068654931550255,
          -0.4881710870419417,
          -1.0064654004665394,
          -1.4861349648044178,
          0.42126197939457344,
          0.2033513437481144,
          0.6780192171590568,
          2.2695601885039856,
          -1.0530794893148434,
          -0.7599582936020849,
          0.07479649981688027,
          -0.5004585006618902,
          -0.7069045792139065,
          -0.7490649048467005,
          -0.9573833622535074,
          0.3184903662704784,
          0.5232510497782804,
          -0.292920914056626,
          0.5526442907323154,
          0.28927758198705866,
          -0.9595308675629673,
          0.6624074725052688,
          -1.2675470861916667,
          -1.298518317282184,
          1.6505714308200703,
          0.7711743870399246,
          -0.10350465261086673,
          -0.9890595965375653,
          0.09060720967289916,
          -0.9664272965492815,
          1.7520110562695306,
          2.0598160276614736,
          -1.5398792263792436,
          0.14913323679684518,
          0.995048297495277,
          -0.8178015437731536,
          -1.1488188276104512,
          -1.2553879715068992,
          0.702144807401087,
          -0.14721370696443659,
          0.9849700972122788,
          -1.6159928381795001,
          2.8876664099211764,
          1.1792610841498818,
          1.137534866296284,
          0.36529841743489505,
          0.6837628681037843,
          0.3857655623229011,
          -1.4277493996033706,
          1.9387091111049926,
          -0.8799227856643209,
          0.17157935956524548,
          1.2164326922302917,
          0.004829280486984333,
          -0.7305142209733924,
          0.8090950392810067,
          -2.7632429506224883,
          0.9238654843844363,
          0.13909084142958214,
          0.06932779342792991,
          0.10316445888209945,
          -1.4408925516222189,
          -1.5014989504920706,
          1.3164328202880184,
          0.20632089660007252,
          -0.4332798600838577,
          0.5100226609573209,
          -0.5583994791359564,
          0.4825916998568048,
          -0.15873725230421742,
          -2.033833509570888,
          -0.56776873608412,
          -1.3983642700361827,
          -0.17721085755554614,
          -0.4777864854606395,
          -0.7084571357637636,
          0.14725150781339041,
          0.5160571944585837,
          2.391248105092854,
          -0.035925646760449015,
          0.3993352653098139,
          0.5041548045378224,
          -2.4531789724121182
         ]
        },
        {
         "line": {
          "color": "rgba(55, 128, 191, 1.0)",
          "dash": "solid",
          "shape": "linear",
          "width": 1.3
         },
         "mode": "lines",
         "name": "B",
         "text": "",
         "type": "scatter",
         "x": [
          0,
          1,
          2,
          3,
          4,
          5,
          6,
          7,
          8,
          9,
          10,
          11,
          12,
          13,
          14,
          15,
          16,
          17,
          18,
          19,
          20,
          21,
          22,
          23,
          24,
          25,
          26,
          27,
          28,
          29,
          30,
          31,
          32,
          33,
          34,
          35,
          36,
          37,
          38,
          39,
          40,
          41,
          42,
          43,
          44,
          45,
          46,
          47,
          48,
          49,
          50,
          51,
          52,
          53,
          54,
          55,
          56,
          57,
          58,
          59,
          60,
          61,
          62,
          63,
          64,
          65,
          66,
          67,
          68,
          69,
          70,
          71,
          72,
          73,
          74,
          75,
          76,
          77,
          78,
          79,
          80,
          81,
          82,
          83,
          84,
          85,
          86,
          87,
          88,
          89,
          90,
          91,
          92,
          93,
          94,
          95,
          96,
          97,
          98,
          99
         ],
         "y": [
          0.24555663252945903,
          -0.5638129038214954,
          0.15838017982758465,
          0.025965138727300052,
          1.0261693833091186,
          -1.8117251738858402,
          1.2824990052649607,
          0.9227163869758231,
          -0.32928491407238214,
          0.3366044693090377,
          0.16065191024800432,
          0.8082078977266477,
          -0.37421382646895285,
          0.4443612006818534,
          1.2591791755585575,
          -0.272577764440088,
          0.05397960093059676,
          0.9925302761246275,
          0.8240201250613609,
          0.03421864511183541,
          1.7687225019146364,
          0.9401432164859415,
          1.294385534196133,
          0.6944745568559109,
          0.4364763563018746,
          0.19932268382576923,
          -0.27934197237725056,
          -1.5844482409973324,
          0.8691582357782162,
          0.7968557938544397,
          1.227966360927478,
          0.32626552917603463,
          -0.5268174005804046,
          0.16189388577452204,
          0.47272456823309345,
          0.08452053298458287,
          -0.8350294005227219,
          0.8340070844504154,
          -1.2518433951160093,
          -0.5889093096430914,
          -1.5761297357175614,
          0.7025218259235306,
          0.9816624927802996,
          -1.3176098140720194,
          1.0192498512213706,
          -0.06384003639023407,
          -0.6499138608042271,
          1.779442553151568,
          0.9457660017435001,
          1.307783424473417,
          -0.22117084156221578,
          1.7868932790407142,
          -1.0844140449242934,
          0.35024847218493776,
          0.884244535300552,
          0.6614379919438789,
          -1.3080451104956212,
          -0.19203618050731222,
          1.400879527302598,
          -1.9204936660131982,
          0.0733528470981566,
          -2.7096374996506603,
          1.2516569643880509,
          1.375309163239427,
          0.6338916751026681,
          -0.44015753737571284,
          -0.47999473391612174,
          -0.5470196774727828,
          -0.6448957474033917,
          -1.2312387282637907,
          -0.7882654917165696,
          0.6992660805993933,
          1.343159728014624,
          0.006554386717324803,
          1.1839666350547748,
          0.7852962090064953,
          1.090853039440043,
          -0.9191197192317047,
          -0.584937510658358,
          0.09935280627146068,
          -1.0597550817994716,
          0.6327940167393934,
          -0.26286404024615473,
          1.3291756615688792,
          -1.082743328643993,
          -0.2925693546759645,
          0.5283895907770542,
          1.7397374477560037,
          -0.34785501448501577,
          -1.1370577316276549,
          -1.116757259654754,
          -0.18340610752183722,
          -0.5649610550472014,
          -0.6529937313804469,
          1.1892675399002437,
          -0.036918623731211,
          0.4873170568674592,
          0.20282226504473866,
          -0.09245437072411745,
          -1.719683555373446
         ]
        },
        {
         "line": {
          "color": "rgba(50, 171, 96, 1.0)",
          "dash": "solid",
          "shape": "linear",
          "width": 1.3
         },
         "mode": "lines",
         "name": "C",
         "text": "",
         "type": "scatter",
         "x": [
          0,
          1,
          2,
          3,
          4,
          5,
          6,
          7,
          8,
          9,
          10,
          11,
          12,
          13,
          14,
          15,
          16,
          17,
          18,
          19,
          20,
          21,
          22,
          23,
          24,
          25,
          26,
          27,
          28,
          29,
          30,
          31,
          32,
          33,
          34,
          35,
          36,
          37,
          38,
          39,
          40,
          41,
          42,
          43,
          44,
          45,
          46,
          47,
          48,
          49,
          50,
          51,
          52,
          53,
          54,
          55,
          56,
          57,
          58,
          59,
          60,
          61,
          62,
          63,
          64,
          65,
          66,
          67,
          68,
          69,
          70,
          71,
          72,
          73,
          74,
          75,
          76,
          77,
          78,
          79,
          80,
          81,
          82,
          83,
          84,
          85,
          86,
          87,
          88,
          89,
          90,
          91,
          92,
          93,
          94,
          95,
          96,
          97,
          98,
          99
         ],
         "y": [
          -0.7644822413693503,
          -0.1662780085710339,
          0.476737776512657,
          1.4936427419112215,
          -0.22543083544286424,
          -1.1528789834282267,
          -0.9145599054270486,
          0.6926928442784844,
          -0.7846538929797743,
          3.261286499391137,
          -0.3196878208660037,
          -0.5580597341869193,
          -0.07611352643623193,
          -0.8898316509425989,
          -0.060257606747032635,
          -1.3668359664811756,
          -0.3919686336500909,
          1.5773911905104674,
          -3.672083633498876,
          0.9592072279269754,
          -0.36728173072607145,
          -0.06592633986444874,
          0.5195147403283626,
          1.4367648709473158,
          0.588393385748988,
          0.5010464120146308,
          1.458197359722872,
          1.4033408998176609,
          0.5882306906786982,
          -0.01330942267740433,
          1.2204185193567985,
          -0.10351237409761757,
          0.9706776034627427,
          -0.40920892348266236,
          -0.4866247360048921,
          0.7447191006627771,
          1.1753784285764202,
          -0.5412944791445348,
          -0.4027018764364136,
          1.8452248769505646,
          0.7341576819387037,
          -0.3051854810248275,
          -0.455162147955806,
          -2.0936535067897633,
          -0.40803538659550626,
          -0.557237147596639,
          0.41033157396129283,
          1.8103444417304027,
          1.2729115835710718,
          -0.365619533164616,
          0.4045133583442117,
          0.878458817843963,
          1.1716116786672737,
          -0.327185943945804,
          -1.4642372365515886,
          0.7479040937945937,
          -0.21232086450058058,
          0.30441721368609154,
          -0.17838098345618944,
          0.048893538909246685,
          0.5431229851756696,
          -1.5511865083904635,
          0.748135895567872,
          -0.8027523221376446,
          0.05413105733115739,
          -0.7552986349452647,
          1.6925935305078619,
          2.7731199599523024,
          0.3976042964293238,
          0.16069785582660906,
          1.8582639023881855,
          -2.8071351426453006,
          -0.39275983410029053,
          -1.7962738629907888,
          -2.8846404770038054,
          1.1236777466184569,
          0.12690159251538763,
          -1.1528007942449985,
          1.5470584624794035,
          -1.0005599812456638,
          -1.0361221173839588,
          -0.27961960165187155,
          1.4052368799060402,
          -0.08589290136502413,
          -1.0523067336538345,
          -0.7823991345386283,
          -1.0782677441716935,
          0.4118484560269983,
          -0.1341138205847123,
          0.88217168473262,
          -1.0530760579886873,
          -1.11470542274002,
          -0.3639578541068347,
          0.7090787748642308,
          -0.05043629087056435,
          -0.6411187072517381,
          0.11225083761789163,
          -0.3161044723542811,
          0.36134256890035965,
          1.064898007641068
         ]
        },
        {
         "line": {
          "color": "rgba(128, 0, 128, 1.0)",
          "dash": "solid",
          "shape": "linear",
          "width": 1.3
         },
         "mode": "lines",
         "name": "D",
         "text": "",
         "type": "scatter",
         "x": [
          0,
          1,
          2,
          3,
          4,
          5,
          6,
          7,
          8,
          9,
          10,
          11,
          12,
          13,
          14,
          15,
          16,
          17,
          18,
          19,
          20,
          21,
          22,
          23,
          24,
          25,
          26,
          27,
          28,
          29,
          30,
          31,
          32,
          33,
          34,
          35,
          36,
          37,
          38,
          39,
          40,
          41,
          42,
          43,
          44,
          45,
          46,
          47,
          48,
          49,
          50,
          51,
          52,
          53,
          54,
          55,
          56,
          57,
          58,
          59,
          60,
          61,
          62,
          63,
          64,
          65,
          66,
          67,
          68,
          69,
          70,
          71,
          72,
          73,
          74,
          75,
          76,
          77,
          78,
          79,
          80,
          81,
          82,
          83,
          84,
          85,
          86,
          87,
          88,
          89,
          90,
          91,
          92,
          93,
          94,
          95,
          96,
          97,
          98,
          99
         ],
         "y": [
          0.2744649834576402,
          0.30505186749072055,
          0.9552842712056142,
          -1.5877356412380441,
          -1.9829666534938248,
          0.7281059616081297,
          -0.24866605176086806,
          1.6867746489714364,
          -0.47433186805037475,
          1.3309093841279975,
          0.7826651601189504,
          0.06633303853784404,
          0.13517470911895196,
          0.16004480263028875,
          -0.7547005701421727,
          -0.5769737391550736,
          0.7292426011402716,
          -0.9013427172451478,
          0.7638875771702128,
          0.502849277241576,
          -0.14986686819522207,
          -0.15154766185481316,
          1.7835126345197732,
          0.9250576775717128,
          -0.8267734506854625,
          -1.0524333267491204,
          0.7771261928019507,
          1.3323368419066017,
          -0.3902289572716338,
          -2.165987786738288,
          1.2471730706066182,
          -0.7239374669366284,
          0.5845519354093854,
          0.8242761695515141,
          -0.20143211884371268,
          0.7747345462600389,
          1.301164749130198,
          1.7334250664323112,
          -1.4953144105740297,
          0.04132449477715334,
          -1.538077537986922,
          0.04651870366323089,
          0.24043595492857256,
          0.35729055466919657,
          0.023400722584806403,
          -0.18712386683292365,
          -1.3061229116767614,
          0.04778365721760829,
          0.3123497007713095,
          1.8398002507776399,
          -0.9607476319391202,
          -0.1666046527207271,
          0.7242861439665697,
          0.20125182850242238,
          0.905483293506512,
          0.9752938038603591,
          0.35425824862340866,
          -0.27586685231942104,
          0.11976282465338085,
          3.2243782304736053,
          2.0931416280461344,
          -0.9511333098681802,
          -0.3984245245883266,
          -0.22451354667979806,
          1.2338333260992367,
          1.2579236097499082,
          0.7002378085384303,
          -0.3461053591931336,
          -0.03964551470745989,
          -0.3068339828473522,
          -0.49375752698330977,
          0.4023347882608713,
          -2.669455923852125,
          0.3792523857491676,
          -0.8900751524116217,
          -1.408124367597601,
          0.2454881123818337,
          -1.1621401975664536,
          -0.9665745540254186,
          -1.0932691246330395,
          0.5901274307875186,
          -2.380602599864061,
          1.9806669427320818,
          -0.7185877181308681,
          -0.3151174946912165,
          0.6371137482940696,
          -0.580782043392684,
          0.6866161863110284,
          1.7016331319215445,
          0.17366797709539758,
          0.80654107694807,
          1.0748291936624732,
          1.2247102877434826,
          1.4856703181119582,
          0.7572276084962513,
          0.09586379779127335,
          0.5749735657711563,
          0.26297684223876916,
          1.4596711124358221,
          0.5638167296469515
         ]
        }
       ],
       "layout": {
        "legend": {
         "bgcolor": "#F5F6F9",
         "font": {
          "color": "#4D5663"
         }
        },
        "paper_bgcolor": "#F5F6F9",
        "plot_bgcolor": "#F5F6F9",
        "template": {
         "data": {
          "bar": [
           {
            "error_x": {
             "color": "#2a3f5f"
            },
            "error_y": {
             "color": "#2a3f5f"
            },
            "marker": {
             "line": {
              "color": "#E5ECF6",
              "width": 0.5
             },
             "pattern": {
              "fillmode": "overlay",
              "size": 10,
              "solidity": 0.2
             }
            },
            "type": "bar"
           }
          ],
          "barpolar": [
           {
            "marker": {
             "line": {
              "color": "#E5ECF6",
              "width": 0.5
             },
             "pattern": {
              "fillmode": "overlay",
              "size": 10,
              "solidity": 0.2
             }
            },
            "type": "barpolar"
           }
          ],
          "carpet": [
           {
            "aaxis": {
             "endlinecolor": "#2a3f5f",
             "gridcolor": "white",
             "linecolor": "white",
             "minorgridcolor": "white",
             "startlinecolor": "#2a3f5f"
            },
            "baxis": {
             "endlinecolor": "#2a3f5f",
             "gridcolor": "white",
             "linecolor": "white",
             "minorgridcolor": "white",
             "startlinecolor": "#2a3f5f"
            },
            "type": "carpet"
           }
          ],
          "choropleth": [
           {
            "colorbar": {
             "outlinewidth": 0,
             "ticks": ""
            },
            "type": "choropleth"
           }
          ],
          "contour": [
           {
            "colorbar": {
             "outlinewidth": 0,
             "ticks": ""
            },
            "colorscale": [
             [
              0,
              "#0d0887"
             ],
             [
              0.1111111111111111,
              "#46039f"
             ],
             [
              0.2222222222222222,
              "#7201a8"
             ],
             [
              0.3333333333333333,
              "#9c179e"
             ],
             [
              0.4444444444444444,
              "#bd3786"
             ],
             [
              0.5555555555555556,
              "#d8576b"
             ],
             [
              0.6666666666666666,
              "#ed7953"
             ],
             [
              0.7777777777777778,
              "#fb9f3a"
             ],
             [
              0.8888888888888888,
              "#fdca26"
             ],
             [
              1,
              "#f0f921"
             ]
            ],
            "type": "contour"
           }
          ],
          "contourcarpet": [
           {
            "colorbar": {
             "outlinewidth": 0,
             "ticks": ""
            },
            "type": "contourcarpet"
           }
          ],
          "heatmap": [
           {
            "colorbar": {
             "outlinewidth": 0,
             "ticks": ""
            },
            "colorscale": [
             [
              0,
              "#0d0887"
             ],
             [
              0.1111111111111111,
              "#46039f"
             ],
             [
              0.2222222222222222,
              "#7201a8"
             ],
             [
              0.3333333333333333,
              "#9c179e"
             ],
             [
              0.4444444444444444,
              "#bd3786"
             ],
             [
              0.5555555555555556,
              "#d8576b"
             ],
             [
              0.6666666666666666,
              "#ed7953"
             ],
             [
              0.7777777777777778,
              "#fb9f3a"
             ],
             [
              0.8888888888888888,
              "#fdca26"
             ],
             [
              1,
              "#f0f921"
             ]
            ],
            "type": "heatmap"
           }
          ],
          "heatmapgl": [
           {
            "colorbar": {
             "outlinewidth": 0,
             "ticks": ""
            },
            "colorscale": [
             [
              0,
              "#0d0887"
             ],
             [
              0.1111111111111111,
              "#46039f"
             ],
             [
              0.2222222222222222,
              "#7201a8"
             ],
             [
              0.3333333333333333,
              "#9c179e"
             ],
             [
              0.4444444444444444,
              "#bd3786"
             ],
             [
              0.5555555555555556,
              "#d8576b"
             ],
             [
              0.6666666666666666,
              "#ed7953"
             ],
             [
              0.7777777777777778,
              "#fb9f3a"
             ],
             [
              0.8888888888888888,
              "#fdca26"
             ],
             [
              1,
              "#f0f921"
             ]
            ],
            "type": "heatmapgl"
           }
          ],
          "histogram": [
           {
            "marker": {
             "pattern": {
              "fillmode": "overlay",
              "size": 10,
              "solidity": 0.2
             }
            },
            "type": "histogram"
           }
          ],
          "histogram2d": [
           {
            "colorbar": {
             "outlinewidth": 0,
             "ticks": ""
            },
            "colorscale": [
             [
              0,
              "#0d0887"
             ],
             [
              0.1111111111111111,
              "#46039f"
             ],
             [
              0.2222222222222222,
              "#7201a8"
             ],
             [
              0.3333333333333333,
              "#9c179e"
             ],
             [
              0.4444444444444444,
              "#bd3786"
             ],
             [
              0.5555555555555556,
              "#d8576b"
             ],
             [
              0.6666666666666666,
              "#ed7953"
             ],
             [
              0.7777777777777778,
              "#fb9f3a"
             ],
             [
              0.8888888888888888,
              "#fdca26"
             ],
             [
              1,
              "#f0f921"
             ]
            ],
            "type": "histogram2d"
           }
          ],
          "histogram2dcontour": [
           {
            "colorbar": {
             "outlinewidth": 0,
             "ticks": ""
            },
            "colorscale": [
             [
              0,
              "#0d0887"
             ],
             [
              0.1111111111111111,
              "#46039f"
             ],
             [
              0.2222222222222222,
              "#7201a8"
             ],
             [
              0.3333333333333333,
              "#9c179e"
             ],
             [
              0.4444444444444444,
              "#bd3786"
             ],
             [
              0.5555555555555556,
              "#d8576b"
             ],
             [
              0.6666666666666666,
              "#ed7953"
             ],
             [
              0.7777777777777778,
              "#fb9f3a"
             ],
             [
              0.8888888888888888,
              "#fdca26"
             ],
             [
              1,
              "#f0f921"
             ]
            ],
            "type": "histogram2dcontour"
           }
          ],
          "mesh3d": [
           {
            "colorbar": {
             "outlinewidth": 0,
             "ticks": ""
            },
            "type": "mesh3d"
           }
          ],
          "parcoords": [
           {
            "line": {
             "colorbar": {
              "outlinewidth": 0,
              "ticks": ""
             }
            },
            "type": "parcoords"
           }
          ],
          "pie": [
           {
            "automargin": true,
            "type": "pie"
           }
          ],
          "scatter": [
           {
            "fillpattern": {
             "fillmode": "overlay",
             "size": 10,
             "solidity": 0.2
            },
            "type": "scatter"
           }
          ],
          "scatter3d": [
           {
            "line": {
             "colorbar": {
              "outlinewidth": 0,
              "ticks": ""
             }
            },
            "marker": {
             "colorbar": {
              "outlinewidth": 0,
              "ticks": ""
             }
            },
            "type": "scatter3d"
           }
          ],
          "scattercarpet": [
           {
            "marker": {
             "colorbar": {
              "outlinewidth": 0,
              "ticks": ""
             }
            },
            "type": "scattercarpet"
           }
          ],
          "scattergeo": [
           {
            "marker": {
             "colorbar": {
              "outlinewidth": 0,
              "ticks": ""
             }
            },
            "type": "scattergeo"
           }
          ],
          "scattergl": [
           {
            "marker": {
             "colorbar": {
              "outlinewidth": 0,
              "ticks": ""
             }
            },
            "type": "scattergl"
           }
          ],
          "scattermapbox": [
           {
            "marker": {
             "colorbar": {
              "outlinewidth": 0,
              "ticks": ""
             }
            },
            "type": "scattermapbox"
           }
          ],
          "scatterpolar": [
           {
            "marker": {
             "colorbar": {
              "outlinewidth": 0,
              "ticks": ""
             }
            },
            "type": "scatterpolar"
           }
          ],
          "scatterpolargl": [
           {
            "marker": {
             "colorbar": {
              "outlinewidth": 0,
              "ticks": ""
             }
            },
            "type": "scatterpolargl"
           }
          ],
          "scatterternary": [
           {
            "marker": {
             "colorbar": {
              "outlinewidth": 0,
              "ticks": ""
             }
            },
            "type": "scatterternary"
           }
          ],
          "surface": [
           {
            "colorbar": {
             "outlinewidth": 0,
             "ticks": ""
            },
            "colorscale": [
             [
              0,
              "#0d0887"
             ],
             [
              0.1111111111111111,
              "#46039f"
             ],
             [
              0.2222222222222222,
              "#7201a8"
             ],
             [
              0.3333333333333333,
              "#9c179e"
             ],
             [
              0.4444444444444444,
              "#bd3786"
             ],
             [
              0.5555555555555556,
              "#d8576b"
             ],
             [
              0.6666666666666666,
              "#ed7953"
             ],
             [
              0.7777777777777778,
              "#fb9f3a"
             ],
             [
              0.8888888888888888,
              "#fdca26"
             ],
             [
              1,
              "#f0f921"
             ]
            ],
            "type": "surface"
           }
          ],
          "table": [
           {
            "cells": {
             "fill": {
              "color": "#EBF0F8"
             },
             "line": {
              "color": "white"
             }
            },
            "header": {
             "fill": {
              "color": "#C8D4E3"
             },
             "line": {
              "color": "white"
             }
            },
            "type": "table"
           }
          ]
         },
         "layout": {
          "annotationdefaults": {
           "arrowcolor": "#2a3f5f",
           "arrowhead": 0,
           "arrowwidth": 1
          },
          "autotypenumbers": "strict",
          "coloraxis": {
           "colorbar": {
            "outlinewidth": 0,
            "ticks": ""
           }
          },
          "colorscale": {
           "diverging": [
            [
             0,
             "#8e0152"
            ],
            [
             0.1,
             "#c51b7d"
            ],
            [
             0.2,
             "#de77ae"
            ],
            [
             0.3,
             "#f1b6da"
            ],
            [
             0.4,
             "#fde0ef"
            ],
            [
             0.5,
             "#f7f7f7"
            ],
            [
             0.6,
             "#e6f5d0"
            ],
            [
             0.7,
             "#b8e186"
            ],
            [
             0.8,
             "#7fbc41"
            ],
            [
             0.9,
             "#4d9221"
            ],
            [
             1,
             "#276419"
            ]
           ],
           "sequential": [
            [
             0,
             "#0d0887"
            ],
            [
             0.1111111111111111,
             "#46039f"
            ],
            [
             0.2222222222222222,
             "#7201a8"
            ],
            [
             0.3333333333333333,
             "#9c179e"
            ],
            [
             0.4444444444444444,
             "#bd3786"
            ],
            [
             0.5555555555555556,
             "#d8576b"
            ],
            [
             0.6666666666666666,
             "#ed7953"
            ],
            [
             0.7777777777777778,
             "#fb9f3a"
            ],
            [
             0.8888888888888888,
             "#fdca26"
            ],
            [
             1,
             "#f0f921"
            ]
           ],
           "sequentialminus": [
            [
             0,
             "#0d0887"
            ],
            [
             0.1111111111111111,
             "#46039f"
            ],
            [
             0.2222222222222222,
             "#7201a8"
            ],
            [
             0.3333333333333333,
             "#9c179e"
            ],
            [
             0.4444444444444444,
             "#bd3786"
            ],
            [
             0.5555555555555556,
             "#d8576b"
            ],
            [
             0.6666666666666666,
             "#ed7953"
            ],
            [
             0.7777777777777778,
             "#fb9f3a"
            ],
            [
             0.8888888888888888,
             "#fdca26"
            ],
            [
             1,
             "#f0f921"
            ]
           ]
          },
          "colorway": [
           "#636efa",
           "#EF553B",
           "#00cc96",
           "#ab63fa",
           "#FFA15A",
           "#19d3f3",
           "#FF6692",
           "#B6E880",
           "#FF97FF",
           "#FECB52"
          ],
          "font": {
           "color": "#2a3f5f"
          },
          "geo": {
           "bgcolor": "white",
           "lakecolor": "white",
           "landcolor": "#E5ECF6",
           "showlakes": true,
           "showland": true,
           "subunitcolor": "white"
          },
          "hoverlabel": {
           "align": "left"
          },
          "hovermode": "closest",
          "mapbox": {
           "style": "light"
          },
          "paper_bgcolor": "white",
          "plot_bgcolor": "#E5ECF6",
          "polar": {
           "angularaxis": {
            "gridcolor": "white",
            "linecolor": "white",
            "ticks": ""
           },
           "bgcolor": "#E5ECF6",
           "radialaxis": {
            "gridcolor": "white",
            "linecolor": "white",
            "ticks": ""
           }
          },
          "scene": {
           "xaxis": {
            "backgroundcolor": "#E5ECF6",
            "gridcolor": "white",
            "gridwidth": 2,
            "linecolor": "white",
            "showbackground": true,
            "ticks": "",
            "zerolinecolor": "white"
           },
           "yaxis": {
            "backgroundcolor": "#E5ECF6",
            "gridcolor": "white",
            "gridwidth": 2,
            "linecolor": "white",
            "showbackground": true,
            "ticks": "",
            "zerolinecolor": "white"
           },
           "zaxis": {
            "backgroundcolor": "#E5ECF6",
            "gridcolor": "white",
            "gridwidth": 2,
            "linecolor": "white",
            "showbackground": true,
            "ticks": "",
            "zerolinecolor": "white"
           }
          },
          "shapedefaults": {
           "line": {
            "color": "#2a3f5f"
           }
          },
          "ternary": {
           "aaxis": {
            "gridcolor": "white",
            "linecolor": "white",
            "ticks": ""
           },
           "baxis": {
            "gridcolor": "white",
            "linecolor": "white",
            "ticks": ""
           },
           "bgcolor": "#E5ECF6",
           "caxis": {
            "gridcolor": "white",
            "linecolor": "white",
            "ticks": ""
           }
          },
          "title": {
           "x": 0.05
          },
          "xaxis": {
           "automargin": true,
           "gridcolor": "white",
           "linecolor": "white",
           "ticks": "",
           "title": {
            "standoff": 15
           },
           "zerolinecolor": "white",
           "zerolinewidth": 2
          },
          "yaxis": {
           "automargin": true,
           "gridcolor": "white",
           "linecolor": "white",
           "ticks": "",
           "title": {
            "standoff": 15
           },
           "zerolinecolor": "white",
           "zerolinewidth": 2
          }
         }
        },
        "title": {
         "font": {
          "color": "#4D5663"
         }
        },
        "xaxis": {
         "gridcolor": "#E1E5ED",
         "showgrid": true,
         "tickfont": {
          "color": "#4D5663"
         },
         "title": {
          "font": {
           "color": "#4D5663"
          },
          "text": ""
         },
         "zerolinecolor": "#E1E5ED"
        },
        "yaxis": {
         "gridcolor": "#E1E5ED",
         "showgrid": true,
         "tickfont": {
          "color": "#4D5663"
         },
         "title": {
          "font": {
           "color": "#4D5663"
          },
          "text": ""
         },
         "zerolinecolor": "#E1E5ED"
        }
       }
      },
      "text/html": [
       "<div>                            <div id=\"c683d50e-ead6-4b7e-8dfe-2fd77b430412\" class=\"plotly-graph-div\" style=\"height:525px; width:100%;\"></div>            <script type=\"text/javascript\">                require([\"plotly\"], function(Plotly) {                    window.PLOTLYENV=window.PLOTLYENV || {};\n",
       "                    window.PLOTLYENV.BASE_URL='https://plot.ly';                                    if (document.getElementById(\"c683d50e-ead6-4b7e-8dfe-2fd77b430412\")) {                    Plotly.newPlot(                        \"c683d50e-ead6-4b7e-8dfe-2fd77b430412\",                        [{\"line\":{\"color\":\"rgba(255, 153, 51, 1.0)\",\"dash\":\"solid\",\"shape\":\"linear\",\"width\":1.3},\"mode\":\"lines\",\"name\":\"A\",\"text\":\"\",\"x\":[0,1,2,3,4,5,6,7,8,9,10,11,12,13,14,15,16,17,18,19,20,21,22,23,24,25,26,27,28,29,30,31,32,33,34,35,36,37,38,39,40,41,42,43,44,45,46,47,48,49,50,51,52,53,54,55,56,57,58,59,60,61,62,63,64,65,66,67,68,69,70,71,72,73,74,75,76,77,78,79,80,81,82,83,84,85,86,87,88,89,90,91,92,93,94,95,96,97,98,99],\"y\":[1.6185342153503897,1.1848362441609444,1.0676265789711767,0.6289578176999444,-0.0731723746557524,-0.10349025747306093,-0.13828150425216726,0.8810902574734345,-0.5542620086053726,1.367655392604224,0.42159233908657434,-1.6600131400907159,-2.321880943758504,-0.14525715490075852,-1.4150329423246357,1.1902193781513097,0.032605182130966644,-1.1068654931550255,-0.4881710870419417,-1.0064654004665394,-1.4861349648044178,0.42126197939457344,0.2033513437481144,0.6780192171590568,2.2695601885039856,-1.0530794893148434,-0.7599582936020849,0.07479649981688027,-0.5004585006618902,-0.7069045792139065,-0.7490649048467005,-0.9573833622535074,0.3184903662704784,0.5232510497782804,-0.292920914056626,0.5526442907323154,0.28927758198705866,-0.9595308675629673,0.6624074725052688,-1.2675470861916667,-1.298518317282184,1.6505714308200703,0.7711743870399246,-0.10350465261086673,-0.9890595965375653,0.09060720967289916,-0.9664272965492815,1.7520110562695306,2.0598160276614736,-1.5398792263792436,0.14913323679684518,0.995048297495277,-0.8178015437731536,-1.1488188276104512,-1.2553879715068992,0.702144807401087,-0.14721370696443659,0.9849700972122788,-1.6159928381795001,2.8876664099211764,1.1792610841498818,1.137534866296284,0.36529841743489505,0.6837628681037843,0.3857655623229011,-1.4277493996033706,1.9387091111049926,-0.8799227856643209,0.17157935956524548,1.2164326922302917,0.004829280486984333,-0.7305142209733924,0.8090950392810067,-2.7632429506224883,0.9238654843844363,0.13909084142958214,0.06932779342792991,0.10316445888209945,-1.4408925516222189,-1.5014989504920706,1.3164328202880184,0.20632089660007252,-0.4332798600838577,0.5100226609573209,-0.5583994791359564,0.4825916998568048,-0.15873725230421742,-2.033833509570888,-0.56776873608412,-1.3983642700361827,-0.17721085755554614,-0.4777864854606395,-0.7084571357637636,0.14725150781339041,0.5160571944585837,2.391248105092854,-0.035925646760449015,0.3993352653098139,0.5041548045378224,-2.4531789724121182],\"type\":\"scatter\"},{\"line\":{\"color\":\"rgba(55, 128, 191, 1.0)\",\"dash\":\"solid\",\"shape\":\"linear\",\"width\":1.3},\"mode\":\"lines\",\"name\":\"B\",\"text\":\"\",\"x\":[0,1,2,3,4,5,6,7,8,9,10,11,12,13,14,15,16,17,18,19,20,21,22,23,24,25,26,27,28,29,30,31,32,33,34,35,36,37,38,39,40,41,42,43,44,45,46,47,48,49,50,51,52,53,54,55,56,57,58,59,60,61,62,63,64,65,66,67,68,69,70,71,72,73,74,75,76,77,78,79,80,81,82,83,84,85,86,87,88,89,90,91,92,93,94,95,96,97,98,99],\"y\":[0.24555663252945903,-0.5638129038214954,0.15838017982758465,0.025965138727300052,1.0261693833091186,-1.8117251738858402,1.2824990052649607,0.9227163869758231,-0.32928491407238214,0.3366044693090377,0.16065191024800432,0.8082078977266477,-0.37421382646895285,0.4443612006818534,1.2591791755585575,-0.272577764440088,0.05397960093059676,0.9925302761246275,0.8240201250613609,0.03421864511183541,1.7687225019146364,0.9401432164859415,1.294385534196133,0.6944745568559109,0.4364763563018746,0.19932268382576923,-0.27934197237725056,-1.5844482409973324,0.8691582357782162,0.7968557938544397,1.227966360927478,0.32626552917603463,-0.5268174005804046,0.16189388577452204,0.47272456823309345,0.08452053298458287,-0.8350294005227219,0.8340070844504154,-1.2518433951160093,-0.5889093096430914,-1.5761297357175614,0.7025218259235306,0.9816624927802996,-1.3176098140720194,1.0192498512213706,-0.06384003639023407,-0.6499138608042271,1.779442553151568,0.9457660017435001,1.307783424473417,-0.22117084156221578,1.7868932790407142,-1.0844140449242934,0.35024847218493776,0.884244535300552,0.6614379919438789,-1.3080451104956212,-0.19203618050731222,1.400879527302598,-1.9204936660131982,0.0733528470981566,-2.7096374996506603,1.2516569643880509,1.375309163239427,0.6338916751026681,-0.44015753737571284,-0.47999473391612174,-0.5470196774727828,-0.6448957474033917,-1.2312387282637907,-0.7882654917165696,0.6992660805993933,1.343159728014624,0.006554386717324803,1.1839666350547748,0.7852962090064953,1.090853039440043,-0.9191197192317047,-0.584937510658358,0.09935280627146068,-1.0597550817994716,0.6327940167393934,-0.26286404024615473,1.3291756615688792,-1.082743328643993,-0.2925693546759645,0.5283895907770542,1.7397374477560037,-0.34785501448501577,-1.1370577316276549,-1.116757259654754,-0.18340610752183722,-0.5649610550472014,-0.6529937313804469,1.1892675399002437,-0.036918623731211,0.4873170568674592,0.20282226504473866,-0.09245437072411745,-1.719683555373446],\"type\":\"scatter\"},{\"line\":{\"color\":\"rgba(50, 171, 96, 1.0)\",\"dash\":\"solid\",\"shape\":\"linear\",\"width\":1.3},\"mode\":\"lines\",\"name\":\"C\",\"text\":\"\",\"x\":[0,1,2,3,4,5,6,7,8,9,10,11,12,13,14,15,16,17,18,19,20,21,22,23,24,25,26,27,28,29,30,31,32,33,34,35,36,37,38,39,40,41,42,43,44,45,46,47,48,49,50,51,52,53,54,55,56,57,58,59,60,61,62,63,64,65,66,67,68,69,70,71,72,73,74,75,76,77,78,79,80,81,82,83,84,85,86,87,88,89,90,91,92,93,94,95,96,97,98,99],\"y\":[-0.7644822413693503,-0.1662780085710339,0.476737776512657,1.4936427419112215,-0.22543083544286424,-1.1528789834282267,-0.9145599054270486,0.6926928442784844,-0.7846538929797743,3.261286499391137,-0.3196878208660037,-0.5580597341869193,-0.07611352643623193,-0.8898316509425989,-0.060257606747032635,-1.3668359664811756,-0.3919686336500909,1.5773911905104674,-3.672083633498876,0.9592072279269754,-0.36728173072607145,-0.06592633986444874,0.5195147403283626,1.4367648709473158,0.588393385748988,0.5010464120146308,1.458197359722872,1.4033408998176609,0.5882306906786982,-0.01330942267740433,1.2204185193567985,-0.10351237409761757,0.9706776034627427,-0.40920892348266236,-0.4866247360048921,0.7447191006627771,1.1753784285764202,-0.5412944791445348,-0.4027018764364136,1.8452248769505646,0.7341576819387037,-0.3051854810248275,-0.455162147955806,-2.0936535067897633,-0.40803538659550626,-0.557237147596639,0.41033157396129283,1.8103444417304027,1.2729115835710718,-0.365619533164616,0.4045133583442117,0.878458817843963,1.1716116786672737,-0.327185943945804,-1.4642372365515886,0.7479040937945937,-0.21232086450058058,0.30441721368609154,-0.17838098345618944,0.048893538909246685,0.5431229851756696,-1.5511865083904635,0.748135895567872,-0.8027523221376446,0.05413105733115739,-0.7552986349452647,1.6925935305078619,2.7731199599523024,0.3976042964293238,0.16069785582660906,1.8582639023881855,-2.8071351426453006,-0.39275983410029053,-1.7962738629907888,-2.8846404770038054,1.1236777466184569,0.12690159251538763,-1.1528007942449985,1.5470584624794035,-1.0005599812456638,-1.0361221173839588,-0.27961960165187155,1.4052368799060402,-0.08589290136502413,-1.0523067336538345,-0.7823991345386283,-1.0782677441716935,0.4118484560269983,-0.1341138205847123,0.88217168473262,-1.0530760579886873,-1.11470542274002,-0.3639578541068347,0.7090787748642308,-0.05043629087056435,-0.6411187072517381,0.11225083761789163,-0.3161044723542811,0.36134256890035965,1.064898007641068],\"type\":\"scatter\"},{\"line\":{\"color\":\"rgba(128, 0, 128, 1.0)\",\"dash\":\"solid\",\"shape\":\"linear\",\"width\":1.3},\"mode\":\"lines\",\"name\":\"D\",\"text\":\"\",\"x\":[0,1,2,3,4,5,6,7,8,9,10,11,12,13,14,15,16,17,18,19,20,21,22,23,24,25,26,27,28,29,30,31,32,33,34,35,36,37,38,39,40,41,42,43,44,45,46,47,48,49,50,51,52,53,54,55,56,57,58,59,60,61,62,63,64,65,66,67,68,69,70,71,72,73,74,75,76,77,78,79,80,81,82,83,84,85,86,87,88,89,90,91,92,93,94,95,96,97,98,99],\"y\":[0.2744649834576402,0.30505186749072055,0.9552842712056142,-1.5877356412380441,-1.9829666534938248,0.7281059616081297,-0.24866605176086806,1.6867746489714364,-0.47433186805037475,1.3309093841279975,0.7826651601189504,0.06633303853784404,0.13517470911895196,0.16004480263028875,-0.7547005701421727,-0.5769737391550736,0.7292426011402716,-0.9013427172451478,0.7638875771702128,0.502849277241576,-0.14986686819522207,-0.15154766185481316,1.7835126345197732,0.9250576775717128,-0.8267734506854625,-1.0524333267491204,0.7771261928019507,1.3323368419066017,-0.3902289572716338,-2.165987786738288,1.2471730706066182,-0.7239374669366284,0.5845519354093854,0.8242761695515141,-0.20143211884371268,0.7747345462600389,1.301164749130198,1.7334250664323112,-1.4953144105740297,0.04132449477715334,-1.538077537986922,0.04651870366323089,0.24043595492857256,0.35729055466919657,0.023400722584806403,-0.18712386683292365,-1.3061229116767614,0.04778365721760829,0.3123497007713095,1.8398002507776399,-0.9607476319391202,-0.1666046527207271,0.7242861439665697,0.20125182850242238,0.905483293506512,0.9752938038603591,0.35425824862340866,-0.27586685231942104,0.11976282465338085,3.2243782304736053,2.0931416280461344,-0.9511333098681802,-0.3984245245883266,-0.22451354667979806,1.2338333260992367,1.2579236097499082,0.7002378085384303,-0.3461053591931336,-0.03964551470745989,-0.3068339828473522,-0.49375752698330977,0.4023347882608713,-2.669455923852125,0.3792523857491676,-0.8900751524116217,-1.408124367597601,0.2454881123818337,-1.1621401975664536,-0.9665745540254186,-1.0932691246330395,0.5901274307875186,-2.380602599864061,1.9806669427320818,-0.7185877181308681,-0.3151174946912165,0.6371137482940696,-0.580782043392684,0.6866161863110284,1.7016331319215445,0.17366797709539758,0.80654107694807,1.0748291936624732,1.2247102877434826,1.4856703181119582,0.7572276084962513,0.09586379779127335,0.5749735657711563,0.26297684223876916,1.4596711124358221,0.5638167296469515],\"type\":\"scatter\"}],                        {\"legend\":{\"bgcolor\":\"#F5F6F9\",\"font\":{\"color\":\"#4D5663\"}},\"paper_bgcolor\":\"#F5F6F9\",\"plot_bgcolor\":\"#F5F6F9\",\"template\":{\"data\":{\"barpolar\":[{\"marker\":{\"line\":{\"color\":\"#E5ECF6\",\"width\":0.5},\"pattern\":{\"fillmode\":\"overlay\",\"size\":10,\"solidity\":0.2}},\"type\":\"barpolar\"}],\"bar\":[{\"error_x\":{\"color\":\"#2a3f5f\"},\"error_y\":{\"color\":\"#2a3f5f\"},\"marker\":{\"line\":{\"color\":\"#E5ECF6\",\"width\":0.5},\"pattern\":{\"fillmode\":\"overlay\",\"size\":10,\"solidity\":0.2}},\"type\":\"bar\"}],\"carpet\":[{\"aaxis\":{\"endlinecolor\":\"#2a3f5f\",\"gridcolor\":\"white\",\"linecolor\":\"white\",\"minorgridcolor\":\"white\",\"startlinecolor\":\"#2a3f5f\"},\"baxis\":{\"endlinecolor\":\"#2a3f5f\",\"gridcolor\":\"white\",\"linecolor\":\"white\",\"minorgridcolor\":\"white\",\"startlinecolor\":\"#2a3f5f\"},\"type\":\"carpet\"}],\"choropleth\":[{\"colorbar\":{\"outlinewidth\":0,\"ticks\":\"\"},\"type\":\"choropleth\"}],\"contourcarpet\":[{\"colorbar\":{\"outlinewidth\":0,\"ticks\":\"\"},\"type\":\"contourcarpet\"}],\"contour\":[{\"colorbar\":{\"outlinewidth\":0,\"ticks\":\"\"},\"colorscale\":[[0.0,\"#0d0887\"],[0.1111111111111111,\"#46039f\"],[0.2222222222222222,\"#7201a8\"],[0.3333333333333333,\"#9c179e\"],[0.4444444444444444,\"#bd3786\"],[0.5555555555555556,\"#d8576b\"],[0.6666666666666666,\"#ed7953\"],[0.7777777777777778,\"#fb9f3a\"],[0.8888888888888888,\"#fdca26\"],[1.0,\"#f0f921\"]],\"type\":\"contour\"}],\"heatmapgl\":[{\"colorbar\":{\"outlinewidth\":0,\"ticks\":\"\"},\"colorscale\":[[0.0,\"#0d0887\"],[0.1111111111111111,\"#46039f\"],[0.2222222222222222,\"#7201a8\"],[0.3333333333333333,\"#9c179e\"],[0.4444444444444444,\"#bd3786\"],[0.5555555555555556,\"#d8576b\"],[0.6666666666666666,\"#ed7953\"],[0.7777777777777778,\"#fb9f3a\"],[0.8888888888888888,\"#fdca26\"],[1.0,\"#f0f921\"]],\"type\":\"heatmapgl\"}],\"heatmap\":[{\"colorbar\":{\"outlinewidth\":0,\"ticks\":\"\"},\"colorscale\":[[0.0,\"#0d0887\"],[0.1111111111111111,\"#46039f\"],[0.2222222222222222,\"#7201a8\"],[0.3333333333333333,\"#9c179e\"],[0.4444444444444444,\"#bd3786\"],[0.5555555555555556,\"#d8576b\"],[0.6666666666666666,\"#ed7953\"],[0.7777777777777778,\"#fb9f3a\"],[0.8888888888888888,\"#fdca26\"],[1.0,\"#f0f921\"]],\"type\":\"heatmap\"}],\"histogram2dcontour\":[{\"colorbar\":{\"outlinewidth\":0,\"ticks\":\"\"},\"colorscale\":[[0.0,\"#0d0887\"],[0.1111111111111111,\"#46039f\"],[0.2222222222222222,\"#7201a8\"],[0.3333333333333333,\"#9c179e\"],[0.4444444444444444,\"#bd3786\"],[0.5555555555555556,\"#d8576b\"],[0.6666666666666666,\"#ed7953\"],[0.7777777777777778,\"#fb9f3a\"],[0.8888888888888888,\"#fdca26\"],[1.0,\"#f0f921\"]],\"type\":\"histogram2dcontour\"}],\"histogram2d\":[{\"colorbar\":{\"outlinewidth\":0,\"ticks\":\"\"},\"colorscale\":[[0.0,\"#0d0887\"],[0.1111111111111111,\"#46039f\"],[0.2222222222222222,\"#7201a8\"],[0.3333333333333333,\"#9c179e\"],[0.4444444444444444,\"#bd3786\"],[0.5555555555555556,\"#d8576b\"],[0.6666666666666666,\"#ed7953\"],[0.7777777777777778,\"#fb9f3a\"],[0.8888888888888888,\"#fdca26\"],[1.0,\"#f0f921\"]],\"type\":\"histogram2d\"}],\"histogram\":[{\"marker\":{\"pattern\":{\"fillmode\":\"overlay\",\"size\":10,\"solidity\":0.2}},\"type\":\"histogram\"}],\"mesh3d\":[{\"colorbar\":{\"outlinewidth\":0,\"ticks\":\"\"},\"type\":\"mesh3d\"}],\"parcoords\":[{\"line\":{\"colorbar\":{\"outlinewidth\":0,\"ticks\":\"\"}},\"type\":\"parcoords\"}],\"pie\":[{\"automargin\":true,\"type\":\"pie\"}],\"scatter3d\":[{\"line\":{\"colorbar\":{\"outlinewidth\":0,\"ticks\":\"\"}},\"marker\":{\"colorbar\":{\"outlinewidth\":0,\"ticks\":\"\"}},\"type\":\"scatter3d\"}],\"scattercarpet\":[{\"marker\":{\"colorbar\":{\"outlinewidth\":0,\"ticks\":\"\"}},\"type\":\"scattercarpet\"}],\"scattergeo\":[{\"marker\":{\"colorbar\":{\"outlinewidth\":0,\"ticks\":\"\"}},\"type\":\"scattergeo\"}],\"scattergl\":[{\"marker\":{\"colorbar\":{\"outlinewidth\":0,\"ticks\":\"\"}},\"type\":\"scattergl\"}],\"scattermapbox\":[{\"marker\":{\"colorbar\":{\"outlinewidth\":0,\"ticks\":\"\"}},\"type\":\"scattermapbox\"}],\"scatterpolargl\":[{\"marker\":{\"colorbar\":{\"outlinewidth\":0,\"ticks\":\"\"}},\"type\":\"scatterpolargl\"}],\"scatterpolar\":[{\"marker\":{\"colorbar\":{\"outlinewidth\":0,\"ticks\":\"\"}},\"type\":\"scatterpolar\"}],\"scatter\":[{\"fillpattern\":{\"fillmode\":\"overlay\",\"size\":10,\"solidity\":0.2},\"type\":\"scatter\"}],\"scatterternary\":[{\"marker\":{\"colorbar\":{\"outlinewidth\":0,\"ticks\":\"\"}},\"type\":\"scatterternary\"}],\"surface\":[{\"colorbar\":{\"outlinewidth\":0,\"ticks\":\"\"},\"colorscale\":[[0.0,\"#0d0887\"],[0.1111111111111111,\"#46039f\"],[0.2222222222222222,\"#7201a8\"],[0.3333333333333333,\"#9c179e\"],[0.4444444444444444,\"#bd3786\"],[0.5555555555555556,\"#d8576b\"],[0.6666666666666666,\"#ed7953\"],[0.7777777777777778,\"#fb9f3a\"],[0.8888888888888888,\"#fdca26\"],[1.0,\"#f0f921\"]],\"type\":\"surface\"}],\"table\":[{\"cells\":{\"fill\":{\"color\":\"#EBF0F8\"},\"line\":{\"color\":\"white\"}},\"header\":{\"fill\":{\"color\":\"#C8D4E3\"},\"line\":{\"color\":\"white\"}},\"type\":\"table\"}]},\"layout\":{\"annotationdefaults\":{\"arrowcolor\":\"#2a3f5f\",\"arrowhead\":0,\"arrowwidth\":1},\"autotypenumbers\":\"strict\",\"coloraxis\":{\"colorbar\":{\"outlinewidth\":0,\"ticks\":\"\"}},\"colorscale\":{\"diverging\":[[0,\"#8e0152\"],[0.1,\"#c51b7d\"],[0.2,\"#de77ae\"],[0.3,\"#f1b6da\"],[0.4,\"#fde0ef\"],[0.5,\"#f7f7f7\"],[0.6,\"#e6f5d0\"],[0.7,\"#b8e186\"],[0.8,\"#7fbc41\"],[0.9,\"#4d9221\"],[1,\"#276419\"]],\"sequential\":[[0.0,\"#0d0887\"],[0.1111111111111111,\"#46039f\"],[0.2222222222222222,\"#7201a8\"],[0.3333333333333333,\"#9c179e\"],[0.4444444444444444,\"#bd3786\"],[0.5555555555555556,\"#d8576b\"],[0.6666666666666666,\"#ed7953\"],[0.7777777777777778,\"#fb9f3a\"],[0.8888888888888888,\"#fdca26\"],[1.0,\"#f0f921\"]],\"sequentialminus\":[[0.0,\"#0d0887\"],[0.1111111111111111,\"#46039f\"],[0.2222222222222222,\"#7201a8\"],[0.3333333333333333,\"#9c179e\"],[0.4444444444444444,\"#bd3786\"],[0.5555555555555556,\"#d8576b\"],[0.6666666666666666,\"#ed7953\"],[0.7777777777777778,\"#fb9f3a\"],[0.8888888888888888,\"#fdca26\"],[1.0,\"#f0f921\"]]},\"colorway\":[\"#636efa\",\"#EF553B\",\"#00cc96\",\"#ab63fa\",\"#FFA15A\",\"#19d3f3\",\"#FF6692\",\"#B6E880\",\"#FF97FF\",\"#FECB52\"],\"font\":{\"color\":\"#2a3f5f\"},\"geo\":{\"bgcolor\":\"white\",\"lakecolor\":\"white\",\"landcolor\":\"#E5ECF6\",\"showlakes\":true,\"showland\":true,\"subunitcolor\":\"white\"},\"hoverlabel\":{\"align\":\"left\"},\"hovermode\":\"closest\",\"mapbox\":{\"style\":\"light\"},\"paper_bgcolor\":\"white\",\"plot_bgcolor\":\"#E5ECF6\",\"polar\":{\"angularaxis\":{\"gridcolor\":\"white\",\"linecolor\":\"white\",\"ticks\":\"\"},\"bgcolor\":\"#E5ECF6\",\"radialaxis\":{\"gridcolor\":\"white\",\"linecolor\":\"white\",\"ticks\":\"\"}},\"scene\":{\"xaxis\":{\"backgroundcolor\":\"#E5ECF6\",\"gridcolor\":\"white\",\"gridwidth\":2,\"linecolor\":\"white\",\"showbackground\":true,\"ticks\":\"\",\"zerolinecolor\":\"white\"},\"yaxis\":{\"backgroundcolor\":\"#E5ECF6\",\"gridcolor\":\"white\",\"gridwidth\":2,\"linecolor\":\"white\",\"showbackground\":true,\"ticks\":\"\",\"zerolinecolor\":\"white\"},\"zaxis\":{\"backgroundcolor\":\"#E5ECF6\",\"gridcolor\":\"white\",\"gridwidth\":2,\"linecolor\":\"white\",\"showbackground\":true,\"ticks\":\"\",\"zerolinecolor\":\"white\"}},\"shapedefaults\":{\"line\":{\"color\":\"#2a3f5f\"}},\"ternary\":{\"aaxis\":{\"gridcolor\":\"white\",\"linecolor\":\"white\",\"ticks\":\"\"},\"baxis\":{\"gridcolor\":\"white\",\"linecolor\":\"white\",\"ticks\":\"\"},\"bgcolor\":\"#E5ECF6\",\"caxis\":{\"gridcolor\":\"white\",\"linecolor\":\"white\",\"ticks\":\"\"}},\"title\":{\"x\":0.05},\"xaxis\":{\"automargin\":true,\"gridcolor\":\"white\",\"linecolor\":\"white\",\"ticks\":\"\",\"title\":{\"standoff\":15},\"zerolinecolor\":\"white\",\"zerolinewidth\":2},\"yaxis\":{\"automargin\":true,\"gridcolor\":\"white\",\"linecolor\":\"white\",\"ticks\":\"\",\"title\":{\"standoff\":15},\"zerolinecolor\":\"white\",\"zerolinewidth\":2}}},\"title\":{\"font\":{\"color\":\"#4D5663\"}},\"xaxis\":{\"gridcolor\":\"#E1E5ED\",\"showgrid\":true,\"tickfont\":{\"color\":\"#4D5663\"},\"title\":{\"font\":{\"color\":\"#4D5663\"},\"text\":\"\"},\"zerolinecolor\":\"#E1E5ED\"},\"yaxis\":{\"gridcolor\":\"#E1E5ED\",\"showgrid\":true,\"tickfont\":{\"color\":\"#4D5663\"},\"title\":{\"font\":{\"color\":\"#4D5663\"},\"text\":\"\"},\"zerolinecolor\":\"#E1E5ED\"}},                        {\"showLink\": true, \"linkText\": \"Export to plot.ly\", \"plotlyServerURL\": \"https://plot.ly\", \"responsive\": true}                    ).then(function(){\n",
       "                            \n",
       "var gd = document.getElementById('c683d50e-ead6-4b7e-8dfe-2fd77b430412');\n",
       "var x = new MutationObserver(function (mutations, observer) {{\n",
       "        var display = window.getComputedStyle(gd).display;\n",
       "        if (!display || display === 'none') {{\n",
       "            console.log([gd, 'removed!']);\n",
       "            Plotly.purge(gd);\n",
       "            observer.disconnect();\n",
       "        }}\n",
       "}});\n",
       "\n",
       "// Listen for the removal of the full notebook cells\n",
       "var notebookContainer = gd.closest('#notebook-container');\n",
       "if (notebookContainer) {{\n",
       "    x.observe(notebookContainer, {childList: true});\n",
       "}}\n",
       "\n",
       "// Listen for the clearing of the current output cell\n",
       "var outputEl = gd.closest('.output');\n",
       "if (outputEl) {{\n",
       "    x.observe(outputEl, {childList: true});\n",
       "}}\n",
       "\n",
       "                        })                };                });            </script>        </div>"
      ]
     },
     "metadata": {},
     "output_type": "display_data"
    }
   ],
   "source": [
    "df.iplot(kind='scatter')"
   ]
  },
  {
   "cell_type": "code",
   "execution_count": 59,
   "id": "a0b15c63",
   "metadata": {},
   "outputs": [
    {
     "data": {
      "application/vnd.plotly.v1+json": {
       "config": {
        "linkText": "Export to plot.ly",
        "plotlyServerURL": "https://plot.ly",
        "showLink": true
       },
       "data": [
        {
         "line": {
          "color": "rgba(255, 153, 51, 1.0)",
          "dash": "solid",
          "shape": "linear",
          "width": 1.3
         },
         "mode": "lines",
         "name": "B",
         "text": "",
         "type": "scatter",
         "x": [
          1.6185342153503897,
          1.1848362441609444,
          1.0676265789711767,
          0.6289578176999444,
          -0.0731723746557524,
          -0.10349025747306093,
          -0.13828150425216726,
          0.8810902574734345,
          -0.5542620086053726,
          1.367655392604224,
          0.42159233908657434,
          -1.6600131400907159,
          -2.321880943758504,
          -0.14525715490075852,
          -1.4150329423246357,
          1.1902193781513097,
          0.032605182130966644,
          -1.1068654931550255,
          -0.4881710870419417,
          -1.0064654004665394,
          -1.4861349648044178,
          0.42126197939457344,
          0.2033513437481144,
          0.6780192171590568,
          2.2695601885039856,
          -1.0530794893148434,
          -0.7599582936020849,
          0.07479649981688027,
          -0.5004585006618902,
          -0.7069045792139065,
          -0.7490649048467005,
          -0.9573833622535074,
          0.3184903662704784,
          0.5232510497782804,
          -0.292920914056626,
          0.5526442907323154,
          0.28927758198705866,
          -0.9595308675629673,
          0.6624074725052688,
          -1.2675470861916667,
          -1.298518317282184,
          1.6505714308200703,
          0.7711743870399246,
          -0.10350465261086673,
          -0.9890595965375653,
          0.09060720967289916,
          -0.9664272965492815,
          1.7520110562695306,
          2.0598160276614736,
          -1.5398792263792436,
          0.14913323679684518,
          0.995048297495277,
          -0.8178015437731536,
          -1.1488188276104512,
          -1.2553879715068992,
          0.702144807401087,
          -0.14721370696443659,
          0.9849700972122788,
          -1.6159928381795001,
          2.8876664099211764,
          1.1792610841498818,
          1.137534866296284,
          0.36529841743489505,
          0.6837628681037843,
          0.3857655623229011,
          -1.4277493996033706,
          1.9387091111049926,
          -0.8799227856643209,
          0.17157935956524548,
          1.2164326922302917,
          0.004829280486984333,
          -0.7305142209733924,
          0.8090950392810067,
          -2.7632429506224883,
          0.9238654843844363,
          0.13909084142958214,
          0.06932779342792991,
          0.10316445888209945,
          -1.4408925516222189,
          -1.5014989504920706,
          1.3164328202880184,
          0.20632089660007252,
          -0.4332798600838577,
          0.5100226609573209,
          -0.5583994791359564,
          0.4825916998568048,
          -0.15873725230421742,
          -2.033833509570888,
          -0.56776873608412,
          -1.3983642700361827,
          -0.17721085755554614,
          -0.4777864854606395,
          -0.7084571357637636,
          0.14725150781339041,
          0.5160571944585837,
          2.391248105092854,
          -0.035925646760449015,
          0.3993352653098139,
          0.5041548045378224,
          -2.4531789724121182
         ],
         "y": [
          0.24555663252945903,
          -0.5638129038214954,
          0.15838017982758465,
          0.025965138727300052,
          1.0261693833091186,
          -1.8117251738858402,
          1.2824990052649607,
          0.9227163869758231,
          -0.32928491407238214,
          0.3366044693090377,
          0.16065191024800432,
          0.8082078977266477,
          -0.37421382646895285,
          0.4443612006818534,
          1.2591791755585575,
          -0.272577764440088,
          0.05397960093059676,
          0.9925302761246275,
          0.8240201250613609,
          0.03421864511183541,
          1.7687225019146364,
          0.9401432164859415,
          1.294385534196133,
          0.6944745568559109,
          0.4364763563018746,
          0.19932268382576923,
          -0.27934197237725056,
          -1.5844482409973324,
          0.8691582357782162,
          0.7968557938544397,
          1.227966360927478,
          0.32626552917603463,
          -0.5268174005804046,
          0.16189388577452204,
          0.47272456823309345,
          0.08452053298458287,
          -0.8350294005227219,
          0.8340070844504154,
          -1.2518433951160093,
          -0.5889093096430914,
          -1.5761297357175614,
          0.7025218259235306,
          0.9816624927802996,
          -1.3176098140720194,
          1.0192498512213706,
          -0.06384003639023407,
          -0.6499138608042271,
          1.779442553151568,
          0.9457660017435001,
          1.307783424473417,
          -0.22117084156221578,
          1.7868932790407142,
          -1.0844140449242934,
          0.35024847218493776,
          0.884244535300552,
          0.6614379919438789,
          -1.3080451104956212,
          -0.19203618050731222,
          1.400879527302598,
          -1.9204936660131982,
          0.0733528470981566,
          -2.7096374996506603,
          1.2516569643880509,
          1.375309163239427,
          0.6338916751026681,
          -0.44015753737571284,
          -0.47999473391612174,
          -0.5470196774727828,
          -0.6448957474033917,
          -1.2312387282637907,
          -0.7882654917165696,
          0.6992660805993933,
          1.343159728014624,
          0.006554386717324803,
          1.1839666350547748,
          0.7852962090064953,
          1.090853039440043,
          -0.9191197192317047,
          -0.584937510658358,
          0.09935280627146068,
          -1.0597550817994716,
          0.6327940167393934,
          -0.26286404024615473,
          1.3291756615688792,
          -1.082743328643993,
          -0.2925693546759645,
          0.5283895907770542,
          1.7397374477560037,
          -0.34785501448501577,
          -1.1370577316276549,
          -1.116757259654754,
          -0.18340610752183722,
          -0.5649610550472014,
          -0.6529937313804469,
          1.1892675399002437,
          -0.036918623731211,
          0.4873170568674592,
          0.20282226504473866,
          -0.09245437072411745,
          -1.719683555373446
         ]
        }
       ],
       "layout": {
        "legend": {
         "bgcolor": "#F5F6F9",
         "font": {
          "color": "#4D5663"
         }
        },
        "paper_bgcolor": "#F5F6F9",
        "plot_bgcolor": "#F5F6F9",
        "template": {
         "data": {
          "bar": [
           {
            "error_x": {
             "color": "#2a3f5f"
            },
            "error_y": {
             "color": "#2a3f5f"
            },
            "marker": {
             "line": {
              "color": "#E5ECF6",
              "width": 0.5
             },
             "pattern": {
              "fillmode": "overlay",
              "size": 10,
              "solidity": 0.2
             }
            },
            "type": "bar"
           }
          ],
          "barpolar": [
           {
            "marker": {
             "line": {
              "color": "#E5ECF6",
              "width": 0.5
             },
             "pattern": {
              "fillmode": "overlay",
              "size": 10,
              "solidity": 0.2
             }
            },
            "type": "barpolar"
           }
          ],
          "carpet": [
           {
            "aaxis": {
             "endlinecolor": "#2a3f5f",
             "gridcolor": "white",
             "linecolor": "white",
             "minorgridcolor": "white",
             "startlinecolor": "#2a3f5f"
            },
            "baxis": {
             "endlinecolor": "#2a3f5f",
             "gridcolor": "white",
             "linecolor": "white",
             "minorgridcolor": "white",
             "startlinecolor": "#2a3f5f"
            },
            "type": "carpet"
           }
          ],
          "choropleth": [
           {
            "colorbar": {
             "outlinewidth": 0,
             "ticks": ""
            },
            "type": "choropleth"
           }
          ],
          "contour": [
           {
            "colorbar": {
             "outlinewidth": 0,
             "ticks": ""
            },
            "colorscale": [
             [
              0,
              "#0d0887"
             ],
             [
              0.1111111111111111,
              "#46039f"
             ],
             [
              0.2222222222222222,
              "#7201a8"
             ],
             [
              0.3333333333333333,
              "#9c179e"
             ],
             [
              0.4444444444444444,
              "#bd3786"
             ],
             [
              0.5555555555555556,
              "#d8576b"
             ],
             [
              0.6666666666666666,
              "#ed7953"
             ],
             [
              0.7777777777777778,
              "#fb9f3a"
             ],
             [
              0.8888888888888888,
              "#fdca26"
             ],
             [
              1,
              "#f0f921"
             ]
            ],
            "type": "contour"
           }
          ],
          "contourcarpet": [
           {
            "colorbar": {
             "outlinewidth": 0,
             "ticks": ""
            },
            "type": "contourcarpet"
           }
          ],
          "heatmap": [
           {
            "colorbar": {
             "outlinewidth": 0,
             "ticks": ""
            },
            "colorscale": [
             [
              0,
              "#0d0887"
             ],
             [
              0.1111111111111111,
              "#46039f"
             ],
             [
              0.2222222222222222,
              "#7201a8"
             ],
             [
              0.3333333333333333,
              "#9c179e"
             ],
             [
              0.4444444444444444,
              "#bd3786"
             ],
             [
              0.5555555555555556,
              "#d8576b"
             ],
             [
              0.6666666666666666,
              "#ed7953"
             ],
             [
              0.7777777777777778,
              "#fb9f3a"
             ],
             [
              0.8888888888888888,
              "#fdca26"
             ],
             [
              1,
              "#f0f921"
             ]
            ],
            "type": "heatmap"
           }
          ],
          "heatmapgl": [
           {
            "colorbar": {
             "outlinewidth": 0,
             "ticks": ""
            },
            "colorscale": [
             [
              0,
              "#0d0887"
             ],
             [
              0.1111111111111111,
              "#46039f"
             ],
             [
              0.2222222222222222,
              "#7201a8"
             ],
             [
              0.3333333333333333,
              "#9c179e"
             ],
             [
              0.4444444444444444,
              "#bd3786"
             ],
             [
              0.5555555555555556,
              "#d8576b"
             ],
             [
              0.6666666666666666,
              "#ed7953"
             ],
             [
              0.7777777777777778,
              "#fb9f3a"
             ],
             [
              0.8888888888888888,
              "#fdca26"
             ],
             [
              1,
              "#f0f921"
             ]
            ],
            "type": "heatmapgl"
           }
          ],
          "histogram": [
           {
            "marker": {
             "pattern": {
              "fillmode": "overlay",
              "size": 10,
              "solidity": 0.2
             }
            },
            "type": "histogram"
           }
          ],
          "histogram2d": [
           {
            "colorbar": {
             "outlinewidth": 0,
             "ticks": ""
            },
            "colorscale": [
             [
              0,
              "#0d0887"
             ],
             [
              0.1111111111111111,
              "#46039f"
             ],
             [
              0.2222222222222222,
              "#7201a8"
             ],
             [
              0.3333333333333333,
              "#9c179e"
             ],
             [
              0.4444444444444444,
              "#bd3786"
             ],
             [
              0.5555555555555556,
              "#d8576b"
             ],
             [
              0.6666666666666666,
              "#ed7953"
             ],
             [
              0.7777777777777778,
              "#fb9f3a"
             ],
             [
              0.8888888888888888,
              "#fdca26"
             ],
             [
              1,
              "#f0f921"
             ]
            ],
            "type": "histogram2d"
           }
          ],
          "histogram2dcontour": [
           {
            "colorbar": {
             "outlinewidth": 0,
             "ticks": ""
            },
            "colorscale": [
             [
              0,
              "#0d0887"
             ],
             [
              0.1111111111111111,
              "#46039f"
             ],
             [
              0.2222222222222222,
              "#7201a8"
             ],
             [
              0.3333333333333333,
              "#9c179e"
             ],
             [
              0.4444444444444444,
              "#bd3786"
             ],
             [
              0.5555555555555556,
              "#d8576b"
             ],
             [
              0.6666666666666666,
              "#ed7953"
             ],
             [
              0.7777777777777778,
              "#fb9f3a"
             ],
             [
              0.8888888888888888,
              "#fdca26"
             ],
             [
              1,
              "#f0f921"
             ]
            ],
            "type": "histogram2dcontour"
           }
          ],
          "mesh3d": [
           {
            "colorbar": {
             "outlinewidth": 0,
             "ticks": ""
            },
            "type": "mesh3d"
           }
          ],
          "parcoords": [
           {
            "line": {
             "colorbar": {
              "outlinewidth": 0,
              "ticks": ""
             }
            },
            "type": "parcoords"
           }
          ],
          "pie": [
           {
            "automargin": true,
            "type": "pie"
           }
          ],
          "scatter": [
           {
            "fillpattern": {
             "fillmode": "overlay",
             "size": 10,
             "solidity": 0.2
            },
            "type": "scatter"
           }
          ],
          "scatter3d": [
           {
            "line": {
             "colorbar": {
              "outlinewidth": 0,
              "ticks": ""
             }
            },
            "marker": {
             "colorbar": {
              "outlinewidth": 0,
              "ticks": ""
             }
            },
            "type": "scatter3d"
           }
          ],
          "scattercarpet": [
           {
            "marker": {
             "colorbar": {
              "outlinewidth": 0,
              "ticks": ""
             }
            },
            "type": "scattercarpet"
           }
          ],
          "scattergeo": [
           {
            "marker": {
             "colorbar": {
              "outlinewidth": 0,
              "ticks": ""
             }
            },
            "type": "scattergeo"
           }
          ],
          "scattergl": [
           {
            "marker": {
             "colorbar": {
              "outlinewidth": 0,
              "ticks": ""
             }
            },
            "type": "scattergl"
           }
          ],
          "scattermapbox": [
           {
            "marker": {
             "colorbar": {
              "outlinewidth": 0,
              "ticks": ""
             }
            },
            "type": "scattermapbox"
           }
          ],
          "scatterpolar": [
           {
            "marker": {
             "colorbar": {
              "outlinewidth": 0,
              "ticks": ""
             }
            },
            "type": "scatterpolar"
           }
          ],
          "scatterpolargl": [
           {
            "marker": {
             "colorbar": {
              "outlinewidth": 0,
              "ticks": ""
             }
            },
            "type": "scatterpolargl"
           }
          ],
          "scatterternary": [
           {
            "marker": {
             "colorbar": {
              "outlinewidth": 0,
              "ticks": ""
             }
            },
            "type": "scatterternary"
           }
          ],
          "surface": [
           {
            "colorbar": {
             "outlinewidth": 0,
             "ticks": ""
            },
            "colorscale": [
             [
              0,
              "#0d0887"
             ],
             [
              0.1111111111111111,
              "#46039f"
             ],
             [
              0.2222222222222222,
              "#7201a8"
             ],
             [
              0.3333333333333333,
              "#9c179e"
             ],
             [
              0.4444444444444444,
              "#bd3786"
             ],
             [
              0.5555555555555556,
              "#d8576b"
             ],
             [
              0.6666666666666666,
              "#ed7953"
             ],
             [
              0.7777777777777778,
              "#fb9f3a"
             ],
             [
              0.8888888888888888,
              "#fdca26"
             ],
             [
              1,
              "#f0f921"
             ]
            ],
            "type": "surface"
           }
          ],
          "table": [
           {
            "cells": {
             "fill": {
              "color": "#EBF0F8"
             },
             "line": {
              "color": "white"
             }
            },
            "header": {
             "fill": {
              "color": "#C8D4E3"
             },
             "line": {
              "color": "white"
             }
            },
            "type": "table"
           }
          ]
         },
         "layout": {
          "annotationdefaults": {
           "arrowcolor": "#2a3f5f",
           "arrowhead": 0,
           "arrowwidth": 1
          },
          "autotypenumbers": "strict",
          "coloraxis": {
           "colorbar": {
            "outlinewidth": 0,
            "ticks": ""
           }
          },
          "colorscale": {
           "diverging": [
            [
             0,
             "#8e0152"
            ],
            [
             0.1,
             "#c51b7d"
            ],
            [
             0.2,
             "#de77ae"
            ],
            [
             0.3,
             "#f1b6da"
            ],
            [
             0.4,
             "#fde0ef"
            ],
            [
             0.5,
             "#f7f7f7"
            ],
            [
             0.6,
             "#e6f5d0"
            ],
            [
             0.7,
             "#b8e186"
            ],
            [
             0.8,
             "#7fbc41"
            ],
            [
             0.9,
             "#4d9221"
            ],
            [
             1,
             "#276419"
            ]
           ],
           "sequential": [
            [
             0,
             "#0d0887"
            ],
            [
             0.1111111111111111,
             "#46039f"
            ],
            [
             0.2222222222222222,
             "#7201a8"
            ],
            [
             0.3333333333333333,
             "#9c179e"
            ],
            [
             0.4444444444444444,
             "#bd3786"
            ],
            [
             0.5555555555555556,
             "#d8576b"
            ],
            [
             0.6666666666666666,
             "#ed7953"
            ],
            [
             0.7777777777777778,
             "#fb9f3a"
            ],
            [
             0.8888888888888888,
             "#fdca26"
            ],
            [
             1,
             "#f0f921"
            ]
           ],
           "sequentialminus": [
            [
             0,
             "#0d0887"
            ],
            [
             0.1111111111111111,
             "#46039f"
            ],
            [
             0.2222222222222222,
             "#7201a8"
            ],
            [
             0.3333333333333333,
             "#9c179e"
            ],
            [
             0.4444444444444444,
             "#bd3786"
            ],
            [
             0.5555555555555556,
             "#d8576b"
            ],
            [
             0.6666666666666666,
             "#ed7953"
            ],
            [
             0.7777777777777778,
             "#fb9f3a"
            ],
            [
             0.8888888888888888,
             "#fdca26"
            ],
            [
             1,
             "#f0f921"
            ]
           ]
          },
          "colorway": [
           "#636efa",
           "#EF553B",
           "#00cc96",
           "#ab63fa",
           "#FFA15A",
           "#19d3f3",
           "#FF6692",
           "#B6E880",
           "#FF97FF",
           "#FECB52"
          ],
          "font": {
           "color": "#2a3f5f"
          },
          "geo": {
           "bgcolor": "white",
           "lakecolor": "white",
           "landcolor": "#E5ECF6",
           "showlakes": true,
           "showland": true,
           "subunitcolor": "white"
          },
          "hoverlabel": {
           "align": "left"
          },
          "hovermode": "closest",
          "mapbox": {
           "style": "light"
          },
          "paper_bgcolor": "white",
          "plot_bgcolor": "#E5ECF6",
          "polar": {
           "angularaxis": {
            "gridcolor": "white",
            "linecolor": "white",
            "ticks": ""
           },
           "bgcolor": "#E5ECF6",
           "radialaxis": {
            "gridcolor": "white",
            "linecolor": "white",
            "ticks": ""
           }
          },
          "scene": {
           "xaxis": {
            "backgroundcolor": "#E5ECF6",
            "gridcolor": "white",
            "gridwidth": 2,
            "linecolor": "white",
            "showbackground": true,
            "ticks": "",
            "zerolinecolor": "white"
           },
           "yaxis": {
            "backgroundcolor": "#E5ECF6",
            "gridcolor": "white",
            "gridwidth": 2,
            "linecolor": "white",
            "showbackground": true,
            "ticks": "",
            "zerolinecolor": "white"
           },
           "zaxis": {
            "backgroundcolor": "#E5ECF6",
            "gridcolor": "white",
            "gridwidth": 2,
            "linecolor": "white",
            "showbackground": true,
            "ticks": "",
            "zerolinecolor": "white"
           }
          },
          "shapedefaults": {
           "line": {
            "color": "#2a3f5f"
           }
          },
          "ternary": {
           "aaxis": {
            "gridcolor": "white",
            "linecolor": "white",
            "ticks": ""
           },
           "baxis": {
            "gridcolor": "white",
            "linecolor": "white",
            "ticks": ""
           },
           "bgcolor": "#E5ECF6",
           "caxis": {
            "gridcolor": "white",
            "linecolor": "white",
            "ticks": ""
           }
          },
          "title": {
           "x": 0.05
          },
          "xaxis": {
           "automargin": true,
           "gridcolor": "white",
           "linecolor": "white",
           "ticks": "",
           "title": {
            "standoff": 15
           },
           "zerolinecolor": "white",
           "zerolinewidth": 2
          },
          "yaxis": {
           "automargin": true,
           "gridcolor": "white",
           "linecolor": "white",
           "ticks": "",
           "title": {
            "standoff": 15
           },
           "zerolinecolor": "white",
           "zerolinewidth": 2
          }
         }
        },
        "title": {
         "font": {
          "color": "#4D5663"
         }
        },
        "xaxis": {
         "gridcolor": "#E1E5ED",
         "showgrid": true,
         "tickfont": {
          "color": "#4D5663"
         },
         "title": {
          "font": {
           "color": "#4D5663"
          },
          "text": ""
         },
         "zerolinecolor": "#E1E5ED"
        },
        "yaxis": {
         "gridcolor": "#E1E5ED",
         "showgrid": true,
         "tickfont": {
          "color": "#4D5663"
         },
         "title": {
          "font": {
           "color": "#4D5663"
          },
          "text": ""
         },
         "zerolinecolor": "#E1E5ED"
        }
       }
      },
      "text/html": [
       "<div>                            <div id=\"ff1cc298-ab86-4dea-aa66-d292b8ffda71\" class=\"plotly-graph-div\" style=\"height:525px; width:100%;\"></div>            <script type=\"text/javascript\">                require([\"plotly\"], function(Plotly) {                    window.PLOTLYENV=window.PLOTLYENV || {};\n",
       "                    window.PLOTLYENV.BASE_URL='https://plot.ly';                                    if (document.getElementById(\"ff1cc298-ab86-4dea-aa66-d292b8ffda71\")) {                    Plotly.newPlot(                        \"ff1cc298-ab86-4dea-aa66-d292b8ffda71\",                        [{\"line\":{\"color\":\"rgba(255, 153, 51, 1.0)\",\"dash\":\"solid\",\"shape\":\"linear\",\"width\":1.3},\"mode\":\"lines\",\"name\":\"B\",\"text\":\"\",\"x\":[1.6185342153503897,1.1848362441609444,1.0676265789711767,0.6289578176999444,-0.0731723746557524,-0.10349025747306093,-0.13828150425216726,0.8810902574734345,-0.5542620086053726,1.367655392604224,0.42159233908657434,-1.6600131400907159,-2.321880943758504,-0.14525715490075852,-1.4150329423246357,1.1902193781513097,0.032605182130966644,-1.1068654931550255,-0.4881710870419417,-1.0064654004665394,-1.4861349648044178,0.42126197939457344,0.2033513437481144,0.6780192171590568,2.2695601885039856,-1.0530794893148434,-0.7599582936020849,0.07479649981688027,-0.5004585006618902,-0.7069045792139065,-0.7490649048467005,-0.9573833622535074,0.3184903662704784,0.5232510497782804,-0.292920914056626,0.5526442907323154,0.28927758198705866,-0.9595308675629673,0.6624074725052688,-1.2675470861916667,-1.298518317282184,1.6505714308200703,0.7711743870399246,-0.10350465261086673,-0.9890595965375653,0.09060720967289916,-0.9664272965492815,1.7520110562695306,2.0598160276614736,-1.5398792263792436,0.14913323679684518,0.995048297495277,-0.8178015437731536,-1.1488188276104512,-1.2553879715068992,0.702144807401087,-0.14721370696443659,0.9849700972122788,-1.6159928381795001,2.8876664099211764,1.1792610841498818,1.137534866296284,0.36529841743489505,0.6837628681037843,0.3857655623229011,-1.4277493996033706,1.9387091111049926,-0.8799227856643209,0.17157935956524548,1.2164326922302917,0.004829280486984333,-0.7305142209733924,0.8090950392810067,-2.7632429506224883,0.9238654843844363,0.13909084142958214,0.06932779342792991,0.10316445888209945,-1.4408925516222189,-1.5014989504920706,1.3164328202880184,0.20632089660007252,-0.4332798600838577,0.5100226609573209,-0.5583994791359564,0.4825916998568048,-0.15873725230421742,-2.033833509570888,-0.56776873608412,-1.3983642700361827,-0.17721085755554614,-0.4777864854606395,-0.7084571357637636,0.14725150781339041,0.5160571944585837,2.391248105092854,-0.035925646760449015,0.3993352653098139,0.5041548045378224,-2.4531789724121182],\"y\":[0.24555663252945903,-0.5638129038214954,0.15838017982758465,0.025965138727300052,1.0261693833091186,-1.8117251738858402,1.2824990052649607,0.9227163869758231,-0.32928491407238214,0.3366044693090377,0.16065191024800432,0.8082078977266477,-0.37421382646895285,0.4443612006818534,1.2591791755585575,-0.272577764440088,0.05397960093059676,0.9925302761246275,0.8240201250613609,0.03421864511183541,1.7687225019146364,0.9401432164859415,1.294385534196133,0.6944745568559109,0.4364763563018746,0.19932268382576923,-0.27934197237725056,-1.5844482409973324,0.8691582357782162,0.7968557938544397,1.227966360927478,0.32626552917603463,-0.5268174005804046,0.16189388577452204,0.47272456823309345,0.08452053298458287,-0.8350294005227219,0.8340070844504154,-1.2518433951160093,-0.5889093096430914,-1.5761297357175614,0.7025218259235306,0.9816624927802996,-1.3176098140720194,1.0192498512213706,-0.06384003639023407,-0.6499138608042271,1.779442553151568,0.9457660017435001,1.307783424473417,-0.22117084156221578,1.7868932790407142,-1.0844140449242934,0.35024847218493776,0.884244535300552,0.6614379919438789,-1.3080451104956212,-0.19203618050731222,1.400879527302598,-1.9204936660131982,0.0733528470981566,-2.7096374996506603,1.2516569643880509,1.375309163239427,0.6338916751026681,-0.44015753737571284,-0.47999473391612174,-0.5470196774727828,-0.6448957474033917,-1.2312387282637907,-0.7882654917165696,0.6992660805993933,1.343159728014624,0.006554386717324803,1.1839666350547748,0.7852962090064953,1.090853039440043,-0.9191197192317047,-0.584937510658358,0.09935280627146068,-1.0597550817994716,0.6327940167393934,-0.26286404024615473,1.3291756615688792,-1.082743328643993,-0.2925693546759645,0.5283895907770542,1.7397374477560037,-0.34785501448501577,-1.1370577316276549,-1.116757259654754,-0.18340610752183722,-0.5649610550472014,-0.6529937313804469,1.1892675399002437,-0.036918623731211,0.4873170568674592,0.20282226504473866,-0.09245437072411745,-1.719683555373446],\"type\":\"scatter\"}],                        {\"legend\":{\"bgcolor\":\"#F5F6F9\",\"font\":{\"color\":\"#4D5663\"}},\"paper_bgcolor\":\"#F5F6F9\",\"plot_bgcolor\":\"#F5F6F9\",\"template\":{\"data\":{\"barpolar\":[{\"marker\":{\"line\":{\"color\":\"#E5ECF6\",\"width\":0.5},\"pattern\":{\"fillmode\":\"overlay\",\"size\":10,\"solidity\":0.2}},\"type\":\"barpolar\"}],\"bar\":[{\"error_x\":{\"color\":\"#2a3f5f\"},\"error_y\":{\"color\":\"#2a3f5f\"},\"marker\":{\"line\":{\"color\":\"#E5ECF6\",\"width\":0.5},\"pattern\":{\"fillmode\":\"overlay\",\"size\":10,\"solidity\":0.2}},\"type\":\"bar\"}],\"carpet\":[{\"aaxis\":{\"endlinecolor\":\"#2a3f5f\",\"gridcolor\":\"white\",\"linecolor\":\"white\",\"minorgridcolor\":\"white\",\"startlinecolor\":\"#2a3f5f\"},\"baxis\":{\"endlinecolor\":\"#2a3f5f\",\"gridcolor\":\"white\",\"linecolor\":\"white\",\"minorgridcolor\":\"white\",\"startlinecolor\":\"#2a3f5f\"},\"type\":\"carpet\"}],\"choropleth\":[{\"colorbar\":{\"outlinewidth\":0,\"ticks\":\"\"},\"type\":\"choropleth\"}],\"contourcarpet\":[{\"colorbar\":{\"outlinewidth\":0,\"ticks\":\"\"},\"type\":\"contourcarpet\"}],\"contour\":[{\"colorbar\":{\"outlinewidth\":0,\"ticks\":\"\"},\"colorscale\":[[0.0,\"#0d0887\"],[0.1111111111111111,\"#46039f\"],[0.2222222222222222,\"#7201a8\"],[0.3333333333333333,\"#9c179e\"],[0.4444444444444444,\"#bd3786\"],[0.5555555555555556,\"#d8576b\"],[0.6666666666666666,\"#ed7953\"],[0.7777777777777778,\"#fb9f3a\"],[0.8888888888888888,\"#fdca26\"],[1.0,\"#f0f921\"]],\"type\":\"contour\"}],\"heatmapgl\":[{\"colorbar\":{\"outlinewidth\":0,\"ticks\":\"\"},\"colorscale\":[[0.0,\"#0d0887\"],[0.1111111111111111,\"#46039f\"],[0.2222222222222222,\"#7201a8\"],[0.3333333333333333,\"#9c179e\"],[0.4444444444444444,\"#bd3786\"],[0.5555555555555556,\"#d8576b\"],[0.6666666666666666,\"#ed7953\"],[0.7777777777777778,\"#fb9f3a\"],[0.8888888888888888,\"#fdca26\"],[1.0,\"#f0f921\"]],\"type\":\"heatmapgl\"}],\"heatmap\":[{\"colorbar\":{\"outlinewidth\":0,\"ticks\":\"\"},\"colorscale\":[[0.0,\"#0d0887\"],[0.1111111111111111,\"#46039f\"],[0.2222222222222222,\"#7201a8\"],[0.3333333333333333,\"#9c179e\"],[0.4444444444444444,\"#bd3786\"],[0.5555555555555556,\"#d8576b\"],[0.6666666666666666,\"#ed7953\"],[0.7777777777777778,\"#fb9f3a\"],[0.8888888888888888,\"#fdca26\"],[1.0,\"#f0f921\"]],\"type\":\"heatmap\"}],\"histogram2dcontour\":[{\"colorbar\":{\"outlinewidth\":0,\"ticks\":\"\"},\"colorscale\":[[0.0,\"#0d0887\"],[0.1111111111111111,\"#46039f\"],[0.2222222222222222,\"#7201a8\"],[0.3333333333333333,\"#9c179e\"],[0.4444444444444444,\"#bd3786\"],[0.5555555555555556,\"#d8576b\"],[0.6666666666666666,\"#ed7953\"],[0.7777777777777778,\"#fb9f3a\"],[0.8888888888888888,\"#fdca26\"],[1.0,\"#f0f921\"]],\"type\":\"histogram2dcontour\"}],\"histogram2d\":[{\"colorbar\":{\"outlinewidth\":0,\"ticks\":\"\"},\"colorscale\":[[0.0,\"#0d0887\"],[0.1111111111111111,\"#46039f\"],[0.2222222222222222,\"#7201a8\"],[0.3333333333333333,\"#9c179e\"],[0.4444444444444444,\"#bd3786\"],[0.5555555555555556,\"#d8576b\"],[0.6666666666666666,\"#ed7953\"],[0.7777777777777778,\"#fb9f3a\"],[0.8888888888888888,\"#fdca26\"],[1.0,\"#f0f921\"]],\"type\":\"histogram2d\"}],\"histogram\":[{\"marker\":{\"pattern\":{\"fillmode\":\"overlay\",\"size\":10,\"solidity\":0.2}},\"type\":\"histogram\"}],\"mesh3d\":[{\"colorbar\":{\"outlinewidth\":0,\"ticks\":\"\"},\"type\":\"mesh3d\"}],\"parcoords\":[{\"line\":{\"colorbar\":{\"outlinewidth\":0,\"ticks\":\"\"}},\"type\":\"parcoords\"}],\"pie\":[{\"automargin\":true,\"type\":\"pie\"}],\"scatter3d\":[{\"line\":{\"colorbar\":{\"outlinewidth\":0,\"ticks\":\"\"}},\"marker\":{\"colorbar\":{\"outlinewidth\":0,\"ticks\":\"\"}},\"type\":\"scatter3d\"}],\"scattercarpet\":[{\"marker\":{\"colorbar\":{\"outlinewidth\":0,\"ticks\":\"\"}},\"type\":\"scattercarpet\"}],\"scattergeo\":[{\"marker\":{\"colorbar\":{\"outlinewidth\":0,\"ticks\":\"\"}},\"type\":\"scattergeo\"}],\"scattergl\":[{\"marker\":{\"colorbar\":{\"outlinewidth\":0,\"ticks\":\"\"}},\"type\":\"scattergl\"}],\"scattermapbox\":[{\"marker\":{\"colorbar\":{\"outlinewidth\":0,\"ticks\":\"\"}},\"type\":\"scattermapbox\"}],\"scatterpolargl\":[{\"marker\":{\"colorbar\":{\"outlinewidth\":0,\"ticks\":\"\"}},\"type\":\"scatterpolargl\"}],\"scatterpolar\":[{\"marker\":{\"colorbar\":{\"outlinewidth\":0,\"ticks\":\"\"}},\"type\":\"scatterpolar\"}],\"scatter\":[{\"fillpattern\":{\"fillmode\":\"overlay\",\"size\":10,\"solidity\":0.2},\"type\":\"scatter\"}],\"scatterternary\":[{\"marker\":{\"colorbar\":{\"outlinewidth\":0,\"ticks\":\"\"}},\"type\":\"scatterternary\"}],\"surface\":[{\"colorbar\":{\"outlinewidth\":0,\"ticks\":\"\"},\"colorscale\":[[0.0,\"#0d0887\"],[0.1111111111111111,\"#46039f\"],[0.2222222222222222,\"#7201a8\"],[0.3333333333333333,\"#9c179e\"],[0.4444444444444444,\"#bd3786\"],[0.5555555555555556,\"#d8576b\"],[0.6666666666666666,\"#ed7953\"],[0.7777777777777778,\"#fb9f3a\"],[0.8888888888888888,\"#fdca26\"],[1.0,\"#f0f921\"]],\"type\":\"surface\"}],\"table\":[{\"cells\":{\"fill\":{\"color\":\"#EBF0F8\"},\"line\":{\"color\":\"white\"}},\"header\":{\"fill\":{\"color\":\"#C8D4E3\"},\"line\":{\"color\":\"white\"}},\"type\":\"table\"}]},\"layout\":{\"annotationdefaults\":{\"arrowcolor\":\"#2a3f5f\",\"arrowhead\":0,\"arrowwidth\":1},\"autotypenumbers\":\"strict\",\"coloraxis\":{\"colorbar\":{\"outlinewidth\":0,\"ticks\":\"\"}},\"colorscale\":{\"diverging\":[[0,\"#8e0152\"],[0.1,\"#c51b7d\"],[0.2,\"#de77ae\"],[0.3,\"#f1b6da\"],[0.4,\"#fde0ef\"],[0.5,\"#f7f7f7\"],[0.6,\"#e6f5d0\"],[0.7,\"#b8e186\"],[0.8,\"#7fbc41\"],[0.9,\"#4d9221\"],[1,\"#276419\"]],\"sequential\":[[0.0,\"#0d0887\"],[0.1111111111111111,\"#46039f\"],[0.2222222222222222,\"#7201a8\"],[0.3333333333333333,\"#9c179e\"],[0.4444444444444444,\"#bd3786\"],[0.5555555555555556,\"#d8576b\"],[0.6666666666666666,\"#ed7953\"],[0.7777777777777778,\"#fb9f3a\"],[0.8888888888888888,\"#fdca26\"],[1.0,\"#f0f921\"]],\"sequentialminus\":[[0.0,\"#0d0887\"],[0.1111111111111111,\"#46039f\"],[0.2222222222222222,\"#7201a8\"],[0.3333333333333333,\"#9c179e\"],[0.4444444444444444,\"#bd3786\"],[0.5555555555555556,\"#d8576b\"],[0.6666666666666666,\"#ed7953\"],[0.7777777777777778,\"#fb9f3a\"],[0.8888888888888888,\"#fdca26\"],[1.0,\"#f0f921\"]]},\"colorway\":[\"#636efa\",\"#EF553B\",\"#00cc96\",\"#ab63fa\",\"#FFA15A\",\"#19d3f3\",\"#FF6692\",\"#B6E880\",\"#FF97FF\",\"#FECB52\"],\"font\":{\"color\":\"#2a3f5f\"},\"geo\":{\"bgcolor\":\"white\",\"lakecolor\":\"white\",\"landcolor\":\"#E5ECF6\",\"showlakes\":true,\"showland\":true,\"subunitcolor\":\"white\"},\"hoverlabel\":{\"align\":\"left\"},\"hovermode\":\"closest\",\"mapbox\":{\"style\":\"light\"},\"paper_bgcolor\":\"white\",\"plot_bgcolor\":\"#E5ECF6\",\"polar\":{\"angularaxis\":{\"gridcolor\":\"white\",\"linecolor\":\"white\",\"ticks\":\"\"},\"bgcolor\":\"#E5ECF6\",\"radialaxis\":{\"gridcolor\":\"white\",\"linecolor\":\"white\",\"ticks\":\"\"}},\"scene\":{\"xaxis\":{\"backgroundcolor\":\"#E5ECF6\",\"gridcolor\":\"white\",\"gridwidth\":2,\"linecolor\":\"white\",\"showbackground\":true,\"ticks\":\"\",\"zerolinecolor\":\"white\"},\"yaxis\":{\"backgroundcolor\":\"#E5ECF6\",\"gridcolor\":\"white\",\"gridwidth\":2,\"linecolor\":\"white\",\"showbackground\":true,\"ticks\":\"\",\"zerolinecolor\":\"white\"},\"zaxis\":{\"backgroundcolor\":\"#E5ECF6\",\"gridcolor\":\"white\",\"gridwidth\":2,\"linecolor\":\"white\",\"showbackground\":true,\"ticks\":\"\",\"zerolinecolor\":\"white\"}},\"shapedefaults\":{\"line\":{\"color\":\"#2a3f5f\"}},\"ternary\":{\"aaxis\":{\"gridcolor\":\"white\",\"linecolor\":\"white\",\"ticks\":\"\"},\"baxis\":{\"gridcolor\":\"white\",\"linecolor\":\"white\",\"ticks\":\"\"},\"bgcolor\":\"#E5ECF6\",\"caxis\":{\"gridcolor\":\"white\",\"linecolor\":\"white\",\"ticks\":\"\"}},\"title\":{\"x\":0.05},\"xaxis\":{\"automargin\":true,\"gridcolor\":\"white\",\"linecolor\":\"white\",\"ticks\":\"\",\"title\":{\"standoff\":15},\"zerolinecolor\":\"white\",\"zerolinewidth\":2},\"yaxis\":{\"automargin\":true,\"gridcolor\":\"white\",\"linecolor\":\"white\",\"ticks\":\"\",\"title\":{\"standoff\":15},\"zerolinecolor\":\"white\",\"zerolinewidth\":2}}},\"title\":{\"font\":{\"color\":\"#4D5663\"}},\"xaxis\":{\"gridcolor\":\"#E1E5ED\",\"showgrid\":true,\"tickfont\":{\"color\":\"#4D5663\"},\"title\":{\"font\":{\"color\":\"#4D5663\"},\"text\":\"\"},\"zerolinecolor\":\"#E1E5ED\"},\"yaxis\":{\"gridcolor\":\"#E1E5ED\",\"showgrid\":true,\"tickfont\":{\"color\":\"#4D5663\"},\"title\":{\"font\":{\"color\":\"#4D5663\"},\"text\":\"\"},\"zerolinecolor\":\"#E1E5ED\"}},                        {\"showLink\": true, \"linkText\": \"Export to plot.ly\", \"plotlyServerURL\": \"https://plot.ly\", \"responsive\": true}                    ).then(function(){\n",
       "                            \n",
       "var gd = document.getElementById('ff1cc298-ab86-4dea-aa66-d292b8ffda71');\n",
       "var x = new MutationObserver(function (mutations, observer) {{\n",
       "        var display = window.getComputedStyle(gd).display;\n",
       "        if (!display || display === 'none') {{\n",
       "            console.log([gd, 'removed!']);\n",
       "            Plotly.purge(gd);\n",
       "            observer.disconnect();\n",
       "        }}\n",
       "}});\n",
       "\n",
       "// Listen for the removal of the full notebook cells\n",
       "var notebookContainer = gd.closest('#notebook-container');\n",
       "if (notebookContainer) {{\n",
       "    x.observe(notebookContainer, {childList: true});\n",
       "}}\n",
       "\n",
       "// Listen for the clearing of the current output cell\n",
       "var outputEl = gd.closest('.output');\n",
       "if (outputEl) {{\n",
       "    x.observe(outputEl, {childList: true});\n",
       "}}\n",
       "\n",
       "                        })                };                });            </script>        </div>"
      ]
     },
     "metadata": {},
     "output_type": "display_data"
    }
   ],
   "source": [
    "df.iplot(kind='scatter',x='A',y='B')"
   ]
  },
  {
   "cell_type": "code",
   "execution_count": 60,
   "id": "aee29421",
   "metadata": {},
   "outputs": [
    {
     "data": {
      "application/vnd.plotly.v1+json": {
       "config": {
        "linkText": "Export to plot.ly",
        "plotlyServerURL": "https://plot.ly",
        "showLink": true
       },
       "data": [
        {
         "line": {
          "color": "rgba(255, 153, 51, 1.0)",
          "dash": "solid",
          "shape": "linear",
          "width": 1.3
         },
         "marker": {
          "size": 12,
          "symbol": "circle"
         },
         "mode": "markers",
         "name": "B",
         "text": "",
         "type": "scatter",
         "x": [
          1.6185342153503897,
          1.1848362441609444,
          1.0676265789711767,
          0.6289578176999444,
          -0.0731723746557524,
          -0.10349025747306093,
          -0.13828150425216726,
          0.8810902574734345,
          -0.5542620086053726,
          1.367655392604224,
          0.42159233908657434,
          -1.6600131400907159,
          -2.321880943758504,
          -0.14525715490075852,
          -1.4150329423246357,
          1.1902193781513097,
          0.032605182130966644,
          -1.1068654931550255,
          -0.4881710870419417,
          -1.0064654004665394,
          -1.4861349648044178,
          0.42126197939457344,
          0.2033513437481144,
          0.6780192171590568,
          2.2695601885039856,
          -1.0530794893148434,
          -0.7599582936020849,
          0.07479649981688027,
          -0.5004585006618902,
          -0.7069045792139065,
          -0.7490649048467005,
          -0.9573833622535074,
          0.3184903662704784,
          0.5232510497782804,
          -0.292920914056626,
          0.5526442907323154,
          0.28927758198705866,
          -0.9595308675629673,
          0.6624074725052688,
          -1.2675470861916667,
          -1.298518317282184,
          1.6505714308200703,
          0.7711743870399246,
          -0.10350465261086673,
          -0.9890595965375653,
          0.09060720967289916,
          -0.9664272965492815,
          1.7520110562695306,
          2.0598160276614736,
          -1.5398792263792436,
          0.14913323679684518,
          0.995048297495277,
          -0.8178015437731536,
          -1.1488188276104512,
          -1.2553879715068992,
          0.702144807401087,
          -0.14721370696443659,
          0.9849700972122788,
          -1.6159928381795001,
          2.8876664099211764,
          1.1792610841498818,
          1.137534866296284,
          0.36529841743489505,
          0.6837628681037843,
          0.3857655623229011,
          -1.4277493996033706,
          1.9387091111049926,
          -0.8799227856643209,
          0.17157935956524548,
          1.2164326922302917,
          0.004829280486984333,
          -0.7305142209733924,
          0.8090950392810067,
          -2.7632429506224883,
          0.9238654843844363,
          0.13909084142958214,
          0.06932779342792991,
          0.10316445888209945,
          -1.4408925516222189,
          -1.5014989504920706,
          1.3164328202880184,
          0.20632089660007252,
          -0.4332798600838577,
          0.5100226609573209,
          -0.5583994791359564,
          0.4825916998568048,
          -0.15873725230421742,
          -2.033833509570888,
          -0.56776873608412,
          -1.3983642700361827,
          -0.17721085755554614,
          -0.4777864854606395,
          -0.7084571357637636,
          0.14725150781339041,
          0.5160571944585837,
          2.391248105092854,
          -0.035925646760449015,
          0.3993352653098139,
          0.5041548045378224,
          -2.4531789724121182
         ],
         "y": [
          0.24555663252945903,
          -0.5638129038214954,
          0.15838017982758465,
          0.025965138727300052,
          1.0261693833091186,
          -1.8117251738858402,
          1.2824990052649607,
          0.9227163869758231,
          -0.32928491407238214,
          0.3366044693090377,
          0.16065191024800432,
          0.8082078977266477,
          -0.37421382646895285,
          0.4443612006818534,
          1.2591791755585575,
          -0.272577764440088,
          0.05397960093059676,
          0.9925302761246275,
          0.8240201250613609,
          0.03421864511183541,
          1.7687225019146364,
          0.9401432164859415,
          1.294385534196133,
          0.6944745568559109,
          0.4364763563018746,
          0.19932268382576923,
          -0.27934197237725056,
          -1.5844482409973324,
          0.8691582357782162,
          0.7968557938544397,
          1.227966360927478,
          0.32626552917603463,
          -0.5268174005804046,
          0.16189388577452204,
          0.47272456823309345,
          0.08452053298458287,
          -0.8350294005227219,
          0.8340070844504154,
          -1.2518433951160093,
          -0.5889093096430914,
          -1.5761297357175614,
          0.7025218259235306,
          0.9816624927802996,
          -1.3176098140720194,
          1.0192498512213706,
          -0.06384003639023407,
          -0.6499138608042271,
          1.779442553151568,
          0.9457660017435001,
          1.307783424473417,
          -0.22117084156221578,
          1.7868932790407142,
          -1.0844140449242934,
          0.35024847218493776,
          0.884244535300552,
          0.6614379919438789,
          -1.3080451104956212,
          -0.19203618050731222,
          1.400879527302598,
          -1.9204936660131982,
          0.0733528470981566,
          -2.7096374996506603,
          1.2516569643880509,
          1.375309163239427,
          0.6338916751026681,
          -0.44015753737571284,
          -0.47999473391612174,
          -0.5470196774727828,
          -0.6448957474033917,
          -1.2312387282637907,
          -0.7882654917165696,
          0.6992660805993933,
          1.343159728014624,
          0.006554386717324803,
          1.1839666350547748,
          0.7852962090064953,
          1.090853039440043,
          -0.9191197192317047,
          -0.584937510658358,
          0.09935280627146068,
          -1.0597550817994716,
          0.6327940167393934,
          -0.26286404024615473,
          1.3291756615688792,
          -1.082743328643993,
          -0.2925693546759645,
          0.5283895907770542,
          1.7397374477560037,
          -0.34785501448501577,
          -1.1370577316276549,
          -1.116757259654754,
          -0.18340610752183722,
          -0.5649610550472014,
          -0.6529937313804469,
          1.1892675399002437,
          -0.036918623731211,
          0.4873170568674592,
          0.20282226504473866,
          -0.09245437072411745,
          -1.719683555373446
         ]
        }
       ],
       "layout": {
        "legend": {
         "bgcolor": "#F5F6F9",
         "font": {
          "color": "#4D5663"
         }
        },
        "paper_bgcolor": "#F5F6F9",
        "plot_bgcolor": "#F5F6F9",
        "template": {
         "data": {
          "bar": [
           {
            "error_x": {
             "color": "#2a3f5f"
            },
            "error_y": {
             "color": "#2a3f5f"
            },
            "marker": {
             "line": {
              "color": "#E5ECF6",
              "width": 0.5
             },
             "pattern": {
              "fillmode": "overlay",
              "size": 10,
              "solidity": 0.2
             }
            },
            "type": "bar"
           }
          ],
          "barpolar": [
           {
            "marker": {
             "line": {
              "color": "#E5ECF6",
              "width": 0.5
             },
             "pattern": {
              "fillmode": "overlay",
              "size": 10,
              "solidity": 0.2
             }
            },
            "type": "barpolar"
           }
          ],
          "carpet": [
           {
            "aaxis": {
             "endlinecolor": "#2a3f5f",
             "gridcolor": "white",
             "linecolor": "white",
             "minorgridcolor": "white",
             "startlinecolor": "#2a3f5f"
            },
            "baxis": {
             "endlinecolor": "#2a3f5f",
             "gridcolor": "white",
             "linecolor": "white",
             "minorgridcolor": "white",
             "startlinecolor": "#2a3f5f"
            },
            "type": "carpet"
           }
          ],
          "choropleth": [
           {
            "colorbar": {
             "outlinewidth": 0,
             "ticks": ""
            },
            "type": "choropleth"
           }
          ],
          "contour": [
           {
            "colorbar": {
             "outlinewidth": 0,
             "ticks": ""
            },
            "colorscale": [
             [
              0,
              "#0d0887"
             ],
             [
              0.1111111111111111,
              "#46039f"
             ],
             [
              0.2222222222222222,
              "#7201a8"
             ],
             [
              0.3333333333333333,
              "#9c179e"
             ],
             [
              0.4444444444444444,
              "#bd3786"
             ],
             [
              0.5555555555555556,
              "#d8576b"
             ],
             [
              0.6666666666666666,
              "#ed7953"
             ],
             [
              0.7777777777777778,
              "#fb9f3a"
             ],
             [
              0.8888888888888888,
              "#fdca26"
             ],
             [
              1,
              "#f0f921"
             ]
            ],
            "type": "contour"
           }
          ],
          "contourcarpet": [
           {
            "colorbar": {
             "outlinewidth": 0,
             "ticks": ""
            },
            "type": "contourcarpet"
           }
          ],
          "heatmap": [
           {
            "colorbar": {
             "outlinewidth": 0,
             "ticks": ""
            },
            "colorscale": [
             [
              0,
              "#0d0887"
             ],
             [
              0.1111111111111111,
              "#46039f"
             ],
             [
              0.2222222222222222,
              "#7201a8"
             ],
             [
              0.3333333333333333,
              "#9c179e"
             ],
             [
              0.4444444444444444,
              "#bd3786"
             ],
             [
              0.5555555555555556,
              "#d8576b"
             ],
             [
              0.6666666666666666,
              "#ed7953"
             ],
             [
              0.7777777777777778,
              "#fb9f3a"
             ],
             [
              0.8888888888888888,
              "#fdca26"
             ],
             [
              1,
              "#f0f921"
             ]
            ],
            "type": "heatmap"
           }
          ],
          "heatmapgl": [
           {
            "colorbar": {
             "outlinewidth": 0,
             "ticks": ""
            },
            "colorscale": [
             [
              0,
              "#0d0887"
             ],
             [
              0.1111111111111111,
              "#46039f"
             ],
             [
              0.2222222222222222,
              "#7201a8"
             ],
             [
              0.3333333333333333,
              "#9c179e"
             ],
             [
              0.4444444444444444,
              "#bd3786"
             ],
             [
              0.5555555555555556,
              "#d8576b"
             ],
             [
              0.6666666666666666,
              "#ed7953"
             ],
             [
              0.7777777777777778,
              "#fb9f3a"
             ],
             [
              0.8888888888888888,
              "#fdca26"
             ],
             [
              1,
              "#f0f921"
             ]
            ],
            "type": "heatmapgl"
           }
          ],
          "histogram": [
           {
            "marker": {
             "pattern": {
              "fillmode": "overlay",
              "size": 10,
              "solidity": 0.2
             }
            },
            "type": "histogram"
           }
          ],
          "histogram2d": [
           {
            "colorbar": {
             "outlinewidth": 0,
             "ticks": ""
            },
            "colorscale": [
             [
              0,
              "#0d0887"
             ],
             [
              0.1111111111111111,
              "#46039f"
             ],
             [
              0.2222222222222222,
              "#7201a8"
             ],
             [
              0.3333333333333333,
              "#9c179e"
             ],
             [
              0.4444444444444444,
              "#bd3786"
             ],
             [
              0.5555555555555556,
              "#d8576b"
             ],
             [
              0.6666666666666666,
              "#ed7953"
             ],
             [
              0.7777777777777778,
              "#fb9f3a"
             ],
             [
              0.8888888888888888,
              "#fdca26"
             ],
             [
              1,
              "#f0f921"
             ]
            ],
            "type": "histogram2d"
           }
          ],
          "histogram2dcontour": [
           {
            "colorbar": {
             "outlinewidth": 0,
             "ticks": ""
            },
            "colorscale": [
             [
              0,
              "#0d0887"
             ],
             [
              0.1111111111111111,
              "#46039f"
             ],
             [
              0.2222222222222222,
              "#7201a8"
             ],
             [
              0.3333333333333333,
              "#9c179e"
             ],
             [
              0.4444444444444444,
              "#bd3786"
             ],
             [
              0.5555555555555556,
              "#d8576b"
             ],
             [
              0.6666666666666666,
              "#ed7953"
             ],
             [
              0.7777777777777778,
              "#fb9f3a"
             ],
             [
              0.8888888888888888,
              "#fdca26"
             ],
             [
              1,
              "#f0f921"
             ]
            ],
            "type": "histogram2dcontour"
           }
          ],
          "mesh3d": [
           {
            "colorbar": {
             "outlinewidth": 0,
             "ticks": ""
            },
            "type": "mesh3d"
           }
          ],
          "parcoords": [
           {
            "line": {
             "colorbar": {
              "outlinewidth": 0,
              "ticks": ""
             }
            },
            "type": "parcoords"
           }
          ],
          "pie": [
           {
            "automargin": true,
            "type": "pie"
           }
          ],
          "scatter": [
           {
            "fillpattern": {
             "fillmode": "overlay",
             "size": 10,
             "solidity": 0.2
            },
            "type": "scatter"
           }
          ],
          "scatter3d": [
           {
            "line": {
             "colorbar": {
              "outlinewidth": 0,
              "ticks": ""
             }
            },
            "marker": {
             "colorbar": {
              "outlinewidth": 0,
              "ticks": ""
             }
            },
            "type": "scatter3d"
           }
          ],
          "scattercarpet": [
           {
            "marker": {
             "colorbar": {
              "outlinewidth": 0,
              "ticks": ""
             }
            },
            "type": "scattercarpet"
           }
          ],
          "scattergeo": [
           {
            "marker": {
             "colorbar": {
              "outlinewidth": 0,
              "ticks": ""
             }
            },
            "type": "scattergeo"
           }
          ],
          "scattergl": [
           {
            "marker": {
             "colorbar": {
              "outlinewidth": 0,
              "ticks": ""
             }
            },
            "type": "scattergl"
           }
          ],
          "scattermapbox": [
           {
            "marker": {
             "colorbar": {
              "outlinewidth": 0,
              "ticks": ""
             }
            },
            "type": "scattermapbox"
           }
          ],
          "scatterpolar": [
           {
            "marker": {
             "colorbar": {
              "outlinewidth": 0,
              "ticks": ""
             }
            },
            "type": "scatterpolar"
           }
          ],
          "scatterpolargl": [
           {
            "marker": {
             "colorbar": {
              "outlinewidth": 0,
              "ticks": ""
             }
            },
            "type": "scatterpolargl"
           }
          ],
          "scatterternary": [
           {
            "marker": {
             "colorbar": {
              "outlinewidth": 0,
              "ticks": ""
             }
            },
            "type": "scatterternary"
           }
          ],
          "surface": [
           {
            "colorbar": {
             "outlinewidth": 0,
             "ticks": ""
            },
            "colorscale": [
             [
              0,
              "#0d0887"
             ],
             [
              0.1111111111111111,
              "#46039f"
             ],
             [
              0.2222222222222222,
              "#7201a8"
             ],
             [
              0.3333333333333333,
              "#9c179e"
             ],
             [
              0.4444444444444444,
              "#bd3786"
             ],
             [
              0.5555555555555556,
              "#d8576b"
             ],
             [
              0.6666666666666666,
              "#ed7953"
             ],
             [
              0.7777777777777778,
              "#fb9f3a"
             ],
             [
              0.8888888888888888,
              "#fdca26"
             ],
             [
              1,
              "#f0f921"
             ]
            ],
            "type": "surface"
           }
          ],
          "table": [
           {
            "cells": {
             "fill": {
              "color": "#EBF0F8"
             },
             "line": {
              "color": "white"
             }
            },
            "header": {
             "fill": {
              "color": "#C8D4E3"
             },
             "line": {
              "color": "white"
             }
            },
            "type": "table"
           }
          ]
         },
         "layout": {
          "annotationdefaults": {
           "arrowcolor": "#2a3f5f",
           "arrowhead": 0,
           "arrowwidth": 1
          },
          "autotypenumbers": "strict",
          "coloraxis": {
           "colorbar": {
            "outlinewidth": 0,
            "ticks": ""
           }
          },
          "colorscale": {
           "diverging": [
            [
             0,
             "#8e0152"
            ],
            [
             0.1,
             "#c51b7d"
            ],
            [
             0.2,
             "#de77ae"
            ],
            [
             0.3,
             "#f1b6da"
            ],
            [
             0.4,
             "#fde0ef"
            ],
            [
             0.5,
             "#f7f7f7"
            ],
            [
             0.6,
             "#e6f5d0"
            ],
            [
             0.7,
             "#b8e186"
            ],
            [
             0.8,
             "#7fbc41"
            ],
            [
             0.9,
             "#4d9221"
            ],
            [
             1,
             "#276419"
            ]
           ],
           "sequential": [
            [
             0,
             "#0d0887"
            ],
            [
             0.1111111111111111,
             "#46039f"
            ],
            [
             0.2222222222222222,
             "#7201a8"
            ],
            [
             0.3333333333333333,
             "#9c179e"
            ],
            [
             0.4444444444444444,
             "#bd3786"
            ],
            [
             0.5555555555555556,
             "#d8576b"
            ],
            [
             0.6666666666666666,
             "#ed7953"
            ],
            [
             0.7777777777777778,
             "#fb9f3a"
            ],
            [
             0.8888888888888888,
             "#fdca26"
            ],
            [
             1,
             "#f0f921"
            ]
           ],
           "sequentialminus": [
            [
             0,
             "#0d0887"
            ],
            [
             0.1111111111111111,
             "#46039f"
            ],
            [
             0.2222222222222222,
             "#7201a8"
            ],
            [
             0.3333333333333333,
             "#9c179e"
            ],
            [
             0.4444444444444444,
             "#bd3786"
            ],
            [
             0.5555555555555556,
             "#d8576b"
            ],
            [
             0.6666666666666666,
             "#ed7953"
            ],
            [
             0.7777777777777778,
             "#fb9f3a"
            ],
            [
             0.8888888888888888,
             "#fdca26"
            ],
            [
             1,
             "#f0f921"
            ]
           ]
          },
          "colorway": [
           "#636efa",
           "#EF553B",
           "#00cc96",
           "#ab63fa",
           "#FFA15A",
           "#19d3f3",
           "#FF6692",
           "#B6E880",
           "#FF97FF",
           "#FECB52"
          ],
          "font": {
           "color": "#2a3f5f"
          },
          "geo": {
           "bgcolor": "white",
           "lakecolor": "white",
           "landcolor": "#E5ECF6",
           "showlakes": true,
           "showland": true,
           "subunitcolor": "white"
          },
          "hoverlabel": {
           "align": "left"
          },
          "hovermode": "closest",
          "mapbox": {
           "style": "light"
          },
          "paper_bgcolor": "white",
          "plot_bgcolor": "#E5ECF6",
          "polar": {
           "angularaxis": {
            "gridcolor": "white",
            "linecolor": "white",
            "ticks": ""
           },
           "bgcolor": "#E5ECF6",
           "radialaxis": {
            "gridcolor": "white",
            "linecolor": "white",
            "ticks": ""
           }
          },
          "scene": {
           "xaxis": {
            "backgroundcolor": "#E5ECF6",
            "gridcolor": "white",
            "gridwidth": 2,
            "linecolor": "white",
            "showbackground": true,
            "ticks": "",
            "zerolinecolor": "white"
           },
           "yaxis": {
            "backgroundcolor": "#E5ECF6",
            "gridcolor": "white",
            "gridwidth": 2,
            "linecolor": "white",
            "showbackground": true,
            "ticks": "",
            "zerolinecolor": "white"
           },
           "zaxis": {
            "backgroundcolor": "#E5ECF6",
            "gridcolor": "white",
            "gridwidth": 2,
            "linecolor": "white",
            "showbackground": true,
            "ticks": "",
            "zerolinecolor": "white"
           }
          },
          "shapedefaults": {
           "line": {
            "color": "#2a3f5f"
           }
          },
          "ternary": {
           "aaxis": {
            "gridcolor": "white",
            "linecolor": "white",
            "ticks": ""
           },
           "baxis": {
            "gridcolor": "white",
            "linecolor": "white",
            "ticks": ""
           },
           "bgcolor": "#E5ECF6",
           "caxis": {
            "gridcolor": "white",
            "linecolor": "white",
            "ticks": ""
           }
          },
          "title": {
           "x": 0.05
          },
          "xaxis": {
           "automargin": true,
           "gridcolor": "white",
           "linecolor": "white",
           "ticks": "",
           "title": {
            "standoff": 15
           },
           "zerolinecolor": "white",
           "zerolinewidth": 2
          },
          "yaxis": {
           "automargin": true,
           "gridcolor": "white",
           "linecolor": "white",
           "ticks": "",
           "title": {
            "standoff": 15
           },
           "zerolinecolor": "white",
           "zerolinewidth": 2
          }
         }
        },
        "title": {
         "font": {
          "color": "#4D5663"
         }
        },
        "xaxis": {
         "gridcolor": "#E1E5ED",
         "showgrid": true,
         "tickfont": {
          "color": "#4D5663"
         },
         "title": {
          "font": {
           "color": "#4D5663"
          },
          "text": ""
         },
         "zerolinecolor": "#E1E5ED"
        },
        "yaxis": {
         "gridcolor": "#E1E5ED",
         "showgrid": true,
         "tickfont": {
          "color": "#4D5663"
         },
         "title": {
          "font": {
           "color": "#4D5663"
          },
          "text": ""
         },
         "zerolinecolor": "#E1E5ED"
        }
       }
      },
      "text/html": [
       "<div>                            <div id=\"4a28c4f9-0309-4352-a957-39fb182da830\" class=\"plotly-graph-div\" style=\"height:525px; width:100%;\"></div>            <script type=\"text/javascript\">                require([\"plotly\"], function(Plotly) {                    window.PLOTLYENV=window.PLOTLYENV || {};\n",
       "                    window.PLOTLYENV.BASE_URL='https://plot.ly';                                    if (document.getElementById(\"4a28c4f9-0309-4352-a957-39fb182da830\")) {                    Plotly.newPlot(                        \"4a28c4f9-0309-4352-a957-39fb182da830\",                        [{\"line\":{\"color\":\"rgba(255, 153, 51, 1.0)\",\"dash\":\"solid\",\"shape\":\"linear\",\"width\":1.3},\"marker\":{\"size\":12,\"symbol\":\"circle\"},\"mode\":\"markers\",\"name\":\"B\",\"text\":\"\",\"x\":[1.6185342153503897,1.1848362441609444,1.0676265789711767,0.6289578176999444,-0.0731723746557524,-0.10349025747306093,-0.13828150425216726,0.8810902574734345,-0.5542620086053726,1.367655392604224,0.42159233908657434,-1.6600131400907159,-2.321880943758504,-0.14525715490075852,-1.4150329423246357,1.1902193781513097,0.032605182130966644,-1.1068654931550255,-0.4881710870419417,-1.0064654004665394,-1.4861349648044178,0.42126197939457344,0.2033513437481144,0.6780192171590568,2.2695601885039856,-1.0530794893148434,-0.7599582936020849,0.07479649981688027,-0.5004585006618902,-0.7069045792139065,-0.7490649048467005,-0.9573833622535074,0.3184903662704784,0.5232510497782804,-0.292920914056626,0.5526442907323154,0.28927758198705866,-0.9595308675629673,0.6624074725052688,-1.2675470861916667,-1.298518317282184,1.6505714308200703,0.7711743870399246,-0.10350465261086673,-0.9890595965375653,0.09060720967289916,-0.9664272965492815,1.7520110562695306,2.0598160276614736,-1.5398792263792436,0.14913323679684518,0.995048297495277,-0.8178015437731536,-1.1488188276104512,-1.2553879715068992,0.702144807401087,-0.14721370696443659,0.9849700972122788,-1.6159928381795001,2.8876664099211764,1.1792610841498818,1.137534866296284,0.36529841743489505,0.6837628681037843,0.3857655623229011,-1.4277493996033706,1.9387091111049926,-0.8799227856643209,0.17157935956524548,1.2164326922302917,0.004829280486984333,-0.7305142209733924,0.8090950392810067,-2.7632429506224883,0.9238654843844363,0.13909084142958214,0.06932779342792991,0.10316445888209945,-1.4408925516222189,-1.5014989504920706,1.3164328202880184,0.20632089660007252,-0.4332798600838577,0.5100226609573209,-0.5583994791359564,0.4825916998568048,-0.15873725230421742,-2.033833509570888,-0.56776873608412,-1.3983642700361827,-0.17721085755554614,-0.4777864854606395,-0.7084571357637636,0.14725150781339041,0.5160571944585837,2.391248105092854,-0.035925646760449015,0.3993352653098139,0.5041548045378224,-2.4531789724121182],\"y\":[0.24555663252945903,-0.5638129038214954,0.15838017982758465,0.025965138727300052,1.0261693833091186,-1.8117251738858402,1.2824990052649607,0.9227163869758231,-0.32928491407238214,0.3366044693090377,0.16065191024800432,0.8082078977266477,-0.37421382646895285,0.4443612006818534,1.2591791755585575,-0.272577764440088,0.05397960093059676,0.9925302761246275,0.8240201250613609,0.03421864511183541,1.7687225019146364,0.9401432164859415,1.294385534196133,0.6944745568559109,0.4364763563018746,0.19932268382576923,-0.27934197237725056,-1.5844482409973324,0.8691582357782162,0.7968557938544397,1.227966360927478,0.32626552917603463,-0.5268174005804046,0.16189388577452204,0.47272456823309345,0.08452053298458287,-0.8350294005227219,0.8340070844504154,-1.2518433951160093,-0.5889093096430914,-1.5761297357175614,0.7025218259235306,0.9816624927802996,-1.3176098140720194,1.0192498512213706,-0.06384003639023407,-0.6499138608042271,1.779442553151568,0.9457660017435001,1.307783424473417,-0.22117084156221578,1.7868932790407142,-1.0844140449242934,0.35024847218493776,0.884244535300552,0.6614379919438789,-1.3080451104956212,-0.19203618050731222,1.400879527302598,-1.9204936660131982,0.0733528470981566,-2.7096374996506603,1.2516569643880509,1.375309163239427,0.6338916751026681,-0.44015753737571284,-0.47999473391612174,-0.5470196774727828,-0.6448957474033917,-1.2312387282637907,-0.7882654917165696,0.6992660805993933,1.343159728014624,0.006554386717324803,1.1839666350547748,0.7852962090064953,1.090853039440043,-0.9191197192317047,-0.584937510658358,0.09935280627146068,-1.0597550817994716,0.6327940167393934,-0.26286404024615473,1.3291756615688792,-1.082743328643993,-0.2925693546759645,0.5283895907770542,1.7397374477560037,-0.34785501448501577,-1.1370577316276549,-1.116757259654754,-0.18340610752183722,-0.5649610550472014,-0.6529937313804469,1.1892675399002437,-0.036918623731211,0.4873170568674592,0.20282226504473866,-0.09245437072411745,-1.719683555373446],\"type\":\"scatter\"}],                        {\"legend\":{\"bgcolor\":\"#F5F6F9\",\"font\":{\"color\":\"#4D5663\"}},\"paper_bgcolor\":\"#F5F6F9\",\"plot_bgcolor\":\"#F5F6F9\",\"template\":{\"data\":{\"barpolar\":[{\"marker\":{\"line\":{\"color\":\"#E5ECF6\",\"width\":0.5},\"pattern\":{\"fillmode\":\"overlay\",\"size\":10,\"solidity\":0.2}},\"type\":\"barpolar\"}],\"bar\":[{\"error_x\":{\"color\":\"#2a3f5f\"},\"error_y\":{\"color\":\"#2a3f5f\"},\"marker\":{\"line\":{\"color\":\"#E5ECF6\",\"width\":0.5},\"pattern\":{\"fillmode\":\"overlay\",\"size\":10,\"solidity\":0.2}},\"type\":\"bar\"}],\"carpet\":[{\"aaxis\":{\"endlinecolor\":\"#2a3f5f\",\"gridcolor\":\"white\",\"linecolor\":\"white\",\"minorgridcolor\":\"white\",\"startlinecolor\":\"#2a3f5f\"},\"baxis\":{\"endlinecolor\":\"#2a3f5f\",\"gridcolor\":\"white\",\"linecolor\":\"white\",\"minorgridcolor\":\"white\",\"startlinecolor\":\"#2a3f5f\"},\"type\":\"carpet\"}],\"choropleth\":[{\"colorbar\":{\"outlinewidth\":0,\"ticks\":\"\"},\"type\":\"choropleth\"}],\"contourcarpet\":[{\"colorbar\":{\"outlinewidth\":0,\"ticks\":\"\"},\"type\":\"contourcarpet\"}],\"contour\":[{\"colorbar\":{\"outlinewidth\":0,\"ticks\":\"\"},\"colorscale\":[[0.0,\"#0d0887\"],[0.1111111111111111,\"#46039f\"],[0.2222222222222222,\"#7201a8\"],[0.3333333333333333,\"#9c179e\"],[0.4444444444444444,\"#bd3786\"],[0.5555555555555556,\"#d8576b\"],[0.6666666666666666,\"#ed7953\"],[0.7777777777777778,\"#fb9f3a\"],[0.8888888888888888,\"#fdca26\"],[1.0,\"#f0f921\"]],\"type\":\"contour\"}],\"heatmapgl\":[{\"colorbar\":{\"outlinewidth\":0,\"ticks\":\"\"},\"colorscale\":[[0.0,\"#0d0887\"],[0.1111111111111111,\"#46039f\"],[0.2222222222222222,\"#7201a8\"],[0.3333333333333333,\"#9c179e\"],[0.4444444444444444,\"#bd3786\"],[0.5555555555555556,\"#d8576b\"],[0.6666666666666666,\"#ed7953\"],[0.7777777777777778,\"#fb9f3a\"],[0.8888888888888888,\"#fdca26\"],[1.0,\"#f0f921\"]],\"type\":\"heatmapgl\"}],\"heatmap\":[{\"colorbar\":{\"outlinewidth\":0,\"ticks\":\"\"},\"colorscale\":[[0.0,\"#0d0887\"],[0.1111111111111111,\"#46039f\"],[0.2222222222222222,\"#7201a8\"],[0.3333333333333333,\"#9c179e\"],[0.4444444444444444,\"#bd3786\"],[0.5555555555555556,\"#d8576b\"],[0.6666666666666666,\"#ed7953\"],[0.7777777777777778,\"#fb9f3a\"],[0.8888888888888888,\"#fdca26\"],[1.0,\"#f0f921\"]],\"type\":\"heatmap\"}],\"histogram2dcontour\":[{\"colorbar\":{\"outlinewidth\":0,\"ticks\":\"\"},\"colorscale\":[[0.0,\"#0d0887\"],[0.1111111111111111,\"#46039f\"],[0.2222222222222222,\"#7201a8\"],[0.3333333333333333,\"#9c179e\"],[0.4444444444444444,\"#bd3786\"],[0.5555555555555556,\"#d8576b\"],[0.6666666666666666,\"#ed7953\"],[0.7777777777777778,\"#fb9f3a\"],[0.8888888888888888,\"#fdca26\"],[1.0,\"#f0f921\"]],\"type\":\"histogram2dcontour\"}],\"histogram2d\":[{\"colorbar\":{\"outlinewidth\":0,\"ticks\":\"\"},\"colorscale\":[[0.0,\"#0d0887\"],[0.1111111111111111,\"#46039f\"],[0.2222222222222222,\"#7201a8\"],[0.3333333333333333,\"#9c179e\"],[0.4444444444444444,\"#bd3786\"],[0.5555555555555556,\"#d8576b\"],[0.6666666666666666,\"#ed7953\"],[0.7777777777777778,\"#fb9f3a\"],[0.8888888888888888,\"#fdca26\"],[1.0,\"#f0f921\"]],\"type\":\"histogram2d\"}],\"histogram\":[{\"marker\":{\"pattern\":{\"fillmode\":\"overlay\",\"size\":10,\"solidity\":0.2}},\"type\":\"histogram\"}],\"mesh3d\":[{\"colorbar\":{\"outlinewidth\":0,\"ticks\":\"\"},\"type\":\"mesh3d\"}],\"parcoords\":[{\"line\":{\"colorbar\":{\"outlinewidth\":0,\"ticks\":\"\"}},\"type\":\"parcoords\"}],\"pie\":[{\"automargin\":true,\"type\":\"pie\"}],\"scatter3d\":[{\"line\":{\"colorbar\":{\"outlinewidth\":0,\"ticks\":\"\"}},\"marker\":{\"colorbar\":{\"outlinewidth\":0,\"ticks\":\"\"}},\"type\":\"scatter3d\"}],\"scattercarpet\":[{\"marker\":{\"colorbar\":{\"outlinewidth\":0,\"ticks\":\"\"}},\"type\":\"scattercarpet\"}],\"scattergeo\":[{\"marker\":{\"colorbar\":{\"outlinewidth\":0,\"ticks\":\"\"}},\"type\":\"scattergeo\"}],\"scattergl\":[{\"marker\":{\"colorbar\":{\"outlinewidth\":0,\"ticks\":\"\"}},\"type\":\"scattergl\"}],\"scattermapbox\":[{\"marker\":{\"colorbar\":{\"outlinewidth\":0,\"ticks\":\"\"}},\"type\":\"scattermapbox\"}],\"scatterpolargl\":[{\"marker\":{\"colorbar\":{\"outlinewidth\":0,\"ticks\":\"\"}},\"type\":\"scatterpolargl\"}],\"scatterpolar\":[{\"marker\":{\"colorbar\":{\"outlinewidth\":0,\"ticks\":\"\"}},\"type\":\"scatterpolar\"}],\"scatter\":[{\"fillpattern\":{\"fillmode\":\"overlay\",\"size\":10,\"solidity\":0.2},\"type\":\"scatter\"}],\"scatterternary\":[{\"marker\":{\"colorbar\":{\"outlinewidth\":0,\"ticks\":\"\"}},\"type\":\"scatterternary\"}],\"surface\":[{\"colorbar\":{\"outlinewidth\":0,\"ticks\":\"\"},\"colorscale\":[[0.0,\"#0d0887\"],[0.1111111111111111,\"#46039f\"],[0.2222222222222222,\"#7201a8\"],[0.3333333333333333,\"#9c179e\"],[0.4444444444444444,\"#bd3786\"],[0.5555555555555556,\"#d8576b\"],[0.6666666666666666,\"#ed7953\"],[0.7777777777777778,\"#fb9f3a\"],[0.8888888888888888,\"#fdca26\"],[1.0,\"#f0f921\"]],\"type\":\"surface\"}],\"table\":[{\"cells\":{\"fill\":{\"color\":\"#EBF0F8\"},\"line\":{\"color\":\"white\"}},\"header\":{\"fill\":{\"color\":\"#C8D4E3\"},\"line\":{\"color\":\"white\"}},\"type\":\"table\"}]},\"layout\":{\"annotationdefaults\":{\"arrowcolor\":\"#2a3f5f\",\"arrowhead\":0,\"arrowwidth\":1},\"autotypenumbers\":\"strict\",\"coloraxis\":{\"colorbar\":{\"outlinewidth\":0,\"ticks\":\"\"}},\"colorscale\":{\"diverging\":[[0,\"#8e0152\"],[0.1,\"#c51b7d\"],[0.2,\"#de77ae\"],[0.3,\"#f1b6da\"],[0.4,\"#fde0ef\"],[0.5,\"#f7f7f7\"],[0.6,\"#e6f5d0\"],[0.7,\"#b8e186\"],[0.8,\"#7fbc41\"],[0.9,\"#4d9221\"],[1,\"#276419\"]],\"sequential\":[[0.0,\"#0d0887\"],[0.1111111111111111,\"#46039f\"],[0.2222222222222222,\"#7201a8\"],[0.3333333333333333,\"#9c179e\"],[0.4444444444444444,\"#bd3786\"],[0.5555555555555556,\"#d8576b\"],[0.6666666666666666,\"#ed7953\"],[0.7777777777777778,\"#fb9f3a\"],[0.8888888888888888,\"#fdca26\"],[1.0,\"#f0f921\"]],\"sequentialminus\":[[0.0,\"#0d0887\"],[0.1111111111111111,\"#46039f\"],[0.2222222222222222,\"#7201a8\"],[0.3333333333333333,\"#9c179e\"],[0.4444444444444444,\"#bd3786\"],[0.5555555555555556,\"#d8576b\"],[0.6666666666666666,\"#ed7953\"],[0.7777777777777778,\"#fb9f3a\"],[0.8888888888888888,\"#fdca26\"],[1.0,\"#f0f921\"]]},\"colorway\":[\"#636efa\",\"#EF553B\",\"#00cc96\",\"#ab63fa\",\"#FFA15A\",\"#19d3f3\",\"#FF6692\",\"#B6E880\",\"#FF97FF\",\"#FECB52\"],\"font\":{\"color\":\"#2a3f5f\"},\"geo\":{\"bgcolor\":\"white\",\"lakecolor\":\"white\",\"landcolor\":\"#E5ECF6\",\"showlakes\":true,\"showland\":true,\"subunitcolor\":\"white\"},\"hoverlabel\":{\"align\":\"left\"},\"hovermode\":\"closest\",\"mapbox\":{\"style\":\"light\"},\"paper_bgcolor\":\"white\",\"plot_bgcolor\":\"#E5ECF6\",\"polar\":{\"angularaxis\":{\"gridcolor\":\"white\",\"linecolor\":\"white\",\"ticks\":\"\"},\"bgcolor\":\"#E5ECF6\",\"radialaxis\":{\"gridcolor\":\"white\",\"linecolor\":\"white\",\"ticks\":\"\"}},\"scene\":{\"xaxis\":{\"backgroundcolor\":\"#E5ECF6\",\"gridcolor\":\"white\",\"gridwidth\":2,\"linecolor\":\"white\",\"showbackground\":true,\"ticks\":\"\",\"zerolinecolor\":\"white\"},\"yaxis\":{\"backgroundcolor\":\"#E5ECF6\",\"gridcolor\":\"white\",\"gridwidth\":2,\"linecolor\":\"white\",\"showbackground\":true,\"ticks\":\"\",\"zerolinecolor\":\"white\"},\"zaxis\":{\"backgroundcolor\":\"#E5ECF6\",\"gridcolor\":\"white\",\"gridwidth\":2,\"linecolor\":\"white\",\"showbackground\":true,\"ticks\":\"\",\"zerolinecolor\":\"white\"}},\"shapedefaults\":{\"line\":{\"color\":\"#2a3f5f\"}},\"ternary\":{\"aaxis\":{\"gridcolor\":\"white\",\"linecolor\":\"white\",\"ticks\":\"\"},\"baxis\":{\"gridcolor\":\"white\",\"linecolor\":\"white\",\"ticks\":\"\"},\"bgcolor\":\"#E5ECF6\",\"caxis\":{\"gridcolor\":\"white\",\"linecolor\":\"white\",\"ticks\":\"\"}},\"title\":{\"x\":0.05},\"xaxis\":{\"automargin\":true,\"gridcolor\":\"white\",\"linecolor\":\"white\",\"ticks\":\"\",\"title\":{\"standoff\":15},\"zerolinecolor\":\"white\",\"zerolinewidth\":2},\"yaxis\":{\"automargin\":true,\"gridcolor\":\"white\",\"linecolor\":\"white\",\"ticks\":\"\",\"title\":{\"standoff\":15},\"zerolinecolor\":\"white\",\"zerolinewidth\":2}}},\"title\":{\"font\":{\"color\":\"#4D5663\"}},\"xaxis\":{\"gridcolor\":\"#E1E5ED\",\"showgrid\":true,\"tickfont\":{\"color\":\"#4D5663\"},\"title\":{\"font\":{\"color\":\"#4D5663\"},\"text\":\"\"},\"zerolinecolor\":\"#E1E5ED\"},\"yaxis\":{\"gridcolor\":\"#E1E5ED\",\"showgrid\":true,\"tickfont\":{\"color\":\"#4D5663\"},\"title\":{\"font\":{\"color\":\"#4D5663\"},\"text\":\"\"},\"zerolinecolor\":\"#E1E5ED\"}},                        {\"showLink\": true, \"linkText\": \"Export to plot.ly\", \"plotlyServerURL\": \"https://plot.ly\", \"responsive\": true}                    ).then(function(){\n",
       "                            \n",
       "var gd = document.getElementById('4a28c4f9-0309-4352-a957-39fb182da830');\n",
       "var x = new MutationObserver(function (mutations, observer) {{\n",
       "        var display = window.getComputedStyle(gd).display;\n",
       "        if (!display || display === 'none') {{\n",
       "            console.log([gd, 'removed!']);\n",
       "            Plotly.purge(gd);\n",
       "            observer.disconnect();\n",
       "        }}\n",
       "}});\n",
       "\n",
       "// Listen for the removal of the full notebook cells\n",
       "var notebookContainer = gd.closest('#notebook-container');\n",
       "if (notebookContainer) {{\n",
       "    x.observe(notebookContainer, {childList: true});\n",
       "}}\n",
       "\n",
       "// Listen for the clearing of the current output cell\n",
       "var outputEl = gd.closest('.output');\n",
       "if (outputEl) {{\n",
       "    x.observe(outputEl, {childList: true});\n",
       "}}\n",
       "\n",
       "                        })                };                });            </script>        </div>"
      ]
     },
     "metadata": {},
     "output_type": "display_data"
    }
   ],
   "source": [
    "df.iplot(kind='scatter',x='A',y='B',mode='markers')"
   ]
  },
  {
   "cell_type": "code",
   "execution_count": 61,
   "id": "b7c8cbac",
   "metadata": {},
   "outputs": [
    {
     "data": {
      "application/vnd.plotly.v1+json": {
       "config": {
        "linkText": "Export to plot.ly",
        "plotlyServerURL": "https://plot.ly",
        "showLink": true
       },
       "data": [
        {
         "line": {
          "color": "rgba(255, 153, 51, 1.0)",
          "dash": "solid",
          "shape": "linear",
          "width": 1.3
         },
         "marker": {
          "size": 10,
          "symbol": "circle"
         },
         "mode": "markers",
         "name": "B",
         "text": "",
         "type": "scatter",
         "x": [
          1.6185342153503897,
          1.1848362441609444,
          1.0676265789711767,
          0.6289578176999444,
          -0.0731723746557524,
          -0.10349025747306093,
          -0.13828150425216726,
          0.8810902574734345,
          -0.5542620086053726,
          1.367655392604224,
          0.42159233908657434,
          -1.6600131400907159,
          -2.321880943758504,
          -0.14525715490075852,
          -1.4150329423246357,
          1.1902193781513097,
          0.032605182130966644,
          -1.1068654931550255,
          -0.4881710870419417,
          -1.0064654004665394,
          -1.4861349648044178,
          0.42126197939457344,
          0.2033513437481144,
          0.6780192171590568,
          2.2695601885039856,
          -1.0530794893148434,
          -0.7599582936020849,
          0.07479649981688027,
          -0.5004585006618902,
          -0.7069045792139065,
          -0.7490649048467005,
          -0.9573833622535074,
          0.3184903662704784,
          0.5232510497782804,
          -0.292920914056626,
          0.5526442907323154,
          0.28927758198705866,
          -0.9595308675629673,
          0.6624074725052688,
          -1.2675470861916667,
          -1.298518317282184,
          1.6505714308200703,
          0.7711743870399246,
          -0.10350465261086673,
          -0.9890595965375653,
          0.09060720967289916,
          -0.9664272965492815,
          1.7520110562695306,
          2.0598160276614736,
          -1.5398792263792436,
          0.14913323679684518,
          0.995048297495277,
          -0.8178015437731536,
          -1.1488188276104512,
          -1.2553879715068992,
          0.702144807401087,
          -0.14721370696443659,
          0.9849700972122788,
          -1.6159928381795001,
          2.8876664099211764,
          1.1792610841498818,
          1.137534866296284,
          0.36529841743489505,
          0.6837628681037843,
          0.3857655623229011,
          -1.4277493996033706,
          1.9387091111049926,
          -0.8799227856643209,
          0.17157935956524548,
          1.2164326922302917,
          0.004829280486984333,
          -0.7305142209733924,
          0.8090950392810067,
          -2.7632429506224883,
          0.9238654843844363,
          0.13909084142958214,
          0.06932779342792991,
          0.10316445888209945,
          -1.4408925516222189,
          -1.5014989504920706,
          1.3164328202880184,
          0.20632089660007252,
          -0.4332798600838577,
          0.5100226609573209,
          -0.5583994791359564,
          0.4825916998568048,
          -0.15873725230421742,
          -2.033833509570888,
          -0.56776873608412,
          -1.3983642700361827,
          -0.17721085755554614,
          -0.4777864854606395,
          -0.7084571357637636,
          0.14725150781339041,
          0.5160571944585837,
          2.391248105092854,
          -0.035925646760449015,
          0.3993352653098139,
          0.5041548045378224,
          -2.4531789724121182
         ],
         "y": [
          0.24555663252945903,
          -0.5638129038214954,
          0.15838017982758465,
          0.025965138727300052,
          1.0261693833091186,
          -1.8117251738858402,
          1.2824990052649607,
          0.9227163869758231,
          -0.32928491407238214,
          0.3366044693090377,
          0.16065191024800432,
          0.8082078977266477,
          -0.37421382646895285,
          0.4443612006818534,
          1.2591791755585575,
          -0.272577764440088,
          0.05397960093059676,
          0.9925302761246275,
          0.8240201250613609,
          0.03421864511183541,
          1.7687225019146364,
          0.9401432164859415,
          1.294385534196133,
          0.6944745568559109,
          0.4364763563018746,
          0.19932268382576923,
          -0.27934197237725056,
          -1.5844482409973324,
          0.8691582357782162,
          0.7968557938544397,
          1.227966360927478,
          0.32626552917603463,
          -0.5268174005804046,
          0.16189388577452204,
          0.47272456823309345,
          0.08452053298458287,
          -0.8350294005227219,
          0.8340070844504154,
          -1.2518433951160093,
          -0.5889093096430914,
          -1.5761297357175614,
          0.7025218259235306,
          0.9816624927802996,
          -1.3176098140720194,
          1.0192498512213706,
          -0.06384003639023407,
          -0.6499138608042271,
          1.779442553151568,
          0.9457660017435001,
          1.307783424473417,
          -0.22117084156221578,
          1.7868932790407142,
          -1.0844140449242934,
          0.35024847218493776,
          0.884244535300552,
          0.6614379919438789,
          -1.3080451104956212,
          -0.19203618050731222,
          1.400879527302598,
          -1.9204936660131982,
          0.0733528470981566,
          -2.7096374996506603,
          1.2516569643880509,
          1.375309163239427,
          0.6338916751026681,
          -0.44015753737571284,
          -0.47999473391612174,
          -0.5470196774727828,
          -0.6448957474033917,
          -1.2312387282637907,
          -0.7882654917165696,
          0.6992660805993933,
          1.343159728014624,
          0.006554386717324803,
          1.1839666350547748,
          0.7852962090064953,
          1.090853039440043,
          -0.9191197192317047,
          -0.584937510658358,
          0.09935280627146068,
          -1.0597550817994716,
          0.6327940167393934,
          -0.26286404024615473,
          1.3291756615688792,
          -1.082743328643993,
          -0.2925693546759645,
          0.5283895907770542,
          1.7397374477560037,
          -0.34785501448501577,
          -1.1370577316276549,
          -1.116757259654754,
          -0.18340610752183722,
          -0.5649610550472014,
          -0.6529937313804469,
          1.1892675399002437,
          -0.036918623731211,
          0.4873170568674592,
          0.20282226504473866,
          -0.09245437072411745,
          -1.719683555373446
         ]
        }
       ],
       "layout": {
        "legend": {
         "bgcolor": "#F5F6F9",
         "font": {
          "color": "#4D5663"
         }
        },
        "paper_bgcolor": "#F5F6F9",
        "plot_bgcolor": "#F5F6F9",
        "template": {
         "data": {
          "bar": [
           {
            "error_x": {
             "color": "#2a3f5f"
            },
            "error_y": {
             "color": "#2a3f5f"
            },
            "marker": {
             "line": {
              "color": "#E5ECF6",
              "width": 0.5
             },
             "pattern": {
              "fillmode": "overlay",
              "size": 10,
              "solidity": 0.2
             }
            },
            "type": "bar"
           }
          ],
          "barpolar": [
           {
            "marker": {
             "line": {
              "color": "#E5ECF6",
              "width": 0.5
             },
             "pattern": {
              "fillmode": "overlay",
              "size": 10,
              "solidity": 0.2
             }
            },
            "type": "barpolar"
           }
          ],
          "carpet": [
           {
            "aaxis": {
             "endlinecolor": "#2a3f5f",
             "gridcolor": "white",
             "linecolor": "white",
             "minorgridcolor": "white",
             "startlinecolor": "#2a3f5f"
            },
            "baxis": {
             "endlinecolor": "#2a3f5f",
             "gridcolor": "white",
             "linecolor": "white",
             "minorgridcolor": "white",
             "startlinecolor": "#2a3f5f"
            },
            "type": "carpet"
           }
          ],
          "choropleth": [
           {
            "colorbar": {
             "outlinewidth": 0,
             "ticks": ""
            },
            "type": "choropleth"
           }
          ],
          "contour": [
           {
            "colorbar": {
             "outlinewidth": 0,
             "ticks": ""
            },
            "colorscale": [
             [
              0,
              "#0d0887"
             ],
             [
              0.1111111111111111,
              "#46039f"
             ],
             [
              0.2222222222222222,
              "#7201a8"
             ],
             [
              0.3333333333333333,
              "#9c179e"
             ],
             [
              0.4444444444444444,
              "#bd3786"
             ],
             [
              0.5555555555555556,
              "#d8576b"
             ],
             [
              0.6666666666666666,
              "#ed7953"
             ],
             [
              0.7777777777777778,
              "#fb9f3a"
             ],
             [
              0.8888888888888888,
              "#fdca26"
             ],
             [
              1,
              "#f0f921"
             ]
            ],
            "type": "contour"
           }
          ],
          "contourcarpet": [
           {
            "colorbar": {
             "outlinewidth": 0,
             "ticks": ""
            },
            "type": "contourcarpet"
           }
          ],
          "heatmap": [
           {
            "colorbar": {
             "outlinewidth": 0,
             "ticks": ""
            },
            "colorscale": [
             [
              0,
              "#0d0887"
             ],
             [
              0.1111111111111111,
              "#46039f"
             ],
             [
              0.2222222222222222,
              "#7201a8"
             ],
             [
              0.3333333333333333,
              "#9c179e"
             ],
             [
              0.4444444444444444,
              "#bd3786"
             ],
             [
              0.5555555555555556,
              "#d8576b"
             ],
             [
              0.6666666666666666,
              "#ed7953"
             ],
             [
              0.7777777777777778,
              "#fb9f3a"
             ],
             [
              0.8888888888888888,
              "#fdca26"
             ],
             [
              1,
              "#f0f921"
             ]
            ],
            "type": "heatmap"
           }
          ],
          "heatmapgl": [
           {
            "colorbar": {
             "outlinewidth": 0,
             "ticks": ""
            },
            "colorscale": [
             [
              0,
              "#0d0887"
             ],
             [
              0.1111111111111111,
              "#46039f"
             ],
             [
              0.2222222222222222,
              "#7201a8"
             ],
             [
              0.3333333333333333,
              "#9c179e"
             ],
             [
              0.4444444444444444,
              "#bd3786"
             ],
             [
              0.5555555555555556,
              "#d8576b"
             ],
             [
              0.6666666666666666,
              "#ed7953"
             ],
             [
              0.7777777777777778,
              "#fb9f3a"
             ],
             [
              0.8888888888888888,
              "#fdca26"
             ],
             [
              1,
              "#f0f921"
             ]
            ],
            "type": "heatmapgl"
           }
          ],
          "histogram": [
           {
            "marker": {
             "pattern": {
              "fillmode": "overlay",
              "size": 10,
              "solidity": 0.2
             }
            },
            "type": "histogram"
           }
          ],
          "histogram2d": [
           {
            "colorbar": {
             "outlinewidth": 0,
             "ticks": ""
            },
            "colorscale": [
             [
              0,
              "#0d0887"
             ],
             [
              0.1111111111111111,
              "#46039f"
             ],
             [
              0.2222222222222222,
              "#7201a8"
             ],
             [
              0.3333333333333333,
              "#9c179e"
             ],
             [
              0.4444444444444444,
              "#bd3786"
             ],
             [
              0.5555555555555556,
              "#d8576b"
             ],
             [
              0.6666666666666666,
              "#ed7953"
             ],
             [
              0.7777777777777778,
              "#fb9f3a"
             ],
             [
              0.8888888888888888,
              "#fdca26"
             ],
             [
              1,
              "#f0f921"
             ]
            ],
            "type": "histogram2d"
           }
          ],
          "histogram2dcontour": [
           {
            "colorbar": {
             "outlinewidth": 0,
             "ticks": ""
            },
            "colorscale": [
             [
              0,
              "#0d0887"
             ],
             [
              0.1111111111111111,
              "#46039f"
             ],
             [
              0.2222222222222222,
              "#7201a8"
             ],
             [
              0.3333333333333333,
              "#9c179e"
             ],
             [
              0.4444444444444444,
              "#bd3786"
             ],
             [
              0.5555555555555556,
              "#d8576b"
             ],
             [
              0.6666666666666666,
              "#ed7953"
             ],
             [
              0.7777777777777778,
              "#fb9f3a"
             ],
             [
              0.8888888888888888,
              "#fdca26"
             ],
             [
              1,
              "#f0f921"
             ]
            ],
            "type": "histogram2dcontour"
           }
          ],
          "mesh3d": [
           {
            "colorbar": {
             "outlinewidth": 0,
             "ticks": ""
            },
            "type": "mesh3d"
           }
          ],
          "parcoords": [
           {
            "line": {
             "colorbar": {
              "outlinewidth": 0,
              "ticks": ""
             }
            },
            "type": "parcoords"
           }
          ],
          "pie": [
           {
            "automargin": true,
            "type": "pie"
           }
          ],
          "scatter": [
           {
            "fillpattern": {
             "fillmode": "overlay",
             "size": 10,
             "solidity": 0.2
            },
            "type": "scatter"
           }
          ],
          "scatter3d": [
           {
            "line": {
             "colorbar": {
              "outlinewidth": 0,
              "ticks": ""
             }
            },
            "marker": {
             "colorbar": {
              "outlinewidth": 0,
              "ticks": ""
             }
            },
            "type": "scatter3d"
           }
          ],
          "scattercarpet": [
           {
            "marker": {
             "colorbar": {
              "outlinewidth": 0,
              "ticks": ""
             }
            },
            "type": "scattercarpet"
           }
          ],
          "scattergeo": [
           {
            "marker": {
             "colorbar": {
              "outlinewidth": 0,
              "ticks": ""
             }
            },
            "type": "scattergeo"
           }
          ],
          "scattergl": [
           {
            "marker": {
             "colorbar": {
              "outlinewidth": 0,
              "ticks": ""
             }
            },
            "type": "scattergl"
           }
          ],
          "scattermapbox": [
           {
            "marker": {
             "colorbar": {
              "outlinewidth": 0,
              "ticks": ""
             }
            },
            "type": "scattermapbox"
           }
          ],
          "scatterpolar": [
           {
            "marker": {
             "colorbar": {
              "outlinewidth": 0,
              "ticks": ""
             }
            },
            "type": "scatterpolar"
           }
          ],
          "scatterpolargl": [
           {
            "marker": {
             "colorbar": {
              "outlinewidth": 0,
              "ticks": ""
             }
            },
            "type": "scatterpolargl"
           }
          ],
          "scatterternary": [
           {
            "marker": {
             "colorbar": {
              "outlinewidth": 0,
              "ticks": ""
             }
            },
            "type": "scatterternary"
           }
          ],
          "surface": [
           {
            "colorbar": {
             "outlinewidth": 0,
             "ticks": ""
            },
            "colorscale": [
             [
              0,
              "#0d0887"
             ],
             [
              0.1111111111111111,
              "#46039f"
             ],
             [
              0.2222222222222222,
              "#7201a8"
             ],
             [
              0.3333333333333333,
              "#9c179e"
             ],
             [
              0.4444444444444444,
              "#bd3786"
             ],
             [
              0.5555555555555556,
              "#d8576b"
             ],
             [
              0.6666666666666666,
              "#ed7953"
             ],
             [
              0.7777777777777778,
              "#fb9f3a"
             ],
             [
              0.8888888888888888,
              "#fdca26"
             ],
             [
              1,
              "#f0f921"
             ]
            ],
            "type": "surface"
           }
          ],
          "table": [
           {
            "cells": {
             "fill": {
              "color": "#EBF0F8"
             },
             "line": {
              "color": "white"
             }
            },
            "header": {
             "fill": {
              "color": "#C8D4E3"
             },
             "line": {
              "color": "white"
             }
            },
            "type": "table"
           }
          ]
         },
         "layout": {
          "annotationdefaults": {
           "arrowcolor": "#2a3f5f",
           "arrowhead": 0,
           "arrowwidth": 1
          },
          "autotypenumbers": "strict",
          "coloraxis": {
           "colorbar": {
            "outlinewidth": 0,
            "ticks": ""
           }
          },
          "colorscale": {
           "diverging": [
            [
             0,
             "#8e0152"
            ],
            [
             0.1,
             "#c51b7d"
            ],
            [
             0.2,
             "#de77ae"
            ],
            [
             0.3,
             "#f1b6da"
            ],
            [
             0.4,
             "#fde0ef"
            ],
            [
             0.5,
             "#f7f7f7"
            ],
            [
             0.6,
             "#e6f5d0"
            ],
            [
             0.7,
             "#b8e186"
            ],
            [
             0.8,
             "#7fbc41"
            ],
            [
             0.9,
             "#4d9221"
            ],
            [
             1,
             "#276419"
            ]
           ],
           "sequential": [
            [
             0,
             "#0d0887"
            ],
            [
             0.1111111111111111,
             "#46039f"
            ],
            [
             0.2222222222222222,
             "#7201a8"
            ],
            [
             0.3333333333333333,
             "#9c179e"
            ],
            [
             0.4444444444444444,
             "#bd3786"
            ],
            [
             0.5555555555555556,
             "#d8576b"
            ],
            [
             0.6666666666666666,
             "#ed7953"
            ],
            [
             0.7777777777777778,
             "#fb9f3a"
            ],
            [
             0.8888888888888888,
             "#fdca26"
            ],
            [
             1,
             "#f0f921"
            ]
           ],
           "sequentialminus": [
            [
             0,
             "#0d0887"
            ],
            [
             0.1111111111111111,
             "#46039f"
            ],
            [
             0.2222222222222222,
             "#7201a8"
            ],
            [
             0.3333333333333333,
             "#9c179e"
            ],
            [
             0.4444444444444444,
             "#bd3786"
            ],
            [
             0.5555555555555556,
             "#d8576b"
            ],
            [
             0.6666666666666666,
             "#ed7953"
            ],
            [
             0.7777777777777778,
             "#fb9f3a"
            ],
            [
             0.8888888888888888,
             "#fdca26"
            ],
            [
             1,
             "#f0f921"
            ]
           ]
          },
          "colorway": [
           "#636efa",
           "#EF553B",
           "#00cc96",
           "#ab63fa",
           "#FFA15A",
           "#19d3f3",
           "#FF6692",
           "#B6E880",
           "#FF97FF",
           "#FECB52"
          ],
          "font": {
           "color": "#2a3f5f"
          },
          "geo": {
           "bgcolor": "white",
           "lakecolor": "white",
           "landcolor": "#E5ECF6",
           "showlakes": true,
           "showland": true,
           "subunitcolor": "white"
          },
          "hoverlabel": {
           "align": "left"
          },
          "hovermode": "closest",
          "mapbox": {
           "style": "light"
          },
          "paper_bgcolor": "white",
          "plot_bgcolor": "#E5ECF6",
          "polar": {
           "angularaxis": {
            "gridcolor": "white",
            "linecolor": "white",
            "ticks": ""
           },
           "bgcolor": "#E5ECF6",
           "radialaxis": {
            "gridcolor": "white",
            "linecolor": "white",
            "ticks": ""
           }
          },
          "scene": {
           "xaxis": {
            "backgroundcolor": "#E5ECF6",
            "gridcolor": "white",
            "gridwidth": 2,
            "linecolor": "white",
            "showbackground": true,
            "ticks": "",
            "zerolinecolor": "white"
           },
           "yaxis": {
            "backgroundcolor": "#E5ECF6",
            "gridcolor": "white",
            "gridwidth": 2,
            "linecolor": "white",
            "showbackground": true,
            "ticks": "",
            "zerolinecolor": "white"
           },
           "zaxis": {
            "backgroundcolor": "#E5ECF6",
            "gridcolor": "white",
            "gridwidth": 2,
            "linecolor": "white",
            "showbackground": true,
            "ticks": "",
            "zerolinecolor": "white"
           }
          },
          "shapedefaults": {
           "line": {
            "color": "#2a3f5f"
           }
          },
          "ternary": {
           "aaxis": {
            "gridcolor": "white",
            "linecolor": "white",
            "ticks": ""
           },
           "baxis": {
            "gridcolor": "white",
            "linecolor": "white",
            "ticks": ""
           },
           "bgcolor": "#E5ECF6",
           "caxis": {
            "gridcolor": "white",
            "linecolor": "white",
            "ticks": ""
           }
          },
          "title": {
           "x": 0.05
          },
          "xaxis": {
           "automargin": true,
           "gridcolor": "white",
           "linecolor": "white",
           "ticks": "",
           "title": {
            "standoff": 15
           },
           "zerolinecolor": "white",
           "zerolinewidth": 2
          },
          "yaxis": {
           "automargin": true,
           "gridcolor": "white",
           "linecolor": "white",
           "ticks": "",
           "title": {
            "standoff": 15
           },
           "zerolinecolor": "white",
           "zerolinewidth": 2
          }
         }
        },
        "title": {
         "font": {
          "color": "#4D5663"
         }
        },
        "xaxis": {
         "gridcolor": "#E1E5ED",
         "showgrid": true,
         "tickfont": {
          "color": "#4D5663"
         },
         "title": {
          "font": {
           "color": "#4D5663"
          },
          "text": ""
         },
         "zerolinecolor": "#E1E5ED"
        },
        "yaxis": {
         "gridcolor": "#E1E5ED",
         "showgrid": true,
         "tickfont": {
          "color": "#4D5663"
         },
         "title": {
          "font": {
           "color": "#4D5663"
          },
          "text": ""
         },
         "zerolinecolor": "#E1E5ED"
        }
       }
      },
      "text/html": [
       "<div>                            <div id=\"067b4953-aea7-4e51-a390-8d22ec491fcd\" class=\"plotly-graph-div\" style=\"height:525px; width:100%;\"></div>            <script type=\"text/javascript\">                require([\"plotly\"], function(Plotly) {                    window.PLOTLYENV=window.PLOTLYENV || {};\n",
       "                    window.PLOTLYENV.BASE_URL='https://plot.ly';                                    if (document.getElementById(\"067b4953-aea7-4e51-a390-8d22ec491fcd\")) {                    Plotly.newPlot(                        \"067b4953-aea7-4e51-a390-8d22ec491fcd\",                        [{\"line\":{\"color\":\"rgba(255, 153, 51, 1.0)\",\"dash\":\"solid\",\"shape\":\"linear\",\"width\":1.3},\"marker\":{\"size\":10,\"symbol\":\"circle\"},\"mode\":\"markers\",\"name\":\"B\",\"text\":\"\",\"x\":[1.6185342153503897,1.1848362441609444,1.0676265789711767,0.6289578176999444,-0.0731723746557524,-0.10349025747306093,-0.13828150425216726,0.8810902574734345,-0.5542620086053726,1.367655392604224,0.42159233908657434,-1.6600131400907159,-2.321880943758504,-0.14525715490075852,-1.4150329423246357,1.1902193781513097,0.032605182130966644,-1.1068654931550255,-0.4881710870419417,-1.0064654004665394,-1.4861349648044178,0.42126197939457344,0.2033513437481144,0.6780192171590568,2.2695601885039856,-1.0530794893148434,-0.7599582936020849,0.07479649981688027,-0.5004585006618902,-0.7069045792139065,-0.7490649048467005,-0.9573833622535074,0.3184903662704784,0.5232510497782804,-0.292920914056626,0.5526442907323154,0.28927758198705866,-0.9595308675629673,0.6624074725052688,-1.2675470861916667,-1.298518317282184,1.6505714308200703,0.7711743870399246,-0.10350465261086673,-0.9890595965375653,0.09060720967289916,-0.9664272965492815,1.7520110562695306,2.0598160276614736,-1.5398792263792436,0.14913323679684518,0.995048297495277,-0.8178015437731536,-1.1488188276104512,-1.2553879715068992,0.702144807401087,-0.14721370696443659,0.9849700972122788,-1.6159928381795001,2.8876664099211764,1.1792610841498818,1.137534866296284,0.36529841743489505,0.6837628681037843,0.3857655623229011,-1.4277493996033706,1.9387091111049926,-0.8799227856643209,0.17157935956524548,1.2164326922302917,0.004829280486984333,-0.7305142209733924,0.8090950392810067,-2.7632429506224883,0.9238654843844363,0.13909084142958214,0.06932779342792991,0.10316445888209945,-1.4408925516222189,-1.5014989504920706,1.3164328202880184,0.20632089660007252,-0.4332798600838577,0.5100226609573209,-0.5583994791359564,0.4825916998568048,-0.15873725230421742,-2.033833509570888,-0.56776873608412,-1.3983642700361827,-0.17721085755554614,-0.4777864854606395,-0.7084571357637636,0.14725150781339041,0.5160571944585837,2.391248105092854,-0.035925646760449015,0.3993352653098139,0.5041548045378224,-2.4531789724121182],\"y\":[0.24555663252945903,-0.5638129038214954,0.15838017982758465,0.025965138727300052,1.0261693833091186,-1.8117251738858402,1.2824990052649607,0.9227163869758231,-0.32928491407238214,0.3366044693090377,0.16065191024800432,0.8082078977266477,-0.37421382646895285,0.4443612006818534,1.2591791755585575,-0.272577764440088,0.05397960093059676,0.9925302761246275,0.8240201250613609,0.03421864511183541,1.7687225019146364,0.9401432164859415,1.294385534196133,0.6944745568559109,0.4364763563018746,0.19932268382576923,-0.27934197237725056,-1.5844482409973324,0.8691582357782162,0.7968557938544397,1.227966360927478,0.32626552917603463,-0.5268174005804046,0.16189388577452204,0.47272456823309345,0.08452053298458287,-0.8350294005227219,0.8340070844504154,-1.2518433951160093,-0.5889093096430914,-1.5761297357175614,0.7025218259235306,0.9816624927802996,-1.3176098140720194,1.0192498512213706,-0.06384003639023407,-0.6499138608042271,1.779442553151568,0.9457660017435001,1.307783424473417,-0.22117084156221578,1.7868932790407142,-1.0844140449242934,0.35024847218493776,0.884244535300552,0.6614379919438789,-1.3080451104956212,-0.19203618050731222,1.400879527302598,-1.9204936660131982,0.0733528470981566,-2.7096374996506603,1.2516569643880509,1.375309163239427,0.6338916751026681,-0.44015753737571284,-0.47999473391612174,-0.5470196774727828,-0.6448957474033917,-1.2312387282637907,-0.7882654917165696,0.6992660805993933,1.343159728014624,0.006554386717324803,1.1839666350547748,0.7852962090064953,1.090853039440043,-0.9191197192317047,-0.584937510658358,0.09935280627146068,-1.0597550817994716,0.6327940167393934,-0.26286404024615473,1.3291756615688792,-1.082743328643993,-0.2925693546759645,0.5283895907770542,1.7397374477560037,-0.34785501448501577,-1.1370577316276549,-1.116757259654754,-0.18340610752183722,-0.5649610550472014,-0.6529937313804469,1.1892675399002437,-0.036918623731211,0.4873170568674592,0.20282226504473866,-0.09245437072411745,-1.719683555373446],\"type\":\"scatter\"}],                        {\"legend\":{\"bgcolor\":\"#F5F6F9\",\"font\":{\"color\":\"#4D5663\"}},\"paper_bgcolor\":\"#F5F6F9\",\"plot_bgcolor\":\"#F5F6F9\",\"template\":{\"data\":{\"barpolar\":[{\"marker\":{\"line\":{\"color\":\"#E5ECF6\",\"width\":0.5},\"pattern\":{\"fillmode\":\"overlay\",\"size\":10,\"solidity\":0.2}},\"type\":\"barpolar\"}],\"bar\":[{\"error_x\":{\"color\":\"#2a3f5f\"},\"error_y\":{\"color\":\"#2a3f5f\"},\"marker\":{\"line\":{\"color\":\"#E5ECF6\",\"width\":0.5},\"pattern\":{\"fillmode\":\"overlay\",\"size\":10,\"solidity\":0.2}},\"type\":\"bar\"}],\"carpet\":[{\"aaxis\":{\"endlinecolor\":\"#2a3f5f\",\"gridcolor\":\"white\",\"linecolor\":\"white\",\"minorgridcolor\":\"white\",\"startlinecolor\":\"#2a3f5f\"},\"baxis\":{\"endlinecolor\":\"#2a3f5f\",\"gridcolor\":\"white\",\"linecolor\":\"white\",\"minorgridcolor\":\"white\",\"startlinecolor\":\"#2a3f5f\"},\"type\":\"carpet\"}],\"choropleth\":[{\"colorbar\":{\"outlinewidth\":0,\"ticks\":\"\"},\"type\":\"choropleth\"}],\"contourcarpet\":[{\"colorbar\":{\"outlinewidth\":0,\"ticks\":\"\"},\"type\":\"contourcarpet\"}],\"contour\":[{\"colorbar\":{\"outlinewidth\":0,\"ticks\":\"\"},\"colorscale\":[[0.0,\"#0d0887\"],[0.1111111111111111,\"#46039f\"],[0.2222222222222222,\"#7201a8\"],[0.3333333333333333,\"#9c179e\"],[0.4444444444444444,\"#bd3786\"],[0.5555555555555556,\"#d8576b\"],[0.6666666666666666,\"#ed7953\"],[0.7777777777777778,\"#fb9f3a\"],[0.8888888888888888,\"#fdca26\"],[1.0,\"#f0f921\"]],\"type\":\"contour\"}],\"heatmapgl\":[{\"colorbar\":{\"outlinewidth\":0,\"ticks\":\"\"},\"colorscale\":[[0.0,\"#0d0887\"],[0.1111111111111111,\"#46039f\"],[0.2222222222222222,\"#7201a8\"],[0.3333333333333333,\"#9c179e\"],[0.4444444444444444,\"#bd3786\"],[0.5555555555555556,\"#d8576b\"],[0.6666666666666666,\"#ed7953\"],[0.7777777777777778,\"#fb9f3a\"],[0.8888888888888888,\"#fdca26\"],[1.0,\"#f0f921\"]],\"type\":\"heatmapgl\"}],\"heatmap\":[{\"colorbar\":{\"outlinewidth\":0,\"ticks\":\"\"},\"colorscale\":[[0.0,\"#0d0887\"],[0.1111111111111111,\"#46039f\"],[0.2222222222222222,\"#7201a8\"],[0.3333333333333333,\"#9c179e\"],[0.4444444444444444,\"#bd3786\"],[0.5555555555555556,\"#d8576b\"],[0.6666666666666666,\"#ed7953\"],[0.7777777777777778,\"#fb9f3a\"],[0.8888888888888888,\"#fdca26\"],[1.0,\"#f0f921\"]],\"type\":\"heatmap\"}],\"histogram2dcontour\":[{\"colorbar\":{\"outlinewidth\":0,\"ticks\":\"\"},\"colorscale\":[[0.0,\"#0d0887\"],[0.1111111111111111,\"#46039f\"],[0.2222222222222222,\"#7201a8\"],[0.3333333333333333,\"#9c179e\"],[0.4444444444444444,\"#bd3786\"],[0.5555555555555556,\"#d8576b\"],[0.6666666666666666,\"#ed7953\"],[0.7777777777777778,\"#fb9f3a\"],[0.8888888888888888,\"#fdca26\"],[1.0,\"#f0f921\"]],\"type\":\"histogram2dcontour\"}],\"histogram2d\":[{\"colorbar\":{\"outlinewidth\":0,\"ticks\":\"\"},\"colorscale\":[[0.0,\"#0d0887\"],[0.1111111111111111,\"#46039f\"],[0.2222222222222222,\"#7201a8\"],[0.3333333333333333,\"#9c179e\"],[0.4444444444444444,\"#bd3786\"],[0.5555555555555556,\"#d8576b\"],[0.6666666666666666,\"#ed7953\"],[0.7777777777777778,\"#fb9f3a\"],[0.8888888888888888,\"#fdca26\"],[1.0,\"#f0f921\"]],\"type\":\"histogram2d\"}],\"histogram\":[{\"marker\":{\"pattern\":{\"fillmode\":\"overlay\",\"size\":10,\"solidity\":0.2}},\"type\":\"histogram\"}],\"mesh3d\":[{\"colorbar\":{\"outlinewidth\":0,\"ticks\":\"\"},\"type\":\"mesh3d\"}],\"parcoords\":[{\"line\":{\"colorbar\":{\"outlinewidth\":0,\"ticks\":\"\"}},\"type\":\"parcoords\"}],\"pie\":[{\"automargin\":true,\"type\":\"pie\"}],\"scatter3d\":[{\"line\":{\"colorbar\":{\"outlinewidth\":0,\"ticks\":\"\"}},\"marker\":{\"colorbar\":{\"outlinewidth\":0,\"ticks\":\"\"}},\"type\":\"scatter3d\"}],\"scattercarpet\":[{\"marker\":{\"colorbar\":{\"outlinewidth\":0,\"ticks\":\"\"}},\"type\":\"scattercarpet\"}],\"scattergeo\":[{\"marker\":{\"colorbar\":{\"outlinewidth\":0,\"ticks\":\"\"}},\"type\":\"scattergeo\"}],\"scattergl\":[{\"marker\":{\"colorbar\":{\"outlinewidth\":0,\"ticks\":\"\"}},\"type\":\"scattergl\"}],\"scattermapbox\":[{\"marker\":{\"colorbar\":{\"outlinewidth\":0,\"ticks\":\"\"}},\"type\":\"scattermapbox\"}],\"scatterpolargl\":[{\"marker\":{\"colorbar\":{\"outlinewidth\":0,\"ticks\":\"\"}},\"type\":\"scatterpolargl\"}],\"scatterpolar\":[{\"marker\":{\"colorbar\":{\"outlinewidth\":0,\"ticks\":\"\"}},\"type\":\"scatterpolar\"}],\"scatter\":[{\"fillpattern\":{\"fillmode\":\"overlay\",\"size\":10,\"solidity\":0.2},\"type\":\"scatter\"}],\"scatterternary\":[{\"marker\":{\"colorbar\":{\"outlinewidth\":0,\"ticks\":\"\"}},\"type\":\"scatterternary\"}],\"surface\":[{\"colorbar\":{\"outlinewidth\":0,\"ticks\":\"\"},\"colorscale\":[[0.0,\"#0d0887\"],[0.1111111111111111,\"#46039f\"],[0.2222222222222222,\"#7201a8\"],[0.3333333333333333,\"#9c179e\"],[0.4444444444444444,\"#bd3786\"],[0.5555555555555556,\"#d8576b\"],[0.6666666666666666,\"#ed7953\"],[0.7777777777777778,\"#fb9f3a\"],[0.8888888888888888,\"#fdca26\"],[1.0,\"#f0f921\"]],\"type\":\"surface\"}],\"table\":[{\"cells\":{\"fill\":{\"color\":\"#EBF0F8\"},\"line\":{\"color\":\"white\"}},\"header\":{\"fill\":{\"color\":\"#C8D4E3\"},\"line\":{\"color\":\"white\"}},\"type\":\"table\"}]},\"layout\":{\"annotationdefaults\":{\"arrowcolor\":\"#2a3f5f\",\"arrowhead\":0,\"arrowwidth\":1},\"autotypenumbers\":\"strict\",\"coloraxis\":{\"colorbar\":{\"outlinewidth\":0,\"ticks\":\"\"}},\"colorscale\":{\"diverging\":[[0,\"#8e0152\"],[0.1,\"#c51b7d\"],[0.2,\"#de77ae\"],[0.3,\"#f1b6da\"],[0.4,\"#fde0ef\"],[0.5,\"#f7f7f7\"],[0.6,\"#e6f5d0\"],[0.7,\"#b8e186\"],[0.8,\"#7fbc41\"],[0.9,\"#4d9221\"],[1,\"#276419\"]],\"sequential\":[[0.0,\"#0d0887\"],[0.1111111111111111,\"#46039f\"],[0.2222222222222222,\"#7201a8\"],[0.3333333333333333,\"#9c179e\"],[0.4444444444444444,\"#bd3786\"],[0.5555555555555556,\"#d8576b\"],[0.6666666666666666,\"#ed7953\"],[0.7777777777777778,\"#fb9f3a\"],[0.8888888888888888,\"#fdca26\"],[1.0,\"#f0f921\"]],\"sequentialminus\":[[0.0,\"#0d0887\"],[0.1111111111111111,\"#46039f\"],[0.2222222222222222,\"#7201a8\"],[0.3333333333333333,\"#9c179e\"],[0.4444444444444444,\"#bd3786\"],[0.5555555555555556,\"#d8576b\"],[0.6666666666666666,\"#ed7953\"],[0.7777777777777778,\"#fb9f3a\"],[0.8888888888888888,\"#fdca26\"],[1.0,\"#f0f921\"]]},\"colorway\":[\"#636efa\",\"#EF553B\",\"#00cc96\",\"#ab63fa\",\"#FFA15A\",\"#19d3f3\",\"#FF6692\",\"#B6E880\",\"#FF97FF\",\"#FECB52\"],\"font\":{\"color\":\"#2a3f5f\"},\"geo\":{\"bgcolor\":\"white\",\"lakecolor\":\"white\",\"landcolor\":\"#E5ECF6\",\"showlakes\":true,\"showland\":true,\"subunitcolor\":\"white\"},\"hoverlabel\":{\"align\":\"left\"},\"hovermode\":\"closest\",\"mapbox\":{\"style\":\"light\"},\"paper_bgcolor\":\"white\",\"plot_bgcolor\":\"#E5ECF6\",\"polar\":{\"angularaxis\":{\"gridcolor\":\"white\",\"linecolor\":\"white\",\"ticks\":\"\"},\"bgcolor\":\"#E5ECF6\",\"radialaxis\":{\"gridcolor\":\"white\",\"linecolor\":\"white\",\"ticks\":\"\"}},\"scene\":{\"xaxis\":{\"backgroundcolor\":\"#E5ECF6\",\"gridcolor\":\"white\",\"gridwidth\":2,\"linecolor\":\"white\",\"showbackground\":true,\"ticks\":\"\",\"zerolinecolor\":\"white\"},\"yaxis\":{\"backgroundcolor\":\"#E5ECF6\",\"gridcolor\":\"white\",\"gridwidth\":2,\"linecolor\":\"white\",\"showbackground\":true,\"ticks\":\"\",\"zerolinecolor\":\"white\"},\"zaxis\":{\"backgroundcolor\":\"#E5ECF6\",\"gridcolor\":\"white\",\"gridwidth\":2,\"linecolor\":\"white\",\"showbackground\":true,\"ticks\":\"\",\"zerolinecolor\":\"white\"}},\"shapedefaults\":{\"line\":{\"color\":\"#2a3f5f\"}},\"ternary\":{\"aaxis\":{\"gridcolor\":\"white\",\"linecolor\":\"white\",\"ticks\":\"\"},\"baxis\":{\"gridcolor\":\"white\",\"linecolor\":\"white\",\"ticks\":\"\"},\"bgcolor\":\"#E5ECF6\",\"caxis\":{\"gridcolor\":\"white\",\"linecolor\":\"white\",\"ticks\":\"\"}},\"title\":{\"x\":0.05},\"xaxis\":{\"automargin\":true,\"gridcolor\":\"white\",\"linecolor\":\"white\",\"ticks\":\"\",\"title\":{\"standoff\":15},\"zerolinecolor\":\"white\",\"zerolinewidth\":2},\"yaxis\":{\"automargin\":true,\"gridcolor\":\"white\",\"linecolor\":\"white\",\"ticks\":\"\",\"title\":{\"standoff\":15},\"zerolinecolor\":\"white\",\"zerolinewidth\":2}}},\"title\":{\"font\":{\"color\":\"#4D5663\"}},\"xaxis\":{\"gridcolor\":\"#E1E5ED\",\"showgrid\":true,\"tickfont\":{\"color\":\"#4D5663\"},\"title\":{\"font\":{\"color\":\"#4D5663\"},\"text\":\"\"},\"zerolinecolor\":\"#E1E5ED\"},\"yaxis\":{\"gridcolor\":\"#E1E5ED\",\"showgrid\":true,\"tickfont\":{\"color\":\"#4D5663\"},\"title\":{\"font\":{\"color\":\"#4D5663\"},\"text\":\"\"},\"zerolinecolor\":\"#E1E5ED\"}},                        {\"showLink\": true, \"linkText\": \"Export to plot.ly\", \"plotlyServerURL\": \"https://plot.ly\", \"responsive\": true}                    ).then(function(){\n",
       "                            \n",
       "var gd = document.getElementById('067b4953-aea7-4e51-a390-8d22ec491fcd');\n",
       "var x = new MutationObserver(function (mutations, observer) {{\n",
       "        var display = window.getComputedStyle(gd).display;\n",
       "        if (!display || display === 'none') {{\n",
       "            console.log([gd, 'removed!']);\n",
       "            Plotly.purge(gd);\n",
       "            observer.disconnect();\n",
       "        }}\n",
       "}});\n",
       "\n",
       "// Listen for the removal of the full notebook cells\n",
       "var notebookContainer = gd.closest('#notebook-container');\n",
       "if (notebookContainer) {{\n",
       "    x.observe(notebookContainer, {childList: true});\n",
       "}}\n",
       "\n",
       "// Listen for the clearing of the current output cell\n",
       "var outputEl = gd.closest('.output');\n",
       "if (outputEl) {{\n",
       "    x.observe(outputEl, {childList: true});\n",
       "}}\n",
       "\n",
       "                        })                };                });            </script>        </div>"
      ]
     },
     "metadata": {},
     "output_type": "display_data"
    }
   ],
   "source": [
    "df.iplot(kind='scatter',x='A',y='B',mode='markers',size=10)"
   ]
  },
  {
   "cell_type": "code",
   "execution_count": 62,
   "id": "13f21655",
   "metadata": {},
   "outputs": [
    {
     "data": {
      "application/vnd.plotly.v1+json": {
       "config": {
        "linkText": "Export to plot.ly",
        "plotlyServerURL": "https://plot.ly",
        "showLink": true
       },
       "data": [
        {
         "marker": {
          "color": "rgba(255, 153, 51, 0.6)",
          "line": {
           "color": "rgba(255, 153, 51, 1.0)",
           "width": 1
          }
         },
         "name": "Values",
         "orientation": "v",
         "text": "",
         "type": "bar",
         "x": [
          "A",
          "B",
          "C"
         ],
         "y": [
          32,
          43,
          50
         ]
        }
       ],
       "layout": {
        "legend": {
         "bgcolor": "#F5F6F9",
         "font": {
          "color": "#4D5663"
         }
        },
        "paper_bgcolor": "#F5F6F9",
        "plot_bgcolor": "#F5F6F9",
        "template": {
         "data": {
          "bar": [
           {
            "error_x": {
             "color": "#2a3f5f"
            },
            "error_y": {
             "color": "#2a3f5f"
            },
            "marker": {
             "line": {
              "color": "#E5ECF6",
              "width": 0.5
             },
             "pattern": {
              "fillmode": "overlay",
              "size": 10,
              "solidity": 0.2
             }
            },
            "type": "bar"
           }
          ],
          "barpolar": [
           {
            "marker": {
             "line": {
              "color": "#E5ECF6",
              "width": 0.5
             },
             "pattern": {
              "fillmode": "overlay",
              "size": 10,
              "solidity": 0.2
             }
            },
            "type": "barpolar"
           }
          ],
          "carpet": [
           {
            "aaxis": {
             "endlinecolor": "#2a3f5f",
             "gridcolor": "white",
             "linecolor": "white",
             "minorgridcolor": "white",
             "startlinecolor": "#2a3f5f"
            },
            "baxis": {
             "endlinecolor": "#2a3f5f",
             "gridcolor": "white",
             "linecolor": "white",
             "minorgridcolor": "white",
             "startlinecolor": "#2a3f5f"
            },
            "type": "carpet"
           }
          ],
          "choropleth": [
           {
            "colorbar": {
             "outlinewidth": 0,
             "ticks": ""
            },
            "type": "choropleth"
           }
          ],
          "contour": [
           {
            "colorbar": {
             "outlinewidth": 0,
             "ticks": ""
            },
            "colorscale": [
             [
              0,
              "#0d0887"
             ],
             [
              0.1111111111111111,
              "#46039f"
             ],
             [
              0.2222222222222222,
              "#7201a8"
             ],
             [
              0.3333333333333333,
              "#9c179e"
             ],
             [
              0.4444444444444444,
              "#bd3786"
             ],
             [
              0.5555555555555556,
              "#d8576b"
             ],
             [
              0.6666666666666666,
              "#ed7953"
             ],
             [
              0.7777777777777778,
              "#fb9f3a"
             ],
             [
              0.8888888888888888,
              "#fdca26"
             ],
             [
              1,
              "#f0f921"
             ]
            ],
            "type": "contour"
           }
          ],
          "contourcarpet": [
           {
            "colorbar": {
             "outlinewidth": 0,
             "ticks": ""
            },
            "type": "contourcarpet"
           }
          ],
          "heatmap": [
           {
            "colorbar": {
             "outlinewidth": 0,
             "ticks": ""
            },
            "colorscale": [
             [
              0,
              "#0d0887"
             ],
             [
              0.1111111111111111,
              "#46039f"
             ],
             [
              0.2222222222222222,
              "#7201a8"
             ],
             [
              0.3333333333333333,
              "#9c179e"
             ],
             [
              0.4444444444444444,
              "#bd3786"
             ],
             [
              0.5555555555555556,
              "#d8576b"
             ],
             [
              0.6666666666666666,
              "#ed7953"
             ],
             [
              0.7777777777777778,
              "#fb9f3a"
             ],
             [
              0.8888888888888888,
              "#fdca26"
             ],
             [
              1,
              "#f0f921"
             ]
            ],
            "type": "heatmap"
           }
          ],
          "heatmapgl": [
           {
            "colorbar": {
             "outlinewidth": 0,
             "ticks": ""
            },
            "colorscale": [
             [
              0,
              "#0d0887"
             ],
             [
              0.1111111111111111,
              "#46039f"
             ],
             [
              0.2222222222222222,
              "#7201a8"
             ],
             [
              0.3333333333333333,
              "#9c179e"
             ],
             [
              0.4444444444444444,
              "#bd3786"
             ],
             [
              0.5555555555555556,
              "#d8576b"
             ],
             [
              0.6666666666666666,
              "#ed7953"
             ],
             [
              0.7777777777777778,
              "#fb9f3a"
             ],
             [
              0.8888888888888888,
              "#fdca26"
             ],
             [
              1,
              "#f0f921"
             ]
            ],
            "type": "heatmapgl"
           }
          ],
          "histogram": [
           {
            "marker": {
             "pattern": {
              "fillmode": "overlay",
              "size": 10,
              "solidity": 0.2
             }
            },
            "type": "histogram"
           }
          ],
          "histogram2d": [
           {
            "colorbar": {
             "outlinewidth": 0,
             "ticks": ""
            },
            "colorscale": [
             [
              0,
              "#0d0887"
             ],
             [
              0.1111111111111111,
              "#46039f"
             ],
             [
              0.2222222222222222,
              "#7201a8"
             ],
             [
              0.3333333333333333,
              "#9c179e"
             ],
             [
              0.4444444444444444,
              "#bd3786"
             ],
             [
              0.5555555555555556,
              "#d8576b"
             ],
             [
              0.6666666666666666,
              "#ed7953"
             ],
             [
              0.7777777777777778,
              "#fb9f3a"
             ],
             [
              0.8888888888888888,
              "#fdca26"
             ],
             [
              1,
              "#f0f921"
             ]
            ],
            "type": "histogram2d"
           }
          ],
          "histogram2dcontour": [
           {
            "colorbar": {
             "outlinewidth": 0,
             "ticks": ""
            },
            "colorscale": [
             [
              0,
              "#0d0887"
             ],
             [
              0.1111111111111111,
              "#46039f"
             ],
             [
              0.2222222222222222,
              "#7201a8"
             ],
             [
              0.3333333333333333,
              "#9c179e"
             ],
             [
              0.4444444444444444,
              "#bd3786"
             ],
             [
              0.5555555555555556,
              "#d8576b"
             ],
             [
              0.6666666666666666,
              "#ed7953"
             ],
             [
              0.7777777777777778,
              "#fb9f3a"
             ],
             [
              0.8888888888888888,
              "#fdca26"
             ],
             [
              1,
              "#f0f921"
             ]
            ],
            "type": "histogram2dcontour"
           }
          ],
          "mesh3d": [
           {
            "colorbar": {
             "outlinewidth": 0,
             "ticks": ""
            },
            "type": "mesh3d"
           }
          ],
          "parcoords": [
           {
            "line": {
             "colorbar": {
              "outlinewidth": 0,
              "ticks": ""
             }
            },
            "type": "parcoords"
           }
          ],
          "pie": [
           {
            "automargin": true,
            "type": "pie"
           }
          ],
          "scatter": [
           {
            "fillpattern": {
             "fillmode": "overlay",
             "size": 10,
             "solidity": 0.2
            },
            "type": "scatter"
           }
          ],
          "scatter3d": [
           {
            "line": {
             "colorbar": {
              "outlinewidth": 0,
              "ticks": ""
             }
            },
            "marker": {
             "colorbar": {
              "outlinewidth": 0,
              "ticks": ""
             }
            },
            "type": "scatter3d"
           }
          ],
          "scattercarpet": [
           {
            "marker": {
             "colorbar": {
              "outlinewidth": 0,
              "ticks": ""
             }
            },
            "type": "scattercarpet"
           }
          ],
          "scattergeo": [
           {
            "marker": {
             "colorbar": {
              "outlinewidth": 0,
              "ticks": ""
             }
            },
            "type": "scattergeo"
           }
          ],
          "scattergl": [
           {
            "marker": {
             "colorbar": {
              "outlinewidth": 0,
              "ticks": ""
             }
            },
            "type": "scattergl"
           }
          ],
          "scattermapbox": [
           {
            "marker": {
             "colorbar": {
              "outlinewidth": 0,
              "ticks": ""
             }
            },
            "type": "scattermapbox"
           }
          ],
          "scatterpolar": [
           {
            "marker": {
             "colorbar": {
              "outlinewidth": 0,
              "ticks": ""
             }
            },
            "type": "scatterpolar"
           }
          ],
          "scatterpolargl": [
           {
            "marker": {
             "colorbar": {
              "outlinewidth": 0,
              "ticks": ""
             }
            },
            "type": "scatterpolargl"
           }
          ],
          "scatterternary": [
           {
            "marker": {
             "colorbar": {
              "outlinewidth": 0,
              "ticks": ""
             }
            },
            "type": "scatterternary"
           }
          ],
          "surface": [
           {
            "colorbar": {
             "outlinewidth": 0,
             "ticks": ""
            },
            "colorscale": [
             [
              0,
              "#0d0887"
             ],
             [
              0.1111111111111111,
              "#46039f"
             ],
             [
              0.2222222222222222,
              "#7201a8"
             ],
             [
              0.3333333333333333,
              "#9c179e"
             ],
             [
              0.4444444444444444,
              "#bd3786"
             ],
             [
              0.5555555555555556,
              "#d8576b"
             ],
             [
              0.6666666666666666,
              "#ed7953"
             ],
             [
              0.7777777777777778,
              "#fb9f3a"
             ],
             [
              0.8888888888888888,
              "#fdca26"
             ],
             [
              1,
              "#f0f921"
             ]
            ],
            "type": "surface"
           }
          ],
          "table": [
           {
            "cells": {
             "fill": {
              "color": "#EBF0F8"
             },
             "line": {
              "color": "white"
             }
            },
            "header": {
             "fill": {
              "color": "#C8D4E3"
             },
             "line": {
              "color": "white"
             }
            },
            "type": "table"
           }
          ]
         },
         "layout": {
          "annotationdefaults": {
           "arrowcolor": "#2a3f5f",
           "arrowhead": 0,
           "arrowwidth": 1
          },
          "autotypenumbers": "strict",
          "coloraxis": {
           "colorbar": {
            "outlinewidth": 0,
            "ticks": ""
           }
          },
          "colorscale": {
           "diverging": [
            [
             0,
             "#8e0152"
            ],
            [
             0.1,
             "#c51b7d"
            ],
            [
             0.2,
             "#de77ae"
            ],
            [
             0.3,
             "#f1b6da"
            ],
            [
             0.4,
             "#fde0ef"
            ],
            [
             0.5,
             "#f7f7f7"
            ],
            [
             0.6,
             "#e6f5d0"
            ],
            [
             0.7,
             "#b8e186"
            ],
            [
             0.8,
             "#7fbc41"
            ],
            [
             0.9,
             "#4d9221"
            ],
            [
             1,
             "#276419"
            ]
           ],
           "sequential": [
            [
             0,
             "#0d0887"
            ],
            [
             0.1111111111111111,
             "#46039f"
            ],
            [
             0.2222222222222222,
             "#7201a8"
            ],
            [
             0.3333333333333333,
             "#9c179e"
            ],
            [
             0.4444444444444444,
             "#bd3786"
            ],
            [
             0.5555555555555556,
             "#d8576b"
            ],
            [
             0.6666666666666666,
             "#ed7953"
            ],
            [
             0.7777777777777778,
             "#fb9f3a"
            ],
            [
             0.8888888888888888,
             "#fdca26"
            ],
            [
             1,
             "#f0f921"
            ]
           ],
           "sequentialminus": [
            [
             0,
             "#0d0887"
            ],
            [
             0.1111111111111111,
             "#46039f"
            ],
            [
             0.2222222222222222,
             "#7201a8"
            ],
            [
             0.3333333333333333,
             "#9c179e"
            ],
            [
             0.4444444444444444,
             "#bd3786"
            ],
            [
             0.5555555555555556,
             "#d8576b"
            ],
            [
             0.6666666666666666,
             "#ed7953"
            ],
            [
             0.7777777777777778,
             "#fb9f3a"
            ],
            [
             0.8888888888888888,
             "#fdca26"
            ],
            [
             1,
             "#f0f921"
            ]
           ]
          },
          "colorway": [
           "#636efa",
           "#EF553B",
           "#00cc96",
           "#ab63fa",
           "#FFA15A",
           "#19d3f3",
           "#FF6692",
           "#B6E880",
           "#FF97FF",
           "#FECB52"
          ],
          "font": {
           "color": "#2a3f5f"
          },
          "geo": {
           "bgcolor": "white",
           "lakecolor": "white",
           "landcolor": "#E5ECF6",
           "showlakes": true,
           "showland": true,
           "subunitcolor": "white"
          },
          "hoverlabel": {
           "align": "left"
          },
          "hovermode": "closest",
          "mapbox": {
           "style": "light"
          },
          "paper_bgcolor": "white",
          "plot_bgcolor": "#E5ECF6",
          "polar": {
           "angularaxis": {
            "gridcolor": "white",
            "linecolor": "white",
            "ticks": ""
           },
           "bgcolor": "#E5ECF6",
           "radialaxis": {
            "gridcolor": "white",
            "linecolor": "white",
            "ticks": ""
           }
          },
          "scene": {
           "xaxis": {
            "backgroundcolor": "#E5ECF6",
            "gridcolor": "white",
            "gridwidth": 2,
            "linecolor": "white",
            "showbackground": true,
            "ticks": "",
            "zerolinecolor": "white"
           },
           "yaxis": {
            "backgroundcolor": "#E5ECF6",
            "gridcolor": "white",
            "gridwidth": 2,
            "linecolor": "white",
            "showbackground": true,
            "ticks": "",
            "zerolinecolor": "white"
           },
           "zaxis": {
            "backgroundcolor": "#E5ECF6",
            "gridcolor": "white",
            "gridwidth": 2,
            "linecolor": "white",
            "showbackground": true,
            "ticks": "",
            "zerolinecolor": "white"
           }
          },
          "shapedefaults": {
           "line": {
            "color": "#2a3f5f"
           }
          },
          "ternary": {
           "aaxis": {
            "gridcolor": "white",
            "linecolor": "white",
            "ticks": ""
           },
           "baxis": {
            "gridcolor": "white",
            "linecolor": "white",
            "ticks": ""
           },
           "bgcolor": "#E5ECF6",
           "caxis": {
            "gridcolor": "white",
            "linecolor": "white",
            "ticks": ""
           }
          },
          "title": {
           "x": 0.05
          },
          "xaxis": {
           "automargin": true,
           "gridcolor": "white",
           "linecolor": "white",
           "ticks": "",
           "title": {
            "standoff": 15
           },
           "zerolinecolor": "white",
           "zerolinewidth": 2
          },
          "yaxis": {
           "automargin": true,
           "gridcolor": "white",
           "linecolor": "white",
           "ticks": "",
           "title": {
            "standoff": 15
           },
           "zerolinecolor": "white",
           "zerolinewidth": 2
          }
         }
        },
        "title": {
         "font": {
          "color": "#4D5663"
         }
        },
        "xaxis": {
         "gridcolor": "#E1E5ED",
         "showgrid": true,
         "tickfont": {
          "color": "#4D5663"
         },
         "title": {
          "font": {
           "color": "#4D5663"
          },
          "text": ""
         },
         "zerolinecolor": "#E1E5ED"
        },
        "yaxis": {
         "gridcolor": "#E1E5ED",
         "showgrid": true,
         "tickfont": {
          "color": "#4D5663"
         },
         "title": {
          "font": {
           "color": "#4D5663"
          },
          "text": ""
         },
         "zerolinecolor": "#E1E5ED"
        }
       }
      },
      "text/html": [
       "<div>                            <div id=\"99b3c116-455f-4060-8f96-0d80d1f8bb20\" class=\"plotly-graph-div\" style=\"height:525px; width:100%;\"></div>            <script type=\"text/javascript\">                require([\"plotly\"], function(Plotly) {                    window.PLOTLYENV=window.PLOTLYENV || {};\n",
       "                    window.PLOTLYENV.BASE_URL='https://plot.ly';                                    if (document.getElementById(\"99b3c116-455f-4060-8f96-0d80d1f8bb20\")) {                    Plotly.newPlot(                        \"99b3c116-455f-4060-8f96-0d80d1f8bb20\",                        [{\"marker\":{\"color\":\"rgba(255, 153, 51, 0.6)\",\"line\":{\"color\":\"rgba(255, 153, 51, 1.0)\",\"width\":1}},\"name\":\"Values\",\"orientation\":\"v\",\"text\":\"\",\"x\":[\"A\",\"B\",\"C\"],\"y\":[32,43,50],\"type\":\"bar\"}],                        {\"legend\":{\"bgcolor\":\"#F5F6F9\",\"font\":{\"color\":\"#4D5663\"}},\"paper_bgcolor\":\"#F5F6F9\",\"plot_bgcolor\":\"#F5F6F9\",\"template\":{\"data\":{\"barpolar\":[{\"marker\":{\"line\":{\"color\":\"#E5ECF6\",\"width\":0.5},\"pattern\":{\"fillmode\":\"overlay\",\"size\":10,\"solidity\":0.2}},\"type\":\"barpolar\"}],\"bar\":[{\"error_x\":{\"color\":\"#2a3f5f\"},\"error_y\":{\"color\":\"#2a3f5f\"},\"marker\":{\"line\":{\"color\":\"#E5ECF6\",\"width\":0.5},\"pattern\":{\"fillmode\":\"overlay\",\"size\":10,\"solidity\":0.2}},\"type\":\"bar\"}],\"carpet\":[{\"aaxis\":{\"endlinecolor\":\"#2a3f5f\",\"gridcolor\":\"white\",\"linecolor\":\"white\",\"minorgridcolor\":\"white\",\"startlinecolor\":\"#2a3f5f\"},\"baxis\":{\"endlinecolor\":\"#2a3f5f\",\"gridcolor\":\"white\",\"linecolor\":\"white\",\"minorgridcolor\":\"white\",\"startlinecolor\":\"#2a3f5f\"},\"type\":\"carpet\"}],\"choropleth\":[{\"colorbar\":{\"outlinewidth\":0,\"ticks\":\"\"},\"type\":\"choropleth\"}],\"contourcarpet\":[{\"colorbar\":{\"outlinewidth\":0,\"ticks\":\"\"},\"type\":\"contourcarpet\"}],\"contour\":[{\"colorbar\":{\"outlinewidth\":0,\"ticks\":\"\"},\"colorscale\":[[0.0,\"#0d0887\"],[0.1111111111111111,\"#46039f\"],[0.2222222222222222,\"#7201a8\"],[0.3333333333333333,\"#9c179e\"],[0.4444444444444444,\"#bd3786\"],[0.5555555555555556,\"#d8576b\"],[0.6666666666666666,\"#ed7953\"],[0.7777777777777778,\"#fb9f3a\"],[0.8888888888888888,\"#fdca26\"],[1.0,\"#f0f921\"]],\"type\":\"contour\"}],\"heatmapgl\":[{\"colorbar\":{\"outlinewidth\":0,\"ticks\":\"\"},\"colorscale\":[[0.0,\"#0d0887\"],[0.1111111111111111,\"#46039f\"],[0.2222222222222222,\"#7201a8\"],[0.3333333333333333,\"#9c179e\"],[0.4444444444444444,\"#bd3786\"],[0.5555555555555556,\"#d8576b\"],[0.6666666666666666,\"#ed7953\"],[0.7777777777777778,\"#fb9f3a\"],[0.8888888888888888,\"#fdca26\"],[1.0,\"#f0f921\"]],\"type\":\"heatmapgl\"}],\"heatmap\":[{\"colorbar\":{\"outlinewidth\":0,\"ticks\":\"\"},\"colorscale\":[[0.0,\"#0d0887\"],[0.1111111111111111,\"#46039f\"],[0.2222222222222222,\"#7201a8\"],[0.3333333333333333,\"#9c179e\"],[0.4444444444444444,\"#bd3786\"],[0.5555555555555556,\"#d8576b\"],[0.6666666666666666,\"#ed7953\"],[0.7777777777777778,\"#fb9f3a\"],[0.8888888888888888,\"#fdca26\"],[1.0,\"#f0f921\"]],\"type\":\"heatmap\"}],\"histogram2dcontour\":[{\"colorbar\":{\"outlinewidth\":0,\"ticks\":\"\"},\"colorscale\":[[0.0,\"#0d0887\"],[0.1111111111111111,\"#46039f\"],[0.2222222222222222,\"#7201a8\"],[0.3333333333333333,\"#9c179e\"],[0.4444444444444444,\"#bd3786\"],[0.5555555555555556,\"#d8576b\"],[0.6666666666666666,\"#ed7953\"],[0.7777777777777778,\"#fb9f3a\"],[0.8888888888888888,\"#fdca26\"],[1.0,\"#f0f921\"]],\"type\":\"histogram2dcontour\"}],\"histogram2d\":[{\"colorbar\":{\"outlinewidth\":0,\"ticks\":\"\"},\"colorscale\":[[0.0,\"#0d0887\"],[0.1111111111111111,\"#46039f\"],[0.2222222222222222,\"#7201a8\"],[0.3333333333333333,\"#9c179e\"],[0.4444444444444444,\"#bd3786\"],[0.5555555555555556,\"#d8576b\"],[0.6666666666666666,\"#ed7953\"],[0.7777777777777778,\"#fb9f3a\"],[0.8888888888888888,\"#fdca26\"],[1.0,\"#f0f921\"]],\"type\":\"histogram2d\"}],\"histogram\":[{\"marker\":{\"pattern\":{\"fillmode\":\"overlay\",\"size\":10,\"solidity\":0.2}},\"type\":\"histogram\"}],\"mesh3d\":[{\"colorbar\":{\"outlinewidth\":0,\"ticks\":\"\"},\"type\":\"mesh3d\"}],\"parcoords\":[{\"line\":{\"colorbar\":{\"outlinewidth\":0,\"ticks\":\"\"}},\"type\":\"parcoords\"}],\"pie\":[{\"automargin\":true,\"type\":\"pie\"}],\"scatter3d\":[{\"line\":{\"colorbar\":{\"outlinewidth\":0,\"ticks\":\"\"}},\"marker\":{\"colorbar\":{\"outlinewidth\":0,\"ticks\":\"\"}},\"type\":\"scatter3d\"}],\"scattercarpet\":[{\"marker\":{\"colorbar\":{\"outlinewidth\":0,\"ticks\":\"\"}},\"type\":\"scattercarpet\"}],\"scattergeo\":[{\"marker\":{\"colorbar\":{\"outlinewidth\":0,\"ticks\":\"\"}},\"type\":\"scattergeo\"}],\"scattergl\":[{\"marker\":{\"colorbar\":{\"outlinewidth\":0,\"ticks\":\"\"}},\"type\":\"scattergl\"}],\"scattermapbox\":[{\"marker\":{\"colorbar\":{\"outlinewidth\":0,\"ticks\":\"\"}},\"type\":\"scattermapbox\"}],\"scatterpolargl\":[{\"marker\":{\"colorbar\":{\"outlinewidth\":0,\"ticks\":\"\"}},\"type\":\"scatterpolargl\"}],\"scatterpolar\":[{\"marker\":{\"colorbar\":{\"outlinewidth\":0,\"ticks\":\"\"}},\"type\":\"scatterpolar\"}],\"scatter\":[{\"fillpattern\":{\"fillmode\":\"overlay\",\"size\":10,\"solidity\":0.2},\"type\":\"scatter\"}],\"scatterternary\":[{\"marker\":{\"colorbar\":{\"outlinewidth\":0,\"ticks\":\"\"}},\"type\":\"scatterternary\"}],\"surface\":[{\"colorbar\":{\"outlinewidth\":0,\"ticks\":\"\"},\"colorscale\":[[0.0,\"#0d0887\"],[0.1111111111111111,\"#46039f\"],[0.2222222222222222,\"#7201a8\"],[0.3333333333333333,\"#9c179e\"],[0.4444444444444444,\"#bd3786\"],[0.5555555555555556,\"#d8576b\"],[0.6666666666666666,\"#ed7953\"],[0.7777777777777778,\"#fb9f3a\"],[0.8888888888888888,\"#fdca26\"],[1.0,\"#f0f921\"]],\"type\":\"surface\"}],\"table\":[{\"cells\":{\"fill\":{\"color\":\"#EBF0F8\"},\"line\":{\"color\":\"white\"}},\"header\":{\"fill\":{\"color\":\"#C8D4E3\"},\"line\":{\"color\":\"white\"}},\"type\":\"table\"}]},\"layout\":{\"annotationdefaults\":{\"arrowcolor\":\"#2a3f5f\",\"arrowhead\":0,\"arrowwidth\":1},\"autotypenumbers\":\"strict\",\"coloraxis\":{\"colorbar\":{\"outlinewidth\":0,\"ticks\":\"\"}},\"colorscale\":{\"diverging\":[[0,\"#8e0152\"],[0.1,\"#c51b7d\"],[0.2,\"#de77ae\"],[0.3,\"#f1b6da\"],[0.4,\"#fde0ef\"],[0.5,\"#f7f7f7\"],[0.6,\"#e6f5d0\"],[0.7,\"#b8e186\"],[0.8,\"#7fbc41\"],[0.9,\"#4d9221\"],[1,\"#276419\"]],\"sequential\":[[0.0,\"#0d0887\"],[0.1111111111111111,\"#46039f\"],[0.2222222222222222,\"#7201a8\"],[0.3333333333333333,\"#9c179e\"],[0.4444444444444444,\"#bd3786\"],[0.5555555555555556,\"#d8576b\"],[0.6666666666666666,\"#ed7953\"],[0.7777777777777778,\"#fb9f3a\"],[0.8888888888888888,\"#fdca26\"],[1.0,\"#f0f921\"]],\"sequentialminus\":[[0.0,\"#0d0887\"],[0.1111111111111111,\"#46039f\"],[0.2222222222222222,\"#7201a8\"],[0.3333333333333333,\"#9c179e\"],[0.4444444444444444,\"#bd3786\"],[0.5555555555555556,\"#d8576b\"],[0.6666666666666666,\"#ed7953\"],[0.7777777777777778,\"#fb9f3a\"],[0.8888888888888888,\"#fdca26\"],[1.0,\"#f0f921\"]]},\"colorway\":[\"#636efa\",\"#EF553B\",\"#00cc96\",\"#ab63fa\",\"#FFA15A\",\"#19d3f3\",\"#FF6692\",\"#B6E880\",\"#FF97FF\",\"#FECB52\"],\"font\":{\"color\":\"#2a3f5f\"},\"geo\":{\"bgcolor\":\"white\",\"lakecolor\":\"white\",\"landcolor\":\"#E5ECF6\",\"showlakes\":true,\"showland\":true,\"subunitcolor\":\"white\"},\"hoverlabel\":{\"align\":\"left\"},\"hovermode\":\"closest\",\"mapbox\":{\"style\":\"light\"},\"paper_bgcolor\":\"white\",\"plot_bgcolor\":\"#E5ECF6\",\"polar\":{\"angularaxis\":{\"gridcolor\":\"white\",\"linecolor\":\"white\",\"ticks\":\"\"},\"bgcolor\":\"#E5ECF6\",\"radialaxis\":{\"gridcolor\":\"white\",\"linecolor\":\"white\",\"ticks\":\"\"}},\"scene\":{\"xaxis\":{\"backgroundcolor\":\"#E5ECF6\",\"gridcolor\":\"white\",\"gridwidth\":2,\"linecolor\":\"white\",\"showbackground\":true,\"ticks\":\"\",\"zerolinecolor\":\"white\"},\"yaxis\":{\"backgroundcolor\":\"#E5ECF6\",\"gridcolor\":\"white\",\"gridwidth\":2,\"linecolor\":\"white\",\"showbackground\":true,\"ticks\":\"\",\"zerolinecolor\":\"white\"},\"zaxis\":{\"backgroundcolor\":\"#E5ECF6\",\"gridcolor\":\"white\",\"gridwidth\":2,\"linecolor\":\"white\",\"showbackground\":true,\"ticks\":\"\",\"zerolinecolor\":\"white\"}},\"shapedefaults\":{\"line\":{\"color\":\"#2a3f5f\"}},\"ternary\":{\"aaxis\":{\"gridcolor\":\"white\",\"linecolor\":\"white\",\"ticks\":\"\"},\"baxis\":{\"gridcolor\":\"white\",\"linecolor\":\"white\",\"ticks\":\"\"},\"bgcolor\":\"#E5ECF6\",\"caxis\":{\"gridcolor\":\"white\",\"linecolor\":\"white\",\"ticks\":\"\"}},\"title\":{\"x\":0.05},\"xaxis\":{\"automargin\":true,\"gridcolor\":\"white\",\"linecolor\":\"white\",\"ticks\":\"\",\"title\":{\"standoff\":15},\"zerolinecolor\":\"white\",\"zerolinewidth\":2},\"yaxis\":{\"automargin\":true,\"gridcolor\":\"white\",\"linecolor\":\"white\",\"ticks\":\"\",\"title\":{\"standoff\":15},\"zerolinecolor\":\"white\",\"zerolinewidth\":2}}},\"title\":{\"font\":{\"color\":\"#4D5663\"}},\"xaxis\":{\"gridcolor\":\"#E1E5ED\",\"showgrid\":true,\"tickfont\":{\"color\":\"#4D5663\"},\"title\":{\"font\":{\"color\":\"#4D5663\"},\"text\":\"\"},\"zerolinecolor\":\"#E1E5ED\"},\"yaxis\":{\"gridcolor\":\"#E1E5ED\",\"showgrid\":true,\"tickfont\":{\"color\":\"#4D5663\"},\"title\":{\"font\":{\"color\":\"#4D5663\"},\"text\":\"\"},\"zerolinecolor\":\"#E1E5ED\"}},                        {\"showLink\": true, \"linkText\": \"Export to plot.ly\", \"plotlyServerURL\": \"https://plot.ly\", \"responsive\": true}                    ).then(function(){\n",
       "                            \n",
       "var gd = document.getElementById('99b3c116-455f-4060-8f96-0d80d1f8bb20');\n",
       "var x = new MutationObserver(function (mutations, observer) {{\n",
       "        var display = window.getComputedStyle(gd).display;\n",
       "        if (!display || display === 'none') {{\n",
       "            console.log([gd, 'removed!']);\n",
       "            Plotly.purge(gd);\n",
       "            observer.disconnect();\n",
       "        }}\n",
       "}});\n",
       "\n",
       "// Listen for the removal of the full notebook cells\n",
       "var notebookContainer = gd.closest('#notebook-container');\n",
       "if (notebookContainer) {{\n",
       "    x.observe(notebookContainer, {childList: true});\n",
       "}}\n",
       "\n",
       "// Listen for the clearing of the current output cell\n",
       "var outputEl = gd.closest('.output');\n",
       "if (outputEl) {{\n",
       "    x.observe(outputEl, {childList: true});\n",
       "}}\n",
       "\n",
       "                        })                };                });            </script>        </div>"
      ]
     },
     "metadata": {},
     "output_type": "display_data"
    }
   ],
   "source": [
    "df2.iplot(kind='bar',x='Category',y='Values')"
   ]
  },
  {
   "cell_type": "code",
   "execution_count": 63,
   "id": "efc53868",
   "metadata": {},
   "outputs": [
    {
     "data": {
      "application/vnd.plotly.v1+json": {
       "config": {
        "linkText": "Export to plot.ly",
        "plotlyServerURL": "https://plot.ly",
        "showLink": true
       },
       "data": [
        {
         "marker": {
          "color": "rgba(255, 153, 51, 0.6)",
          "line": {
           "color": "rgba(255, 153, 51, 1.0)",
           "width": 1
          }
         },
         "name": "B",
         "orientation": "v",
         "text": "",
         "type": "bar",
         "x": [
          1.6185342153503897,
          1.1848362441609444,
          1.0676265789711767,
          0.6289578176999444,
          -0.0731723746557524,
          -0.10349025747306093,
          -0.13828150425216726,
          0.8810902574734345,
          -0.5542620086053726,
          1.367655392604224,
          0.42159233908657434,
          -1.6600131400907159,
          -2.321880943758504,
          -0.14525715490075852,
          -1.4150329423246357,
          1.1902193781513097,
          0.032605182130966644,
          -1.1068654931550255,
          -0.4881710870419417,
          -1.0064654004665394,
          -1.4861349648044178,
          0.42126197939457344,
          0.2033513437481144,
          0.6780192171590568,
          2.2695601885039856,
          -1.0530794893148434,
          -0.7599582936020849,
          0.07479649981688027,
          -0.5004585006618902,
          -0.7069045792139065,
          -0.7490649048467005,
          -0.9573833622535074,
          0.3184903662704784,
          0.5232510497782804,
          -0.292920914056626,
          0.5526442907323154,
          0.28927758198705866,
          -0.9595308675629673,
          0.6624074725052688,
          -1.2675470861916667,
          -1.298518317282184,
          1.6505714308200703,
          0.7711743870399246,
          -0.10350465261086673,
          -0.9890595965375653,
          0.09060720967289916,
          -0.9664272965492815,
          1.7520110562695306,
          2.0598160276614736,
          -1.5398792263792436,
          0.14913323679684518,
          0.995048297495277,
          -0.8178015437731536,
          -1.1488188276104512,
          -1.2553879715068992,
          0.702144807401087,
          -0.14721370696443659,
          0.9849700972122788,
          -1.6159928381795001,
          2.8876664099211764,
          1.1792610841498818,
          1.137534866296284,
          0.36529841743489505,
          0.6837628681037843,
          0.3857655623229011,
          -1.4277493996033706,
          1.9387091111049926,
          -0.8799227856643209,
          0.17157935956524548,
          1.2164326922302917,
          0.004829280486984333,
          -0.7305142209733924,
          0.8090950392810067,
          -2.7632429506224883,
          0.9238654843844363,
          0.13909084142958214,
          0.06932779342792991,
          0.10316445888209945,
          -1.4408925516222189,
          -1.5014989504920706,
          1.3164328202880184,
          0.20632089660007252,
          -0.4332798600838577,
          0.5100226609573209,
          -0.5583994791359564,
          0.4825916998568048,
          -0.15873725230421742,
          -2.033833509570888,
          -0.56776873608412,
          -1.3983642700361827,
          -0.17721085755554614,
          -0.4777864854606395,
          -0.7084571357637636,
          0.14725150781339041,
          0.5160571944585837,
          2.391248105092854,
          -0.035925646760449015,
          0.3993352653098139,
          0.5041548045378224,
          -2.4531789724121182
         ],
         "y": [
          0.24555663252945903,
          -0.5638129038214954,
          0.15838017982758465,
          0.025965138727300052,
          1.0261693833091186,
          -1.8117251738858402,
          1.2824990052649607,
          0.9227163869758231,
          -0.32928491407238214,
          0.3366044693090377,
          0.16065191024800432,
          0.8082078977266477,
          -0.37421382646895285,
          0.4443612006818534,
          1.2591791755585575,
          -0.272577764440088,
          0.05397960093059676,
          0.9925302761246275,
          0.8240201250613609,
          0.03421864511183541,
          1.7687225019146364,
          0.9401432164859415,
          1.294385534196133,
          0.6944745568559109,
          0.4364763563018746,
          0.19932268382576923,
          -0.27934197237725056,
          -1.5844482409973324,
          0.8691582357782162,
          0.7968557938544397,
          1.227966360927478,
          0.32626552917603463,
          -0.5268174005804046,
          0.16189388577452204,
          0.47272456823309345,
          0.08452053298458287,
          -0.8350294005227219,
          0.8340070844504154,
          -1.2518433951160093,
          -0.5889093096430914,
          -1.5761297357175614,
          0.7025218259235306,
          0.9816624927802996,
          -1.3176098140720194,
          1.0192498512213706,
          -0.06384003639023407,
          -0.6499138608042271,
          1.779442553151568,
          0.9457660017435001,
          1.307783424473417,
          -0.22117084156221578,
          1.7868932790407142,
          -1.0844140449242934,
          0.35024847218493776,
          0.884244535300552,
          0.6614379919438789,
          -1.3080451104956212,
          -0.19203618050731222,
          1.400879527302598,
          -1.9204936660131982,
          0.0733528470981566,
          -2.7096374996506603,
          1.2516569643880509,
          1.375309163239427,
          0.6338916751026681,
          -0.44015753737571284,
          -0.47999473391612174,
          -0.5470196774727828,
          -0.6448957474033917,
          -1.2312387282637907,
          -0.7882654917165696,
          0.6992660805993933,
          1.343159728014624,
          0.006554386717324803,
          1.1839666350547748,
          0.7852962090064953,
          1.090853039440043,
          -0.9191197192317047,
          -0.584937510658358,
          0.09935280627146068,
          -1.0597550817994716,
          0.6327940167393934,
          -0.26286404024615473,
          1.3291756615688792,
          -1.082743328643993,
          -0.2925693546759645,
          0.5283895907770542,
          1.7397374477560037,
          -0.34785501448501577,
          -1.1370577316276549,
          -1.116757259654754,
          -0.18340610752183722,
          -0.5649610550472014,
          -0.6529937313804469,
          1.1892675399002437,
          -0.036918623731211,
          0.4873170568674592,
          0.20282226504473866,
          -0.09245437072411745,
          -1.719683555373446
         ]
        }
       ],
       "layout": {
        "legend": {
         "bgcolor": "#F5F6F9",
         "font": {
          "color": "#4D5663"
         }
        },
        "paper_bgcolor": "#F5F6F9",
        "plot_bgcolor": "#F5F6F9",
        "template": {
         "data": {
          "bar": [
           {
            "error_x": {
             "color": "#2a3f5f"
            },
            "error_y": {
             "color": "#2a3f5f"
            },
            "marker": {
             "line": {
              "color": "#E5ECF6",
              "width": 0.5
             },
             "pattern": {
              "fillmode": "overlay",
              "size": 10,
              "solidity": 0.2
             }
            },
            "type": "bar"
           }
          ],
          "barpolar": [
           {
            "marker": {
             "line": {
              "color": "#E5ECF6",
              "width": 0.5
             },
             "pattern": {
              "fillmode": "overlay",
              "size": 10,
              "solidity": 0.2
             }
            },
            "type": "barpolar"
           }
          ],
          "carpet": [
           {
            "aaxis": {
             "endlinecolor": "#2a3f5f",
             "gridcolor": "white",
             "linecolor": "white",
             "minorgridcolor": "white",
             "startlinecolor": "#2a3f5f"
            },
            "baxis": {
             "endlinecolor": "#2a3f5f",
             "gridcolor": "white",
             "linecolor": "white",
             "minorgridcolor": "white",
             "startlinecolor": "#2a3f5f"
            },
            "type": "carpet"
           }
          ],
          "choropleth": [
           {
            "colorbar": {
             "outlinewidth": 0,
             "ticks": ""
            },
            "type": "choropleth"
           }
          ],
          "contour": [
           {
            "colorbar": {
             "outlinewidth": 0,
             "ticks": ""
            },
            "colorscale": [
             [
              0,
              "#0d0887"
             ],
             [
              0.1111111111111111,
              "#46039f"
             ],
             [
              0.2222222222222222,
              "#7201a8"
             ],
             [
              0.3333333333333333,
              "#9c179e"
             ],
             [
              0.4444444444444444,
              "#bd3786"
             ],
             [
              0.5555555555555556,
              "#d8576b"
             ],
             [
              0.6666666666666666,
              "#ed7953"
             ],
             [
              0.7777777777777778,
              "#fb9f3a"
             ],
             [
              0.8888888888888888,
              "#fdca26"
             ],
             [
              1,
              "#f0f921"
             ]
            ],
            "type": "contour"
           }
          ],
          "contourcarpet": [
           {
            "colorbar": {
             "outlinewidth": 0,
             "ticks": ""
            },
            "type": "contourcarpet"
           }
          ],
          "heatmap": [
           {
            "colorbar": {
             "outlinewidth": 0,
             "ticks": ""
            },
            "colorscale": [
             [
              0,
              "#0d0887"
             ],
             [
              0.1111111111111111,
              "#46039f"
             ],
             [
              0.2222222222222222,
              "#7201a8"
             ],
             [
              0.3333333333333333,
              "#9c179e"
             ],
             [
              0.4444444444444444,
              "#bd3786"
             ],
             [
              0.5555555555555556,
              "#d8576b"
             ],
             [
              0.6666666666666666,
              "#ed7953"
             ],
             [
              0.7777777777777778,
              "#fb9f3a"
             ],
             [
              0.8888888888888888,
              "#fdca26"
             ],
             [
              1,
              "#f0f921"
             ]
            ],
            "type": "heatmap"
           }
          ],
          "heatmapgl": [
           {
            "colorbar": {
             "outlinewidth": 0,
             "ticks": ""
            },
            "colorscale": [
             [
              0,
              "#0d0887"
             ],
             [
              0.1111111111111111,
              "#46039f"
             ],
             [
              0.2222222222222222,
              "#7201a8"
             ],
             [
              0.3333333333333333,
              "#9c179e"
             ],
             [
              0.4444444444444444,
              "#bd3786"
             ],
             [
              0.5555555555555556,
              "#d8576b"
             ],
             [
              0.6666666666666666,
              "#ed7953"
             ],
             [
              0.7777777777777778,
              "#fb9f3a"
             ],
             [
              0.8888888888888888,
              "#fdca26"
             ],
             [
              1,
              "#f0f921"
             ]
            ],
            "type": "heatmapgl"
           }
          ],
          "histogram": [
           {
            "marker": {
             "pattern": {
              "fillmode": "overlay",
              "size": 10,
              "solidity": 0.2
             }
            },
            "type": "histogram"
           }
          ],
          "histogram2d": [
           {
            "colorbar": {
             "outlinewidth": 0,
             "ticks": ""
            },
            "colorscale": [
             [
              0,
              "#0d0887"
             ],
             [
              0.1111111111111111,
              "#46039f"
             ],
             [
              0.2222222222222222,
              "#7201a8"
             ],
             [
              0.3333333333333333,
              "#9c179e"
             ],
             [
              0.4444444444444444,
              "#bd3786"
             ],
             [
              0.5555555555555556,
              "#d8576b"
             ],
             [
              0.6666666666666666,
              "#ed7953"
             ],
             [
              0.7777777777777778,
              "#fb9f3a"
             ],
             [
              0.8888888888888888,
              "#fdca26"
             ],
             [
              1,
              "#f0f921"
             ]
            ],
            "type": "histogram2d"
           }
          ],
          "histogram2dcontour": [
           {
            "colorbar": {
             "outlinewidth": 0,
             "ticks": ""
            },
            "colorscale": [
             [
              0,
              "#0d0887"
             ],
             [
              0.1111111111111111,
              "#46039f"
             ],
             [
              0.2222222222222222,
              "#7201a8"
             ],
             [
              0.3333333333333333,
              "#9c179e"
             ],
             [
              0.4444444444444444,
              "#bd3786"
             ],
             [
              0.5555555555555556,
              "#d8576b"
             ],
             [
              0.6666666666666666,
              "#ed7953"
             ],
             [
              0.7777777777777778,
              "#fb9f3a"
             ],
             [
              0.8888888888888888,
              "#fdca26"
             ],
             [
              1,
              "#f0f921"
             ]
            ],
            "type": "histogram2dcontour"
           }
          ],
          "mesh3d": [
           {
            "colorbar": {
             "outlinewidth": 0,
             "ticks": ""
            },
            "type": "mesh3d"
           }
          ],
          "parcoords": [
           {
            "line": {
             "colorbar": {
              "outlinewidth": 0,
              "ticks": ""
             }
            },
            "type": "parcoords"
           }
          ],
          "pie": [
           {
            "automargin": true,
            "type": "pie"
           }
          ],
          "scatter": [
           {
            "fillpattern": {
             "fillmode": "overlay",
             "size": 10,
             "solidity": 0.2
            },
            "type": "scatter"
           }
          ],
          "scatter3d": [
           {
            "line": {
             "colorbar": {
              "outlinewidth": 0,
              "ticks": ""
             }
            },
            "marker": {
             "colorbar": {
              "outlinewidth": 0,
              "ticks": ""
             }
            },
            "type": "scatter3d"
           }
          ],
          "scattercarpet": [
           {
            "marker": {
             "colorbar": {
              "outlinewidth": 0,
              "ticks": ""
             }
            },
            "type": "scattercarpet"
           }
          ],
          "scattergeo": [
           {
            "marker": {
             "colorbar": {
              "outlinewidth": 0,
              "ticks": ""
             }
            },
            "type": "scattergeo"
           }
          ],
          "scattergl": [
           {
            "marker": {
             "colorbar": {
              "outlinewidth": 0,
              "ticks": ""
             }
            },
            "type": "scattergl"
           }
          ],
          "scattermapbox": [
           {
            "marker": {
             "colorbar": {
              "outlinewidth": 0,
              "ticks": ""
             }
            },
            "type": "scattermapbox"
           }
          ],
          "scatterpolar": [
           {
            "marker": {
             "colorbar": {
              "outlinewidth": 0,
              "ticks": ""
             }
            },
            "type": "scatterpolar"
           }
          ],
          "scatterpolargl": [
           {
            "marker": {
             "colorbar": {
              "outlinewidth": 0,
              "ticks": ""
             }
            },
            "type": "scatterpolargl"
           }
          ],
          "scatterternary": [
           {
            "marker": {
             "colorbar": {
              "outlinewidth": 0,
              "ticks": ""
             }
            },
            "type": "scatterternary"
           }
          ],
          "surface": [
           {
            "colorbar": {
             "outlinewidth": 0,
             "ticks": ""
            },
            "colorscale": [
             [
              0,
              "#0d0887"
             ],
             [
              0.1111111111111111,
              "#46039f"
             ],
             [
              0.2222222222222222,
              "#7201a8"
             ],
             [
              0.3333333333333333,
              "#9c179e"
             ],
             [
              0.4444444444444444,
              "#bd3786"
             ],
             [
              0.5555555555555556,
              "#d8576b"
             ],
             [
              0.6666666666666666,
              "#ed7953"
             ],
             [
              0.7777777777777778,
              "#fb9f3a"
             ],
             [
              0.8888888888888888,
              "#fdca26"
             ],
             [
              1,
              "#f0f921"
             ]
            ],
            "type": "surface"
           }
          ],
          "table": [
           {
            "cells": {
             "fill": {
              "color": "#EBF0F8"
             },
             "line": {
              "color": "white"
             }
            },
            "header": {
             "fill": {
              "color": "#C8D4E3"
             },
             "line": {
              "color": "white"
             }
            },
            "type": "table"
           }
          ]
         },
         "layout": {
          "annotationdefaults": {
           "arrowcolor": "#2a3f5f",
           "arrowhead": 0,
           "arrowwidth": 1
          },
          "autotypenumbers": "strict",
          "coloraxis": {
           "colorbar": {
            "outlinewidth": 0,
            "ticks": ""
           }
          },
          "colorscale": {
           "diverging": [
            [
             0,
             "#8e0152"
            ],
            [
             0.1,
             "#c51b7d"
            ],
            [
             0.2,
             "#de77ae"
            ],
            [
             0.3,
             "#f1b6da"
            ],
            [
             0.4,
             "#fde0ef"
            ],
            [
             0.5,
             "#f7f7f7"
            ],
            [
             0.6,
             "#e6f5d0"
            ],
            [
             0.7,
             "#b8e186"
            ],
            [
             0.8,
             "#7fbc41"
            ],
            [
             0.9,
             "#4d9221"
            ],
            [
             1,
             "#276419"
            ]
           ],
           "sequential": [
            [
             0,
             "#0d0887"
            ],
            [
             0.1111111111111111,
             "#46039f"
            ],
            [
             0.2222222222222222,
             "#7201a8"
            ],
            [
             0.3333333333333333,
             "#9c179e"
            ],
            [
             0.4444444444444444,
             "#bd3786"
            ],
            [
             0.5555555555555556,
             "#d8576b"
            ],
            [
             0.6666666666666666,
             "#ed7953"
            ],
            [
             0.7777777777777778,
             "#fb9f3a"
            ],
            [
             0.8888888888888888,
             "#fdca26"
            ],
            [
             1,
             "#f0f921"
            ]
           ],
           "sequentialminus": [
            [
             0,
             "#0d0887"
            ],
            [
             0.1111111111111111,
             "#46039f"
            ],
            [
             0.2222222222222222,
             "#7201a8"
            ],
            [
             0.3333333333333333,
             "#9c179e"
            ],
            [
             0.4444444444444444,
             "#bd3786"
            ],
            [
             0.5555555555555556,
             "#d8576b"
            ],
            [
             0.6666666666666666,
             "#ed7953"
            ],
            [
             0.7777777777777778,
             "#fb9f3a"
            ],
            [
             0.8888888888888888,
             "#fdca26"
            ],
            [
             1,
             "#f0f921"
            ]
           ]
          },
          "colorway": [
           "#636efa",
           "#EF553B",
           "#00cc96",
           "#ab63fa",
           "#FFA15A",
           "#19d3f3",
           "#FF6692",
           "#B6E880",
           "#FF97FF",
           "#FECB52"
          ],
          "font": {
           "color": "#2a3f5f"
          },
          "geo": {
           "bgcolor": "white",
           "lakecolor": "white",
           "landcolor": "#E5ECF6",
           "showlakes": true,
           "showland": true,
           "subunitcolor": "white"
          },
          "hoverlabel": {
           "align": "left"
          },
          "hovermode": "closest",
          "mapbox": {
           "style": "light"
          },
          "paper_bgcolor": "white",
          "plot_bgcolor": "#E5ECF6",
          "polar": {
           "angularaxis": {
            "gridcolor": "white",
            "linecolor": "white",
            "ticks": ""
           },
           "bgcolor": "#E5ECF6",
           "radialaxis": {
            "gridcolor": "white",
            "linecolor": "white",
            "ticks": ""
           }
          },
          "scene": {
           "xaxis": {
            "backgroundcolor": "#E5ECF6",
            "gridcolor": "white",
            "gridwidth": 2,
            "linecolor": "white",
            "showbackground": true,
            "ticks": "",
            "zerolinecolor": "white"
           },
           "yaxis": {
            "backgroundcolor": "#E5ECF6",
            "gridcolor": "white",
            "gridwidth": 2,
            "linecolor": "white",
            "showbackground": true,
            "ticks": "",
            "zerolinecolor": "white"
           },
           "zaxis": {
            "backgroundcolor": "#E5ECF6",
            "gridcolor": "white",
            "gridwidth": 2,
            "linecolor": "white",
            "showbackground": true,
            "ticks": "",
            "zerolinecolor": "white"
           }
          },
          "shapedefaults": {
           "line": {
            "color": "#2a3f5f"
           }
          },
          "ternary": {
           "aaxis": {
            "gridcolor": "white",
            "linecolor": "white",
            "ticks": ""
           },
           "baxis": {
            "gridcolor": "white",
            "linecolor": "white",
            "ticks": ""
           },
           "bgcolor": "#E5ECF6",
           "caxis": {
            "gridcolor": "white",
            "linecolor": "white",
            "ticks": ""
           }
          },
          "title": {
           "x": 0.05
          },
          "xaxis": {
           "automargin": true,
           "gridcolor": "white",
           "linecolor": "white",
           "ticks": "",
           "title": {
            "standoff": 15
           },
           "zerolinecolor": "white",
           "zerolinewidth": 2
          },
          "yaxis": {
           "automargin": true,
           "gridcolor": "white",
           "linecolor": "white",
           "ticks": "",
           "title": {
            "standoff": 15
           },
           "zerolinecolor": "white",
           "zerolinewidth": 2
          }
         }
        },
        "title": {
         "font": {
          "color": "#4D5663"
         }
        },
        "xaxis": {
         "gridcolor": "#E1E5ED",
         "showgrid": true,
         "tickfont": {
          "color": "#4D5663"
         },
         "title": {
          "font": {
           "color": "#4D5663"
          },
          "text": ""
         },
         "zerolinecolor": "#E1E5ED"
        },
        "yaxis": {
         "gridcolor": "#E1E5ED",
         "showgrid": true,
         "tickfont": {
          "color": "#4D5663"
         },
         "title": {
          "font": {
           "color": "#4D5663"
          },
          "text": ""
         },
         "zerolinecolor": "#E1E5ED"
        }
       }
      },
      "text/html": [
       "<div>                            <div id=\"f8ebb4ec-cd1e-40e2-b573-420bac6e41b6\" class=\"plotly-graph-div\" style=\"height:525px; width:100%;\"></div>            <script type=\"text/javascript\">                require([\"plotly\"], function(Plotly) {                    window.PLOTLYENV=window.PLOTLYENV || {};\n",
       "                    window.PLOTLYENV.BASE_URL='https://plot.ly';                                    if (document.getElementById(\"f8ebb4ec-cd1e-40e2-b573-420bac6e41b6\")) {                    Plotly.newPlot(                        \"f8ebb4ec-cd1e-40e2-b573-420bac6e41b6\",                        [{\"marker\":{\"color\":\"rgba(255, 153, 51, 0.6)\",\"line\":{\"color\":\"rgba(255, 153, 51, 1.0)\",\"width\":1}},\"name\":\"B\",\"orientation\":\"v\",\"text\":\"\",\"x\":[1.6185342153503897,1.1848362441609444,1.0676265789711767,0.6289578176999444,-0.0731723746557524,-0.10349025747306093,-0.13828150425216726,0.8810902574734345,-0.5542620086053726,1.367655392604224,0.42159233908657434,-1.6600131400907159,-2.321880943758504,-0.14525715490075852,-1.4150329423246357,1.1902193781513097,0.032605182130966644,-1.1068654931550255,-0.4881710870419417,-1.0064654004665394,-1.4861349648044178,0.42126197939457344,0.2033513437481144,0.6780192171590568,2.2695601885039856,-1.0530794893148434,-0.7599582936020849,0.07479649981688027,-0.5004585006618902,-0.7069045792139065,-0.7490649048467005,-0.9573833622535074,0.3184903662704784,0.5232510497782804,-0.292920914056626,0.5526442907323154,0.28927758198705866,-0.9595308675629673,0.6624074725052688,-1.2675470861916667,-1.298518317282184,1.6505714308200703,0.7711743870399246,-0.10350465261086673,-0.9890595965375653,0.09060720967289916,-0.9664272965492815,1.7520110562695306,2.0598160276614736,-1.5398792263792436,0.14913323679684518,0.995048297495277,-0.8178015437731536,-1.1488188276104512,-1.2553879715068992,0.702144807401087,-0.14721370696443659,0.9849700972122788,-1.6159928381795001,2.8876664099211764,1.1792610841498818,1.137534866296284,0.36529841743489505,0.6837628681037843,0.3857655623229011,-1.4277493996033706,1.9387091111049926,-0.8799227856643209,0.17157935956524548,1.2164326922302917,0.004829280486984333,-0.7305142209733924,0.8090950392810067,-2.7632429506224883,0.9238654843844363,0.13909084142958214,0.06932779342792991,0.10316445888209945,-1.4408925516222189,-1.5014989504920706,1.3164328202880184,0.20632089660007252,-0.4332798600838577,0.5100226609573209,-0.5583994791359564,0.4825916998568048,-0.15873725230421742,-2.033833509570888,-0.56776873608412,-1.3983642700361827,-0.17721085755554614,-0.4777864854606395,-0.7084571357637636,0.14725150781339041,0.5160571944585837,2.391248105092854,-0.035925646760449015,0.3993352653098139,0.5041548045378224,-2.4531789724121182],\"y\":[0.24555663252945903,-0.5638129038214954,0.15838017982758465,0.025965138727300052,1.0261693833091186,-1.8117251738858402,1.2824990052649607,0.9227163869758231,-0.32928491407238214,0.3366044693090377,0.16065191024800432,0.8082078977266477,-0.37421382646895285,0.4443612006818534,1.2591791755585575,-0.272577764440088,0.05397960093059676,0.9925302761246275,0.8240201250613609,0.03421864511183541,1.7687225019146364,0.9401432164859415,1.294385534196133,0.6944745568559109,0.4364763563018746,0.19932268382576923,-0.27934197237725056,-1.5844482409973324,0.8691582357782162,0.7968557938544397,1.227966360927478,0.32626552917603463,-0.5268174005804046,0.16189388577452204,0.47272456823309345,0.08452053298458287,-0.8350294005227219,0.8340070844504154,-1.2518433951160093,-0.5889093096430914,-1.5761297357175614,0.7025218259235306,0.9816624927802996,-1.3176098140720194,1.0192498512213706,-0.06384003639023407,-0.6499138608042271,1.779442553151568,0.9457660017435001,1.307783424473417,-0.22117084156221578,1.7868932790407142,-1.0844140449242934,0.35024847218493776,0.884244535300552,0.6614379919438789,-1.3080451104956212,-0.19203618050731222,1.400879527302598,-1.9204936660131982,0.0733528470981566,-2.7096374996506603,1.2516569643880509,1.375309163239427,0.6338916751026681,-0.44015753737571284,-0.47999473391612174,-0.5470196774727828,-0.6448957474033917,-1.2312387282637907,-0.7882654917165696,0.6992660805993933,1.343159728014624,0.006554386717324803,1.1839666350547748,0.7852962090064953,1.090853039440043,-0.9191197192317047,-0.584937510658358,0.09935280627146068,-1.0597550817994716,0.6327940167393934,-0.26286404024615473,1.3291756615688792,-1.082743328643993,-0.2925693546759645,0.5283895907770542,1.7397374477560037,-0.34785501448501577,-1.1370577316276549,-1.116757259654754,-0.18340610752183722,-0.5649610550472014,-0.6529937313804469,1.1892675399002437,-0.036918623731211,0.4873170568674592,0.20282226504473866,-0.09245437072411745,-1.719683555373446],\"type\":\"bar\"}],                        {\"legend\":{\"bgcolor\":\"#F5F6F9\",\"font\":{\"color\":\"#4D5663\"}},\"paper_bgcolor\":\"#F5F6F9\",\"plot_bgcolor\":\"#F5F6F9\",\"template\":{\"data\":{\"barpolar\":[{\"marker\":{\"line\":{\"color\":\"#E5ECF6\",\"width\":0.5},\"pattern\":{\"fillmode\":\"overlay\",\"size\":10,\"solidity\":0.2}},\"type\":\"barpolar\"}],\"bar\":[{\"error_x\":{\"color\":\"#2a3f5f\"},\"error_y\":{\"color\":\"#2a3f5f\"},\"marker\":{\"line\":{\"color\":\"#E5ECF6\",\"width\":0.5},\"pattern\":{\"fillmode\":\"overlay\",\"size\":10,\"solidity\":0.2}},\"type\":\"bar\"}],\"carpet\":[{\"aaxis\":{\"endlinecolor\":\"#2a3f5f\",\"gridcolor\":\"white\",\"linecolor\":\"white\",\"minorgridcolor\":\"white\",\"startlinecolor\":\"#2a3f5f\"},\"baxis\":{\"endlinecolor\":\"#2a3f5f\",\"gridcolor\":\"white\",\"linecolor\":\"white\",\"minorgridcolor\":\"white\",\"startlinecolor\":\"#2a3f5f\"},\"type\":\"carpet\"}],\"choropleth\":[{\"colorbar\":{\"outlinewidth\":0,\"ticks\":\"\"},\"type\":\"choropleth\"}],\"contourcarpet\":[{\"colorbar\":{\"outlinewidth\":0,\"ticks\":\"\"},\"type\":\"contourcarpet\"}],\"contour\":[{\"colorbar\":{\"outlinewidth\":0,\"ticks\":\"\"},\"colorscale\":[[0.0,\"#0d0887\"],[0.1111111111111111,\"#46039f\"],[0.2222222222222222,\"#7201a8\"],[0.3333333333333333,\"#9c179e\"],[0.4444444444444444,\"#bd3786\"],[0.5555555555555556,\"#d8576b\"],[0.6666666666666666,\"#ed7953\"],[0.7777777777777778,\"#fb9f3a\"],[0.8888888888888888,\"#fdca26\"],[1.0,\"#f0f921\"]],\"type\":\"contour\"}],\"heatmapgl\":[{\"colorbar\":{\"outlinewidth\":0,\"ticks\":\"\"},\"colorscale\":[[0.0,\"#0d0887\"],[0.1111111111111111,\"#46039f\"],[0.2222222222222222,\"#7201a8\"],[0.3333333333333333,\"#9c179e\"],[0.4444444444444444,\"#bd3786\"],[0.5555555555555556,\"#d8576b\"],[0.6666666666666666,\"#ed7953\"],[0.7777777777777778,\"#fb9f3a\"],[0.8888888888888888,\"#fdca26\"],[1.0,\"#f0f921\"]],\"type\":\"heatmapgl\"}],\"heatmap\":[{\"colorbar\":{\"outlinewidth\":0,\"ticks\":\"\"},\"colorscale\":[[0.0,\"#0d0887\"],[0.1111111111111111,\"#46039f\"],[0.2222222222222222,\"#7201a8\"],[0.3333333333333333,\"#9c179e\"],[0.4444444444444444,\"#bd3786\"],[0.5555555555555556,\"#d8576b\"],[0.6666666666666666,\"#ed7953\"],[0.7777777777777778,\"#fb9f3a\"],[0.8888888888888888,\"#fdca26\"],[1.0,\"#f0f921\"]],\"type\":\"heatmap\"}],\"histogram2dcontour\":[{\"colorbar\":{\"outlinewidth\":0,\"ticks\":\"\"},\"colorscale\":[[0.0,\"#0d0887\"],[0.1111111111111111,\"#46039f\"],[0.2222222222222222,\"#7201a8\"],[0.3333333333333333,\"#9c179e\"],[0.4444444444444444,\"#bd3786\"],[0.5555555555555556,\"#d8576b\"],[0.6666666666666666,\"#ed7953\"],[0.7777777777777778,\"#fb9f3a\"],[0.8888888888888888,\"#fdca26\"],[1.0,\"#f0f921\"]],\"type\":\"histogram2dcontour\"}],\"histogram2d\":[{\"colorbar\":{\"outlinewidth\":0,\"ticks\":\"\"},\"colorscale\":[[0.0,\"#0d0887\"],[0.1111111111111111,\"#46039f\"],[0.2222222222222222,\"#7201a8\"],[0.3333333333333333,\"#9c179e\"],[0.4444444444444444,\"#bd3786\"],[0.5555555555555556,\"#d8576b\"],[0.6666666666666666,\"#ed7953\"],[0.7777777777777778,\"#fb9f3a\"],[0.8888888888888888,\"#fdca26\"],[1.0,\"#f0f921\"]],\"type\":\"histogram2d\"}],\"histogram\":[{\"marker\":{\"pattern\":{\"fillmode\":\"overlay\",\"size\":10,\"solidity\":0.2}},\"type\":\"histogram\"}],\"mesh3d\":[{\"colorbar\":{\"outlinewidth\":0,\"ticks\":\"\"},\"type\":\"mesh3d\"}],\"parcoords\":[{\"line\":{\"colorbar\":{\"outlinewidth\":0,\"ticks\":\"\"}},\"type\":\"parcoords\"}],\"pie\":[{\"automargin\":true,\"type\":\"pie\"}],\"scatter3d\":[{\"line\":{\"colorbar\":{\"outlinewidth\":0,\"ticks\":\"\"}},\"marker\":{\"colorbar\":{\"outlinewidth\":0,\"ticks\":\"\"}},\"type\":\"scatter3d\"}],\"scattercarpet\":[{\"marker\":{\"colorbar\":{\"outlinewidth\":0,\"ticks\":\"\"}},\"type\":\"scattercarpet\"}],\"scattergeo\":[{\"marker\":{\"colorbar\":{\"outlinewidth\":0,\"ticks\":\"\"}},\"type\":\"scattergeo\"}],\"scattergl\":[{\"marker\":{\"colorbar\":{\"outlinewidth\":0,\"ticks\":\"\"}},\"type\":\"scattergl\"}],\"scattermapbox\":[{\"marker\":{\"colorbar\":{\"outlinewidth\":0,\"ticks\":\"\"}},\"type\":\"scattermapbox\"}],\"scatterpolargl\":[{\"marker\":{\"colorbar\":{\"outlinewidth\":0,\"ticks\":\"\"}},\"type\":\"scatterpolargl\"}],\"scatterpolar\":[{\"marker\":{\"colorbar\":{\"outlinewidth\":0,\"ticks\":\"\"}},\"type\":\"scatterpolar\"}],\"scatter\":[{\"fillpattern\":{\"fillmode\":\"overlay\",\"size\":10,\"solidity\":0.2},\"type\":\"scatter\"}],\"scatterternary\":[{\"marker\":{\"colorbar\":{\"outlinewidth\":0,\"ticks\":\"\"}},\"type\":\"scatterternary\"}],\"surface\":[{\"colorbar\":{\"outlinewidth\":0,\"ticks\":\"\"},\"colorscale\":[[0.0,\"#0d0887\"],[0.1111111111111111,\"#46039f\"],[0.2222222222222222,\"#7201a8\"],[0.3333333333333333,\"#9c179e\"],[0.4444444444444444,\"#bd3786\"],[0.5555555555555556,\"#d8576b\"],[0.6666666666666666,\"#ed7953\"],[0.7777777777777778,\"#fb9f3a\"],[0.8888888888888888,\"#fdca26\"],[1.0,\"#f0f921\"]],\"type\":\"surface\"}],\"table\":[{\"cells\":{\"fill\":{\"color\":\"#EBF0F8\"},\"line\":{\"color\":\"white\"}},\"header\":{\"fill\":{\"color\":\"#C8D4E3\"},\"line\":{\"color\":\"white\"}},\"type\":\"table\"}]},\"layout\":{\"annotationdefaults\":{\"arrowcolor\":\"#2a3f5f\",\"arrowhead\":0,\"arrowwidth\":1},\"autotypenumbers\":\"strict\",\"coloraxis\":{\"colorbar\":{\"outlinewidth\":0,\"ticks\":\"\"}},\"colorscale\":{\"diverging\":[[0,\"#8e0152\"],[0.1,\"#c51b7d\"],[0.2,\"#de77ae\"],[0.3,\"#f1b6da\"],[0.4,\"#fde0ef\"],[0.5,\"#f7f7f7\"],[0.6,\"#e6f5d0\"],[0.7,\"#b8e186\"],[0.8,\"#7fbc41\"],[0.9,\"#4d9221\"],[1,\"#276419\"]],\"sequential\":[[0.0,\"#0d0887\"],[0.1111111111111111,\"#46039f\"],[0.2222222222222222,\"#7201a8\"],[0.3333333333333333,\"#9c179e\"],[0.4444444444444444,\"#bd3786\"],[0.5555555555555556,\"#d8576b\"],[0.6666666666666666,\"#ed7953\"],[0.7777777777777778,\"#fb9f3a\"],[0.8888888888888888,\"#fdca26\"],[1.0,\"#f0f921\"]],\"sequentialminus\":[[0.0,\"#0d0887\"],[0.1111111111111111,\"#46039f\"],[0.2222222222222222,\"#7201a8\"],[0.3333333333333333,\"#9c179e\"],[0.4444444444444444,\"#bd3786\"],[0.5555555555555556,\"#d8576b\"],[0.6666666666666666,\"#ed7953\"],[0.7777777777777778,\"#fb9f3a\"],[0.8888888888888888,\"#fdca26\"],[1.0,\"#f0f921\"]]},\"colorway\":[\"#636efa\",\"#EF553B\",\"#00cc96\",\"#ab63fa\",\"#FFA15A\",\"#19d3f3\",\"#FF6692\",\"#B6E880\",\"#FF97FF\",\"#FECB52\"],\"font\":{\"color\":\"#2a3f5f\"},\"geo\":{\"bgcolor\":\"white\",\"lakecolor\":\"white\",\"landcolor\":\"#E5ECF6\",\"showlakes\":true,\"showland\":true,\"subunitcolor\":\"white\"},\"hoverlabel\":{\"align\":\"left\"},\"hovermode\":\"closest\",\"mapbox\":{\"style\":\"light\"},\"paper_bgcolor\":\"white\",\"plot_bgcolor\":\"#E5ECF6\",\"polar\":{\"angularaxis\":{\"gridcolor\":\"white\",\"linecolor\":\"white\",\"ticks\":\"\"},\"bgcolor\":\"#E5ECF6\",\"radialaxis\":{\"gridcolor\":\"white\",\"linecolor\":\"white\",\"ticks\":\"\"}},\"scene\":{\"xaxis\":{\"backgroundcolor\":\"#E5ECF6\",\"gridcolor\":\"white\",\"gridwidth\":2,\"linecolor\":\"white\",\"showbackground\":true,\"ticks\":\"\",\"zerolinecolor\":\"white\"},\"yaxis\":{\"backgroundcolor\":\"#E5ECF6\",\"gridcolor\":\"white\",\"gridwidth\":2,\"linecolor\":\"white\",\"showbackground\":true,\"ticks\":\"\",\"zerolinecolor\":\"white\"},\"zaxis\":{\"backgroundcolor\":\"#E5ECF6\",\"gridcolor\":\"white\",\"gridwidth\":2,\"linecolor\":\"white\",\"showbackground\":true,\"ticks\":\"\",\"zerolinecolor\":\"white\"}},\"shapedefaults\":{\"line\":{\"color\":\"#2a3f5f\"}},\"ternary\":{\"aaxis\":{\"gridcolor\":\"white\",\"linecolor\":\"white\",\"ticks\":\"\"},\"baxis\":{\"gridcolor\":\"white\",\"linecolor\":\"white\",\"ticks\":\"\"},\"bgcolor\":\"#E5ECF6\",\"caxis\":{\"gridcolor\":\"white\",\"linecolor\":\"white\",\"ticks\":\"\"}},\"title\":{\"x\":0.05},\"xaxis\":{\"automargin\":true,\"gridcolor\":\"white\",\"linecolor\":\"white\",\"ticks\":\"\",\"title\":{\"standoff\":15},\"zerolinecolor\":\"white\",\"zerolinewidth\":2},\"yaxis\":{\"automargin\":true,\"gridcolor\":\"white\",\"linecolor\":\"white\",\"ticks\":\"\",\"title\":{\"standoff\":15},\"zerolinecolor\":\"white\",\"zerolinewidth\":2}}},\"title\":{\"font\":{\"color\":\"#4D5663\"}},\"xaxis\":{\"gridcolor\":\"#E1E5ED\",\"showgrid\":true,\"tickfont\":{\"color\":\"#4D5663\"},\"title\":{\"font\":{\"color\":\"#4D5663\"},\"text\":\"\"},\"zerolinecolor\":\"#E1E5ED\"},\"yaxis\":{\"gridcolor\":\"#E1E5ED\",\"showgrid\":true,\"tickfont\":{\"color\":\"#4D5663\"},\"title\":{\"font\":{\"color\":\"#4D5663\"},\"text\":\"\"},\"zerolinecolor\":\"#E1E5ED\"}},                        {\"showLink\": true, \"linkText\": \"Export to plot.ly\", \"plotlyServerURL\": \"https://plot.ly\", \"responsive\": true}                    ).then(function(){\n",
       "                            \n",
       "var gd = document.getElementById('f8ebb4ec-cd1e-40e2-b573-420bac6e41b6');\n",
       "var x = new MutationObserver(function (mutations, observer) {{\n",
       "        var display = window.getComputedStyle(gd).display;\n",
       "        if (!display || display === 'none') {{\n",
       "            console.log([gd, 'removed!']);\n",
       "            Plotly.purge(gd);\n",
       "            observer.disconnect();\n",
       "        }}\n",
       "}});\n",
       "\n",
       "// Listen for the removal of the full notebook cells\n",
       "var notebookContainer = gd.closest('#notebook-container');\n",
       "if (notebookContainer) {{\n",
       "    x.observe(notebookContainer, {childList: true});\n",
       "}}\n",
       "\n",
       "// Listen for the clearing of the current output cell\n",
       "var outputEl = gd.closest('.output');\n",
       "if (outputEl) {{\n",
       "    x.observe(outputEl, {childList: true});\n",
       "}}\n",
       "\n",
       "                        })                };                });            </script>        </div>"
      ]
     },
     "metadata": {},
     "output_type": "display_data"
    }
   ],
   "source": [
    "df.iplot(kind='bar',x='A',y='B')"
   ]
  },
  {
   "cell_type": "code",
   "execution_count": 64,
   "id": "b0c36221",
   "metadata": {},
   "outputs": [
    {
     "data": {
      "text/html": [
       "<div>\n",
       "<style scoped>\n",
       "    .dataframe tbody tr th:only-of-type {\n",
       "        vertical-align: middle;\n",
       "    }\n",
       "\n",
       "    .dataframe tbody tr th {\n",
       "        vertical-align: top;\n",
       "    }\n",
       "\n",
       "    .dataframe thead th {\n",
       "        text-align: right;\n",
       "    }\n",
       "</style>\n",
       "<table border=\"1\" class=\"dataframe\">\n",
       "  <thead>\n",
       "    <tr style=\"text-align: right;\">\n",
       "      <th></th>\n",
       "      <th>A</th>\n",
       "      <th>B</th>\n",
       "      <th>C</th>\n",
       "      <th>D</th>\n",
       "    </tr>\n",
       "  </thead>\n",
       "  <tbody>\n",
       "    <tr>\n",
       "      <th>0</th>\n",
       "      <td>1.618534</td>\n",
       "      <td>0.245557</td>\n",
       "      <td>-0.764482</td>\n",
       "      <td>0.274465</td>\n",
       "    </tr>\n",
       "    <tr>\n",
       "      <th>1</th>\n",
       "      <td>1.184836</td>\n",
       "      <td>-0.563813</td>\n",
       "      <td>-0.166278</td>\n",
       "      <td>0.305052</td>\n",
       "    </tr>\n",
       "    <tr>\n",
       "      <th>2</th>\n",
       "      <td>1.067627</td>\n",
       "      <td>0.158380</td>\n",
       "      <td>0.476738</td>\n",
       "      <td>0.955284</td>\n",
       "    </tr>\n",
       "    <tr>\n",
       "      <th>3</th>\n",
       "      <td>0.628958</td>\n",
       "      <td>0.025965</td>\n",
       "      <td>1.493643</td>\n",
       "      <td>-1.587736</td>\n",
       "    </tr>\n",
       "    <tr>\n",
       "      <th>4</th>\n",
       "      <td>-0.073172</td>\n",
       "      <td>1.026169</td>\n",
       "      <td>-0.225431</td>\n",
       "      <td>-1.982967</td>\n",
       "    </tr>\n",
       "    <tr>\n",
       "      <th>...</th>\n",
       "      <td>...</td>\n",
       "      <td>...</td>\n",
       "      <td>...</td>\n",
       "      <td>...</td>\n",
       "    </tr>\n",
       "    <tr>\n",
       "      <th>95</th>\n",
       "      <td>2.391248</td>\n",
       "      <td>-0.036919</td>\n",
       "      <td>-0.641119</td>\n",
       "      <td>0.095864</td>\n",
       "    </tr>\n",
       "    <tr>\n",
       "      <th>96</th>\n",
       "      <td>-0.035926</td>\n",
       "      <td>0.487317</td>\n",
       "      <td>0.112251</td>\n",
       "      <td>0.574974</td>\n",
       "    </tr>\n",
       "    <tr>\n",
       "      <th>97</th>\n",
       "      <td>0.399335</td>\n",
       "      <td>0.202822</td>\n",
       "      <td>-0.316104</td>\n",
       "      <td>0.262977</td>\n",
       "    </tr>\n",
       "    <tr>\n",
       "      <th>98</th>\n",
       "      <td>0.504155</td>\n",
       "      <td>-0.092454</td>\n",
       "      <td>0.361343</td>\n",
       "      <td>1.459671</td>\n",
       "    </tr>\n",
       "    <tr>\n",
       "      <th>99</th>\n",
       "      <td>-2.453179</td>\n",
       "      <td>-1.719684</td>\n",
       "      <td>1.064898</td>\n",
       "      <td>0.563817</td>\n",
       "    </tr>\n",
       "  </tbody>\n",
       "</table>\n",
       "<p>100 rows × 4 columns</p>\n",
       "</div>"
      ],
      "text/plain": [
       "           A         B         C         D\n",
       "0   1.618534  0.245557 -0.764482  0.274465\n",
       "1   1.184836 -0.563813 -0.166278  0.305052\n",
       "2   1.067627  0.158380  0.476738  0.955284\n",
       "3   0.628958  0.025965  1.493643 -1.587736\n",
       "4  -0.073172  1.026169 -0.225431 -1.982967\n",
       "..       ...       ...       ...       ...\n",
       "95  2.391248 -0.036919 -0.641119  0.095864\n",
       "96 -0.035926  0.487317  0.112251  0.574974\n",
       "97  0.399335  0.202822 -0.316104  0.262977\n",
       "98  0.504155 -0.092454  0.361343  1.459671\n",
       "99 -2.453179 -1.719684  1.064898  0.563817\n",
       "\n",
       "[100 rows x 4 columns]"
      ]
     },
     "execution_count": 64,
     "metadata": {},
     "output_type": "execute_result"
    }
   ],
   "source": [
    "df"
   ]
  },
  {
   "cell_type": "code",
   "execution_count": 65,
   "id": "5e6b6365",
   "metadata": {},
   "outputs": [
    {
     "data": {
      "application/vnd.plotly.v1+json": {
       "config": {
        "linkText": "Export to plot.ly",
        "plotlyServerURL": "https://plot.ly",
        "showLink": true
       },
       "data": [
        {
         "marker": {
          "color": "rgba(255, 153, 51, 0.6)",
          "line": {
           "color": "rgba(255, 153, 51, 1.0)",
           "width": 1
          }
         },
         "name": "None",
         "orientation": "v",
         "text": "",
         "type": "bar",
         "x": [
          "A",
          "B",
          "C",
          "D"
         ],
         "y": [
          100,
          100,
          100,
          100
         ]
        }
       ],
       "layout": {
        "legend": {
         "bgcolor": "#F5F6F9",
         "font": {
          "color": "#4D5663"
         }
        },
        "paper_bgcolor": "#F5F6F9",
        "plot_bgcolor": "#F5F6F9",
        "template": {
         "data": {
          "bar": [
           {
            "error_x": {
             "color": "#2a3f5f"
            },
            "error_y": {
             "color": "#2a3f5f"
            },
            "marker": {
             "line": {
              "color": "#E5ECF6",
              "width": 0.5
             },
             "pattern": {
              "fillmode": "overlay",
              "size": 10,
              "solidity": 0.2
             }
            },
            "type": "bar"
           }
          ],
          "barpolar": [
           {
            "marker": {
             "line": {
              "color": "#E5ECF6",
              "width": 0.5
             },
             "pattern": {
              "fillmode": "overlay",
              "size": 10,
              "solidity": 0.2
             }
            },
            "type": "barpolar"
           }
          ],
          "carpet": [
           {
            "aaxis": {
             "endlinecolor": "#2a3f5f",
             "gridcolor": "white",
             "linecolor": "white",
             "minorgridcolor": "white",
             "startlinecolor": "#2a3f5f"
            },
            "baxis": {
             "endlinecolor": "#2a3f5f",
             "gridcolor": "white",
             "linecolor": "white",
             "minorgridcolor": "white",
             "startlinecolor": "#2a3f5f"
            },
            "type": "carpet"
           }
          ],
          "choropleth": [
           {
            "colorbar": {
             "outlinewidth": 0,
             "ticks": ""
            },
            "type": "choropleth"
           }
          ],
          "contour": [
           {
            "colorbar": {
             "outlinewidth": 0,
             "ticks": ""
            },
            "colorscale": [
             [
              0,
              "#0d0887"
             ],
             [
              0.1111111111111111,
              "#46039f"
             ],
             [
              0.2222222222222222,
              "#7201a8"
             ],
             [
              0.3333333333333333,
              "#9c179e"
             ],
             [
              0.4444444444444444,
              "#bd3786"
             ],
             [
              0.5555555555555556,
              "#d8576b"
             ],
             [
              0.6666666666666666,
              "#ed7953"
             ],
             [
              0.7777777777777778,
              "#fb9f3a"
             ],
             [
              0.8888888888888888,
              "#fdca26"
             ],
             [
              1,
              "#f0f921"
             ]
            ],
            "type": "contour"
           }
          ],
          "contourcarpet": [
           {
            "colorbar": {
             "outlinewidth": 0,
             "ticks": ""
            },
            "type": "contourcarpet"
           }
          ],
          "heatmap": [
           {
            "colorbar": {
             "outlinewidth": 0,
             "ticks": ""
            },
            "colorscale": [
             [
              0,
              "#0d0887"
             ],
             [
              0.1111111111111111,
              "#46039f"
             ],
             [
              0.2222222222222222,
              "#7201a8"
             ],
             [
              0.3333333333333333,
              "#9c179e"
             ],
             [
              0.4444444444444444,
              "#bd3786"
             ],
             [
              0.5555555555555556,
              "#d8576b"
             ],
             [
              0.6666666666666666,
              "#ed7953"
             ],
             [
              0.7777777777777778,
              "#fb9f3a"
             ],
             [
              0.8888888888888888,
              "#fdca26"
             ],
             [
              1,
              "#f0f921"
             ]
            ],
            "type": "heatmap"
           }
          ],
          "heatmapgl": [
           {
            "colorbar": {
             "outlinewidth": 0,
             "ticks": ""
            },
            "colorscale": [
             [
              0,
              "#0d0887"
             ],
             [
              0.1111111111111111,
              "#46039f"
             ],
             [
              0.2222222222222222,
              "#7201a8"
             ],
             [
              0.3333333333333333,
              "#9c179e"
             ],
             [
              0.4444444444444444,
              "#bd3786"
             ],
             [
              0.5555555555555556,
              "#d8576b"
             ],
             [
              0.6666666666666666,
              "#ed7953"
             ],
             [
              0.7777777777777778,
              "#fb9f3a"
             ],
             [
              0.8888888888888888,
              "#fdca26"
             ],
             [
              1,
              "#f0f921"
             ]
            ],
            "type": "heatmapgl"
           }
          ],
          "histogram": [
           {
            "marker": {
             "pattern": {
              "fillmode": "overlay",
              "size": 10,
              "solidity": 0.2
             }
            },
            "type": "histogram"
           }
          ],
          "histogram2d": [
           {
            "colorbar": {
             "outlinewidth": 0,
             "ticks": ""
            },
            "colorscale": [
             [
              0,
              "#0d0887"
             ],
             [
              0.1111111111111111,
              "#46039f"
             ],
             [
              0.2222222222222222,
              "#7201a8"
             ],
             [
              0.3333333333333333,
              "#9c179e"
             ],
             [
              0.4444444444444444,
              "#bd3786"
             ],
             [
              0.5555555555555556,
              "#d8576b"
             ],
             [
              0.6666666666666666,
              "#ed7953"
             ],
             [
              0.7777777777777778,
              "#fb9f3a"
             ],
             [
              0.8888888888888888,
              "#fdca26"
             ],
             [
              1,
              "#f0f921"
             ]
            ],
            "type": "histogram2d"
           }
          ],
          "histogram2dcontour": [
           {
            "colorbar": {
             "outlinewidth": 0,
             "ticks": ""
            },
            "colorscale": [
             [
              0,
              "#0d0887"
             ],
             [
              0.1111111111111111,
              "#46039f"
             ],
             [
              0.2222222222222222,
              "#7201a8"
             ],
             [
              0.3333333333333333,
              "#9c179e"
             ],
             [
              0.4444444444444444,
              "#bd3786"
             ],
             [
              0.5555555555555556,
              "#d8576b"
             ],
             [
              0.6666666666666666,
              "#ed7953"
             ],
             [
              0.7777777777777778,
              "#fb9f3a"
             ],
             [
              0.8888888888888888,
              "#fdca26"
             ],
             [
              1,
              "#f0f921"
             ]
            ],
            "type": "histogram2dcontour"
           }
          ],
          "mesh3d": [
           {
            "colorbar": {
             "outlinewidth": 0,
             "ticks": ""
            },
            "type": "mesh3d"
           }
          ],
          "parcoords": [
           {
            "line": {
             "colorbar": {
              "outlinewidth": 0,
              "ticks": ""
             }
            },
            "type": "parcoords"
           }
          ],
          "pie": [
           {
            "automargin": true,
            "type": "pie"
           }
          ],
          "scatter": [
           {
            "fillpattern": {
             "fillmode": "overlay",
             "size": 10,
             "solidity": 0.2
            },
            "type": "scatter"
           }
          ],
          "scatter3d": [
           {
            "line": {
             "colorbar": {
              "outlinewidth": 0,
              "ticks": ""
             }
            },
            "marker": {
             "colorbar": {
              "outlinewidth": 0,
              "ticks": ""
             }
            },
            "type": "scatter3d"
           }
          ],
          "scattercarpet": [
           {
            "marker": {
             "colorbar": {
              "outlinewidth": 0,
              "ticks": ""
             }
            },
            "type": "scattercarpet"
           }
          ],
          "scattergeo": [
           {
            "marker": {
             "colorbar": {
              "outlinewidth": 0,
              "ticks": ""
             }
            },
            "type": "scattergeo"
           }
          ],
          "scattergl": [
           {
            "marker": {
             "colorbar": {
              "outlinewidth": 0,
              "ticks": ""
             }
            },
            "type": "scattergl"
           }
          ],
          "scattermapbox": [
           {
            "marker": {
             "colorbar": {
              "outlinewidth": 0,
              "ticks": ""
             }
            },
            "type": "scattermapbox"
           }
          ],
          "scatterpolar": [
           {
            "marker": {
             "colorbar": {
              "outlinewidth": 0,
              "ticks": ""
             }
            },
            "type": "scatterpolar"
           }
          ],
          "scatterpolargl": [
           {
            "marker": {
             "colorbar": {
              "outlinewidth": 0,
              "ticks": ""
             }
            },
            "type": "scatterpolargl"
           }
          ],
          "scatterternary": [
           {
            "marker": {
             "colorbar": {
              "outlinewidth": 0,
              "ticks": ""
             }
            },
            "type": "scatterternary"
           }
          ],
          "surface": [
           {
            "colorbar": {
             "outlinewidth": 0,
             "ticks": ""
            },
            "colorscale": [
             [
              0,
              "#0d0887"
             ],
             [
              0.1111111111111111,
              "#46039f"
             ],
             [
              0.2222222222222222,
              "#7201a8"
             ],
             [
              0.3333333333333333,
              "#9c179e"
             ],
             [
              0.4444444444444444,
              "#bd3786"
             ],
             [
              0.5555555555555556,
              "#d8576b"
             ],
             [
              0.6666666666666666,
              "#ed7953"
             ],
             [
              0.7777777777777778,
              "#fb9f3a"
             ],
             [
              0.8888888888888888,
              "#fdca26"
             ],
             [
              1,
              "#f0f921"
             ]
            ],
            "type": "surface"
           }
          ],
          "table": [
           {
            "cells": {
             "fill": {
              "color": "#EBF0F8"
             },
             "line": {
              "color": "white"
             }
            },
            "header": {
             "fill": {
              "color": "#C8D4E3"
             },
             "line": {
              "color": "white"
             }
            },
            "type": "table"
           }
          ]
         },
         "layout": {
          "annotationdefaults": {
           "arrowcolor": "#2a3f5f",
           "arrowhead": 0,
           "arrowwidth": 1
          },
          "autotypenumbers": "strict",
          "coloraxis": {
           "colorbar": {
            "outlinewidth": 0,
            "ticks": ""
           }
          },
          "colorscale": {
           "diverging": [
            [
             0,
             "#8e0152"
            ],
            [
             0.1,
             "#c51b7d"
            ],
            [
             0.2,
             "#de77ae"
            ],
            [
             0.3,
             "#f1b6da"
            ],
            [
             0.4,
             "#fde0ef"
            ],
            [
             0.5,
             "#f7f7f7"
            ],
            [
             0.6,
             "#e6f5d0"
            ],
            [
             0.7,
             "#b8e186"
            ],
            [
             0.8,
             "#7fbc41"
            ],
            [
             0.9,
             "#4d9221"
            ],
            [
             1,
             "#276419"
            ]
           ],
           "sequential": [
            [
             0,
             "#0d0887"
            ],
            [
             0.1111111111111111,
             "#46039f"
            ],
            [
             0.2222222222222222,
             "#7201a8"
            ],
            [
             0.3333333333333333,
             "#9c179e"
            ],
            [
             0.4444444444444444,
             "#bd3786"
            ],
            [
             0.5555555555555556,
             "#d8576b"
            ],
            [
             0.6666666666666666,
             "#ed7953"
            ],
            [
             0.7777777777777778,
             "#fb9f3a"
            ],
            [
             0.8888888888888888,
             "#fdca26"
            ],
            [
             1,
             "#f0f921"
            ]
           ],
           "sequentialminus": [
            [
             0,
             "#0d0887"
            ],
            [
             0.1111111111111111,
             "#46039f"
            ],
            [
             0.2222222222222222,
             "#7201a8"
            ],
            [
             0.3333333333333333,
             "#9c179e"
            ],
            [
             0.4444444444444444,
             "#bd3786"
            ],
            [
             0.5555555555555556,
             "#d8576b"
            ],
            [
             0.6666666666666666,
             "#ed7953"
            ],
            [
             0.7777777777777778,
             "#fb9f3a"
            ],
            [
             0.8888888888888888,
             "#fdca26"
            ],
            [
             1,
             "#f0f921"
            ]
           ]
          },
          "colorway": [
           "#636efa",
           "#EF553B",
           "#00cc96",
           "#ab63fa",
           "#FFA15A",
           "#19d3f3",
           "#FF6692",
           "#B6E880",
           "#FF97FF",
           "#FECB52"
          ],
          "font": {
           "color": "#2a3f5f"
          },
          "geo": {
           "bgcolor": "white",
           "lakecolor": "white",
           "landcolor": "#E5ECF6",
           "showlakes": true,
           "showland": true,
           "subunitcolor": "white"
          },
          "hoverlabel": {
           "align": "left"
          },
          "hovermode": "closest",
          "mapbox": {
           "style": "light"
          },
          "paper_bgcolor": "white",
          "plot_bgcolor": "#E5ECF6",
          "polar": {
           "angularaxis": {
            "gridcolor": "white",
            "linecolor": "white",
            "ticks": ""
           },
           "bgcolor": "#E5ECF6",
           "radialaxis": {
            "gridcolor": "white",
            "linecolor": "white",
            "ticks": ""
           }
          },
          "scene": {
           "xaxis": {
            "backgroundcolor": "#E5ECF6",
            "gridcolor": "white",
            "gridwidth": 2,
            "linecolor": "white",
            "showbackground": true,
            "ticks": "",
            "zerolinecolor": "white"
           },
           "yaxis": {
            "backgroundcolor": "#E5ECF6",
            "gridcolor": "white",
            "gridwidth": 2,
            "linecolor": "white",
            "showbackground": true,
            "ticks": "",
            "zerolinecolor": "white"
           },
           "zaxis": {
            "backgroundcolor": "#E5ECF6",
            "gridcolor": "white",
            "gridwidth": 2,
            "linecolor": "white",
            "showbackground": true,
            "ticks": "",
            "zerolinecolor": "white"
           }
          },
          "shapedefaults": {
           "line": {
            "color": "#2a3f5f"
           }
          },
          "ternary": {
           "aaxis": {
            "gridcolor": "white",
            "linecolor": "white",
            "ticks": ""
           },
           "baxis": {
            "gridcolor": "white",
            "linecolor": "white",
            "ticks": ""
           },
           "bgcolor": "#E5ECF6",
           "caxis": {
            "gridcolor": "white",
            "linecolor": "white",
            "ticks": ""
           }
          },
          "title": {
           "x": 0.05
          },
          "xaxis": {
           "automargin": true,
           "gridcolor": "white",
           "linecolor": "white",
           "ticks": "",
           "title": {
            "standoff": 15
           },
           "zerolinecolor": "white",
           "zerolinewidth": 2
          },
          "yaxis": {
           "automargin": true,
           "gridcolor": "white",
           "linecolor": "white",
           "ticks": "",
           "title": {
            "standoff": 15
           },
           "zerolinecolor": "white",
           "zerolinewidth": 2
          }
         }
        },
        "title": {
         "font": {
          "color": "#4D5663"
         }
        },
        "xaxis": {
         "gridcolor": "#E1E5ED",
         "showgrid": true,
         "tickfont": {
          "color": "#4D5663"
         },
         "title": {
          "font": {
           "color": "#4D5663"
          },
          "text": ""
         },
         "zerolinecolor": "#E1E5ED"
        },
        "yaxis": {
         "gridcolor": "#E1E5ED",
         "showgrid": true,
         "tickfont": {
          "color": "#4D5663"
         },
         "title": {
          "font": {
           "color": "#4D5663"
          },
          "text": ""
         },
         "zerolinecolor": "#E1E5ED"
        }
       }
      },
      "text/html": [
       "<div>                            <div id=\"ec8e581d-3847-4495-9ecf-216649e8a6d4\" class=\"plotly-graph-div\" style=\"height:525px; width:100%;\"></div>            <script type=\"text/javascript\">                require([\"plotly\"], function(Plotly) {                    window.PLOTLYENV=window.PLOTLYENV || {};\n",
       "                    window.PLOTLYENV.BASE_URL='https://plot.ly';                                    if (document.getElementById(\"ec8e581d-3847-4495-9ecf-216649e8a6d4\")) {                    Plotly.newPlot(                        \"ec8e581d-3847-4495-9ecf-216649e8a6d4\",                        [{\"marker\":{\"color\":\"rgba(255, 153, 51, 0.6)\",\"line\":{\"color\":\"rgba(255, 153, 51, 1.0)\",\"width\":1}},\"name\":\"None\",\"orientation\":\"v\",\"text\":\"\",\"x\":[\"A\",\"B\",\"C\",\"D\"],\"y\":[100,100,100,100],\"type\":\"bar\"}],                        {\"legend\":{\"bgcolor\":\"#F5F6F9\",\"font\":{\"color\":\"#4D5663\"}},\"paper_bgcolor\":\"#F5F6F9\",\"plot_bgcolor\":\"#F5F6F9\",\"template\":{\"data\":{\"barpolar\":[{\"marker\":{\"line\":{\"color\":\"#E5ECF6\",\"width\":0.5},\"pattern\":{\"fillmode\":\"overlay\",\"size\":10,\"solidity\":0.2}},\"type\":\"barpolar\"}],\"bar\":[{\"error_x\":{\"color\":\"#2a3f5f\"},\"error_y\":{\"color\":\"#2a3f5f\"},\"marker\":{\"line\":{\"color\":\"#E5ECF6\",\"width\":0.5},\"pattern\":{\"fillmode\":\"overlay\",\"size\":10,\"solidity\":0.2}},\"type\":\"bar\"}],\"carpet\":[{\"aaxis\":{\"endlinecolor\":\"#2a3f5f\",\"gridcolor\":\"white\",\"linecolor\":\"white\",\"minorgridcolor\":\"white\",\"startlinecolor\":\"#2a3f5f\"},\"baxis\":{\"endlinecolor\":\"#2a3f5f\",\"gridcolor\":\"white\",\"linecolor\":\"white\",\"minorgridcolor\":\"white\",\"startlinecolor\":\"#2a3f5f\"},\"type\":\"carpet\"}],\"choropleth\":[{\"colorbar\":{\"outlinewidth\":0,\"ticks\":\"\"},\"type\":\"choropleth\"}],\"contourcarpet\":[{\"colorbar\":{\"outlinewidth\":0,\"ticks\":\"\"},\"type\":\"contourcarpet\"}],\"contour\":[{\"colorbar\":{\"outlinewidth\":0,\"ticks\":\"\"},\"colorscale\":[[0.0,\"#0d0887\"],[0.1111111111111111,\"#46039f\"],[0.2222222222222222,\"#7201a8\"],[0.3333333333333333,\"#9c179e\"],[0.4444444444444444,\"#bd3786\"],[0.5555555555555556,\"#d8576b\"],[0.6666666666666666,\"#ed7953\"],[0.7777777777777778,\"#fb9f3a\"],[0.8888888888888888,\"#fdca26\"],[1.0,\"#f0f921\"]],\"type\":\"contour\"}],\"heatmapgl\":[{\"colorbar\":{\"outlinewidth\":0,\"ticks\":\"\"},\"colorscale\":[[0.0,\"#0d0887\"],[0.1111111111111111,\"#46039f\"],[0.2222222222222222,\"#7201a8\"],[0.3333333333333333,\"#9c179e\"],[0.4444444444444444,\"#bd3786\"],[0.5555555555555556,\"#d8576b\"],[0.6666666666666666,\"#ed7953\"],[0.7777777777777778,\"#fb9f3a\"],[0.8888888888888888,\"#fdca26\"],[1.0,\"#f0f921\"]],\"type\":\"heatmapgl\"}],\"heatmap\":[{\"colorbar\":{\"outlinewidth\":0,\"ticks\":\"\"},\"colorscale\":[[0.0,\"#0d0887\"],[0.1111111111111111,\"#46039f\"],[0.2222222222222222,\"#7201a8\"],[0.3333333333333333,\"#9c179e\"],[0.4444444444444444,\"#bd3786\"],[0.5555555555555556,\"#d8576b\"],[0.6666666666666666,\"#ed7953\"],[0.7777777777777778,\"#fb9f3a\"],[0.8888888888888888,\"#fdca26\"],[1.0,\"#f0f921\"]],\"type\":\"heatmap\"}],\"histogram2dcontour\":[{\"colorbar\":{\"outlinewidth\":0,\"ticks\":\"\"},\"colorscale\":[[0.0,\"#0d0887\"],[0.1111111111111111,\"#46039f\"],[0.2222222222222222,\"#7201a8\"],[0.3333333333333333,\"#9c179e\"],[0.4444444444444444,\"#bd3786\"],[0.5555555555555556,\"#d8576b\"],[0.6666666666666666,\"#ed7953\"],[0.7777777777777778,\"#fb9f3a\"],[0.8888888888888888,\"#fdca26\"],[1.0,\"#f0f921\"]],\"type\":\"histogram2dcontour\"}],\"histogram2d\":[{\"colorbar\":{\"outlinewidth\":0,\"ticks\":\"\"},\"colorscale\":[[0.0,\"#0d0887\"],[0.1111111111111111,\"#46039f\"],[0.2222222222222222,\"#7201a8\"],[0.3333333333333333,\"#9c179e\"],[0.4444444444444444,\"#bd3786\"],[0.5555555555555556,\"#d8576b\"],[0.6666666666666666,\"#ed7953\"],[0.7777777777777778,\"#fb9f3a\"],[0.8888888888888888,\"#fdca26\"],[1.0,\"#f0f921\"]],\"type\":\"histogram2d\"}],\"histogram\":[{\"marker\":{\"pattern\":{\"fillmode\":\"overlay\",\"size\":10,\"solidity\":0.2}},\"type\":\"histogram\"}],\"mesh3d\":[{\"colorbar\":{\"outlinewidth\":0,\"ticks\":\"\"},\"type\":\"mesh3d\"}],\"parcoords\":[{\"line\":{\"colorbar\":{\"outlinewidth\":0,\"ticks\":\"\"}},\"type\":\"parcoords\"}],\"pie\":[{\"automargin\":true,\"type\":\"pie\"}],\"scatter3d\":[{\"line\":{\"colorbar\":{\"outlinewidth\":0,\"ticks\":\"\"}},\"marker\":{\"colorbar\":{\"outlinewidth\":0,\"ticks\":\"\"}},\"type\":\"scatter3d\"}],\"scattercarpet\":[{\"marker\":{\"colorbar\":{\"outlinewidth\":0,\"ticks\":\"\"}},\"type\":\"scattercarpet\"}],\"scattergeo\":[{\"marker\":{\"colorbar\":{\"outlinewidth\":0,\"ticks\":\"\"}},\"type\":\"scattergeo\"}],\"scattergl\":[{\"marker\":{\"colorbar\":{\"outlinewidth\":0,\"ticks\":\"\"}},\"type\":\"scattergl\"}],\"scattermapbox\":[{\"marker\":{\"colorbar\":{\"outlinewidth\":0,\"ticks\":\"\"}},\"type\":\"scattermapbox\"}],\"scatterpolargl\":[{\"marker\":{\"colorbar\":{\"outlinewidth\":0,\"ticks\":\"\"}},\"type\":\"scatterpolargl\"}],\"scatterpolar\":[{\"marker\":{\"colorbar\":{\"outlinewidth\":0,\"ticks\":\"\"}},\"type\":\"scatterpolar\"}],\"scatter\":[{\"fillpattern\":{\"fillmode\":\"overlay\",\"size\":10,\"solidity\":0.2},\"type\":\"scatter\"}],\"scatterternary\":[{\"marker\":{\"colorbar\":{\"outlinewidth\":0,\"ticks\":\"\"}},\"type\":\"scatterternary\"}],\"surface\":[{\"colorbar\":{\"outlinewidth\":0,\"ticks\":\"\"},\"colorscale\":[[0.0,\"#0d0887\"],[0.1111111111111111,\"#46039f\"],[0.2222222222222222,\"#7201a8\"],[0.3333333333333333,\"#9c179e\"],[0.4444444444444444,\"#bd3786\"],[0.5555555555555556,\"#d8576b\"],[0.6666666666666666,\"#ed7953\"],[0.7777777777777778,\"#fb9f3a\"],[0.8888888888888888,\"#fdca26\"],[1.0,\"#f0f921\"]],\"type\":\"surface\"}],\"table\":[{\"cells\":{\"fill\":{\"color\":\"#EBF0F8\"},\"line\":{\"color\":\"white\"}},\"header\":{\"fill\":{\"color\":\"#C8D4E3\"},\"line\":{\"color\":\"white\"}},\"type\":\"table\"}]},\"layout\":{\"annotationdefaults\":{\"arrowcolor\":\"#2a3f5f\",\"arrowhead\":0,\"arrowwidth\":1},\"autotypenumbers\":\"strict\",\"coloraxis\":{\"colorbar\":{\"outlinewidth\":0,\"ticks\":\"\"}},\"colorscale\":{\"diverging\":[[0,\"#8e0152\"],[0.1,\"#c51b7d\"],[0.2,\"#de77ae\"],[0.3,\"#f1b6da\"],[0.4,\"#fde0ef\"],[0.5,\"#f7f7f7\"],[0.6,\"#e6f5d0\"],[0.7,\"#b8e186\"],[0.8,\"#7fbc41\"],[0.9,\"#4d9221\"],[1,\"#276419\"]],\"sequential\":[[0.0,\"#0d0887\"],[0.1111111111111111,\"#46039f\"],[0.2222222222222222,\"#7201a8\"],[0.3333333333333333,\"#9c179e\"],[0.4444444444444444,\"#bd3786\"],[0.5555555555555556,\"#d8576b\"],[0.6666666666666666,\"#ed7953\"],[0.7777777777777778,\"#fb9f3a\"],[0.8888888888888888,\"#fdca26\"],[1.0,\"#f0f921\"]],\"sequentialminus\":[[0.0,\"#0d0887\"],[0.1111111111111111,\"#46039f\"],[0.2222222222222222,\"#7201a8\"],[0.3333333333333333,\"#9c179e\"],[0.4444444444444444,\"#bd3786\"],[0.5555555555555556,\"#d8576b\"],[0.6666666666666666,\"#ed7953\"],[0.7777777777777778,\"#fb9f3a\"],[0.8888888888888888,\"#fdca26\"],[1.0,\"#f0f921\"]]},\"colorway\":[\"#636efa\",\"#EF553B\",\"#00cc96\",\"#ab63fa\",\"#FFA15A\",\"#19d3f3\",\"#FF6692\",\"#B6E880\",\"#FF97FF\",\"#FECB52\"],\"font\":{\"color\":\"#2a3f5f\"},\"geo\":{\"bgcolor\":\"white\",\"lakecolor\":\"white\",\"landcolor\":\"#E5ECF6\",\"showlakes\":true,\"showland\":true,\"subunitcolor\":\"white\"},\"hoverlabel\":{\"align\":\"left\"},\"hovermode\":\"closest\",\"mapbox\":{\"style\":\"light\"},\"paper_bgcolor\":\"white\",\"plot_bgcolor\":\"#E5ECF6\",\"polar\":{\"angularaxis\":{\"gridcolor\":\"white\",\"linecolor\":\"white\",\"ticks\":\"\"},\"bgcolor\":\"#E5ECF6\",\"radialaxis\":{\"gridcolor\":\"white\",\"linecolor\":\"white\",\"ticks\":\"\"}},\"scene\":{\"xaxis\":{\"backgroundcolor\":\"#E5ECF6\",\"gridcolor\":\"white\",\"gridwidth\":2,\"linecolor\":\"white\",\"showbackground\":true,\"ticks\":\"\",\"zerolinecolor\":\"white\"},\"yaxis\":{\"backgroundcolor\":\"#E5ECF6\",\"gridcolor\":\"white\",\"gridwidth\":2,\"linecolor\":\"white\",\"showbackground\":true,\"ticks\":\"\",\"zerolinecolor\":\"white\"},\"zaxis\":{\"backgroundcolor\":\"#E5ECF6\",\"gridcolor\":\"white\",\"gridwidth\":2,\"linecolor\":\"white\",\"showbackground\":true,\"ticks\":\"\",\"zerolinecolor\":\"white\"}},\"shapedefaults\":{\"line\":{\"color\":\"#2a3f5f\"}},\"ternary\":{\"aaxis\":{\"gridcolor\":\"white\",\"linecolor\":\"white\",\"ticks\":\"\"},\"baxis\":{\"gridcolor\":\"white\",\"linecolor\":\"white\",\"ticks\":\"\"},\"bgcolor\":\"#E5ECF6\",\"caxis\":{\"gridcolor\":\"white\",\"linecolor\":\"white\",\"ticks\":\"\"}},\"title\":{\"x\":0.05},\"xaxis\":{\"automargin\":true,\"gridcolor\":\"white\",\"linecolor\":\"white\",\"ticks\":\"\",\"title\":{\"standoff\":15},\"zerolinecolor\":\"white\",\"zerolinewidth\":2},\"yaxis\":{\"automargin\":true,\"gridcolor\":\"white\",\"linecolor\":\"white\",\"ticks\":\"\",\"title\":{\"standoff\":15},\"zerolinecolor\":\"white\",\"zerolinewidth\":2}}},\"title\":{\"font\":{\"color\":\"#4D5663\"}},\"xaxis\":{\"gridcolor\":\"#E1E5ED\",\"showgrid\":true,\"tickfont\":{\"color\":\"#4D5663\"},\"title\":{\"font\":{\"color\":\"#4D5663\"},\"text\":\"\"},\"zerolinecolor\":\"#E1E5ED\"},\"yaxis\":{\"gridcolor\":\"#E1E5ED\",\"showgrid\":true,\"tickfont\":{\"color\":\"#4D5663\"},\"title\":{\"font\":{\"color\":\"#4D5663\"},\"text\":\"\"},\"zerolinecolor\":\"#E1E5ED\"}},                        {\"showLink\": true, \"linkText\": \"Export to plot.ly\", \"plotlyServerURL\": \"https://plot.ly\", \"responsive\": true}                    ).then(function(){\n",
       "                            \n",
       "var gd = document.getElementById('ec8e581d-3847-4495-9ecf-216649e8a6d4');\n",
       "var x = new MutationObserver(function (mutations, observer) {{\n",
       "        var display = window.getComputedStyle(gd).display;\n",
       "        if (!display || display === 'none') {{\n",
       "            console.log([gd, 'removed!']);\n",
       "            Plotly.purge(gd);\n",
       "            observer.disconnect();\n",
       "        }}\n",
       "}});\n",
       "\n",
       "// Listen for the removal of the full notebook cells\n",
       "var notebookContainer = gd.closest('#notebook-container');\n",
       "if (notebookContainer) {{\n",
       "    x.observe(notebookContainer, {childList: true});\n",
       "}}\n",
       "\n",
       "// Listen for the clearing of the current output cell\n",
       "var outputEl = gd.closest('.output');\n",
       "if (outputEl) {{\n",
       "    x.observe(outputEl, {childList: true});\n",
       "}}\n",
       "\n",
       "                        })                };                });            </script>        </div>"
      ]
     },
     "metadata": {},
     "output_type": "display_data"
    }
   ],
   "source": [
    "df.count().iplot(kind='bar')"
   ]
  },
  {
   "cell_type": "code",
   "execution_count": 66,
   "id": "530571b2",
   "metadata": {},
   "outputs": [
    {
     "data": {
      "application/vnd.plotly.v1+json": {
       "config": {
        "linkText": "Export to plot.ly",
        "plotlyServerURL": "https://plot.ly",
        "showLink": true
       },
       "data": [
        {
         "marker": {
          "color": "rgba(255, 153, 51, 0.6)",
          "line": {
           "color": "rgba(255, 153, 51, 1.0)",
           "width": 1
          }
         },
         "name": "None",
         "orientation": "v",
         "text": "",
         "type": "bar",
         "x": [
          "A",
          "B",
          "C",
          "D"
         ],
         "y": [
          -3.3447901409417296,
          11.50730644378576,
          3.4370146753184025,
          16.442157505356004
         ]
        }
       ],
       "layout": {
        "legend": {
         "bgcolor": "#F5F6F9",
         "font": {
          "color": "#4D5663"
         }
        },
        "paper_bgcolor": "#F5F6F9",
        "plot_bgcolor": "#F5F6F9",
        "template": {
         "data": {
          "bar": [
           {
            "error_x": {
             "color": "#2a3f5f"
            },
            "error_y": {
             "color": "#2a3f5f"
            },
            "marker": {
             "line": {
              "color": "#E5ECF6",
              "width": 0.5
             },
             "pattern": {
              "fillmode": "overlay",
              "size": 10,
              "solidity": 0.2
             }
            },
            "type": "bar"
           }
          ],
          "barpolar": [
           {
            "marker": {
             "line": {
              "color": "#E5ECF6",
              "width": 0.5
             },
             "pattern": {
              "fillmode": "overlay",
              "size": 10,
              "solidity": 0.2
             }
            },
            "type": "barpolar"
           }
          ],
          "carpet": [
           {
            "aaxis": {
             "endlinecolor": "#2a3f5f",
             "gridcolor": "white",
             "linecolor": "white",
             "minorgridcolor": "white",
             "startlinecolor": "#2a3f5f"
            },
            "baxis": {
             "endlinecolor": "#2a3f5f",
             "gridcolor": "white",
             "linecolor": "white",
             "minorgridcolor": "white",
             "startlinecolor": "#2a3f5f"
            },
            "type": "carpet"
           }
          ],
          "choropleth": [
           {
            "colorbar": {
             "outlinewidth": 0,
             "ticks": ""
            },
            "type": "choropleth"
           }
          ],
          "contour": [
           {
            "colorbar": {
             "outlinewidth": 0,
             "ticks": ""
            },
            "colorscale": [
             [
              0,
              "#0d0887"
             ],
             [
              0.1111111111111111,
              "#46039f"
             ],
             [
              0.2222222222222222,
              "#7201a8"
             ],
             [
              0.3333333333333333,
              "#9c179e"
             ],
             [
              0.4444444444444444,
              "#bd3786"
             ],
             [
              0.5555555555555556,
              "#d8576b"
             ],
             [
              0.6666666666666666,
              "#ed7953"
             ],
             [
              0.7777777777777778,
              "#fb9f3a"
             ],
             [
              0.8888888888888888,
              "#fdca26"
             ],
             [
              1,
              "#f0f921"
             ]
            ],
            "type": "contour"
           }
          ],
          "contourcarpet": [
           {
            "colorbar": {
             "outlinewidth": 0,
             "ticks": ""
            },
            "type": "contourcarpet"
           }
          ],
          "heatmap": [
           {
            "colorbar": {
             "outlinewidth": 0,
             "ticks": ""
            },
            "colorscale": [
             [
              0,
              "#0d0887"
             ],
             [
              0.1111111111111111,
              "#46039f"
             ],
             [
              0.2222222222222222,
              "#7201a8"
             ],
             [
              0.3333333333333333,
              "#9c179e"
             ],
             [
              0.4444444444444444,
              "#bd3786"
             ],
             [
              0.5555555555555556,
              "#d8576b"
             ],
             [
              0.6666666666666666,
              "#ed7953"
             ],
             [
              0.7777777777777778,
              "#fb9f3a"
             ],
             [
              0.8888888888888888,
              "#fdca26"
             ],
             [
              1,
              "#f0f921"
             ]
            ],
            "type": "heatmap"
           }
          ],
          "heatmapgl": [
           {
            "colorbar": {
             "outlinewidth": 0,
             "ticks": ""
            },
            "colorscale": [
             [
              0,
              "#0d0887"
             ],
             [
              0.1111111111111111,
              "#46039f"
             ],
             [
              0.2222222222222222,
              "#7201a8"
             ],
             [
              0.3333333333333333,
              "#9c179e"
             ],
             [
              0.4444444444444444,
              "#bd3786"
             ],
             [
              0.5555555555555556,
              "#d8576b"
             ],
             [
              0.6666666666666666,
              "#ed7953"
             ],
             [
              0.7777777777777778,
              "#fb9f3a"
             ],
             [
              0.8888888888888888,
              "#fdca26"
             ],
             [
              1,
              "#f0f921"
             ]
            ],
            "type": "heatmapgl"
           }
          ],
          "histogram": [
           {
            "marker": {
             "pattern": {
              "fillmode": "overlay",
              "size": 10,
              "solidity": 0.2
             }
            },
            "type": "histogram"
           }
          ],
          "histogram2d": [
           {
            "colorbar": {
             "outlinewidth": 0,
             "ticks": ""
            },
            "colorscale": [
             [
              0,
              "#0d0887"
             ],
             [
              0.1111111111111111,
              "#46039f"
             ],
             [
              0.2222222222222222,
              "#7201a8"
             ],
             [
              0.3333333333333333,
              "#9c179e"
             ],
             [
              0.4444444444444444,
              "#bd3786"
             ],
             [
              0.5555555555555556,
              "#d8576b"
             ],
             [
              0.6666666666666666,
              "#ed7953"
             ],
             [
              0.7777777777777778,
              "#fb9f3a"
             ],
             [
              0.8888888888888888,
              "#fdca26"
             ],
             [
              1,
              "#f0f921"
             ]
            ],
            "type": "histogram2d"
           }
          ],
          "histogram2dcontour": [
           {
            "colorbar": {
             "outlinewidth": 0,
             "ticks": ""
            },
            "colorscale": [
             [
              0,
              "#0d0887"
             ],
             [
              0.1111111111111111,
              "#46039f"
             ],
             [
              0.2222222222222222,
              "#7201a8"
             ],
             [
              0.3333333333333333,
              "#9c179e"
             ],
             [
              0.4444444444444444,
              "#bd3786"
             ],
             [
              0.5555555555555556,
              "#d8576b"
             ],
             [
              0.6666666666666666,
              "#ed7953"
             ],
             [
              0.7777777777777778,
              "#fb9f3a"
             ],
             [
              0.8888888888888888,
              "#fdca26"
             ],
             [
              1,
              "#f0f921"
             ]
            ],
            "type": "histogram2dcontour"
           }
          ],
          "mesh3d": [
           {
            "colorbar": {
             "outlinewidth": 0,
             "ticks": ""
            },
            "type": "mesh3d"
           }
          ],
          "parcoords": [
           {
            "line": {
             "colorbar": {
              "outlinewidth": 0,
              "ticks": ""
             }
            },
            "type": "parcoords"
           }
          ],
          "pie": [
           {
            "automargin": true,
            "type": "pie"
           }
          ],
          "scatter": [
           {
            "fillpattern": {
             "fillmode": "overlay",
             "size": 10,
             "solidity": 0.2
            },
            "type": "scatter"
           }
          ],
          "scatter3d": [
           {
            "line": {
             "colorbar": {
              "outlinewidth": 0,
              "ticks": ""
             }
            },
            "marker": {
             "colorbar": {
              "outlinewidth": 0,
              "ticks": ""
             }
            },
            "type": "scatter3d"
           }
          ],
          "scattercarpet": [
           {
            "marker": {
             "colorbar": {
              "outlinewidth": 0,
              "ticks": ""
             }
            },
            "type": "scattercarpet"
           }
          ],
          "scattergeo": [
           {
            "marker": {
             "colorbar": {
              "outlinewidth": 0,
              "ticks": ""
             }
            },
            "type": "scattergeo"
           }
          ],
          "scattergl": [
           {
            "marker": {
             "colorbar": {
              "outlinewidth": 0,
              "ticks": ""
             }
            },
            "type": "scattergl"
           }
          ],
          "scattermapbox": [
           {
            "marker": {
             "colorbar": {
              "outlinewidth": 0,
              "ticks": ""
             }
            },
            "type": "scattermapbox"
           }
          ],
          "scatterpolar": [
           {
            "marker": {
             "colorbar": {
              "outlinewidth": 0,
              "ticks": ""
             }
            },
            "type": "scatterpolar"
           }
          ],
          "scatterpolargl": [
           {
            "marker": {
             "colorbar": {
              "outlinewidth": 0,
              "ticks": ""
             }
            },
            "type": "scatterpolargl"
           }
          ],
          "scatterternary": [
           {
            "marker": {
             "colorbar": {
              "outlinewidth": 0,
              "ticks": ""
             }
            },
            "type": "scatterternary"
           }
          ],
          "surface": [
           {
            "colorbar": {
             "outlinewidth": 0,
             "ticks": ""
            },
            "colorscale": [
             [
              0,
              "#0d0887"
             ],
             [
              0.1111111111111111,
              "#46039f"
             ],
             [
              0.2222222222222222,
              "#7201a8"
             ],
             [
              0.3333333333333333,
              "#9c179e"
             ],
             [
              0.4444444444444444,
              "#bd3786"
             ],
             [
              0.5555555555555556,
              "#d8576b"
             ],
             [
              0.6666666666666666,
              "#ed7953"
             ],
             [
              0.7777777777777778,
              "#fb9f3a"
             ],
             [
              0.8888888888888888,
              "#fdca26"
             ],
             [
              1,
              "#f0f921"
             ]
            ],
            "type": "surface"
           }
          ],
          "table": [
           {
            "cells": {
             "fill": {
              "color": "#EBF0F8"
             },
             "line": {
              "color": "white"
             }
            },
            "header": {
             "fill": {
              "color": "#C8D4E3"
             },
             "line": {
              "color": "white"
             }
            },
            "type": "table"
           }
          ]
         },
         "layout": {
          "annotationdefaults": {
           "arrowcolor": "#2a3f5f",
           "arrowhead": 0,
           "arrowwidth": 1
          },
          "autotypenumbers": "strict",
          "coloraxis": {
           "colorbar": {
            "outlinewidth": 0,
            "ticks": ""
           }
          },
          "colorscale": {
           "diverging": [
            [
             0,
             "#8e0152"
            ],
            [
             0.1,
             "#c51b7d"
            ],
            [
             0.2,
             "#de77ae"
            ],
            [
             0.3,
             "#f1b6da"
            ],
            [
             0.4,
             "#fde0ef"
            ],
            [
             0.5,
             "#f7f7f7"
            ],
            [
             0.6,
             "#e6f5d0"
            ],
            [
             0.7,
             "#b8e186"
            ],
            [
             0.8,
             "#7fbc41"
            ],
            [
             0.9,
             "#4d9221"
            ],
            [
             1,
             "#276419"
            ]
           ],
           "sequential": [
            [
             0,
             "#0d0887"
            ],
            [
             0.1111111111111111,
             "#46039f"
            ],
            [
             0.2222222222222222,
             "#7201a8"
            ],
            [
             0.3333333333333333,
             "#9c179e"
            ],
            [
             0.4444444444444444,
             "#bd3786"
            ],
            [
             0.5555555555555556,
             "#d8576b"
            ],
            [
             0.6666666666666666,
             "#ed7953"
            ],
            [
             0.7777777777777778,
             "#fb9f3a"
            ],
            [
             0.8888888888888888,
             "#fdca26"
            ],
            [
             1,
             "#f0f921"
            ]
           ],
           "sequentialminus": [
            [
             0,
             "#0d0887"
            ],
            [
             0.1111111111111111,
             "#46039f"
            ],
            [
             0.2222222222222222,
             "#7201a8"
            ],
            [
             0.3333333333333333,
             "#9c179e"
            ],
            [
             0.4444444444444444,
             "#bd3786"
            ],
            [
             0.5555555555555556,
             "#d8576b"
            ],
            [
             0.6666666666666666,
             "#ed7953"
            ],
            [
             0.7777777777777778,
             "#fb9f3a"
            ],
            [
             0.8888888888888888,
             "#fdca26"
            ],
            [
             1,
             "#f0f921"
            ]
           ]
          },
          "colorway": [
           "#636efa",
           "#EF553B",
           "#00cc96",
           "#ab63fa",
           "#FFA15A",
           "#19d3f3",
           "#FF6692",
           "#B6E880",
           "#FF97FF",
           "#FECB52"
          ],
          "font": {
           "color": "#2a3f5f"
          },
          "geo": {
           "bgcolor": "white",
           "lakecolor": "white",
           "landcolor": "#E5ECF6",
           "showlakes": true,
           "showland": true,
           "subunitcolor": "white"
          },
          "hoverlabel": {
           "align": "left"
          },
          "hovermode": "closest",
          "mapbox": {
           "style": "light"
          },
          "paper_bgcolor": "white",
          "plot_bgcolor": "#E5ECF6",
          "polar": {
           "angularaxis": {
            "gridcolor": "white",
            "linecolor": "white",
            "ticks": ""
           },
           "bgcolor": "#E5ECF6",
           "radialaxis": {
            "gridcolor": "white",
            "linecolor": "white",
            "ticks": ""
           }
          },
          "scene": {
           "xaxis": {
            "backgroundcolor": "#E5ECF6",
            "gridcolor": "white",
            "gridwidth": 2,
            "linecolor": "white",
            "showbackground": true,
            "ticks": "",
            "zerolinecolor": "white"
           },
           "yaxis": {
            "backgroundcolor": "#E5ECF6",
            "gridcolor": "white",
            "gridwidth": 2,
            "linecolor": "white",
            "showbackground": true,
            "ticks": "",
            "zerolinecolor": "white"
           },
           "zaxis": {
            "backgroundcolor": "#E5ECF6",
            "gridcolor": "white",
            "gridwidth": 2,
            "linecolor": "white",
            "showbackground": true,
            "ticks": "",
            "zerolinecolor": "white"
           }
          },
          "shapedefaults": {
           "line": {
            "color": "#2a3f5f"
           }
          },
          "ternary": {
           "aaxis": {
            "gridcolor": "white",
            "linecolor": "white",
            "ticks": ""
           },
           "baxis": {
            "gridcolor": "white",
            "linecolor": "white",
            "ticks": ""
           },
           "bgcolor": "#E5ECF6",
           "caxis": {
            "gridcolor": "white",
            "linecolor": "white",
            "ticks": ""
           }
          },
          "title": {
           "x": 0.05
          },
          "xaxis": {
           "automargin": true,
           "gridcolor": "white",
           "linecolor": "white",
           "ticks": "",
           "title": {
            "standoff": 15
           },
           "zerolinecolor": "white",
           "zerolinewidth": 2
          },
          "yaxis": {
           "automargin": true,
           "gridcolor": "white",
           "linecolor": "white",
           "ticks": "",
           "title": {
            "standoff": 15
           },
           "zerolinecolor": "white",
           "zerolinewidth": 2
          }
         }
        },
        "title": {
         "font": {
          "color": "#4D5663"
         }
        },
        "xaxis": {
         "gridcolor": "#E1E5ED",
         "showgrid": true,
         "tickfont": {
          "color": "#4D5663"
         },
         "title": {
          "font": {
           "color": "#4D5663"
          },
          "text": ""
         },
         "zerolinecolor": "#E1E5ED"
        },
        "yaxis": {
         "gridcolor": "#E1E5ED",
         "showgrid": true,
         "tickfont": {
          "color": "#4D5663"
         },
         "title": {
          "font": {
           "color": "#4D5663"
          },
          "text": ""
         },
         "zerolinecolor": "#E1E5ED"
        }
       }
      },
      "text/html": [
       "<div>                            <div id=\"078bb058-8018-4bed-adbd-f9f5f6c72680\" class=\"plotly-graph-div\" style=\"height:525px; width:100%;\"></div>            <script type=\"text/javascript\">                require([\"plotly\"], function(Plotly) {                    window.PLOTLYENV=window.PLOTLYENV || {};\n",
       "                    window.PLOTLYENV.BASE_URL='https://plot.ly';                                    if (document.getElementById(\"078bb058-8018-4bed-adbd-f9f5f6c72680\")) {                    Plotly.newPlot(                        \"078bb058-8018-4bed-adbd-f9f5f6c72680\",                        [{\"marker\":{\"color\":\"rgba(255, 153, 51, 0.6)\",\"line\":{\"color\":\"rgba(255, 153, 51, 1.0)\",\"width\":1}},\"name\":\"None\",\"orientation\":\"v\",\"text\":\"\",\"x\":[\"A\",\"B\",\"C\",\"D\"],\"y\":[-3.3447901409417296,11.50730644378576,3.4370146753184025,16.442157505356004],\"type\":\"bar\"}],                        {\"legend\":{\"bgcolor\":\"#F5F6F9\",\"font\":{\"color\":\"#4D5663\"}},\"paper_bgcolor\":\"#F5F6F9\",\"plot_bgcolor\":\"#F5F6F9\",\"template\":{\"data\":{\"barpolar\":[{\"marker\":{\"line\":{\"color\":\"#E5ECF6\",\"width\":0.5},\"pattern\":{\"fillmode\":\"overlay\",\"size\":10,\"solidity\":0.2}},\"type\":\"barpolar\"}],\"bar\":[{\"error_x\":{\"color\":\"#2a3f5f\"},\"error_y\":{\"color\":\"#2a3f5f\"},\"marker\":{\"line\":{\"color\":\"#E5ECF6\",\"width\":0.5},\"pattern\":{\"fillmode\":\"overlay\",\"size\":10,\"solidity\":0.2}},\"type\":\"bar\"}],\"carpet\":[{\"aaxis\":{\"endlinecolor\":\"#2a3f5f\",\"gridcolor\":\"white\",\"linecolor\":\"white\",\"minorgridcolor\":\"white\",\"startlinecolor\":\"#2a3f5f\"},\"baxis\":{\"endlinecolor\":\"#2a3f5f\",\"gridcolor\":\"white\",\"linecolor\":\"white\",\"minorgridcolor\":\"white\",\"startlinecolor\":\"#2a3f5f\"},\"type\":\"carpet\"}],\"choropleth\":[{\"colorbar\":{\"outlinewidth\":0,\"ticks\":\"\"},\"type\":\"choropleth\"}],\"contourcarpet\":[{\"colorbar\":{\"outlinewidth\":0,\"ticks\":\"\"},\"type\":\"contourcarpet\"}],\"contour\":[{\"colorbar\":{\"outlinewidth\":0,\"ticks\":\"\"},\"colorscale\":[[0.0,\"#0d0887\"],[0.1111111111111111,\"#46039f\"],[0.2222222222222222,\"#7201a8\"],[0.3333333333333333,\"#9c179e\"],[0.4444444444444444,\"#bd3786\"],[0.5555555555555556,\"#d8576b\"],[0.6666666666666666,\"#ed7953\"],[0.7777777777777778,\"#fb9f3a\"],[0.8888888888888888,\"#fdca26\"],[1.0,\"#f0f921\"]],\"type\":\"contour\"}],\"heatmapgl\":[{\"colorbar\":{\"outlinewidth\":0,\"ticks\":\"\"},\"colorscale\":[[0.0,\"#0d0887\"],[0.1111111111111111,\"#46039f\"],[0.2222222222222222,\"#7201a8\"],[0.3333333333333333,\"#9c179e\"],[0.4444444444444444,\"#bd3786\"],[0.5555555555555556,\"#d8576b\"],[0.6666666666666666,\"#ed7953\"],[0.7777777777777778,\"#fb9f3a\"],[0.8888888888888888,\"#fdca26\"],[1.0,\"#f0f921\"]],\"type\":\"heatmapgl\"}],\"heatmap\":[{\"colorbar\":{\"outlinewidth\":0,\"ticks\":\"\"},\"colorscale\":[[0.0,\"#0d0887\"],[0.1111111111111111,\"#46039f\"],[0.2222222222222222,\"#7201a8\"],[0.3333333333333333,\"#9c179e\"],[0.4444444444444444,\"#bd3786\"],[0.5555555555555556,\"#d8576b\"],[0.6666666666666666,\"#ed7953\"],[0.7777777777777778,\"#fb9f3a\"],[0.8888888888888888,\"#fdca26\"],[1.0,\"#f0f921\"]],\"type\":\"heatmap\"}],\"histogram2dcontour\":[{\"colorbar\":{\"outlinewidth\":0,\"ticks\":\"\"},\"colorscale\":[[0.0,\"#0d0887\"],[0.1111111111111111,\"#46039f\"],[0.2222222222222222,\"#7201a8\"],[0.3333333333333333,\"#9c179e\"],[0.4444444444444444,\"#bd3786\"],[0.5555555555555556,\"#d8576b\"],[0.6666666666666666,\"#ed7953\"],[0.7777777777777778,\"#fb9f3a\"],[0.8888888888888888,\"#fdca26\"],[1.0,\"#f0f921\"]],\"type\":\"histogram2dcontour\"}],\"histogram2d\":[{\"colorbar\":{\"outlinewidth\":0,\"ticks\":\"\"},\"colorscale\":[[0.0,\"#0d0887\"],[0.1111111111111111,\"#46039f\"],[0.2222222222222222,\"#7201a8\"],[0.3333333333333333,\"#9c179e\"],[0.4444444444444444,\"#bd3786\"],[0.5555555555555556,\"#d8576b\"],[0.6666666666666666,\"#ed7953\"],[0.7777777777777778,\"#fb9f3a\"],[0.8888888888888888,\"#fdca26\"],[1.0,\"#f0f921\"]],\"type\":\"histogram2d\"}],\"histogram\":[{\"marker\":{\"pattern\":{\"fillmode\":\"overlay\",\"size\":10,\"solidity\":0.2}},\"type\":\"histogram\"}],\"mesh3d\":[{\"colorbar\":{\"outlinewidth\":0,\"ticks\":\"\"},\"type\":\"mesh3d\"}],\"parcoords\":[{\"line\":{\"colorbar\":{\"outlinewidth\":0,\"ticks\":\"\"}},\"type\":\"parcoords\"}],\"pie\":[{\"automargin\":true,\"type\":\"pie\"}],\"scatter3d\":[{\"line\":{\"colorbar\":{\"outlinewidth\":0,\"ticks\":\"\"}},\"marker\":{\"colorbar\":{\"outlinewidth\":0,\"ticks\":\"\"}},\"type\":\"scatter3d\"}],\"scattercarpet\":[{\"marker\":{\"colorbar\":{\"outlinewidth\":0,\"ticks\":\"\"}},\"type\":\"scattercarpet\"}],\"scattergeo\":[{\"marker\":{\"colorbar\":{\"outlinewidth\":0,\"ticks\":\"\"}},\"type\":\"scattergeo\"}],\"scattergl\":[{\"marker\":{\"colorbar\":{\"outlinewidth\":0,\"ticks\":\"\"}},\"type\":\"scattergl\"}],\"scattermapbox\":[{\"marker\":{\"colorbar\":{\"outlinewidth\":0,\"ticks\":\"\"}},\"type\":\"scattermapbox\"}],\"scatterpolargl\":[{\"marker\":{\"colorbar\":{\"outlinewidth\":0,\"ticks\":\"\"}},\"type\":\"scatterpolargl\"}],\"scatterpolar\":[{\"marker\":{\"colorbar\":{\"outlinewidth\":0,\"ticks\":\"\"}},\"type\":\"scatterpolar\"}],\"scatter\":[{\"fillpattern\":{\"fillmode\":\"overlay\",\"size\":10,\"solidity\":0.2},\"type\":\"scatter\"}],\"scatterternary\":[{\"marker\":{\"colorbar\":{\"outlinewidth\":0,\"ticks\":\"\"}},\"type\":\"scatterternary\"}],\"surface\":[{\"colorbar\":{\"outlinewidth\":0,\"ticks\":\"\"},\"colorscale\":[[0.0,\"#0d0887\"],[0.1111111111111111,\"#46039f\"],[0.2222222222222222,\"#7201a8\"],[0.3333333333333333,\"#9c179e\"],[0.4444444444444444,\"#bd3786\"],[0.5555555555555556,\"#d8576b\"],[0.6666666666666666,\"#ed7953\"],[0.7777777777777778,\"#fb9f3a\"],[0.8888888888888888,\"#fdca26\"],[1.0,\"#f0f921\"]],\"type\":\"surface\"}],\"table\":[{\"cells\":{\"fill\":{\"color\":\"#EBF0F8\"},\"line\":{\"color\":\"white\"}},\"header\":{\"fill\":{\"color\":\"#C8D4E3\"},\"line\":{\"color\":\"white\"}},\"type\":\"table\"}]},\"layout\":{\"annotationdefaults\":{\"arrowcolor\":\"#2a3f5f\",\"arrowhead\":0,\"arrowwidth\":1},\"autotypenumbers\":\"strict\",\"coloraxis\":{\"colorbar\":{\"outlinewidth\":0,\"ticks\":\"\"}},\"colorscale\":{\"diverging\":[[0,\"#8e0152\"],[0.1,\"#c51b7d\"],[0.2,\"#de77ae\"],[0.3,\"#f1b6da\"],[0.4,\"#fde0ef\"],[0.5,\"#f7f7f7\"],[0.6,\"#e6f5d0\"],[0.7,\"#b8e186\"],[0.8,\"#7fbc41\"],[0.9,\"#4d9221\"],[1,\"#276419\"]],\"sequential\":[[0.0,\"#0d0887\"],[0.1111111111111111,\"#46039f\"],[0.2222222222222222,\"#7201a8\"],[0.3333333333333333,\"#9c179e\"],[0.4444444444444444,\"#bd3786\"],[0.5555555555555556,\"#d8576b\"],[0.6666666666666666,\"#ed7953\"],[0.7777777777777778,\"#fb9f3a\"],[0.8888888888888888,\"#fdca26\"],[1.0,\"#f0f921\"]],\"sequentialminus\":[[0.0,\"#0d0887\"],[0.1111111111111111,\"#46039f\"],[0.2222222222222222,\"#7201a8\"],[0.3333333333333333,\"#9c179e\"],[0.4444444444444444,\"#bd3786\"],[0.5555555555555556,\"#d8576b\"],[0.6666666666666666,\"#ed7953\"],[0.7777777777777778,\"#fb9f3a\"],[0.8888888888888888,\"#fdca26\"],[1.0,\"#f0f921\"]]},\"colorway\":[\"#636efa\",\"#EF553B\",\"#00cc96\",\"#ab63fa\",\"#FFA15A\",\"#19d3f3\",\"#FF6692\",\"#B6E880\",\"#FF97FF\",\"#FECB52\"],\"font\":{\"color\":\"#2a3f5f\"},\"geo\":{\"bgcolor\":\"white\",\"lakecolor\":\"white\",\"landcolor\":\"#E5ECF6\",\"showlakes\":true,\"showland\":true,\"subunitcolor\":\"white\"},\"hoverlabel\":{\"align\":\"left\"},\"hovermode\":\"closest\",\"mapbox\":{\"style\":\"light\"},\"paper_bgcolor\":\"white\",\"plot_bgcolor\":\"#E5ECF6\",\"polar\":{\"angularaxis\":{\"gridcolor\":\"white\",\"linecolor\":\"white\",\"ticks\":\"\"},\"bgcolor\":\"#E5ECF6\",\"radialaxis\":{\"gridcolor\":\"white\",\"linecolor\":\"white\",\"ticks\":\"\"}},\"scene\":{\"xaxis\":{\"backgroundcolor\":\"#E5ECF6\",\"gridcolor\":\"white\",\"gridwidth\":2,\"linecolor\":\"white\",\"showbackground\":true,\"ticks\":\"\",\"zerolinecolor\":\"white\"},\"yaxis\":{\"backgroundcolor\":\"#E5ECF6\",\"gridcolor\":\"white\",\"gridwidth\":2,\"linecolor\":\"white\",\"showbackground\":true,\"ticks\":\"\",\"zerolinecolor\":\"white\"},\"zaxis\":{\"backgroundcolor\":\"#E5ECF6\",\"gridcolor\":\"white\",\"gridwidth\":2,\"linecolor\":\"white\",\"showbackground\":true,\"ticks\":\"\",\"zerolinecolor\":\"white\"}},\"shapedefaults\":{\"line\":{\"color\":\"#2a3f5f\"}},\"ternary\":{\"aaxis\":{\"gridcolor\":\"white\",\"linecolor\":\"white\",\"ticks\":\"\"},\"baxis\":{\"gridcolor\":\"white\",\"linecolor\":\"white\",\"ticks\":\"\"},\"bgcolor\":\"#E5ECF6\",\"caxis\":{\"gridcolor\":\"white\",\"linecolor\":\"white\",\"ticks\":\"\"}},\"title\":{\"x\":0.05},\"xaxis\":{\"automargin\":true,\"gridcolor\":\"white\",\"linecolor\":\"white\",\"ticks\":\"\",\"title\":{\"standoff\":15},\"zerolinecolor\":\"white\",\"zerolinewidth\":2},\"yaxis\":{\"automargin\":true,\"gridcolor\":\"white\",\"linecolor\":\"white\",\"ticks\":\"\",\"title\":{\"standoff\":15},\"zerolinecolor\":\"white\",\"zerolinewidth\":2}}},\"title\":{\"font\":{\"color\":\"#4D5663\"}},\"xaxis\":{\"gridcolor\":\"#E1E5ED\",\"showgrid\":true,\"tickfont\":{\"color\":\"#4D5663\"},\"title\":{\"font\":{\"color\":\"#4D5663\"},\"text\":\"\"},\"zerolinecolor\":\"#E1E5ED\"},\"yaxis\":{\"gridcolor\":\"#E1E5ED\",\"showgrid\":true,\"tickfont\":{\"color\":\"#4D5663\"},\"title\":{\"font\":{\"color\":\"#4D5663\"},\"text\":\"\"},\"zerolinecolor\":\"#E1E5ED\"}},                        {\"showLink\": true, \"linkText\": \"Export to plot.ly\", \"plotlyServerURL\": \"https://plot.ly\", \"responsive\": true}                    ).then(function(){\n",
       "                            \n",
       "var gd = document.getElementById('078bb058-8018-4bed-adbd-f9f5f6c72680');\n",
       "var x = new MutationObserver(function (mutations, observer) {{\n",
       "        var display = window.getComputedStyle(gd).display;\n",
       "        if (!display || display === 'none') {{\n",
       "            console.log([gd, 'removed!']);\n",
       "            Plotly.purge(gd);\n",
       "            observer.disconnect();\n",
       "        }}\n",
       "}});\n",
       "\n",
       "// Listen for the removal of the full notebook cells\n",
       "var notebookContainer = gd.closest('#notebook-container');\n",
       "if (notebookContainer) {{\n",
       "    x.observe(notebookContainer, {childList: true});\n",
       "}}\n",
       "\n",
       "// Listen for the clearing of the current output cell\n",
       "var outputEl = gd.closest('.output');\n",
       "if (outputEl) {{\n",
       "    x.observe(outputEl, {childList: true});\n",
       "}}\n",
       "\n",
       "                        })                };                });            </script>        </div>"
      ]
     },
     "metadata": {},
     "output_type": "display_data"
    }
   ],
   "source": [
    "df.sum().iplot(kind='bar')"
   ]
  },
  {
   "cell_type": "code",
   "execution_count": 67,
   "id": "75de107a",
   "metadata": {},
   "outputs": [
    {
     "data": {
      "text/html": [
       "<div>\n",
       "<style scoped>\n",
       "    .dataframe tbody tr th:only-of-type {\n",
       "        vertical-align: middle;\n",
       "    }\n",
       "\n",
       "    .dataframe tbody tr th {\n",
       "        vertical-align: top;\n",
       "    }\n",
       "\n",
       "    .dataframe thead th {\n",
       "        text-align: right;\n",
       "    }\n",
       "</style>\n",
       "<table border=\"1\" class=\"dataframe\">\n",
       "  <thead>\n",
       "    <tr style=\"text-align: right;\">\n",
       "      <th></th>\n",
       "      <th>A</th>\n",
       "      <th>B</th>\n",
       "      <th>C</th>\n",
       "      <th>D</th>\n",
       "    </tr>\n",
       "  </thead>\n",
       "  <tbody>\n",
       "    <tr>\n",
       "      <th>0</th>\n",
       "      <td>1.618534</td>\n",
       "      <td>0.245557</td>\n",
       "      <td>-0.764482</td>\n",
       "      <td>0.274465</td>\n",
       "    </tr>\n",
       "    <tr>\n",
       "      <th>1</th>\n",
       "      <td>1.184836</td>\n",
       "      <td>-0.563813</td>\n",
       "      <td>-0.166278</td>\n",
       "      <td>0.305052</td>\n",
       "    </tr>\n",
       "    <tr>\n",
       "      <th>2</th>\n",
       "      <td>1.067627</td>\n",
       "      <td>0.158380</td>\n",
       "      <td>0.476738</td>\n",
       "      <td>0.955284</td>\n",
       "    </tr>\n",
       "    <tr>\n",
       "      <th>3</th>\n",
       "      <td>0.628958</td>\n",
       "      <td>0.025965</td>\n",
       "      <td>1.493643</td>\n",
       "      <td>-1.587736</td>\n",
       "    </tr>\n",
       "    <tr>\n",
       "      <th>4</th>\n",
       "      <td>-0.073172</td>\n",
       "      <td>1.026169</td>\n",
       "      <td>-0.225431</td>\n",
       "      <td>-1.982967</td>\n",
       "    </tr>\n",
       "    <tr>\n",
       "      <th>...</th>\n",
       "      <td>...</td>\n",
       "      <td>...</td>\n",
       "      <td>...</td>\n",
       "      <td>...</td>\n",
       "    </tr>\n",
       "    <tr>\n",
       "      <th>95</th>\n",
       "      <td>2.391248</td>\n",
       "      <td>-0.036919</td>\n",
       "      <td>-0.641119</td>\n",
       "      <td>0.095864</td>\n",
       "    </tr>\n",
       "    <tr>\n",
       "      <th>96</th>\n",
       "      <td>-0.035926</td>\n",
       "      <td>0.487317</td>\n",
       "      <td>0.112251</td>\n",
       "      <td>0.574974</td>\n",
       "    </tr>\n",
       "    <tr>\n",
       "      <th>97</th>\n",
       "      <td>0.399335</td>\n",
       "      <td>0.202822</td>\n",
       "      <td>-0.316104</td>\n",
       "      <td>0.262977</td>\n",
       "    </tr>\n",
       "    <tr>\n",
       "      <th>98</th>\n",
       "      <td>0.504155</td>\n",
       "      <td>-0.092454</td>\n",
       "      <td>0.361343</td>\n",
       "      <td>1.459671</td>\n",
       "    </tr>\n",
       "    <tr>\n",
       "      <th>99</th>\n",
       "      <td>-2.453179</td>\n",
       "      <td>-1.719684</td>\n",
       "      <td>1.064898</td>\n",
       "      <td>0.563817</td>\n",
       "    </tr>\n",
       "  </tbody>\n",
       "</table>\n",
       "<p>100 rows × 4 columns</p>\n",
       "</div>"
      ],
      "text/plain": [
       "           A         B         C         D\n",
       "0   1.618534  0.245557 -0.764482  0.274465\n",
       "1   1.184836 -0.563813 -0.166278  0.305052\n",
       "2   1.067627  0.158380  0.476738  0.955284\n",
       "3   0.628958  0.025965  1.493643 -1.587736\n",
       "4  -0.073172  1.026169 -0.225431 -1.982967\n",
       "..       ...       ...       ...       ...\n",
       "95  2.391248 -0.036919 -0.641119  0.095864\n",
       "96 -0.035926  0.487317  0.112251  0.574974\n",
       "97  0.399335  0.202822 -0.316104  0.262977\n",
       "98  0.504155 -0.092454  0.361343  1.459671\n",
       "99 -2.453179 -1.719684  1.064898  0.563817\n",
       "\n",
       "[100 rows x 4 columns]"
      ]
     },
     "execution_count": 67,
     "metadata": {},
     "output_type": "execute_result"
    }
   ],
   "source": [
    "df"
   ]
  },
  {
   "cell_type": "code",
   "execution_count": 68,
   "id": "796bba6f",
   "metadata": {},
   "outputs": [
    {
     "data": {
      "application/vnd.plotly.v1+json": {
       "config": {
        "linkText": "Export to plot.ly",
        "plotlyServerURL": "https://plot.ly",
        "showLink": true
       },
       "data": [
        {
         "boxpoints": false,
         "line": {
          "width": 1.3
         },
         "marker": {
          "color": "rgba(255, 153, 51, 1.0)"
         },
         "name": "A",
         "orientation": "v",
         "type": "box",
         "y": [
          1.6185342153503897,
          1.1848362441609444,
          1.0676265789711767,
          0.6289578176999444,
          -0.0731723746557524,
          -0.10349025747306093,
          -0.13828150425216726,
          0.8810902574734345,
          -0.5542620086053726,
          1.367655392604224,
          0.42159233908657434,
          -1.6600131400907159,
          -2.321880943758504,
          -0.14525715490075852,
          -1.4150329423246357,
          1.1902193781513097,
          0.032605182130966644,
          -1.1068654931550255,
          -0.4881710870419417,
          -1.0064654004665394,
          -1.4861349648044178,
          0.42126197939457344,
          0.2033513437481144,
          0.6780192171590568,
          2.2695601885039856,
          -1.0530794893148434,
          -0.7599582936020849,
          0.07479649981688027,
          -0.5004585006618902,
          -0.7069045792139065,
          -0.7490649048467005,
          -0.9573833622535074,
          0.3184903662704784,
          0.5232510497782804,
          -0.292920914056626,
          0.5526442907323154,
          0.28927758198705866,
          -0.9595308675629673,
          0.6624074725052688,
          -1.2675470861916667,
          -1.298518317282184,
          1.6505714308200703,
          0.7711743870399246,
          -0.10350465261086673,
          -0.9890595965375653,
          0.09060720967289916,
          -0.9664272965492815,
          1.7520110562695306,
          2.0598160276614736,
          -1.5398792263792436,
          0.14913323679684518,
          0.995048297495277,
          -0.8178015437731536,
          -1.1488188276104512,
          -1.2553879715068992,
          0.702144807401087,
          -0.14721370696443659,
          0.9849700972122788,
          -1.6159928381795001,
          2.8876664099211764,
          1.1792610841498818,
          1.137534866296284,
          0.36529841743489505,
          0.6837628681037843,
          0.3857655623229011,
          -1.4277493996033706,
          1.9387091111049926,
          -0.8799227856643209,
          0.17157935956524548,
          1.2164326922302917,
          0.004829280486984333,
          -0.7305142209733924,
          0.8090950392810067,
          -2.7632429506224883,
          0.9238654843844363,
          0.13909084142958214,
          0.06932779342792991,
          0.10316445888209945,
          -1.4408925516222189,
          -1.5014989504920706,
          1.3164328202880184,
          0.20632089660007252,
          -0.4332798600838577,
          0.5100226609573209,
          -0.5583994791359564,
          0.4825916998568048,
          -0.15873725230421742,
          -2.033833509570888,
          -0.56776873608412,
          -1.3983642700361827,
          -0.17721085755554614,
          -0.4777864854606395,
          -0.7084571357637636,
          0.14725150781339041,
          0.5160571944585837,
          2.391248105092854,
          -0.035925646760449015,
          0.3993352653098139,
          0.5041548045378224,
          -2.4531789724121182
         ]
        },
        {
         "boxpoints": false,
         "line": {
          "width": 1.3
         },
         "marker": {
          "color": "rgba(55, 128, 191, 1.0)"
         },
         "name": "B",
         "orientation": "v",
         "type": "box",
         "y": [
          0.24555663252945903,
          -0.5638129038214954,
          0.15838017982758465,
          0.025965138727300052,
          1.0261693833091186,
          -1.8117251738858402,
          1.2824990052649607,
          0.9227163869758231,
          -0.32928491407238214,
          0.3366044693090377,
          0.16065191024800432,
          0.8082078977266477,
          -0.37421382646895285,
          0.4443612006818534,
          1.2591791755585575,
          -0.272577764440088,
          0.05397960093059676,
          0.9925302761246275,
          0.8240201250613609,
          0.03421864511183541,
          1.7687225019146364,
          0.9401432164859415,
          1.294385534196133,
          0.6944745568559109,
          0.4364763563018746,
          0.19932268382576923,
          -0.27934197237725056,
          -1.5844482409973324,
          0.8691582357782162,
          0.7968557938544397,
          1.227966360927478,
          0.32626552917603463,
          -0.5268174005804046,
          0.16189388577452204,
          0.47272456823309345,
          0.08452053298458287,
          -0.8350294005227219,
          0.8340070844504154,
          -1.2518433951160093,
          -0.5889093096430914,
          -1.5761297357175614,
          0.7025218259235306,
          0.9816624927802996,
          -1.3176098140720194,
          1.0192498512213706,
          -0.06384003639023407,
          -0.6499138608042271,
          1.779442553151568,
          0.9457660017435001,
          1.307783424473417,
          -0.22117084156221578,
          1.7868932790407142,
          -1.0844140449242934,
          0.35024847218493776,
          0.884244535300552,
          0.6614379919438789,
          -1.3080451104956212,
          -0.19203618050731222,
          1.400879527302598,
          -1.9204936660131982,
          0.0733528470981566,
          -2.7096374996506603,
          1.2516569643880509,
          1.375309163239427,
          0.6338916751026681,
          -0.44015753737571284,
          -0.47999473391612174,
          -0.5470196774727828,
          -0.6448957474033917,
          -1.2312387282637907,
          -0.7882654917165696,
          0.6992660805993933,
          1.343159728014624,
          0.006554386717324803,
          1.1839666350547748,
          0.7852962090064953,
          1.090853039440043,
          -0.9191197192317047,
          -0.584937510658358,
          0.09935280627146068,
          -1.0597550817994716,
          0.6327940167393934,
          -0.26286404024615473,
          1.3291756615688792,
          -1.082743328643993,
          -0.2925693546759645,
          0.5283895907770542,
          1.7397374477560037,
          -0.34785501448501577,
          -1.1370577316276549,
          -1.116757259654754,
          -0.18340610752183722,
          -0.5649610550472014,
          -0.6529937313804469,
          1.1892675399002437,
          -0.036918623731211,
          0.4873170568674592,
          0.20282226504473866,
          -0.09245437072411745,
          -1.719683555373446
         ]
        },
        {
         "boxpoints": false,
         "line": {
          "width": 1.3
         },
         "marker": {
          "color": "rgba(50, 171, 96, 1.0)"
         },
         "name": "C",
         "orientation": "v",
         "type": "box",
         "y": [
          -0.7644822413693503,
          -0.1662780085710339,
          0.476737776512657,
          1.4936427419112215,
          -0.22543083544286424,
          -1.1528789834282267,
          -0.9145599054270486,
          0.6926928442784844,
          -0.7846538929797743,
          3.261286499391137,
          -0.3196878208660037,
          -0.5580597341869193,
          -0.07611352643623193,
          -0.8898316509425989,
          -0.060257606747032635,
          -1.3668359664811756,
          -0.3919686336500909,
          1.5773911905104674,
          -3.672083633498876,
          0.9592072279269754,
          -0.36728173072607145,
          -0.06592633986444874,
          0.5195147403283626,
          1.4367648709473158,
          0.588393385748988,
          0.5010464120146308,
          1.458197359722872,
          1.4033408998176609,
          0.5882306906786982,
          -0.01330942267740433,
          1.2204185193567985,
          -0.10351237409761757,
          0.9706776034627427,
          -0.40920892348266236,
          -0.4866247360048921,
          0.7447191006627771,
          1.1753784285764202,
          -0.5412944791445348,
          -0.4027018764364136,
          1.8452248769505646,
          0.7341576819387037,
          -0.3051854810248275,
          -0.455162147955806,
          -2.0936535067897633,
          -0.40803538659550626,
          -0.557237147596639,
          0.41033157396129283,
          1.8103444417304027,
          1.2729115835710718,
          -0.365619533164616,
          0.4045133583442117,
          0.878458817843963,
          1.1716116786672737,
          -0.327185943945804,
          -1.4642372365515886,
          0.7479040937945937,
          -0.21232086450058058,
          0.30441721368609154,
          -0.17838098345618944,
          0.048893538909246685,
          0.5431229851756696,
          -1.5511865083904635,
          0.748135895567872,
          -0.8027523221376446,
          0.05413105733115739,
          -0.7552986349452647,
          1.6925935305078619,
          2.7731199599523024,
          0.3976042964293238,
          0.16069785582660906,
          1.8582639023881855,
          -2.8071351426453006,
          -0.39275983410029053,
          -1.7962738629907888,
          -2.8846404770038054,
          1.1236777466184569,
          0.12690159251538763,
          -1.1528007942449985,
          1.5470584624794035,
          -1.0005599812456638,
          -1.0361221173839588,
          -0.27961960165187155,
          1.4052368799060402,
          -0.08589290136502413,
          -1.0523067336538345,
          -0.7823991345386283,
          -1.0782677441716935,
          0.4118484560269983,
          -0.1341138205847123,
          0.88217168473262,
          -1.0530760579886873,
          -1.11470542274002,
          -0.3639578541068347,
          0.7090787748642308,
          -0.05043629087056435,
          -0.6411187072517381,
          0.11225083761789163,
          -0.3161044723542811,
          0.36134256890035965,
          1.064898007641068
         ]
        },
        {
         "boxpoints": false,
         "line": {
          "width": 1.3
         },
         "marker": {
          "color": "rgba(128, 0, 128, 1.0)"
         },
         "name": "D",
         "orientation": "v",
         "type": "box",
         "y": [
          0.2744649834576402,
          0.30505186749072055,
          0.9552842712056142,
          -1.5877356412380441,
          -1.9829666534938248,
          0.7281059616081297,
          -0.24866605176086806,
          1.6867746489714364,
          -0.47433186805037475,
          1.3309093841279975,
          0.7826651601189504,
          0.06633303853784404,
          0.13517470911895196,
          0.16004480263028875,
          -0.7547005701421727,
          -0.5769737391550736,
          0.7292426011402716,
          -0.9013427172451478,
          0.7638875771702128,
          0.502849277241576,
          -0.14986686819522207,
          -0.15154766185481316,
          1.7835126345197732,
          0.9250576775717128,
          -0.8267734506854625,
          -1.0524333267491204,
          0.7771261928019507,
          1.3323368419066017,
          -0.3902289572716338,
          -2.165987786738288,
          1.2471730706066182,
          -0.7239374669366284,
          0.5845519354093854,
          0.8242761695515141,
          -0.20143211884371268,
          0.7747345462600389,
          1.301164749130198,
          1.7334250664323112,
          -1.4953144105740297,
          0.04132449477715334,
          -1.538077537986922,
          0.04651870366323089,
          0.24043595492857256,
          0.35729055466919657,
          0.023400722584806403,
          -0.18712386683292365,
          -1.3061229116767614,
          0.04778365721760829,
          0.3123497007713095,
          1.8398002507776399,
          -0.9607476319391202,
          -0.1666046527207271,
          0.7242861439665697,
          0.20125182850242238,
          0.905483293506512,
          0.9752938038603591,
          0.35425824862340866,
          -0.27586685231942104,
          0.11976282465338085,
          3.2243782304736053,
          2.0931416280461344,
          -0.9511333098681802,
          -0.3984245245883266,
          -0.22451354667979806,
          1.2338333260992367,
          1.2579236097499082,
          0.7002378085384303,
          -0.3461053591931336,
          -0.03964551470745989,
          -0.3068339828473522,
          -0.49375752698330977,
          0.4023347882608713,
          -2.669455923852125,
          0.3792523857491676,
          -0.8900751524116217,
          -1.408124367597601,
          0.2454881123818337,
          -1.1621401975664536,
          -0.9665745540254186,
          -1.0932691246330395,
          0.5901274307875186,
          -2.380602599864061,
          1.9806669427320818,
          -0.7185877181308681,
          -0.3151174946912165,
          0.6371137482940696,
          -0.580782043392684,
          0.6866161863110284,
          1.7016331319215445,
          0.17366797709539758,
          0.80654107694807,
          1.0748291936624732,
          1.2247102877434826,
          1.4856703181119582,
          0.7572276084962513,
          0.09586379779127335,
          0.5749735657711563,
          0.26297684223876916,
          1.4596711124358221,
          0.5638167296469515
         ]
        }
       ],
       "layout": {
        "legend": {
         "bgcolor": "#F5F6F9",
         "font": {
          "color": "#4D5663"
         }
        },
        "paper_bgcolor": "#F5F6F9",
        "plot_bgcolor": "#F5F6F9",
        "template": {
         "data": {
          "bar": [
           {
            "error_x": {
             "color": "#2a3f5f"
            },
            "error_y": {
             "color": "#2a3f5f"
            },
            "marker": {
             "line": {
              "color": "#E5ECF6",
              "width": 0.5
             },
             "pattern": {
              "fillmode": "overlay",
              "size": 10,
              "solidity": 0.2
             }
            },
            "type": "bar"
           }
          ],
          "barpolar": [
           {
            "marker": {
             "line": {
              "color": "#E5ECF6",
              "width": 0.5
             },
             "pattern": {
              "fillmode": "overlay",
              "size": 10,
              "solidity": 0.2
             }
            },
            "type": "barpolar"
           }
          ],
          "carpet": [
           {
            "aaxis": {
             "endlinecolor": "#2a3f5f",
             "gridcolor": "white",
             "linecolor": "white",
             "minorgridcolor": "white",
             "startlinecolor": "#2a3f5f"
            },
            "baxis": {
             "endlinecolor": "#2a3f5f",
             "gridcolor": "white",
             "linecolor": "white",
             "minorgridcolor": "white",
             "startlinecolor": "#2a3f5f"
            },
            "type": "carpet"
           }
          ],
          "choropleth": [
           {
            "colorbar": {
             "outlinewidth": 0,
             "ticks": ""
            },
            "type": "choropleth"
           }
          ],
          "contour": [
           {
            "colorbar": {
             "outlinewidth": 0,
             "ticks": ""
            },
            "colorscale": [
             [
              0,
              "#0d0887"
             ],
             [
              0.1111111111111111,
              "#46039f"
             ],
             [
              0.2222222222222222,
              "#7201a8"
             ],
             [
              0.3333333333333333,
              "#9c179e"
             ],
             [
              0.4444444444444444,
              "#bd3786"
             ],
             [
              0.5555555555555556,
              "#d8576b"
             ],
             [
              0.6666666666666666,
              "#ed7953"
             ],
             [
              0.7777777777777778,
              "#fb9f3a"
             ],
             [
              0.8888888888888888,
              "#fdca26"
             ],
             [
              1,
              "#f0f921"
             ]
            ],
            "type": "contour"
           }
          ],
          "contourcarpet": [
           {
            "colorbar": {
             "outlinewidth": 0,
             "ticks": ""
            },
            "type": "contourcarpet"
           }
          ],
          "heatmap": [
           {
            "colorbar": {
             "outlinewidth": 0,
             "ticks": ""
            },
            "colorscale": [
             [
              0,
              "#0d0887"
             ],
             [
              0.1111111111111111,
              "#46039f"
             ],
             [
              0.2222222222222222,
              "#7201a8"
             ],
             [
              0.3333333333333333,
              "#9c179e"
             ],
             [
              0.4444444444444444,
              "#bd3786"
             ],
             [
              0.5555555555555556,
              "#d8576b"
             ],
             [
              0.6666666666666666,
              "#ed7953"
             ],
             [
              0.7777777777777778,
              "#fb9f3a"
             ],
             [
              0.8888888888888888,
              "#fdca26"
             ],
             [
              1,
              "#f0f921"
             ]
            ],
            "type": "heatmap"
           }
          ],
          "heatmapgl": [
           {
            "colorbar": {
             "outlinewidth": 0,
             "ticks": ""
            },
            "colorscale": [
             [
              0,
              "#0d0887"
             ],
             [
              0.1111111111111111,
              "#46039f"
             ],
             [
              0.2222222222222222,
              "#7201a8"
             ],
             [
              0.3333333333333333,
              "#9c179e"
             ],
             [
              0.4444444444444444,
              "#bd3786"
             ],
             [
              0.5555555555555556,
              "#d8576b"
             ],
             [
              0.6666666666666666,
              "#ed7953"
             ],
             [
              0.7777777777777778,
              "#fb9f3a"
             ],
             [
              0.8888888888888888,
              "#fdca26"
             ],
             [
              1,
              "#f0f921"
             ]
            ],
            "type": "heatmapgl"
           }
          ],
          "histogram": [
           {
            "marker": {
             "pattern": {
              "fillmode": "overlay",
              "size": 10,
              "solidity": 0.2
             }
            },
            "type": "histogram"
           }
          ],
          "histogram2d": [
           {
            "colorbar": {
             "outlinewidth": 0,
             "ticks": ""
            },
            "colorscale": [
             [
              0,
              "#0d0887"
             ],
             [
              0.1111111111111111,
              "#46039f"
             ],
             [
              0.2222222222222222,
              "#7201a8"
             ],
             [
              0.3333333333333333,
              "#9c179e"
             ],
             [
              0.4444444444444444,
              "#bd3786"
             ],
             [
              0.5555555555555556,
              "#d8576b"
             ],
             [
              0.6666666666666666,
              "#ed7953"
             ],
             [
              0.7777777777777778,
              "#fb9f3a"
             ],
             [
              0.8888888888888888,
              "#fdca26"
             ],
             [
              1,
              "#f0f921"
             ]
            ],
            "type": "histogram2d"
           }
          ],
          "histogram2dcontour": [
           {
            "colorbar": {
             "outlinewidth": 0,
             "ticks": ""
            },
            "colorscale": [
             [
              0,
              "#0d0887"
             ],
             [
              0.1111111111111111,
              "#46039f"
             ],
             [
              0.2222222222222222,
              "#7201a8"
             ],
             [
              0.3333333333333333,
              "#9c179e"
             ],
             [
              0.4444444444444444,
              "#bd3786"
             ],
             [
              0.5555555555555556,
              "#d8576b"
             ],
             [
              0.6666666666666666,
              "#ed7953"
             ],
             [
              0.7777777777777778,
              "#fb9f3a"
             ],
             [
              0.8888888888888888,
              "#fdca26"
             ],
             [
              1,
              "#f0f921"
             ]
            ],
            "type": "histogram2dcontour"
           }
          ],
          "mesh3d": [
           {
            "colorbar": {
             "outlinewidth": 0,
             "ticks": ""
            },
            "type": "mesh3d"
           }
          ],
          "parcoords": [
           {
            "line": {
             "colorbar": {
              "outlinewidth": 0,
              "ticks": ""
             }
            },
            "type": "parcoords"
           }
          ],
          "pie": [
           {
            "automargin": true,
            "type": "pie"
           }
          ],
          "scatter": [
           {
            "fillpattern": {
             "fillmode": "overlay",
             "size": 10,
             "solidity": 0.2
            },
            "type": "scatter"
           }
          ],
          "scatter3d": [
           {
            "line": {
             "colorbar": {
              "outlinewidth": 0,
              "ticks": ""
             }
            },
            "marker": {
             "colorbar": {
              "outlinewidth": 0,
              "ticks": ""
             }
            },
            "type": "scatter3d"
           }
          ],
          "scattercarpet": [
           {
            "marker": {
             "colorbar": {
              "outlinewidth": 0,
              "ticks": ""
             }
            },
            "type": "scattercarpet"
           }
          ],
          "scattergeo": [
           {
            "marker": {
             "colorbar": {
              "outlinewidth": 0,
              "ticks": ""
             }
            },
            "type": "scattergeo"
           }
          ],
          "scattergl": [
           {
            "marker": {
             "colorbar": {
              "outlinewidth": 0,
              "ticks": ""
             }
            },
            "type": "scattergl"
           }
          ],
          "scattermapbox": [
           {
            "marker": {
             "colorbar": {
              "outlinewidth": 0,
              "ticks": ""
             }
            },
            "type": "scattermapbox"
           }
          ],
          "scatterpolar": [
           {
            "marker": {
             "colorbar": {
              "outlinewidth": 0,
              "ticks": ""
             }
            },
            "type": "scatterpolar"
           }
          ],
          "scatterpolargl": [
           {
            "marker": {
             "colorbar": {
              "outlinewidth": 0,
              "ticks": ""
             }
            },
            "type": "scatterpolargl"
           }
          ],
          "scatterternary": [
           {
            "marker": {
             "colorbar": {
              "outlinewidth": 0,
              "ticks": ""
             }
            },
            "type": "scatterternary"
           }
          ],
          "surface": [
           {
            "colorbar": {
             "outlinewidth": 0,
             "ticks": ""
            },
            "colorscale": [
             [
              0,
              "#0d0887"
             ],
             [
              0.1111111111111111,
              "#46039f"
             ],
             [
              0.2222222222222222,
              "#7201a8"
             ],
             [
              0.3333333333333333,
              "#9c179e"
             ],
             [
              0.4444444444444444,
              "#bd3786"
             ],
             [
              0.5555555555555556,
              "#d8576b"
             ],
             [
              0.6666666666666666,
              "#ed7953"
             ],
             [
              0.7777777777777778,
              "#fb9f3a"
             ],
             [
              0.8888888888888888,
              "#fdca26"
             ],
             [
              1,
              "#f0f921"
             ]
            ],
            "type": "surface"
           }
          ],
          "table": [
           {
            "cells": {
             "fill": {
              "color": "#EBF0F8"
             },
             "line": {
              "color": "white"
             }
            },
            "header": {
             "fill": {
              "color": "#C8D4E3"
             },
             "line": {
              "color": "white"
             }
            },
            "type": "table"
           }
          ]
         },
         "layout": {
          "annotationdefaults": {
           "arrowcolor": "#2a3f5f",
           "arrowhead": 0,
           "arrowwidth": 1
          },
          "autotypenumbers": "strict",
          "coloraxis": {
           "colorbar": {
            "outlinewidth": 0,
            "ticks": ""
           }
          },
          "colorscale": {
           "diverging": [
            [
             0,
             "#8e0152"
            ],
            [
             0.1,
             "#c51b7d"
            ],
            [
             0.2,
             "#de77ae"
            ],
            [
             0.3,
             "#f1b6da"
            ],
            [
             0.4,
             "#fde0ef"
            ],
            [
             0.5,
             "#f7f7f7"
            ],
            [
             0.6,
             "#e6f5d0"
            ],
            [
             0.7,
             "#b8e186"
            ],
            [
             0.8,
             "#7fbc41"
            ],
            [
             0.9,
             "#4d9221"
            ],
            [
             1,
             "#276419"
            ]
           ],
           "sequential": [
            [
             0,
             "#0d0887"
            ],
            [
             0.1111111111111111,
             "#46039f"
            ],
            [
             0.2222222222222222,
             "#7201a8"
            ],
            [
             0.3333333333333333,
             "#9c179e"
            ],
            [
             0.4444444444444444,
             "#bd3786"
            ],
            [
             0.5555555555555556,
             "#d8576b"
            ],
            [
             0.6666666666666666,
             "#ed7953"
            ],
            [
             0.7777777777777778,
             "#fb9f3a"
            ],
            [
             0.8888888888888888,
             "#fdca26"
            ],
            [
             1,
             "#f0f921"
            ]
           ],
           "sequentialminus": [
            [
             0,
             "#0d0887"
            ],
            [
             0.1111111111111111,
             "#46039f"
            ],
            [
             0.2222222222222222,
             "#7201a8"
            ],
            [
             0.3333333333333333,
             "#9c179e"
            ],
            [
             0.4444444444444444,
             "#bd3786"
            ],
            [
             0.5555555555555556,
             "#d8576b"
            ],
            [
             0.6666666666666666,
             "#ed7953"
            ],
            [
             0.7777777777777778,
             "#fb9f3a"
            ],
            [
             0.8888888888888888,
             "#fdca26"
            ],
            [
             1,
             "#f0f921"
            ]
           ]
          },
          "colorway": [
           "#636efa",
           "#EF553B",
           "#00cc96",
           "#ab63fa",
           "#FFA15A",
           "#19d3f3",
           "#FF6692",
           "#B6E880",
           "#FF97FF",
           "#FECB52"
          ],
          "font": {
           "color": "#2a3f5f"
          },
          "geo": {
           "bgcolor": "white",
           "lakecolor": "white",
           "landcolor": "#E5ECF6",
           "showlakes": true,
           "showland": true,
           "subunitcolor": "white"
          },
          "hoverlabel": {
           "align": "left"
          },
          "hovermode": "closest",
          "mapbox": {
           "style": "light"
          },
          "paper_bgcolor": "white",
          "plot_bgcolor": "#E5ECF6",
          "polar": {
           "angularaxis": {
            "gridcolor": "white",
            "linecolor": "white",
            "ticks": ""
           },
           "bgcolor": "#E5ECF6",
           "radialaxis": {
            "gridcolor": "white",
            "linecolor": "white",
            "ticks": ""
           }
          },
          "scene": {
           "xaxis": {
            "backgroundcolor": "#E5ECF6",
            "gridcolor": "white",
            "gridwidth": 2,
            "linecolor": "white",
            "showbackground": true,
            "ticks": "",
            "zerolinecolor": "white"
           },
           "yaxis": {
            "backgroundcolor": "#E5ECF6",
            "gridcolor": "white",
            "gridwidth": 2,
            "linecolor": "white",
            "showbackground": true,
            "ticks": "",
            "zerolinecolor": "white"
           },
           "zaxis": {
            "backgroundcolor": "#E5ECF6",
            "gridcolor": "white",
            "gridwidth": 2,
            "linecolor": "white",
            "showbackground": true,
            "ticks": "",
            "zerolinecolor": "white"
           }
          },
          "shapedefaults": {
           "line": {
            "color": "#2a3f5f"
           }
          },
          "ternary": {
           "aaxis": {
            "gridcolor": "white",
            "linecolor": "white",
            "ticks": ""
           },
           "baxis": {
            "gridcolor": "white",
            "linecolor": "white",
            "ticks": ""
           },
           "bgcolor": "#E5ECF6",
           "caxis": {
            "gridcolor": "white",
            "linecolor": "white",
            "ticks": ""
           }
          },
          "title": {
           "x": 0.05
          },
          "xaxis": {
           "automargin": true,
           "gridcolor": "white",
           "linecolor": "white",
           "ticks": "",
           "title": {
            "standoff": 15
           },
           "zerolinecolor": "white",
           "zerolinewidth": 2
          },
          "yaxis": {
           "automargin": true,
           "gridcolor": "white",
           "linecolor": "white",
           "ticks": "",
           "title": {
            "standoff": 15
           },
           "zerolinecolor": "white",
           "zerolinewidth": 2
          }
         }
        },
        "title": {
         "font": {
          "color": "#4D5663"
         }
        },
        "xaxis": {
         "gridcolor": "#E1E5ED",
         "showgrid": true,
         "tickfont": {
          "color": "#4D5663"
         },
         "title": {
          "font": {
           "color": "#4D5663"
          },
          "text": ""
         },
         "zerolinecolor": "#E1E5ED"
        },
        "yaxis": {
         "gridcolor": "#E1E5ED",
         "showgrid": true,
         "tickfont": {
          "color": "#4D5663"
         },
         "title": {
          "font": {
           "color": "#4D5663"
          },
          "text": ""
         },
         "zerolinecolor": "#E1E5ED"
        }
       }
      },
      "text/html": [
       "<div>                            <div id=\"d706aeb9-b56b-40f3-8d93-067537533347\" class=\"plotly-graph-div\" style=\"height:525px; width:100%;\"></div>            <script type=\"text/javascript\">                require([\"plotly\"], function(Plotly) {                    window.PLOTLYENV=window.PLOTLYENV || {};\n",
       "                    window.PLOTLYENV.BASE_URL='https://plot.ly';                                    if (document.getElementById(\"d706aeb9-b56b-40f3-8d93-067537533347\")) {                    Plotly.newPlot(                        \"d706aeb9-b56b-40f3-8d93-067537533347\",                        [{\"boxpoints\":false,\"line\":{\"width\":1.3},\"marker\":{\"color\":\"rgba(255, 153, 51, 1.0)\"},\"name\":\"A\",\"orientation\":\"v\",\"y\":[1.6185342153503897,1.1848362441609444,1.0676265789711767,0.6289578176999444,-0.0731723746557524,-0.10349025747306093,-0.13828150425216726,0.8810902574734345,-0.5542620086053726,1.367655392604224,0.42159233908657434,-1.6600131400907159,-2.321880943758504,-0.14525715490075852,-1.4150329423246357,1.1902193781513097,0.032605182130966644,-1.1068654931550255,-0.4881710870419417,-1.0064654004665394,-1.4861349648044178,0.42126197939457344,0.2033513437481144,0.6780192171590568,2.2695601885039856,-1.0530794893148434,-0.7599582936020849,0.07479649981688027,-0.5004585006618902,-0.7069045792139065,-0.7490649048467005,-0.9573833622535074,0.3184903662704784,0.5232510497782804,-0.292920914056626,0.5526442907323154,0.28927758198705866,-0.9595308675629673,0.6624074725052688,-1.2675470861916667,-1.298518317282184,1.6505714308200703,0.7711743870399246,-0.10350465261086673,-0.9890595965375653,0.09060720967289916,-0.9664272965492815,1.7520110562695306,2.0598160276614736,-1.5398792263792436,0.14913323679684518,0.995048297495277,-0.8178015437731536,-1.1488188276104512,-1.2553879715068992,0.702144807401087,-0.14721370696443659,0.9849700972122788,-1.6159928381795001,2.8876664099211764,1.1792610841498818,1.137534866296284,0.36529841743489505,0.6837628681037843,0.3857655623229011,-1.4277493996033706,1.9387091111049926,-0.8799227856643209,0.17157935956524548,1.2164326922302917,0.004829280486984333,-0.7305142209733924,0.8090950392810067,-2.7632429506224883,0.9238654843844363,0.13909084142958214,0.06932779342792991,0.10316445888209945,-1.4408925516222189,-1.5014989504920706,1.3164328202880184,0.20632089660007252,-0.4332798600838577,0.5100226609573209,-0.5583994791359564,0.4825916998568048,-0.15873725230421742,-2.033833509570888,-0.56776873608412,-1.3983642700361827,-0.17721085755554614,-0.4777864854606395,-0.7084571357637636,0.14725150781339041,0.5160571944585837,2.391248105092854,-0.035925646760449015,0.3993352653098139,0.5041548045378224,-2.4531789724121182],\"type\":\"box\"},{\"boxpoints\":false,\"line\":{\"width\":1.3},\"marker\":{\"color\":\"rgba(55, 128, 191, 1.0)\"},\"name\":\"B\",\"orientation\":\"v\",\"y\":[0.24555663252945903,-0.5638129038214954,0.15838017982758465,0.025965138727300052,1.0261693833091186,-1.8117251738858402,1.2824990052649607,0.9227163869758231,-0.32928491407238214,0.3366044693090377,0.16065191024800432,0.8082078977266477,-0.37421382646895285,0.4443612006818534,1.2591791755585575,-0.272577764440088,0.05397960093059676,0.9925302761246275,0.8240201250613609,0.03421864511183541,1.7687225019146364,0.9401432164859415,1.294385534196133,0.6944745568559109,0.4364763563018746,0.19932268382576923,-0.27934197237725056,-1.5844482409973324,0.8691582357782162,0.7968557938544397,1.227966360927478,0.32626552917603463,-0.5268174005804046,0.16189388577452204,0.47272456823309345,0.08452053298458287,-0.8350294005227219,0.8340070844504154,-1.2518433951160093,-0.5889093096430914,-1.5761297357175614,0.7025218259235306,0.9816624927802996,-1.3176098140720194,1.0192498512213706,-0.06384003639023407,-0.6499138608042271,1.779442553151568,0.9457660017435001,1.307783424473417,-0.22117084156221578,1.7868932790407142,-1.0844140449242934,0.35024847218493776,0.884244535300552,0.6614379919438789,-1.3080451104956212,-0.19203618050731222,1.400879527302598,-1.9204936660131982,0.0733528470981566,-2.7096374996506603,1.2516569643880509,1.375309163239427,0.6338916751026681,-0.44015753737571284,-0.47999473391612174,-0.5470196774727828,-0.6448957474033917,-1.2312387282637907,-0.7882654917165696,0.6992660805993933,1.343159728014624,0.006554386717324803,1.1839666350547748,0.7852962090064953,1.090853039440043,-0.9191197192317047,-0.584937510658358,0.09935280627146068,-1.0597550817994716,0.6327940167393934,-0.26286404024615473,1.3291756615688792,-1.082743328643993,-0.2925693546759645,0.5283895907770542,1.7397374477560037,-0.34785501448501577,-1.1370577316276549,-1.116757259654754,-0.18340610752183722,-0.5649610550472014,-0.6529937313804469,1.1892675399002437,-0.036918623731211,0.4873170568674592,0.20282226504473866,-0.09245437072411745,-1.719683555373446],\"type\":\"box\"},{\"boxpoints\":false,\"line\":{\"width\":1.3},\"marker\":{\"color\":\"rgba(50, 171, 96, 1.0)\"},\"name\":\"C\",\"orientation\":\"v\",\"y\":[-0.7644822413693503,-0.1662780085710339,0.476737776512657,1.4936427419112215,-0.22543083544286424,-1.1528789834282267,-0.9145599054270486,0.6926928442784844,-0.7846538929797743,3.261286499391137,-0.3196878208660037,-0.5580597341869193,-0.07611352643623193,-0.8898316509425989,-0.060257606747032635,-1.3668359664811756,-0.3919686336500909,1.5773911905104674,-3.672083633498876,0.9592072279269754,-0.36728173072607145,-0.06592633986444874,0.5195147403283626,1.4367648709473158,0.588393385748988,0.5010464120146308,1.458197359722872,1.4033408998176609,0.5882306906786982,-0.01330942267740433,1.2204185193567985,-0.10351237409761757,0.9706776034627427,-0.40920892348266236,-0.4866247360048921,0.7447191006627771,1.1753784285764202,-0.5412944791445348,-0.4027018764364136,1.8452248769505646,0.7341576819387037,-0.3051854810248275,-0.455162147955806,-2.0936535067897633,-0.40803538659550626,-0.557237147596639,0.41033157396129283,1.8103444417304027,1.2729115835710718,-0.365619533164616,0.4045133583442117,0.878458817843963,1.1716116786672737,-0.327185943945804,-1.4642372365515886,0.7479040937945937,-0.21232086450058058,0.30441721368609154,-0.17838098345618944,0.048893538909246685,0.5431229851756696,-1.5511865083904635,0.748135895567872,-0.8027523221376446,0.05413105733115739,-0.7552986349452647,1.6925935305078619,2.7731199599523024,0.3976042964293238,0.16069785582660906,1.8582639023881855,-2.8071351426453006,-0.39275983410029053,-1.7962738629907888,-2.8846404770038054,1.1236777466184569,0.12690159251538763,-1.1528007942449985,1.5470584624794035,-1.0005599812456638,-1.0361221173839588,-0.27961960165187155,1.4052368799060402,-0.08589290136502413,-1.0523067336538345,-0.7823991345386283,-1.0782677441716935,0.4118484560269983,-0.1341138205847123,0.88217168473262,-1.0530760579886873,-1.11470542274002,-0.3639578541068347,0.7090787748642308,-0.05043629087056435,-0.6411187072517381,0.11225083761789163,-0.3161044723542811,0.36134256890035965,1.064898007641068],\"type\":\"box\"},{\"boxpoints\":false,\"line\":{\"width\":1.3},\"marker\":{\"color\":\"rgba(128, 0, 128, 1.0)\"},\"name\":\"D\",\"orientation\":\"v\",\"y\":[0.2744649834576402,0.30505186749072055,0.9552842712056142,-1.5877356412380441,-1.9829666534938248,0.7281059616081297,-0.24866605176086806,1.6867746489714364,-0.47433186805037475,1.3309093841279975,0.7826651601189504,0.06633303853784404,0.13517470911895196,0.16004480263028875,-0.7547005701421727,-0.5769737391550736,0.7292426011402716,-0.9013427172451478,0.7638875771702128,0.502849277241576,-0.14986686819522207,-0.15154766185481316,1.7835126345197732,0.9250576775717128,-0.8267734506854625,-1.0524333267491204,0.7771261928019507,1.3323368419066017,-0.3902289572716338,-2.165987786738288,1.2471730706066182,-0.7239374669366284,0.5845519354093854,0.8242761695515141,-0.20143211884371268,0.7747345462600389,1.301164749130198,1.7334250664323112,-1.4953144105740297,0.04132449477715334,-1.538077537986922,0.04651870366323089,0.24043595492857256,0.35729055466919657,0.023400722584806403,-0.18712386683292365,-1.3061229116767614,0.04778365721760829,0.3123497007713095,1.8398002507776399,-0.9607476319391202,-0.1666046527207271,0.7242861439665697,0.20125182850242238,0.905483293506512,0.9752938038603591,0.35425824862340866,-0.27586685231942104,0.11976282465338085,3.2243782304736053,2.0931416280461344,-0.9511333098681802,-0.3984245245883266,-0.22451354667979806,1.2338333260992367,1.2579236097499082,0.7002378085384303,-0.3461053591931336,-0.03964551470745989,-0.3068339828473522,-0.49375752698330977,0.4023347882608713,-2.669455923852125,0.3792523857491676,-0.8900751524116217,-1.408124367597601,0.2454881123818337,-1.1621401975664536,-0.9665745540254186,-1.0932691246330395,0.5901274307875186,-2.380602599864061,1.9806669427320818,-0.7185877181308681,-0.3151174946912165,0.6371137482940696,-0.580782043392684,0.6866161863110284,1.7016331319215445,0.17366797709539758,0.80654107694807,1.0748291936624732,1.2247102877434826,1.4856703181119582,0.7572276084962513,0.09586379779127335,0.5749735657711563,0.26297684223876916,1.4596711124358221,0.5638167296469515],\"type\":\"box\"}],                        {\"legend\":{\"bgcolor\":\"#F5F6F9\",\"font\":{\"color\":\"#4D5663\"}},\"paper_bgcolor\":\"#F5F6F9\",\"plot_bgcolor\":\"#F5F6F9\",\"template\":{\"data\":{\"barpolar\":[{\"marker\":{\"line\":{\"color\":\"#E5ECF6\",\"width\":0.5},\"pattern\":{\"fillmode\":\"overlay\",\"size\":10,\"solidity\":0.2}},\"type\":\"barpolar\"}],\"bar\":[{\"error_x\":{\"color\":\"#2a3f5f\"},\"error_y\":{\"color\":\"#2a3f5f\"},\"marker\":{\"line\":{\"color\":\"#E5ECF6\",\"width\":0.5},\"pattern\":{\"fillmode\":\"overlay\",\"size\":10,\"solidity\":0.2}},\"type\":\"bar\"}],\"carpet\":[{\"aaxis\":{\"endlinecolor\":\"#2a3f5f\",\"gridcolor\":\"white\",\"linecolor\":\"white\",\"minorgridcolor\":\"white\",\"startlinecolor\":\"#2a3f5f\"},\"baxis\":{\"endlinecolor\":\"#2a3f5f\",\"gridcolor\":\"white\",\"linecolor\":\"white\",\"minorgridcolor\":\"white\",\"startlinecolor\":\"#2a3f5f\"},\"type\":\"carpet\"}],\"choropleth\":[{\"colorbar\":{\"outlinewidth\":0,\"ticks\":\"\"},\"type\":\"choropleth\"}],\"contourcarpet\":[{\"colorbar\":{\"outlinewidth\":0,\"ticks\":\"\"},\"type\":\"contourcarpet\"}],\"contour\":[{\"colorbar\":{\"outlinewidth\":0,\"ticks\":\"\"},\"colorscale\":[[0.0,\"#0d0887\"],[0.1111111111111111,\"#46039f\"],[0.2222222222222222,\"#7201a8\"],[0.3333333333333333,\"#9c179e\"],[0.4444444444444444,\"#bd3786\"],[0.5555555555555556,\"#d8576b\"],[0.6666666666666666,\"#ed7953\"],[0.7777777777777778,\"#fb9f3a\"],[0.8888888888888888,\"#fdca26\"],[1.0,\"#f0f921\"]],\"type\":\"contour\"}],\"heatmapgl\":[{\"colorbar\":{\"outlinewidth\":0,\"ticks\":\"\"},\"colorscale\":[[0.0,\"#0d0887\"],[0.1111111111111111,\"#46039f\"],[0.2222222222222222,\"#7201a8\"],[0.3333333333333333,\"#9c179e\"],[0.4444444444444444,\"#bd3786\"],[0.5555555555555556,\"#d8576b\"],[0.6666666666666666,\"#ed7953\"],[0.7777777777777778,\"#fb9f3a\"],[0.8888888888888888,\"#fdca26\"],[1.0,\"#f0f921\"]],\"type\":\"heatmapgl\"}],\"heatmap\":[{\"colorbar\":{\"outlinewidth\":0,\"ticks\":\"\"},\"colorscale\":[[0.0,\"#0d0887\"],[0.1111111111111111,\"#46039f\"],[0.2222222222222222,\"#7201a8\"],[0.3333333333333333,\"#9c179e\"],[0.4444444444444444,\"#bd3786\"],[0.5555555555555556,\"#d8576b\"],[0.6666666666666666,\"#ed7953\"],[0.7777777777777778,\"#fb9f3a\"],[0.8888888888888888,\"#fdca26\"],[1.0,\"#f0f921\"]],\"type\":\"heatmap\"}],\"histogram2dcontour\":[{\"colorbar\":{\"outlinewidth\":0,\"ticks\":\"\"},\"colorscale\":[[0.0,\"#0d0887\"],[0.1111111111111111,\"#46039f\"],[0.2222222222222222,\"#7201a8\"],[0.3333333333333333,\"#9c179e\"],[0.4444444444444444,\"#bd3786\"],[0.5555555555555556,\"#d8576b\"],[0.6666666666666666,\"#ed7953\"],[0.7777777777777778,\"#fb9f3a\"],[0.8888888888888888,\"#fdca26\"],[1.0,\"#f0f921\"]],\"type\":\"histogram2dcontour\"}],\"histogram2d\":[{\"colorbar\":{\"outlinewidth\":0,\"ticks\":\"\"},\"colorscale\":[[0.0,\"#0d0887\"],[0.1111111111111111,\"#46039f\"],[0.2222222222222222,\"#7201a8\"],[0.3333333333333333,\"#9c179e\"],[0.4444444444444444,\"#bd3786\"],[0.5555555555555556,\"#d8576b\"],[0.6666666666666666,\"#ed7953\"],[0.7777777777777778,\"#fb9f3a\"],[0.8888888888888888,\"#fdca26\"],[1.0,\"#f0f921\"]],\"type\":\"histogram2d\"}],\"histogram\":[{\"marker\":{\"pattern\":{\"fillmode\":\"overlay\",\"size\":10,\"solidity\":0.2}},\"type\":\"histogram\"}],\"mesh3d\":[{\"colorbar\":{\"outlinewidth\":0,\"ticks\":\"\"},\"type\":\"mesh3d\"}],\"parcoords\":[{\"line\":{\"colorbar\":{\"outlinewidth\":0,\"ticks\":\"\"}},\"type\":\"parcoords\"}],\"pie\":[{\"automargin\":true,\"type\":\"pie\"}],\"scatter3d\":[{\"line\":{\"colorbar\":{\"outlinewidth\":0,\"ticks\":\"\"}},\"marker\":{\"colorbar\":{\"outlinewidth\":0,\"ticks\":\"\"}},\"type\":\"scatter3d\"}],\"scattercarpet\":[{\"marker\":{\"colorbar\":{\"outlinewidth\":0,\"ticks\":\"\"}},\"type\":\"scattercarpet\"}],\"scattergeo\":[{\"marker\":{\"colorbar\":{\"outlinewidth\":0,\"ticks\":\"\"}},\"type\":\"scattergeo\"}],\"scattergl\":[{\"marker\":{\"colorbar\":{\"outlinewidth\":0,\"ticks\":\"\"}},\"type\":\"scattergl\"}],\"scattermapbox\":[{\"marker\":{\"colorbar\":{\"outlinewidth\":0,\"ticks\":\"\"}},\"type\":\"scattermapbox\"}],\"scatterpolargl\":[{\"marker\":{\"colorbar\":{\"outlinewidth\":0,\"ticks\":\"\"}},\"type\":\"scatterpolargl\"}],\"scatterpolar\":[{\"marker\":{\"colorbar\":{\"outlinewidth\":0,\"ticks\":\"\"}},\"type\":\"scatterpolar\"}],\"scatter\":[{\"fillpattern\":{\"fillmode\":\"overlay\",\"size\":10,\"solidity\":0.2},\"type\":\"scatter\"}],\"scatterternary\":[{\"marker\":{\"colorbar\":{\"outlinewidth\":0,\"ticks\":\"\"}},\"type\":\"scatterternary\"}],\"surface\":[{\"colorbar\":{\"outlinewidth\":0,\"ticks\":\"\"},\"colorscale\":[[0.0,\"#0d0887\"],[0.1111111111111111,\"#46039f\"],[0.2222222222222222,\"#7201a8\"],[0.3333333333333333,\"#9c179e\"],[0.4444444444444444,\"#bd3786\"],[0.5555555555555556,\"#d8576b\"],[0.6666666666666666,\"#ed7953\"],[0.7777777777777778,\"#fb9f3a\"],[0.8888888888888888,\"#fdca26\"],[1.0,\"#f0f921\"]],\"type\":\"surface\"}],\"table\":[{\"cells\":{\"fill\":{\"color\":\"#EBF0F8\"},\"line\":{\"color\":\"white\"}},\"header\":{\"fill\":{\"color\":\"#C8D4E3\"},\"line\":{\"color\":\"white\"}},\"type\":\"table\"}]},\"layout\":{\"annotationdefaults\":{\"arrowcolor\":\"#2a3f5f\",\"arrowhead\":0,\"arrowwidth\":1},\"autotypenumbers\":\"strict\",\"coloraxis\":{\"colorbar\":{\"outlinewidth\":0,\"ticks\":\"\"}},\"colorscale\":{\"diverging\":[[0,\"#8e0152\"],[0.1,\"#c51b7d\"],[0.2,\"#de77ae\"],[0.3,\"#f1b6da\"],[0.4,\"#fde0ef\"],[0.5,\"#f7f7f7\"],[0.6,\"#e6f5d0\"],[0.7,\"#b8e186\"],[0.8,\"#7fbc41\"],[0.9,\"#4d9221\"],[1,\"#276419\"]],\"sequential\":[[0.0,\"#0d0887\"],[0.1111111111111111,\"#46039f\"],[0.2222222222222222,\"#7201a8\"],[0.3333333333333333,\"#9c179e\"],[0.4444444444444444,\"#bd3786\"],[0.5555555555555556,\"#d8576b\"],[0.6666666666666666,\"#ed7953\"],[0.7777777777777778,\"#fb9f3a\"],[0.8888888888888888,\"#fdca26\"],[1.0,\"#f0f921\"]],\"sequentialminus\":[[0.0,\"#0d0887\"],[0.1111111111111111,\"#46039f\"],[0.2222222222222222,\"#7201a8\"],[0.3333333333333333,\"#9c179e\"],[0.4444444444444444,\"#bd3786\"],[0.5555555555555556,\"#d8576b\"],[0.6666666666666666,\"#ed7953\"],[0.7777777777777778,\"#fb9f3a\"],[0.8888888888888888,\"#fdca26\"],[1.0,\"#f0f921\"]]},\"colorway\":[\"#636efa\",\"#EF553B\",\"#00cc96\",\"#ab63fa\",\"#FFA15A\",\"#19d3f3\",\"#FF6692\",\"#B6E880\",\"#FF97FF\",\"#FECB52\"],\"font\":{\"color\":\"#2a3f5f\"},\"geo\":{\"bgcolor\":\"white\",\"lakecolor\":\"white\",\"landcolor\":\"#E5ECF6\",\"showlakes\":true,\"showland\":true,\"subunitcolor\":\"white\"},\"hoverlabel\":{\"align\":\"left\"},\"hovermode\":\"closest\",\"mapbox\":{\"style\":\"light\"},\"paper_bgcolor\":\"white\",\"plot_bgcolor\":\"#E5ECF6\",\"polar\":{\"angularaxis\":{\"gridcolor\":\"white\",\"linecolor\":\"white\",\"ticks\":\"\"},\"bgcolor\":\"#E5ECF6\",\"radialaxis\":{\"gridcolor\":\"white\",\"linecolor\":\"white\",\"ticks\":\"\"}},\"scene\":{\"xaxis\":{\"backgroundcolor\":\"#E5ECF6\",\"gridcolor\":\"white\",\"gridwidth\":2,\"linecolor\":\"white\",\"showbackground\":true,\"ticks\":\"\",\"zerolinecolor\":\"white\"},\"yaxis\":{\"backgroundcolor\":\"#E5ECF6\",\"gridcolor\":\"white\",\"gridwidth\":2,\"linecolor\":\"white\",\"showbackground\":true,\"ticks\":\"\",\"zerolinecolor\":\"white\"},\"zaxis\":{\"backgroundcolor\":\"#E5ECF6\",\"gridcolor\":\"white\",\"gridwidth\":2,\"linecolor\":\"white\",\"showbackground\":true,\"ticks\":\"\",\"zerolinecolor\":\"white\"}},\"shapedefaults\":{\"line\":{\"color\":\"#2a3f5f\"}},\"ternary\":{\"aaxis\":{\"gridcolor\":\"white\",\"linecolor\":\"white\",\"ticks\":\"\"},\"baxis\":{\"gridcolor\":\"white\",\"linecolor\":\"white\",\"ticks\":\"\"},\"bgcolor\":\"#E5ECF6\",\"caxis\":{\"gridcolor\":\"white\",\"linecolor\":\"white\",\"ticks\":\"\"}},\"title\":{\"x\":0.05},\"xaxis\":{\"automargin\":true,\"gridcolor\":\"white\",\"linecolor\":\"white\",\"ticks\":\"\",\"title\":{\"standoff\":15},\"zerolinecolor\":\"white\",\"zerolinewidth\":2},\"yaxis\":{\"automargin\":true,\"gridcolor\":\"white\",\"linecolor\":\"white\",\"ticks\":\"\",\"title\":{\"standoff\":15},\"zerolinecolor\":\"white\",\"zerolinewidth\":2}}},\"title\":{\"font\":{\"color\":\"#4D5663\"}},\"xaxis\":{\"gridcolor\":\"#E1E5ED\",\"showgrid\":true,\"tickfont\":{\"color\":\"#4D5663\"},\"title\":{\"font\":{\"color\":\"#4D5663\"},\"text\":\"\"},\"zerolinecolor\":\"#E1E5ED\"},\"yaxis\":{\"gridcolor\":\"#E1E5ED\",\"showgrid\":true,\"tickfont\":{\"color\":\"#4D5663\"},\"title\":{\"font\":{\"color\":\"#4D5663\"},\"text\":\"\"},\"zerolinecolor\":\"#E1E5ED\"}},                        {\"showLink\": true, \"linkText\": \"Export to plot.ly\", \"plotlyServerURL\": \"https://plot.ly\", \"responsive\": true}                    ).then(function(){\n",
       "                            \n",
       "var gd = document.getElementById('d706aeb9-b56b-40f3-8d93-067537533347');\n",
       "var x = new MutationObserver(function (mutations, observer) {{\n",
       "        var display = window.getComputedStyle(gd).display;\n",
       "        if (!display || display === 'none') {{\n",
       "            console.log([gd, 'removed!']);\n",
       "            Plotly.purge(gd);\n",
       "            observer.disconnect();\n",
       "        }}\n",
       "}});\n",
       "\n",
       "// Listen for the removal of the full notebook cells\n",
       "var notebookContainer = gd.closest('#notebook-container');\n",
       "if (notebookContainer) {{\n",
       "    x.observe(notebookContainer, {childList: true});\n",
       "}}\n",
       "\n",
       "// Listen for the clearing of the current output cell\n",
       "var outputEl = gd.closest('.output');\n",
       "if (outputEl) {{\n",
       "    x.observe(outputEl, {childList: true});\n",
       "}}\n",
       "\n",
       "                        })                };                });            </script>        </div>"
      ]
     },
     "metadata": {},
     "output_type": "display_data"
    }
   ],
   "source": [
    "df.iplot(kind='box')"
   ]
  },
  {
   "cell_type": "code",
   "execution_count": 69,
   "id": "92e6d029",
   "metadata": {},
   "outputs": [],
   "source": [
    "df3=pd.DataFrame({'x':[1,2,3,4,5],'y':[10,20,30,40,50],'z':[500,400,300,200,100]})"
   ]
  },
  {
   "cell_type": "code",
   "execution_count": 76,
   "id": "6ae3fb23",
   "metadata": {},
   "outputs": [
    {
     "data": {
      "application/vnd.plotly.v1+json": {
       "config": {
        "linkText": "Export to plot.ly",
        "plotlyServerURL": "https://plot.ly",
        "showLink": true
       },
       "data": [
        {
         "colorscale": [
          [
           0,
           "rgb(255, 153, 51)"
          ],
          [
           0.1111111111111111,
           "rgb(55, 128, 191)"
          ],
          [
           0.2222222222222222,
           "rgb(50, 171, 96)"
          ],
          [
           0.3333333333333333,
           "rgb(128, 0, 128)"
          ],
          [
           0.4444444444444444,
           "rgb(219, 64, 82)"
          ],
          [
           0.5555555555555556,
           "rgb(0, 128, 128)"
          ],
          [
           0.6666666666666666,
           "rgb(255, 255, 51)"
          ],
          [
           0.7777777777777778,
           "rgb(128, 128, 0)"
          ],
          [
           0.8888888888888888,
           "rgb(251, 128, 114)"
          ],
          [
           1,
           "rgb(128, 177, 211)"
          ]
         ],
         "type": "surface",
         "x": [
          0,
          1,
          2,
          3,
          4
         ],
         "y": [
          "x",
          "y",
          "z"
         ],
         "z": [
          [
           1,
           2,
           3,
           4,
           5
          ],
          [
           10,
           20,
           30,
           40,
           50
          ],
          [
           500,
           400,
           300,
           200,
           100
          ]
         ]
        }
       ],
       "layout": {
        "legend": {
         "bgcolor": "#F5F6F9",
         "font": {
          "color": "#4D5663"
         }
        },
        "paper_bgcolor": "#F5F6F9",
        "plot_bgcolor": "#F5F6F9",
        "template": {
         "data": {
          "bar": [
           {
            "error_x": {
             "color": "#2a3f5f"
            },
            "error_y": {
             "color": "#2a3f5f"
            },
            "marker": {
             "line": {
              "color": "#E5ECF6",
              "width": 0.5
             },
             "pattern": {
              "fillmode": "overlay",
              "size": 10,
              "solidity": 0.2
             }
            },
            "type": "bar"
           }
          ],
          "barpolar": [
           {
            "marker": {
             "line": {
              "color": "#E5ECF6",
              "width": 0.5
             },
             "pattern": {
              "fillmode": "overlay",
              "size": 10,
              "solidity": 0.2
             }
            },
            "type": "barpolar"
           }
          ],
          "carpet": [
           {
            "aaxis": {
             "endlinecolor": "#2a3f5f",
             "gridcolor": "white",
             "linecolor": "white",
             "minorgridcolor": "white",
             "startlinecolor": "#2a3f5f"
            },
            "baxis": {
             "endlinecolor": "#2a3f5f",
             "gridcolor": "white",
             "linecolor": "white",
             "minorgridcolor": "white",
             "startlinecolor": "#2a3f5f"
            },
            "type": "carpet"
           }
          ],
          "choropleth": [
           {
            "colorbar": {
             "outlinewidth": 0,
             "ticks": ""
            },
            "type": "choropleth"
           }
          ],
          "contour": [
           {
            "colorbar": {
             "outlinewidth": 0,
             "ticks": ""
            },
            "colorscale": [
             [
              0,
              "#0d0887"
             ],
             [
              0.1111111111111111,
              "#46039f"
             ],
             [
              0.2222222222222222,
              "#7201a8"
             ],
             [
              0.3333333333333333,
              "#9c179e"
             ],
             [
              0.4444444444444444,
              "#bd3786"
             ],
             [
              0.5555555555555556,
              "#d8576b"
             ],
             [
              0.6666666666666666,
              "#ed7953"
             ],
             [
              0.7777777777777778,
              "#fb9f3a"
             ],
             [
              0.8888888888888888,
              "#fdca26"
             ],
             [
              1,
              "#f0f921"
             ]
            ],
            "type": "contour"
           }
          ],
          "contourcarpet": [
           {
            "colorbar": {
             "outlinewidth": 0,
             "ticks": ""
            },
            "type": "contourcarpet"
           }
          ],
          "heatmap": [
           {
            "colorbar": {
             "outlinewidth": 0,
             "ticks": ""
            },
            "colorscale": [
             [
              0,
              "#0d0887"
             ],
             [
              0.1111111111111111,
              "#46039f"
             ],
             [
              0.2222222222222222,
              "#7201a8"
             ],
             [
              0.3333333333333333,
              "#9c179e"
             ],
             [
              0.4444444444444444,
              "#bd3786"
             ],
             [
              0.5555555555555556,
              "#d8576b"
             ],
             [
              0.6666666666666666,
              "#ed7953"
             ],
             [
              0.7777777777777778,
              "#fb9f3a"
             ],
             [
              0.8888888888888888,
              "#fdca26"
             ],
             [
              1,
              "#f0f921"
             ]
            ],
            "type": "heatmap"
           }
          ],
          "heatmapgl": [
           {
            "colorbar": {
             "outlinewidth": 0,
             "ticks": ""
            },
            "colorscale": [
             [
              0,
              "#0d0887"
             ],
             [
              0.1111111111111111,
              "#46039f"
             ],
             [
              0.2222222222222222,
              "#7201a8"
             ],
             [
              0.3333333333333333,
              "#9c179e"
             ],
             [
              0.4444444444444444,
              "#bd3786"
             ],
             [
              0.5555555555555556,
              "#d8576b"
             ],
             [
              0.6666666666666666,
              "#ed7953"
             ],
             [
              0.7777777777777778,
              "#fb9f3a"
             ],
             [
              0.8888888888888888,
              "#fdca26"
             ],
             [
              1,
              "#f0f921"
             ]
            ],
            "type": "heatmapgl"
           }
          ],
          "histogram": [
           {
            "marker": {
             "pattern": {
              "fillmode": "overlay",
              "size": 10,
              "solidity": 0.2
             }
            },
            "type": "histogram"
           }
          ],
          "histogram2d": [
           {
            "colorbar": {
             "outlinewidth": 0,
             "ticks": ""
            },
            "colorscale": [
             [
              0,
              "#0d0887"
             ],
             [
              0.1111111111111111,
              "#46039f"
             ],
             [
              0.2222222222222222,
              "#7201a8"
             ],
             [
              0.3333333333333333,
              "#9c179e"
             ],
             [
              0.4444444444444444,
              "#bd3786"
             ],
             [
              0.5555555555555556,
              "#d8576b"
             ],
             [
              0.6666666666666666,
              "#ed7953"
             ],
             [
              0.7777777777777778,
              "#fb9f3a"
             ],
             [
              0.8888888888888888,
              "#fdca26"
             ],
             [
              1,
              "#f0f921"
             ]
            ],
            "type": "histogram2d"
           }
          ],
          "histogram2dcontour": [
           {
            "colorbar": {
             "outlinewidth": 0,
             "ticks": ""
            },
            "colorscale": [
             [
              0,
              "#0d0887"
             ],
             [
              0.1111111111111111,
              "#46039f"
             ],
             [
              0.2222222222222222,
              "#7201a8"
             ],
             [
              0.3333333333333333,
              "#9c179e"
             ],
             [
              0.4444444444444444,
              "#bd3786"
             ],
             [
              0.5555555555555556,
              "#d8576b"
             ],
             [
              0.6666666666666666,
              "#ed7953"
             ],
             [
              0.7777777777777778,
              "#fb9f3a"
             ],
             [
              0.8888888888888888,
              "#fdca26"
             ],
             [
              1,
              "#f0f921"
             ]
            ],
            "type": "histogram2dcontour"
           }
          ],
          "mesh3d": [
           {
            "colorbar": {
             "outlinewidth": 0,
             "ticks": ""
            },
            "type": "mesh3d"
           }
          ],
          "parcoords": [
           {
            "line": {
             "colorbar": {
              "outlinewidth": 0,
              "ticks": ""
             }
            },
            "type": "parcoords"
           }
          ],
          "pie": [
           {
            "automargin": true,
            "type": "pie"
           }
          ],
          "scatter": [
           {
            "fillpattern": {
             "fillmode": "overlay",
             "size": 10,
             "solidity": 0.2
            },
            "type": "scatter"
           }
          ],
          "scatter3d": [
           {
            "line": {
             "colorbar": {
              "outlinewidth": 0,
              "ticks": ""
             }
            },
            "marker": {
             "colorbar": {
              "outlinewidth": 0,
              "ticks": ""
             }
            },
            "type": "scatter3d"
           }
          ],
          "scattercarpet": [
           {
            "marker": {
             "colorbar": {
              "outlinewidth": 0,
              "ticks": ""
             }
            },
            "type": "scattercarpet"
           }
          ],
          "scattergeo": [
           {
            "marker": {
             "colorbar": {
              "outlinewidth": 0,
              "ticks": ""
             }
            },
            "type": "scattergeo"
           }
          ],
          "scattergl": [
           {
            "marker": {
             "colorbar": {
              "outlinewidth": 0,
              "ticks": ""
             }
            },
            "type": "scattergl"
           }
          ],
          "scattermapbox": [
           {
            "marker": {
             "colorbar": {
              "outlinewidth": 0,
              "ticks": ""
             }
            },
            "type": "scattermapbox"
           }
          ],
          "scatterpolar": [
           {
            "marker": {
             "colorbar": {
              "outlinewidth": 0,
              "ticks": ""
             }
            },
            "type": "scatterpolar"
           }
          ],
          "scatterpolargl": [
           {
            "marker": {
             "colorbar": {
              "outlinewidth": 0,
              "ticks": ""
             }
            },
            "type": "scatterpolargl"
           }
          ],
          "scatterternary": [
           {
            "marker": {
             "colorbar": {
              "outlinewidth": 0,
              "ticks": ""
             }
            },
            "type": "scatterternary"
           }
          ],
          "surface": [
           {
            "colorbar": {
             "outlinewidth": 0,
             "ticks": ""
            },
            "colorscale": [
             [
              0,
              "#0d0887"
             ],
             [
              0.1111111111111111,
              "#46039f"
             ],
             [
              0.2222222222222222,
              "#7201a8"
             ],
             [
              0.3333333333333333,
              "#9c179e"
             ],
             [
              0.4444444444444444,
              "#bd3786"
             ],
             [
              0.5555555555555556,
              "#d8576b"
             ],
             [
              0.6666666666666666,
              "#ed7953"
             ],
             [
              0.7777777777777778,
              "#fb9f3a"
             ],
             [
              0.8888888888888888,
              "#fdca26"
             ],
             [
              1,
              "#f0f921"
             ]
            ],
            "type": "surface"
           }
          ],
          "table": [
           {
            "cells": {
             "fill": {
              "color": "#EBF0F8"
             },
             "line": {
              "color": "white"
             }
            },
            "header": {
             "fill": {
              "color": "#C8D4E3"
             },
             "line": {
              "color": "white"
             }
            },
            "type": "table"
           }
          ]
         },
         "layout": {
          "annotationdefaults": {
           "arrowcolor": "#2a3f5f",
           "arrowhead": 0,
           "arrowwidth": 1
          },
          "autotypenumbers": "strict",
          "coloraxis": {
           "colorbar": {
            "outlinewidth": 0,
            "ticks": ""
           }
          },
          "colorscale": {
           "diverging": [
            [
             0,
             "#8e0152"
            ],
            [
             0.1,
             "#c51b7d"
            ],
            [
             0.2,
             "#de77ae"
            ],
            [
             0.3,
             "#f1b6da"
            ],
            [
             0.4,
             "#fde0ef"
            ],
            [
             0.5,
             "#f7f7f7"
            ],
            [
             0.6,
             "#e6f5d0"
            ],
            [
             0.7,
             "#b8e186"
            ],
            [
             0.8,
             "#7fbc41"
            ],
            [
             0.9,
             "#4d9221"
            ],
            [
             1,
             "#276419"
            ]
           ],
           "sequential": [
            [
             0,
             "#0d0887"
            ],
            [
             0.1111111111111111,
             "#46039f"
            ],
            [
             0.2222222222222222,
             "#7201a8"
            ],
            [
             0.3333333333333333,
             "#9c179e"
            ],
            [
             0.4444444444444444,
             "#bd3786"
            ],
            [
             0.5555555555555556,
             "#d8576b"
            ],
            [
             0.6666666666666666,
             "#ed7953"
            ],
            [
             0.7777777777777778,
             "#fb9f3a"
            ],
            [
             0.8888888888888888,
             "#fdca26"
            ],
            [
             1,
             "#f0f921"
            ]
           ],
           "sequentialminus": [
            [
             0,
             "#0d0887"
            ],
            [
             0.1111111111111111,
             "#46039f"
            ],
            [
             0.2222222222222222,
             "#7201a8"
            ],
            [
             0.3333333333333333,
             "#9c179e"
            ],
            [
             0.4444444444444444,
             "#bd3786"
            ],
            [
             0.5555555555555556,
             "#d8576b"
            ],
            [
             0.6666666666666666,
             "#ed7953"
            ],
            [
             0.7777777777777778,
             "#fb9f3a"
            ],
            [
             0.8888888888888888,
             "#fdca26"
            ],
            [
             1,
             "#f0f921"
            ]
           ]
          },
          "colorway": [
           "#636efa",
           "#EF553B",
           "#00cc96",
           "#ab63fa",
           "#FFA15A",
           "#19d3f3",
           "#FF6692",
           "#B6E880",
           "#FF97FF",
           "#FECB52"
          ],
          "font": {
           "color": "#2a3f5f"
          },
          "geo": {
           "bgcolor": "white",
           "lakecolor": "white",
           "landcolor": "#E5ECF6",
           "showlakes": true,
           "showland": true,
           "subunitcolor": "white"
          },
          "hoverlabel": {
           "align": "left"
          },
          "hovermode": "closest",
          "mapbox": {
           "style": "light"
          },
          "paper_bgcolor": "white",
          "plot_bgcolor": "#E5ECF6",
          "polar": {
           "angularaxis": {
            "gridcolor": "white",
            "linecolor": "white",
            "ticks": ""
           },
           "bgcolor": "#E5ECF6",
           "radialaxis": {
            "gridcolor": "white",
            "linecolor": "white",
            "ticks": ""
           }
          },
          "scene": {
           "xaxis": {
            "backgroundcolor": "#E5ECF6",
            "gridcolor": "white",
            "gridwidth": 2,
            "linecolor": "white",
            "showbackground": true,
            "ticks": "",
            "zerolinecolor": "white"
           },
           "yaxis": {
            "backgroundcolor": "#E5ECF6",
            "gridcolor": "white",
            "gridwidth": 2,
            "linecolor": "white",
            "showbackground": true,
            "ticks": "",
            "zerolinecolor": "white"
           },
           "zaxis": {
            "backgroundcolor": "#E5ECF6",
            "gridcolor": "white",
            "gridwidth": 2,
            "linecolor": "white",
            "showbackground": true,
            "ticks": "",
            "zerolinecolor": "white"
           }
          },
          "shapedefaults": {
           "line": {
            "color": "#2a3f5f"
           }
          },
          "ternary": {
           "aaxis": {
            "gridcolor": "white",
            "linecolor": "white",
            "ticks": ""
           },
           "baxis": {
            "gridcolor": "white",
            "linecolor": "white",
            "ticks": ""
           },
           "bgcolor": "#E5ECF6",
           "caxis": {
            "gridcolor": "white",
            "linecolor": "white",
            "ticks": ""
           }
          },
          "title": {
           "x": 0.05
          },
          "xaxis": {
           "automargin": true,
           "gridcolor": "white",
           "linecolor": "white",
           "ticks": "",
           "title": {
            "standoff": 15
           },
           "zerolinecolor": "white",
           "zerolinewidth": 2
          },
          "yaxis": {
           "automargin": true,
           "gridcolor": "white",
           "linecolor": "white",
           "ticks": "",
           "title": {
            "standoff": 15
           },
           "zerolinecolor": "white",
           "zerolinewidth": 2
          }
         }
        },
        "title": {
         "font": {
          "color": "#4D5663"
         }
        },
        "xaxis": {
         "gridcolor": "#E1E5ED",
         "showgrid": true,
         "tickfont": {
          "color": "#4D5663"
         },
         "title": {
          "font": {
           "color": "#4D5663"
          },
          "text": ""
         },
         "zerolinecolor": "#E1E5ED"
        },
        "yaxis": {
         "gridcolor": "#E1E5ED",
         "showgrid": true,
         "tickfont": {
          "color": "#4D5663"
         },
         "title": {
          "font": {
           "color": "#4D5663"
          },
          "text": ""
         },
         "zerolinecolor": "#E1E5ED"
        }
       }
      },
      "text/html": [
       "<div>                            <div id=\"f763d3c8-9171-4437-8ead-0837547622e4\" class=\"plotly-graph-div\" style=\"height:525px; width:100%;\"></div>            <script type=\"text/javascript\">                require([\"plotly\"], function(Plotly) {                    window.PLOTLYENV=window.PLOTLYENV || {};\n",
       "                    window.PLOTLYENV.BASE_URL='https://plot.ly';                                    if (document.getElementById(\"f763d3c8-9171-4437-8ead-0837547622e4\")) {                    Plotly.newPlot(                        \"f763d3c8-9171-4437-8ead-0837547622e4\",                        [{\"colorscale\":[[0.0,\"rgb(255, 153, 51)\"],[0.1111111111111111,\"rgb(55, 128, 191)\"],[0.2222222222222222,\"rgb(50, 171, 96)\"],[0.3333333333333333,\"rgb(128, 0, 128)\"],[0.4444444444444444,\"rgb(219, 64, 82)\"],[0.5555555555555556,\"rgb(0, 128, 128)\"],[0.6666666666666666,\"rgb(255, 255, 51)\"],[0.7777777777777778,\"rgb(128, 128, 0)\"],[0.8888888888888888,\"rgb(251, 128, 114)\"],[1.0,\"rgb(128, 177, 211)\"]],\"x\":[0,1,2,3,4],\"y\":[\"x\",\"y\",\"z\"],\"z\":[[1,2,3,4,5],[10,20,30,40,50],[500,400,300,200,100]],\"type\":\"surface\"}],                        {\"legend\":{\"bgcolor\":\"#F5F6F9\",\"font\":{\"color\":\"#4D5663\"}},\"paper_bgcolor\":\"#F5F6F9\",\"plot_bgcolor\":\"#F5F6F9\",\"template\":{\"data\":{\"barpolar\":[{\"marker\":{\"line\":{\"color\":\"#E5ECF6\",\"width\":0.5},\"pattern\":{\"fillmode\":\"overlay\",\"size\":10,\"solidity\":0.2}},\"type\":\"barpolar\"}],\"bar\":[{\"error_x\":{\"color\":\"#2a3f5f\"},\"error_y\":{\"color\":\"#2a3f5f\"},\"marker\":{\"line\":{\"color\":\"#E5ECF6\",\"width\":0.5},\"pattern\":{\"fillmode\":\"overlay\",\"size\":10,\"solidity\":0.2}},\"type\":\"bar\"}],\"carpet\":[{\"aaxis\":{\"endlinecolor\":\"#2a3f5f\",\"gridcolor\":\"white\",\"linecolor\":\"white\",\"minorgridcolor\":\"white\",\"startlinecolor\":\"#2a3f5f\"},\"baxis\":{\"endlinecolor\":\"#2a3f5f\",\"gridcolor\":\"white\",\"linecolor\":\"white\",\"minorgridcolor\":\"white\",\"startlinecolor\":\"#2a3f5f\"},\"type\":\"carpet\"}],\"choropleth\":[{\"colorbar\":{\"outlinewidth\":0,\"ticks\":\"\"},\"type\":\"choropleth\"}],\"contourcarpet\":[{\"colorbar\":{\"outlinewidth\":0,\"ticks\":\"\"},\"type\":\"contourcarpet\"}],\"contour\":[{\"colorbar\":{\"outlinewidth\":0,\"ticks\":\"\"},\"colorscale\":[[0.0,\"#0d0887\"],[0.1111111111111111,\"#46039f\"],[0.2222222222222222,\"#7201a8\"],[0.3333333333333333,\"#9c179e\"],[0.4444444444444444,\"#bd3786\"],[0.5555555555555556,\"#d8576b\"],[0.6666666666666666,\"#ed7953\"],[0.7777777777777778,\"#fb9f3a\"],[0.8888888888888888,\"#fdca26\"],[1.0,\"#f0f921\"]],\"type\":\"contour\"}],\"heatmapgl\":[{\"colorbar\":{\"outlinewidth\":0,\"ticks\":\"\"},\"colorscale\":[[0.0,\"#0d0887\"],[0.1111111111111111,\"#46039f\"],[0.2222222222222222,\"#7201a8\"],[0.3333333333333333,\"#9c179e\"],[0.4444444444444444,\"#bd3786\"],[0.5555555555555556,\"#d8576b\"],[0.6666666666666666,\"#ed7953\"],[0.7777777777777778,\"#fb9f3a\"],[0.8888888888888888,\"#fdca26\"],[1.0,\"#f0f921\"]],\"type\":\"heatmapgl\"}],\"heatmap\":[{\"colorbar\":{\"outlinewidth\":0,\"ticks\":\"\"},\"colorscale\":[[0.0,\"#0d0887\"],[0.1111111111111111,\"#46039f\"],[0.2222222222222222,\"#7201a8\"],[0.3333333333333333,\"#9c179e\"],[0.4444444444444444,\"#bd3786\"],[0.5555555555555556,\"#d8576b\"],[0.6666666666666666,\"#ed7953\"],[0.7777777777777778,\"#fb9f3a\"],[0.8888888888888888,\"#fdca26\"],[1.0,\"#f0f921\"]],\"type\":\"heatmap\"}],\"histogram2dcontour\":[{\"colorbar\":{\"outlinewidth\":0,\"ticks\":\"\"},\"colorscale\":[[0.0,\"#0d0887\"],[0.1111111111111111,\"#46039f\"],[0.2222222222222222,\"#7201a8\"],[0.3333333333333333,\"#9c179e\"],[0.4444444444444444,\"#bd3786\"],[0.5555555555555556,\"#d8576b\"],[0.6666666666666666,\"#ed7953\"],[0.7777777777777778,\"#fb9f3a\"],[0.8888888888888888,\"#fdca26\"],[1.0,\"#f0f921\"]],\"type\":\"histogram2dcontour\"}],\"histogram2d\":[{\"colorbar\":{\"outlinewidth\":0,\"ticks\":\"\"},\"colorscale\":[[0.0,\"#0d0887\"],[0.1111111111111111,\"#46039f\"],[0.2222222222222222,\"#7201a8\"],[0.3333333333333333,\"#9c179e\"],[0.4444444444444444,\"#bd3786\"],[0.5555555555555556,\"#d8576b\"],[0.6666666666666666,\"#ed7953\"],[0.7777777777777778,\"#fb9f3a\"],[0.8888888888888888,\"#fdca26\"],[1.0,\"#f0f921\"]],\"type\":\"histogram2d\"}],\"histogram\":[{\"marker\":{\"pattern\":{\"fillmode\":\"overlay\",\"size\":10,\"solidity\":0.2}},\"type\":\"histogram\"}],\"mesh3d\":[{\"colorbar\":{\"outlinewidth\":0,\"ticks\":\"\"},\"type\":\"mesh3d\"}],\"parcoords\":[{\"line\":{\"colorbar\":{\"outlinewidth\":0,\"ticks\":\"\"}},\"type\":\"parcoords\"}],\"pie\":[{\"automargin\":true,\"type\":\"pie\"}],\"scatter3d\":[{\"line\":{\"colorbar\":{\"outlinewidth\":0,\"ticks\":\"\"}},\"marker\":{\"colorbar\":{\"outlinewidth\":0,\"ticks\":\"\"}},\"type\":\"scatter3d\"}],\"scattercarpet\":[{\"marker\":{\"colorbar\":{\"outlinewidth\":0,\"ticks\":\"\"}},\"type\":\"scattercarpet\"}],\"scattergeo\":[{\"marker\":{\"colorbar\":{\"outlinewidth\":0,\"ticks\":\"\"}},\"type\":\"scattergeo\"}],\"scattergl\":[{\"marker\":{\"colorbar\":{\"outlinewidth\":0,\"ticks\":\"\"}},\"type\":\"scattergl\"}],\"scattermapbox\":[{\"marker\":{\"colorbar\":{\"outlinewidth\":0,\"ticks\":\"\"}},\"type\":\"scattermapbox\"}],\"scatterpolargl\":[{\"marker\":{\"colorbar\":{\"outlinewidth\":0,\"ticks\":\"\"}},\"type\":\"scatterpolargl\"}],\"scatterpolar\":[{\"marker\":{\"colorbar\":{\"outlinewidth\":0,\"ticks\":\"\"}},\"type\":\"scatterpolar\"}],\"scatter\":[{\"fillpattern\":{\"fillmode\":\"overlay\",\"size\":10,\"solidity\":0.2},\"type\":\"scatter\"}],\"scatterternary\":[{\"marker\":{\"colorbar\":{\"outlinewidth\":0,\"ticks\":\"\"}},\"type\":\"scatterternary\"}],\"surface\":[{\"colorbar\":{\"outlinewidth\":0,\"ticks\":\"\"},\"colorscale\":[[0.0,\"#0d0887\"],[0.1111111111111111,\"#46039f\"],[0.2222222222222222,\"#7201a8\"],[0.3333333333333333,\"#9c179e\"],[0.4444444444444444,\"#bd3786\"],[0.5555555555555556,\"#d8576b\"],[0.6666666666666666,\"#ed7953\"],[0.7777777777777778,\"#fb9f3a\"],[0.8888888888888888,\"#fdca26\"],[1.0,\"#f0f921\"]],\"type\":\"surface\"}],\"table\":[{\"cells\":{\"fill\":{\"color\":\"#EBF0F8\"},\"line\":{\"color\":\"white\"}},\"header\":{\"fill\":{\"color\":\"#C8D4E3\"},\"line\":{\"color\":\"white\"}},\"type\":\"table\"}]},\"layout\":{\"annotationdefaults\":{\"arrowcolor\":\"#2a3f5f\",\"arrowhead\":0,\"arrowwidth\":1},\"autotypenumbers\":\"strict\",\"coloraxis\":{\"colorbar\":{\"outlinewidth\":0,\"ticks\":\"\"}},\"colorscale\":{\"diverging\":[[0,\"#8e0152\"],[0.1,\"#c51b7d\"],[0.2,\"#de77ae\"],[0.3,\"#f1b6da\"],[0.4,\"#fde0ef\"],[0.5,\"#f7f7f7\"],[0.6,\"#e6f5d0\"],[0.7,\"#b8e186\"],[0.8,\"#7fbc41\"],[0.9,\"#4d9221\"],[1,\"#276419\"]],\"sequential\":[[0.0,\"#0d0887\"],[0.1111111111111111,\"#46039f\"],[0.2222222222222222,\"#7201a8\"],[0.3333333333333333,\"#9c179e\"],[0.4444444444444444,\"#bd3786\"],[0.5555555555555556,\"#d8576b\"],[0.6666666666666666,\"#ed7953\"],[0.7777777777777778,\"#fb9f3a\"],[0.8888888888888888,\"#fdca26\"],[1.0,\"#f0f921\"]],\"sequentialminus\":[[0.0,\"#0d0887\"],[0.1111111111111111,\"#46039f\"],[0.2222222222222222,\"#7201a8\"],[0.3333333333333333,\"#9c179e\"],[0.4444444444444444,\"#bd3786\"],[0.5555555555555556,\"#d8576b\"],[0.6666666666666666,\"#ed7953\"],[0.7777777777777778,\"#fb9f3a\"],[0.8888888888888888,\"#fdca26\"],[1.0,\"#f0f921\"]]},\"colorway\":[\"#636efa\",\"#EF553B\",\"#00cc96\",\"#ab63fa\",\"#FFA15A\",\"#19d3f3\",\"#FF6692\",\"#B6E880\",\"#FF97FF\",\"#FECB52\"],\"font\":{\"color\":\"#2a3f5f\"},\"geo\":{\"bgcolor\":\"white\",\"lakecolor\":\"white\",\"landcolor\":\"#E5ECF6\",\"showlakes\":true,\"showland\":true,\"subunitcolor\":\"white\"},\"hoverlabel\":{\"align\":\"left\"},\"hovermode\":\"closest\",\"mapbox\":{\"style\":\"light\"},\"paper_bgcolor\":\"white\",\"plot_bgcolor\":\"#E5ECF6\",\"polar\":{\"angularaxis\":{\"gridcolor\":\"white\",\"linecolor\":\"white\",\"ticks\":\"\"},\"bgcolor\":\"#E5ECF6\",\"radialaxis\":{\"gridcolor\":\"white\",\"linecolor\":\"white\",\"ticks\":\"\"}},\"scene\":{\"xaxis\":{\"backgroundcolor\":\"#E5ECF6\",\"gridcolor\":\"white\",\"gridwidth\":2,\"linecolor\":\"white\",\"showbackground\":true,\"ticks\":\"\",\"zerolinecolor\":\"white\"},\"yaxis\":{\"backgroundcolor\":\"#E5ECF6\",\"gridcolor\":\"white\",\"gridwidth\":2,\"linecolor\":\"white\",\"showbackground\":true,\"ticks\":\"\",\"zerolinecolor\":\"white\"},\"zaxis\":{\"backgroundcolor\":\"#E5ECF6\",\"gridcolor\":\"white\",\"gridwidth\":2,\"linecolor\":\"white\",\"showbackground\":true,\"ticks\":\"\",\"zerolinecolor\":\"white\"}},\"shapedefaults\":{\"line\":{\"color\":\"#2a3f5f\"}},\"ternary\":{\"aaxis\":{\"gridcolor\":\"white\",\"linecolor\":\"white\",\"ticks\":\"\"},\"baxis\":{\"gridcolor\":\"white\",\"linecolor\":\"white\",\"ticks\":\"\"},\"bgcolor\":\"#E5ECF6\",\"caxis\":{\"gridcolor\":\"white\",\"linecolor\":\"white\",\"ticks\":\"\"}},\"title\":{\"x\":0.05},\"xaxis\":{\"automargin\":true,\"gridcolor\":\"white\",\"linecolor\":\"white\",\"ticks\":\"\",\"title\":{\"standoff\":15},\"zerolinecolor\":\"white\",\"zerolinewidth\":2},\"yaxis\":{\"automargin\":true,\"gridcolor\":\"white\",\"linecolor\":\"white\",\"ticks\":\"\",\"title\":{\"standoff\":15},\"zerolinecolor\":\"white\",\"zerolinewidth\":2}}},\"title\":{\"font\":{\"color\":\"#4D5663\"}},\"xaxis\":{\"gridcolor\":\"#E1E5ED\",\"showgrid\":true,\"tickfont\":{\"color\":\"#4D5663\"},\"title\":{\"font\":{\"color\":\"#4D5663\"},\"text\":\"\"},\"zerolinecolor\":\"#E1E5ED\"},\"yaxis\":{\"gridcolor\":\"#E1E5ED\",\"showgrid\":true,\"tickfont\":{\"color\":\"#4D5663\"},\"title\":{\"font\":{\"color\":\"#4D5663\"},\"text\":\"\"},\"zerolinecolor\":\"#E1E5ED\"}},                        {\"showLink\": true, \"linkText\": \"Export to plot.ly\", \"plotlyServerURL\": \"https://plot.ly\", \"responsive\": true}                    ).then(function(){\n",
       "                            \n",
       "var gd = document.getElementById('f763d3c8-9171-4437-8ead-0837547622e4');\n",
       "var x = new MutationObserver(function (mutations, observer) {{\n",
       "        var display = window.getComputedStyle(gd).display;\n",
       "        if (!display || display === 'none') {{\n",
       "            console.log([gd, 'removed!']);\n",
       "            Plotly.purge(gd);\n",
       "            observer.disconnect();\n",
       "        }}\n",
       "}});\n",
       "\n",
       "// Listen for the removal of the full notebook cells\n",
       "var notebookContainer = gd.closest('#notebook-container');\n",
       "if (notebookContainer) {{\n",
       "    x.observe(notebookContainer, {childList: true});\n",
       "}}\n",
       "\n",
       "// Listen for the clearing of the current output cell\n",
       "var outputEl = gd.closest('.output');\n",
       "if (outputEl) {{\n",
       "    x.observe(outputEl, {childList: true});\n",
       "}}\n",
       "\n",
       "                        })                };                });            </script>        </div>"
      ]
     },
     "metadata": {},
     "output_type": "display_data"
    }
   ],
   "source": [
    "df3.iplot(kind='surface')"
   ]
  },
  {
   "cell_type": "code",
   "execution_count": 71,
   "id": "b571b386",
   "metadata": {},
   "outputs": [
    {
     "data": {
      "application/vnd.plotly.v1+json": {
       "config": {
        "linkText": "Export to plot.ly",
        "plotlyServerURL": "https://plot.ly",
        "showLink": true
       },
       "data": [
        {
         "colorscale": [
          [
           0,
           "rgb(165,0,38)"
          ],
          [
           0.1,
           "rgb(215,48,39)"
          ],
          [
           0.2,
           "rgb(244,109,67)"
          ],
          [
           0.3,
           "rgb(253,174,97)"
          ],
          [
           0.4,
           "rgb(254,224,144)"
          ],
          [
           0.5,
           "rgb(255,255,191)"
          ],
          [
           0.6,
           "rgb(224,243,248)"
          ],
          [
           0.7,
           "rgb(171,217,233)"
          ],
          [
           0.8,
           "rgb(116,173,209)"
          ],
          [
           0.9,
           "rgb(69,117,180)"
          ],
          [
           1,
           "rgb(49,54,149)"
          ]
         ],
         "type": "surface",
         "x": [
          0,
          1,
          2,
          3,
          4
         ],
         "y": [
          "x",
          "y",
          "z"
         ],
         "z": [
          [
           1,
           2,
           3,
           4,
           5
          ],
          [
           10,
           20,
           30,
           40,
           50
          ],
          [
           500,
           400,
           300,
           200,
           100
          ]
         ]
        }
       ],
       "layout": {
        "legend": {
         "bgcolor": "#F5F6F9",
         "font": {
          "color": "#4D5663"
         }
        },
        "paper_bgcolor": "#F5F6F9",
        "plot_bgcolor": "#F5F6F9",
        "template": {
         "data": {
          "bar": [
           {
            "error_x": {
             "color": "#2a3f5f"
            },
            "error_y": {
             "color": "#2a3f5f"
            },
            "marker": {
             "line": {
              "color": "#E5ECF6",
              "width": 0.5
             },
             "pattern": {
              "fillmode": "overlay",
              "size": 10,
              "solidity": 0.2
             }
            },
            "type": "bar"
           }
          ],
          "barpolar": [
           {
            "marker": {
             "line": {
              "color": "#E5ECF6",
              "width": 0.5
             },
             "pattern": {
              "fillmode": "overlay",
              "size": 10,
              "solidity": 0.2
             }
            },
            "type": "barpolar"
           }
          ],
          "carpet": [
           {
            "aaxis": {
             "endlinecolor": "#2a3f5f",
             "gridcolor": "white",
             "linecolor": "white",
             "minorgridcolor": "white",
             "startlinecolor": "#2a3f5f"
            },
            "baxis": {
             "endlinecolor": "#2a3f5f",
             "gridcolor": "white",
             "linecolor": "white",
             "minorgridcolor": "white",
             "startlinecolor": "#2a3f5f"
            },
            "type": "carpet"
           }
          ],
          "choropleth": [
           {
            "colorbar": {
             "outlinewidth": 0,
             "ticks": ""
            },
            "type": "choropleth"
           }
          ],
          "contour": [
           {
            "colorbar": {
             "outlinewidth": 0,
             "ticks": ""
            },
            "colorscale": [
             [
              0,
              "#0d0887"
             ],
             [
              0.1111111111111111,
              "#46039f"
             ],
             [
              0.2222222222222222,
              "#7201a8"
             ],
             [
              0.3333333333333333,
              "#9c179e"
             ],
             [
              0.4444444444444444,
              "#bd3786"
             ],
             [
              0.5555555555555556,
              "#d8576b"
             ],
             [
              0.6666666666666666,
              "#ed7953"
             ],
             [
              0.7777777777777778,
              "#fb9f3a"
             ],
             [
              0.8888888888888888,
              "#fdca26"
             ],
             [
              1,
              "#f0f921"
             ]
            ],
            "type": "contour"
           }
          ],
          "contourcarpet": [
           {
            "colorbar": {
             "outlinewidth": 0,
             "ticks": ""
            },
            "type": "contourcarpet"
           }
          ],
          "heatmap": [
           {
            "colorbar": {
             "outlinewidth": 0,
             "ticks": ""
            },
            "colorscale": [
             [
              0,
              "#0d0887"
             ],
             [
              0.1111111111111111,
              "#46039f"
             ],
             [
              0.2222222222222222,
              "#7201a8"
             ],
             [
              0.3333333333333333,
              "#9c179e"
             ],
             [
              0.4444444444444444,
              "#bd3786"
             ],
             [
              0.5555555555555556,
              "#d8576b"
             ],
             [
              0.6666666666666666,
              "#ed7953"
             ],
             [
              0.7777777777777778,
              "#fb9f3a"
             ],
             [
              0.8888888888888888,
              "#fdca26"
             ],
             [
              1,
              "#f0f921"
             ]
            ],
            "type": "heatmap"
           }
          ],
          "heatmapgl": [
           {
            "colorbar": {
             "outlinewidth": 0,
             "ticks": ""
            },
            "colorscale": [
             [
              0,
              "#0d0887"
             ],
             [
              0.1111111111111111,
              "#46039f"
             ],
             [
              0.2222222222222222,
              "#7201a8"
             ],
             [
              0.3333333333333333,
              "#9c179e"
             ],
             [
              0.4444444444444444,
              "#bd3786"
             ],
             [
              0.5555555555555556,
              "#d8576b"
             ],
             [
              0.6666666666666666,
              "#ed7953"
             ],
             [
              0.7777777777777778,
              "#fb9f3a"
             ],
             [
              0.8888888888888888,
              "#fdca26"
             ],
             [
              1,
              "#f0f921"
             ]
            ],
            "type": "heatmapgl"
           }
          ],
          "histogram": [
           {
            "marker": {
             "pattern": {
              "fillmode": "overlay",
              "size": 10,
              "solidity": 0.2
             }
            },
            "type": "histogram"
           }
          ],
          "histogram2d": [
           {
            "colorbar": {
             "outlinewidth": 0,
             "ticks": ""
            },
            "colorscale": [
             [
              0,
              "#0d0887"
             ],
             [
              0.1111111111111111,
              "#46039f"
             ],
             [
              0.2222222222222222,
              "#7201a8"
             ],
             [
              0.3333333333333333,
              "#9c179e"
             ],
             [
              0.4444444444444444,
              "#bd3786"
             ],
             [
              0.5555555555555556,
              "#d8576b"
             ],
             [
              0.6666666666666666,
              "#ed7953"
             ],
             [
              0.7777777777777778,
              "#fb9f3a"
             ],
             [
              0.8888888888888888,
              "#fdca26"
             ],
             [
              1,
              "#f0f921"
             ]
            ],
            "type": "histogram2d"
           }
          ],
          "histogram2dcontour": [
           {
            "colorbar": {
             "outlinewidth": 0,
             "ticks": ""
            },
            "colorscale": [
             [
              0,
              "#0d0887"
             ],
             [
              0.1111111111111111,
              "#46039f"
             ],
             [
              0.2222222222222222,
              "#7201a8"
             ],
             [
              0.3333333333333333,
              "#9c179e"
             ],
             [
              0.4444444444444444,
              "#bd3786"
             ],
             [
              0.5555555555555556,
              "#d8576b"
             ],
             [
              0.6666666666666666,
              "#ed7953"
             ],
             [
              0.7777777777777778,
              "#fb9f3a"
             ],
             [
              0.8888888888888888,
              "#fdca26"
             ],
             [
              1,
              "#f0f921"
             ]
            ],
            "type": "histogram2dcontour"
           }
          ],
          "mesh3d": [
           {
            "colorbar": {
             "outlinewidth": 0,
             "ticks": ""
            },
            "type": "mesh3d"
           }
          ],
          "parcoords": [
           {
            "line": {
             "colorbar": {
              "outlinewidth": 0,
              "ticks": ""
             }
            },
            "type": "parcoords"
           }
          ],
          "pie": [
           {
            "automargin": true,
            "type": "pie"
           }
          ],
          "scatter": [
           {
            "fillpattern": {
             "fillmode": "overlay",
             "size": 10,
             "solidity": 0.2
            },
            "type": "scatter"
           }
          ],
          "scatter3d": [
           {
            "line": {
             "colorbar": {
              "outlinewidth": 0,
              "ticks": ""
             }
            },
            "marker": {
             "colorbar": {
              "outlinewidth": 0,
              "ticks": ""
             }
            },
            "type": "scatter3d"
           }
          ],
          "scattercarpet": [
           {
            "marker": {
             "colorbar": {
              "outlinewidth": 0,
              "ticks": ""
             }
            },
            "type": "scattercarpet"
           }
          ],
          "scattergeo": [
           {
            "marker": {
             "colorbar": {
              "outlinewidth": 0,
              "ticks": ""
             }
            },
            "type": "scattergeo"
           }
          ],
          "scattergl": [
           {
            "marker": {
             "colorbar": {
              "outlinewidth": 0,
              "ticks": ""
             }
            },
            "type": "scattergl"
           }
          ],
          "scattermapbox": [
           {
            "marker": {
             "colorbar": {
              "outlinewidth": 0,
              "ticks": ""
             }
            },
            "type": "scattermapbox"
           }
          ],
          "scatterpolar": [
           {
            "marker": {
             "colorbar": {
              "outlinewidth": 0,
              "ticks": ""
             }
            },
            "type": "scatterpolar"
           }
          ],
          "scatterpolargl": [
           {
            "marker": {
             "colorbar": {
              "outlinewidth": 0,
              "ticks": ""
             }
            },
            "type": "scatterpolargl"
           }
          ],
          "scatterternary": [
           {
            "marker": {
             "colorbar": {
              "outlinewidth": 0,
              "ticks": ""
             }
            },
            "type": "scatterternary"
           }
          ],
          "surface": [
           {
            "colorbar": {
             "outlinewidth": 0,
             "ticks": ""
            },
            "colorscale": [
             [
              0,
              "#0d0887"
             ],
             [
              0.1111111111111111,
              "#46039f"
             ],
             [
              0.2222222222222222,
              "#7201a8"
             ],
             [
              0.3333333333333333,
              "#9c179e"
             ],
             [
              0.4444444444444444,
              "#bd3786"
             ],
             [
              0.5555555555555556,
              "#d8576b"
             ],
             [
              0.6666666666666666,
              "#ed7953"
             ],
             [
              0.7777777777777778,
              "#fb9f3a"
             ],
             [
              0.8888888888888888,
              "#fdca26"
             ],
             [
              1,
              "#f0f921"
             ]
            ],
            "type": "surface"
           }
          ],
          "table": [
           {
            "cells": {
             "fill": {
              "color": "#EBF0F8"
             },
             "line": {
              "color": "white"
             }
            },
            "header": {
             "fill": {
              "color": "#C8D4E3"
             },
             "line": {
              "color": "white"
             }
            },
            "type": "table"
           }
          ]
         },
         "layout": {
          "annotationdefaults": {
           "arrowcolor": "#2a3f5f",
           "arrowhead": 0,
           "arrowwidth": 1
          },
          "autotypenumbers": "strict",
          "coloraxis": {
           "colorbar": {
            "outlinewidth": 0,
            "ticks": ""
           }
          },
          "colorscale": {
           "diverging": [
            [
             0,
             "#8e0152"
            ],
            [
             0.1,
             "#c51b7d"
            ],
            [
             0.2,
             "#de77ae"
            ],
            [
             0.3,
             "#f1b6da"
            ],
            [
             0.4,
             "#fde0ef"
            ],
            [
             0.5,
             "#f7f7f7"
            ],
            [
             0.6,
             "#e6f5d0"
            ],
            [
             0.7,
             "#b8e186"
            ],
            [
             0.8,
             "#7fbc41"
            ],
            [
             0.9,
             "#4d9221"
            ],
            [
             1,
             "#276419"
            ]
           ],
           "sequential": [
            [
             0,
             "#0d0887"
            ],
            [
             0.1111111111111111,
             "#46039f"
            ],
            [
             0.2222222222222222,
             "#7201a8"
            ],
            [
             0.3333333333333333,
             "#9c179e"
            ],
            [
             0.4444444444444444,
             "#bd3786"
            ],
            [
             0.5555555555555556,
             "#d8576b"
            ],
            [
             0.6666666666666666,
             "#ed7953"
            ],
            [
             0.7777777777777778,
             "#fb9f3a"
            ],
            [
             0.8888888888888888,
             "#fdca26"
            ],
            [
             1,
             "#f0f921"
            ]
           ],
           "sequentialminus": [
            [
             0,
             "#0d0887"
            ],
            [
             0.1111111111111111,
             "#46039f"
            ],
            [
             0.2222222222222222,
             "#7201a8"
            ],
            [
             0.3333333333333333,
             "#9c179e"
            ],
            [
             0.4444444444444444,
             "#bd3786"
            ],
            [
             0.5555555555555556,
             "#d8576b"
            ],
            [
             0.6666666666666666,
             "#ed7953"
            ],
            [
             0.7777777777777778,
             "#fb9f3a"
            ],
            [
             0.8888888888888888,
             "#fdca26"
            ],
            [
             1,
             "#f0f921"
            ]
           ]
          },
          "colorway": [
           "#636efa",
           "#EF553B",
           "#00cc96",
           "#ab63fa",
           "#FFA15A",
           "#19d3f3",
           "#FF6692",
           "#B6E880",
           "#FF97FF",
           "#FECB52"
          ],
          "font": {
           "color": "#2a3f5f"
          },
          "geo": {
           "bgcolor": "white",
           "lakecolor": "white",
           "landcolor": "#E5ECF6",
           "showlakes": true,
           "showland": true,
           "subunitcolor": "white"
          },
          "hoverlabel": {
           "align": "left"
          },
          "hovermode": "closest",
          "mapbox": {
           "style": "light"
          },
          "paper_bgcolor": "white",
          "plot_bgcolor": "#E5ECF6",
          "polar": {
           "angularaxis": {
            "gridcolor": "white",
            "linecolor": "white",
            "ticks": ""
           },
           "bgcolor": "#E5ECF6",
           "radialaxis": {
            "gridcolor": "white",
            "linecolor": "white",
            "ticks": ""
           }
          },
          "scene": {
           "xaxis": {
            "backgroundcolor": "#E5ECF6",
            "gridcolor": "white",
            "gridwidth": 2,
            "linecolor": "white",
            "showbackground": true,
            "ticks": "",
            "zerolinecolor": "white"
           },
           "yaxis": {
            "backgroundcolor": "#E5ECF6",
            "gridcolor": "white",
            "gridwidth": 2,
            "linecolor": "white",
            "showbackground": true,
            "ticks": "",
            "zerolinecolor": "white"
           },
           "zaxis": {
            "backgroundcolor": "#E5ECF6",
            "gridcolor": "white",
            "gridwidth": 2,
            "linecolor": "white",
            "showbackground": true,
            "ticks": "",
            "zerolinecolor": "white"
           }
          },
          "shapedefaults": {
           "line": {
            "color": "#2a3f5f"
           }
          },
          "ternary": {
           "aaxis": {
            "gridcolor": "white",
            "linecolor": "white",
            "ticks": ""
           },
           "baxis": {
            "gridcolor": "white",
            "linecolor": "white",
            "ticks": ""
           },
           "bgcolor": "#E5ECF6",
           "caxis": {
            "gridcolor": "white",
            "linecolor": "white",
            "ticks": ""
           }
          },
          "title": {
           "x": 0.05
          },
          "xaxis": {
           "automargin": true,
           "gridcolor": "white",
           "linecolor": "white",
           "ticks": "",
           "title": {
            "standoff": 15
           },
           "zerolinecolor": "white",
           "zerolinewidth": 2
          },
          "yaxis": {
           "automargin": true,
           "gridcolor": "white",
           "linecolor": "white",
           "ticks": "",
           "title": {
            "standoff": 15
           },
           "zerolinecolor": "white",
           "zerolinewidth": 2
          }
         }
        },
        "title": {
         "font": {
          "color": "#4D5663"
         }
        },
        "xaxis": {
         "gridcolor": "#E1E5ED",
         "showgrid": true,
         "tickfont": {
          "color": "#4D5663"
         },
         "title": {
          "font": {
           "color": "#4D5663"
          },
          "text": ""
         },
         "zerolinecolor": "#E1E5ED"
        },
        "yaxis": {
         "gridcolor": "#E1E5ED",
         "showgrid": true,
         "tickfont": {
          "color": "#4D5663"
         },
         "title": {
          "font": {
           "color": "#4D5663"
          },
          "text": ""
         },
         "zerolinecolor": "#E1E5ED"
        }
       }
      },
      "text/html": [
       "<div>                            <div id=\"27b6bb85-e4f8-4eaf-8e49-38e4d2dd20a1\" class=\"plotly-graph-div\" style=\"height:525px; width:100%;\"></div>            <script type=\"text/javascript\">                require([\"plotly\"], function(Plotly) {                    window.PLOTLYENV=window.PLOTLYENV || {};\n",
       "                    window.PLOTLYENV.BASE_URL='https://plot.ly';                                    if (document.getElementById(\"27b6bb85-e4f8-4eaf-8e49-38e4d2dd20a1\")) {                    Plotly.newPlot(                        \"27b6bb85-e4f8-4eaf-8e49-38e4d2dd20a1\",                        [{\"colorscale\":[[0.0,\"rgb(165,0,38)\"],[0.1,\"rgb(215,48,39)\"],[0.2,\"rgb(244,109,67)\"],[0.3,\"rgb(253,174,97)\"],[0.4,\"rgb(254,224,144)\"],[0.5,\"rgb(255,255,191)\"],[0.6,\"rgb(224,243,248)\"],[0.7,\"rgb(171,217,233)\"],[0.8,\"rgb(116,173,209)\"],[0.9,\"rgb(69,117,180)\"],[1.0,\"rgb(49,54,149)\"]],\"x\":[0,1,2,3,4],\"y\":[\"x\",\"y\",\"z\"],\"z\":[[1,2,3,4,5],[10,20,30,40,50],[500,400,300,200,100]],\"type\":\"surface\"}],                        {\"legend\":{\"bgcolor\":\"#F5F6F9\",\"font\":{\"color\":\"#4D5663\"}},\"paper_bgcolor\":\"#F5F6F9\",\"plot_bgcolor\":\"#F5F6F9\",\"template\":{\"data\":{\"barpolar\":[{\"marker\":{\"line\":{\"color\":\"#E5ECF6\",\"width\":0.5},\"pattern\":{\"fillmode\":\"overlay\",\"size\":10,\"solidity\":0.2}},\"type\":\"barpolar\"}],\"bar\":[{\"error_x\":{\"color\":\"#2a3f5f\"},\"error_y\":{\"color\":\"#2a3f5f\"},\"marker\":{\"line\":{\"color\":\"#E5ECF6\",\"width\":0.5},\"pattern\":{\"fillmode\":\"overlay\",\"size\":10,\"solidity\":0.2}},\"type\":\"bar\"}],\"carpet\":[{\"aaxis\":{\"endlinecolor\":\"#2a3f5f\",\"gridcolor\":\"white\",\"linecolor\":\"white\",\"minorgridcolor\":\"white\",\"startlinecolor\":\"#2a3f5f\"},\"baxis\":{\"endlinecolor\":\"#2a3f5f\",\"gridcolor\":\"white\",\"linecolor\":\"white\",\"minorgridcolor\":\"white\",\"startlinecolor\":\"#2a3f5f\"},\"type\":\"carpet\"}],\"choropleth\":[{\"colorbar\":{\"outlinewidth\":0,\"ticks\":\"\"},\"type\":\"choropleth\"}],\"contourcarpet\":[{\"colorbar\":{\"outlinewidth\":0,\"ticks\":\"\"},\"type\":\"contourcarpet\"}],\"contour\":[{\"colorbar\":{\"outlinewidth\":0,\"ticks\":\"\"},\"colorscale\":[[0.0,\"#0d0887\"],[0.1111111111111111,\"#46039f\"],[0.2222222222222222,\"#7201a8\"],[0.3333333333333333,\"#9c179e\"],[0.4444444444444444,\"#bd3786\"],[0.5555555555555556,\"#d8576b\"],[0.6666666666666666,\"#ed7953\"],[0.7777777777777778,\"#fb9f3a\"],[0.8888888888888888,\"#fdca26\"],[1.0,\"#f0f921\"]],\"type\":\"contour\"}],\"heatmapgl\":[{\"colorbar\":{\"outlinewidth\":0,\"ticks\":\"\"},\"colorscale\":[[0.0,\"#0d0887\"],[0.1111111111111111,\"#46039f\"],[0.2222222222222222,\"#7201a8\"],[0.3333333333333333,\"#9c179e\"],[0.4444444444444444,\"#bd3786\"],[0.5555555555555556,\"#d8576b\"],[0.6666666666666666,\"#ed7953\"],[0.7777777777777778,\"#fb9f3a\"],[0.8888888888888888,\"#fdca26\"],[1.0,\"#f0f921\"]],\"type\":\"heatmapgl\"}],\"heatmap\":[{\"colorbar\":{\"outlinewidth\":0,\"ticks\":\"\"},\"colorscale\":[[0.0,\"#0d0887\"],[0.1111111111111111,\"#46039f\"],[0.2222222222222222,\"#7201a8\"],[0.3333333333333333,\"#9c179e\"],[0.4444444444444444,\"#bd3786\"],[0.5555555555555556,\"#d8576b\"],[0.6666666666666666,\"#ed7953\"],[0.7777777777777778,\"#fb9f3a\"],[0.8888888888888888,\"#fdca26\"],[1.0,\"#f0f921\"]],\"type\":\"heatmap\"}],\"histogram2dcontour\":[{\"colorbar\":{\"outlinewidth\":0,\"ticks\":\"\"},\"colorscale\":[[0.0,\"#0d0887\"],[0.1111111111111111,\"#46039f\"],[0.2222222222222222,\"#7201a8\"],[0.3333333333333333,\"#9c179e\"],[0.4444444444444444,\"#bd3786\"],[0.5555555555555556,\"#d8576b\"],[0.6666666666666666,\"#ed7953\"],[0.7777777777777778,\"#fb9f3a\"],[0.8888888888888888,\"#fdca26\"],[1.0,\"#f0f921\"]],\"type\":\"histogram2dcontour\"}],\"histogram2d\":[{\"colorbar\":{\"outlinewidth\":0,\"ticks\":\"\"},\"colorscale\":[[0.0,\"#0d0887\"],[0.1111111111111111,\"#46039f\"],[0.2222222222222222,\"#7201a8\"],[0.3333333333333333,\"#9c179e\"],[0.4444444444444444,\"#bd3786\"],[0.5555555555555556,\"#d8576b\"],[0.6666666666666666,\"#ed7953\"],[0.7777777777777778,\"#fb9f3a\"],[0.8888888888888888,\"#fdca26\"],[1.0,\"#f0f921\"]],\"type\":\"histogram2d\"}],\"histogram\":[{\"marker\":{\"pattern\":{\"fillmode\":\"overlay\",\"size\":10,\"solidity\":0.2}},\"type\":\"histogram\"}],\"mesh3d\":[{\"colorbar\":{\"outlinewidth\":0,\"ticks\":\"\"},\"type\":\"mesh3d\"}],\"parcoords\":[{\"line\":{\"colorbar\":{\"outlinewidth\":0,\"ticks\":\"\"}},\"type\":\"parcoords\"}],\"pie\":[{\"automargin\":true,\"type\":\"pie\"}],\"scatter3d\":[{\"line\":{\"colorbar\":{\"outlinewidth\":0,\"ticks\":\"\"}},\"marker\":{\"colorbar\":{\"outlinewidth\":0,\"ticks\":\"\"}},\"type\":\"scatter3d\"}],\"scattercarpet\":[{\"marker\":{\"colorbar\":{\"outlinewidth\":0,\"ticks\":\"\"}},\"type\":\"scattercarpet\"}],\"scattergeo\":[{\"marker\":{\"colorbar\":{\"outlinewidth\":0,\"ticks\":\"\"}},\"type\":\"scattergeo\"}],\"scattergl\":[{\"marker\":{\"colorbar\":{\"outlinewidth\":0,\"ticks\":\"\"}},\"type\":\"scattergl\"}],\"scattermapbox\":[{\"marker\":{\"colorbar\":{\"outlinewidth\":0,\"ticks\":\"\"}},\"type\":\"scattermapbox\"}],\"scatterpolargl\":[{\"marker\":{\"colorbar\":{\"outlinewidth\":0,\"ticks\":\"\"}},\"type\":\"scatterpolargl\"}],\"scatterpolar\":[{\"marker\":{\"colorbar\":{\"outlinewidth\":0,\"ticks\":\"\"}},\"type\":\"scatterpolar\"}],\"scatter\":[{\"fillpattern\":{\"fillmode\":\"overlay\",\"size\":10,\"solidity\":0.2},\"type\":\"scatter\"}],\"scatterternary\":[{\"marker\":{\"colorbar\":{\"outlinewidth\":0,\"ticks\":\"\"}},\"type\":\"scatterternary\"}],\"surface\":[{\"colorbar\":{\"outlinewidth\":0,\"ticks\":\"\"},\"colorscale\":[[0.0,\"#0d0887\"],[0.1111111111111111,\"#46039f\"],[0.2222222222222222,\"#7201a8\"],[0.3333333333333333,\"#9c179e\"],[0.4444444444444444,\"#bd3786\"],[0.5555555555555556,\"#d8576b\"],[0.6666666666666666,\"#ed7953\"],[0.7777777777777778,\"#fb9f3a\"],[0.8888888888888888,\"#fdca26\"],[1.0,\"#f0f921\"]],\"type\":\"surface\"}],\"table\":[{\"cells\":{\"fill\":{\"color\":\"#EBF0F8\"},\"line\":{\"color\":\"white\"}},\"header\":{\"fill\":{\"color\":\"#C8D4E3\"},\"line\":{\"color\":\"white\"}},\"type\":\"table\"}]},\"layout\":{\"annotationdefaults\":{\"arrowcolor\":\"#2a3f5f\",\"arrowhead\":0,\"arrowwidth\":1},\"autotypenumbers\":\"strict\",\"coloraxis\":{\"colorbar\":{\"outlinewidth\":0,\"ticks\":\"\"}},\"colorscale\":{\"diverging\":[[0,\"#8e0152\"],[0.1,\"#c51b7d\"],[0.2,\"#de77ae\"],[0.3,\"#f1b6da\"],[0.4,\"#fde0ef\"],[0.5,\"#f7f7f7\"],[0.6,\"#e6f5d0\"],[0.7,\"#b8e186\"],[0.8,\"#7fbc41\"],[0.9,\"#4d9221\"],[1,\"#276419\"]],\"sequential\":[[0.0,\"#0d0887\"],[0.1111111111111111,\"#46039f\"],[0.2222222222222222,\"#7201a8\"],[0.3333333333333333,\"#9c179e\"],[0.4444444444444444,\"#bd3786\"],[0.5555555555555556,\"#d8576b\"],[0.6666666666666666,\"#ed7953\"],[0.7777777777777778,\"#fb9f3a\"],[0.8888888888888888,\"#fdca26\"],[1.0,\"#f0f921\"]],\"sequentialminus\":[[0.0,\"#0d0887\"],[0.1111111111111111,\"#46039f\"],[0.2222222222222222,\"#7201a8\"],[0.3333333333333333,\"#9c179e\"],[0.4444444444444444,\"#bd3786\"],[0.5555555555555556,\"#d8576b\"],[0.6666666666666666,\"#ed7953\"],[0.7777777777777778,\"#fb9f3a\"],[0.8888888888888888,\"#fdca26\"],[1.0,\"#f0f921\"]]},\"colorway\":[\"#636efa\",\"#EF553B\",\"#00cc96\",\"#ab63fa\",\"#FFA15A\",\"#19d3f3\",\"#FF6692\",\"#B6E880\",\"#FF97FF\",\"#FECB52\"],\"font\":{\"color\":\"#2a3f5f\"},\"geo\":{\"bgcolor\":\"white\",\"lakecolor\":\"white\",\"landcolor\":\"#E5ECF6\",\"showlakes\":true,\"showland\":true,\"subunitcolor\":\"white\"},\"hoverlabel\":{\"align\":\"left\"},\"hovermode\":\"closest\",\"mapbox\":{\"style\":\"light\"},\"paper_bgcolor\":\"white\",\"plot_bgcolor\":\"#E5ECF6\",\"polar\":{\"angularaxis\":{\"gridcolor\":\"white\",\"linecolor\":\"white\",\"ticks\":\"\"},\"bgcolor\":\"#E5ECF6\",\"radialaxis\":{\"gridcolor\":\"white\",\"linecolor\":\"white\",\"ticks\":\"\"}},\"scene\":{\"xaxis\":{\"backgroundcolor\":\"#E5ECF6\",\"gridcolor\":\"white\",\"gridwidth\":2,\"linecolor\":\"white\",\"showbackground\":true,\"ticks\":\"\",\"zerolinecolor\":\"white\"},\"yaxis\":{\"backgroundcolor\":\"#E5ECF6\",\"gridcolor\":\"white\",\"gridwidth\":2,\"linecolor\":\"white\",\"showbackground\":true,\"ticks\":\"\",\"zerolinecolor\":\"white\"},\"zaxis\":{\"backgroundcolor\":\"#E5ECF6\",\"gridcolor\":\"white\",\"gridwidth\":2,\"linecolor\":\"white\",\"showbackground\":true,\"ticks\":\"\",\"zerolinecolor\":\"white\"}},\"shapedefaults\":{\"line\":{\"color\":\"#2a3f5f\"}},\"ternary\":{\"aaxis\":{\"gridcolor\":\"white\",\"linecolor\":\"white\",\"ticks\":\"\"},\"baxis\":{\"gridcolor\":\"white\",\"linecolor\":\"white\",\"ticks\":\"\"},\"bgcolor\":\"#E5ECF6\",\"caxis\":{\"gridcolor\":\"white\",\"linecolor\":\"white\",\"ticks\":\"\"}},\"title\":{\"x\":0.05},\"xaxis\":{\"automargin\":true,\"gridcolor\":\"white\",\"linecolor\":\"white\",\"ticks\":\"\",\"title\":{\"standoff\":15},\"zerolinecolor\":\"white\",\"zerolinewidth\":2},\"yaxis\":{\"automargin\":true,\"gridcolor\":\"white\",\"linecolor\":\"white\",\"ticks\":\"\",\"title\":{\"standoff\":15},\"zerolinecolor\":\"white\",\"zerolinewidth\":2}}},\"title\":{\"font\":{\"color\":\"#4D5663\"}},\"xaxis\":{\"gridcolor\":\"#E1E5ED\",\"showgrid\":true,\"tickfont\":{\"color\":\"#4D5663\"},\"title\":{\"font\":{\"color\":\"#4D5663\"},\"text\":\"\"},\"zerolinecolor\":\"#E1E5ED\"},\"yaxis\":{\"gridcolor\":\"#E1E5ED\",\"showgrid\":true,\"tickfont\":{\"color\":\"#4D5663\"},\"title\":{\"font\":{\"color\":\"#4D5663\"},\"text\":\"\"},\"zerolinecolor\":\"#E1E5ED\"}},                        {\"showLink\": true, \"linkText\": \"Export to plot.ly\", \"plotlyServerURL\": \"https://plot.ly\", \"responsive\": true}                    ).then(function(){\n",
       "                            \n",
       "var gd = document.getElementById('27b6bb85-e4f8-4eaf-8e49-38e4d2dd20a1');\n",
       "var x = new MutationObserver(function (mutations, observer) {{\n",
       "        var display = window.getComputedStyle(gd).display;\n",
       "        if (!display || display === 'none') {{\n",
       "            console.log([gd, 'removed!']);\n",
       "            Plotly.purge(gd);\n",
       "            observer.disconnect();\n",
       "        }}\n",
       "}});\n",
       "\n",
       "// Listen for the removal of the full notebook cells\n",
       "var notebookContainer = gd.closest('#notebook-container');\n",
       "if (notebookContainer) {{\n",
       "    x.observe(notebookContainer, {childList: true});\n",
       "}}\n",
       "\n",
       "// Listen for the clearing of the current output cell\n",
       "var outputEl = gd.closest('.output');\n",
       "if (outputEl) {{\n",
       "    x.observe(outputEl, {childList: true});\n",
       "}}\n",
       "\n",
       "                        })                };                });            </script>        </div>"
      ]
     },
     "metadata": {},
     "output_type": "display_data"
    }
   ],
   "source": [
    "df3.iplot(kind='surface',colorscale='rdylbu')"
   ]
  },
  {
   "cell_type": "code",
   "execution_count": 72,
   "id": "16c00d2c",
   "metadata": {},
   "outputs": [
    {
     "data": {
      "application/vnd.plotly.v1+json": {
       "config": {
        "linkText": "Export to plot.ly",
        "plotlyServerURL": "https://plot.ly",
        "showLink": true
       },
       "data": [
        {
         "histfunc": "count",
         "histnorm": "",
         "marker": {
          "color": "rgba(255, 153, 51, 1.0)",
          "line": {
           "color": "#4D5663",
           "width": 1.3
          }
         },
         "name": "A",
         "nbinsx": 50,
         "opacity": 0.8,
         "orientation": "v",
         "type": "histogram",
         "x": [
          1.6185342153503897,
          1.1848362441609444,
          1.0676265789711767,
          0.6289578176999444,
          -0.0731723746557524,
          -0.10349025747306093,
          -0.13828150425216726,
          0.8810902574734345,
          -0.5542620086053726,
          1.367655392604224,
          0.42159233908657434,
          -1.6600131400907159,
          -2.321880943758504,
          -0.14525715490075852,
          -1.4150329423246357,
          1.1902193781513097,
          0.032605182130966644,
          -1.1068654931550255,
          -0.4881710870419417,
          -1.0064654004665394,
          -1.4861349648044178,
          0.42126197939457344,
          0.2033513437481144,
          0.6780192171590568,
          2.2695601885039856,
          -1.0530794893148434,
          -0.7599582936020849,
          0.07479649981688027,
          -0.5004585006618902,
          -0.7069045792139065,
          -0.7490649048467005,
          -0.9573833622535074,
          0.3184903662704784,
          0.5232510497782804,
          -0.292920914056626,
          0.5526442907323154,
          0.28927758198705866,
          -0.9595308675629673,
          0.6624074725052688,
          -1.2675470861916667,
          -1.298518317282184,
          1.6505714308200703,
          0.7711743870399246,
          -0.10350465261086673,
          -0.9890595965375653,
          0.09060720967289916,
          -0.9664272965492815,
          1.7520110562695306,
          2.0598160276614736,
          -1.5398792263792436,
          0.14913323679684518,
          0.995048297495277,
          -0.8178015437731536,
          -1.1488188276104512,
          -1.2553879715068992,
          0.702144807401087,
          -0.14721370696443659,
          0.9849700972122788,
          -1.6159928381795001,
          2.8876664099211764,
          1.1792610841498818,
          1.137534866296284,
          0.36529841743489505,
          0.6837628681037843,
          0.3857655623229011,
          -1.4277493996033706,
          1.9387091111049926,
          -0.8799227856643209,
          0.17157935956524548,
          1.2164326922302917,
          0.004829280486984333,
          -0.7305142209733924,
          0.8090950392810067,
          -2.7632429506224883,
          0.9238654843844363,
          0.13909084142958214,
          0.06932779342792991,
          0.10316445888209945,
          -1.4408925516222189,
          -1.5014989504920706,
          1.3164328202880184,
          0.20632089660007252,
          -0.4332798600838577,
          0.5100226609573209,
          -0.5583994791359564,
          0.4825916998568048,
          -0.15873725230421742,
          -2.033833509570888,
          -0.56776873608412,
          -1.3983642700361827,
          -0.17721085755554614,
          -0.4777864854606395,
          -0.7084571357637636,
          0.14725150781339041,
          0.5160571944585837,
          2.391248105092854,
          -0.035925646760449015,
          0.3993352653098139,
          0.5041548045378224,
          -2.4531789724121182
         ]
        }
       ],
       "layout": {
        "barmode": "overlay",
        "legend": {
         "bgcolor": "#F5F6F9",
         "font": {
          "color": "#4D5663"
         }
        },
        "paper_bgcolor": "#F5F6F9",
        "plot_bgcolor": "#F5F6F9",
        "template": {
         "data": {
          "bar": [
           {
            "error_x": {
             "color": "#2a3f5f"
            },
            "error_y": {
             "color": "#2a3f5f"
            },
            "marker": {
             "line": {
              "color": "#E5ECF6",
              "width": 0.5
             },
             "pattern": {
              "fillmode": "overlay",
              "size": 10,
              "solidity": 0.2
             }
            },
            "type": "bar"
           }
          ],
          "barpolar": [
           {
            "marker": {
             "line": {
              "color": "#E5ECF6",
              "width": 0.5
             },
             "pattern": {
              "fillmode": "overlay",
              "size": 10,
              "solidity": 0.2
             }
            },
            "type": "barpolar"
           }
          ],
          "carpet": [
           {
            "aaxis": {
             "endlinecolor": "#2a3f5f",
             "gridcolor": "white",
             "linecolor": "white",
             "minorgridcolor": "white",
             "startlinecolor": "#2a3f5f"
            },
            "baxis": {
             "endlinecolor": "#2a3f5f",
             "gridcolor": "white",
             "linecolor": "white",
             "minorgridcolor": "white",
             "startlinecolor": "#2a3f5f"
            },
            "type": "carpet"
           }
          ],
          "choropleth": [
           {
            "colorbar": {
             "outlinewidth": 0,
             "ticks": ""
            },
            "type": "choropleth"
           }
          ],
          "contour": [
           {
            "colorbar": {
             "outlinewidth": 0,
             "ticks": ""
            },
            "colorscale": [
             [
              0,
              "#0d0887"
             ],
             [
              0.1111111111111111,
              "#46039f"
             ],
             [
              0.2222222222222222,
              "#7201a8"
             ],
             [
              0.3333333333333333,
              "#9c179e"
             ],
             [
              0.4444444444444444,
              "#bd3786"
             ],
             [
              0.5555555555555556,
              "#d8576b"
             ],
             [
              0.6666666666666666,
              "#ed7953"
             ],
             [
              0.7777777777777778,
              "#fb9f3a"
             ],
             [
              0.8888888888888888,
              "#fdca26"
             ],
             [
              1,
              "#f0f921"
             ]
            ],
            "type": "contour"
           }
          ],
          "contourcarpet": [
           {
            "colorbar": {
             "outlinewidth": 0,
             "ticks": ""
            },
            "type": "contourcarpet"
           }
          ],
          "heatmap": [
           {
            "colorbar": {
             "outlinewidth": 0,
             "ticks": ""
            },
            "colorscale": [
             [
              0,
              "#0d0887"
             ],
             [
              0.1111111111111111,
              "#46039f"
             ],
             [
              0.2222222222222222,
              "#7201a8"
             ],
             [
              0.3333333333333333,
              "#9c179e"
             ],
             [
              0.4444444444444444,
              "#bd3786"
             ],
             [
              0.5555555555555556,
              "#d8576b"
             ],
             [
              0.6666666666666666,
              "#ed7953"
             ],
             [
              0.7777777777777778,
              "#fb9f3a"
             ],
             [
              0.8888888888888888,
              "#fdca26"
             ],
             [
              1,
              "#f0f921"
             ]
            ],
            "type": "heatmap"
           }
          ],
          "heatmapgl": [
           {
            "colorbar": {
             "outlinewidth": 0,
             "ticks": ""
            },
            "colorscale": [
             [
              0,
              "#0d0887"
             ],
             [
              0.1111111111111111,
              "#46039f"
             ],
             [
              0.2222222222222222,
              "#7201a8"
             ],
             [
              0.3333333333333333,
              "#9c179e"
             ],
             [
              0.4444444444444444,
              "#bd3786"
             ],
             [
              0.5555555555555556,
              "#d8576b"
             ],
             [
              0.6666666666666666,
              "#ed7953"
             ],
             [
              0.7777777777777778,
              "#fb9f3a"
             ],
             [
              0.8888888888888888,
              "#fdca26"
             ],
             [
              1,
              "#f0f921"
             ]
            ],
            "type": "heatmapgl"
           }
          ],
          "histogram": [
           {
            "marker": {
             "pattern": {
              "fillmode": "overlay",
              "size": 10,
              "solidity": 0.2
             }
            },
            "type": "histogram"
           }
          ],
          "histogram2d": [
           {
            "colorbar": {
             "outlinewidth": 0,
             "ticks": ""
            },
            "colorscale": [
             [
              0,
              "#0d0887"
             ],
             [
              0.1111111111111111,
              "#46039f"
             ],
             [
              0.2222222222222222,
              "#7201a8"
             ],
             [
              0.3333333333333333,
              "#9c179e"
             ],
             [
              0.4444444444444444,
              "#bd3786"
             ],
             [
              0.5555555555555556,
              "#d8576b"
             ],
             [
              0.6666666666666666,
              "#ed7953"
             ],
             [
              0.7777777777777778,
              "#fb9f3a"
             ],
             [
              0.8888888888888888,
              "#fdca26"
             ],
             [
              1,
              "#f0f921"
             ]
            ],
            "type": "histogram2d"
           }
          ],
          "histogram2dcontour": [
           {
            "colorbar": {
             "outlinewidth": 0,
             "ticks": ""
            },
            "colorscale": [
             [
              0,
              "#0d0887"
             ],
             [
              0.1111111111111111,
              "#46039f"
             ],
             [
              0.2222222222222222,
              "#7201a8"
             ],
             [
              0.3333333333333333,
              "#9c179e"
             ],
             [
              0.4444444444444444,
              "#bd3786"
             ],
             [
              0.5555555555555556,
              "#d8576b"
             ],
             [
              0.6666666666666666,
              "#ed7953"
             ],
             [
              0.7777777777777778,
              "#fb9f3a"
             ],
             [
              0.8888888888888888,
              "#fdca26"
             ],
             [
              1,
              "#f0f921"
             ]
            ],
            "type": "histogram2dcontour"
           }
          ],
          "mesh3d": [
           {
            "colorbar": {
             "outlinewidth": 0,
             "ticks": ""
            },
            "type": "mesh3d"
           }
          ],
          "parcoords": [
           {
            "line": {
             "colorbar": {
              "outlinewidth": 0,
              "ticks": ""
             }
            },
            "type": "parcoords"
           }
          ],
          "pie": [
           {
            "automargin": true,
            "type": "pie"
           }
          ],
          "scatter": [
           {
            "fillpattern": {
             "fillmode": "overlay",
             "size": 10,
             "solidity": 0.2
            },
            "type": "scatter"
           }
          ],
          "scatter3d": [
           {
            "line": {
             "colorbar": {
              "outlinewidth": 0,
              "ticks": ""
             }
            },
            "marker": {
             "colorbar": {
              "outlinewidth": 0,
              "ticks": ""
             }
            },
            "type": "scatter3d"
           }
          ],
          "scattercarpet": [
           {
            "marker": {
             "colorbar": {
              "outlinewidth": 0,
              "ticks": ""
             }
            },
            "type": "scattercarpet"
           }
          ],
          "scattergeo": [
           {
            "marker": {
             "colorbar": {
              "outlinewidth": 0,
              "ticks": ""
             }
            },
            "type": "scattergeo"
           }
          ],
          "scattergl": [
           {
            "marker": {
             "colorbar": {
              "outlinewidth": 0,
              "ticks": ""
             }
            },
            "type": "scattergl"
           }
          ],
          "scattermapbox": [
           {
            "marker": {
             "colorbar": {
              "outlinewidth": 0,
              "ticks": ""
             }
            },
            "type": "scattermapbox"
           }
          ],
          "scatterpolar": [
           {
            "marker": {
             "colorbar": {
              "outlinewidth": 0,
              "ticks": ""
             }
            },
            "type": "scatterpolar"
           }
          ],
          "scatterpolargl": [
           {
            "marker": {
             "colorbar": {
              "outlinewidth": 0,
              "ticks": ""
             }
            },
            "type": "scatterpolargl"
           }
          ],
          "scatterternary": [
           {
            "marker": {
             "colorbar": {
              "outlinewidth": 0,
              "ticks": ""
             }
            },
            "type": "scatterternary"
           }
          ],
          "surface": [
           {
            "colorbar": {
             "outlinewidth": 0,
             "ticks": ""
            },
            "colorscale": [
             [
              0,
              "#0d0887"
             ],
             [
              0.1111111111111111,
              "#46039f"
             ],
             [
              0.2222222222222222,
              "#7201a8"
             ],
             [
              0.3333333333333333,
              "#9c179e"
             ],
             [
              0.4444444444444444,
              "#bd3786"
             ],
             [
              0.5555555555555556,
              "#d8576b"
             ],
             [
              0.6666666666666666,
              "#ed7953"
             ],
             [
              0.7777777777777778,
              "#fb9f3a"
             ],
             [
              0.8888888888888888,
              "#fdca26"
             ],
             [
              1,
              "#f0f921"
             ]
            ],
            "type": "surface"
           }
          ],
          "table": [
           {
            "cells": {
             "fill": {
              "color": "#EBF0F8"
             },
             "line": {
              "color": "white"
             }
            },
            "header": {
             "fill": {
              "color": "#C8D4E3"
             },
             "line": {
              "color": "white"
             }
            },
            "type": "table"
           }
          ]
         },
         "layout": {
          "annotationdefaults": {
           "arrowcolor": "#2a3f5f",
           "arrowhead": 0,
           "arrowwidth": 1
          },
          "autotypenumbers": "strict",
          "coloraxis": {
           "colorbar": {
            "outlinewidth": 0,
            "ticks": ""
           }
          },
          "colorscale": {
           "diverging": [
            [
             0,
             "#8e0152"
            ],
            [
             0.1,
             "#c51b7d"
            ],
            [
             0.2,
             "#de77ae"
            ],
            [
             0.3,
             "#f1b6da"
            ],
            [
             0.4,
             "#fde0ef"
            ],
            [
             0.5,
             "#f7f7f7"
            ],
            [
             0.6,
             "#e6f5d0"
            ],
            [
             0.7,
             "#b8e186"
            ],
            [
             0.8,
             "#7fbc41"
            ],
            [
             0.9,
             "#4d9221"
            ],
            [
             1,
             "#276419"
            ]
           ],
           "sequential": [
            [
             0,
             "#0d0887"
            ],
            [
             0.1111111111111111,
             "#46039f"
            ],
            [
             0.2222222222222222,
             "#7201a8"
            ],
            [
             0.3333333333333333,
             "#9c179e"
            ],
            [
             0.4444444444444444,
             "#bd3786"
            ],
            [
             0.5555555555555556,
             "#d8576b"
            ],
            [
             0.6666666666666666,
             "#ed7953"
            ],
            [
             0.7777777777777778,
             "#fb9f3a"
            ],
            [
             0.8888888888888888,
             "#fdca26"
            ],
            [
             1,
             "#f0f921"
            ]
           ],
           "sequentialminus": [
            [
             0,
             "#0d0887"
            ],
            [
             0.1111111111111111,
             "#46039f"
            ],
            [
             0.2222222222222222,
             "#7201a8"
            ],
            [
             0.3333333333333333,
             "#9c179e"
            ],
            [
             0.4444444444444444,
             "#bd3786"
            ],
            [
             0.5555555555555556,
             "#d8576b"
            ],
            [
             0.6666666666666666,
             "#ed7953"
            ],
            [
             0.7777777777777778,
             "#fb9f3a"
            ],
            [
             0.8888888888888888,
             "#fdca26"
            ],
            [
             1,
             "#f0f921"
            ]
           ]
          },
          "colorway": [
           "#636efa",
           "#EF553B",
           "#00cc96",
           "#ab63fa",
           "#FFA15A",
           "#19d3f3",
           "#FF6692",
           "#B6E880",
           "#FF97FF",
           "#FECB52"
          ],
          "font": {
           "color": "#2a3f5f"
          },
          "geo": {
           "bgcolor": "white",
           "lakecolor": "white",
           "landcolor": "#E5ECF6",
           "showlakes": true,
           "showland": true,
           "subunitcolor": "white"
          },
          "hoverlabel": {
           "align": "left"
          },
          "hovermode": "closest",
          "mapbox": {
           "style": "light"
          },
          "paper_bgcolor": "white",
          "plot_bgcolor": "#E5ECF6",
          "polar": {
           "angularaxis": {
            "gridcolor": "white",
            "linecolor": "white",
            "ticks": ""
           },
           "bgcolor": "#E5ECF6",
           "radialaxis": {
            "gridcolor": "white",
            "linecolor": "white",
            "ticks": ""
           }
          },
          "scene": {
           "xaxis": {
            "backgroundcolor": "#E5ECF6",
            "gridcolor": "white",
            "gridwidth": 2,
            "linecolor": "white",
            "showbackground": true,
            "ticks": "",
            "zerolinecolor": "white"
           },
           "yaxis": {
            "backgroundcolor": "#E5ECF6",
            "gridcolor": "white",
            "gridwidth": 2,
            "linecolor": "white",
            "showbackground": true,
            "ticks": "",
            "zerolinecolor": "white"
           },
           "zaxis": {
            "backgroundcolor": "#E5ECF6",
            "gridcolor": "white",
            "gridwidth": 2,
            "linecolor": "white",
            "showbackground": true,
            "ticks": "",
            "zerolinecolor": "white"
           }
          },
          "shapedefaults": {
           "line": {
            "color": "#2a3f5f"
           }
          },
          "ternary": {
           "aaxis": {
            "gridcolor": "white",
            "linecolor": "white",
            "ticks": ""
           },
           "baxis": {
            "gridcolor": "white",
            "linecolor": "white",
            "ticks": ""
           },
           "bgcolor": "#E5ECF6",
           "caxis": {
            "gridcolor": "white",
            "linecolor": "white",
            "ticks": ""
           }
          },
          "title": {
           "x": 0.05
          },
          "xaxis": {
           "automargin": true,
           "gridcolor": "white",
           "linecolor": "white",
           "ticks": "",
           "title": {
            "standoff": 15
           },
           "zerolinecolor": "white",
           "zerolinewidth": 2
          },
          "yaxis": {
           "automargin": true,
           "gridcolor": "white",
           "linecolor": "white",
           "ticks": "",
           "title": {
            "standoff": 15
           },
           "zerolinecolor": "white",
           "zerolinewidth": 2
          }
         }
        },
        "title": {
         "font": {
          "color": "#4D5663"
         }
        },
        "xaxis": {
         "gridcolor": "#E1E5ED",
         "showgrid": true,
         "tickfont": {
          "color": "#4D5663"
         },
         "title": {
          "font": {
           "color": "#4D5663"
          },
          "text": ""
         },
         "zerolinecolor": "#E1E5ED"
        },
        "yaxis": {
         "gridcolor": "#E1E5ED",
         "showgrid": true,
         "tickfont": {
          "color": "#4D5663"
         },
         "title": {
          "font": {
           "color": "#4D5663"
          },
          "text": ""
         },
         "zerolinecolor": "#E1E5ED"
        }
       }
      },
      "text/html": [
       "<div>                            <div id=\"3f283700-f78c-4e5e-b50f-cb97470dcdc8\" class=\"plotly-graph-div\" style=\"height:525px; width:100%;\"></div>            <script type=\"text/javascript\">                require([\"plotly\"], function(Plotly) {                    window.PLOTLYENV=window.PLOTLYENV || {};\n",
       "                    window.PLOTLYENV.BASE_URL='https://plot.ly';                                    if (document.getElementById(\"3f283700-f78c-4e5e-b50f-cb97470dcdc8\")) {                    Plotly.newPlot(                        \"3f283700-f78c-4e5e-b50f-cb97470dcdc8\",                        [{\"histfunc\":\"count\",\"histnorm\":\"\",\"marker\":{\"color\":\"rgba(255, 153, 51, 1.0)\",\"line\":{\"color\":\"#4D5663\",\"width\":1.3}},\"name\":\"A\",\"nbinsx\":50,\"opacity\":0.8,\"orientation\":\"v\",\"x\":[1.6185342153503897,1.1848362441609444,1.0676265789711767,0.6289578176999444,-0.0731723746557524,-0.10349025747306093,-0.13828150425216726,0.8810902574734345,-0.5542620086053726,1.367655392604224,0.42159233908657434,-1.6600131400907159,-2.321880943758504,-0.14525715490075852,-1.4150329423246357,1.1902193781513097,0.032605182130966644,-1.1068654931550255,-0.4881710870419417,-1.0064654004665394,-1.4861349648044178,0.42126197939457344,0.2033513437481144,0.6780192171590568,2.2695601885039856,-1.0530794893148434,-0.7599582936020849,0.07479649981688027,-0.5004585006618902,-0.7069045792139065,-0.7490649048467005,-0.9573833622535074,0.3184903662704784,0.5232510497782804,-0.292920914056626,0.5526442907323154,0.28927758198705866,-0.9595308675629673,0.6624074725052688,-1.2675470861916667,-1.298518317282184,1.6505714308200703,0.7711743870399246,-0.10350465261086673,-0.9890595965375653,0.09060720967289916,-0.9664272965492815,1.7520110562695306,2.0598160276614736,-1.5398792263792436,0.14913323679684518,0.995048297495277,-0.8178015437731536,-1.1488188276104512,-1.2553879715068992,0.702144807401087,-0.14721370696443659,0.9849700972122788,-1.6159928381795001,2.8876664099211764,1.1792610841498818,1.137534866296284,0.36529841743489505,0.6837628681037843,0.3857655623229011,-1.4277493996033706,1.9387091111049926,-0.8799227856643209,0.17157935956524548,1.2164326922302917,0.004829280486984333,-0.7305142209733924,0.8090950392810067,-2.7632429506224883,0.9238654843844363,0.13909084142958214,0.06932779342792991,0.10316445888209945,-1.4408925516222189,-1.5014989504920706,1.3164328202880184,0.20632089660007252,-0.4332798600838577,0.5100226609573209,-0.5583994791359564,0.4825916998568048,-0.15873725230421742,-2.033833509570888,-0.56776873608412,-1.3983642700361827,-0.17721085755554614,-0.4777864854606395,-0.7084571357637636,0.14725150781339041,0.5160571944585837,2.391248105092854,-0.035925646760449015,0.3993352653098139,0.5041548045378224,-2.4531789724121182],\"type\":\"histogram\"}],                        {\"barmode\":\"overlay\",\"legend\":{\"bgcolor\":\"#F5F6F9\",\"font\":{\"color\":\"#4D5663\"}},\"paper_bgcolor\":\"#F5F6F9\",\"plot_bgcolor\":\"#F5F6F9\",\"template\":{\"data\":{\"barpolar\":[{\"marker\":{\"line\":{\"color\":\"#E5ECF6\",\"width\":0.5},\"pattern\":{\"fillmode\":\"overlay\",\"size\":10,\"solidity\":0.2}},\"type\":\"barpolar\"}],\"bar\":[{\"error_x\":{\"color\":\"#2a3f5f\"},\"error_y\":{\"color\":\"#2a3f5f\"},\"marker\":{\"line\":{\"color\":\"#E5ECF6\",\"width\":0.5},\"pattern\":{\"fillmode\":\"overlay\",\"size\":10,\"solidity\":0.2}},\"type\":\"bar\"}],\"carpet\":[{\"aaxis\":{\"endlinecolor\":\"#2a3f5f\",\"gridcolor\":\"white\",\"linecolor\":\"white\",\"minorgridcolor\":\"white\",\"startlinecolor\":\"#2a3f5f\"},\"baxis\":{\"endlinecolor\":\"#2a3f5f\",\"gridcolor\":\"white\",\"linecolor\":\"white\",\"minorgridcolor\":\"white\",\"startlinecolor\":\"#2a3f5f\"},\"type\":\"carpet\"}],\"choropleth\":[{\"colorbar\":{\"outlinewidth\":0,\"ticks\":\"\"},\"type\":\"choropleth\"}],\"contourcarpet\":[{\"colorbar\":{\"outlinewidth\":0,\"ticks\":\"\"},\"type\":\"contourcarpet\"}],\"contour\":[{\"colorbar\":{\"outlinewidth\":0,\"ticks\":\"\"},\"colorscale\":[[0.0,\"#0d0887\"],[0.1111111111111111,\"#46039f\"],[0.2222222222222222,\"#7201a8\"],[0.3333333333333333,\"#9c179e\"],[0.4444444444444444,\"#bd3786\"],[0.5555555555555556,\"#d8576b\"],[0.6666666666666666,\"#ed7953\"],[0.7777777777777778,\"#fb9f3a\"],[0.8888888888888888,\"#fdca26\"],[1.0,\"#f0f921\"]],\"type\":\"contour\"}],\"heatmapgl\":[{\"colorbar\":{\"outlinewidth\":0,\"ticks\":\"\"},\"colorscale\":[[0.0,\"#0d0887\"],[0.1111111111111111,\"#46039f\"],[0.2222222222222222,\"#7201a8\"],[0.3333333333333333,\"#9c179e\"],[0.4444444444444444,\"#bd3786\"],[0.5555555555555556,\"#d8576b\"],[0.6666666666666666,\"#ed7953\"],[0.7777777777777778,\"#fb9f3a\"],[0.8888888888888888,\"#fdca26\"],[1.0,\"#f0f921\"]],\"type\":\"heatmapgl\"}],\"heatmap\":[{\"colorbar\":{\"outlinewidth\":0,\"ticks\":\"\"},\"colorscale\":[[0.0,\"#0d0887\"],[0.1111111111111111,\"#46039f\"],[0.2222222222222222,\"#7201a8\"],[0.3333333333333333,\"#9c179e\"],[0.4444444444444444,\"#bd3786\"],[0.5555555555555556,\"#d8576b\"],[0.6666666666666666,\"#ed7953\"],[0.7777777777777778,\"#fb9f3a\"],[0.8888888888888888,\"#fdca26\"],[1.0,\"#f0f921\"]],\"type\":\"heatmap\"}],\"histogram2dcontour\":[{\"colorbar\":{\"outlinewidth\":0,\"ticks\":\"\"},\"colorscale\":[[0.0,\"#0d0887\"],[0.1111111111111111,\"#46039f\"],[0.2222222222222222,\"#7201a8\"],[0.3333333333333333,\"#9c179e\"],[0.4444444444444444,\"#bd3786\"],[0.5555555555555556,\"#d8576b\"],[0.6666666666666666,\"#ed7953\"],[0.7777777777777778,\"#fb9f3a\"],[0.8888888888888888,\"#fdca26\"],[1.0,\"#f0f921\"]],\"type\":\"histogram2dcontour\"}],\"histogram2d\":[{\"colorbar\":{\"outlinewidth\":0,\"ticks\":\"\"},\"colorscale\":[[0.0,\"#0d0887\"],[0.1111111111111111,\"#46039f\"],[0.2222222222222222,\"#7201a8\"],[0.3333333333333333,\"#9c179e\"],[0.4444444444444444,\"#bd3786\"],[0.5555555555555556,\"#d8576b\"],[0.6666666666666666,\"#ed7953\"],[0.7777777777777778,\"#fb9f3a\"],[0.8888888888888888,\"#fdca26\"],[1.0,\"#f0f921\"]],\"type\":\"histogram2d\"}],\"histogram\":[{\"marker\":{\"pattern\":{\"fillmode\":\"overlay\",\"size\":10,\"solidity\":0.2}},\"type\":\"histogram\"}],\"mesh3d\":[{\"colorbar\":{\"outlinewidth\":0,\"ticks\":\"\"},\"type\":\"mesh3d\"}],\"parcoords\":[{\"line\":{\"colorbar\":{\"outlinewidth\":0,\"ticks\":\"\"}},\"type\":\"parcoords\"}],\"pie\":[{\"automargin\":true,\"type\":\"pie\"}],\"scatter3d\":[{\"line\":{\"colorbar\":{\"outlinewidth\":0,\"ticks\":\"\"}},\"marker\":{\"colorbar\":{\"outlinewidth\":0,\"ticks\":\"\"}},\"type\":\"scatter3d\"}],\"scattercarpet\":[{\"marker\":{\"colorbar\":{\"outlinewidth\":0,\"ticks\":\"\"}},\"type\":\"scattercarpet\"}],\"scattergeo\":[{\"marker\":{\"colorbar\":{\"outlinewidth\":0,\"ticks\":\"\"}},\"type\":\"scattergeo\"}],\"scattergl\":[{\"marker\":{\"colorbar\":{\"outlinewidth\":0,\"ticks\":\"\"}},\"type\":\"scattergl\"}],\"scattermapbox\":[{\"marker\":{\"colorbar\":{\"outlinewidth\":0,\"ticks\":\"\"}},\"type\":\"scattermapbox\"}],\"scatterpolargl\":[{\"marker\":{\"colorbar\":{\"outlinewidth\":0,\"ticks\":\"\"}},\"type\":\"scatterpolargl\"}],\"scatterpolar\":[{\"marker\":{\"colorbar\":{\"outlinewidth\":0,\"ticks\":\"\"}},\"type\":\"scatterpolar\"}],\"scatter\":[{\"fillpattern\":{\"fillmode\":\"overlay\",\"size\":10,\"solidity\":0.2},\"type\":\"scatter\"}],\"scatterternary\":[{\"marker\":{\"colorbar\":{\"outlinewidth\":0,\"ticks\":\"\"}},\"type\":\"scatterternary\"}],\"surface\":[{\"colorbar\":{\"outlinewidth\":0,\"ticks\":\"\"},\"colorscale\":[[0.0,\"#0d0887\"],[0.1111111111111111,\"#46039f\"],[0.2222222222222222,\"#7201a8\"],[0.3333333333333333,\"#9c179e\"],[0.4444444444444444,\"#bd3786\"],[0.5555555555555556,\"#d8576b\"],[0.6666666666666666,\"#ed7953\"],[0.7777777777777778,\"#fb9f3a\"],[0.8888888888888888,\"#fdca26\"],[1.0,\"#f0f921\"]],\"type\":\"surface\"}],\"table\":[{\"cells\":{\"fill\":{\"color\":\"#EBF0F8\"},\"line\":{\"color\":\"white\"}},\"header\":{\"fill\":{\"color\":\"#C8D4E3\"},\"line\":{\"color\":\"white\"}},\"type\":\"table\"}]},\"layout\":{\"annotationdefaults\":{\"arrowcolor\":\"#2a3f5f\",\"arrowhead\":0,\"arrowwidth\":1},\"autotypenumbers\":\"strict\",\"coloraxis\":{\"colorbar\":{\"outlinewidth\":0,\"ticks\":\"\"}},\"colorscale\":{\"diverging\":[[0,\"#8e0152\"],[0.1,\"#c51b7d\"],[0.2,\"#de77ae\"],[0.3,\"#f1b6da\"],[0.4,\"#fde0ef\"],[0.5,\"#f7f7f7\"],[0.6,\"#e6f5d0\"],[0.7,\"#b8e186\"],[0.8,\"#7fbc41\"],[0.9,\"#4d9221\"],[1,\"#276419\"]],\"sequential\":[[0.0,\"#0d0887\"],[0.1111111111111111,\"#46039f\"],[0.2222222222222222,\"#7201a8\"],[0.3333333333333333,\"#9c179e\"],[0.4444444444444444,\"#bd3786\"],[0.5555555555555556,\"#d8576b\"],[0.6666666666666666,\"#ed7953\"],[0.7777777777777778,\"#fb9f3a\"],[0.8888888888888888,\"#fdca26\"],[1.0,\"#f0f921\"]],\"sequentialminus\":[[0.0,\"#0d0887\"],[0.1111111111111111,\"#46039f\"],[0.2222222222222222,\"#7201a8\"],[0.3333333333333333,\"#9c179e\"],[0.4444444444444444,\"#bd3786\"],[0.5555555555555556,\"#d8576b\"],[0.6666666666666666,\"#ed7953\"],[0.7777777777777778,\"#fb9f3a\"],[0.8888888888888888,\"#fdca26\"],[1.0,\"#f0f921\"]]},\"colorway\":[\"#636efa\",\"#EF553B\",\"#00cc96\",\"#ab63fa\",\"#FFA15A\",\"#19d3f3\",\"#FF6692\",\"#B6E880\",\"#FF97FF\",\"#FECB52\"],\"font\":{\"color\":\"#2a3f5f\"},\"geo\":{\"bgcolor\":\"white\",\"lakecolor\":\"white\",\"landcolor\":\"#E5ECF6\",\"showlakes\":true,\"showland\":true,\"subunitcolor\":\"white\"},\"hoverlabel\":{\"align\":\"left\"},\"hovermode\":\"closest\",\"mapbox\":{\"style\":\"light\"},\"paper_bgcolor\":\"white\",\"plot_bgcolor\":\"#E5ECF6\",\"polar\":{\"angularaxis\":{\"gridcolor\":\"white\",\"linecolor\":\"white\",\"ticks\":\"\"},\"bgcolor\":\"#E5ECF6\",\"radialaxis\":{\"gridcolor\":\"white\",\"linecolor\":\"white\",\"ticks\":\"\"}},\"scene\":{\"xaxis\":{\"backgroundcolor\":\"#E5ECF6\",\"gridcolor\":\"white\",\"gridwidth\":2,\"linecolor\":\"white\",\"showbackground\":true,\"ticks\":\"\",\"zerolinecolor\":\"white\"},\"yaxis\":{\"backgroundcolor\":\"#E5ECF6\",\"gridcolor\":\"white\",\"gridwidth\":2,\"linecolor\":\"white\",\"showbackground\":true,\"ticks\":\"\",\"zerolinecolor\":\"white\"},\"zaxis\":{\"backgroundcolor\":\"#E5ECF6\",\"gridcolor\":\"white\",\"gridwidth\":2,\"linecolor\":\"white\",\"showbackground\":true,\"ticks\":\"\",\"zerolinecolor\":\"white\"}},\"shapedefaults\":{\"line\":{\"color\":\"#2a3f5f\"}},\"ternary\":{\"aaxis\":{\"gridcolor\":\"white\",\"linecolor\":\"white\",\"ticks\":\"\"},\"baxis\":{\"gridcolor\":\"white\",\"linecolor\":\"white\",\"ticks\":\"\"},\"bgcolor\":\"#E5ECF6\",\"caxis\":{\"gridcolor\":\"white\",\"linecolor\":\"white\",\"ticks\":\"\"}},\"title\":{\"x\":0.05},\"xaxis\":{\"automargin\":true,\"gridcolor\":\"white\",\"linecolor\":\"white\",\"ticks\":\"\",\"title\":{\"standoff\":15},\"zerolinecolor\":\"white\",\"zerolinewidth\":2},\"yaxis\":{\"automargin\":true,\"gridcolor\":\"white\",\"linecolor\":\"white\",\"ticks\":\"\",\"title\":{\"standoff\":15},\"zerolinecolor\":\"white\",\"zerolinewidth\":2}}},\"title\":{\"font\":{\"color\":\"#4D5663\"}},\"xaxis\":{\"gridcolor\":\"#E1E5ED\",\"showgrid\":true,\"tickfont\":{\"color\":\"#4D5663\"},\"title\":{\"font\":{\"color\":\"#4D5663\"},\"text\":\"\"},\"zerolinecolor\":\"#E1E5ED\"},\"yaxis\":{\"gridcolor\":\"#E1E5ED\",\"showgrid\":true,\"tickfont\":{\"color\":\"#4D5663\"},\"title\":{\"font\":{\"color\":\"#4D5663\"},\"text\":\"\"},\"zerolinecolor\":\"#E1E5ED\"}},                        {\"showLink\": true, \"linkText\": \"Export to plot.ly\", \"plotlyServerURL\": \"https://plot.ly\", \"responsive\": true}                    ).then(function(){\n",
       "                            \n",
       "var gd = document.getElementById('3f283700-f78c-4e5e-b50f-cb97470dcdc8');\n",
       "var x = new MutationObserver(function (mutations, observer) {{\n",
       "        var display = window.getComputedStyle(gd).display;\n",
       "        if (!display || display === 'none') {{\n",
       "            console.log([gd, 'removed!']);\n",
       "            Plotly.purge(gd);\n",
       "            observer.disconnect();\n",
       "        }}\n",
       "}});\n",
       "\n",
       "// Listen for the removal of the full notebook cells\n",
       "var notebookContainer = gd.closest('#notebook-container');\n",
       "if (notebookContainer) {{\n",
       "    x.observe(notebookContainer, {childList: true});\n",
       "}}\n",
       "\n",
       "// Listen for the clearing of the current output cell\n",
       "var outputEl = gd.closest('.output');\n",
       "if (outputEl) {{\n",
       "    x.observe(outputEl, {childList: true});\n",
       "}}\n",
       "\n",
       "                        })                };                });            </script>        </div>"
      ]
     },
     "metadata": {},
     "output_type": "display_data"
    }
   ],
   "source": [
    "df['A'].iplot(kind='hist',bins=50)"
   ]
  },
  {
   "cell_type": "code",
   "execution_count": 73,
   "id": "bc01cd47",
   "metadata": {},
   "outputs": [
    {
     "data": {
      "text/html": [
       "<div>\n",
       "<style scoped>\n",
       "    .dataframe tbody tr th:only-of-type {\n",
       "        vertical-align: middle;\n",
       "    }\n",
       "\n",
       "    .dataframe tbody tr th {\n",
       "        vertical-align: top;\n",
       "    }\n",
       "\n",
       "    .dataframe thead th {\n",
       "        text-align: right;\n",
       "    }\n",
       "</style>\n",
       "<table border=\"1\" class=\"dataframe\">\n",
       "  <thead>\n",
       "    <tr style=\"text-align: right;\">\n",
       "      <th></th>\n",
       "      <th>A</th>\n",
       "      <th>B</th>\n",
       "    </tr>\n",
       "  </thead>\n",
       "  <tbody>\n",
       "    <tr>\n",
       "      <th>0</th>\n",
       "      <td>1.618534</td>\n",
       "      <td>0.245557</td>\n",
       "    </tr>\n",
       "    <tr>\n",
       "      <th>1</th>\n",
       "      <td>1.184836</td>\n",
       "      <td>-0.563813</td>\n",
       "    </tr>\n",
       "    <tr>\n",
       "      <th>2</th>\n",
       "      <td>1.067627</td>\n",
       "      <td>0.158380</td>\n",
       "    </tr>\n",
       "    <tr>\n",
       "      <th>3</th>\n",
       "      <td>0.628958</td>\n",
       "      <td>0.025965</td>\n",
       "    </tr>\n",
       "    <tr>\n",
       "      <th>4</th>\n",
       "      <td>-0.073172</td>\n",
       "      <td>1.026169</td>\n",
       "    </tr>\n",
       "    <tr>\n",
       "      <th>...</th>\n",
       "      <td>...</td>\n",
       "      <td>...</td>\n",
       "    </tr>\n",
       "    <tr>\n",
       "      <th>95</th>\n",
       "      <td>2.391248</td>\n",
       "      <td>-0.036919</td>\n",
       "    </tr>\n",
       "    <tr>\n",
       "      <th>96</th>\n",
       "      <td>-0.035926</td>\n",
       "      <td>0.487317</td>\n",
       "    </tr>\n",
       "    <tr>\n",
       "      <th>97</th>\n",
       "      <td>0.399335</td>\n",
       "      <td>0.202822</td>\n",
       "    </tr>\n",
       "    <tr>\n",
       "      <th>98</th>\n",
       "      <td>0.504155</td>\n",
       "      <td>-0.092454</td>\n",
       "    </tr>\n",
       "    <tr>\n",
       "      <th>99</th>\n",
       "      <td>-2.453179</td>\n",
       "      <td>-1.719684</td>\n",
       "    </tr>\n",
       "  </tbody>\n",
       "</table>\n",
       "<p>100 rows × 2 columns</p>\n",
       "</div>"
      ],
      "text/plain": [
       "           A         B\n",
       "0   1.618534  0.245557\n",
       "1   1.184836 -0.563813\n",
       "2   1.067627  0.158380\n",
       "3   0.628958  0.025965\n",
       "4  -0.073172  1.026169\n",
       "..       ...       ...\n",
       "95  2.391248 -0.036919\n",
       "96 -0.035926  0.487317\n",
       "97  0.399335  0.202822\n",
       "98  0.504155 -0.092454\n",
       "99 -2.453179 -1.719684\n",
       "\n",
       "[100 rows x 2 columns]"
      ]
     },
     "execution_count": 73,
     "metadata": {},
     "output_type": "execute_result"
    }
   ],
   "source": [
    "df[['A','B']]"
   ]
  },
  {
   "cell_type": "code",
   "execution_count": 74,
   "id": "9443ce3f",
   "metadata": {},
   "outputs": [
    {
     "ename": "AttributeError",
     "evalue": "module 'pandas' has no attribute 'np'",
     "output_type": "error",
     "traceback": [
      "\u001b[1;31m---------------------------------------------------------------------------\u001b[0m",
      "\u001b[1;31mAttributeError\u001b[0m                            Traceback (most recent call last)",
      "Cell \u001b[1;32mIn[74], line 1\u001b[0m\n\u001b[1;32m----> 1\u001b[0m df[[\u001b[38;5;124m'\u001b[39m\u001b[38;5;124mA\u001b[39m\u001b[38;5;124m'\u001b[39m,\u001b[38;5;124m'\u001b[39m\u001b[38;5;124mB\u001b[39m\u001b[38;5;124m'\u001b[39m]]\u001b[38;5;241m.\u001b[39miplot(kind\u001b[38;5;241m=\u001b[39m\u001b[38;5;124m'\u001b[39m\u001b[38;5;124mspread\u001b[39m\u001b[38;5;124m'\u001b[39m)\n",
      "File \u001b[1;32m~\\anaconda3\\Lib\\site-packages\\cufflinks\\plotlytools.py:849\u001b[0m, in \u001b[0;36m_iplot\u001b[1;34m(self, kind, data, layout, filename, sharing, title, xTitle, yTitle, zTitle, theme, colors, colorscale, fill, width, dash, mode, interpolation, symbol, size, barmode, sortbars, bargap, bargroupgap, bins, histnorm, histfunc, orientation, boxpoints, annotations, keys, bestfit, bestfit_colors, mean, mean_colors, categories, x, y, z, text, gridcolor, zerolinecolor, margin, labels, values, secondary_y, secondary_y_title, subplots, shape, error_x, error_y, error_type, locations, lon, lat, asFrame, asDates, asFigure, asImage, dimensions, asPlot, asUrl, online, **kwargs)\u001b[0m\n\u001b[0;32m    847\u001b[0m \u001b[38;5;28;01mif\u001b[39;00m kind\u001b[38;5;241m==\u001b[39m\u001b[38;5;124m'\u001b[39m\u001b[38;5;124mspread\u001b[39m\u001b[38;5;124m'\u001b[39m:\n\u001b[0;32m    848\u001b[0m \ttrace\u001b[38;5;241m=\u001b[39m\u001b[38;5;28mself\u001b[39m\u001b[38;5;241m.\u001b[39mapply(\u001b[38;5;28;01mlambda\u001b[39;00m x:x[\u001b[38;5;241m0\u001b[39m]\u001b[38;5;241m-\u001b[39mx[\u001b[38;5;241m1\u001b[39m],axis\u001b[38;5;241m=\u001b[39m\u001b[38;5;241m1\u001b[39m)\n\u001b[1;32m--> 849\u001b[0m \tpositive\u001b[38;5;241m=\u001b[39mtrace\u001b[38;5;241m.\u001b[39mapply(\u001b[38;5;28;01mlambda\u001b[39;00m x:x \u001b[38;5;28;01mif\u001b[39;00m x\u001b[38;5;241m>\u001b[39m\u001b[38;5;241m=\u001b[39m\u001b[38;5;241m0\u001b[39m \u001b[38;5;28;01melse\u001b[39;00m pd\u001b[38;5;241m.\u001b[39mnp\u001b[38;5;241m.\u001b[39mnan)\n\u001b[0;32m    850\u001b[0m \tnegative\u001b[38;5;241m=\u001b[39mtrace\u001b[38;5;241m.\u001b[39mapply(\u001b[38;5;28;01mlambda\u001b[39;00m x:x \u001b[38;5;28;01mif\u001b[39;00m x\u001b[38;5;241m<\u001b[39m\u001b[38;5;241m0\u001b[39m \u001b[38;5;28;01melse\u001b[39;00m pd\u001b[38;5;241m.\u001b[39mnp\u001b[38;5;241m.\u001b[39mnan)\n\u001b[0;32m    851\u001b[0m \ttrace\u001b[38;5;241m=\u001b[39mpd\u001b[38;5;241m.\u001b[39mDataFrame({\u001b[38;5;124m'\u001b[39m\u001b[38;5;124mpositive\u001b[39m\u001b[38;5;124m'\u001b[39m:positive,\u001b[38;5;124m'\u001b[39m\u001b[38;5;124mnegative\u001b[39m\u001b[38;5;124m'\u001b[39m:negative})\n",
      "File \u001b[1;32m~\\anaconda3\\Lib\\site-packages\\pandas\\core\\series.py:4630\u001b[0m, in \u001b[0;36mSeries.apply\u001b[1;34m(self, func, convert_dtype, args, **kwargs)\u001b[0m\n\u001b[0;32m   4520\u001b[0m \u001b[38;5;28;01mdef\u001b[39;00m \u001b[38;5;21mapply\u001b[39m(\n\u001b[0;32m   4521\u001b[0m     \u001b[38;5;28mself\u001b[39m,\n\u001b[0;32m   4522\u001b[0m     func: AggFuncType,\n\u001b[1;32m   (...)\u001b[0m\n\u001b[0;32m   4525\u001b[0m     \u001b[38;5;241m*\u001b[39m\u001b[38;5;241m*\u001b[39mkwargs,\n\u001b[0;32m   4526\u001b[0m ) \u001b[38;5;241m-\u001b[39m\u001b[38;5;241m>\u001b[39m DataFrame \u001b[38;5;241m|\u001b[39m Series:\n\u001b[0;32m   4527\u001b[0m \u001b[38;5;250m    \u001b[39m\u001b[38;5;124;03m\"\"\"\u001b[39;00m\n\u001b[0;32m   4528\u001b[0m \u001b[38;5;124;03m    Invoke function on values of Series.\u001b[39;00m\n\u001b[0;32m   4529\u001b[0m \n\u001b[1;32m   (...)\u001b[0m\n\u001b[0;32m   4628\u001b[0m \u001b[38;5;124;03m    dtype: float64\u001b[39;00m\n\u001b[0;32m   4629\u001b[0m \u001b[38;5;124;03m    \"\"\"\u001b[39;00m\n\u001b[1;32m-> 4630\u001b[0m     \u001b[38;5;28;01mreturn\u001b[39;00m SeriesApply(\u001b[38;5;28mself\u001b[39m, func, convert_dtype, args, kwargs)\u001b[38;5;241m.\u001b[39mapply()\n",
      "File \u001b[1;32m~\\anaconda3\\Lib\\site-packages\\pandas\\core\\apply.py:1025\u001b[0m, in \u001b[0;36mSeriesApply.apply\u001b[1;34m(self)\u001b[0m\n\u001b[0;32m   1022\u001b[0m     \u001b[38;5;28;01mreturn\u001b[39;00m \u001b[38;5;28mself\u001b[39m\u001b[38;5;241m.\u001b[39mapply_str()\n\u001b[0;32m   1024\u001b[0m \u001b[38;5;66;03m# self.f is Callable\u001b[39;00m\n\u001b[1;32m-> 1025\u001b[0m \u001b[38;5;28;01mreturn\u001b[39;00m \u001b[38;5;28mself\u001b[39m\u001b[38;5;241m.\u001b[39mapply_standard()\n",
      "File \u001b[1;32m~\\anaconda3\\Lib\\site-packages\\pandas\\core\\apply.py:1076\u001b[0m, in \u001b[0;36mSeriesApply.apply_standard\u001b[1;34m(self)\u001b[0m\n\u001b[0;32m   1074\u001b[0m     \u001b[38;5;28;01melse\u001b[39;00m:\n\u001b[0;32m   1075\u001b[0m         values \u001b[38;5;241m=\u001b[39m obj\u001b[38;5;241m.\u001b[39mastype(\u001b[38;5;28mobject\u001b[39m)\u001b[38;5;241m.\u001b[39m_values\n\u001b[1;32m-> 1076\u001b[0m         mapped \u001b[38;5;241m=\u001b[39m lib\u001b[38;5;241m.\u001b[39mmap_infer(\n\u001b[0;32m   1077\u001b[0m             values,\n\u001b[0;32m   1078\u001b[0m             f,\n\u001b[0;32m   1079\u001b[0m             convert\u001b[38;5;241m=\u001b[39m\u001b[38;5;28mself\u001b[39m\u001b[38;5;241m.\u001b[39mconvert_dtype,\n\u001b[0;32m   1080\u001b[0m         )\n\u001b[0;32m   1082\u001b[0m \u001b[38;5;28;01mif\u001b[39;00m \u001b[38;5;28mlen\u001b[39m(mapped) \u001b[38;5;129;01mand\u001b[39;00m \u001b[38;5;28misinstance\u001b[39m(mapped[\u001b[38;5;241m0\u001b[39m], ABCSeries):\n\u001b[0;32m   1083\u001b[0m     \u001b[38;5;66;03m# GH#43986 Need to do list(mapped) in order to get treated as nested\u001b[39;00m\n\u001b[0;32m   1084\u001b[0m     \u001b[38;5;66;03m#  See also GH#25959 regarding EA support\u001b[39;00m\n\u001b[0;32m   1085\u001b[0m     \u001b[38;5;28;01mreturn\u001b[39;00m obj\u001b[38;5;241m.\u001b[39m_constructor_expanddim(\u001b[38;5;28mlist\u001b[39m(mapped), index\u001b[38;5;241m=\u001b[39mobj\u001b[38;5;241m.\u001b[39mindex)\n",
      "File \u001b[1;32m~\\anaconda3\\Lib\\site-packages\\pandas\\_libs\\lib.pyx:2834\u001b[0m, in \u001b[0;36mpandas._libs.lib.map_infer\u001b[1;34m()\u001b[0m\n",
      "File \u001b[1;32m~\\anaconda3\\Lib\\site-packages\\cufflinks\\plotlytools.py:849\u001b[0m, in \u001b[0;36m_iplot.<locals>.<lambda>\u001b[1;34m(x)\u001b[0m\n\u001b[0;32m    847\u001b[0m \u001b[38;5;28;01mif\u001b[39;00m kind\u001b[38;5;241m==\u001b[39m\u001b[38;5;124m'\u001b[39m\u001b[38;5;124mspread\u001b[39m\u001b[38;5;124m'\u001b[39m:\n\u001b[0;32m    848\u001b[0m \ttrace\u001b[38;5;241m=\u001b[39m\u001b[38;5;28mself\u001b[39m\u001b[38;5;241m.\u001b[39mapply(\u001b[38;5;28;01mlambda\u001b[39;00m x:x[\u001b[38;5;241m0\u001b[39m]\u001b[38;5;241m-\u001b[39mx[\u001b[38;5;241m1\u001b[39m],axis\u001b[38;5;241m=\u001b[39m\u001b[38;5;241m1\u001b[39m)\n\u001b[1;32m--> 849\u001b[0m \tpositive\u001b[38;5;241m=\u001b[39mtrace\u001b[38;5;241m.\u001b[39mapply(\u001b[38;5;28;01mlambda\u001b[39;00m x:x \u001b[38;5;28;01mif\u001b[39;00m x\u001b[38;5;241m>\u001b[39m\u001b[38;5;241m=\u001b[39m\u001b[38;5;241m0\u001b[39m \u001b[38;5;28;01melse\u001b[39;00m pd\u001b[38;5;241m.\u001b[39mnp\u001b[38;5;241m.\u001b[39mnan)\n\u001b[0;32m    850\u001b[0m \tnegative\u001b[38;5;241m=\u001b[39mtrace\u001b[38;5;241m.\u001b[39mapply(\u001b[38;5;28;01mlambda\u001b[39;00m x:x \u001b[38;5;28;01mif\u001b[39;00m x\u001b[38;5;241m<\u001b[39m\u001b[38;5;241m0\u001b[39m \u001b[38;5;28;01melse\u001b[39;00m pd\u001b[38;5;241m.\u001b[39mnp\u001b[38;5;241m.\u001b[39mnan)\n\u001b[0;32m    851\u001b[0m \ttrace\u001b[38;5;241m=\u001b[39mpd\u001b[38;5;241m.\u001b[39mDataFrame({\u001b[38;5;124m'\u001b[39m\u001b[38;5;124mpositive\u001b[39m\u001b[38;5;124m'\u001b[39m:positive,\u001b[38;5;124m'\u001b[39m\u001b[38;5;124mnegative\u001b[39m\u001b[38;5;124m'\u001b[39m:negative})\n",
      "\u001b[1;31mAttributeError\u001b[0m: module 'pandas' has no attribute 'np'"
     ]
    }
   ],
   "source": [
    "df[['A','B']].iplot(kind='spread')"
   ]
  },
  {
   "cell_type": "code",
   "execution_count": 75,
   "id": "45ea8349",
   "metadata": {},
   "outputs": [
    {
     "data": {
      "application/vnd.plotly.v1+json": {
       "config": {
        "linkText": "Export to plot.ly",
        "plotlyServerURL": "https://plot.ly",
        "showLink": true
       },
       "data": [
        {
         "marker": {
          "color": [
           "rgb(255, 153, 51)",
           "rgb(55, 128, 191)",
           "rgb(50, 171, 96)",
           "rgb(128, 0, 128)",
           "rgb(219, 64, 82)",
           "rgb(0, 128, 128)",
           "rgb(255, 255, 51)",
           "rgb(128, 128, 0)",
           "rgb(251, 128, 114)",
           "rgb(128, 177, 211)"
          ],
          "line": {
           "width": 1.3
          },
          "size": [
           53,
           62,
           71,
           86,
           61,
           48,
           51,
           74,
           53,
           112,
           60,
           56,
           63,
           52,
           64,
           45,
           59,
           87,
           12,
           78,
           59,
           64,
           72,
           85,
           73,
           72,
           85,
           85,
           73,
           64,
           82,
           63,
           78,
           59,
           57,
           75,
           81,
           57,
           59,
           91,
           75,
           60,
           58,
           34,
           59,
           56,
           70,
           91,
           83,
           59,
           70,
           77,
           81,
           60,
           43,
           75,
           61,
           69,
           62,
           65,
           72,
           42,
           75,
           53,
           65,
           54,
           89,
           104,
           70,
           67,
           91,
           24,
           59,
           39,
           23,
           81,
           66,
           48,
           87,
           50,
           50,
           60,
           85,
           63,
           49,
           53,
           49,
           70,
           63,
           77,
           49,
           48,
           59,
           75,
           64,
           55,
           66,
           60,
           70,
           80
          ],
          "symbol": "circle"
         },
         "mode": "markers",
         "text": "",
         "type": "scatter",
         "x": [
          1.6185342153503897,
          1.1848362441609444,
          1.0676265789711767,
          0.6289578176999444,
          -0.0731723746557524,
          -0.10349025747306093,
          -0.13828150425216726,
          0.8810902574734345,
          -0.5542620086053726,
          1.367655392604224,
          0.42159233908657434,
          -1.6600131400907159,
          -2.321880943758504,
          -0.14525715490075852,
          -1.4150329423246357,
          1.1902193781513097,
          0.032605182130966644,
          -1.1068654931550255,
          -0.4881710870419417,
          -1.0064654004665394,
          -1.4861349648044178,
          0.42126197939457344,
          0.2033513437481144,
          0.6780192171590568,
          2.2695601885039856,
          -1.0530794893148434,
          -0.7599582936020849,
          0.07479649981688027,
          -0.5004585006618902,
          -0.7069045792139065,
          -0.7490649048467005,
          -0.9573833622535074,
          0.3184903662704784,
          0.5232510497782804,
          -0.292920914056626,
          0.5526442907323154,
          0.28927758198705866,
          -0.9595308675629673,
          0.6624074725052688,
          -1.2675470861916667,
          -1.298518317282184,
          1.6505714308200703,
          0.7711743870399246,
          -0.10350465261086673,
          -0.9890595965375653,
          0.09060720967289916,
          -0.9664272965492815,
          1.7520110562695306,
          2.0598160276614736,
          -1.5398792263792436,
          0.14913323679684518,
          0.995048297495277,
          -0.8178015437731536,
          -1.1488188276104512,
          -1.2553879715068992,
          0.702144807401087,
          -0.14721370696443659,
          0.9849700972122788,
          -1.6159928381795001,
          2.8876664099211764,
          1.1792610841498818,
          1.137534866296284,
          0.36529841743489505,
          0.6837628681037843,
          0.3857655623229011,
          -1.4277493996033706,
          1.9387091111049926,
          -0.8799227856643209,
          0.17157935956524548,
          1.2164326922302917,
          0.004829280486984333,
          -0.7305142209733924,
          0.8090950392810067,
          -2.7632429506224883,
          0.9238654843844363,
          0.13909084142958214,
          0.06932779342792991,
          0.10316445888209945,
          -1.4408925516222189,
          -1.5014989504920706,
          1.3164328202880184,
          0.20632089660007252,
          -0.4332798600838577,
          0.5100226609573209,
          -0.5583994791359564,
          0.4825916998568048,
          -0.15873725230421742,
          -2.033833509570888,
          -0.56776873608412,
          -1.3983642700361827,
          -0.17721085755554614,
          -0.4777864854606395,
          -0.7084571357637636,
          0.14725150781339041,
          0.5160571944585837,
          2.391248105092854,
          -0.035925646760449015,
          0.3993352653098139,
          0.5041548045378224,
          -2.4531789724121182
         ],
         "y": [
          0.24555663252945903,
          -0.5638129038214954,
          0.15838017982758465,
          0.025965138727300052,
          1.0261693833091186,
          -1.8117251738858402,
          1.2824990052649607,
          0.9227163869758231,
          -0.32928491407238214,
          0.3366044693090377,
          0.16065191024800432,
          0.8082078977266477,
          -0.37421382646895285,
          0.4443612006818534,
          1.2591791755585575,
          -0.272577764440088,
          0.05397960093059676,
          0.9925302761246275,
          0.8240201250613609,
          0.03421864511183541,
          1.7687225019146364,
          0.9401432164859415,
          1.294385534196133,
          0.6944745568559109,
          0.4364763563018746,
          0.19932268382576923,
          -0.27934197237725056,
          -1.5844482409973324,
          0.8691582357782162,
          0.7968557938544397,
          1.227966360927478,
          0.32626552917603463,
          -0.5268174005804046,
          0.16189388577452204,
          0.47272456823309345,
          0.08452053298458287,
          -0.8350294005227219,
          0.8340070844504154,
          -1.2518433951160093,
          -0.5889093096430914,
          -1.5761297357175614,
          0.7025218259235306,
          0.9816624927802996,
          -1.3176098140720194,
          1.0192498512213706,
          -0.06384003639023407,
          -0.6499138608042271,
          1.779442553151568,
          0.9457660017435001,
          1.307783424473417,
          -0.22117084156221578,
          1.7868932790407142,
          -1.0844140449242934,
          0.35024847218493776,
          0.884244535300552,
          0.6614379919438789,
          -1.3080451104956212,
          -0.19203618050731222,
          1.400879527302598,
          -1.9204936660131982,
          0.0733528470981566,
          -2.7096374996506603,
          1.2516569643880509,
          1.375309163239427,
          0.6338916751026681,
          -0.44015753737571284,
          -0.47999473391612174,
          -0.5470196774727828,
          -0.6448957474033917,
          -1.2312387282637907,
          -0.7882654917165696,
          0.6992660805993933,
          1.343159728014624,
          0.006554386717324803,
          1.1839666350547748,
          0.7852962090064953,
          1.090853039440043,
          -0.9191197192317047,
          -0.584937510658358,
          0.09935280627146068,
          -1.0597550817994716,
          0.6327940167393934,
          -0.26286404024615473,
          1.3291756615688792,
          -1.082743328643993,
          -0.2925693546759645,
          0.5283895907770542,
          1.7397374477560037,
          -0.34785501448501577,
          -1.1370577316276549,
          -1.116757259654754,
          -0.18340610752183722,
          -0.5649610550472014,
          -0.6529937313804469,
          1.1892675399002437,
          -0.036918623731211,
          0.4873170568674592,
          0.20282226504473866,
          -0.09245437072411745,
          -1.719683555373446
         ]
        }
       ],
       "layout": {
        "legend": {
         "bgcolor": "#F5F6F9",
         "font": {
          "color": "#4D5663"
         }
        },
        "paper_bgcolor": "#F5F6F9",
        "plot_bgcolor": "#F5F6F9",
        "template": {
         "data": {
          "bar": [
           {
            "error_x": {
             "color": "#2a3f5f"
            },
            "error_y": {
             "color": "#2a3f5f"
            },
            "marker": {
             "line": {
              "color": "#E5ECF6",
              "width": 0.5
             },
             "pattern": {
              "fillmode": "overlay",
              "size": 10,
              "solidity": 0.2
             }
            },
            "type": "bar"
           }
          ],
          "barpolar": [
           {
            "marker": {
             "line": {
              "color": "#E5ECF6",
              "width": 0.5
             },
             "pattern": {
              "fillmode": "overlay",
              "size": 10,
              "solidity": 0.2
             }
            },
            "type": "barpolar"
           }
          ],
          "carpet": [
           {
            "aaxis": {
             "endlinecolor": "#2a3f5f",
             "gridcolor": "white",
             "linecolor": "white",
             "minorgridcolor": "white",
             "startlinecolor": "#2a3f5f"
            },
            "baxis": {
             "endlinecolor": "#2a3f5f",
             "gridcolor": "white",
             "linecolor": "white",
             "minorgridcolor": "white",
             "startlinecolor": "#2a3f5f"
            },
            "type": "carpet"
           }
          ],
          "choropleth": [
           {
            "colorbar": {
             "outlinewidth": 0,
             "ticks": ""
            },
            "type": "choropleth"
           }
          ],
          "contour": [
           {
            "colorbar": {
             "outlinewidth": 0,
             "ticks": ""
            },
            "colorscale": [
             [
              0,
              "#0d0887"
             ],
             [
              0.1111111111111111,
              "#46039f"
             ],
             [
              0.2222222222222222,
              "#7201a8"
             ],
             [
              0.3333333333333333,
              "#9c179e"
             ],
             [
              0.4444444444444444,
              "#bd3786"
             ],
             [
              0.5555555555555556,
              "#d8576b"
             ],
             [
              0.6666666666666666,
              "#ed7953"
             ],
             [
              0.7777777777777778,
              "#fb9f3a"
             ],
             [
              0.8888888888888888,
              "#fdca26"
             ],
             [
              1,
              "#f0f921"
             ]
            ],
            "type": "contour"
           }
          ],
          "contourcarpet": [
           {
            "colorbar": {
             "outlinewidth": 0,
             "ticks": ""
            },
            "type": "contourcarpet"
           }
          ],
          "heatmap": [
           {
            "colorbar": {
             "outlinewidth": 0,
             "ticks": ""
            },
            "colorscale": [
             [
              0,
              "#0d0887"
             ],
             [
              0.1111111111111111,
              "#46039f"
             ],
             [
              0.2222222222222222,
              "#7201a8"
             ],
             [
              0.3333333333333333,
              "#9c179e"
             ],
             [
              0.4444444444444444,
              "#bd3786"
             ],
             [
              0.5555555555555556,
              "#d8576b"
             ],
             [
              0.6666666666666666,
              "#ed7953"
             ],
             [
              0.7777777777777778,
              "#fb9f3a"
             ],
             [
              0.8888888888888888,
              "#fdca26"
             ],
             [
              1,
              "#f0f921"
             ]
            ],
            "type": "heatmap"
           }
          ],
          "heatmapgl": [
           {
            "colorbar": {
             "outlinewidth": 0,
             "ticks": ""
            },
            "colorscale": [
             [
              0,
              "#0d0887"
             ],
             [
              0.1111111111111111,
              "#46039f"
             ],
             [
              0.2222222222222222,
              "#7201a8"
             ],
             [
              0.3333333333333333,
              "#9c179e"
             ],
             [
              0.4444444444444444,
              "#bd3786"
             ],
             [
              0.5555555555555556,
              "#d8576b"
             ],
             [
              0.6666666666666666,
              "#ed7953"
             ],
             [
              0.7777777777777778,
              "#fb9f3a"
             ],
             [
              0.8888888888888888,
              "#fdca26"
             ],
             [
              1,
              "#f0f921"
             ]
            ],
            "type": "heatmapgl"
           }
          ],
          "histogram": [
           {
            "marker": {
             "pattern": {
              "fillmode": "overlay",
              "size": 10,
              "solidity": 0.2
             }
            },
            "type": "histogram"
           }
          ],
          "histogram2d": [
           {
            "colorbar": {
             "outlinewidth": 0,
             "ticks": ""
            },
            "colorscale": [
             [
              0,
              "#0d0887"
             ],
             [
              0.1111111111111111,
              "#46039f"
             ],
             [
              0.2222222222222222,
              "#7201a8"
             ],
             [
              0.3333333333333333,
              "#9c179e"
             ],
             [
              0.4444444444444444,
              "#bd3786"
             ],
             [
              0.5555555555555556,
              "#d8576b"
             ],
             [
              0.6666666666666666,
              "#ed7953"
             ],
             [
              0.7777777777777778,
              "#fb9f3a"
             ],
             [
              0.8888888888888888,
              "#fdca26"
             ],
             [
              1,
              "#f0f921"
             ]
            ],
            "type": "histogram2d"
           }
          ],
          "histogram2dcontour": [
           {
            "colorbar": {
             "outlinewidth": 0,
             "ticks": ""
            },
            "colorscale": [
             [
              0,
              "#0d0887"
             ],
             [
              0.1111111111111111,
              "#46039f"
             ],
             [
              0.2222222222222222,
              "#7201a8"
             ],
             [
              0.3333333333333333,
              "#9c179e"
             ],
             [
              0.4444444444444444,
              "#bd3786"
             ],
             [
              0.5555555555555556,
              "#d8576b"
             ],
             [
              0.6666666666666666,
              "#ed7953"
             ],
             [
              0.7777777777777778,
              "#fb9f3a"
             ],
             [
              0.8888888888888888,
              "#fdca26"
             ],
             [
              1,
              "#f0f921"
             ]
            ],
            "type": "histogram2dcontour"
           }
          ],
          "mesh3d": [
           {
            "colorbar": {
             "outlinewidth": 0,
             "ticks": ""
            },
            "type": "mesh3d"
           }
          ],
          "parcoords": [
           {
            "line": {
             "colorbar": {
              "outlinewidth": 0,
              "ticks": ""
             }
            },
            "type": "parcoords"
           }
          ],
          "pie": [
           {
            "automargin": true,
            "type": "pie"
           }
          ],
          "scatter": [
           {
            "fillpattern": {
             "fillmode": "overlay",
             "size": 10,
             "solidity": 0.2
            },
            "type": "scatter"
           }
          ],
          "scatter3d": [
           {
            "line": {
             "colorbar": {
              "outlinewidth": 0,
              "ticks": ""
             }
            },
            "marker": {
             "colorbar": {
              "outlinewidth": 0,
              "ticks": ""
             }
            },
            "type": "scatter3d"
           }
          ],
          "scattercarpet": [
           {
            "marker": {
             "colorbar": {
              "outlinewidth": 0,
              "ticks": ""
             }
            },
            "type": "scattercarpet"
           }
          ],
          "scattergeo": [
           {
            "marker": {
             "colorbar": {
              "outlinewidth": 0,
              "ticks": ""
             }
            },
            "type": "scattergeo"
           }
          ],
          "scattergl": [
           {
            "marker": {
             "colorbar": {
              "outlinewidth": 0,
              "ticks": ""
             }
            },
            "type": "scattergl"
           }
          ],
          "scattermapbox": [
           {
            "marker": {
             "colorbar": {
              "outlinewidth": 0,
              "ticks": ""
             }
            },
            "type": "scattermapbox"
           }
          ],
          "scatterpolar": [
           {
            "marker": {
             "colorbar": {
              "outlinewidth": 0,
              "ticks": ""
             }
            },
            "type": "scatterpolar"
           }
          ],
          "scatterpolargl": [
           {
            "marker": {
             "colorbar": {
              "outlinewidth": 0,
              "ticks": ""
             }
            },
            "type": "scatterpolargl"
           }
          ],
          "scatterternary": [
           {
            "marker": {
             "colorbar": {
              "outlinewidth": 0,
              "ticks": ""
             }
            },
            "type": "scatterternary"
           }
          ],
          "surface": [
           {
            "colorbar": {
             "outlinewidth": 0,
             "ticks": ""
            },
            "colorscale": [
             [
              0,
              "#0d0887"
             ],
             [
              0.1111111111111111,
              "#46039f"
             ],
             [
              0.2222222222222222,
              "#7201a8"
             ],
             [
              0.3333333333333333,
              "#9c179e"
             ],
             [
              0.4444444444444444,
              "#bd3786"
             ],
             [
              0.5555555555555556,
              "#d8576b"
             ],
             [
              0.6666666666666666,
              "#ed7953"
             ],
             [
              0.7777777777777778,
              "#fb9f3a"
             ],
             [
              0.8888888888888888,
              "#fdca26"
             ],
             [
              1,
              "#f0f921"
             ]
            ],
            "type": "surface"
           }
          ],
          "table": [
           {
            "cells": {
             "fill": {
              "color": "#EBF0F8"
             },
             "line": {
              "color": "white"
             }
            },
            "header": {
             "fill": {
              "color": "#C8D4E3"
             },
             "line": {
              "color": "white"
             }
            },
            "type": "table"
           }
          ]
         },
         "layout": {
          "annotationdefaults": {
           "arrowcolor": "#2a3f5f",
           "arrowhead": 0,
           "arrowwidth": 1
          },
          "autotypenumbers": "strict",
          "coloraxis": {
           "colorbar": {
            "outlinewidth": 0,
            "ticks": ""
           }
          },
          "colorscale": {
           "diverging": [
            [
             0,
             "#8e0152"
            ],
            [
             0.1,
             "#c51b7d"
            ],
            [
             0.2,
             "#de77ae"
            ],
            [
             0.3,
             "#f1b6da"
            ],
            [
             0.4,
             "#fde0ef"
            ],
            [
             0.5,
             "#f7f7f7"
            ],
            [
             0.6,
             "#e6f5d0"
            ],
            [
             0.7,
             "#b8e186"
            ],
            [
             0.8,
             "#7fbc41"
            ],
            [
             0.9,
             "#4d9221"
            ],
            [
             1,
             "#276419"
            ]
           ],
           "sequential": [
            [
             0,
             "#0d0887"
            ],
            [
             0.1111111111111111,
             "#46039f"
            ],
            [
             0.2222222222222222,
             "#7201a8"
            ],
            [
             0.3333333333333333,
             "#9c179e"
            ],
            [
             0.4444444444444444,
             "#bd3786"
            ],
            [
             0.5555555555555556,
             "#d8576b"
            ],
            [
             0.6666666666666666,
             "#ed7953"
            ],
            [
             0.7777777777777778,
             "#fb9f3a"
            ],
            [
             0.8888888888888888,
             "#fdca26"
            ],
            [
             1,
             "#f0f921"
            ]
           ],
           "sequentialminus": [
            [
             0,
             "#0d0887"
            ],
            [
             0.1111111111111111,
             "#46039f"
            ],
            [
             0.2222222222222222,
             "#7201a8"
            ],
            [
             0.3333333333333333,
             "#9c179e"
            ],
            [
             0.4444444444444444,
             "#bd3786"
            ],
            [
             0.5555555555555556,
             "#d8576b"
            ],
            [
             0.6666666666666666,
             "#ed7953"
            ],
            [
             0.7777777777777778,
             "#fb9f3a"
            ],
            [
             0.8888888888888888,
             "#fdca26"
            ],
            [
             1,
             "#f0f921"
            ]
           ]
          },
          "colorway": [
           "#636efa",
           "#EF553B",
           "#00cc96",
           "#ab63fa",
           "#FFA15A",
           "#19d3f3",
           "#FF6692",
           "#B6E880",
           "#FF97FF",
           "#FECB52"
          ],
          "font": {
           "color": "#2a3f5f"
          },
          "geo": {
           "bgcolor": "white",
           "lakecolor": "white",
           "landcolor": "#E5ECF6",
           "showlakes": true,
           "showland": true,
           "subunitcolor": "white"
          },
          "hoverlabel": {
           "align": "left"
          },
          "hovermode": "closest",
          "mapbox": {
           "style": "light"
          },
          "paper_bgcolor": "white",
          "plot_bgcolor": "#E5ECF6",
          "polar": {
           "angularaxis": {
            "gridcolor": "white",
            "linecolor": "white",
            "ticks": ""
           },
           "bgcolor": "#E5ECF6",
           "radialaxis": {
            "gridcolor": "white",
            "linecolor": "white",
            "ticks": ""
           }
          },
          "scene": {
           "xaxis": {
            "backgroundcolor": "#E5ECF6",
            "gridcolor": "white",
            "gridwidth": 2,
            "linecolor": "white",
            "showbackground": true,
            "ticks": "",
            "zerolinecolor": "white"
           },
           "yaxis": {
            "backgroundcolor": "#E5ECF6",
            "gridcolor": "white",
            "gridwidth": 2,
            "linecolor": "white",
            "showbackground": true,
            "ticks": "",
            "zerolinecolor": "white"
           },
           "zaxis": {
            "backgroundcolor": "#E5ECF6",
            "gridcolor": "white",
            "gridwidth": 2,
            "linecolor": "white",
            "showbackground": true,
            "ticks": "",
            "zerolinecolor": "white"
           }
          },
          "shapedefaults": {
           "line": {
            "color": "#2a3f5f"
           }
          },
          "ternary": {
           "aaxis": {
            "gridcolor": "white",
            "linecolor": "white",
            "ticks": ""
           },
           "baxis": {
            "gridcolor": "white",
            "linecolor": "white",
            "ticks": ""
           },
           "bgcolor": "#E5ECF6",
           "caxis": {
            "gridcolor": "white",
            "linecolor": "white",
            "ticks": ""
           }
          },
          "title": {
           "x": 0.05
          },
          "xaxis": {
           "automargin": true,
           "gridcolor": "white",
           "linecolor": "white",
           "ticks": "",
           "title": {
            "standoff": 15
           },
           "zerolinecolor": "white",
           "zerolinewidth": 2
          },
          "yaxis": {
           "automargin": true,
           "gridcolor": "white",
           "linecolor": "white",
           "ticks": "",
           "title": {
            "standoff": 15
           },
           "zerolinecolor": "white",
           "zerolinewidth": 2
          }
         }
        },
        "title": {
         "font": {
          "color": "#4D5663"
         }
        },
        "xaxis": {
         "gridcolor": "#E1E5ED",
         "showgrid": true,
         "tickfont": {
          "color": "#4D5663"
         },
         "title": {
          "font": {
           "color": "#4D5663"
          },
          "text": ""
         },
         "zerolinecolor": "#E1E5ED"
        },
        "yaxis": {
         "gridcolor": "#E1E5ED",
         "showgrid": true,
         "tickfont": {
          "color": "#4D5663"
         },
         "title": {
          "font": {
           "color": "#4D5663"
          },
          "text": ""
         },
         "zerolinecolor": "#E1E5ED"
        }
       }
      },
      "text/html": [
       "<div>                            <div id=\"587d3a7f-d3b4-42c3-88ce-c2ea6af666be\" class=\"plotly-graph-div\" style=\"height:525px; width:100%;\"></div>            <script type=\"text/javascript\">                require([\"plotly\"], function(Plotly) {                    window.PLOTLYENV=window.PLOTLYENV || {};\n",
       "                    window.PLOTLYENV.BASE_URL='https://plot.ly';                                    if (document.getElementById(\"587d3a7f-d3b4-42c3-88ce-c2ea6af666be\")) {                    Plotly.newPlot(                        \"587d3a7f-d3b4-42c3-88ce-c2ea6af666be\",                        [{\"marker\":{\"color\":[\"rgb(255, 153, 51)\",\"rgb(55, 128, 191)\",\"rgb(50, 171, 96)\",\"rgb(128, 0, 128)\",\"rgb(219, 64, 82)\",\"rgb(0, 128, 128)\",\"rgb(255, 255, 51)\",\"rgb(128, 128, 0)\",\"rgb(251, 128, 114)\",\"rgb(128, 177, 211)\"],\"line\":{\"width\":1.3},\"size\":[53,62,71,86,61,48,51,74,53,112,60,56,63,52,64,45,59,87,12,78,59,64,72,85,73,72,85,85,73,64,82,63,78,59,57,75,81,57,59,91,75,60,58,34,59,56,70,91,83,59,70,77,81,60,43,75,61,69,62,65,72,42,75,53,65,54,89,104,70,67,91,24,59,39,23,81,66,48,87,50,50,60,85,63,49,53,49,70,63,77,49,48,59,75,64,55,66,60,70,80],\"symbol\":\"circle\"},\"mode\":\"markers\",\"text\":\"\",\"x\":[1.6185342153503897,1.1848362441609444,1.0676265789711767,0.6289578176999444,-0.0731723746557524,-0.10349025747306093,-0.13828150425216726,0.8810902574734345,-0.5542620086053726,1.367655392604224,0.42159233908657434,-1.6600131400907159,-2.321880943758504,-0.14525715490075852,-1.4150329423246357,1.1902193781513097,0.032605182130966644,-1.1068654931550255,-0.4881710870419417,-1.0064654004665394,-1.4861349648044178,0.42126197939457344,0.2033513437481144,0.6780192171590568,2.2695601885039856,-1.0530794893148434,-0.7599582936020849,0.07479649981688027,-0.5004585006618902,-0.7069045792139065,-0.7490649048467005,-0.9573833622535074,0.3184903662704784,0.5232510497782804,-0.292920914056626,0.5526442907323154,0.28927758198705866,-0.9595308675629673,0.6624074725052688,-1.2675470861916667,-1.298518317282184,1.6505714308200703,0.7711743870399246,-0.10350465261086673,-0.9890595965375653,0.09060720967289916,-0.9664272965492815,1.7520110562695306,2.0598160276614736,-1.5398792263792436,0.14913323679684518,0.995048297495277,-0.8178015437731536,-1.1488188276104512,-1.2553879715068992,0.702144807401087,-0.14721370696443659,0.9849700972122788,-1.6159928381795001,2.8876664099211764,1.1792610841498818,1.137534866296284,0.36529841743489505,0.6837628681037843,0.3857655623229011,-1.4277493996033706,1.9387091111049926,-0.8799227856643209,0.17157935956524548,1.2164326922302917,0.004829280486984333,-0.7305142209733924,0.8090950392810067,-2.7632429506224883,0.9238654843844363,0.13909084142958214,0.06932779342792991,0.10316445888209945,-1.4408925516222189,-1.5014989504920706,1.3164328202880184,0.20632089660007252,-0.4332798600838577,0.5100226609573209,-0.5583994791359564,0.4825916998568048,-0.15873725230421742,-2.033833509570888,-0.56776873608412,-1.3983642700361827,-0.17721085755554614,-0.4777864854606395,-0.7084571357637636,0.14725150781339041,0.5160571944585837,2.391248105092854,-0.035925646760449015,0.3993352653098139,0.5041548045378224,-2.4531789724121182],\"y\":[0.24555663252945903,-0.5638129038214954,0.15838017982758465,0.025965138727300052,1.0261693833091186,-1.8117251738858402,1.2824990052649607,0.9227163869758231,-0.32928491407238214,0.3366044693090377,0.16065191024800432,0.8082078977266477,-0.37421382646895285,0.4443612006818534,1.2591791755585575,-0.272577764440088,0.05397960093059676,0.9925302761246275,0.8240201250613609,0.03421864511183541,1.7687225019146364,0.9401432164859415,1.294385534196133,0.6944745568559109,0.4364763563018746,0.19932268382576923,-0.27934197237725056,-1.5844482409973324,0.8691582357782162,0.7968557938544397,1.227966360927478,0.32626552917603463,-0.5268174005804046,0.16189388577452204,0.47272456823309345,0.08452053298458287,-0.8350294005227219,0.8340070844504154,-1.2518433951160093,-0.5889093096430914,-1.5761297357175614,0.7025218259235306,0.9816624927802996,-1.3176098140720194,1.0192498512213706,-0.06384003639023407,-0.6499138608042271,1.779442553151568,0.9457660017435001,1.307783424473417,-0.22117084156221578,1.7868932790407142,-1.0844140449242934,0.35024847218493776,0.884244535300552,0.6614379919438789,-1.3080451104956212,-0.19203618050731222,1.400879527302598,-1.9204936660131982,0.0733528470981566,-2.7096374996506603,1.2516569643880509,1.375309163239427,0.6338916751026681,-0.44015753737571284,-0.47999473391612174,-0.5470196774727828,-0.6448957474033917,-1.2312387282637907,-0.7882654917165696,0.6992660805993933,1.343159728014624,0.006554386717324803,1.1839666350547748,0.7852962090064953,1.090853039440043,-0.9191197192317047,-0.584937510658358,0.09935280627146068,-1.0597550817994716,0.6327940167393934,-0.26286404024615473,1.3291756615688792,-1.082743328643993,-0.2925693546759645,0.5283895907770542,1.7397374477560037,-0.34785501448501577,-1.1370577316276549,-1.116757259654754,-0.18340610752183722,-0.5649610550472014,-0.6529937313804469,1.1892675399002437,-0.036918623731211,0.4873170568674592,0.20282226504473866,-0.09245437072411745,-1.719683555373446],\"type\":\"scatter\"}],                        {\"legend\":{\"bgcolor\":\"#F5F6F9\",\"font\":{\"color\":\"#4D5663\"}},\"paper_bgcolor\":\"#F5F6F9\",\"plot_bgcolor\":\"#F5F6F9\",\"template\":{\"data\":{\"barpolar\":[{\"marker\":{\"line\":{\"color\":\"#E5ECF6\",\"width\":0.5},\"pattern\":{\"fillmode\":\"overlay\",\"size\":10,\"solidity\":0.2}},\"type\":\"barpolar\"}],\"bar\":[{\"error_x\":{\"color\":\"#2a3f5f\"},\"error_y\":{\"color\":\"#2a3f5f\"},\"marker\":{\"line\":{\"color\":\"#E5ECF6\",\"width\":0.5},\"pattern\":{\"fillmode\":\"overlay\",\"size\":10,\"solidity\":0.2}},\"type\":\"bar\"}],\"carpet\":[{\"aaxis\":{\"endlinecolor\":\"#2a3f5f\",\"gridcolor\":\"white\",\"linecolor\":\"white\",\"minorgridcolor\":\"white\",\"startlinecolor\":\"#2a3f5f\"},\"baxis\":{\"endlinecolor\":\"#2a3f5f\",\"gridcolor\":\"white\",\"linecolor\":\"white\",\"minorgridcolor\":\"white\",\"startlinecolor\":\"#2a3f5f\"},\"type\":\"carpet\"}],\"choropleth\":[{\"colorbar\":{\"outlinewidth\":0,\"ticks\":\"\"},\"type\":\"choropleth\"}],\"contourcarpet\":[{\"colorbar\":{\"outlinewidth\":0,\"ticks\":\"\"},\"type\":\"contourcarpet\"}],\"contour\":[{\"colorbar\":{\"outlinewidth\":0,\"ticks\":\"\"},\"colorscale\":[[0.0,\"#0d0887\"],[0.1111111111111111,\"#46039f\"],[0.2222222222222222,\"#7201a8\"],[0.3333333333333333,\"#9c179e\"],[0.4444444444444444,\"#bd3786\"],[0.5555555555555556,\"#d8576b\"],[0.6666666666666666,\"#ed7953\"],[0.7777777777777778,\"#fb9f3a\"],[0.8888888888888888,\"#fdca26\"],[1.0,\"#f0f921\"]],\"type\":\"contour\"}],\"heatmapgl\":[{\"colorbar\":{\"outlinewidth\":0,\"ticks\":\"\"},\"colorscale\":[[0.0,\"#0d0887\"],[0.1111111111111111,\"#46039f\"],[0.2222222222222222,\"#7201a8\"],[0.3333333333333333,\"#9c179e\"],[0.4444444444444444,\"#bd3786\"],[0.5555555555555556,\"#d8576b\"],[0.6666666666666666,\"#ed7953\"],[0.7777777777777778,\"#fb9f3a\"],[0.8888888888888888,\"#fdca26\"],[1.0,\"#f0f921\"]],\"type\":\"heatmapgl\"}],\"heatmap\":[{\"colorbar\":{\"outlinewidth\":0,\"ticks\":\"\"},\"colorscale\":[[0.0,\"#0d0887\"],[0.1111111111111111,\"#46039f\"],[0.2222222222222222,\"#7201a8\"],[0.3333333333333333,\"#9c179e\"],[0.4444444444444444,\"#bd3786\"],[0.5555555555555556,\"#d8576b\"],[0.6666666666666666,\"#ed7953\"],[0.7777777777777778,\"#fb9f3a\"],[0.8888888888888888,\"#fdca26\"],[1.0,\"#f0f921\"]],\"type\":\"heatmap\"}],\"histogram2dcontour\":[{\"colorbar\":{\"outlinewidth\":0,\"ticks\":\"\"},\"colorscale\":[[0.0,\"#0d0887\"],[0.1111111111111111,\"#46039f\"],[0.2222222222222222,\"#7201a8\"],[0.3333333333333333,\"#9c179e\"],[0.4444444444444444,\"#bd3786\"],[0.5555555555555556,\"#d8576b\"],[0.6666666666666666,\"#ed7953\"],[0.7777777777777778,\"#fb9f3a\"],[0.8888888888888888,\"#fdca26\"],[1.0,\"#f0f921\"]],\"type\":\"histogram2dcontour\"}],\"histogram2d\":[{\"colorbar\":{\"outlinewidth\":0,\"ticks\":\"\"},\"colorscale\":[[0.0,\"#0d0887\"],[0.1111111111111111,\"#46039f\"],[0.2222222222222222,\"#7201a8\"],[0.3333333333333333,\"#9c179e\"],[0.4444444444444444,\"#bd3786\"],[0.5555555555555556,\"#d8576b\"],[0.6666666666666666,\"#ed7953\"],[0.7777777777777778,\"#fb9f3a\"],[0.8888888888888888,\"#fdca26\"],[1.0,\"#f0f921\"]],\"type\":\"histogram2d\"}],\"histogram\":[{\"marker\":{\"pattern\":{\"fillmode\":\"overlay\",\"size\":10,\"solidity\":0.2}},\"type\":\"histogram\"}],\"mesh3d\":[{\"colorbar\":{\"outlinewidth\":0,\"ticks\":\"\"},\"type\":\"mesh3d\"}],\"parcoords\":[{\"line\":{\"colorbar\":{\"outlinewidth\":0,\"ticks\":\"\"}},\"type\":\"parcoords\"}],\"pie\":[{\"automargin\":true,\"type\":\"pie\"}],\"scatter3d\":[{\"line\":{\"colorbar\":{\"outlinewidth\":0,\"ticks\":\"\"}},\"marker\":{\"colorbar\":{\"outlinewidth\":0,\"ticks\":\"\"}},\"type\":\"scatter3d\"}],\"scattercarpet\":[{\"marker\":{\"colorbar\":{\"outlinewidth\":0,\"ticks\":\"\"}},\"type\":\"scattercarpet\"}],\"scattergeo\":[{\"marker\":{\"colorbar\":{\"outlinewidth\":0,\"ticks\":\"\"}},\"type\":\"scattergeo\"}],\"scattergl\":[{\"marker\":{\"colorbar\":{\"outlinewidth\":0,\"ticks\":\"\"}},\"type\":\"scattergl\"}],\"scattermapbox\":[{\"marker\":{\"colorbar\":{\"outlinewidth\":0,\"ticks\":\"\"}},\"type\":\"scattermapbox\"}],\"scatterpolargl\":[{\"marker\":{\"colorbar\":{\"outlinewidth\":0,\"ticks\":\"\"}},\"type\":\"scatterpolargl\"}],\"scatterpolar\":[{\"marker\":{\"colorbar\":{\"outlinewidth\":0,\"ticks\":\"\"}},\"type\":\"scatterpolar\"}],\"scatter\":[{\"fillpattern\":{\"fillmode\":\"overlay\",\"size\":10,\"solidity\":0.2},\"type\":\"scatter\"}],\"scatterternary\":[{\"marker\":{\"colorbar\":{\"outlinewidth\":0,\"ticks\":\"\"}},\"type\":\"scatterternary\"}],\"surface\":[{\"colorbar\":{\"outlinewidth\":0,\"ticks\":\"\"},\"colorscale\":[[0.0,\"#0d0887\"],[0.1111111111111111,\"#46039f\"],[0.2222222222222222,\"#7201a8\"],[0.3333333333333333,\"#9c179e\"],[0.4444444444444444,\"#bd3786\"],[0.5555555555555556,\"#d8576b\"],[0.6666666666666666,\"#ed7953\"],[0.7777777777777778,\"#fb9f3a\"],[0.8888888888888888,\"#fdca26\"],[1.0,\"#f0f921\"]],\"type\":\"surface\"}],\"table\":[{\"cells\":{\"fill\":{\"color\":\"#EBF0F8\"},\"line\":{\"color\":\"white\"}},\"header\":{\"fill\":{\"color\":\"#C8D4E3\"},\"line\":{\"color\":\"white\"}},\"type\":\"table\"}]},\"layout\":{\"annotationdefaults\":{\"arrowcolor\":\"#2a3f5f\",\"arrowhead\":0,\"arrowwidth\":1},\"autotypenumbers\":\"strict\",\"coloraxis\":{\"colorbar\":{\"outlinewidth\":0,\"ticks\":\"\"}},\"colorscale\":{\"diverging\":[[0,\"#8e0152\"],[0.1,\"#c51b7d\"],[0.2,\"#de77ae\"],[0.3,\"#f1b6da\"],[0.4,\"#fde0ef\"],[0.5,\"#f7f7f7\"],[0.6,\"#e6f5d0\"],[0.7,\"#b8e186\"],[0.8,\"#7fbc41\"],[0.9,\"#4d9221\"],[1,\"#276419\"]],\"sequential\":[[0.0,\"#0d0887\"],[0.1111111111111111,\"#46039f\"],[0.2222222222222222,\"#7201a8\"],[0.3333333333333333,\"#9c179e\"],[0.4444444444444444,\"#bd3786\"],[0.5555555555555556,\"#d8576b\"],[0.6666666666666666,\"#ed7953\"],[0.7777777777777778,\"#fb9f3a\"],[0.8888888888888888,\"#fdca26\"],[1.0,\"#f0f921\"]],\"sequentialminus\":[[0.0,\"#0d0887\"],[0.1111111111111111,\"#46039f\"],[0.2222222222222222,\"#7201a8\"],[0.3333333333333333,\"#9c179e\"],[0.4444444444444444,\"#bd3786\"],[0.5555555555555556,\"#d8576b\"],[0.6666666666666666,\"#ed7953\"],[0.7777777777777778,\"#fb9f3a\"],[0.8888888888888888,\"#fdca26\"],[1.0,\"#f0f921\"]]},\"colorway\":[\"#636efa\",\"#EF553B\",\"#00cc96\",\"#ab63fa\",\"#FFA15A\",\"#19d3f3\",\"#FF6692\",\"#B6E880\",\"#FF97FF\",\"#FECB52\"],\"font\":{\"color\":\"#2a3f5f\"},\"geo\":{\"bgcolor\":\"white\",\"lakecolor\":\"white\",\"landcolor\":\"#E5ECF6\",\"showlakes\":true,\"showland\":true,\"subunitcolor\":\"white\"},\"hoverlabel\":{\"align\":\"left\"},\"hovermode\":\"closest\",\"mapbox\":{\"style\":\"light\"},\"paper_bgcolor\":\"white\",\"plot_bgcolor\":\"#E5ECF6\",\"polar\":{\"angularaxis\":{\"gridcolor\":\"white\",\"linecolor\":\"white\",\"ticks\":\"\"},\"bgcolor\":\"#E5ECF6\",\"radialaxis\":{\"gridcolor\":\"white\",\"linecolor\":\"white\",\"ticks\":\"\"}},\"scene\":{\"xaxis\":{\"backgroundcolor\":\"#E5ECF6\",\"gridcolor\":\"white\",\"gridwidth\":2,\"linecolor\":\"white\",\"showbackground\":true,\"ticks\":\"\",\"zerolinecolor\":\"white\"},\"yaxis\":{\"backgroundcolor\":\"#E5ECF6\",\"gridcolor\":\"white\",\"gridwidth\":2,\"linecolor\":\"white\",\"showbackground\":true,\"ticks\":\"\",\"zerolinecolor\":\"white\"},\"zaxis\":{\"backgroundcolor\":\"#E5ECF6\",\"gridcolor\":\"white\",\"gridwidth\":2,\"linecolor\":\"white\",\"showbackground\":true,\"ticks\":\"\",\"zerolinecolor\":\"white\"}},\"shapedefaults\":{\"line\":{\"color\":\"#2a3f5f\"}},\"ternary\":{\"aaxis\":{\"gridcolor\":\"white\",\"linecolor\":\"white\",\"ticks\":\"\"},\"baxis\":{\"gridcolor\":\"white\",\"linecolor\":\"white\",\"ticks\":\"\"},\"bgcolor\":\"#E5ECF6\",\"caxis\":{\"gridcolor\":\"white\",\"linecolor\":\"white\",\"ticks\":\"\"}},\"title\":{\"x\":0.05},\"xaxis\":{\"automargin\":true,\"gridcolor\":\"white\",\"linecolor\":\"white\",\"ticks\":\"\",\"title\":{\"standoff\":15},\"zerolinecolor\":\"white\",\"zerolinewidth\":2},\"yaxis\":{\"automargin\":true,\"gridcolor\":\"white\",\"linecolor\":\"white\",\"ticks\":\"\",\"title\":{\"standoff\":15},\"zerolinecolor\":\"white\",\"zerolinewidth\":2}}},\"title\":{\"font\":{\"color\":\"#4D5663\"}},\"xaxis\":{\"gridcolor\":\"#E1E5ED\",\"showgrid\":true,\"tickfont\":{\"color\":\"#4D5663\"},\"title\":{\"font\":{\"color\":\"#4D5663\"},\"text\":\"\"},\"zerolinecolor\":\"#E1E5ED\"},\"yaxis\":{\"gridcolor\":\"#E1E5ED\",\"showgrid\":true,\"tickfont\":{\"color\":\"#4D5663\"},\"title\":{\"font\":{\"color\":\"#4D5663\"},\"text\":\"\"},\"zerolinecolor\":\"#E1E5ED\"}},                        {\"showLink\": true, \"linkText\": \"Export to plot.ly\", \"plotlyServerURL\": \"https://plot.ly\", \"responsive\": true}                    ).then(function(){\n",
       "                            \n",
       "var gd = document.getElementById('587d3a7f-d3b4-42c3-88ce-c2ea6af666be');\n",
       "var x = new MutationObserver(function (mutations, observer) {{\n",
       "        var display = window.getComputedStyle(gd).display;\n",
       "        if (!display || display === 'none') {{\n",
       "            console.log([gd, 'removed!']);\n",
       "            Plotly.purge(gd);\n",
       "            observer.disconnect();\n",
       "        }}\n",
       "}});\n",
       "\n",
       "// Listen for the removal of the full notebook cells\n",
       "var notebookContainer = gd.closest('#notebook-container');\n",
       "if (notebookContainer) {{\n",
       "    x.observe(notebookContainer, {childList: true});\n",
       "}}\n",
       "\n",
       "// Listen for the clearing of the current output cell\n",
       "var outputEl = gd.closest('.output');\n",
       "if (outputEl) {{\n",
       "    x.observe(outputEl, {childList: true});\n",
       "}}\n",
       "\n",
       "                        })                };                });            </script>        </div>"
      ]
     },
     "metadata": {},
     "output_type": "display_data"
    }
   ],
   "source": [
    "df.iplot(kind='bubble',x='A',y='B',size='C')"
   ]
  },
  {
   "cell_type": "code",
   "execution_count": 77,
   "id": "700d2da2",
   "metadata": {},
   "outputs": [
    {
     "data": {
      "application/vnd.plotly.v1+json": {
       "config": {
        "linkText": "Export to plot.ly",
        "plotlyServerURL": "https://plot.ly",
        "showLink": true
       },
       "data": [
        {
         "histfunc": "count",
         "histnorm": "",
         "marker": {
          "color": "rgba(255, 153, 51, 1.0)",
          "line": {
           "color": "#4D5663",
           "width": 1.3
          }
         },
         "name": "A",
         "nbinsx": 10,
         "opacity": 0.8,
         "orientation": "v",
         "type": "histogram",
         "x": [
          1.6185342153503897,
          1.1848362441609444,
          1.0676265789711767,
          0.6289578176999444,
          -0.0731723746557524,
          -0.10349025747306093,
          -0.13828150425216726,
          0.8810902574734345,
          -0.5542620086053726,
          1.367655392604224,
          0.42159233908657434,
          -1.6600131400907159,
          -2.321880943758504,
          -0.14525715490075852,
          -1.4150329423246357,
          1.1902193781513097,
          0.032605182130966644,
          -1.1068654931550255,
          -0.4881710870419417,
          -1.0064654004665394,
          -1.4861349648044178,
          0.42126197939457344,
          0.2033513437481144,
          0.6780192171590568,
          2.2695601885039856,
          -1.0530794893148434,
          -0.7599582936020849,
          0.07479649981688027,
          -0.5004585006618902,
          -0.7069045792139065,
          -0.7490649048467005,
          -0.9573833622535074,
          0.3184903662704784,
          0.5232510497782804,
          -0.292920914056626,
          0.5526442907323154,
          0.28927758198705866,
          -0.9595308675629673,
          0.6624074725052688,
          -1.2675470861916667,
          -1.298518317282184,
          1.6505714308200703,
          0.7711743870399246,
          -0.10350465261086673,
          -0.9890595965375653,
          0.09060720967289916,
          -0.9664272965492815,
          1.7520110562695306,
          2.0598160276614736,
          -1.5398792263792436,
          0.14913323679684518,
          0.995048297495277,
          -0.8178015437731536,
          -1.1488188276104512,
          -1.2553879715068992,
          0.702144807401087,
          -0.14721370696443659,
          0.9849700972122788,
          -1.6159928381795001,
          2.8876664099211764,
          1.1792610841498818,
          1.137534866296284,
          0.36529841743489505,
          0.6837628681037843,
          0.3857655623229011,
          -1.4277493996033706,
          1.9387091111049926,
          -0.8799227856643209,
          0.17157935956524548,
          1.2164326922302917,
          0.004829280486984333,
          -0.7305142209733924,
          0.8090950392810067,
          -2.7632429506224883,
          0.9238654843844363,
          0.13909084142958214,
          0.06932779342792991,
          0.10316445888209945,
          -1.4408925516222189,
          -1.5014989504920706,
          1.3164328202880184,
          0.20632089660007252,
          -0.4332798600838577,
          0.5100226609573209,
          -0.5583994791359564,
          0.4825916998568048,
          -0.15873725230421742,
          -2.033833509570888,
          -0.56776873608412,
          -1.3983642700361827,
          -0.17721085755554614,
          -0.4777864854606395,
          -0.7084571357637636,
          0.14725150781339041,
          0.5160571944585837,
          2.391248105092854,
          -0.035925646760449015,
          0.3993352653098139,
          0.5041548045378224,
          -2.4531789724121182
         ],
         "xaxis": "x",
         "yaxis": "y"
        },
        {
         "line": {
          "color": "rgba(128, 128, 128, 1.0)",
          "dash": "solid",
          "shape": "linear",
          "width": 1.3
         },
         "marker": {
          "size": 2,
          "symbol": "circle"
         },
         "mode": "markers",
         "name": "A",
         "text": "",
         "type": "scatter",
         "x": [
          0.24555663252945903,
          -0.5638129038214954,
          0.15838017982758465,
          0.025965138727300052,
          1.0261693833091186,
          -1.8117251738858402,
          1.2824990052649607,
          0.9227163869758231,
          -0.32928491407238214,
          0.3366044693090377,
          0.16065191024800432,
          0.8082078977266477,
          -0.37421382646895285,
          0.4443612006818534,
          1.2591791755585575,
          -0.272577764440088,
          0.05397960093059676,
          0.9925302761246275,
          0.8240201250613609,
          0.03421864511183541,
          1.7687225019146364,
          0.9401432164859415,
          1.294385534196133,
          0.6944745568559109,
          0.4364763563018746,
          0.19932268382576923,
          -0.27934197237725056,
          -1.5844482409973324,
          0.8691582357782162,
          0.7968557938544397,
          1.227966360927478,
          0.32626552917603463,
          -0.5268174005804046,
          0.16189388577452204,
          0.47272456823309345,
          0.08452053298458287,
          -0.8350294005227219,
          0.8340070844504154,
          -1.2518433951160093,
          -0.5889093096430914,
          -1.5761297357175614,
          0.7025218259235306,
          0.9816624927802996,
          -1.3176098140720194,
          1.0192498512213706,
          -0.06384003639023407,
          -0.6499138608042271,
          1.779442553151568,
          0.9457660017435001,
          1.307783424473417,
          -0.22117084156221578,
          1.7868932790407142,
          -1.0844140449242934,
          0.35024847218493776,
          0.884244535300552,
          0.6614379919438789,
          -1.3080451104956212,
          -0.19203618050731222,
          1.400879527302598,
          -1.9204936660131982,
          0.0733528470981566,
          -2.7096374996506603,
          1.2516569643880509,
          1.375309163239427,
          0.6338916751026681,
          -0.44015753737571284,
          -0.47999473391612174,
          -0.5470196774727828,
          -0.6448957474033917,
          -1.2312387282637907,
          -0.7882654917165696,
          0.6992660805993933,
          1.343159728014624,
          0.006554386717324803,
          1.1839666350547748,
          0.7852962090064953,
          1.090853039440043,
          -0.9191197192317047,
          -0.584937510658358,
          0.09935280627146068,
          -1.0597550817994716,
          0.6327940167393934,
          -0.26286404024615473,
          1.3291756615688792,
          -1.082743328643993,
          -0.2925693546759645,
          0.5283895907770542,
          1.7397374477560037,
          -0.34785501448501577,
          -1.1370577316276549,
          -1.116757259654754,
          -0.18340610752183722,
          -0.5649610550472014,
          -0.6529937313804469,
          1.1892675399002437,
          -0.036918623731211,
          0.4873170568674592,
          0.20282226504473866,
          -0.09245437072411745,
          -1.719683555373446
         ],
         "xaxis": "x2",
         "y": [
          1.6185342153503897,
          1.1848362441609444,
          1.0676265789711767,
          0.6289578176999444,
          -0.0731723746557524,
          -0.10349025747306093,
          -0.13828150425216726,
          0.8810902574734345,
          -0.5542620086053726,
          1.367655392604224,
          0.42159233908657434,
          -1.6600131400907159,
          -2.321880943758504,
          -0.14525715490075852,
          -1.4150329423246357,
          1.1902193781513097,
          0.032605182130966644,
          -1.1068654931550255,
          -0.4881710870419417,
          -1.0064654004665394,
          -1.4861349648044178,
          0.42126197939457344,
          0.2033513437481144,
          0.6780192171590568,
          2.2695601885039856,
          -1.0530794893148434,
          -0.7599582936020849,
          0.07479649981688027,
          -0.5004585006618902,
          -0.7069045792139065,
          -0.7490649048467005,
          -0.9573833622535074,
          0.3184903662704784,
          0.5232510497782804,
          -0.292920914056626,
          0.5526442907323154,
          0.28927758198705866,
          -0.9595308675629673,
          0.6624074725052688,
          -1.2675470861916667,
          -1.298518317282184,
          1.6505714308200703,
          0.7711743870399246,
          -0.10350465261086673,
          -0.9890595965375653,
          0.09060720967289916,
          -0.9664272965492815,
          1.7520110562695306,
          2.0598160276614736,
          -1.5398792263792436,
          0.14913323679684518,
          0.995048297495277,
          -0.8178015437731536,
          -1.1488188276104512,
          -1.2553879715068992,
          0.702144807401087,
          -0.14721370696443659,
          0.9849700972122788,
          -1.6159928381795001,
          2.8876664099211764,
          1.1792610841498818,
          1.137534866296284,
          0.36529841743489505,
          0.6837628681037843,
          0.3857655623229011,
          -1.4277493996033706,
          1.9387091111049926,
          -0.8799227856643209,
          0.17157935956524548,
          1.2164326922302917,
          0.004829280486984333,
          -0.7305142209733924,
          0.8090950392810067,
          -2.7632429506224883,
          0.9238654843844363,
          0.13909084142958214,
          0.06932779342792991,
          0.10316445888209945,
          -1.4408925516222189,
          -1.5014989504920706,
          1.3164328202880184,
          0.20632089660007252,
          -0.4332798600838577,
          0.5100226609573209,
          -0.5583994791359564,
          0.4825916998568048,
          -0.15873725230421742,
          -2.033833509570888,
          -0.56776873608412,
          -1.3983642700361827,
          -0.17721085755554614,
          -0.4777864854606395,
          -0.7084571357637636,
          0.14725150781339041,
          0.5160571944585837,
          2.391248105092854,
          -0.035925646760449015,
          0.3993352653098139,
          0.5041548045378224,
          -2.4531789724121182
         ],
         "yaxis": "y2"
        },
        {
         "line": {
          "color": "rgba(128, 128, 128, 1.0)",
          "dash": "solid",
          "shape": "linear",
          "width": 1.3
         },
         "marker": {
          "size": 2,
          "symbol": "circle"
         },
         "mode": "markers",
         "name": "A",
         "text": "",
         "type": "scatter",
         "x": [
          -0.7644822413693503,
          -0.1662780085710339,
          0.476737776512657,
          1.4936427419112215,
          -0.22543083544286424,
          -1.1528789834282267,
          -0.9145599054270486,
          0.6926928442784844,
          -0.7846538929797743,
          3.261286499391137,
          -0.3196878208660037,
          -0.5580597341869193,
          -0.07611352643623193,
          -0.8898316509425989,
          -0.060257606747032635,
          -1.3668359664811756,
          -0.3919686336500909,
          1.5773911905104674,
          -3.672083633498876,
          0.9592072279269754,
          -0.36728173072607145,
          -0.06592633986444874,
          0.5195147403283626,
          1.4367648709473158,
          0.588393385748988,
          0.5010464120146308,
          1.458197359722872,
          1.4033408998176609,
          0.5882306906786982,
          -0.01330942267740433,
          1.2204185193567985,
          -0.10351237409761757,
          0.9706776034627427,
          -0.40920892348266236,
          -0.4866247360048921,
          0.7447191006627771,
          1.1753784285764202,
          -0.5412944791445348,
          -0.4027018764364136,
          1.8452248769505646,
          0.7341576819387037,
          -0.3051854810248275,
          -0.455162147955806,
          -2.0936535067897633,
          -0.40803538659550626,
          -0.557237147596639,
          0.41033157396129283,
          1.8103444417304027,
          1.2729115835710718,
          -0.365619533164616,
          0.4045133583442117,
          0.878458817843963,
          1.1716116786672737,
          -0.327185943945804,
          -1.4642372365515886,
          0.7479040937945937,
          -0.21232086450058058,
          0.30441721368609154,
          -0.17838098345618944,
          0.048893538909246685,
          0.5431229851756696,
          -1.5511865083904635,
          0.748135895567872,
          -0.8027523221376446,
          0.05413105733115739,
          -0.7552986349452647,
          1.6925935305078619,
          2.7731199599523024,
          0.3976042964293238,
          0.16069785582660906,
          1.8582639023881855,
          -2.8071351426453006,
          -0.39275983410029053,
          -1.7962738629907888,
          -2.8846404770038054,
          1.1236777466184569,
          0.12690159251538763,
          -1.1528007942449985,
          1.5470584624794035,
          -1.0005599812456638,
          -1.0361221173839588,
          -0.27961960165187155,
          1.4052368799060402,
          -0.08589290136502413,
          -1.0523067336538345,
          -0.7823991345386283,
          -1.0782677441716935,
          0.4118484560269983,
          -0.1341138205847123,
          0.88217168473262,
          -1.0530760579886873,
          -1.11470542274002,
          -0.3639578541068347,
          0.7090787748642308,
          -0.05043629087056435,
          -0.6411187072517381,
          0.11225083761789163,
          -0.3161044723542811,
          0.36134256890035965,
          1.064898007641068
         ],
         "xaxis": "x3",
         "y": [
          1.6185342153503897,
          1.1848362441609444,
          1.0676265789711767,
          0.6289578176999444,
          -0.0731723746557524,
          -0.10349025747306093,
          -0.13828150425216726,
          0.8810902574734345,
          -0.5542620086053726,
          1.367655392604224,
          0.42159233908657434,
          -1.6600131400907159,
          -2.321880943758504,
          -0.14525715490075852,
          -1.4150329423246357,
          1.1902193781513097,
          0.032605182130966644,
          -1.1068654931550255,
          -0.4881710870419417,
          -1.0064654004665394,
          -1.4861349648044178,
          0.42126197939457344,
          0.2033513437481144,
          0.6780192171590568,
          2.2695601885039856,
          -1.0530794893148434,
          -0.7599582936020849,
          0.07479649981688027,
          -0.5004585006618902,
          -0.7069045792139065,
          -0.7490649048467005,
          -0.9573833622535074,
          0.3184903662704784,
          0.5232510497782804,
          -0.292920914056626,
          0.5526442907323154,
          0.28927758198705866,
          -0.9595308675629673,
          0.6624074725052688,
          -1.2675470861916667,
          -1.298518317282184,
          1.6505714308200703,
          0.7711743870399246,
          -0.10350465261086673,
          -0.9890595965375653,
          0.09060720967289916,
          -0.9664272965492815,
          1.7520110562695306,
          2.0598160276614736,
          -1.5398792263792436,
          0.14913323679684518,
          0.995048297495277,
          -0.8178015437731536,
          -1.1488188276104512,
          -1.2553879715068992,
          0.702144807401087,
          -0.14721370696443659,
          0.9849700972122788,
          -1.6159928381795001,
          2.8876664099211764,
          1.1792610841498818,
          1.137534866296284,
          0.36529841743489505,
          0.6837628681037843,
          0.3857655623229011,
          -1.4277493996033706,
          1.9387091111049926,
          -0.8799227856643209,
          0.17157935956524548,
          1.2164326922302917,
          0.004829280486984333,
          -0.7305142209733924,
          0.8090950392810067,
          -2.7632429506224883,
          0.9238654843844363,
          0.13909084142958214,
          0.06932779342792991,
          0.10316445888209945,
          -1.4408925516222189,
          -1.5014989504920706,
          1.3164328202880184,
          0.20632089660007252,
          -0.4332798600838577,
          0.5100226609573209,
          -0.5583994791359564,
          0.4825916998568048,
          -0.15873725230421742,
          -2.033833509570888,
          -0.56776873608412,
          -1.3983642700361827,
          -0.17721085755554614,
          -0.4777864854606395,
          -0.7084571357637636,
          0.14725150781339041,
          0.5160571944585837,
          2.391248105092854,
          -0.035925646760449015,
          0.3993352653098139,
          0.5041548045378224,
          -2.4531789724121182
         ],
         "yaxis": "y3"
        },
        {
         "line": {
          "color": "rgba(128, 128, 128, 1.0)",
          "dash": "solid",
          "shape": "linear",
          "width": 1.3
         },
         "marker": {
          "size": 2,
          "symbol": "circle"
         },
         "mode": "markers",
         "name": "A",
         "text": "",
         "type": "scatter",
         "x": [
          0.2744649834576402,
          0.30505186749072055,
          0.9552842712056142,
          -1.5877356412380441,
          -1.9829666534938248,
          0.7281059616081297,
          -0.24866605176086806,
          1.6867746489714364,
          -0.47433186805037475,
          1.3309093841279975,
          0.7826651601189504,
          0.06633303853784404,
          0.13517470911895196,
          0.16004480263028875,
          -0.7547005701421727,
          -0.5769737391550736,
          0.7292426011402716,
          -0.9013427172451478,
          0.7638875771702128,
          0.502849277241576,
          -0.14986686819522207,
          -0.15154766185481316,
          1.7835126345197732,
          0.9250576775717128,
          -0.8267734506854625,
          -1.0524333267491204,
          0.7771261928019507,
          1.3323368419066017,
          -0.3902289572716338,
          -2.165987786738288,
          1.2471730706066182,
          -0.7239374669366284,
          0.5845519354093854,
          0.8242761695515141,
          -0.20143211884371268,
          0.7747345462600389,
          1.301164749130198,
          1.7334250664323112,
          -1.4953144105740297,
          0.04132449477715334,
          -1.538077537986922,
          0.04651870366323089,
          0.24043595492857256,
          0.35729055466919657,
          0.023400722584806403,
          -0.18712386683292365,
          -1.3061229116767614,
          0.04778365721760829,
          0.3123497007713095,
          1.8398002507776399,
          -0.9607476319391202,
          -0.1666046527207271,
          0.7242861439665697,
          0.20125182850242238,
          0.905483293506512,
          0.9752938038603591,
          0.35425824862340866,
          -0.27586685231942104,
          0.11976282465338085,
          3.2243782304736053,
          2.0931416280461344,
          -0.9511333098681802,
          -0.3984245245883266,
          -0.22451354667979806,
          1.2338333260992367,
          1.2579236097499082,
          0.7002378085384303,
          -0.3461053591931336,
          -0.03964551470745989,
          -0.3068339828473522,
          -0.49375752698330977,
          0.4023347882608713,
          -2.669455923852125,
          0.3792523857491676,
          -0.8900751524116217,
          -1.408124367597601,
          0.2454881123818337,
          -1.1621401975664536,
          -0.9665745540254186,
          -1.0932691246330395,
          0.5901274307875186,
          -2.380602599864061,
          1.9806669427320818,
          -0.7185877181308681,
          -0.3151174946912165,
          0.6371137482940696,
          -0.580782043392684,
          0.6866161863110284,
          1.7016331319215445,
          0.17366797709539758,
          0.80654107694807,
          1.0748291936624732,
          1.2247102877434826,
          1.4856703181119582,
          0.7572276084962513,
          0.09586379779127335,
          0.5749735657711563,
          0.26297684223876916,
          1.4596711124358221,
          0.5638167296469515
         ],
         "xaxis": "x4",
         "y": [
          1.6185342153503897,
          1.1848362441609444,
          1.0676265789711767,
          0.6289578176999444,
          -0.0731723746557524,
          -0.10349025747306093,
          -0.13828150425216726,
          0.8810902574734345,
          -0.5542620086053726,
          1.367655392604224,
          0.42159233908657434,
          -1.6600131400907159,
          -2.321880943758504,
          -0.14525715490075852,
          -1.4150329423246357,
          1.1902193781513097,
          0.032605182130966644,
          -1.1068654931550255,
          -0.4881710870419417,
          -1.0064654004665394,
          -1.4861349648044178,
          0.42126197939457344,
          0.2033513437481144,
          0.6780192171590568,
          2.2695601885039856,
          -1.0530794893148434,
          -0.7599582936020849,
          0.07479649981688027,
          -0.5004585006618902,
          -0.7069045792139065,
          -0.7490649048467005,
          -0.9573833622535074,
          0.3184903662704784,
          0.5232510497782804,
          -0.292920914056626,
          0.5526442907323154,
          0.28927758198705866,
          -0.9595308675629673,
          0.6624074725052688,
          -1.2675470861916667,
          -1.298518317282184,
          1.6505714308200703,
          0.7711743870399246,
          -0.10350465261086673,
          -0.9890595965375653,
          0.09060720967289916,
          -0.9664272965492815,
          1.7520110562695306,
          2.0598160276614736,
          -1.5398792263792436,
          0.14913323679684518,
          0.995048297495277,
          -0.8178015437731536,
          -1.1488188276104512,
          -1.2553879715068992,
          0.702144807401087,
          -0.14721370696443659,
          0.9849700972122788,
          -1.6159928381795001,
          2.8876664099211764,
          1.1792610841498818,
          1.137534866296284,
          0.36529841743489505,
          0.6837628681037843,
          0.3857655623229011,
          -1.4277493996033706,
          1.9387091111049926,
          -0.8799227856643209,
          0.17157935956524548,
          1.2164326922302917,
          0.004829280486984333,
          -0.7305142209733924,
          0.8090950392810067,
          -2.7632429506224883,
          0.9238654843844363,
          0.13909084142958214,
          0.06932779342792991,
          0.10316445888209945,
          -1.4408925516222189,
          -1.5014989504920706,
          1.3164328202880184,
          0.20632089660007252,
          -0.4332798600838577,
          0.5100226609573209,
          -0.5583994791359564,
          0.4825916998568048,
          -0.15873725230421742,
          -2.033833509570888,
          -0.56776873608412,
          -1.3983642700361827,
          -0.17721085755554614,
          -0.4777864854606395,
          -0.7084571357637636,
          0.14725150781339041,
          0.5160571944585837,
          2.391248105092854,
          -0.035925646760449015,
          0.3993352653098139,
          0.5041548045378224,
          -2.4531789724121182
         ],
         "yaxis": "y4"
        },
        {
         "line": {
          "color": "rgba(128, 128, 128, 1.0)",
          "dash": "solid",
          "shape": "linear",
          "width": 1.3
         },
         "marker": {
          "size": 2,
          "symbol": "circle"
         },
         "mode": "markers",
         "name": "B",
         "text": "",
         "type": "scatter",
         "x": [
          1.6185342153503897,
          1.1848362441609444,
          1.0676265789711767,
          0.6289578176999444,
          -0.0731723746557524,
          -0.10349025747306093,
          -0.13828150425216726,
          0.8810902574734345,
          -0.5542620086053726,
          1.367655392604224,
          0.42159233908657434,
          -1.6600131400907159,
          -2.321880943758504,
          -0.14525715490075852,
          -1.4150329423246357,
          1.1902193781513097,
          0.032605182130966644,
          -1.1068654931550255,
          -0.4881710870419417,
          -1.0064654004665394,
          -1.4861349648044178,
          0.42126197939457344,
          0.2033513437481144,
          0.6780192171590568,
          2.2695601885039856,
          -1.0530794893148434,
          -0.7599582936020849,
          0.07479649981688027,
          -0.5004585006618902,
          -0.7069045792139065,
          -0.7490649048467005,
          -0.9573833622535074,
          0.3184903662704784,
          0.5232510497782804,
          -0.292920914056626,
          0.5526442907323154,
          0.28927758198705866,
          -0.9595308675629673,
          0.6624074725052688,
          -1.2675470861916667,
          -1.298518317282184,
          1.6505714308200703,
          0.7711743870399246,
          -0.10350465261086673,
          -0.9890595965375653,
          0.09060720967289916,
          -0.9664272965492815,
          1.7520110562695306,
          2.0598160276614736,
          -1.5398792263792436,
          0.14913323679684518,
          0.995048297495277,
          -0.8178015437731536,
          -1.1488188276104512,
          -1.2553879715068992,
          0.702144807401087,
          -0.14721370696443659,
          0.9849700972122788,
          -1.6159928381795001,
          2.8876664099211764,
          1.1792610841498818,
          1.137534866296284,
          0.36529841743489505,
          0.6837628681037843,
          0.3857655623229011,
          -1.4277493996033706,
          1.9387091111049926,
          -0.8799227856643209,
          0.17157935956524548,
          1.2164326922302917,
          0.004829280486984333,
          -0.7305142209733924,
          0.8090950392810067,
          -2.7632429506224883,
          0.9238654843844363,
          0.13909084142958214,
          0.06932779342792991,
          0.10316445888209945,
          -1.4408925516222189,
          -1.5014989504920706,
          1.3164328202880184,
          0.20632089660007252,
          -0.4332798600838577,
          0.5100226609573209,
          -0.5583994791359564,
          0.4825916998568048,
          -0.15873725230421742,
          -2.033833509570888,
          -0.56776873608412,
          -1.3983642700361827,
          -0.17721085755554614,
          -0.4777864854606395,
          -0.7084571357637636,
          0.14725150781339041,
          0.5160571944585837,
          2.391248105092854,
          -0.035925646760449015,
          0.3993352653098139,
          0.5041548045378224,
          -2.4531789724121182
         ],
         "xaxis": "x5",
         "y": [
          0.24555663252945903,
          -0.5638129038214954,
          0.15838017982758465,
          0.025965138727300052,
          1.0261693833091186,
          -1.8117251738858402,
          1.2824990052649607,
          0.9227163869758231,
          -0.32928491407238214,
          0.3366044693090377,
          0.16065191024800432,
          0.8082078977266477,
          -0.37421382646895285,
          0.4443612006818534,
          1.2591791755585575,
          -0.272577764440088,
          0.05397960093059676,
          0.9925302761246275,
          0.8240201250613609,
          0.03421864511183541,
          1.7687225019146364,
          0.9401432164859415,
          1.294385534196133,
          0.6944745568559109,
          0.4364763563018746,
          0.19932268382576923,
          -0.27934197237725056,
          -1.5844482409973324,
          0.8691582357782162,
          0.7968557938544397,
          1.227966360927478,
          0.32626552917603463,
          -0.5268174005804046,
          0.16189388577452204,
          0.47272456823309345,
          0.08452053298458287,
          -0.8350294005227219,
          0.8340070844504154,
          -1.2518433951160093,
          -0.5889093096430914,
          -1.5761297357175614,
          0.7025218259235306,
          0.9816624927802996,
          -1.3176098140720194,
          1.0192498512213706,
          -0.06384003639023407,
          -0.6499138608042271,
          1.779442553151568,
          0.9457660017435001,
          1.307783424473417,
          -0.22117084156221578,
          1.7868932790407142,
          -1.0844140449242934,
          0.35024847218493776,
          0.884244535300552,
          0.6614379919438789,
          -1.3080451104956212,
          -0.19203618050731222,
          1.400879527302598,
          -1.9204936660131982,
          0.0733528470981566,
          -2.7096374996506603,
          1.2516569643880509,
          1.375309163239427,
          0.6338916751026681,
          -0.44015753737571284,
          -0.47999473391612174,
          -0.5470196774727828,
          -0.6448957474033917,
          -1.2312387282637907,
          -0.7882654917165696,
          0.6992660805993933,
          1.343159728014624,
          0.006554386717324803,
          1.1839666350547748,
          0.7852962090064953,
          1.090853039440043,
          -0.9191197192317047,
          -0.584937510658358,
          0.09935280627146068,
          -1.0597550817994716,
          0.6327940167393934,
          -0.26286404024615473,
          1.3291756615688792,
          -1.082743328643993,
          -0.2925693546759645,
          0.5283895907770542,
          1.7397374477560037,
          -0.34785501448501577,
          -1.1370577316276549,
          -1.116757259654754,
          -0.18340610752183722,
          -0.5649610550472014,
          -0.6529937313804469,
          1.1892675399002437,
          -0.036918623731211,
          0.4873170568674592,
          0.20282226504473866,
          -0.09245437072411745,
          -1.719683555373446
         ],
         "yaxis": "y5"
        },
        {
         "histfunc": "count",
         "histnorm": "",
         "marker": {
          "color": "rgba(55, 128, 191, 1.0)",
          "line": {
           "color": "#4D5663",
           "width": 1.3
          }
         },
         "name": "B",
         "nbinsx": 10,
         "opacity": 0.8,
         "orientation": "v",
         "type": "histogram",
         "x": [
          0.24555663252945903,
          -0.5638129038214954,
          0.15838017982758465,
          0.025965138727300052,
          1.0261693833091186,
          -1.8117251738858402,
          1.2824990052649607,
          0.9227163869758231,
          -0.32928491407238214,
          0.3366044693090377,
          0.16065191024800432,
          0.8082078977266477,
          -0.37421382646895285,
          0.4443612006818534,
          1.2591791755585575,
          -0.272577764440088,
          0.05397960093059676,
          0.9925302761246275,
          0.8240201250613609,
          0.03421864511183541,
          1.7687225019146364,
          0.9401432164859415,
          1.294385534196133,
          0.6944745568559109,
          0.4364763563018746,
          0.19932268382576923,
          -0.27934197237725056,
          -1.5844482409973324,
          0.8691582357782162,
          0.7968557938544397,
          1.227966360927478,
          0.32626552917603463,
          -0.5268174005804046,
          0.16189388577452204,
          0.47272456823309345,
          0.08452053298458287,
          -0.8350294005227219,
          0.8340070844504154,
          -1.2518433951160093,
          -0.5889093096430914,
          -1.5761297357175614,
          0.7025218259235306,
          0.9816624927802996,
          -1.3176098140720194,
          1.0192498512213706,
          -0.06384003639023407,
          -0.6499138608042271,
          1.779442553151568,
          0.9457660017435001,
          1.307783424473417,
          -0.22117084156221578,
          1.7868932790407142,
          -1.0844140449242934,
          0.35024847218493776,
          0.884244535300552,
          0.6614379919438789,
          -1.3080451104956212,
          -0.19203618050731222,
          1.400879527302598,
          -1.9204936660131982,
          0.0733528470981566,
          -2.7096374996506603,
          1.2516569643880509,
          1.375309163239427,
          0.6338916751026681,
          -0.44015753737571284,
          -0.47999473391612174,
          -0.5470196774727828,
          -0.6448957474033917,
          -1.2312387282637907,
          -0.7882654917165696,
          0.6992660805993933,
          1.343159728014624,
          0.006554386717324803,
          1.1839666350547748,
          0.7852962090064953,
          1.090853039440043,
          -0.9191197192317047,
          -0.584937510658358,
          0.09935280627146068,
          -1.0597550817994716,
          0.6327940167393934,
          -0.26286404024615473,
          1.3291756615688792,
          -1.082743328643993,
          -0.2925693546759645,
          0.5283895907770542,
          1.7397374477560037,
          -0.34785501448501577,
          -1.1370577316276549,
          -1.116757259654754,
          -0.18340610752183722,
          -0.5649610550472014,
          -0.6529937313804469,
          1.1892675399002437,
          -0.036918623731211,
          0.4873170568674592,
          0.20282226504473866,
          -0.09245437072411745,
          -1.719683555373446
         ],
         "xaxis": "x6",
         "yaxis": "y6"
        },
        {
         "line": {
          "color": "rgba(128, 128, 128, 1.0)",
          "dash": "solid",
          "shape": "linear",
          "width": 1.3
         },
         "marker": {
          "size": 2,
          "symbol": "circle"
         },
         "mode": "markers",
         "name": "B",
         "text": "",
         "type": "scatter",
         "x": [
          -0.7644822413693503,
          -0.1662780085710339,
          0.476737776512657,
          1.4936427419112215,
          -0.22543083544286424,
          -1.1528789834282267,
          -0.9145599054270486,
          0.6926928442784844,
          -0.7846538929797743,
          3.261286499391137,
          -0.3196878208660037,
          -0.5580597341869193,
          -0.07611352643623193,
          -0.8898316509425989,
          -0.060257606747032635,
          -1.3668359664811756,
          -0.3919686336500909,
          1.5773911905104674,
          -3.672083633498876,
          0.9592072279269754,
          -0.36728173072607145,
          -0.06592633986444874,
          0.5195147403283626,
          1.4367648709473158,
          0.588393385748988,
          0.5010464120146308,
          1.458197359722872,
          1.4033408998176609,
          0.5882306906786982,
          -0.01330942267740433,
          1.2204185193567985,
          -0.10351237409761757,
          0.9706776034627427,
          -0.40920892348266236,
          -0.4866247360048921,
          0.7447191006627771,
          1.1753784285764202,
          -0.5412944791445348,
          -0.4027018764364136,
          1.8452248769505646,
          0.7341576819387037,
          -0.3051854810248275,
          -0.455162147955806,
          -2.0936535067897633,
          -0.40803538659550626,
          -0.557237147596639,
          0.41033157396129283,
          1.8103444417304027,
          1.2729115835710718,
          -0.365619533164616,
          0.4045133583442117,
          0.878458817843963,
          1.1716116786672737,
          -0.327185943945804,
          -1.4642372365515886,
          0.7479040937945937,
          -0.21232086450058058,
          0.30441721368609154,
          -0.17838098345618944,
          0.048893538909246685,
          0.5431229851756696,
          -1.5511865083904635,
          0.748135895567872,
          -0.8027523221376446,
          0.05413105733115739,
          -0.7552986349452647,
          1.6925935305078619,
          2.7731199599523024,
          0.3976042964293238,
          0.16069785582660906,
          1.8582639023881855,
          -2.8071351426453006,
          -0.39275983410029053,
          -1.7962738629907888,
          -2.8846404770038054,
          1.1236777466184569,
          0.12690159251538763,
          -1.1528007942449985,
          1.5470584624794035,
          -1.0005599812456638,
          -1.0361221173839588,
          -0.27961960165187155,
          1.4052368799060402,
          -0.08589290136502413,
          -1.0523067336538345,
          -0.7823991345386283,
          -1.0782677441716935,
          0.4118484560269983,
          -0.1341138205847123,
          0.88217168473262,
          -1.0530760579886873,
          -1.11470542274002,
          -0.3639578541068347,
          0.7090787748642308,
          -0.05043629087056435,
          -0.6411187072517381,
          0.11225083761789163,
          -0.3161044723542811,
          0.36134256890035965,
          1.064898007641068
         ],
         "xaxis": "x7",
         "y": [
          0.24555663252945903,
          -0.5638129038214954,
          0.15838017982758465,
          0.025965138727300052,
          1.0261693833091186,
          -1.8117251738858402,
          1.2824990052649607,
          0.9227163869758231,
          -0.32928491407238214,
          0.3366044693090377,
          0.16065191024800432,
          0.8082078977266477,
          -0.37421382646895285,
          0.4443612006818534,
          1.2591791755585575,
          -0.272577764440088,
          0.05397960093059676,
          0.9925302761246275,
          0.8240201250613609,
          0.03421864511183541,
          1.7687225019146364,
          0.9401432164859415,
          1.294385534196133,
          0.6944745568559109,
          0.4364763563018746,
          0.19932268382576923,
          -0.27934197237725056,
          -1.5844482409973324,
          0.8691582357782162,
          0.7968557938544397,
          1.227966360927478,
          0.32626552917603463,
          -0.5268174005804046,
          0.16189388577452204,
          0.47272456823309345,
          0.08452053298458287,
          -0.8350294005227219,
          0.8340070844504154,
          -1.2518433951160093,
          -0.5889093096430914,
          -1.5761297357175614,
          0.7025218259235306,
          0.9816624927802996,
          -1.3176098140720194,
          1.0192498512213706,
          -0.06384003639023407,
          -0.6499138608042271,
          1.779442553151568,
          0.9457660017435001,
          1.307783424473417,
          -0.22117084156221578,
          1.7868932790407142,
          -1.0844140449242934,
          0.35024847218493776,
          0.884244535300552,
          0.6614379919438789,
          -1.3080451104956212,
          -0.19203618050731222,
          1.400879527302598,
          -1.9204936660131982,
          0.0733528470981566,
          -2.7096374996506603,
          1.2516569643880509,
          1.375309163239427,
          0.6338916751026681,
          -0.44015753737571284,
          -0.47999473391612174,
          -0.5470196774727828,
          -0.6448957474033917,
          -1.2312387282637907,
          -0.7882654917165696,
          0.6992660805993933,
          1.343159728014624,
          0.006554386717324803,
          1.1839666350547748,
          0.7852962090064953,
          1.090853039440043,
          -0.9191197192317047,
          -0.584937510658358,
          0.09935280627146068,
          -1.0597550817994716,
          0.6327940167393934,
          -0.26286404024615473,
          1.3291756615688792,
          -1.082743328643993,
          -0.2925693546759645,
          0.5283895907770542,
          1.7397374477560037,
          -0.34785501448501577,
          -1.1370577316276549,
          -1.116757259654754,
          -0.18340610752183722,
          -0.5649610550472014,
          -0.6529937313804469,
          1.1892675399002437,
          -0.036918623731211,
          0.4873170568674592,
          0.20282226504473866,
          -0.09245437072411745,
          -1.719683555373446
         ],
         "yaxis": "y7"
        },
        {
         "line": {
          "color": "rgba(128, 128, 128, 1.0)",
          "dash": "solid",
          "shape": "linear",
          "width": 1.3
         },
         "marker": {
          "size": 2,
          "symbol": "circle"
         },
         "mode": "markers",
         "name": "B",
         "text": "",
         "type": "scatter",
         "x": [
          0.2744649834576402,
          0.30505186749072055,
          0.9552842712056142,
          -1.5877356412380441,
          -1.9829666534938248,
          0.7281059616081297,
          -0.24866605176086806,
          1.6867746489714364,
          -0.47433186805037475,
          1.3309093841279975,
          0.7826651601189504,
          0.06633303853784404,
          0.13517470911895196,
          0.16004480263028875,
          -0.7547005701421727,
          -0.5769737391550736,
          0.7292426011402716,
          -0.9013427172451478,
          0.7638875771702128,
          0.502849277241576,
          -0.14986686819522207,
          -0.15154766185481316,
          1.7835126345197732,
          0.9250576775717128,
          -0.8267734506854625,
          -1.0524333267491204,
          0.7771261928019507,
          1.3323368419066017,
          -0.3902289572716338,
          -2.165987786738288,
          1.2471730706066182,
          -0.7239374669366284,
          0.5845519354093854,
          0.8242761695515141,
          -0.20143211884371268,
          0.7747345462600389,
          1.301164749130198,
          1.7334250664323112,
          -1.4953144105740297,
          0.04132449477715334,
          -1.538077537986922,
          0.04651870366323089,
          0.24043595492857256,
          0.35729055466919657,
          0.023400722584806403,
          -0.18712386683292365,
          -1.3061229116767614,
          0.04778365721760829,
          0.3123497007713095,
          1.8398002507776399,
          -0.9607476319391202,
          -0.1666046527207271,
          0.7242861439665697,
          0.20125182850242238,
          0.905483293506512,
          0.9752938038603591,
          0.35425824862340866,
          -0.27586685231942104,
          0.11976282465338085,
          3.2243782304736053,
          2.0931416280461344,
          -0.9511333098681802,
          -0.3984245245883266,
          -0.22451354667979806,
          1.2338333260992367,
          1.2579236097499082,
          0.7002378085384303,
          -0.3461053591931336,
          -0.03964551470745989,
          -0.3068339828473522,
          -0.49375752698330977,
          0.4023347882608713,
          -2.669455923852125,
          0.3792523857491676,
          -0.8900751524116217,
          -1.408124367597601,
          0.2454881123818337,
          -1.1621401975664536,
          -0.9665745540254186,
          -1.0932691246330395,
          0.5901274307875186,
          -2.380602599864061,
          1.9806669427320818,
          -0.7185877181308681,
          -0.3151174946912165,
          0.6371137482940696,
          -0.580782043392684,
          0.6866161863110284,
          1.7016331319215445,
          0.17366797709539758,
          0.80654107694807,
          1.0748291936624732,
          1.2247102877434826,
          1.4856703181119582,
          0.7572276084962513,
          0.09586379779127335,
          0.5749735657711563,
          0.26297684223876916,
          1.4596711124358221,
          0.5638167296469515
         ],
         "xaxis": "x8",
         "y": [
          0.24555663252945903,
          -0.5638129038214954,
          0.15838017982758465,
          0.025965138727300052,
          1.0261693833091186,
          -1.8117251738858402,
          1.2824990052649607,
          0.9227163869758231,
          -0.32928491407238214,
          0.3366044693090377,
          0.16065191024800432,
          0.8082078977266477,
          -0.37421382646895285,
          0.4443612006818534,
          1.2591791755585575,
          -0.272577764440088,
          0.05397960093059676,
          0.9925302761246275,
          0.8240201250613609,
          0.03421864511183541,
          1.7687225019146364,
          0.9401432164859415,
          1.294385534196133,
          0.6944745568559109,
          0.4364763563018746,
          0.19932268382576923,
          -0.27934197237725056,
          -1.5844482409973324,
          0.8691582357782162,
          0.7968557938544397,
          1.227966360927478,
          0.32626552917603463,
          -0.5268174005804046,
          0.16189388577452204,
          0.47272456823309345,
          0.08452053298458287,
          -0.8350294005227219,
          0.8340070844504154,
          -1.2518433951160093,
          -0.5889093096430914,
          -1.5761297357175614,
          0.7025218259235306,
          0.9816624927802996,
          -1.3176098140720194,
          1.0192498512213706,
          -0.06384003639023407,
          -0.6499138608042271,
          1.779442553151568,
          0.9457660017435001,
          1.307783424473417,
          -0.22117084156221578,
          1.7868932790407142,
          -1.0844140449242934,
          0.35024847218493776,
          0.884244535300552,
          0.6614379919438789,
          -1.3080451104956212,
          -0.19203618050731222,
          1.400879527302598,
          -1.9204936660131982,
          0.0733528470981566,
          -2.7096374996506603,
          1.2516569643880509,
          1.375309163239427,
          0.6338916751026681,
          -0.44015753737571284,
          -0.47999473391612174,
          -0.5470196774727828,
          -0.6448957474033917,
          -1.2312387282637907,
          -0.7882654917165696,
          0.6992660805993933,
          1.343159728014624,
          0.006554386717324803,
          1.1839666350547748,
          0.7852962090064953,
          1.090853039440043,
          -0.9191197192317047,
          -0.584937510658358,
          0.09935280627146068,
          -1.0597550817994716,
          0.6327940167393934,
          -0.26286404024615473,
          1.3291756615688792,
          -1.082743328643993,
          -0.2925693546759645,
          0.5283895907770542,
          1.7397374477560037,
          -0.34785501448501577,
          -1.1370577316276549,
          -1.116757259654754,
          -0.18340610752183722,
          -0.5649610550472014,
          -0.6529937313804469,
          1.1892675399002437,
          -0.036918623731211,
          0.4873170568674592,
          0.20282226504473866,
          -0.09245437072411745,
          -1.719683555373446
         ],
         "yaxis": "y8"
        },
        {
         "line": {
          "color": "rgba(128, 128, 128, 1.0)",
          "dash": "solid",
          "shape": "linear",
          "width": 1.3
         },
         "marker": {
          "size": 2,
          "symbol": "circle"
         },
         "mode": "markers",
         "name": "C",
         "text": "",
         "type": "scatter",
         "x": [
          1.6185342153503897,
          1.1848362441609444,
          1.0676265789711767,
          0.6289578176999444,
          -0.0731723746557524,
          -0.10349025747306093,
          -0.13828150425216726,
          0.8810902574734345,
          -0.5542620086053726,
          1.367655392604224,
          0.42159233908657434,
          -1.6600131400907159,
          -2.321880943758504,
          -0.14525715490075852,
          -1.4150329423246357,
          1.1902193781513097,
          0.032605182130966644,
          -1.1068654931550255,
          -0.4881710870419417,
          -1.0064654004665394,
          -1.4861349648044178,
          0.42126197939457344,
          0.2033513437481144,
          0.6780192171590568,
          2.2695601885039856,
          -1.0530794893148434,
          -0.7599582936020849,
          0.07479649981688027,
          -0.5004585006618902,
          -0.7069045792139065,
          -0.7490649048467005,
          -0.9573833622535074,
          0.3184903662704784,
          0.5232510497782804,
          -0.292920914056626,
          0.5526442907323154,
          0.28927758198705866,
          -0.9595308675629673,
          0.6624074725052688,
          -1.2675470861916667,
          -1.298518317282184,
          1.6505714308200703,
          0.7711743870399246,
          -0.10350465261086673,
          -0.9890595965375653,
          0.09060720967289916,
          -0.9664272965492815,
          1.7520110562695306,
          2.0598160276614736,
          -1.5398792263792436,
          0.14913323679684518,
          0.995048297495277,
          -0.8178015437731536,
          -1.1488188276104512,
          -1.2553879715068992,
          0.702144807401087,
          -0.14721370696443659,
          0.9849700972122788,
          -1.6159928381795001,
          2.8876664099211764,
          1.1792610841498818,
          1.137534866296284,
          0.36529841743489505,
          0.6837628681037843,
          0.3857655623229011,
          -1.4277493996033706,
          1.9387091111049926,
          -0.8799227856643209,
          0.17157935956524548,
          1.2164326922302917,
          0.004829280486984333,
          -0.7305142209733924,
          0.8090950392810067,
          -2.7632429506224883,
          0.9238654843844363,
          0.13909084142958214,
          0.06932779342792991,
          0.10316445888209945,
          -1.4408925516222189,
          -1.5014989504920706,
          1.3164328202880184,
          0.20632089660007252,
          -0.4332798600838577,
          0.5100226609573209,
          -0.5583994791359564,
          0.4825916998568048,
          -0.15873725230421742,
          -2.033833509570888,
          -0.56776873608412,
          -1.3983642700361827,
          -0.17721085755554614,
          -0.4777864854606395,
          -0.7084571357637636,
          0.14725150781339041,
          0.5160571944585837,
          2.391248105092854,
          -0.035925646760449015,
          0.3993352653098139,
          0.5041548045378224,
          -2.4531789724121182
         ],
         "xaxis": "x9",
         "y": [
          -0.7644822413693503,
          -0.1662780085710339,
          0.476737776512657,
          1.4936427419112215,
          -0.22543083544286424,
          -1.1528789834282267,
          -0.9145599054270486,
          0.6926928442784844,
          -0.7846538929797743,
          3.261286499391137,
          -0.3196878208660037,
          -0.5580597341869193,
          -0.07611352643623193,
          -0.8898316509425989,
          -0.060257606747032635,
          -1.3668359664811756,
          -0.3919686336500909,
          1.5773911905104674,
          -3.672083633498876,
          0.9592072279269754,
          -0.36728173072607145,
          -0.06592633986444874,
          0.5195147403283626,
          1.4367648709473158,
          0.588393385748988,
          0.5010464120146308,
          1.458197359722872,
          1.4033408998176609,
          0.5882306906786982,
          -0.01330942267740433,
          1.2204185193567985,
          -0.10351237409761757,
          0.9706776034627427,
          -0.40920892348266236,
          -0.4866247360048921,
          0.7447191006627771,
          1.1753784285764202,
          -0.5412944791445348,
          -0.4027018764364136,
          1.8452248769505646,
          0.7341576819387037,
          -0.3051854810248275,
          -0.455162147955806,
          -2.0936535067897633,
          -0.40803538659550626,
          -0.557237147596639,
          0.41033157396129283,
          1.8103444417304027,
          1.2729115835710718,
          -0.365619533164616,
          0.4045133583442117,
          0.878458817843963,
          1.1716116786672737,
          -0.327185943945804,
          -1.4642372365515886,
          0.7479040937945937,
          -0.21232086450058058,
          0.30441721368609154,
          -0.17838098345618944,
          0.048893538909246685,
          0.5431229851756696,
          -1.5511865083904635,
          0.748135895567872,
          -0.8027523221376446,
          0.05413105733115739,
          -0.7552986349452647,
          1.6925935305078619,
          2.7731199599523024,
          0.3976042964293238,
          0.16069785582660906,
          1.8582639023881855,
          -2.8071351426453006,
          -0.39275983410029053,
          -1.7962738629907888,
          -2.8846404770038054,
          1.1236777466184569,
          0.12690159251538763,
          -1.1528007942449985,
          1.5470584624794035,
          -1.0005599812456638,
          -1.0361221173839588,
          -0.27961960165187155,
          1.4052368799060402,
          -0.08589290136502413,
          -1.0523067336538345,
          -0.7823991345386283,
          -1.0782677441716935,
          0.4118484560269983,
          -0.1341138205847123,
          0.88217168473262,
          -1.0530760579886873,
          -1.11470542274002,
          -0.3639578541068347,
          0.7090787748642308,
          -0.05043629087056435,
          -0.6411187072517381,
          0.11225083761789163,
          -0.3161044723542811,
          0.36134256890035965,
          1.064898007641068
         ],
         "yaxis": "y9"
        },
        {
         "line": {
          "color": "rgba(128, 128, 128, 1.0)",
          "dash": "solid",
          "shape": "linear",
          "width": 1.3
         },
         "marker": {
          "size": 2,
          "symbol": "circle"
         },
         "mode": "markers",
         "name": "C",
         "text": "",
         "type": "scatter",
         "x": [
          0.24555663252945903,
          -0.5638129038214954,
          0.15838017982758465,
          0.025965138727300052,
          1.0261693833091186,
          -1.8117251738858402,
          1.2824990052649607,
          0.9227163869758231,
          -0.32928491407238214,
          0.3366044693090377,
          0.16065191024800432,
          0.8082078977266477,
          -0.37421382646895285,
          0.4443612006818534,
          1.2591791755585575,
          -0.272577764440088,
          0.05397960093059676,
          0.9925302761246275,
          0.8240201250613609,
          0.03421864511183541,
          1.7687225019146364,
          0.9401432164859415,
          1.294385534196133,
          0.6944745568559109,
          0.4364763563018746,
          0.19932268382576923,
          -0.27934197237725056,
          -1.5844482409973324,
          0.8691582357782162,
          0.7968557938544397,
          1.227966360927478,
          0.32626552917603463,
          -0.5268174005804046,
          0.16189388577452204,
          0.47272456823309345,
          0.08452053298458287,
          -0.8350294005227219,
          0.8340070844504154,
          -1.2518433951160093,
          -0.5889093096430914,
          -1.5761297357175614,
          0.7025218259235306,
          0.9816624927802996,
          -1.3176098140720194,
          1.0192498512213706,
          -0.06384003639023407,
          -0.6499138608042271,
          1.779442553151568,
          0.9457660017435001,
          1.307783424473417,
          -0.22117084156221578,
          1.7868932790407142,
          -1.0844140449242934,
          0.35024847218493776,
          0.884244535300552,
          0.6614379919438789,
          -1.3080451104956212,
          -0.19203618050731222,
          1.400879527302598,
          -1.9204936660131982,
          0.0733528470981566,
          -2.7096374996506603,
          1.2516569643880509,
          1.375309163239427,
          0.6338916751026681,
          -0.44015753737571284,
          -0.47999473391612174,
          -0.5470196774727828,
          -0.6448957474033917,
          -1.2312387282637907,
          -0.7882654917165696,
          0.6992660805993933,
          1.343159728014624,
          0.006554386717324803,
          1.1839666350547748,
          0.7852962090064953,
          1.090853039440043,
          -0.9191197192317047,
          -0.584937510658358,
          0.09935280627146068,
          -1.0597550817994716,
          0.6327940167393934,
          -0.26286404024615473,
          1.3291756615688792,
          -1.082743328643993,
          -0.2925693546759645,
          0.5283895907770542,
          1.7397374477560037,
          -0.34785501448501577,
          -1.1370577316276549,
          -1.116757259654754,
          -0.18340610752183722,
          -0.5649610550472014,
          -0.6529937313804469,
          1.1892675399002437,
          -0.036918623731211,
          0.4873170568674592,
          0.20282226504473866,
          -0.09245437072411745,
          -1.719683555373446
         ],
         "xaxis": "x10",
         "y": [
          -0.7644822413693503,
          -0.1662780085710339,
          0.476737776512657,
          1.4936427419112215,
          -0.22543083544286424,
          -1.1528789834282267,
          -0.9145599054270486,
          0.6926928442784844,
          -0.7846538929797743,
          3.261286499391137,
          -0.3196878208660037,
          -0.5580597341869193,
          -0.07611352643623193,
          -0.8898316509425989,
          -0.060257606747032635,
          -1.3668359664811756,
          -0.3919686336500909,
          1.5773911905104674,
          -3.672083633498876,
          0.9592072279269754,
          -0.36728173072607145,
          -0.06592633986444874,
          0.5195147403283626,
          1.4367648709473158,
          0.588393385748988,
          0.5010464120146308,
          1.458197359722872,
          1.4033408998176609,
          0.5882306906786982,
          -0.01330942267740433,
          1.2204185193567985,
          -0.10351237409761757,
          0.9706776034627427,
          -0.40920892348266236,
          -0.4866247360048921,
          0.7447191006627771,
          1.1753784285764202,
          -0.5412944791445348,
          -0.4027018764364136,
          1.8452248769505646,
          0.7341576819387037,
          -0.3051854810248275,
          -0.455162147955806,
          -2.0936535067897633,
          -0.40803538659550626,
          -0.557237147596639,
          0.41033157396129283,
          1.8103444417304027,
          1.2729115835710718,
          -0.365619533164616,
          0.4045133583442117,
          0.878458817843963,
          1.1716116786672737,
          -0.327185943945804,
          -1.4642372365515886,
          0.7479040937945937,
          -0.21232086450058058,
          0.30441721368609154,
          -0.17838098345618944,
          0.048893538909246685,
          0.5431229851756696,
          -1.5511865083904635,
          0.748135895567872,
          -0.8027523221376446,
          0.05413105733115739,
          -0.7552986349452647,
          1.6925935305078619,
          2.7731199599523024,
          0.3976042964293238,
          0.16069785582660906,
          1.8582639023881855,
          -2.8071351426453006,
          -0.39275983410029053,
          -1.7962738629907888,
          -2.8846404770038054,
          1.1236777466184569,
          0.12690159251538763,
          -1.1528007942449985,
          1.5470584624794035,
          -1.0005599812456638,
          -1.0361221173839588,
          -0.27961960165187155,
          1.4052368799060402,
          -0.08589290136502413,
          -1.0523067336538345,
          -0.7823991345386283,
          -1.0782677441716935,
          0.4118484560269983,
          -0.1341138205847123,
          0.88217168473262,
          -1.0530760579886873,
          -1.11470542274002,
          -0.3639578541068347,
          0.7090787748642308,
          -0.05043629087056435,
          -0.6411187072517381,
          0.11225083761789163,
          -0.3161044723542811,
          0.36134256890035965,
          1.064898007641068
         ],
         "yaxis": "y10"
        },
        {
         "histfunc": "count",
         "histnorm": "",
         "marker": {
          "color": "rgba(50, 171, 96, 1.0)",
          "line": {
           "color": "#4D5663",
           "width": 1.3
          }
         },
         "name": "C",
         "nbinsx": 10,
         "opacity": 0.8,
         "orientation": "v",
         "type": "histogram",
         "x": [
          -0.7644822413693503,
          -0.1662780085710339,
          0.476737776512657,
          1.4936427419112215,
          -0.22543083544286424,
          -1.1528789834282267,
          -0.9145599054270486,
          0.6926928442784844,
          -0.7846538929797743,
          3.261286499391137,
          -0.3196878208660037,
          -0.5580597341869193,
          -0.07611352643623193,
          -0.8898316509425989,
          -0.060257606747032635,
          -1.3668359664811756,
          -0.3919686336500909,
          1.5773911905104674,
          -3.672083633498876,
          0.9592072279269754,
          -0.36728173072607145,
          -0.06592633986444874,
          0.5195147403283626,
          1.4367648709473158,
          0.588393385748988,
          0.5010464120146308,
          1.458197359722872,
          1.4033408998176609,
          0.5882306906786982,
          -0.01330942267740433,
          1.2204185193567985,
          -0.10351237409761757,
          0.9706776034627427,
          -0.40920892348266236,
          -0.4866247360048921,
          0.7447191006627771,
          1.1753784285764202,
          -0.5412944791445348,
          -0.4027018764364136,
          1.8452248769505646,
          0.7341576819387037,
          -0.3051854810248275,
          -0.455162147955806,
          -2.0936535067897633,
          -0.40803538659550626,
          -0.557237147596639,
          0.41033157396129283,
          1.8103444417304027,
          1.2729115835710718,
          -0.365619533164616,
          0.4045133583442117,
          0.878458817843963,
          1.1716116786672737,
          -0.327185943945804,
          -1.4642372365515886,
          0.7479040937945937,
          -0.21232086450058058,
          0.30441721368609154,
          -0.17838098345618944,
          0.048893538909246685,
          0.5431229851756696,
          -1.5511865083904635,
          0.748135895567872,
          -0.8027523221376446,
          0.05413105733115739,
          -0.7552986349452647,
          1.6925935305078619,
          2.7731199599523024,
          0.3976042964293238,
          0.16069785582660906,
          1.8582639023881855,
          -2.8071351426453006,
          -0.39275983410029053,
          -1.7962738629907888,
          -2.8846404770038054,
          1.1236777466184569,
          0.12690159251538763,
          -1.1528007942449985,
          1.5470584624794035,
          -1.0005599812456638,
          -1.0361221173839588,
          -0.27961960165187155,
          1.4052368799060402,
          -0.08589290136502413,
          -1.0523067336538345,
          -0.7823991345386283,
          -1.0782677441716935,
          0.4118484560269983,
          -0.1341138205847123,
          0.88217168473262,
          -1.0530760579886873,
          -1.11470542274002,
          -0.3639578541068347,
          0.7090787748642308,
          -0.05043629087056435,
          -0.6411187072517381,
          0.11225083761789163,
          -0.3161044723542811,
          0.36134256890035965,
          1.064898007641068
         ],
         "xaxis": "x11",
         "yaxis": "y11"
        },
        {
         "line": {
          "color": "rgba(128, 128, 128, 1.0)",
          "dash": "solid",
          "shape": "linear",
          "width": 1.3
         },
         "marker": {
          "size": 2,
          "symbol": "circle"
         },
         "mode": "markers",
         "name": "C",
         "text": "",
         "type": "scatter",
         "x": [
          0.2744649834576402,
          0.30505186749072055,
          0.9552842712056142,
          -1.5877356412380441,
          -1.9829666534938248,
          0.7281059616081297,
          -0.24866605176086806,
          1.6867746489714364,
          -0.47433186805037475,
          1.3309093841279975,
          0.7826651601189504,
          0.06633303853784404,
          0.13517470911895196,
          0.16004480263028875,
          -0.7547005701421727,
          -0.5769737391550736,
          0.7292426011402716,
          -0.9013427172451478,
          0.7638875771702128,
          0.502849277241576,
          -0.14986686819522207,
          -0.15154766185481316,
          1.7835126345197732,
          0.9250576775717128,
          -0.8267734506854625,
          -1.0524333267491204,
          0.7771261928019507,
          1.3323368419066017,
          -0.3902289572716338,
          -2.165987786738288,
          1.2471730706066182,
          -0.7239374669366284,
          0.5845519354093854,
          0.8242761695515141,
          -0.20143211884371268,
          0.7747345462600389,
          1.301164749130198,
          1.7334250664323112,
          -1.4953144105740297,
          0.04132449477715334,
          -1.538077537986922,
          0.04651870366323089,
          0.24043595492857256,
          0.35729055466919657,
          0.023400722584806403,
          -0.18712386683292365,
          -1.3061229116767614,
          0.04778365721760829,
          0.3123497007713095,
          1.8398002507776399,
          -0.9607476319391202,
          -0.1666046527207271,
          0.7242861439665697,
          0.20125182850242238,
          0.905483293506512,
          0.9752938038603591,
          0.35425824862340866,
          -0.27586685231942104,
          0.11976282465338085,
          3.2243782304736053,
          2.0931416280461344,
          -0.9511333098681802,
          -0.3984245245883266,
          -0.22451354667979806,
          1.2338333260992367,
          1.2579236097499082,
          0.7002378085384303,
          -0.3461053591931336,
          -0.03964551470745989,
          -0.3068339828473522,
          -0.49375752698330977,
          0.4023347882608713,
          -2.669455923852125,
          0.3792523857491676,
          -0.8900751524116217,
          -1.408124367597601,
          0.2454881123818337,
          -1.1621401975664536,
          -0.9665745540254186,
          -1.0932691246330395,
          0.5901274307875186,
          -2.380602599864061,
          1.9806669427320818,
          -0.7185877181308681,
          -0.3151174946912165,
          0.6371137482940696,
          -0.580782043392684,
          0.6866161863110284,
          1.7016331319215445,
          0.17366797709539758,
          0.80654107694807,
          1.0748291936624732,
          1.2247102877434826,
          1.4856703181119582,
          0.7572276084962513,
          0.09586379779127335,
          0.5749735657711563,
          0.26297684223876916,
          1.4596711124358221,
          0.5638167296469515
         ],
         "xaxis": "x12",
         "y": [
          -0.7644822413693503,
          -0.1662780085710339,
          0.476737776512657,
          1.4936427419112215,
          -0.22543083544286424,
          -1.1528789834282267,
          -0.9145599054270486,
          0.6926928442784844,
          -0.7846538929797743,
          3.261286499391137,
          -0.3196878208660037,
          -0.5580597341869193,
          -0.07611352643623193,
          -0.8898316509425989,
          -0.060257606747032635,
          -1.3668359664811756,
          -0.3919686336500909,
          1.5773911905104674,
          -3.672083633498876,
          0.9592072279269754,
          -0.36728173072607145,
          -0.06592633986444874,
          0.5195147403283626,
          1.4367648709473158,
          0.588393385748988,
          0.5010464120146308,
          1.458197359722872,
          1.4033408998176609,
          0.5882306906786982,
          -0.01330942267740433,
          1.2204185193567985,
          -0.10351237409761757,
          0.9706776034627427,
          -0.40920892348266236,
          -0.4866247360048921,
          0.7447191006627771,
          1.1753784285764202,
          -0.5412944791445348,
          -0.4027018764364136,
          1.8452248769505646,
          0.7341576819387037,
          -0.3051854810248275,
          -0.455162147955806,
          -2.0936535067897633,
          -0.40803538659550626,
          -0.557237147596639,
          0.41033157396129283,
          1.8103444417304027,
          1.2729115835710718,
          -0.365619533164616,
          0.4045133583442117,
          0.878458817843963,
          1.1716116786672737,
          -0.327185943945804,
          -1.4642372365515886,
          0.7479040937945937,
          -0.21232086450058058,
          0.30441721368609154,
          -0.17838098345618944,
          0.048893538909246685,
          0.5431229851756696,
          -1.5511865083904635,
          0.748135895567872,
          -0.8027523221376446,
          0.05413105733115739,
          -0.7552986349452647,
          1.6925935305078619,
          2.7731199599523024,
          0.3976042964293238,
          0.16069785582660906,
          1.8582639023881855,
          -2.8071351426453006,
          -0.39275983410029053,
          -1.7962738629907888,
          -2.8846404770038054,
          1.1236777466184569,
          0.12690159251538763,
          -1.1528007942449985,
          1.5470584624794035,
          -1.0005599812456638,
          -1.0361221173839588,
          -0.27961960165187155,
          1.4052368799060402,
          -0.08589290136502413,
          -1.0523067336538345,
          -0.7823991345386283,
          -1.0782677441716935,
          0.4118484560269983,
          -0.1341138205847123,
          0.88217168473262,
          -1.0530760579886873,
          -1.11470542274002,
          -0.3639578541068347,
          0.7090787748642308,
          -0.05043629087056435,
          -0.6411187072517381,
          0.11225083761789163,
          -0.3161044723542811,
          0.36134256890035965,
          1.064898007641068
         ],
         "yaxis": "y12"
        },
        {
         "line": {
          "color": "rgba(128, 128, 128, 1.0)",
          "dash": "solid",
          "shape": "linear",
          "width": 1.3
         },
         "marker": {
          "size": 2,
          "symbol": "circle"
         },
         "mode": "markers",
         "name": "D",
         "text": "",
         "type": "scatter",
         "x": [
          1.6185342153503897,
          1.1848362441609444,
          1.0676265789711767,
          0.6289578176999444,
          -0.0731723746557524,
          -0.10349025747306093,
          -0.13828150425216726,
          0.8810902574734345,
          -0.5542620086053726,
          1.367655392604224,
          0.42159233908657434,
          -1.6600131400907159,
          -2.321880943758504,
          -0.14525715490075852,
          -1.4150329423246357,
          1.1902193781513097,
          0.032605182130966644,
          -1.1068654931550255,
          -0.4881710870419417,
          -1.0064654004665394,
          -1.4861349648044178,
          0.42126197939457344,
          0.2033513437481144,
          0.6780192171590568,
          2.2695601885039856,
          -1.0530794893148434,
          -0.7599582936020849,
          0.07479649981688027,
          -0.5004585006618902,
          -0.7069045792139065,
          -0.7490649048467005,
          -0.9573833622535074,
          0.3184903662704784,
          0.5232510497782804,
          -0.292920914056626,
          0.5526442907323154,
          0.28927758198705866,
          -0.9595308675629673,
          0.6624074725052688,
          -1.2675470861916667,
          -1.298518317282184,
          1.6505714308200703,
          0.7711743870399246,
          -0.10350465261086673,
          -0.9890595965375653,
          0.09060720967289916,
          -0.9664272965492815,
          1.7520110562695306,
          2.0598160276614736,
          -1.5398792263792436,
          0.14913323679684518,
          0.995048297495277,
          -0.8178015437731536,
          -1.1488188276104512,
          -1.2553879715068992,
          0.702144807401087,
          -0.14721370696443659,
          0.9849700972122788,
          -1.6159928381795001,
          2.8876664099211764,
          1.1792610841498818,
          1.137534866296284,
          0.36529841743489505,
          0.6837628681037843,
          0.3857655623229011,
          -1.4277493996033706,
          1.9387091111049926,
          -0.8799227856643209,
          0.17157935956524548,
          1.2164326922302917,
          0.004829280486984333,
          -0.7305142209733924,
          0.8090950392810067,
          -2.7632429506224883,
          0.9238654843844363,
          0.13909084142958214,
          0.06932779342792991,
          0.10316445888209945,
          -1.4408925516222189,
          -1.5014989504920706,
          1.3164328202880184,
          0.20632089660007252,
          -0.4332798600838577,
          0.5100226609573209,
          -0.5583994791359564,
          0.4825916998568048,
          -0.15873725230421742,
          -2.033833509570888,
          -0.56776873608412,
          -1.3983642700361827,
          -0.17721085755554614,
          -0.4777864854606395,
          -0.7084571357637636,
          0.14725150781339041,
          0.5160571944585837,
          2.391248105092854,
          -0.035925646760449015,
          0.3993352653098139,
          0.5041548045378224,
          -2.4531789724121182
         ],
         "xaxis": "x13",
         "y": [
          0.2744649834576402,
          0.30505186749072055,
          0.9552842712056142,
          -1.5877356412380441,
          -1.9829666534938248,
          0.7281059616081297,
          -0.24866605176086806,
          1.6867746489714364,
          -0.47433186805037475,
          1.3309093841279975,
          0.7826651601189504,
          0.06633303853784404,
          0.13517470911895196,
          0.16004480263028875,
          -0.7547005701421727,
          -0.5769737391550736,
          0.7292426011402716,
          -0.9013427172451478,
          0.7638875771702128,
          0.502849277241576,
          -0.14986686819522207,
          -0.15154766185481316,
          1.7835126345197732,
          0.9250576775717128,
          -0.8267734506854625,
          -1.0524333267491204,
          0.7771261928019507,
          1.3323368419066017,
          -0.3902289572716338,
          -2.165987786738288,
          1.2471730706066182,
          -0.7239374669366284,
          0.5845519354093854,
          0.8242761695515141,
          -0.20143211884371268,
          0.7747345462600389,
          1.301164749130198,
          1.7334250664323112,
          -1.4953144105740297,
          0.04132449477715334,
          -1.538077537986922,
          0.04651870366323089,
          0.24043595492857256,
          0.35729055466919657,
          0.023400722584806403,
          -0.18712386683292365,
          -1.3061229116767614,
          0.04778365721760829,
          0.3123497007713095,
          1.8398002507776399,
          -0.9607476319391202,
          -0.1666046527207271,
          0.7242861439665697,
          0.20125182850242238,
          0.905483293506512,
          0.9752938038603591,
          0.35425824862340866,
          -0.27586685231942104,
          0.11976282465338085,
          3.2243782304736053,
          2.0931416280461344,
          -0.9511333098681802,
          -0.3984245245883266,
          -0.22451354667979806,
          1.2338333260992367,
          1.2579236097499082,
          0.7002378085384303,
          -0.3461053591931336,
          -0.03964551470745989,
          -0.3068339828473522,
          -0.49375752698330977,
          0.4023347882608713,
          -2.669455923852125,
          0.3792523857491676,
          -0.8900751524116217,
          -1.408124367597601,
          0.2454881123818337,
          -1.1621401975664536,
          -0.9665745540254186,
          -1.0932691246330395,
          0.5901274307875186,
          -2.380602599864061,
          1.9806669427320818,
          -0.7185877181308681,
          -0.3151174946912165,
          0.6371137482940696,
          -0.580782043392684,
          0.6866161863110284,
          1.7016331319215445,
          0.17366797709539758,
          0.80654107694807,
          1.0748291936624732,
          1.2247102877434826,
          1.4856703181119582,
          0.7572276084962513,
          0.09586379779127335,
          0.5749735657711563,
          0.26297684223876916,
          1.4596711124358221,
          0.5638167296469515
         ],
         "yaxis": "y13"
        },
        {
         "line": {
          "color": "rgba(128, 128, 128, 1.0)",
          "dash": "solid",
          "shape": "linear",
          "width": 1.3
         },
         "marker": {
          "size": 2,
          "symbol": "circle"
         },
         "mode": "markers",
         "name": "D",
         "text": "",
         "type": "scatter",
         "x": [
          0.24555663252945903,
          -0.5638129038214954,
          0.15838017982758465,
          0.025965138727300052,
          1.0261693833091186,
          -1.8117251738858402,
          1.2824990052649607,
          0.9227163869758231,
          -0.32928491407238214,
          0.3366044693090377,
          0.16065191024800432,
          0.8082078977266477,
          -0.37421382646895285,
          0.4443612006818534,
          1.2591791755585575,
          -0.272577764440088,
          0.05397960093059676,
          0.9925302761246275,
          0.8240201250613609,
          0.03421864511183541,
          1.7687225019146364,
          0.9401432164859415,
          1.294385534196133,
          0.6944745568559109,
          0.4364763563018746,
          0.19932268382576923,
          -0.27934197237725056,
          -1.5844482409973324,
          0.8691582357782162,
          0.7968557938544397,
          1.227966360927478,
          0.32626552917603463,
          -0.5268174005804046,
          0.16189388577452204,
          0.47272456823309345,
          0.08452053298458287,
          -0.8350294005227219,
          0.8340070844504154,
          -1.2518433951160093,
          -0.5889093096430914,
          -1.5761297357175614,
          0.7025218259235306,
          0.9816624927802996,
          -1.3176098140720194,
          1.0192498512213706,
          -0.06384003639023407,
          -0.6499138608042271,
          1.779442553151568,
          0.9457660017435001,
          1.307783424473417,
          -0.22117084156221578,
          1.7868932790407142,
          -1.0844140449242934,
          0.35024847218493776,
          0.884244535300552,
          0.6614379919438789,
          -1.3080451104956212,
          -0.19203618050731222,
          1.400879527302598,
          -1.9204936660131982,
          0.0733528470981566,
          -2.7096374996506603,
          1.2516569643880509,
          1.375309163239427,
          0.6338916751026681,
          -0.44015753737571284,
          -0.47999473391612174,
          -0.5470196774727828,
          -0.6448957474033917,
          -1.2312387282637907,
          -0.7882654917165696,
          0.6992660805993933,
          1.343159728014624,
          0.006554386717324803,
          1.1839666350547748,
          0.7852962090064953,
          1.090853039440043,
          -0.9191197192317047,
          -0.584937510658358,
          0.09935280627146068,
          -1.0597550817994716,
          0.6327940167393934,
          -0.26286404024615473,
          1.3291756615688792,
          -1.082743328643993,
          -0.2925693546759645,
          0.5283895907770542,
          1.7397374477560037,
          -0.34785501448501577,
          -1.1370577316276549,
          -1.116757259654754,
          -0.18340610752183722,
          -0.5649610550472014,
          -0.6529937313804469,
          1.1892675399002437,
          -0.036918623731211,
          0.4873170568674592,
          0.20282226504473866,
          -0.09245437072411745,
          -1.719683555373446
         ],
         "xaxis": "x14",
         "y": [
          0.2744649834576402,
          0.30505186749072055,
          0.9552842712056142,
          -1.5877356412380441,
          -1.9829666534938248,
          0.7281059616081297,
          -0.24866605176086806,
          1.6867746489714364,
          -0.47433186805037475,
          1.3309093841279975,
          0.7826651601189504,
          0.06633303853784404,
          0.13517470911895196,
          0.16004480263028875,
          -0.7547005701421727,
          -0.5769737391550736,
          0.7292426011402716,
          -0.9013427172451478,
          0.7638875771702128,
          0.502849277241576,
          -0.14986686819522207,
          -0.15154766185481316,
          1.7835126345197732,
          0.9250576775717128,
          -0.8267734506854625,
          -1.0524333267491204,
          0.7771261928019507,
          1.3323368419066017,
          -0.3902289572716338,
          -2.165987786738288,
          1.2471730706066182,
          -0.7239374669366284,
          0.5845519354093854,
          0.8242761695515141,
          -0.20143211884371268,
          0.7747345462600389,
          1.301164749130198,
          1.7334250664323112,
          -1.4953144105740297,
          0.04132449477715334,
          -1.538077537986922,
          0.04651870366323089,
          0.24043595492857256,
          0.35729055466919657,
          0.023400722584806403,
          -0.18712386683292365,
          -1.3061229116767614,
          0.04778365721760829,
          0.3123497007713095,
          1.8398002507776399,
          -0.9607476319391202,
          -0.1666046527207271,
          0.7242861439665697,
          0.20125182850242238,
          0.905483293506512,
          0.9752938038603591,
          0.35425824862340866,
          -0.27586685231942104,
          0.11976282465338085,
          3.2243782304736053,
          2.0931416280461344,
          -0.9511333098681802,
          -0.3984245245883266,
          -0.22451354667979806,
          1.2338333260992367,
          1.2579236097499082,
          0.7002378085384303,
          -0.3461053591931336,
          -0.03964551470745989,
          -0.3068339828473522,
          -0.49375752698330977,
          0.4023347882608713,
          -2.669455923852125,
          0.3792523857491676,
          -0.8900751524116217,
          -1.408124367597601,
          0.2454881123818337,
          -1.1621401975664536,
          -0.9665745540254186,
          -1.0932691246330395,
          0.5901274307875186,
          -2.380602599864061,
          1.9806669427320818,
          -0.7185877181308681,
          -0.3151174946912165,
          0.6371137482940696,
          -0.580782043392684,
          0.6866161863110284,
          1.7016331319215445,
          0.17366797709539758,
          0.80654107694807,
          1.0748291936624732,
          1.2247102877434826,
          1.4856703181119582,
          0.7572276084962513,
          0.09586379779127335,
          0.5749735657711563,
          0.26297684223876916,
          1.4596711124358221,
          0.5638167296469515
         ],
         "yaxis": "y14"
        },
        {
         "line": {
          "color": "rgba(128, 128, 128, 1.0)",
          "dash": "solid",
          "shape": "linear",
          "width": 1.3
         },
         "marker": {
          "size": 2,
          "symbol": "circle"
         },
         "mode": "markers",
         "name": "D",
         "text": "",
         "type": "scatter",
         "x": [
          -0.7644822413693503,
          -0.1662780085710339,
          0.476737776512657,
          1.4936427419112215,
          -0.22543083544286424,
          -1.1528789834282267,
          -0.9145599054270486,
          0.6926928442784844,
          -0.7846538929797743,
          3.261286499391137,
          -0.3196878208660037,
          -0.5580597341869193,
          -0.07611352643623193,
          -0.8898316509425989,
          -0.060257606747032635,
          -1.3668359664811756,
          -0.3919686336500909,
          1.5773911905104674,
          -3.672083633498876,
          0.9592072279269754,
          -0.36728173072607145,
          -0.06592633986444874,
          0.5195147403283626,
          1.4367648709473158,
          0.588393385748988,
          0.5010464120146308,
          1.458197359722872,
          1.4033408998176609,
          0.5882306906786982,
          -0.01330942267740433,
          1.2204185193567985,
          -0.10351237409761757,
          0.9706776034627427,
          -0.40920892348266236,
          -0.4866247360048921,
          0.7447191006627771,
          1.1753784285764202,
          -0.5412944791445348,
          -0.4027018764364136,
          1.8452248769505646,
          0.7341576819387037,
          -0.3051854810248275,
          -0.455162147955806,
          -2.0936535067897633,
          -0.40803538659550626,
          -0.557237147596639,
          0.41033157396129283,
          1.8103444417304027,
          1.2729115835710718,
          -0.365619533164616,
          0.4045133583442117,
          0.878458817843963,
          1.1716116786672737,
          -0.327185943945804,
          -1.4642372365515886,
          0.7479040937945937,
          -0.21232086450058058,
          0.30441721368609154,
          -0.17838098345618944,
          0.048893538909246685,
          0.5431229851756696,
          -1.5511865083904635,
          0.748135895567872,
          -0.8027523221376446,
          0.05413105733115739,
          -0.7552986349452647,
          1.6925935305078619,
          2.7731199599523024,
          0.3976042964293238,
          0.16069785582660906,
          1.8582639023881855,
          -2.8071351426453006,
          -0.39275983410029053,
          -1.7962738629907888,
          -2.8846404770038054,
          1.1236777466184569,
          0.12690159251538763,
          -1.1528007942449985,
          1.5470584624794035,
          -1.0005599812456638,
          -1.0361221173839588,
          -0.27961960165187155,
          1.4052368799060402,
          -0.08589290136502413,
          -1.0523067336538345,
          -0.7823991345386283,
          -1.0782677441716935,
          0.4118484560269983,
          -0.1341138205847123,
          0.88217168473262,
          -1.0530760579886873,
          -1.11470542274002,
          -0.3639578541068347,
          0.7090787748642308,
          -0.05043629087056435,
          -0.6411187072517381,
          0.11225083761789163,
          -0.3161044723542811,
          0.36134256890035965,
          1.064898007641068
         ],
         "xaxis": "x15",
         "y": [
          0.2744649834576402,
          0.30505186749072055,
          0.9552842712056142,
          -1.5877356412380441,
          -1.9829666534938248,
          0.7281059616081297,
          -0.24866605176086806,
          1.6867746489714364,
          -0.47433186805037475,
          1.3309093841279975,
          0.7826651601189504,
          0.06633303853784404,
          0.13517470911895196,
          0.16004480263028875,
          -0.7547005701421727,
          -0.5769737391550736,
          0.7292426011402716,
          -0.9013427172451478,
          0.7638875771702128,
          0.502849277241576,
          -0.14986686819522207,
          -0.15154766185481316,
          1.7835126345197732,
          0.9250576775717128,
          -0.8267734506854625,
          -1.0524333267491204,
          0.7771261928019507,
          1.3323368419066017,
          -0.3902289572716338,
          -2.165987786738288,
          1.2471730706066182,
          -0.7239374669366284,
          0.5845519354093854,
          0.8242761695515141,
          -0.20143211884371268,
          0.7747345462600389,
          1.301164749130198,
          1.7334250664323112,
          -1.4953144105740297,
          0.04132449477715334,
          -1.538077537986922,
          0.04651870366323089,
          0.24043595492857256,
          0.35729055466919657,
          0.023400722584806403,
          -0.18712386683292365,
          -1.3061229116767614,
          0.04778365721760829,
          0.3123497007713095,
          1.8398002507776399,
          -0.9607476319391202,
          -0.1666046527207271,
          0.7242861439665697,
          0.20125182850242238,
          0.905483293506512,
          0.9752938038603591,
          0.35425824862340866,
          -0.27586685231942104,
          0.11976282465338085,
          3.2243782304736053,
          2.0931416280461344,
          -0.9511333098681802,
          -0.3984245245883266,
          -0.22451354667979806,
          1.2338333260992367,
          1.2579236097499082,
          0.7002378085384303,
          -0.3461053591931336,
          -0.03964551470745989,
          -0.3068339828473522,
          -0.49375752698330977,
          0.4023347882608713,
          -2.669455923852125,
          0.3792523857491676,
          -0.8900751524116217,
          -1.408124367597601,
          0.2454881123818337,
          -1.1621401975664536,
          -0.9665745540254186,
          -1.0932691246330395,
          0.5901274307875186,
          -2.380602599864061,
          1.9806669427320818,
          -0.7185877181308681,
          -0.3151174946912165,
          0.6371137482940696,
          -0.580782043392684,
          0.6866161863110284,
          1.7016331319215445,
          0.17366797709539758,
          0.80654107694807,
          1.0748291936624732,
          1.2247102877434826,
          1.4856703181119582,
          0.7572276084962513,
          0.09586379779127335,
          0.5749735657711563,
          0.26297684223876916,
          1.4596711124358221,
          0.5638167296469515
         ],
         "yaxis": "y15"
        },
        {
         "histfunc": "count",
         "histnorm": "",
         "marker": {
          "color": "rgba(128, 0, 128, 1.0)",
          "line": {
           "color": "#4D5663",
           "width": 1.3
          }
         },
         "name": "D",
         "nbinsx": 10,
         "opacity": 0.8,
         "orientation": "v",
         "type": "histogram",
         "x": [
          0.2744649834576402,
          0.30505186749072055,
          0.9552842712056142,
          -1.5877356412380441,
          -1.9829666534938248,
          0.7281059616081297,
          -0.24866605176086806,
          1.6867746489714364,
          -0.47433186805037475,
          1.3309093841279975,
          0.7826651601189504,
          0.06633303853784404,
          0.13517470911895196,
          0.16004480263028875,
          -0.7547005701421727,
          -0.5769737391550736,
          0.7292426011402716,
          -0.9013427172451478,
          0.7638875771702128,
          0.502849277241576,
          -0.14986686819522207,
          -0.15154766185481316,
          1.7835126345197732,
          0.9250576775717128,
          -0.8267734506854625,
          -1.0524333267491204,
          0.7771261928019507,
          1.3323368419066017,
          -0.3902289572716338,
          -2.165987786738288,
          1.2471730706066182,
          -0.7239374669366284,
          0.5845519354093854,
          0.8242761695515141,
          -0.20143211884371268,
          0.7747345462600389,
          1.301164749130198,
          1.7334250664323112,
          -1.4953144105740297,
          0.04132449477715334,
          -1.538077537986922,
          0.04651870366323089,
          0.24043595492857256,
          0.35729055466919657,
          0.023400722584806403,
          -0.18712386683292365,
          -1.3061229116767614,
          0.04778365721760829,
          0.3123497007713095,
          1.8398002507776399,
          -0.9607476319391202,
          -0.1666046527207271,
          0.7242861439665697,
          0.20125182850242238,
          0.905483293506512,
          0.9752938038603591,
          0.35425824862340866,
          -0.27586685231942104,
          0.11976282465338085,
          3.2243782304736053,
          2.0931416280461344,
          -0.9511333098681802,
          -0.3984245245883266,
          -0.22451354667979806,
          1.2338333260992367,
          1.2579236097499082,
          0.7002378085384303,
          -0.3461053591931336,
          -0.03964551470745989,
          -0.3068339828473522,
          -0.49375752698330977,
          0.4023347882608713,
          -2.669455923852125,
          0.3792523857491676,
          -0.8900751524116217,
          -1.408124367597601,
          0.2454881123818337,
          -1.1621401975664536,
          -0.9665745540254186,
          -1.0932691246330395,
          0.5901274307875186,
          -2.380602599864061,
          1.9806669427320818,
          -0.7185877181308681,
          -0.3151174946912165,
          0.6371137482940696,
          -0.580782043392684,
          0.6866161863110284,
          1.7016331319215445,
          0.17366797709539758,
          0.80654107694807,
          1.0748291936624732,
          1.2247102877434826,
          1.4856703181119582,
          0.7572276084962513,
          0.09586379779127335,
          0.5749735657711563,
          0.26297684223876916,
          1.4596711124358221,
          0.5638167296469515
         ],
         "xaxis": "x16",
         "yaxis": "y16"
        }
       ],
       "layout": {
        "bargap": 0.02,
        "legend": {
         "bgcolor": "#F5F6F9",
         "font": {
          "color": "#4D5663"
         }
        },
        "paper_bgcolor": "#F5F6F9",
        "plot_bgcolor": "#F5F6F9",
        "showlegend": false,
        "template": {
         "data": {
          "bar": [
           {
            "error_x": {
             "color": "#2a3f5f"
            },
            "error_y": {
             "color": "#2a3f5f"
            },
            "marker": {
             "line": {
              "color": "#E5ECF6",
              "width": 0.5
             },
             "pattern": {
              "fillmode": "overlay",
              "size": 10,
              "solidity": 0.2
             }
            },
            "type": "bar"
           }
          ],
          "barpolar": [
           {
            "marker": {
             "line": {
              "color": "#E5ECF6",
              "width": 0.5
             },
             "pattern": {
              "fillmode": "overlay",
              "size": 10,
              "solidity": 0.2
             }
            },
            "type": "barpolar"
           }
          ],
          "carpet": [
           {
            "aaxis": {
             "endlinecolor": "#2a3f5f",
             "gridcolor": "white",
             "linecolor": "white",
             "minorgridcolor": "white",
             "startlinecolor": "#2a3f5f"
            },
            "baxis": {
             "endlinecolor": "#2a3f5f",
             "gridcolor": "white",
             "linecolor": "white",
             "minorgridcolor": "white",
             "startlinecolor": "#2a3f5f"
            },
            "type": "carpet"
           }
          ],
          "choropleth": [
           {
            "colorbar": {
             "outlinewidth": 0,
             "ticks": ""
            },
            "type": "choropleth"
           }
          ],
          "contour": [
           {
            "colorbar": {
             "outlinewidth": 0,
             "ticks": ""
            },
            "colorscale": [
             [
              0,
              "#0d0887"
             ],
             [
              0.1111111111111111,
              "#46039f"
             ],
             [
              0.2222222222222222,
              "#7201a8"
             ],
             [
              0.3333333333333333,
              "#9c179e"
             ],
             [
              0.4444444444444444,
              "#bd3786"
             ],
             [
              0.5555555555555556,
              "#d8576b"
             ],
             [
              0.6666666666666666,
              "#ed7953"
             ],
             [
              0.7777777777777778,
              "#fb9f3a"
             ],
             [
              0.8888888888888888,
              "#fdca26"
             ],
             [
              1,
              "#f0f921"
             ]
            ],
            "type": "contour"
           }
          ],
          "contourcarpet": [
           {
            "colorbar": {
             "outlinewidth": 0,
             "ticks": ""
            },
            "type": "contourcarpet"
           }
          ],
          "heatmap": [
           {
            "colorbar": {
             "outlinewidth": 0,
             "ticks": ""
            },
            "colorscale": [
             [
              0,
              "#0d0887"
             ],
             [
              0.1111111111111111,
              "#46039f"
             ],
             [
              0.2222222222222222,
              "#7201a8"
             ],
             [
              0.3333333333333333,
              "#9c179e"
             ],
             [
              0.4444444444444444,
              "#bd3786"
             ],
             [
              0.5555555555555556,
              "#d8576b"
             ],
             [
              0.6666666666666666,
              "#ed7953"
             ],
             [
              0.7777777777777778,
              "#fb9f3a"
             ],
             [
              0.8888888888888888,
              "#fdca26"
             ],
             [
              1,
              "#f0f921"
             ]
            ],
            "type": "heatmap"
           }
          ],
          "heatmapgl": [
           {
            "colorbar": {
             "outlinewidth": 0,
             "ticks": ""
            },
            "colorscale": [
             [
              0,
              "#0d0887"
             ],
             [
              0.1111111111111111,
              "#46039f"
             ],
             [
              0.2222222222222222,
              "#7201a8"
             ],
             [
              0.3333333333333333,
              "#9c179e"
             ],
             [
              0.4444444444444444,
              "#bd3786"
             ],
             [
              0.5555555555555556,
              "#d8576b"
             ],
             [
              0.6666666666666666,
              "#ed7953"
             ],
             [
              0.7777777777777778,
              "#fb9f3a"
             ],
             [
              0.8888888888888888,
              "#fdca26"
             ],
             [
              1,
              "#f0f921"
             ]
            ],
            "type": "heatmapgl"
           }
          ],
          "histogram": [
           {
            "marker": {
             "pattern": {
              "fillmode": "overlay",
              "size": 10,
              "solidity": 0.2
             }
            },
            "type": "histogram"
           }
          ],
          "histogram2d": [
           {
            "colorbar": {
             "outlinewidth": 0,
             "ticks": ""
            },
            "colorscale": [
             [
              0,
              "#0d0887"
             ],
             [
              0.1111111111111111,
              "#46039f"
             ],
             [
              0.2222222222222222,
              "#7201a8"
             ],
             [
              0.3333333333333333,
              "#9c179e"
             ],
             [
              0.4444444444444444,
              "#bd3786"
             ],
             [
              0.5555555555555556,
              "#d8576b"
             ],
             [
              0.6666666666666666,
              "#ed7953"
             ],
             [
              0.7777777777777778,
              "#fb9f3a"
             ],
             [
              0.8888888888888888,
              "#fdca26"
             ],
             [
              1,
              "#f0f921"
             ]
            ],
            "type": "histogram2d"
           }
          ],
          "histogram2dcontour": [
           {
            "colorbar": {
             "outlinewidth": 0,
             "ticks": ""
            },
            "colorscale": [
             [
              0,
              "#0d0887"
             ],
             [
              0.1111111111111111,
              "#46039f"
             ],
             [
              0.2222222222222222,
              "#7201a8"
             ],
             [
              0.3333333333333333,
              "#9c179e"
             ],
             [
              0.4444444444444444,
              "#bd3786"
             ],
             [
              0.5555555555555556,
              "#d8576b"
             ],
             [
              0.6666666666666666,
              "#ed7953"
             ],
             [
              0.7777777777777778,
              "#fb9f3a"
             ],
             [
              0.8888888888888888,
              "#fdca26"
             ],
             [
              1,
              "#f0f921"
             ]
            ],
            "type": "histogram2dcontour"
           }
          ],
          "mesh3d": [
           {
            "colorbar": {
             "outlinewidth": 0,
             "ticks": ""
            },
            "type": "mesh3d"
           }
          ],
          "parcoords": [
           {
            "line": {
             "colorbar": {
              "outlinewidth": 0,
              "ticks": ""
             }
            },
            "type": "parcoords"
           }
          ],
          "pie": [
           {
            "automargin": true,
            "type": "pie"
           }
          ],
          "scatter": [
           {
            "fillpattern": {
             "fillmode": "overlay",
             "size": 10,
             "solidity": 0.2
            },
            "type": "scatter"
           }
          ],
          "scatter3d": [
           {
            "line": {
             "colorbar": {
              "outlinewidth": 0,
              "ticks": ""
             }
            },
            "marker": {
             "colorbar": {
              "outlinewidth": 0,
              "ticks": ""
             }
            },
            "type": "scatter3d"
           }
          ],
          "scattercarpet": [
           {
            "marker": {
             "colorbar": {
              "outlinewidth": 0,
              "ticks": ""
             }
            },
            "type": "scattercarpet"
           }
          ],
          "scattergeo": [
           {
            "marker": {
             "colorbar": {
              "outlinewidth": 0,
              "ticks": ""
             }
            },
            "type": "scattergeo"
           }
          ],
          "scattergl": [
           {
            "marker": {
             "colorbar": {
              "outlinewidth": 0,
              "ticks": ""
             }
            },
            "type": "scattergl"
           }
          ],
          "scattermapbox": [
           {
            "marker": {
             "colorbar": {
              "outlinewidth": 0,
              "ticks": ""
             }
            },
            "type": "scattermapbox"
           }
          ],
          "scatterpolar": [
           {
            "marker": {
             "colorbar": {
              "outlinewidth": 0,
              "ticks": ""
             }
            },
            "type": "scatterpolar"
           }
          ],
          "scatterpolargl": [
           {
            "marker": {
             "colorbar": {
              "outlinewidth": 0,
              "ticks": ""
             }
            },
            "type": "scatterpolargl"
           }
          ],
          "scatterternary": [
           {
            "marker": {
             "colorbar": {
              "outlinewidth": 0,
              "ticks": ""
             }
            },
            "type": "scatterternary"
           }
          ],
          "surface": [
           {
            "colorbar": {
             "outlinewidth": 0,
             "ticks": ""
            },
            "colorscale": [
             [
              0,
              "#0d0887"
             ],
             [
              0.1111111111111111,
              "#46039f"
             ],
             [
              0.2222222222222222,
              "#7201a8"
             ],
             [
              0.3333333333333333,
              "#9c179e"
             ],
             [
              0.4444444444444444,
              "#bd3786"
             ],
             [
              0.5555555555555556,
              "#d8576b"
             ],
             [
              0.6666666666666666,
              "#ed7953"
             ],
             [
              0.7777777777777778,
              "#fb9f3a"
             ],
             [
              0.8888888888888888,
              "#fdca26"
             ],
             [
              1,
              "#f0f921"
             ]
            ],
            "type": "surface"
           }
          ],
          "table": [
           {
            "cells": {
             "fill": {
              "color": "#EBF0F8"
             },
             "line": {
              "color": "white"
             }
            },
            "header": {
             "fill": {
              "color": "#C8D4E3"
             },
             "line": {
              "color": "white"
             }
            },
            "type": "table"
           }
          ]
         },
         "layout": {
          "annotationdefaults": {
           "arrowcolor": "#2a3f5f",
           "arrowhead": 0,
           "arrowwidth": 1
          },
          "autotypenumbers": "strict",
          "coloraxis": {
           "colorbar": {
            "outlinewidth": 0,
            "ticks": ""
           }
          },
          "colorscale": {
           "diverging": [
            [
             0,
             "#8e0152"
            ],
            [
             0.1,
             "#c51b7d"
            ],
            [
             0.2,
             "#de77ae"
            ],
            [
             0.3,
             "#f1b6da"
            ],
            [
             0.4,
             "#fde0ef"
            ],
            [
             0.5,
             "#f7f7f7"
            ],
            [
             0.6,
             "#e6f5d0"
            ],
            [
             0.7,
             "#b8e186"
            ],
            [
             0.8,
             "#7fbc41"
            ],
            [
             0.9,
             "#4d9221"
            ],
            [
             1,
             "#276419"
            ]
           ],
           "sequential": [
            [
             0,
             "#0d0887"
            ],
            [
             0.1111111111111111,
             "#46039f"
            ],
            [
             0.2222222222222222,
             "#7201a8"
            ],
            [
             0.3333333333333333,
             "#9c179e"
            ],
            [
             0.4444444444444444,
             "#bd3786"
            ],
            [
             0.5555555555555556,
             "#d8576b"
            ],
            [
             0.6666666666666666,
             "#ed7953"
            ],
            [
             0.7777777777777778,
             "#fb9f3a"
            ],
            [
             0.8888888888888888,
             "#fdca26"
            ],
            [
             1,
             "#f0f921"
            ]
           ],
           "sequentialminus": [
            [
             0,
             "#0d0887"
            ],
            [
             0.1111111111111111,
             "#46039f"
            ],
            [
             0.2222222222222222,
             "#7201a8"
            ],
            [
             0.3333333333333333,
             "#9c179e"
            ],
            [
             0.4444444444444444,
             "#bd3786"
            ],
            [
             0.5555555555555556,
             "#d8576b"
            ],
            [
             0.6666666666666666,
             "#ed7953"
            ],
            [
             0.7777777777777778,
             "#fb9f3a"
            ],
            [
             0.8888888888888888,
             "#fdca26"
            ],
            [
             1,
             "#f0f921"
            ]
           ]
          },
          "colorway": [
           "#636efa",
           "#EF553B",
           "#00cc96",
           "#ab63fa",
           "#FFA15A",
           "#19d3f3",
           "#FF6692",
           "#B6E880",
           "#FF97FF",
           "#FECB52"
          ],
          "font": {
           "color": "#2a3f5f"
          },
          "geo": {
           "bgcolor": "white",
           "lakecolor": "white",
           "landcolor": "#E5ECF6",
           "showlakes": true,
           "showland": true,
           "subunitcolor": "white"
          },
          "hoverlabel": {
           "align": "left"
          },
          "hovermode": "closest",
          "mapbox": {
           "style": "light"
          },
          "paper_bgcolor": "white",
          "plot_bgcolor": "#E5ECF6",
          "polar": {
           "angularaxis": {
            "gridcolor": "white",
            "linecolor": "white",
            "ticks": ""
           },
           "bgcolor": "#E5ECF6",
           "radialaxis": {
            "gridcolor": "white",
            "linecolor": "white",
            "ticks": ""
           }
          },
          "scene": {
           "xaxis": {
            "backgroundcolor": "#E5ECF6",
            "gridcolor": "white",
            "gridwidth": 2,
            "linecolor": "white",
            "showbackground": true,
            "ticks": "",
            "zerolinecolor": "white"
           },
           "yaxis": {
            "backgroundcolor": "#E5ECF6",
            "gridcolor": "white",
            "gridwidth": 2,
            "linecolor": "white",
            "showbackground": true,
            "ticks": "",
            "zerolinecolor": "white"
           },
           "zaxis": {
            "backgroundcolor": "#E5ECF6",
            "gridcolor": "white",
            "gridwidth": 2,
            "linecolor": "white",
            "showbackground": true,
            "ticks": "",
            "zerolinecolor": "white"
           }
          },
          "shapedefaults": {
           "line": {
            "color": "#2a3f5f"
           }
          },
          "ternary": {
           "aaxis": {
            "gridcolor": "white",
            "linecolor": "white",
            "ticks": ""
           },
           "baxis": {
            "gridcolor": "white",
            "linecolor": "white",
            "ticks": ""
           },
           "bgcolor": "#E5ECF6",
           "caxis": {
            "gridcolor": "white",
            "linecolor": "white",
            "ticks": ""
           }
          },
          "title": {
           "x": 0.05
          },
          "xaxis": {
           "automargin": true,
           "gridcolor": "white",
           "linecolor": "white",
           "ticks": "",
           "title": {
            "standoff": 15
           },
           "zerolinecolor": "white",
           "zerolinewidth": 2
          },
          "yaxis": {
           "automargin": true,
           "gridcolor": "white",
           "linecolor": "white",
           "ticks": "",
           "title": {
            "standoff": 15
           },
           "zerolinecolor": "white",
           "zerolinewidth": 2
          }
         }
        },
        "title": {
         "font": {
          "color": "#4D5663"
         }
        },
        "xaxis": {
         "anchor": "y",
         "domain": [
          0,
          0.2125
         ],
         "gridcolor": "#E1E5ED",
         "showgrid": false,
         "tickfont": {
          "color": "#4D5663"
         },
         "title": {
          "font": {
           "color": "#4D5663"
          },
          "text": ""
         },
         "zerolinecolor": "#E1E5ED"
        },
        "xaxis10": {
         "anchor": "y10",
         "domain": [
          0.2625,
          0.475
         ],
         "gridcolor": "#E1E5ED",
         "showgrid": false,
         "tickfont": {
          "color": "#4D5663"
         },
         "title": {
          "font": {
           "color": "#4D5663"
          },
          "text": ""
         },
         "zerolinecolor": "#E1E5ED"
        },
        "xaxis11": {
         "anchor": "y11",
         "domain": [
          0.525,
          0.7375
         ],
         "gridcolor": "#E1E5ED",
         "showgrid": false,
         "tickfont": {
          "color": "#4D5663"
         },
         "title": {
          "font": {
           "color": "#4D5663"
          },
          "text": ""
         },
         "zerolinecolor": "#E1E5ED"
        },
        "xaxis12": {
         "anchor": "y12",
         "domain": [
          0.7875,
          1
         ],
         "gridcolor": "#E1E5ED",
         "showgrid": false,
         "tickfont": {
          "color": "#4D5663"
         },
         "title": {
          "font": {
           "color": "#4D5663"
          },
          "text": ""
         },
         "zerolinecolor": "#E1E5ED"
        },
        "xaxis13": {
         "anchor": "y13",
         "domain": [
          0,
          0.2125
         ],
         "gridcolor": "#E1E5ED",
         "showgrid": false,
         "tickfont": {
          "color": "#4D5663"
         },
         "title": {
          "font": {
           "color": "#4D5663"
          },
          "text": ""
         },
         "zerolinecolor": "#E1E5ED"
        },
        "xaxis14": {
         "anchor": "y14",
         "domain": [
          0.2625,
          0.475
         ],
         "gridcolor": "#E1E5ED",
         "showgrid": false,
         "tickfont": {
          "color": "#4D5663"
         },
         "title": {
          "font": {
           "color": "#4D5663"
          },
          "text": ""
         },
         "zerolinecolor": "#E1E5ED"
        },
        "xaxis15": {
         "anchor": "y15",
         "domain": [
          0.525,
          0.7375
         ],
         "gridcolor": "#E1E5ED",
         "showgrid": false,
         "tickfont": {
          "color": "#4D5663"
         },
         "title": {
          "font": {
           "color": "#4D5663"
          },
          "text": ""
         },
         "zerolinecolor": "#E1E5ED"
        },
        "xaxis16": {
         "anchor": "y16",
         "domain": [
          0.7875,
          1
         ],
         "gridcolor": "#E1E5ED",
         "showgrid": false,
         "tickfont": {
          "color": "#4D5663"
         },
         "title": {
          "font": {
           "color": "#4D5663"
          },
          "text": ""
         },
         "zerolinecolor": "#E1E5ED"
        },
        "xaxis2": {
         "anchor": "y2",
         "domain": [
          0.2625,
          0.475
         ],
         "gridcolor": "#E1E5ED",
         "showgrid": false,
         "tickfont": {
          "color": "#4D5663"
         },
         "title": {
          "font": {
           "color": "#4D5663"
          },
          "text": ""
         },
         "zerolinecolor": "#E1E5ED"
        },
        "xaxis3": {
         "anchor": "y3",
         "domain": [
          0.525,
          0.7375
         ],
         "gridcolor": "#E1E5ED",
         "showgrid": false,
         "tickfont": {
          "color": "#4D5663"
         },
         "title": {
          "font": {
           "color": "#4D5663"
          },
          "text": ""
         },
         "zerolinecolor": "#E1E5ED"
        },
        "xaxis4": {
         "anchor": "y4",
         "domain": [
          0.7875,
          1
         ],
         "gridcolor": "#E1E5ED",
         "showgrid": false,
         "tickfont": {
          "color": "#4D5663"
         },
         "title": {
          "font": {
           "color": "#4D5663"
          },
          "text": ""
         },
         "zerolinecolor": "#E1E5ED"
        },
        "xaxis5": {
         "anchor": "y5",
         "domain": [
          0,
          0.2125
         ],
         "gridcolor": "#E1E5ED",
         "showgrid": false,
         "tickfont": {
          "color": "#4D5663"
         },
         "title": {
          "font": {
           "color": "#4D5663"
          },
          "text": ""
         },
         "zerolinecolor": "#E1E5ED"
        },
        "xaxis6": {
         "anchor": "y6",
         "domain": [
          0.2625,
          0.475
         ],
         "gridcolor": "#E1E5ED",
         "showgrid": false,
         "tickfont": {
          "color": "#4D5663"
         },
         "title": {
          "font": {
           "color": "#4D5663"
          },
          "text": ""
         },
         "zerolinecolor": "#E1E5ED"
        },
        "xaxis7": {
         "anchor": "y7",
         "domain": [
          0.525,
          0.7375
         ],
         "gridcolor": "#E1E5ED",
         "showgrid": false,
         "tickfont": {
          "color": "#4D5663"
         },
         "title": {
          "font": {
           "color": "#4D5663"
          },
          "text": ""
         },
         "zerolinecolor": "#E1E5ED"
        },
        "xaxis8": {
         "anchor": "y8",
         "domain": [
          0.7875,
          1
         ],
         "gridcolor": "#E1E5ED",
         "showgrid": false,
         "tickfont": {
          "color": "#4D5663"
         },
         "title": {
          "font": {
           "color": "#4D5663"
          },
          "text": ""
         },
         "zerolinecolor": "#E1E5ED"
        },
        "xaxis9": {
         "anchor": "y9",
         "domain": [
          0,
          0.2125
         ],
         "gridcolor": "#E1E5ED",
         "showgrid": false,
         "tickfont": {
          "color": "#4D5663"
         },
         "title": {
          "font": {
           "color": "#4D5663"
          },
          "text": ""
         },
         "zerolinecolor": "#E1E5ED"
        },
        "yaxis": {
         "anchor": "x",
         "domain": [
          0.8025,
          1
         ],
         "gridcolor": "#E1E5ED",
         "showgrid": false,
         "tickfont": {
          "color": "#4D5663"
         },
         "title": {
          "font": {
           "color": "#4D5663"
          },
          "text": ""
         },
         "zerolinecolor": "#E1E5ED"
        },
        "yaxis10": {
         "anchor": "x10",
         "domain": [
          0.2675,
          0.465
         ],
         "gridcolor": "#E1E5ED",
         "showgrid": false,
         "tickfont": {
          "color": "#4D5663"
         },
         "title": {
          "font": {
           "color": "#4D5663"
          },
          "text": ""
         },
         "zerolinecolor": "#E1E5ED"
        },
        "yaxis11": {
         "anchor": "x11",
         "domain": [
          0.2675,
          0.465
         ],
         "gridcolor": "#E1E5ED",
         "showgrid": false,
         "tickfont": {
          "color": "#4D5663"
         },
         "title": {
          "font": {
           "color": "#4D5663"
          },
          "text": ""
         },
         "zerolinecolor": "#E1E5ED"
        },
        "yaxis12": {
         "anchor": "x12",
         "domain": [
          0.2675,
          0.465
         ],
         "gridcolor": "#E1E5ED",
         "showgrid": false,
         "tickfont": {
          "color": "#4D5663"
         },
         "title": {
          "font": {
           "color": "#4D5663"
          },
          "text": ""
         },
         "zerolinecolor": "#E1E5ED"
        },
        "yaxis13": {
         "anchor": "x13",
         "domain": [
          0,
          0.1975
         ],
         "gridcolor": "#E1E5ED",
         "showgrid": false,
         "tickfont": {
          "color": "#4D5663"
         },
         "title": {
          "font": {
           "color": "#4D5663"
          },
          "text": ""
         },
         "zerolinecolor": "#E1E5ED"
        },
        "yaxis14": {
         "anchor": "x14",
         "domain": [
          0,
          0.1975
         ],
         "gridcolor": "#E1E5ED",
         "showgrid": false,
         "tickfont": {
          "color": "#4D5663"
         },
         "title": {
          "font": {
           "color": "#4D5663"
          },
          "text": ""
         },
         "zerolinecolor": "#E1E5ED"
        },
        "yaxis15": {
         "anchor": "x15",
         "domain": [
          0,
          0.1975
         ],
         "gridcolor": "#E1E5ED",
         "showgrid": false,
         "tickfont": {
          "color": "#4D5663"
         },
         "title": {
          "font": {
           "color": "#4D5663"
          },
          "text": ""
         },
         "zerolinecolor": "#E1E5ED"
        },
        "yaxis16": {
         "anchor": "x16",
         "domain": [
          0,
          0.1975
         ],
         "gridcolor": "#E1E5ED",
         "showgrid": false,
         "tickfont": {
          "color": "#4D5663"
         },
         "title": {
          "font": {
           "color": "#4D5663"
          },
          "text": ""
         },
         "zerolinecolor": "#E1E5ED"
        },
        "yaxis2": {
         "anchor": "x2",
         "domain": [
          0.8025,
          1
         ],
         "gridcolor": "#E1E5ED",
         "showgrid": false,
         "tickfont": {
          "color": "#4D5663"
         },
         "title": {
          "font": {
           "color": "#4D5663"
          },
          "text": ""
         },
         "zerolinecolor": "#E1E5ED"
        },
        "yaxis3": {
         "anchor": "x3",
         "domain": [
          0.8025,
          1
         ],
         "gridcolor": "#E1E5ED",
         "showgrid": false,
         "tickfont": {
          "color": "#4D5663"
         },
         "title": {
          "font": {
           "color": "#4D5663"
          },
          "text": ""
         },
         "zerolinecolor": "#E1E5ED"
        },
        "yaxis4": {
         "anchor": "x4",
         "domain": [
          0.8025,
          1
         ],
         "gridcolor": "#E1E5ED",
         "showgrid": false,
         "tickfont": {
          "color": "#4D5663"
         },
         "title": {
          "font": {
           "color": "#4D5663"
          },
          "text": ""
         },
         "zerolinecolor": "#E1E5ED"
        },
        "yaxis5": {
         "anchor": "x5",
         "domain": [
          0.535,
          0.7325
         ],
         "gridcolor": "#E1E5ED",
         "showgrid": false,
         "tickfont": {
          "color": "#4D5663"
         },
         "title": {
          "font": {
           "color": "#4D5663"
          },
          "text": ""
         },
         "zerolinecolor": "#E1E5ED"
        },
        "yaxis6": {
         "anchor": "x6",
         "domain": [
          0.535,
          0.7325
         ],
         "gridcolor": "#E1E5ED",
         "showgrid": false,
         "tickfont": {
          "color": "#4D5663"
         },
         "title": {
          "font": {
           "color": "#4D5663"
          },
          "text": ""
         },
         "zerolinecolor": "#E1E5ED"
        },
        "yaxis7": {
         "anchor": "x7",
         "domain": [
          0.535,
          0.7325
         ],
         "gridcolor": "#E1E5ED",
         "showgrid": false,
         "tickfont": {
          "color": "#4D5663"
         },
         "title": {
          "font": {
           "color": "#4D5663"
          },
          "text": ""
         },
         "zerolinecolor": "#E1E5ED"
        },
        "yaxis8": {
         "anchor": "x8",
         "domain": [
          0.535,
          0.7325
         ],
         "gridcolor": "#E1E5ED",
         "showgrid": false,
         "tickfont": {
          "color": "#4D5663"
         },
         "title": {
          "font": {
           "color": "#4D5663"
          },
          "text": ""
         },
         "zerolinecolor": "#E1E5ED"
        },
        "yaxis9": {
         "anchor": "x9",
         "domain": [
          0.2675,
          0.465
         ],
         "gridcolor": "#E1E5ED",
         "showgrid": false,
         "tickfont": {
          "color": "#4D5663"
         },
         "title": {
          "font": {
           "color": "#4D5663"
          },
          "text": ""
         },
         "zerolinecolor": "#E1E5ED"
        }
       }
      },
      "text/html": [
       "<div>                            <div id=\"9e271875-e77d-42f9-a220-33137bea8977\" class=\"plotly-graph-div\" style=\"height:525px; width:100%;\"></div>            <script type=\"text/javascript\">                require([\"plotly\"], function(Plotly) {                    window.PLOTLYENV=window.PLOTLYENV || {};\n",
       "                    window.PLOTLYENV.BASE_URL='https://plot.ly';                                    if (document.getElementById(\"9e271875-e77d-42f9-a220-33137bea8977\")) {                    Plotly.newPlot(                        \"9e271875-e77d-42f9-a220-33137bea8977\",                        [{\"histfunc\":\"count\",\"histnorm\":\"\",\"marker\":{\"color\":\"rgba(255, 153, 51, 1.0)\",\"line\":{\"color\":\"#4D5663\",\"width\":1.3}},\"name\":\"A\",\"nbinsx\":10,\"opacity\":0.8,\"orientation\":\"v\",\"x\":[1.6185342153503897,1.1848362441609444,1.0676265789711767,0.6289578176999444,-0.0731723746557524,-0.10349025747306093,-0.13828150425216726,0.8810902574734345,-0.5542620086053726,1.367655392604224,0.42159233908657434,-1.6600131400907159,-2.321880943758504,-0.14525715490075852,-1.4150329423246357,1.1902193781513097,0.032605182130966644,-1.1068654931550255,-0.4881710870419417,-1.0064654004665394,-1.4861349648044178,0.42126197939457344,0.2033513437481144,0.6780192171590568,2.2695601885039856,-1.0530794893148434,-0.7599582936020849,0.07479649981688027,-0.5004585006618902,-0.7069045792139065,-0.7490649048467005,-0.9573833622535074,0.3184903662704784,0.5232510497782804,-0.292920914056626,0.5526442907323154,0.28927758198705866,-0.9595308675629673,0.6624074725052688,-1.2675470861916667,-1.298518317282184,1.6505714308200703,0.7711743870399246,-0.10350465261086673,-0.9890595965375653,0.09060720967289916,-0.9664272965492815,1.7520110562695306,2.0598160276614736,-1.5398792263792436,0.14913323679684518,0.995048297495277,-0.8178015437731536,-1.1488188276104512,-1.2553879715068992,0.702144807401087,-0.14721370696443659,0.9849700972122788,-1.6159928381795001,2.8876664099211764,1.1792610841498818,1.137534866296284,0.36529841743489505,0.6837628681037843,0.3857655623229011,-1.4277493996033706,1.9387091111049926,-0.8799227856643209,0.17157935956524548,1.2164326922302917,0.004829280486984333,-0.7305142209733924,0.8090950392810067,-2.7632429506224883,0.9238654843844363,0.13909084142958214,0.06932779342792991,0.10316445888209945,-1.4408925516222189,-1.5014989504920706,1.3164328202880184,0.20632089660007252,-0.4332798600838577,0.5100226609573209,-0.5583994791359564,0.4825916998568048,-0.15873725230421742,-2.033833509570888,-0.56776873608412,-1.3983642700361827,-0.17721085755554614,-0.4777864854606395,-0.7084571357637636,0.14725150781339041,0.5160571944585837,2.391248105092854,-0.035925646760449015,0.3993352653098139,0.5041548045378224,-2.4531789724121182],\"xaxis\":\"x\",\"yaxis\":\"y\",\"type\":\"histogram\"},{\"line\":{\"color\":\"rgba(128, 128, 128, 1.0)\",\"dash\":\"solid\",\"shape\":\"linear\",\"width\":1.3},\"marker\":{\"size\":2,\"symbol\":\"circle\"},\"mode\":\"markers\",\"name\":\"A\",\"text\":\"\",\"x\":[0.24555663252945903,-0.5638129038214954,0.15838017982758465,0.025965138727300052,1.0261693833091186,-1.8117251738858402,1.2824990052649607,0.9227163869758231,-0.32928491407238214,0.3366044693090377,0.16065191024800432,0.8082078977266477,-0.37421382646895285,0.4443612006818534,1.2591791755585575,-0.272577764440088,0.05397960093059676,0.9925302761246275,0.8240201250613609,0.03421864511183541,1.7687225019146364,0.9401432164859415,1.294385534196133,0.6944745568559109,0.4364763563018746,0.19932268382576923,-0.27934197237725056,-1.5844482409973324,0.8691582357782162,0.7968557938544397,1.227966360927478,0.32626552917603463,-0.5268174005804046,0.16189388577452204,0.47272456823309345,0.08452053298458287,-0.8350294005227219,0.8340070844504154,-1.2518433951160093,-0.5889093096430914,-1.5761297357175614,0.7025218259235306,0.9816624927802996,-1.3176098140720194,1.0192498512213706,-0.06384003639023407,-0.6499138608042271,1.779442553151568,0.9457660017435001,1.307783424473417,-0.22117084156221578,1.7868932790407142,-1.0844140449242934,0.35024847218493776,0.884244535300552,0.6614379919438789,-1.3080451104956212,-0.19203618050731222,1.400879527302598,-1.9204936660131982,0.0733528470981566,-2.7096374996506603,1.2516569643880509,1.375309163239427,0.6338916751026681,-0.44015753737571284,-0.47999473391612174,-0.5470196774727828,-0.6448957474033917,-1.2312387282637907,-0.7882654917165696,0.6992660805993933,1.343159728014624,0.006554386717324803,1.1839666350547748,0.7852962090064953,1.090853039440043,-0.9191197192317047,-0.584937510658358,0.09935280627146068,-1.0597550817994716,0.6327940167393934,-0.26286404024615473,1.3291756615688792,-1.082743328643993,-0.2925693546759645,0.5283895907770542,1.7397374477560037,-0.34785501448501577,-1.1370577316276549,-1.116757259654754,-0.18340610752183722,-0.5649610550472014,-0.6529937313804469,1.1892675399002437,-0.036918623731211,0.4873170568674592,0.20282226504473866,-0.09245437072411745,-1.719683555373446],\"xaxis\":\"x2\",\"y\":[1.6185342153503897,1.1848362441609444,1.0676265789711767,0.6289578176999444,-0.0731723746557524,-0.10349025747306093,-0.13828150425216726,0.8810902574734345,-0.5542620086053726,1.367655392604224,0.42159233908657434,-1.6600131400907159,-2.321880943758504,-0.14525715490075852,-1.4150329423246357,1.1902193781513097,0.032605182130966644,-1.1068654931550255,-0.4881710870419417,-1.0064654004665394,-1.4861349648044178,0.42126197939457344,0.2033513437481144,0.6780192171590568,2.2695601885039856,-1.0530794893148434,-0.7599582936020849,0.07479649981688027,-0.5004585006618902,-0.7069045792139065,-0.7490649048467005,-0.9573833622535074,0.3184903662704784,0.5232510497782804,-0.292920914056626,0.5526442907323154,0.28927758198705866,-0.9595308675629673,0.6624074725052688,-1.2675470861916667,-1.298518317282184,1.6505714308200703,0.7711743870399246,-0.10350465261086673,-0.9890595965375653,0.09060720967289916,-0.9664272965492815,1.7520110562695306,2.0598160276614736,-1.5398792263792436,0.14913323679684518,0.995048297495277,-0.8178015437731536,-1.1488188276104512,-1.2553879715068992,0.702144807401087,-0.14721370696443659,0.9849700972122788,-1.6159928381795001,2.8876664099211764,1.1792610841498818,1.137534866296284,0.36529841743489505,0.6837628681037843,0.3857655623229011,-1.4277493996033706,1.9387091111049926,-0.8799227856643209,0.17157935956524548,1.2164326922302917,0.004829280486984333,-0.7305142209733924,0.8090950392810067,-2.7632429506224883,0.9238654843844363,0.13909084142958214,0.06932779342792991,0.10316445888209945,-1.4408925516222189,-1.5014989504920706,1.3164328202880184,0.20632089660007252,-0.4332798600838577,0.5100226609573209,-0.5583994791359564,0.4825916998568048,-0.15873725230421742,-2.033833509570888,-0.56776873608412,-1.3983642700361827,-0.17721085755554614,-0.4777864854606395,-0.7084571357637636,0.14725150781339041,0.5160571944585837,2.391248105092854,-0.035925646760449015,0.3993352653098139,0.5041548045378224,-2.4531789724121182],\"yaxis\":\"y2\",\"type\":\"scatter\"},{\"line\":{\"color\":\"rgba(128, 128, 128, 1.0)\",\"dash\":\"solid\",\"shape\":\"linear\",\"width\":1.3},\"marker\":{\"size\":2,\"symbol\":\"circle\"},\"mode\":\"markers\",\"name\":\"A\",\"text\":\"\",\"x\":[-0.7644822413693503,-0.1662780085710339,0.476737776512657,1.4936427419112215,-0.22543083544286424,-1.1528789834282267,-0.9145599054270486,0.6926928442784844,-0.7846538929797743,3.261286499391137,-0.3196878208660037,-0.5580597341869193,-0.07611352643623193,-0.8898316509425989,-0.060257606747032635,-1.3668359664811756,-0.3919686336500909,1.5773911905104674,-3.672083633498876,0.9592072279269754,-0.36728173072607145,-0.06592633986444874,0.5195147403283626,1.4367648709473158,0.588393385748988,0.5010464120146308,1.458197359722872,1.4033408998176609,0.5882306906786982,-0.01330942267740433,1.2204185193567985,-0.10351237409761757,0.9706776034627427,-0.40920892348266236,-0.4866247360048921,0.7447191006627771,1.1753784285764202,-0.5412944791445348,-0.4027018764364136,1.8452248769505646,0.7341576819387037,-0.3051854810248275,-0.455162147955806,-2.0936535067897633,-0.40803538659550626,-0.557237147596639,0.41033157396129283,1.8103444417304027,1.2729115835710718,-0.365619533164616,0.4045133583442117,0.878458817843963,1.1716116786672737,-0.327185943945804,-1.4642372365515886,0.7479040937945937,-0.21232086450058058,0.30441721368609154,-0.17838098345618944,0.048893538909246685,0.5431229851756696,-1.5511865083904635,0.748135895567872,-0.8027523221376446,0.05413105733115739,-0.7552986349452647,1.6925935305078619,2.7731199599523024,0.3976042964293238,0.16069785582660906,1.8582639023881855,-2.8071351426453006,-0.39275983410029053,-1.7962738629907888,-2.8846404770038054,1.1236777466184569,0.12690159251538763,-1.1528007942449985,1.5470584624794035,-1.0005599812456638,-1.0361221173839588,-0.27961960165187155,1.4052368799060402,-0.08589290136502413,-1.0523067336538345,-0.7823991345386283,-1.0782677441716935,0.4118484560269983,-0.1341138205847123,0.88217168473262,-1.0530760579886873,-1.11470542274002,-0.3639578541068347,0.7090787748642308,-0.05043629087056435,-0.6411187072517381,0.11225083761789163,-0.3161044723542811,0.36134256890035965,1.064898007641068],\"xaxis\":\"x3\",\"y\":[1.6185342153503897,1.1848362441609444,1.0676265789711767,0.6289578176999444,-0.0731723746557524,-0.10349025747306093,-0.13828150425216726,0.8810902574734345,-0.5542620086053726,1.367655392604224,0.42159233908657434,-1.6600131400907159,-2.321880943758504,-0.14525715490075852,-1.4150329423246357,1.1902193781513097,0.032605182130966644,-1.1068654931550255,-0.4881710870419417,-1.0064654004665394,-1.4861349648044178,0.42126197939457344,0.2033513437481144,0.6780192171590568,2.2695601885039856,-1.0530794893148434,-0.7599582936020849,0.07479649981688027,-0.5004585006618902,-0.7069045792139065,-0.7490649048467005,-0.9573833622535074,0.3184903662704784,0.5232510497782804,-0.292920914056626,0.5526442907323154,0.28927758198705866,-0.9595308675629673,0.6624074725052688,-1.2675470861916667,-1.298518317282184,1.6505714308200703,0.7711743870399246,-0.10350465261086673,-0.9890595965375653,0.09060720967289916,-0.9664272965492815,1.7520110562695306,2.0598160276614736,-1.5398792263792436,0.14913323679684518,0.995048297495277,-0.8178015437731536,-1.1488188276104512,-1.2553879715068992,0.702144807401087,-0.14721370696443659,0.9849700972122788,-1.6159928381795001,2.8876664099211764,1.1792610841498818,1.137534866296284,0.36529841743489505,0.6837628681037843,0.3857655623229011,-1.4277493996033706,1.9387091111049926,-0.8799227856643209,0.17157935956524548,1.2164326922302917,0.004829280486984333,-0.7305142209733924,0.8090950392810067,-2.7632429506224883,0.9238654843844363,0.13909084142958214,0.06932779342792991,0.10316445888209945,-1.4408925516222189,-1.5014989504920706,1.3164328202880184,0.20632089660007252,-0.4332798600838577,0.5100226609573209,-0.5583994791359564,0.4825916998568048,-0.15873725230421742,-2.033833509570888,-0.56776873608412,-1.3983642700361827,-0.17721085755554614,-0.4777864854606395,-0.7084571357637636,0.14725150781339041,0.5160571944585837,2.391248105092854,-0.035925646760449015,0.3993352653098139,0.5041548045378224,-2.4531789724121182],\"yaxis\":\"y3\",\"type\":\"scatter\"},{\"line\":{\"color\":\"rgba(128, 128, 128, 1.0)\",\"dash\":\"solid\",\"shape\":\"linear\",\"width\":1.3},\"marker\":{\"size\":2,\"symbol\":\"circle\"},\"mode\":\"markers\",\"name\":\"A\",\"text\":\"\",\"x\":[0.2744649834576402,0.30505186749072055,0.9552842712056142,-1.5877356412380441,-1.9829666534938248,0.7281059616081297,-0.24866605176086806,1.6867746489714364,-0.47433186805037475,1.3309093841279975,0.7826651601189504,0.06633303853784404,0.13517470911895196,0.16004480263028875,-0.7547005701421727,-0.5769737391550736,0.7292426011402716,-0.9013427172451478,0.7638875771702128,0.502849277241576,-0.14986686819522207,-0.15154766185481316,1.7835126345197732,0.9250576775717128,-0.8267734506854625,-1.0524333267491204,0.7771261928019507,1.3323368419066017,-0.3902289572716338,-2.165987786738288,1.2471730706066182,-0.7239374669366284,0.5845519354093854,0.8242761695515141,-0.20143211884371268,0.7747345462600389,1.301164749130198,1.7334250664323112,-1.4953144105740297,0.04132449477715334,-1.538077537986922,0.04651870366323089,0.24043595492857256,0.35729055466919657,0.023400722584806403,-0.18712386683292365,-1.3061229116767614,0.04778365721760829,0.3123497007713095,1.8398002507776399,-0.9607476319391202,-0.1666046527207271,0.7242861439665697,0.20125182850242238,0.905483293506512,0.9752938038603591,0.35425824862340866,-0.27586685231942104,0.11976282465338085,3.2243782304736053,2.0931416280461344,-0.9511333098681802,-0.3984245245883266,-0.22451354667979806,1.2338333260992367,1.2579236097499082,0.7002378085384303,-0.3461053591931336,-0.03964551470745989,-0.3068339828473522,-0.49375752698330977,0.4023347882608713,-2.669455923852125,0.3792523857491676,-0.8900751524116217,-1.408124367597601,0.2454881123818337,-1.1621401975664536,-0.9665745540254186,-1.0932691246330395,0.5901274307875186,-2.380602599864061,1.9806669427320818,-0.7185877181308681,-0.3151174946912165,0.6371137482940696,-0.580782043392684,0.6866161863110284,1.7016331319215445,0.17366797709539758,0.80654107694807,1.0748291936624732,1.2247102877434826,1.4856703181119582,0.7572276084962513,0.09586379779127335,0.5749735657711563,0.26297684223876916,1.4596711124358221,0.5638167296469515],\"xaxis\":\"x4\",\"y\":[1.6185342153503897,1.1848362441609444,1.0676265789711767,0.6289578176999444,-0.0731723746557524,-0.10349025747306093,-0.13828150425216726,0.8810902574734345,-0.5542620086053726,1.367655392604224,0.42159233908657434,-1.6600131400907159,-2.321880943758504,-0.14525715490075852,-1.4150329423246357,1.1902193781513097,0.032605182130966644,-1.1068654931550255,-0.4881710870419417,-1.0064654004665394,-1.4861349648044178,0.42126197939457344,0.2033513437481144,0.6780192171590568,2.2695601885039856,-1.0530794893148434,-0.7599582936020849,0.07479649981688027,-0.5004585006618902,-0.7069045792139065,-0.7490649048467005,-0.9573833622535074,0.3184903662704784,0.5232510497782804,-0.292920914056626,0.5526442907323154,0.28927758198705866,-0.9595308675629673,0.6624074725052688,-1.2675470861916667,-1.298518317282184,1.6505714308200703,0.7711743870399246,-0.10350465261086673,-0.9890595965375653,0.09060720967289916,-0.9664272965492815,1.7520110562695306,2.0598160276614736,-1.5398792263792436,0.14913323679684518,0.995048297495277,-0.8178015437731536,-1.1488188276104512,-1.2553879715068992,0.702144807401087,-0.14721370696443659,0.9849700972122788,-1.6159928381795001,2.8876664099211764,1.1792610841498818,1.137534866296284,0.36529841743489505,0.6837628681037843,0.3857655623229011,-1.4277493996033706,1.9387091111049926,-0.8799227856643209,0.17157935956524548,1.2164326922302917,0.004829280486984333,-0.7305142209733924,0.8090950392810067,-2.7632429506224883,0.9238654843844363,0.13909084142958214,0.06932779342792991,0.10316445888209945,-1.4408925516222189,-1.5014989504920706,1.3164328202880184,0.20632089660007252,-0.4332798600838577,0.5100226609573209,-0.5583994791359564,0.4825916998568048,-0.15873725230421742,-2.033833509570888,-0.56776873608412,-1.3983642700361827,-0.17721085755554614,-0.4777864854606395,-0.7084571357637636,0.14725150781339041,0.5160571944585837,2.391248105092854,-0.035925646760449015,0.3993352653098139,0.5041548045378224,-2.4531789724121182],\"yaxis\":\"y4\",\"type\":\"scatter\"},{\"line\":{\"color\":\"rgba(128, 128, 128, 1.0)\",\"dash\":\"solid\",\"shape\":\"linear\",\"width\":1.3},\"marker\":{\"size\":2,\"symbol\":\"circle\"},\"mode\":\"markers\",\"name\":\"B\",\"text\":\"\",\"x\":[1.6185342153503897,1.1848362441609444,1.0676265789711767,0.6289578176999444,-0.0731723746557524,-0.10349025747306093,-0.13828150425216726,0.8810902574734345,-0.5542620086053726,1.367655392604224,0.42159233908657434,-1.6600131400907159,-2.321880943758504,-0.14525715490075852,-1.4150329423246357,1.1902193781513097,0.032605182130966644,-1.1068654931550255,-0.4881710870419417,-1.0064654004665394,-1.4861349648044178,0.42126197939457344,0.2033513437481144,0.6780192171590568,2.2695601885039856,-1.0530794893148434,-0.7599582936020849,0.07479649981688027,-0.5004585006618902,-0.7069045792139065,-0.7490649048467005,-0.9573833622535074,0.3184903662704784,0.5232510497782804,-0.292920914056626,0.5526442907323154,0.28927758198705866,-0.9595308675629673,0.6624074725052688,-1.2675470861916667,-1.298518317282184,1.6505714308200703,0.7711743870399246,-0.10350465261086673,-0.9890595965375653,0.09060720967289916,-0.9664272965492815,1.7520110562695306,2.0598160276614736,-1.5398792263792436,0.14913323679684518,0.995048297495277,-0.8178015437731536,-1.1488188276104512,-1.2553879715068992,0.702144807401087,-0.14721370696443659,0.9849700972122788,-1.6159928381795001,2.8876664099211764,1.1792610841498818,1.137534866296284,0.36529841743489505,0.6837628681037843,0.3857655623229011,-1.4277493996033706,1.9387091111049926,-0.8799227856643209,0.17157935956524548,1.2164326922302917,0.004829280486984333,-0.7305142209733924,0.8090950392810067,-2.7632429506224883,0.9238654843844363,0.13909084142958214,0.06932779342792991,0.10316445888209945,-1.4408925516222189,-1.5014989504920706,1.3164328202880184,0.20632089660007252,-0.4332798600838577,0.5100226609573209,-0.5583994791359564,0.4825916998568048,-0.15873725230421742,-2.033833509570888,-0.56776873608412,-1.3983642700361827,-0.17721085755554614,-0.4777864854606395,-0.7084571357637636,0.14725150781339041,0.5160571944585837,2.391248105092854,-0.035925646760449015,0.3993352653098139,0.5041548045378224,-2.4531789724121182],\"xaxis\":\"x5\",\"y\":[0.24555663252945903,-0.5638129038214954,0.15838017982758465,0.025965138727300052,1.0261693833091186,-1.8117251738858402,1.2824990052649607,0.9227163869758231,-0.32928491407238214,0.3366044693090377,0.16065191024800432,0.8082078977266477,-0.37421382646895285,0.4443612006818534,1.2591791755585575,-0.272577764440088,0.05397960093059676,0.9925302761246275,0.8240201250613609,0.03421864511183541,1.7687225019146364,0.9401432164859415,1.294385534196133,0.6944745568559109,0.4364763563018746,0.19932268382576923,-0.27934197237725056,-1.5844482409973324,0.8691582357782162,0.7968557938544397,1.227966360927478,0.32626552917603463,-0.5268174005804046,0.16189388577452204,0.47272456823309345,0.08452053298458287,-0.8350294005227219,0.8340070844504154,-1.2518433951160093,-0.5889093096430914,-1.5761297357175614,0.7025218259235306,0.9816624927802996,-1.3176098140720194,1.0192498512213706,-0.06384003639023407,-0.6499138608042271,1.779442553151568,0.9457660017435001,1.307783424473417,-0.22117084156221578,1.7868932790407142,-1.0844140449242934,0.35024847218493776,0.884244535300552,0.6614379919438789,-1.3080451104956212,-0.19203618050731222,1.400879527302598,-1.9204936660131982,0.0733528470981566,-2.7096374996506603,1.2516569643880509,1.375309163239427,0.6338916751026681,-0.44015753737571284,-0.47999473391612174,-0.5470196774727828,-0.6448957474033917,-1.2312387282637907,-0.7882654917165696,0.6992660805993933,1.343159728014624,0.006554386717324803,1.1839666350547748,0.7852962090064953,1.090853039440043,-0.9191197192317047,-0.584937510658358,0.09935280627146068,-1.0597550817994716,0.6327940167393934,-0.26286404024615473,1.3291756615688792,-1.082743328643993,-0.2925693546759645,0.5283895907770542,1.7397374477560037,-0.34785501448501577,-1.1370577316276549,-1.116757259654754,-0.18340610752183722,-0.5649610550472014,-0.6529937313804469,1.1892675399002437,-0.036918623731211,0.4873170568674592,0.20282226504473866,-0.09245437072411745,-1.719683555373446],\"yaxis\":\"y5\",\"type\":\"scatter\"},{\"histfunc\":\"count\",\"histnorm\":\"\",\"marker\":{\"color\":\"rgba(55, 128, 191, 1.0)\",\"line\":{\"color\":\"#4D5663\",\"width\":1.3}},\"name\":\"B\",\"nbinsx\":10,\"opacity\":0.8,\"orientation\":\"v\",\"x\":[0.24555663252945903,-0.5638129038214954,0.15838017982758465,0.025965138727300052,1.0261693833091186,-1.8117251738858402,1.2824990052649607,0.9227163869758231,-0.32928491407238214,0.3366044693090377,0.16065191024800432,0.8082078977266477,-0.37421382646895285,0.4443612006818534,1.2591791755585575,-0.272577764440088,0.05397960093059676,0.9925302761246275,0.8240201250613609,0.03421864511183541,1.7687225019146364,0.9401432164859415,1.294385534196133,0.6944745568559109,0.4364763563018746,0.19932268382576923,-0.27934197237725056,-1.5844482409973324,0.8691582357782162,0.7968557938544397,1.227966360927478,0.32626552917603463,-0.5268174005804046,0.16189388577452204,0.47272456823309345,0.08452053298458287,-0.8350294005227219,0.8340070844504154,-1.2518433951160093,-0.5889093096430914,-1.5761297357175614,0.7025218259235306,0.9816624927802996,-1.3176098140720194,1.0192498512213706,-0.06384003639023407,-0.6499138608042271,1.779442553151568,0.9457660017435001,1.307783424473417,-0.22117084156221578,1.7868932790407142,-1.0844140449242934,0.35024847218493776,0.884244535300552,0.6614379919438789,-1.3080451104956212,-0.19203618050731222,1.400879527302598,-1.9204936660131982,0.0733528470981566,-2.7096374996506603,1.2516569643880509,1.375309163239427,0.6338916751026681,-0.44015753737571284,-0.47999473391612174,-0.5470196774727828,-0.6448957474033917,-1.2312387282637907,-0.7882654917165696,0.6992660805993933,1.343159728014624,0.006554386717324803,1.1839666350547748,0.7852962090064953,1.090853039440043,-0.9191197192317047,-0.584937510658358,0.09935280627146068,-1.0597550817994716,0.6327940167393934,-0.26286404024615473,1.3291756615688792,-1.082743328643993,-0.2925693546759645,0.5283895907770542,1.7397374477560037,-0.34785501448501577,-1.1370577316276549,-1.116757259654754,-0.18340610752183722,-0.5649610550472014,-0.6529937313804469,1.1892675399002437,-0.036918623731211,0.4873170568674592,0.20282226504473866,-0.09245437072411745,-1.719683555373446],\"xaxis\":\"x6\",\"yaxis\":\"y6\",\"type\":\"histogram\"},{\"line\":{\"color\":\"rgba(128, 128, 128, 1.0)\",\"dash\":\"solid\",\"shape\":\"linear\",\"width\":1.3},\"marker\":{\"size\":2,\"symbol\":\"circle\"},\"mode\":\"markers\",\"name\":\"B\",\"text\":\"\",\"x\":[-0.7644822413693503,-0.1662780085710339,0.476737776512657,1.4936427419112215,-0.22543083544286424,-1.1528789834282267,-0.9145599054270486,0.6926928442784844,-0.7846538929797743,3.261286499391137,-0.3196878208660037,-0.5580597341869193,-0.07611352643623193,-0.8898316509425989,-0.060257606747032635,-1.3668359664811756,-0.3919686336500909,1.5773911905104674,-3.672083633498876,0.9592072279269754,-0.36728173072607145,-0.06592633986444874,0.5195147403283626,1.4367648709473158,0.588393385748988,0.5010464120146308,1.458197359722872,1.4033408998176609,0.5882306906786982,-0.01330942267740433,1.2204185193567985,-0.10351237409761757,0.9706776034627427,-0.40920892348266236,-0.4866247360048921,0.7447191006627771,1.1753784285764202,-0.5412944791445348,-0.4027018764364136,1.8452248769505646,0.7341576819387037,-0.3051854810248275,-0.455162147955806,-2.0936535067897633,-0.40803538659550626,-0.557237147596639,0.41033157396129283,1.8103444417304027,1.2729115835710718,-0.365619533164616,0.4045133583442117,0.878458817843963,1.1716116786672737,-0.327185943945804,-1.4642372365515886,0.7479040937945937,-0.21232086450058058,0.30441721368609154,-0.17838098345618944,0.048893538909246685,0.5431229851756696,-1.5511865083904635,0.748135895567872,-0.8027523221376446,0.05413105733115739,-0.7552986349452647,1.6925935305078619,2.7731199599523024,0.3976042964293238,0.16069785582660906,1.8582639023881855,-2.8071351426453006,-0.39275983410029053,-1.7962738629907888,-2.8846404770038054,1.1236777466184569,0.12690159251538763,-1.1528007942449985,1.5470584624794035,-1.0005599812456638,-1.0361221173839588,-0.27961960165187155,1.4052368799060402,-0.08589290136502413,-1.0523067336538345,-0.7823991345386283,-1.0782677441716935,0.4118484560269983,-0.1341138205847123,0.88217168473262,-1.0530760579886873,-1.11470542274002,-0.3639578541068347,0.7090787748642308,-0.05043629087056435,-0.6411187072517381,0.11225083761789163,-0.3161044723542811,0.36134256890035965,1.064898007641068],\"xaxis\":\"x7\",\"y\":[0.24555663252945903,-0.5638129038214954,0.15838017982758465,0.025965138727300052,1.0261693833091186,-1.8117251738858402,1.2824990052649607,0.9227163869758231,-0.32928491407238214,0.3366044693090377,0.16065191024800432,0.8082078977266477,-0.37421382646895285,0.4443612006818534,1.2591791755585575,-0.272577764440088,0.05397960093059676,0.9925302761246275,0.8240201250613609,0.03421864511183541,1.7687225019146364,0.9401432164859415,1.294385534196133,0.6944745568559109,0.4364763563018746,0.19932268382576923,-0.27934197237725056,-1.5844482409973324,0.8691582357782162,0.7968557938544397,1.227966360927478,0.32626552917603463,-0.5268174005804046,0.16189388577452204,0.47272456823309345,0.08452053298458287,-0.8350294005227219,0.8340070844504154,-1.2518433951160093,-0.5889093096430914,-1.5761297357175614,0.7025218259235306,0.9816624927802996,-1.3176098140720194,1.0192498512213706,-0.06384003639023407,-0.6499138608042271,1.779442553151568,0.9457660017435001,1.307783424473417,-0.22117084156221578,1.7868932790407142,-1.0844140449242934,0.35024847218493776,0.884244535300552,0.6614379919438789,-1.3080451104956212,-0.19203618050731222,1.400879527302598,-1.9204936660131982,0.0733528470981566,-2.7096374996506603,1.2516569643880509,1.375309163239427,0.6338916751026681,-0.44015753737571284,-0.47999473391612174,-0.5470196774727828,-0.6448957474033917,-1.2312387282637907,-0.7882654917165696,0.6992660805993933,1.343159728014624,0.006554386717324803,1.1839666350547748,0.7852962090064953,1.090853039440043,-0.9191197192317047,-0.584937510658358,0.09935280627146068,-1.0597550817994716,0.6327940167393934,-0.26286404024615473,1.3291756615688792,-1.082743328643993,-0.2925693546759645,0.5283895907770542,1.7397374477560037,-0.34785501448501577,-1.1370577316276549,-1.116757259654754,-0.18340610752183722,-0.5649610550472014,-0.6529937313804469,1.1892675399002437,-0.036918623731211,0.4873170568674592,0.20282226504473866,-0.09245437072411745,-1.719683555373446],\"yaxis\":\"y7\",\"type\":\"scatter\"},{\"line\":{\"color\":\"rgba(128, 128, 128, 1.0)\",\"dash\":\"solid\",\"shape\":\"linear\",\"width\":1.3},\"marker\":{\"size\":2,\"symbol\":\"circle\"},\"mode\":\"markers\",\"name\":\"B\",\"text\":\"\",\"x\":[0.2744649834576402,0.30505186749072055,0.9552842712056142,-1.5877356412380441,-1.9829666534938248,0.7281059616081297,-0.24866605176086806,1.6867746489714364,-0.47433186805037475,1.3309093841279975,0.7826651601189504,0.06633303853784404,0.13517470911895196,0.16004480263028875,-0.7547005701421727,-0.5769737391550736,0.7292426011402716,-0.9013427172451478,0.7638875771702128,0.502849277241576,-0.14986686819522207,-0.15154766185481316,1.7835126345197732,0.9250576775717128,-0.8267734506854625,-1.0524333267491204,0.7771261928019507,1.3323368419066017,-0.3902289572716338,-2.165987786738288,1.2471730706066182,-0.7239374669366284,0.5845519354093854,0.8242761695515141,-0.20143211884371268,0.7747345462600389,1.301164749130198,1.7334250664323112,-1.4953144105740297,0.04132449477715334,-1.538077537986922,0.04651870366323089,0.24043595492857256,0.35729055466919657,0.023400722584806403,-0.18712386683292365,-1.3061229116767614,0.04778365721760829,0.3123497007713095,1.8398002507776399,-0.9607476319391202,-0.1666046527207271,0.7242861439665697,0.20125182850242238,0.905483293506512,0.9752938038603591,0.35425824862340866,-0.27586685231942104,0.11976282465338085,3.2243782304736053,2.0931416280461344,-0.9511333098681802,-0.3984245245883266,-0.22451354667979806,1.2338333260992367,1.2579236097499082,0.7002378085384303,-0.3461053591931336,-0.03964551470745989,-0.3068339828473522,-0.49375752698330977,0.4023347882608713,-2.669455923852125,0.3792523857491676,-0.8900751524116217,-1.408124367597601,0.2454881123818337,-1.1621401975664536,-0.9665745540254186,-1.0932691246330395,0.5901274307875186,-2.380602599864061,1.9806669427320818,-0.7185877181308681,-0.3151174946912165,0.6371137482940696,-0.580782043392684,0.6866161863110284,1.7016331319215445,0.17366797709539758,0.80654107694807,1.0748291936624732,1.2247102877434826,1.4856703181119582,0.7572276084962513,0.09586379779127335,0.5749735657711563,0.26297684223876916,1.4596711124358221,0.5638167296469515],\"xaxis\":\"x8\",\"y\":[0.24555663252945903,-0.5638129038214954,0.15838017982758465,0.025965138727300052,1.0261693833091186,-1.8117251738858402,1.2824990052649607,0.9227163869758231,-0.32928491407238214,0.3366044693090377,0.16065191024800432,0.8082078977266477,-0.37421382646895285,0.4443612006818534,1.2591791755585575,-0.272577764440088,0.05397960093059676,0.9925302761246275,0.8240201250613609,0.03421864511183541,1.7687225019146364,0.9401432164859415,1.294385534196133,0.6944745568559109,0.4364763563018746,0.19932268382576923,-0.27934197237725056,-1.5844482409973324,0.8691582357782162,0.7968557938544397,1.227966360927478,0.32626552917603463,-0.5268174005804046,0.16189388577452204,0.47272456823309345,0.08452053298458287,-0.8350294005227219,0.8340070844504154,-1.2518433951160093,-0.5889093096430914,-1.5761297357175614,0.7025218259235306,0.9816624927802996,-1.3176098140720194,1.0192498512213706,-0.06384003639023407,-0.6499138608042271,1.779442553151568,0.9457660017435001,1.307783424473417,-0.22117084156221578,1.7868932790407142,-1.0844140449242934,0.35024847218493776,0.884244535300552,0.6614379919438789,-1.3080451104956212,-0.19203618050731222,1.400879527302598,-1.9204936660131982,0.0733528470981566,-2.7096374996506603,1.2516569643880509,1.375309163239427,0.6338916751026681,-0.44015753737571284,-0.47999473391612174,-0.5470196774727828,-0.6448957474033917,-1.2312387282637907,-0.7882654917165696,0.6992660805993933,1.343159728014624,0.006554386717324803,1.1839666350547748,0.7852962090064953,1.090853039440043,-0.9191197192317047,-0.584937510658358,0.09935280627146068,-1.0597550817994716,0.6327940167393934,-0.26286404024615473,1.3291756615688792,-1.082743328643993,-0.2925693546759645,0.5283895907770542,1.7397374477560037,-0.34785501448501577,-1.1370577316276549,-1.116757259654754,-0.18340610752183722,-0.5649610550472014,-0.6529937313804469,1.1892675399002437,-0.036918623731211,0.4873170568674592,0.20282226504473866,-0.09245437072411745,-1.719683555373446],\"yaxis\":\"y8\",\"type\":\"scatter\"},{\"line\":{\"color\":\"rgba(128, 128, 128, 1.0)\",\"dash\":\"solid\",\"shape\":\"linear\",\"width\":1.3},\"marker\":{\"size\":2,\"symbol\":\"circle\"},\"mode\":\"markers\",\"name\":\"C\",\"text\":\"\",\"x\":[1.6185342153503897,1.1848362441609444,1.0676265789711767,0.6289578176999444,-0.0731723746557524,-0.10349025747306093,-0.13828150425216726,0.8810902574734345,-0.5542620086053726,1.367655392604224,0.42159233908657434,-1.6600131400907159,-2.321880943758504,-0.14525715490075852,-1.4150329423246357,1.1902193781513097,0.032605182130966644,-1.1068654931550255,-0.4881710870419417,-1.0064654004665394,-1.4861349648044178,0.42126197939457344,0.2033513437481144,0.6780192171590568,2.2695601885039856,-1.0530794893148434,-0.7599582936020849,0.07479649981688027,-0.5004585006618902,-0.7069045792139065,-0.7490649048467005,-0.9573833622535074,0.3184903662704784,0.5232510497782804,-0.292920914056626,0.5526442907323154,0.28927758198705866,-0.9595308675629673,0.6624074725052688,-1.2675470861916667,-1.298518317282184,1.6505714308200703,0.7711743870399246,-0.10350465261086673,-0.9890595965375653,0.09060720967289916,-0.9664272965492815,1.7520110562695306,2.0598160276614736,-1.5398792263792436,0.14913323679684518,0.995048297495277,-0.8178015437731536,-1.1488188276104512,-1.2553879715068992,0.702144807401087,-0.14721370696443659,0.9849700972122788,-1.6159928381795001,2.8876664099211764,1.1792610841498818,1.137534866296284,0.36529841743489505,0.6837628681037843,0.3857655623229011,-1.4277493996033706,1.9387091111049926,-0.8799227856643209,0.17157935956524548,1.2164326922302917,0.004829280486984333,-0.7305142209733924,0.8090950392810067,-2.7632429506224883,0.9238654843844363,0.13909084142958214,0.06932779342792991,0.10316445888209945,-1.4408925516222189,-1.5014989504920706,1.3164328202880184,0.20632089660007252,-0.4332798600838577,0.5100226609573209,-0.5583994791359564,0.4825916998568048,-0.15873725230421742,-2.033833509570888,-0.56776873608412,-1.3983642700361827,-0.17721085755554614,-0.4777864854606395,-0.7084571357637636,0.14725150781339041,0.5160571944585837,2.391248105092854,-0.035925646760449015,0.3993352653098139,0.5041548045378224,-2.4531789724121182],\"xaxis\":\"x9\",\"y\":[-0.7644822413693503,-0.1662780085710339,0.476737776512657,1.4936427419112215,-0.22543083544286424,-1.1528789834282267,-0.9145599054270486,0.6926928442784844,-0.7846538929797743,3.261286499391137,-0.3196878208660037,-0.5580597341869193,-0.07611352643623193,-0.8898316509425989,-0.060257606747032635,-1.3668359664811756,-0.3919686336500909,1.5773911905104674,-3.672083633498876,0.9592072279269754,-0.36728173072607145,-0.06592633986444874,0.5195147403283626,1.4367648709473158,0.588393385748988,0.5010464120146308,1.458197359722872,1.4033408998176609,0.5882306906786982,-0.01330942267740433,1.2204185193567985,-0.10351237409761757,0.9706776034627427,-0.40920892348266236,-0.4866247360048921,0.7447191006627771,1.1753784285764202,-0.5412944791445348,-0.4027018764364136,1.8452248769505646,0.7341576819387037,-0.3051854810248275,-0.455162147955806,-2.0936535067897633,-0.40803538659550626,-0.557237147596639,0.41033157396129283,1.8103444417304027,1.2729115835710718,-0.365619533164616,0.4045133583442117,0.878458817843963,1.1716116786672737,-0.327185943945804,-1.4642372365515886,0.7479040937945937,-0.21232086450058058,0.30441721368609154,-0.17838098345618944,0.048893538909246685,0.5431229851756696,-1.5511865083904635,0.748135895567872,-0.8027523221376446,0.05413105733115739,-0.7552986349452647,1.6925935305078619,2.7731199599523024,0.3976042964293238,0.16069785582660906,1.8582639023881855,-2.8071351426453006,-0.39275983410029053,-1.7962738629907888,-2.8846404770038054,1.1236777466184569,0.12690159251538763,-1.1528007942449985,1.5470584624794035,-1.0005599812456638,-1.0361221173839588,-0.27961960165187155,1.4052368799060402,-0.08589290136502413,-1.0523067336538345,-0.7823991345386283,-1.0782677441716935,0.4118484560269983,-0.1341138205847123,0.88217168473262,-1.0530760579886873,-1.11470542274002,-0.3639578541068347,0.7090787748642308,-0.05043629087056435,-0.6411187072517381,0.11225083761789163,-0.3161044723542811,0.36134256890035965,1.064898007641068],\"yaxis\":\"y9\",\"type\":\"scatter\"},{\"line\":{\"color\":\"rgba(128, 128, 128, 1.0)\",\"dash\":\"solid\",\"shape\":\"linear\",\"width\":1.3},\"marker\":{\"size\":2,\"symbol\":\"circle\"},\"mode\":\"markers\",\"name\":\"C\",\"text\":\"\",\"x\":[0.24555663252945903,-0.5638129038214954,0.15838017982758465,0.025965138727300052,1.0261693833091186,-1.8117251738858402,1.2824990052649607,0.9227163869758231,-0.32928491407238214,0.3366044693090377,0.16065191024800432,0.8082078977266477,-0.37421382646895285,0.4443612006818534,1.2591791755585575,-0.272577764440088,0.05397960093059676,0.9925302761246275,0.8240201250613609,0.03421864511183541,1.7687225019146364,0.9401432164859415,1.294385534196133,0.6944745568559109,0.4364763563018746,0.19932268382576923,-0.27934197237725056,-1.5844482409973324,0.8691582357782162,0.7968557938544397,1.227966360927478,0.32626552917603463,-0.5268174005804046,0.16189388577452204,0.47272456823309345,0.08452053298458287,-0.8350294005227219,0.8340070844504154,-1.2518433951160093,-0.5889093096430914,-1.5761297357175614,0.7025218259235306,0.9816624927802996,-1.3176098140720194,1.0192498512213706,-0.06384003639023407,-0.6499138608042271,1.779442553151568,0.9457660017435001,1.307783424473417,-0.22117084156221578,1.7868932790407142,-1.0844140449242934,0.35024847218493776,0.884244535300552,0.6614379919438789,-1.3080451104956212,-0.19203618050731222,1.400879527302598,-1.9204936660131982,0.0733528470981566,-2.7096374996506603,1.2516569643880509,1.375309163239427,0.6338916751026681,-0.44015753737571284,-0.47999473391612174,-0.5470196774727828,-0.6448957474033917,-1.2312387282637907,-0.7882654917165696,0.6992660805993933,1.343159728014624,0.006554386717324803,1.1839666350547748,0.7852962090064953,1.090853039440043,-0.9191197192317047,-0.584937510658358,0.09935280627146068,-1.0597550817994716,0.6327940167393934,-0.26286404024615473,1.3291756615688792,-1.082743328643993,-0.2925693546759645,0.5283895907770542,1.7397374477560037,-0.34785501448501577,-1.1370577316276549,-1.116757259654754,-0.18340610752183722,-0.5649610550472014,-0.6529937313804469,1.1892675399002437,-0.036918623731211,0.4873170568674592,0.20282226504473866,-0.09245437072411745,-1.719683555373446],\"xaxis\":\"x10\",\"y\":[-0.7644822413693503,-0.1662780085710339,0.476737776512657,1.4936427419112215,-0.22543083544286424,-1.1528789834282267,-0.9145599054270486,0.6926928442784844,-0.7846538929797743,3.261286499391137,-0.3196878208660037,-0.5580597341869193,-0.07611352643623193,-0.8898316509425989,-0.060257606747032635,-1.3668359664811756,-0.3919686336500909,1.5773911905104674,-3.672083633498876,0.9592072279269754,-0.36728173072607145,-0.06592633986444874,0.5195147403283626,1.4367648709473158,0.588393385748988,0.5010464120146308,1.458197359722872,1.4033408998176609,0.5882306906786982,-0.01330942267740433,1.2204185193567985,-0.10351237409761757,0.9706776034627427,-0.40920892348266236,-0.4866247360048921,0.7447191006627771,1.1753784285764202,-0.5412944791445348,-0.4027018764364136,1.8452248769505646,0.7341576819387037,-0.3051854810248275,-0.455162147955806,-2.0936535067897633,-0.40803538659550626,-0.557237147596639,0.41033157396129283,1.8103444417304027,1.2729115835710718,-0.365619533164616,0.4045133583442117,0.878458817843963,1.1716116786672737,-0.327185943945804,-1.4642372365515886,0.7479040937945937,-0.21232086450058058,0.30441721368609154,-0.17838098345618944,0.048893538909246685,0.5431229851756696,-1.5511865083904635,0.748135895567872,-0.8027523221376446,0.05413105733115739,-0.7552986349452647,1.6925935305078619,2.7731199599523024,0.3976042964293238,0.16069785582660906,1.8582639023881855,-2.8071351426453006,-0.39275983410029053,-1.7962738629907888,-2.8846404770038054,1.1236777466184569,0.12690159251538763,-1.1528007942449985,1.5470584624794035,-1.0005599812456638,-1.0361221173839588,-0.27961960165187155,1.4052368799060402,-0.08589290136502413,-1.0523067336538345,-0.7823991345386283,-1.0782677441716935,0.4118484560269983,-0.1341138205847123,0.88217168473262,-1.0530760579886873,-1.11470542274002,-0.3639578541068347,0.7090787748642308,-0.05043629087056435,-0.6411187072517381,0.11225083761789163,-0.3161044723542811,0.36134256890035965,1.064898007641068],\"yaxis\":\"y10\",\"type\":\"scatter\"},{\"histfunc\":\"count\",\"histnorm\":\"\",\"marker\":{\"color\":\"rgba(50, 171, 96, 1.0)\",\"line\":{\"color\":\"#4D5663\",\"width\":1.3}},\"name\":\"C\",\"nbinsx\":10,\"opacity\":0.8,\"orientation\":\"v\",\"x\":[-0.7644822413693503,-0.1662780085710339,0.476737776512657,1.4936427419112215,-0.22543083544286424,-1.1528789834282267,-0.9145599054270486,0.6926928442784844,-0.7846538929797743,3.261286499391137,-0.3196878208660037,-0.5580597341869193,-0.07611352643623193,-0.8898316509425989,-0.060257606747032635,-1.3668359664811756,-0.3919686336500909,1.5773911905104674,-3.672083633498876,0.9592072279269754,-0.36728173072607145,-0.06592633986444874,0.5195147403283626,1.4367648709473158,0.588393385748988,0.5010464120146308,1.458197359722872,1.4033408998176609,0.5882306906786982,-0.01330942267740433,1.2204185193567985,-0.10351237409761757,0.9706776034627427,-0.40920892348266236,-0.4866247360048921,0.7447191006627771,1.1753784285764202,-0.5412944791445348,-0.4027018764364136,1.8452248769505646,0.7341576819387037,-0.3051854810248275,-0.455162147955806,-2.0936535067897633,-0.40803538659550626,-0.557237147596639,0.41033157396129283,1.8103444417304027,1.2729115835710718,-0.365619533164616,0.4045133583442117,0.878458817843963,1.1716116786672737,-0.327185943945804,-1.4642372365515886,0.7479040937945937,-0.21232086450058058,0.30441721368609154,-0.17838098345618944,0.048893538909246685,0.5431229851756696,-1.5511865083904635,0.748135895567872,-0.8027523221376446,0.05413105733115739,-0.7552986349452647,1.6925935305078619,2.7731199599523024,0.3976042964293238,0.16069785582660906,1.8582639023881855,-2.8071351426453006,-0.39275983410029053,-1.7962738629907888,-2.8846404770038054,1.1236777466184569,0.12690159251538763,-1.1528007942449985,1.5470584624794035,-1.0005599812456638,-1.0361221173839588,-0.27961960165187155,1.4052368799060402,-0.08589290136502413,-1.0523067336538345,-0.7823991345386283,-1.0782677441716935,0.4118484560269983,-0.1341138205847123,0.88217168473262,-1.0530760579886873,-1.11470542274002,-0.3639578541068347,0.7090787748642308,-0.05043629087056435,-0.6411187072517381,0.11225083761789163,-0.3161044723542811,0.36134256890035965,1.064898007641068],\"xaxis\":\"x11\",\"yaxis\":\"y11\",\"type\":\"histogram\"},{\"line\":{\"color\":\"rgba(128, 128, 128, 1.0)\",\"dash\":\"solid\",\"shape\":\"linear\",\"width\":1.3},\"marker\":{\"size\":2,\"symbol\":\"circle\"},\"mode\":\"markers\",\"name\":\"C\",\"text\":\"\",\"x\":[0.2744649834576402,0.30505186749072055,0.9552842712056142,-1.5877356412380441,-1.9829666534938248,0.7281059616081297,-0.24866605176086806,1.6867746489714364,-0.47433186805037475,1.3309093841279975,0.7826651601189504,0.06633303853784404,0.13517470911895196,0.16004480263028875,-0.7547005701421727,-0.5769737391550736,0.7292426011402716,-0.9013427172451478,0.7638875771702128,0.502849277241576,-0.14986686819522207,-0.15154766185481316,1.7835126345197732,0.9250576775717128,-0.8267734506854625,-1.0524333267491204,0.7771261928019507,1.3323368419066017,-0.3902289572716338,-2.165987786738288,1.2471730706066182,-0.7239374669366284,0.5845519354093854,0.8242761695515141,-0.20143211884371268,0.7747345462600389,1.301164749130198,1.7334250664323112,-1.4953144105740297,0.04132449477715334,-1.538077537986922,0.04651870366323089,0.24043595492857256,0.35729055466919657,0.023400722584806403,-0.18712386683292365,-1.3061229116767614,0.04778365721760829,0.3123497007713095,1.8398002507776399,-0.9607476319391202,-0.1666046527207271,0.7242861439665697,0.20125182850242238,0.905483293506512,0.9752938038603591,0.35425824862340866,-0.27586685231942104,0.11976282465338085,3.2243782304736053,2.0931416280461344,-0.9511333098681802,-0.3984245245883266,-0.22451354667979806,1.2338333260992367,1.2579236097499082,0.7002378085384303,-0.3461053591931336,-0.03964551470745989,-0.3068339828473522,-0.49375752698330977,0.4023347882608713,-2.669455923852125,0.3792523857491676,-0.8900751524116217,-1.408124367597601,0.2454881123818337,-1.1621401975664536,-0.9665745540254186,-1.0932691246330395,0.5901274307875186,-2.380602599864061,1.9806669427320818,-0.7185877181308681,-0.3151174946912165,0.6371137482940696,-0.580782043392684,0.6866161863110284,1.7016331319215445,0.17366797709539758,0.80654107694807,1.0748291936624732,1.2247102877434826,1.4856703181119582,0.7572276084962513,0.09586379779127335,0.5749735657711563,0.26297684223876916,1.4596711124358221,0.5638167296469515],\"xaxis\":\"x12\",\"y\":[-0.7644822413693503,-0.1662780085710339,0.476737776512657,1.4936427419112215,-0.22543083544286424,-1.1528789834282267,-0.9145599054270486,0.6926928442784844,-0.7846538929797743,3.261286499391137,-0.3196878208660037,-0.5580597341869193,-0.07611352643623193,-0.8898316509425989,-0.060257606747032635,-1.3668359664811756,-0.3919686336500909,1.5773911905104674,-3.672083633498876,0.9592072279269754,-0.36728173072607145,-0.06592633986444874,0.5195147403283626,1.4367648709473158,0.588393385748988,0.5010464120146308,1.458197359722872,1.4033408998176609,0.5882306906786982,-0.01330942267740433,1.2204185193567985,-0.10351237409761757,0.9706776034627427,-0.40920892348266236,-0.4866247360048921,0.7447191006627771,1.1753784285764202,-0.5412944791445348,-0.4027018764364136,1.8452248769505646,0.7341576819387037,-0.3051854810248275,-0.455162147955806,-2.0936535067897633,-0.40803538659550626,-0.557237147596639,0.41033157396129283,1.8103444417304027,1.2729115835710718,-0.365619533164616,0.4045133583442117,0.878458817843963,1.1716116786672737,-0.327185943945804,-1.4642372365515886,0.7479040937945937,-0.21232086450058058,0.30441721368609154,-0.17838098345618944,0.048893538909246685,0.5431229851756696,-1.5511865083904635,0.748135895567872,-0.8027523221376446,0.05413105733115739,-0.7552986349452647,1.6925935305078619,2.7731199599523024,0.3976042964293238,0.16069785582660906,1.8582639023881855,-2.8071351426453006,-0.39275983410029053,-1.7962738629907888,-2.8846404770038054,1.1236777466184569,0.12690159251538763,-1.1528007942449985,1.5470584624794035,-1.0005599812456638,-1.0361221173839588,-0.27961960165187155,1.4052368799060402,-0.08589290136502413,-1.0523067336538345,-0.7823991345386283,-1.0782677441716935,0.4118484560269983,-0.1341138205847123,0.88217168473262,-1.0530760579886873,-1.11470542274002,-0.3639578541068347,0.7090787748642308,-0.05043629087056435,-0.6411187072517381,0.11225083761789163,-0.3161044723542811,0.36134256890035965,1.064898007641068],\"yaxis\":\"y12\",\"type\":\"scatter\"},{\"line\":{\"color\":\"rgba(128, 128, 128, 1.0)\",\"dash\":\"solid\",\"shape\":\"linear\",\"width\":1.3},\"marker\":{\"size\":2,\"symbol\":\"circle\"},\"mode\":\"markers\",\"name\":\"D\",\"text\":\"\",\"x\":[1.6185342153503897,1.1848362441609444,1.0676265789711767,0.6289578176999444,-0.0731723746557524,-0.10349025747306093,-0.13828150425216726,0.8810902574734345,-0.5542620086053726,1.367655392604224,0.42159233908657434,-1.6600131400907159,-2.321880943758504,-0.14525715490075852,-1.4150329423246357,1.1902193781513097,0.032605182130966644,-1.1068654931550255,-0.4881710870419417,-1.0064654004665394,-1.4861349648044178,0.42126197939457344,0.2033513437481144,0.6780192171590568,2.2695601885039856,-1.0530794893148434,-0.7599582936020849,0.07479649981688027,-0.5004585006618902,-0.7069045792139065,-0.7490649048467005,-0.9573833622535074,0.3184903662704784,0.5232510497782804,-0.292920914056626,0.5526442907323154,0.28927758198705866,-0.9595308675629673,0.6624074725052688,-1.2675470861916667,-1.298518317282184,1.6505714308200703,0.7711743870399246,-0.10350465261086673,-0.9890595965375653,0.09060720967289916,-0.9664272965492815,1.7520110562695306,2.0598160276614736,-1.5398792263792436,0.14913323679684518,0.995048297495277,-0.8178015437731536,-1.1488188276104512,-1.2553879715068992,0.702144807401087,-0.14721370696443659,0.9849700972122788,-1.6159928381795001,2.8876664099211764,1.1792610841498818,1.137534866296284,0.36529841743489505,0.6837628681037843,0.3857655623229011,-1.4277493996033706,1.9387091111049926,-0.8799227856643209,0.17157935956524548,1.2164326922302917,0.004829280486984333,-0.7305142209733924,0.8090950392810067,-2.7632429506224883,0.9238654843844363,0.13909084142958214,0.06932779342792991,0.10316445888209945,-1.4408925516222189,-1.5014989504920706,1.3164328202880184,0.20632089660007252,-0.4332798600838577,0.5100226609573209,-0.5583994791359564,0.4825916998568048,-0.15873725230421742,-2.033833509570888,-0.56776873608412,-1.3983642700361827,-0.17721085755554614,-0.4777864854606395,-0.7084571357637636,0.14725150781339041,0.5160571944585837,2.391248105092854,-0.035925646760449015,0.3993352653098139,0.5041548045378224,-2.4531789724121182],\"xaxis\":\"x13\",\"y\":[0.2744649834576402,0.30505186749072055,0.9552842712056142,-1.5877356412380441,-1.9829666534938248,0.7281059616081297,-0.24866605176086806,1.6867746489714364,-0.47433186805037475,1.3309093841279975,0.7826651601189504,0.06633303853784404,0.13517470911895196,0.16004480263028875,-0.7547005701421727,-0.5769737391550736,0.7292426011402716,-0.9013427172451478,0.7638875771702128,0.502849277241576,-0.14986686819522207,-0.15154766185481316,1.7835126345197732,0.9250576775717128,-0.8267734506854625,-1.0524333267491204,0.7771261928019507,1.3323368419066017,-0.3902289572716338,-2.165987786738288,1.2471730706066182,-0.7239374669366284,0.5845519354093854,0.8242761695515141,-0.20143211884371268,0.7747345462600389,1.301164749130198,1.7334250664323112,-1.4953144105740297,0.04132449477715334,-1.538077537986922,0.04651870366323089,0.24043595492857256,0.35729055466919657,0.023400722584806403,-0.18712386683292365,-1.3061229116767614,0.04778365721760829,0.3123497007713095,1.8398002507776399,-0.9607476319391202,-0.1666046527207271,0.7242861439665697,0.20125182850242238,0.905483293506512,0.9752938038603591,0.35425824862340866,-0.27586685231942104,0.11976282465338085,3.2243782304736053,2.0931416280461344,-0.9511333098681802,-0.3984245245883266,-0.22451354667979806,1.2338333260992367,1.2579236097499082,0.7002378085384303,-0.3461053591931336,-0.03964551470745989,-0.3068339828473522,-0.49375752698330977,0.4023347882608713,-2.669455923852125,0.3792523857491676,-0.8900751524116217,-1.408124367597601,0.2454881123818337,-1.1621401975664536,-0.9665745540254186,-1.0932691246330395,0.5901274307875186,-2.380602599864061,1.9806669427320818,-0.7185877181308681,-0.3151174946912165,0.6371137482940696,-0.580782043392684,0.6866161863110284,1.7016331319215445,0.17366797709539758,0.80654107694807,1.0748291936624732,1.2247102877434826,1.4856703181119582,0.7572276084962513,0.09586379779127335,0.5749735657711563,0.26297684223876916,1.4596711124358221,0.5638167296469515],\"yaxis\":\"y13\",\"type\":\"scatter\"},{\"line\":{\"color\":\"rgba(128, 128, 128, 1.0)\",\"dash\":\"solid\",\"shape\":\"linear\",\"width\":1.3},\"marker\":{\"size\":2,\"symbol\":\"circle\"},\"mode\":\"markers\",\"name\":\"D\",\"text\":\"\",\"x\":[0.24555663252945903,-0.5638129038214954,0.15838017982758465,0.025965138727300052,1.0261693833091186,-1.8117251738858402,1.2824990052649607,0.9227163869758231,-0.32928491407238214,0.3366044693090377,0.16065191024800432,0.8082078977266477,-0.37421382646895285,0.4443612006818534,1.2591791755585575,-0.272577764440088,0.05397960093059676,0.9925302761246275,0.8240201250613609,0.03421864511183541,1.7687225019146364,0.9401432164859415,1.294385534196133,0.6944745568559109,0.4364763563018746,0.19932268382576923,-0.27934197237725056,-1.5844482409973324,0.8691582357782162,0.7968557938544397,1.227966360927478,0.32626552917603463,-0.5268174005804046,0.16189388577452204,0.47272456823309345,0.08452053298458287,-0.8350294005227219,0.8340070844504154,-1.2518433951160093,-0.5889093096430914,-1.5761297357175614,0.7025218259235306,0.9816624927802996,-1.3176098140720194,1.0192498512213706,-0.06384003639023407,-0.6499138608042271,1.779442553151568,0.9457660017435001,1.307783424473417,-0.22117084156221578,1.7868932790407142,-1.0844140449242934,0.35024847218493776,0.884244535300552,0.6614379919438789,-1.3080451104956212,-0.19203618050731222,1.400879527302598,-1.9204936660131982,0.0733528470981566,-2.7096374996506603,1.2516569643880509,1.375309163239427,0.6338916751026681,-0.44015753737571284,-0.47999473391612174,-0.5470196774727828,-0.6448957474033917,-1.2312387282637907,-0.7882654917165696,0.6992660805993933,1.343159728014624,0.006554386717324803,1.1839666350547748,0.7852962090064953,1.090853039440043,-0.9191197192317047,-0.584937510658358,0.09935280627146068,-1.0597550817994716,0.6327940167393934,-0.26286404024615473,1.3291756615688792,-1.082743328643993,-0.2925693546759645,0.5283895907770542,1.7397374477560037,-0.34785501448501577,-1.1370577316276549,-1.116757259654754,-0.18340610752183722,-0.5649610550472014,-0.6529937313804469,1.1892675399002437,-0.036918623731211,0.4873170568674592,0.20282226504473866,-0.09245437072411745,-1.719683555373446],\"xaxis\":\"x14\",\"y\":[0.2744649834576402,0.30505186749072055,0.9552842712056142,-1.5877356412380441,-1.9829666534938248,0.7281059616081297,-0.24866605176086806,1.6867746489714364,-0.47433186805037475,1.3309093841279975,0.7826651601189504,0.06633303853784404,0.13517470911895196,0.16004480263028875,-0.7547005701421727,-0.5769737391550736,0.7292426011402716,-0.9013427172451478,0.7638875771702128,0.502849277241576,-0.14986686819522207,-0.15154766185481316,1.7835126345197732,0.9250576775717128,-0.8267734506854625,-1.0524333267491204,0.7771261928019507,1.3323368419066017,-0.3902289572716338,-2.165987786738288,1.2471730706066182,-0.7239374669366284,0.5845519354093854,0.8242761695515141,-0.20143211884371268,0.7747345462600389,1.301164749130198,1.7334250664323112,-1.4953144105740297,0.04132449477715334,-1.538077537986922,0.04651870366323089,0.24043595492857256,0.35729055466919657,0.023400722584806403,-0.18712386683292365,-1.3061229116767614,0.04778365721760829,0.3123497007713095,1.8398002507776399,-0.9607476319391202,-0.1666046527207271,0.7242861439665697,0.20125182850242238,0.905483293506512,0.9752938038603591,0.35425824862340866,-0.27586685231942104,0.11976282465338085,3.2243782304736053,2.0931416280461344,-0.9511333098681802,-0.3984245245883266,-0.22451354667979806,1.2338333260992367,1.2579236097499082,0.7002378085384303,-0.3461053591931336,-0.03964551470745989,-0.3068339828473522,-0.49375752698330977,0.4023347882608713,-2.669455923852125,0.3792523857491676,-0.8900751524116217,-1.408124367597601,0.2454881123818337,-1.1621401975664536,-0.9665745540254186,-1.0932691246330395,0.5901274307875186,-2.380602599864061,1.9806669427320818,-0.7185877181308681,-0.3151174946912165,0.6371137482940696,-0.580782043392684,0.6866161863110284,1.7016331319215445,0.17366797709539758,0.80654107694807,1.0748291936624732,1.2247102877434826,1.4856703181119582,0.7572276084962513,0.09586379779127335,0.5749735657711563,0.26297684223876916,1.4596711124358221,0.5638167296469515],\"yaxis\":\"y14\",\"type\":\"scatter\"},{\"line\":{\"color\":\"rgba(128, 128, 128, 1.0)\",\"dash\":\"solid\",\"shape\":\"linear\",\"width\":1.3},\"marker\":{\"size\":2,\"symbol\":\"circle\"},\"mode\":\"markers\",\"name\":\"D\",\"text\":\"\",\"x\":[-0.7644822413693503,-0.1662780085710339,0.476737776512657,1.4936427419112215,-0.22543083544286424,-1.1528789834282267,-0.9145599054270486,0.6926928442784844,-0.7846538929797743,3.261286499391137,-0.3196878208660037,-0.5580597341869193,-0.07611352643623193,-0.8898316509425989,-0.060257606747032635,-1.3668359664811756,-0.3919686336500909,1.5773911905104674,-3.672083633498876,0.9592072279269754,-0.36728173072607145,-0.06592633986444874,0.5195147403283626,1.4367648709473158,0.588393385748988,0.5010464120146308,1.458197359722872,1.4033408998176609,0.5882306906786982,-0.01330942267740433,1.2204185193567985,-0.10351237409761757,0.9706776034627427,-0.40920892348266236,-0.4866247360048921,0.7447191006627771,1.1753784285764202,-0.5412944791445348,-0.4027018764364136,1.8452248769505646,0.7341576819387037,-0.3051854810248275,-0.455162147955806,-2.0936535067897633,-0.40803538659550626,-0.557237147596639,0.41033157396129283,1.8103444417304027,1.2729115835710718,-0.365619533164616,0.4045133583442117,0.878458817843963,1.1716116786672737,-0.327185943945804,-1.4642372365515886,0.7479040937945937,-0.21232086450058058,0.30441721368609154,-0.17838098345618944,0.048893538909246685,0.5431229851756696,-1.5511865083904635,0.748135895567872,-0.8027523221376446,0.05413105733115739,-0.7552986349452647,1.6925935305078619,2.7731199599523024,0.3976042964293238,0.16069785582660906,1.8582639023881855,-2.8071351426453006,-0.39275983410029053,-1.7962738629907888,-2.8846404770038054,1.1236777466184569,0.12690159251538763,-1.1528007942449985,1.5470584624794035,-1.0005599812456638,-1.0361221173839588,-0.27961960165187155,1.4052368799060402,-0.08589290136502413,-1.0523067336538345,-0.7823991345386283,-1.0782677441716935,0.4118484560269983,-0.1341138205847123,0.88217168473262,-1.0530760579886873,-1.11470542274002,-0.3639578541068347,0.7090787748642308,-0.05043629087056435,-0.6411187072517381,0.11225083761789163,-0.3161044723542811,0.36134256890035965,1.064898007641068],\"xaxis\":\"x15\",\"y\":[0.2744649834576402,0.30505186749072055,0.9552842712056142,-1.5877356412380441,-1.9829666534938248,0.7281059616081297,-0.24866605176086806,1.6867746489714364,-0.47433186805037475,1.3309093841279975,0.7826651601189504,0.06633303853784404,0.13517470911895196,0.16004480263028875,-0.7547005701421727,-0.5769737391550736,0.7292426011402716,-0.9013427172451478,0.7638875771702128,0.502849277241576,-0.14986686819522207,-0.15154766185481316,1.7835126345197732,0.9250576775717128,-0.8267734506854625,-1.0524333267491204,0.7771261928019507,1.3323368419066017,-0.3902289572716338,-2.165987786738288,1.2471730706066182,-0.7239374669366284,0.5845519354093854,0.8242761695515141,-0.20143211884371268,0.7747345462600389,1.301164749130198,1.7334250664323112,-1.4953144105740297,0.04132449477715334,-1.538077537986922,0.04651870366323089,0.24043595492857256,0.35729055466919657,0.023400722584806403,-0.18712386683292365,-1.3061229116767614,0.04778365721760829,0.3123497007713095,1.8398002507776399,-0.9607476319391202,-0.1666046527207271,0.7242861439665697,0.20125182850242238,0.905483293506512,0.9752938038603591,0.35425824862340866,-0.27586685231942104,0.11976282465338085,3.2243782304736053,2.0931416280461344,-0.9511333098681802,-0.3984245245883266,-0.22451354667979806,1.2338333260992367,1.2579236097499082,0.7002378085384303,-0.3461053591931336,-0.03964551470745989,-0.3068339828473522,-0.49375752698330977,0.4023347882608713,-2.669455923852125,0.3792523857491676,-0.8900751524116217,-1.408124367597601,0.2454881123818337,-1.1621401975664536,-0.9665745540254186,-1.0932691246330395,0.5901274307875186,-2.380602599864061,1.9806669427320818,-0.7185877181308681,-0.3151174946912165,0.6371137482940696,-0.580782043392684,0.6866161863110284,1.7016331319215445,0.17366797709539758,0.80654107694807,1.0748291936624732,1.2247102877434826,1.4856703181119582,0.7572276084962513,0.09586379779127335,0.5749735657711563,0.26297684223876916,1.4596711124358221,0.5638167296469515],\"yaxis\":\"y15\",\"type\":\"scatter\"},{\"histfunc\":\"count\",\"histnorm\":\"\",\"marker\":{\"color\":\"rgba(128, 0, 128, 1.0)\",\"line\":{\"color\":\"#4D5663\",\"width\":1.3}},\"name\":\"D\",\"nbinsx\":10,\"opacity\":0.8,\"orientation\":\"v\",\"x\":[0.2744649834576402,0.30505186749072055,0.9552842712056142,-1.5877356412380441,-1.9829666534938248,0.7281059616081297,-0.24866605176086806,1.6867746489714364,-0.47433186805037475,1.3309093841279975,0.7826651601189504,0.06633303853784404,0.13517470911895196,0.16004480263028875,-0.7547005701421727,-0.5769737391550736,0.7292426011402716,-0.9013427172451478,0.7638875771702128,0.502849277241576,-0.14986686819522207,-0.15154766185481316,1.7835126345197732,0.9250576775717128,-0.8267734506854625,-1.0524333267491204,0.7771261928019507,1.3323368419066017,-0.3902289572716338,-2.165987786738288,1.2471730706066182,-0.7239374669366284,0.5845519354093854,0.8242761695515141,-0.20143211884371268,0.7747345462600389,1.301164749130198,1.7334250664323112,-1.4953144105740297,0.04132449477715334,-1.538077537986922,0.04651870366323089,0.24043595492857256,0.35729055466919657,0.023400722584806403,-0.18712386683292365,-1.3061229116767614,0.04778365721760829,0.3123497007713095,1.8398002507776399,-0.9607476319391202,-0.1666046527207271,0.7242861439665697,0.20125182850242238,0.905483293506512,0.9752938038603591,0.35425824862340866,-0.27586685231942104,0.11976282465338085,3.2243782304736053,2.0931416280461344,-0.9511333098681802,-0.3984245245883266,-0.22451354667979806,1.2338333260992367,1.2579236097499082,0.7002378085384303,-0.3461053591931336,-0.03964551470745989,-0.3068339828473522,-0.49375752698330977,0.4023347882608713,-2.669455923852125,0.3792523857491676,-0.8900751524116217,-1.408124367597601,0.2454881123818337,-1.1621401975664536,-0.9665745540254186,-1.0932691246330395,0.5901274307875186,-2.380602599864061,1.9806669427320818,-0.7185877181308681,-0.3151174946912165,0.6371137482940696,-0.580782043392684,0.6866161863110284,1.7016331319215445,0.17366797709539758,0.80654107694807,1.0748291936624732,1.2247102877434826,1.4856703181119582,0.7572276084962513,0.09586379779127335,0.5749735657711563,0.26297684223876916,1.4596711124358221,0.5638167296469515],\"xaxis\":\"x16\",\"yaxis\":\"y16\",\"type\":\"histogram\"}],                        {\"bargap\":0.02,\"legend\":{\"bgcolor\":\"#F5F6F9\",\"font\":{\"color\":\"#4D5663\"}},\"paper_bgcolor\":\"#F5F6F9\",\"plot_bgcolor\":\"#F5F6F9\",\"showlegend\":false,\"template\":{\"data\":{\"barpolar\":[{\"marker\":{\"line\":{\"color\":\"#E5ECF6\",\"width\":0.5},\"pattern\":{\"fillmode\":\"overlay\",\"size\":10,\"solidity\":0.2}},\"type\":\"barpolar\"}],\"bar\":[{\"error_x\":{\"color\":\"#2a3f5f\"},\"error_y\":{\"color\":\"#2a3f5f\"},\"marker\":{\"line\":{\"color\":\"#E5ECF6\",\"width\":0.5},\"pattern\":{\"fillmode\":\"overlay\",\"size\":10,\"solidity\":0.2}},\"type\":\"bar\"}],\"carpet\":[{\"aaxis\":{\"endlinecolor\":\"#2a3f5f\",\"gridcolor\":\"white\",\"linecolor\":\"white\",\"minorgridcolor\":\"white\",\"startlinecolor\":\"#2a3f5f\"},\"baxis\":{\"endlinecolor\":\"#2a3f5f\",\"gridcolor\":\"white\",\"linecolor\":\"white\",\"minorgridcolor\":\"white\",\"startlinecolor\":\"#2a3f5f\"},\"type\":\"carpet\"}],\"choropleth\":[{\"colorbar\":{\"outlinewidth\":0,\"ticks\":\"\"},\"type\":\"choropleth\"}],\"contourcarpet\":[{\"colorbar\":{\"outlinewidth\":0,\"ticks\":\"\"},\"type\":\"contourcarpet\"}],\"contour\":[{\"colorbar\":{\"outlinewidth\":0,\"ticks\":\"\"},\"colorscale\":[[0.0,\"#0d0887\"],[0.1111111111111111,\"#46039f\"],[0.2222222222222222,\"#7201a8\"],[0.3333333333333333,\"#9c179e\"],[0.4444444444444444,\"#bd3786\"],[0.5555555555555556,\"#d8576b\"],[0.6666666666666666,\"#ed7953\"],[0.7777777777777778,\"#fb9f3a\"],[0.8888888888888888,\"#fdca26\"],[1.0,\"#f0f921\"]],\"type\":\"contour\"}],\"heatmapgl\":[{\"colorbar\":{\"outlinewidth\":0,\"ticks\":\"\"},\"colorscale\":[[0.0,\"#0d0887\"],[0.1111111111111111,\"#46039f\"],[0.2222222222222222,\"#7201a8\"],[0.3333333333333333,\"#9c179e\"],[0.4444444444444444,\"#bd3786\"],[0.5555555555555556,\"#d8576b\"],[0.6666666666666666,\"#ed7953\"],[0.7777777777777778,\"#fb9f3a\"],[0.8888888888888888,\"#fdca26\"],[1.0,\"#f0f921\"]],\"type\":\"heatmapgl\"}],\"heatmap\":[{\"colorbar\":{\"outlinewidth\":0,\"ticks\":\"\"},\"colorscale\":[[0.0,\"#0d0887\"],[0.1111111111111111,\"#46039f\"],[0.2222222222222222,\"#7201a8\"],[0.3333333333333333,\"#9c179e\"],[0.4444444444444444,\"#bd3786\"],[0.5555555555555556,\"#d8576b\"],[0.6666666666666666,\"#ed7953\"],[0.7777777777777778,\"#fb9f3a\"],[0.8888888888888888,\"#fdca26\"],[1.0,\"#f0f921\"]],\"type\":\"heatmap\"}],\"histogram2dcontour\":[{\"colorbar\":{\"outlinewidth\":0,\"ticks\":\"\"},\"colorscale\":[[0.0,\"#0d0887\"],[0.1111111111111111,\"#46039f\"],[0.2222222222222222,\"#7201a8\"],[0.3333333333333333,\"#9c179e\"],[0.4444444444444444,\"#bd3786\"],[0.5555555555555556,\"#d8576b\"],[0.6666666666666666,\"#ed7953\"],[0.7777777777777778,\"#fb9f3a\"],[0.8888888888888888,\"#fdca26\"],[1.0,\"#f0f921\"]],\"type\":\"histogram2dcontour\"}],\"histogram2d\":[{\"colorbar\":{\"outlinewidth\":0,\"ticks\":\"\"},\"colorscale\":[[0.0,\"#0d0887\"],[0.1111111111111111,\"#46039f\"],[0.2222222222222222,\"#7201a8\"],[0.3333333333333333,\"#9c179e\"],[0.4444444444444444,\"#bd3786\"],[0.5555555555555556,\"#d8576b\"],[0.6666666666666666,\"#ed7953\"],[0.7777777777777778,\"#fb9f3a\"],[0.8888888888888888,\"#fdca26\"],[1.0,\"#f0f921\"]],\"type\":\"histogram2d\"}],\"histogram\":[{\"marker\":{\"pattern\":{\"fillmode\":\"overlay\",\"size\":10,\"solidity\":0.2}},\"type\":\"histogram\"}],\"mesh3d\":[{\"colorbar\":{\"outlinewidth\":0,\"ticks\":\"\"},\"type\":\"mesh3d\"}],\"parcoords\":[{\"line\":{\"colorbar\":{\"outlinewidth\":0,\"ticks\":\"\"}},\"type\":\"parcoords\"}],\"pie\":[{\"automargin\":true,\"type\":\"pie\"}],\"scatter3d\":[{\"line\":{\"colorbar\":{\"outlinewidth\":0,\"ticks\":\"\"}},\"marker\":{\"colorbar\":{\"outlinewidth\":0,\"ticks\":\"\"}},\"type\":\"scatter3d\"}],\"scattercarpet\":[{\"marker\":{\"colorbar\":{\"outlinewidth\":0,\"ticks\":\"\"}},\"type\":\"scattercarpet\"}],\"scattergeo\":[{\"marker\":{\"colorbar\":{\"outlinewidth\":0,\"ticks\":\"\"}},\"type\":\"scattergeo\"}],\"scattergl\":[{\"marker\":{\"colorbar\":{\"outlinewidth\":0,\"ticks\":\"\"}},\"type\":\"scattergl\"}],\"scattermapbox\":[{\"marker\":{\"colorbar\":{\"outlinewidth\":0,\"ticks\":\"\"}},\"type\":\"scattermapbox\"}],\"scatterpolargl\":[{\"marker\":{\"colorbar\":{\"outlinewidth\":0,\"ticks\":\"\"}},\"type\":\"scatterpolargl\"}],\"scatterpolar\":[{\"marker\":{\"colorbar\":{\"outlinewidth\":0,\"ticks\":\"\"}},\"type\":\"scatterpolar\"}],\"scatter\":[{\"fillpattern\":{\"fillmode\":\"overlay\",\"size\":10,\"solidity\":0.2},\"type\":\"scatter\"}],\"scatterternary\":[{\"marker\":{\"colorbar\":{\"outlinewidth\":0,\"ticks\":\"\"}},\"type\":\"scatterternary\"}],\"surface\":[{\"colorbar\":{\"outlinewidth\":0,\"ticks\":\"\"},\"colorscale\":[[0.0,\"#0d0887\"],[0.1111111111111111,\"#46039f\"],[0.2222222222222222,\"#7201a8\"],[0.3333333333333333,\"#9c179e\"],[0.4444444444444444,\"#bd3786\"],[0.5555555555555556,\"#d8576b\"],[0.6666666666666666,\"#ed7953\"],[0.7777777777777778,\"#fb9f3a\"],[0.8888888888888888,\"#fdca26\"],[1.0,\"#f0f921\"]],\"type\":\"surface\"}],\"table\":[{\"cells\":{\"fill\":{\"color\":\"#EBF0F8\"},\"line\":{\"color\":\"white\"}},\"header\":{\"fill\":{\"color\":\"#C8D4E3\"},\"line\":{\"color\":\"white\"}},\"type\":\"table\"}]},\"layout\":{\"annotationdefaults\":{\"arrowcolor\":\"#2a3f5f\",\"arrowhead\":0,\"arrowwidth\":1},\"autotypenumbers\":\"strict\",\"coloraxis\":{\"colorbar\":{\"outlinewidth\":0,\"ticks\":\"\"}},\"colorscale\":{\"diverging\":[[0,\"#8e0152\"],[0.1,\"#c51b7d\"],[0.2,\"#de77ae\"],[0.3,\"#f1b6da\"],[0.4,\"#fde0ef\"],[0.5,\"#f7f7f7\"],[0.6,\"#e6f5d0\"],[0.7,\"#b8e186\"],[0.8,\"#7fbc41\"],[0.9,\"#4d9221\"],[1,\"#276419\"]],\"sequential\":[[0.0,\"#0d0887\"],[0.1111111111111111,\"#46039f\"],[0.2222222222222222,\"#7201a8\"],[0.3333333333333333,\"#9c179e\"],[0.4444444444444444,\"#bd3786\"],[0.5555555555555556,\"#d8576b\"],[0.6666666666666666,\"#ed7953\"],[0.7777777777777778,\"#fb9f3a\"],[0.8888888888888888,\"#fdca26\"],[1.0,\"#f0f921\"]],\"sequentialminus\":[[0.0,\"#0d0887\"],[0.1111111111111111,\"#46039f\"],[0.2222222222222222,\"#7201a8\"],[0.3333333333333333,\"#9c179e\"],[0.4444444444444444,\"#bd3786\"],[0.5555555555555556,\"#d8576b\"],[0.6666666666666666,\"#ed7953\"],[0.7777777777777778,\"#fb9f3a\"],[0.8888888888888888,\"#fdca26\"],[1.0,\"#f0f921\"]]},\"colorway\":[\"#636efa\",\"#EF553B\",\"#00cc96\",\"#ab63fa\",\"#FFA15A\",\"#19d3f3\",\"#FF6692\",\"#B6E880\",\"#FF97FF\",\"#FECB52\"],\"font\":{\"color\":\"#2a3f5f\"},\"geo\":{\"bgcolor\":\"white\",\"lakecolor\":\"white\",\"landcolor\":\"#E5ECF6\",\"showlakes\":true,\"showland\":true,\"subunitcolor\":\"white\"},\"hoverlabel\":{\"align\":\"left\"},\"hovermode\":\"closest\",\"mapbox\":{\"style\":\"light\"},\"paper_bgcolor\":\"white\",\"plot_bgcolor\":\"#E5ECF6\",\"polar\":{\"angularaxis\":{\"gridcolor\":\"white\",\"linecolor\":\"white\",\"ticks\":\"\"},\"bgcolor\":\"#E5ECF6\",\"radialaxis\":{\"gridcolor\":\"white\",\"linecolor\":\"white\",\"ticks\":\"\"}},\"scene\":{\"xaxis\":{\"backgroundcolor\":\"#E5ECF6\",\"gridcolor\":\"white\",\"gridwidth\":2,\"linecolor\":\"white\",\"showbackground\":true,\"ticks\":\"\",\"zerolinecolor\":\"white\"},\"yaxis\":{\"backgroundcolor\":\"#E5ECF6\",\"gridcolor\":\"white\",\"gridwidth\":2,\"linecolor\":\"white\",\"showbackground\":true,\"ticks\":\"\",\"zerolinecolor\":\"white\"},\"zaxis\":{\"backgroundcolor\":\"#E5ECF6\",\"gridcolor\":\"white\",\"gridwidth\":2,\"linecolor\":\"white\",\"showbackground\":true,\"ticks\":\"\",\"zerolinecolor\":\"white\"}},\"shapedefaults\":{\"line\":{\"color\":\"#2a3f5f\"}},\"ternary\":{\"aaxis\":{\"gridcolor\":\"white\",\"linecolor\":\"white\",\"ticks\":\"\"},\"baxis\":{\"gridcolor\":\"white\",\"linecolor\":\"white\",\"ticks\":\"\"},\"bgcolor\":\"#E5ECF6\",\"caxis\":{\"gridcolor\":\"white\",\"linecolor\":\"white\",\"ticks\":\"\"}},\"title\":{\"x\":0.05},\"xaxis\":{\"automargin\":true,\"gridcolor\":\"white\",\"linecolor\":\"white\",\"ticks\":\"\",\"title\":{\"standoff\":15},\"zerolinecolor\":\"white\",\"zerolinewidth\":2},\"yaxis\":{\"automargin\":true,\"gridcolor\":\"white\",\"linecolor\":\"white\",\"ticks\":\"\",\"title\":{\"standoff\":15},\"zerolinecolor\":\"white\",\"zerolinewidth\":2}}},\"title\":{\"font\":{\"color\":\"#4D5663\"}},\"xaxis\":{\"anchor\":\"y\",\"domain\":[0.0,0.2125],\"gridcolor\":\"#E1E5ED\",\"showgrid\":false,\"tickfont\":{\"color\":\"#4D5663\"},\"title\":{\"font\":{\"color\":\"#4D5663\"},\"text\":\"\"},\"zerolinecolor\":\"#E1E5ED\"},\"yaxis\":{\"anchor\":\"x\",\"domain\":[0.8025,1.0],\"gridcolor\":\"#E1E5ED\",\"showgrid\":false,\"tickfont\":{\"color\":\"#4D5663\"},\"title\":{\"font\":{\"color\":\"#4D5663\"},\"text\":\"\"},\"zerolinecolor\":\"#E1E5ED\"},\"xaxis2\":{\"anchor\":\"y2\",\"domain\":[0.2625,0.475],\"gridcolor\":\"#E1E5ED\",\"showgrid\":false,\"tickfont\":{\"color\":\"#4D5663\"},\"title\":{\"font\":{\"color\":\"#4D5663\"},\"text\":\"\"},\"zerolinecolor\":\"#E1E5ED\"},\"yaxis2\":{\"anchor\":\"x2\",\"domain\":[0.8025,1.0],\"gridcolor\":\"#E1E5ED\",\"showgrid\":false,\"tickfont\":{\"color\":\"#4D5663\"},\"title\":{\"font\":{\"color\":\"#4D5663\"},\"text\":\"\"},\"zerolinecolor\":\"#E1E5ED\"},\"xaxis3\":{\"anchor\":\"y3\",\"domain\":[0.525,0.7375],\"gridcolor\":\"#E1E5ED\",\"showgrid\":false,\"tickfont\":{\"color\":\"#4D5663\"},\"title\":{\"font\":{\"color\":\"#4D5663\"},\"text\":\"\"},\"zerolinecolor\":\"#E1E5ED\"},\"yaxis3\":{\"anchor\":\"x3\",\"domain\":[0.8025,1.0],\"gridcolor\":\"#E1E5ED\",\"showgrid\":false,\"tickfont\":{\"color\":\"#4D5663\"},\"title\":{\"font\":{\"color\":\"#4D5663\"},\"text\":\"\"},\"zerolinecolor\":\"#E1E5ED\"},\"xaxis4\":{\"anchor\":\"y4\",\"domain\":[0.7875,1.0],\"gridcolor\":\"#E1E5ED\",\"showgrid\":false,\"tickfont\":{\"color\":\"#4D5663\"},\"title\":{\"font\":{\"color\":\"#4D5663\"},\"text\":\"\"},\"zerolinecolor\":\"#E1E5ED\"},\"yaxis4\":{\"anchor\":\"x4\",\"domain\":[0.8025,1.0],\"gridcolor\":\"#E1E5ED\",\"showgrid\":false,\"tickfont\":{\"color\":\"#4D5663\"},\"title\":{\"font\":{\"color\":\"#4D5663\"},\"text\":\"\"},\"zerolinecolor\":\"#E1E5ED\"},\"xaxis5\":{\"anchor\":\"y5\",\"domain\":[0.0,0.2125],\"gridcolor\":\"#E1E5ED\",\"showgrid\":false,\"tickfont\":{\"color\":\"#4D5663\"},\"title\":{\"font\":{\"color\":\"#4D5663\"},\"text\":\"\"},\"zerolinecolor\":\"#E1E5ED\"},\"yaxis5\":{\"anchor\":\"x5\",\"domain\":[0.535,0.7325],\"gridcolor\":\"#E1E5ED\",\"showgrid\":false,\"tickfont\":{\"color\":\"#4D5663\"},\"title\":{\"font\":{\"color\":\"#4D5663\"},\"text\":\"\"},\"zerolinecolor\":\"#E1E5ED\"},\"xaxis6\":{\"anchor\":\"y6\",\"domain\":[0.2625,0.475],\"gridcolor\":\"#E1E5ED\",\"showgrid\":false,\"tickfont\":{\"color\":\"#4D5663\"},\"title\":{\"font\":{\"color\":\"#4D5663\"},\"text\":\"\"},\"zerolinecolor\":\"#E1E5ED\"},\"yaxis6\":{\"anchor\":\"x6\",\"domain\":[0.535,0.7325],\"gridcolor\":\"#E1E5ED\",\"showgrid\":false,\"tickfont\":{\"color\":\"#4D5663\"},\"title\":{\"font\":{\"color\":\"#4D5663\"},\"text\":\"\"},\"zerolinecolor\":\"#E1E5ED\"},\"xaxis7\":{\"anchor\":\"y7\",\"domain\":[0.525,0.7375],\"gridcolor\":\"#E1E5ED\",\"showgrid\":false,\"tickfont\":{\"color\":\"#4D5663\"},\"title\":{\"font\":{\"color\":\"#4D5663\"},\"text\":\"\"},\"zerolinecolor\":\"#E1E5ED\"},\"yaxis7\":{\"anchor\":\"x7\",\"domain\":[0.535,0.7325],\"gridcolor\":\"#E1E5ED\",\"showgrid\":false,\"tickfont\":{\"color\":\"#4D5663\"},\"title\":{\"font\":{\"color\":\"#4D5663\"},\"text\":\"\"},\"zerolinecolor\":\"#E1E5ED\"},\"xaxis8\":{\"anchor\":\"y8\",\"domain\":[0.7875,1.0],\"gridcolor\":\"#E1E5ED\",\"showgrid\":false,\"tickfont\":{\"color\":\"#4D5663\"},\"title\":{\"font\":{\"color\":\"#4D5663\"},\"text\":\"\"},\"zerolinecolor\":\"#E1E5ED\"},\"yaxis8\":{\"anchor\":\"x8\",\"domain\":[0.535,0.7325],\"gridcolor\":\"#E1E5ED\",\"showgrid\":false,\"tickfont\":{\"color\":\"#4D5663\"},\"title\":{\"font\":{\"color\":\"#4D5663\"},\"text\":\"\"},\"zerolinecolor\":\"#E1E5ED\"},\"xaxis9\":{\"anchor\":\"y9\",\"domain\":[0.0,0.2125],\"gridcolor\":\"#E1E5ED\",\"showgrid\":false,\"tickfont\":{\"color\":\"#4D5663\"},\"title\":{\"font\":{\"color\":\"#4D5663\"},\"text\":\"\"},\"zerolinecolor\":\"#E1E5ED\"},\"yaxis9\":{\"anchor\":\"x9\",\"domain\":[0.2675,0.465],\"gridcolor\":\"#E1E5ED\",\"showgrid\":false,\"tickfont\":{\"color\":\"#4D5663\"},\"title\":{\"font\":{\"color\":\"#4D5663\"},\"text\":\"\"},\"zerolinecolor\":\"#E1E5ED\"},\"xaxis10\":{\"anchor\":\"y10\",\"domain\":[0.2625,0.475],\"gridcolor\":\"#E1E5ED\",\"showgrid\":false,\"tickfont\":{\"color\":\"#4D5663\"},\"title\":{\"font\":{\"color\":\"#4D5663\"},\"text\":\"\"},\"zerolinecolor\":\"#E1E5ED\"},\"yaxis10\":{\"anchor\":\"x10\",\"domain\":[0.2675,0.465],\"gridcolor\":\"#E1E5ED\",\"showgrid\":false,\"tickfont\":{\"color\":\"#4D5663\"},\"title\":{\"font\":{\"color\":\"#4D5663\"},\"text\":\"\"},\"zerolinecolor\":\"#E1E5ED\"},\"xaxis11\":{\"anchor\":\"y11\",\"domain\":[0.525,0.7375],\"gridcolor\":\"#E1E5ED\",\"showgrid\":false,\"tickfont\":{\"color\":\"#4D5663\"},\"title\":{\"font\":{\"color\":\"#4D5663\"},\"text\":\"\"},\"zerolinecolor\":\"#E1E5ED\"},\"yaxis11\":{\"anchor\":\"x11\",\"domain\":[0.2675,0.465],\"gridcolor\":\"#E1E5ED\",\"showgrid\":false,\"tickfont\":{\"color\":\"#4D5663\"},\"title\":{\"font\":{\"color\":\"#4D5663\"},\"text\":\"\"},\"zerolinecolor\":\"#E1E5ED\"},\"xaxis12\":{\"anchor\":\"y12\",\"domain\":[0.7875,1.0],\"gridcolor\":\"#E1E5ED\",\"showgrid\":false,\"tickfont\":{\"color\":\"#4D5663\"},\"title\":{\"font\":{\"color\":\"#4D5663\"},\"text\":\"\"},\"zerolinecolor\":\"#E1E5ED\"},\"yaxis12\":{\"anchor\":\"x12\",\"domain\":[0.2675,0.465],\"gridcolor\":\"#E1E5ED\",\"showgrid\":false,\"tickfont\":{\"color\":\"#4D5663\"},\"title\":{\"font\":{\"color\":\"#4D5663\"},\"text\":\"\"},\"zerolinecolor\":\"#E1E5ED\"},\"xaxis13\":{\"anchor\":\"y13\",\"domain\":[0.0,0.2125],\"gridcolor\":\"#E1E5ED\",\"showgrid\":false,\"tickfont\":{\"color\":\"#4D5663\"},\"title\":{\"font\":{\"color\":\"#4D5663\"},\"text\":\"\"},\"zerolinecolor\":\"#E1E5ED\"},\"yaxis13\":{\"anchor\":\"x13\",\"domain\":[0.0,0.1975],\"gridcolor\":\"#E1E5ED\",\"showgrid\":false,\"tickfont\":{\"color\":\"#4D5663\"},\"title\":{\"font\":{\"color\":\"#4D5663\"},\"text\":\"\"},\"zerolinecolor\":\"#E1E5ED\"},\"xaxis14\":{\"anchor\":\"y14\",\"domain\":[0.2625,0.475],\"gridcolor\":\"#E1E5ED\",\"showgrid\":false,\"tickfont\":{\"color\":\"#4D5663\"},\"title\":{\"font\":{\"color\":\"#4D5663\"},\"text\":\"\"},\"zerolinecolor\":\"#E1E5ED\"},\"yaxis14\":{\"anchor\":\"x14\",\"domain\":[0.0,0.1975],\"gridcolor\":\"#E1E5ED\",\"showgrid\":false,\"tickfont\":{\"color\":\"#4D5663\"},\"title\":{\"font\":{\"color\":\"#4D5663\"},\"text\":\"\"},\"zerolinecolor\":\"#E1E5ED\"},\"xaxis15\":{\"anchor\":\"y15\",\"domain\":[0.525,0.7375],\"gridcolor\":\"#E1E5ED\",\"showgrid\":false,\"tickfont\":{\"color\":\"#4D5663\"},\"title\":{\"font\":{\"color\":\"#4D5663\"},\"text\":\"\"},\"zerolinecolor\":\"#E1E5ED\"},\"yaxis15\":{\"anchor\":\"x15\",\"domain\":[0.0,0.1975],\"gridcolor\":\"#E1E5ED\",\"showgrid\":false,\"tickfont\":{\"color\":\"#4D5663\"},\"title\":{\"font\":{\"color\":\"#4D5663\"},\"text\":\"\"},\"zerolinecolor\":\"#E1E5ED\"},\"xaxis16\":{\"anchor\":\"y16\",\"domain\":[0.7875,1.0],\"gridcolor\":\"#E1E5ED\",\"showgrid\":false,\"tickfont\":{\"color\":\"#4D5663\"},\"title\":{\"font\":{\"color\":\"#4D5663\"},\"text\":\"\"},\"zerolinecolor\":\"#E1E5ED\"},\"yaxis16\":{\"anchor\":\"x16\",\"domain\":[0.0,0.1975],\"gridcolor\":\"#E1E5ED\",\"showgrid\":false,\"tickfont\":{\"color\":\"#4D5663\"},\"title\":{\"font\":{\"color\":\"#4D5663\"},\"text\":\"\"},\"zerolinecolor\":\"#E1E5ED\"}},                        {\"showLink\": true, \"linkText\": \"Export to plot.ly\", \"plotlyServerURL\": \"https://plot.ly\", \"responsive\": true}                    ).then(function(){\n",
       "                            \n",
       "var gd = document.getElementById('9e271875-e77d-42f9-a220-33137bea8977');\n",
       "var x = new MutationObserver(function (mutations, observer) {{\n",
       "        var display = window.getComputedStyle(gd).display;\n",
       "        if (!display || display === 'none') {{\n",
       "            console.log([gd, 'removed!']);\n",
       "            Plotly.purge(gd);\n",
       "            observer.disconnect();\n",
       "        }}\n",
       "}});\n",
       "\n",
       "// Listen for the removal of the full notebook cells\n",
       "var notebookContainer = gd.closest('#notebook-container');\n",
       "if (notebookContainer) {{\n",
       "    x.observe(notebookContainer, {childList: true});\n",
       "}}\n",
       "\n",
       "// Listen for the clearing of the current output cell\n",
       "var outputEl = gd.closest('.output');\n",
       "if (outputEl) {{\n",
       "    x.observe(outputEl, {childList: true});\n",
       "}}\n",
       "\n",
       "                        })                };                });            </script>        </div>"
      ]
     },
     "metadata": {},
     "output_type": "display_data"
    }
   ],
   "source": [
    "df.scatter_matrix()"
   ]
  },
  {
   "cell_type": "code",
   "execution_count": null,
   "id": "febc8fe6",
   "metadata": {},
   "outputs": [],
   "source": []
  },
  {
   "cell_type": "code",
   "execution_count": null,
   "id": "c2e77e45",
   "metadata": {},
   "outputs": [],
   "source": []
  },
  {
   "cell_type": "code",
   "execution_count": null,
   "id": "2aa0b8fc",
   "metadata": {},
   "outputs": [],
   "source": []
  }
 ],
 "metadata": {
  "kernelspec": {
   "display_name": "Python 3 (ipykernel)",
   "language": "python",
   "name": "python3"
  },
  "language_info": {
   "codemirror_mode": {
    "name": "ipython",
    "version": 3
   },
   "file_extension": ".py",
   "mimetype": "text/x-python",
   "name": "python",
   "nbconvert_exporter": "python",
   "pygments_lexer": "ipython3",
   "version": "3.11.5"
  }
 },
 "nbformat": 4,
 "nbformat_minor": 5
}
