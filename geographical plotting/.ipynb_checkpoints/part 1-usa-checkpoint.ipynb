{
 "cells": [
  {
   "cell_type": "code",
   "execution_count": 17,
   "id": "7a725c19",
   "metadata": {},
   "outputs": [
    {
     "data": {
      "text/html": [
       "        <script type=\"text/javascript\">\n",
       "        window.PlotlyConfig = {MathJaxConfig: 'local'};\n",
       "        if (window.MathJax && window.MathJax.Hub && window.MathJax.Hub.Config) {window.MathJax.Hub.Config({SVG: {font: \"STIX-Web\"}});}\n",
       "        if (typeof require !== 'undefined') {\n",
       "        require.undef(\"plotly\");\n",
       "        requirejs.config({\n",
       "            paths: {\n",
       "                'plotly': ['https://cdn.plot.ly/plotly-2.12.1.min']\n",
       "            }\n",
       "        });\n",
       "        require(['plotly'], function(Plotly) {\n",
       "            window._Plotly = Plotly;\n",
       "        });\n",
       "        }\n",
       "        </script>\n",
       "        "
      ]
     },
     "metadata": {},
     "output_type": "display_data"
    }
   ],
   "source": [
    "import numpy as np\n",
    "import pandas as pd\n",
    "import chart_studio.plotly as py\n",
    "from plotly.offline import download_plotlyjs,init_notebook_mode,plot,iplot\n",
    "init_notebook_mode(connected=True)\n",
    "import plotly.graph_objs as go"
   ]
  },
  {
   "cell_type": "code",
   "execution_count": 18,
   "id": "8b4ee48a",
   "metadata": {},
   "outputs": [],
   "source": [
    "data=dict(type='choropleth',\n",
    "          locations=['AZ','CA','NY'],\n",
    "          locationmode='USA-states',\n",
    "          colorscale='Green',\n",
    "          text=['text 1','text 2','text 3'],\n",
    "          z=[1.0,2.0,3.0],\n",
    "          colorbar={'title':'Colorbar Title goes here'}\n",
    "         )"
   ]
  },
  {
   "cell_type": "code",
   "execution_count": 19,
   "id": "ef544d78",
   "metadata": {},
   "outputs": [
    {
     "data": {
      "text/plain": [
       "{'type': 'choropleth',\n",
       " 'locations': ['AZ', 'CA', 'NY'],\n",
       " 'locationmode': 'USA-states',\n",
       " 'colorscale': 'Green',\n",
       " 'text': ['text 1', 'text 2', 'text 3'],\n",
       " 'z': [1.0, 2.0, 3.0],\n",
       " 'colorbar': {'title': 'Colorbar Title goes here'}}"
      ]
     },
     "execution_count": 19,
     "metadata": {},
     "output_type": "execute_result"
    }
   ],
   "source": [
    "data"
   ]
  },
  {
   "cell_type": "code",
   "execution_count": 20,
   "id": "4888f802",
   "metadata": {},
   "outputs": [],
   "source": [
    "layout=dict(geo={'scope':'usa'})"
   ]
  },
  {
   "cell_type": "code",
   "execution_count": 21,
   "id": "9c1a29df",
   "metadata": {},
   "outputs": [
    {
     "ename": "ValueError",
     "evalue": "\n    Invalid value of type 'builtins.str' received for the 'colorscale' property of choropleth\n        Received value: 'Green'\n\n    The 'colorscale' property is a colorscale and may be\n    specified as:\n      - A list of colors that will be spaced evenly to create the colorscale.\n        Many predefined colorscale lists are included in the sequential, diverging,\n        and cyclical modules in the plotly.colors package.\n      - A list of 2-element lists where the first element is the\n        normalized color level value (starting at 0 and ending at 1),\n        and the second item is a valid color string.\n        (e.g. [[0, 'green'], [0.5, 'red'], [1.0, 'rgb(0, 0, 255)']])\n      - One of the following named colorscales:\n            ['aggrnyl', 'agsunset', 'algae', 'amp', 'armyrose', 'balance',\n             'blackbody', 'bluered', 'blues', 'blugrn', 'bluyl', 'brbg',\n             'brwnyl', 'bugn', 'bupu', 'burg', 'burgyl', 'cividis', 'curl',\n             'darkmint', 'deep', 'delta', 'dense', 'earth', 'edge', 'electric',\n             'emrld', 'fall', 'geyser', 'gnbu', 'gray', 'greens', 'greys',\n             'haline', 'hot', 'hsv', 'ice', 'icefire', 'inferno', 'jet',\n             'magenta', 'magma', 'matter', 'mint', 'mrybm', 'mygbm', 'oranges',\n             'orrd', 'oryel', 'oxy', 'peach', 'phase', 'picnic', 'pinkyl',\n             'piyg', 'plasma', 'plotly3', 'portland', 'prgn', 'pubu', 'pubugn',\n             'puor', 'purd', 'purp', 'purples', 'purpor', 'rainbow', 'rdbu',\n             'rdgy', 'rdpu', 'rdylbu', 'rdylgn', 'redor', 'reds', 'solar',\n             'spectral', 'speed', 'sunset', 'sunsetdark', 'teal', 'tealgrn',\n             'tealrose', 'tempo', 'temps', 'thermal', 'tropic', 'turbid',\n             'turbo', 'twilight', 'viridis', 'ylgn', 'ylgnbu', 'ylorbr',\n             'ylorrd'].\n        Appending '_r' to a named colorscale reverses it.\n",
     "output_type": "error",
     "traceback": [
      "\u001b[1;31m---------------------------------------------------------------------------\u001b[0m",
      "\u001b[1;31mValueError\u001b[0m                                Traceback (most recent call last)",
      "Cell \u001b[1;32mIn[21], line 1\u001b[0m\n\u001b[1;32m----> 1\u001b[0m choromap\u001b[38;5;241m=\u001b[39m go\u001b[38;5;241m.\u001b[39mFigure(data\u001b[38;5;241m=\u001b[39m[data],layout\u001b[38;5;241m=\u001b[39mlayout)\n",
      "File \u001b[1;32m~\\anaconda3\\Lib\\site-packages\\plotly\\graph_objs\\_figure.py:594\u001b[0m, in \u001b[0;36mFigure.__init__\u001b[1;34m(self, data, layout, frames, skip_invalid, **kwargs)\u001b[0m\n\u001b[0;32m      5\u001b[0m \u001b[38;5;28;01mdef\u001b[39;00m \u001b[38;5;21m__init__\u001b[39m(\n\u001b[0;32m      6\u001b[0m     \u001b[38;5;28mself\u001b[39m, data\u001b[38;5;241m=\u001b[39m\u001b[38;5;28;01mNone\u001b[39;00m, layout\u001b[38;5;241m=\u001b[39m\u001b[38;5;28;01mNone\u001b[39;00m, frames\u001b[38;5;241m=\u001b[39m\u001b[38;5;28;01mNone\u001b[39;00m, skip_invalid\u001b[38;5;241m=\u001b[39m\u001b[38;5;28;01mFalse\u001b[39;00m, \u001b[38;5;241m*\u001b[39m\u001b[38;5;241m*\u001b[39mkwargs\n\u001b[0;32m      7\u001b[0m ):\n\u001b[0;32m      8\u001b[0m \u001b[38;5;250m    \u001b[39m\u001b[38;5;124;03m\"\"\"\u001b[39;00m\n\u001b[0;32m      9\u001b[0m \u001b[38;5;124;03m    Create a new :class:Figure instance\u001b[39;00m\n\u001b[0;32m     10\u001b[0m \n\u001b[1;32m   (...)\u001b[0m\n\u001b[0;32m    592\u001b[0m \u001b[38;5;124;03m        is invalid AND skip_invalid is False\u001b[39;00m\n\u001b[0;32m    593\u001b[0m \u001b[38;5;124;03m    \"\"\"\u001b[39;00m\n\u001b[1;32m--> 594\u001b[0m     \u001b[38;5;28msuper\u001b[39m(Figure, \u001b[38;5;28mself\u001b[39m)\u001b[38;5;241m.\u001b[39m\u001b[38;5;21m__init__\u001b[39m(data, layout, frames, skip_invalid, \u001b[38;5;241m*\u001b[39m\u001b[38;5;241m*\u001b[39mkwargs)\n",
      "File \u001b[1;32m~\\anaconda3\\Lib\\site-packages\\plotly\\basedatatypes.py:514\u001b[0m, in \u001b[0;36mBaseFigure.__init__\u001b[1;34m(self, data, layout_plotly, frames, skip_invalid, **kwargs)\u001b[0m\n\u001b[0;32m    511\u001b[0m \u001b[38;5;28mself\u001b[39m\u001b[38;5;241m.\u001b[39m_data_validator \u001b[38;5;241m=\u001b[39m DataValidator(set_uid\u001b[38;5;241m=\u001b[39m\u001b[38;5;28mself\u001b[39m\u001b[38;5;241m.\u001b[39m_set_trace_uid)\n\u001b[0;32m    513\u001b[0m \u001b[38;5;66;03m# ### Import traces ###\u001b[39;00m\n\u001b[1;32m--> 514\u001b[0m data \u001b[38;5;241m=\u001b[39m \u001b[38;5;28mself\u001b[39m\u001b[38;5;241m.\u001b[39m_data_validator\u001b[38;5;241m.\u001b[39mvalidate_coerce(\n\u001b[0;32m    515\u001b[0m     data, skip_invalid\u001b[38;5;241m=\u001b[39mskip_invalid, _validate\u001b[38;5;241m=\u001b[39m\u001b[38;5;28mself\u001b[39m\u001b[38;5;241m.\u001b[39m_validate\n\u001b[0;32m    516\u001b[0m )\n\u001b[0;32m    518\u001b[0m \u001b[38;5;66;03m# ### Save tuple of trace objects ###\u001b[39;00m\n\u001b[0;32m    519\u001b[0m \u001b[38;5;28mself\u001b[39m\u001b[38;5;241m.\u001b[39m_data_objs \u001b[38;5;241m=\u001b[39m data\n",
      "File \u001b[1;32m~\\anaconda3\\Lib\\site-packages\\_plotly_utils\\basevalidators.py:2668\u001b[0m, in \u001b[0;36mBaseDataValidator.validate_coerce\u001b[1;34m(self, v, skip_invalid, _validate)\u001b[0m\n\u001b[0;32m   2666\u001b[0m             invalid_els\u001b[38;5;241m.\u001b[39mappend(v_el)\n\u001b[0;32m   2667\u001b[0m     \u001b[38;5;28;01melse\u001b[39;00m:\n\u001b[1;32m-> 2668\u001b[0m         trace \u001b[38;5;241m=\u001b[39m \u001b[38;5;28mself\u001b[39m\u001b[38;5;241m.\u001b[39mget_trace_class(trace_type)(\n\u001b[0;32m   2669\u001b[0m             skip_invalid\u001b[38;5;241m=\u001b[39mskip_invalid, _validate\u001b[38;5;241m=\u001b[39m_validate, \u001b[38;5;241m*\u001b[39m\u001b[38;5;241m*\u001b[39mv_copy\n\u001b[0;32m   2670\u001b[0m         )\n\u001b[0;32m   2671\u001b[0m         res\u001b[38;5;241m.\u001b[39mappend(trace)\n\u001b[0;32m   2672\u001b[0m \u001b[38;5;28;01melse\u001b[39;00m:\n",
      "File \u001b[1;32m~\\anaconda3\\Lib\\site-packages\\plotly\\graph_objs\\_choropleth.py:2082\u001b[0m, in \u001b[0;36mChoropleth.__init__\u001b[1;34m(self, arg, autocolorscale, coloraxis, colorbar, colorscale, customdata, customdatasrc, featureidkey, geo, geojson, hoverinfo, hoverinfosrc, hoverlabel, hovertemplate, hovertemplatesrc, hovertext, hovertextsrc, ids, idssrc, legendgroup, legendgrouptitle, legendrank, locationmode, locations, locationssrc, marker, meta, metasrc, name, reversescale, selected, selectedpoints, showlegend, showscale, stream, text, textsrc, uid, uirevision, unselected, visible, z, zauto, zmax, zmid, zmin, zsrc, **kwargs)\u001b[0m\n\u001b[0;32m   2080\u001b[0m _v \u001b[38;5;241m=\u001b[39m colorscale \u001b[38;5;28;01mif\u001b[39;00m colorscale \u001b[38;5;129;01mis\u001b[39;00m \u001b[38;5;129;01mnot\u001b[39;00m \u001b[38;5;28;01mNone\u001b[39;00m \u001b[38;5;28;01melse\u001b[39;00m _v\n\u001b[0;32m   2081\u001b[0m \u001b[38;5;28;01mif\u001b[39;00m _v \u001b[38;5;129;01mis\u001b[39;00m \u001b[38;5;129;01mnot\u001b[39;00m \u001b[38;5;28;01mNone\u001b[39;00m:\n\u001b[1;32m-> 2082\u001b[0m     \u001b[38;5;28mself\u001b[39m[\u001b[38;5;124m\"\u001b[39m\u001b[38;5;124mcolorscale\u001b[39m\u001b[38;5;124m\"\u001b[39m] \u001b[38;5;241m=\u001b[39m _v\n\u001b[0;32m   2083\u001b[0m _v \u001b[38;5;241m=\u001b[39m arg\u001b[38;5;241m.\u001b[39mpop(\u001b[38;5;124m\"\u001b[39m\u001b[38;5;124mcustomdata\u001b[39m\u001b[38;5;124m\"\u001b[39m, \u001b[38;5;28;01mNone\u001b[39;00m)\n\u001b[0;32m   2084\u001b[0m _v \u001b[38;5;241m=\u001b[39m customdata \u001b[38;5;28;01mif\u001b[39;00m customdata \u001b[38;5;129;01mis\u001b[39;00m \u001b[38;5;129;01mnot\u001b[39;00m \u001b[38;5;28;01mNone\u001b[39;00m \u001b[38;5;28;01melse\u001b[39;00m _v\n",
      "File \u001b[1;32m~\\anaconda3\\Lib\\site-packages\\plotly\\basedatatypes.py:4859\u001b[0m, in \u001b[0;36mBasePlotlyType.__setitem__\u001b[1;34m(self, prop, value)\u001b[0m\n\u001b[0;32m   4855\u001b[0m         \u001b[38;5;28mself\u001b[39m\u001b[38;5;241m.\u001b[39m_set_array_prop(prop, value)\n\u001b[0;32m   4857\u001b[0m     \u001b[38;5;66;03m# ### Handle simple property ###\u001b[39;00m\n\u001b[0;32m   4858\u001b[0m     \u001b[38;5;28;01melse\u001b[39;00m:\n\u001b[1;32m-> 4859\u001b[0m         \u001b[38;5;28mself\u001b[39m\u001b[38;5;241m.\u001b[39m_set_prop(prop, value)\n\u001b[0;32m   4860\u001b[0m \u001b[38;5;28;01melse\u001b[39;00m:\n\u001b[0;32m   4861\u001b[0m     \u001b[38;5;66;03m# Make sure properties dict is initialized\u001b[39;00m\n\u001b[0;32m   4862\u001b[0m     \u001b[38;5;28mself\u001b[39m\u001b[38;5;241m.\u001b[39m_init_props()\n",
      "File \u001b[1;32m~\\anaconda3\\Lib\\site-packages\\plotly\\basedatatypes.py:5203\u001b[0m, in \u001b[0;36mBasePlotlyType._set_prop\u001b[1;34m(self, prop, val)\u001b[0m\n\u001b[0;32m   5201\u001b[0m         \u001b[38;5;28;01mreturn\u001b[39;00m\n\u001b[0;32m   5202\u001b[0m     \u001b[38;5;28;01melse\u001b[39;00m:\n\u001b[1;32m-> 5203\u001b[0m         \u001b[38;5;28;01mraise\u001b[39;00m err\n\u001b[0;32m   5205\u001b[0m \u001b[38;5;66;03m# val is None\u001b[39;00m\n\u001b[0;32m   5206\u001b[0m \u001b[38;5;66;03m# -----------\u001b[39;00m\n\u001b[0;32m   5207\u001b[0m \u001b[38;5;28;01mif\u001b[39;00m val \u001b[38;5;129;01mis\u001b[39;00m \u001b[38;5;28;01mNone\u001b[39;00m:\n\u001b[0;32m   5208\u001b[0m     \u001b[38;5;66;03m# Check if we should send null update\u001b[39;00m\n",
      "File \u001b[1;32m~\\anaconda3\\Lib\\site-packages\\plotly\\basedatatypes.py:5198\u001b[0m, in \u001b[0;36mBasePlotlyType._set_prop\u001b[1;34m(self, prop, val)\u001b[0m\n\u001b[0;32m   5195\u001b[0m validator \u001b[38;5;241m=\u001b[39m \u001b[38;5;28mself\u001b[39m\u001b[38;5;241m.\u001b[39m_get_validator(prop)\n\u001b[0;32m   5197\u001b[0m \u001b[38;5;28;01mtry\u001b[39;00m:\n\u001b[1;32m-> 5198\u001b[0m     val \u001b[38;5;241m=\u001b[39m validator\u001b[38;5;241m.\u001b[39mvalidate_coerce(val)\n\u001b[0;32m   5199\u001b[0m \u001b[38;5;28;01mexcept\u001b[39;00m \u001b[38;5;167;01mValueError\u001b[39;00m \u001b[38;5;28;01mas\u001b[39;00m err:\n\u001b[0;32m   5200\u001b[0m     \u001b[38;5;28;01mif\u001b[39;00m \u001b[38;5;28mself\u001b[39m\u001b[38;5;241m.\u001b[39m_skip_invalid:\n",
      "File \u001b[1;32m~\\anaconda3\\Lib\\site-packages\\_plotly_utils\\basevalidators.py:1643\u001b[0m, in \u001b[0;36mColorscaleValidator.validate_coerce\u001b[1;34m(self, v)\u001b[0m\n\u001b[0;32m   1638\u001b[0m             v \u001b[38;5;241m=\u001b[39m [\n\u001b[0;32m   1639\u001b[0m                 [e[\u001b[38;5;241m0\u001b[39m], ColorValidator\u001b[38;5;241m.\u001b[39mperform_validate_coerce(e[\u001b[38;5;241m1\u001b[39m])] \u001b[38;5;28;01mfor\u001b[39;00m e \u001b[38;5;129;01min\u001b[39;00m v\n\u001b[0;32m   1640\u001b[0m             ]\n\u001b[0;32m   1642\u001b[0m \u001b[38;5;28;01mif\u001b[39;00m \u001b[38;5;129;01mnot\u001b[39;00m v_valid:\n\u001b[1;32m-> 1643\u001b[0m     \u001b[38;5;28mself\u001b[39m\u001b[38;5;241m.\u001b[39mraise_invalid_val(v)\n\u001b[0;32m   1645\u001b[0m \u001b[38;5;28;01mreturn\u001b[39;00m v\n",
      "File \u001b[1;32m~\\anaconda3\\Lib\\site-packages\\_plotly_utils\\basevalidators.py:288\u001b[0m, in \u001b[0;36mBaseValidator.raise_invalid_val\u001b[1;34m(self, v, inds)\u001b[0m\n\u001b[0;32m    285\u001b[0m             \u001b[38;5;28;01mfor\u001b[39;00m i \u001b[38;5;129;01min\u001b[39;00m inds:\n\u001b[0;32m    286\u001b[0m                 name \u001b[38;5;241m+\u001b[39m\u001b[38;5;241m=\u001b[39m \u001b[38;5;124m\"\u001b[39m\u001b[38;5;124m[\u001b[39m\u001b[38;5;124m\"\u001b[39m \u001b[38;5;241m+\u001b[39m \u001b[38;5;28mstr\u001b[39m(i) \u001b[38;5;241m+\u001b[39m \u001b[38;5;124m\"\u001b[39m\u001b[38;5;124m]\u001b[39m\u001b[38;5;124m\"\u001b[39m\n\u001b[1;32m--> 288\u001b[0m         \u001b[38;5;28;01mraise\u001b[39;00m \u001b[38;5;167;01mValueError\u001b[39;00m(\n\u001b[0;32m    289\u001b[0m \u001b[38;5;250m            \u001b[39m\u001b[38;5;124;03m\"\"\"\u001b[39;00m\n\u001b[0;32m    290\u001b[0m \u001b[38;5;124;03m    Invalid value of type {typ} received for the '{name}' property of {pname}\u001b[39;00m\n\u001b[0;32m    291\u001b[0m \u001b[38;5;124;03m        Received value: {v}\u001b[39;00m\n\u001b[0;32m    292\u001b[0m \n\u001b[0;32m    293\u001b[0m \u001b[38;5;124;03m{valid_clr_desc}\"\"\"\u001b[39;00m\u001b[38;5;241m.\u001b[39mformat(\n\u001b[0;32m    294\u001b[0m                 name\u001b[38;5;241m=\u001b[39mname,\n\u001b[0;32m    295\u001b[0m                 pname\u001b[38;5;241m=\u001b[39m\u001b[38;5;28mself\u001b[39m\u001b[38;5;241m.\u001b[39mparent_name,\n\u001b[0;32m    296\u001b[0m                 typ\u001b[38;5;241m=\u001b[39mtype_str(v),\n\u001b[0;32m    297\u001b[0m                 v\u001b[38;5;241m=\u001b[39m\u001b[38;5;28mrepr\u001b[39m(v),\n\u001b[0;32m    298\u001b[0m                 valid_clr_desc\u001b[38;5;241m=\u001b[39m\u001b[38;5;28mself\u001b[39m\u001b[38;5;241m.\u001b[39mdescription(),\n\u001b[0;32m    299\u001b[0m             )\n\u001b[0;32m    300\u001b[0m         )\n",
      "\u001b[1;31mValueError\u001b[0m: \n    Invalid value of type 'builtins.str' received for the 'colorscale' property of choropleth\n        Received value: 'Green'\n\n    The 'colorscale' property is a colorscale and may be\n    specified as:\n      - A list of colors that will be spaced evenly to create the colorscale.\n        Many predefined colorscale lists are included in the sequential, diverging,\n        and cyclical modules in the plotly.colors package.\n      - A list of 2-element lists where the first element is the\n        normalized color level value (starting at 0 and ending at 1),\n        and the second item is a valid color string.\n        (e.g. [[0, 'green'], [0.5, 'red'], [1.0, 'rgb(0, 0, 255)']])\n      - One of the following named colorscales:\n            ['aggrnyl', 'agsunset', 'algae', 'amp', 'armyrose', 'balance',\n             'blackbody', 'bluered', 'blues', 'blugrn', 'bluyl', 'brbg',\n             'brwnyl', 'bugn', 'bupu', 'burg', 'burgyl', 'cividis', 'curl',\n             'darkmint', 'deep', 'delta', 'dense', 'earth', 'edge', 'electric',\n             'emrld', 'fall', 'geyser', 'gnbu', 'gray', 'greens', 'greys',\n             'haline', 'hot', 'hsv', 'ice', 'icefire', 'inferno', 'jet',\n             'magenta', 'magma', 'matter', 'mint', 'mrybm', 'mygbm', 'oranges',\n             'orrd', 'oryel', 'oxy', 'peach', 'phase', 'picnic', 'pinkyl',\n             'piyg', 'plasma', 'plotly3', 'portland', 'prgn', 'pubu', 'pubugn',\n             'puor', 'purd', 'purp', 'purples', 'purpor', 'rainbow', 'rdbu',\n             'rdgy', 'rdpu', 'rdylbu', 'rdylgn', 'redor', 'reds', 'solar',\n             'spectral', 'speed', 'sunset', 'sunsetdark', 'teal', 'tealgrn',\n             'tealrose', 'tempo', 'temps', 'thermal', 'tropic', 'turbid',\n             'turbo', 'twilight', 'viridis', 'ylgn', 'ylgnbu', 'ylorbr',\n             'ylorrd'].\n        Appending '_r' to a named colorscale reverses it.\n"
     ]
    }
   ],
   "source": [
    "choromap= go.Figure(data=[data],layout=layout)"
   ]
  },
  {
   "cell_type": "code",
   "execution_count": null,
   "id": "2eabef37",
   "metadata": {},
   "outputs": [],
   "source": [
    "choromap"
   ]
  }
 ],
 "metadata": {
  "kernelspec": {
   "display_name": "Python 3 (ipykernel)",
   "language": "python",
   "name": "python3"
  },
  "language_info": {
   "codemirror_mode": {
    "name": "ipython",
    "version": 3
   },
   "file_extension": ".py",
   "mimetype": "text/x-python",
   "name": "python",
   "nbconvert_exporter": "python",
   "pygments_lexer": "ipython3",
   "version": "3.11.5"
  }
 },
 "nbformat": 4,
 "nbformat_minor": 5
}
